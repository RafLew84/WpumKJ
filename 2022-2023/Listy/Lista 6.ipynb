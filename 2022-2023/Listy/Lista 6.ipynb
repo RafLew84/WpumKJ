{
 "cells": [
  {
   "cell_type": "markdown",
   "id": "07c6e9a8-08e4-493e-a208-d27dcb53e470",
   "metadata": {
    "tags": []
   },
   "source": [
    "# Lista 6\n",
    "\n",
    "## Zad 1 - **2 pkt**\n",
    "\n",
    "Wykorzystując **[{JSON} Placeholder](https://jsonplaceholder.typicode.com)** (endpoint **users**) i bibliotekę `Retrofit2` napisz program wyświetlający listę wszystkich użytkowników\n",
    "\n",
    "```verbatim\n",
    "format:\n",
    "<id> <name> <userName> <email>\n",
    "<id> <name> <userName> <email>\n",
    "...\n",
    "```\n",
    "\n",
    "## Zad 2 - **4 pkt**\n",
    "\n",
    "Wykorzystując bibliotekę `Retrofit2` przygotuj aplikację wyświetlającą listę wszystkich krajów wraz z odpowiadającą stolicą. api - **[restcountries API](https://restcountries.com)**\n",
    "\n",
    "```verbatim\n",
    "format:\n",
    "<kraj> <stolica>\n",
    "<kraj> <stolica>\n",
    "...\n",
    "```\n",
    "\n",
    "## Zad 3 - **4 pkt**\n",
    "\n",
    "Wykorzystując **[restcountries API](https://restcountries.com)** oraz bibliotekę `Retrofit2` napisz funkcję pobierającą jako parametr nazwę kraju, wyświetlającą listę wszystkich graniczących krajów\n",
    "\n",
    "```verbatim\n",
    "input:\n",
    "getBorderingCountries(\"peru\")\n",
    "\n",
    "output:\n",
    "BOL\n",
    "BRA\n",
    "CHL\n",
    "COL\n",
    "ECU\n",
    "```\n",
    "\n",
    "### Ponieważ **[restcountries API](https://restcountries.com)** zostanie wyłączone wraz z końcem maja, poniżej znajduje się zadanie 4, które można wykonać **zamiast** zadań 2 i 3.\n",
    "\n",
    "\n",
    "## Zad 4 - **8 pkt**\n",
    "\n",
    "Wykorzystując **[Nobel Prize API](https://www.nobelprize.org/about/developer-zone-2/)** oraz bibliotekę `Retrofit2` napisz funkcję pobierającą jako parametr nazwę kategorii, wyświetlającą listę zawierającą wszystkie nagrody z tej kategorii w latach 2000 - 2020.\n",
    "\n",
    "Do uzyskania listy wszystkich nagród nobla o zadanej kategorii wykorzystamy endpoint **/nobelPrizes**, bazowym adresem url jest https://api.nobelprize.org/ - pełne zapytanie będzie wyglądać następująco https://api.nobelprize.org/2.1/nobelPrizes?limit=30&sort=desc&nobelPrizeYear=2000&yearTo=2021&nobelPrizeCategory=eco&format=json\n",
    "\n",
    "```verbatim\n",
    "input:\n",
    "getLaureates(\"physics\")\n",
    "\n",
    "output:\n",
    "<year> - <full_name1> (<motivation1>), <full_name2> (<motivation2>), <...>\n",
    "<year> - <full_name1> (<motivation1>), <full_name2> (<motivation2>), <...>\n",
    "<year> - <full_name1> (<motivation1>), <full_name2> (<motivation2>), <...>\n",
    "...\n",
    "```"
   ]
  },
  {
   "cell_type": "markdown",
   "id": "352d11d6-3363-47f1-95b0-f9102bf823e0",
   "metadata": {},
   "source": [
    "### Oceny\n",
    "\n",
    "|**ocena**|**punkty**|\n",
    "|:---:|:---:|\n",
    "|3,0 | 6 pkt|\n",
    "|3,5 | 7 pkt|\n",
    "|4,0 | 8 pkt|\n",
    "|4,5 | 9 pkt|\n",
    "|5,0 | 10 pkt|"
   ]
  }
 ],
 "metadata": {
  "kernelspec": {
   "display_name": "Kotlin",
   "language": "kotlin",
   "name": "kotlin"
  },
  "language_info": {
   "codemirror_mode": "text/x-kotlin",
   "file_extension": ".kt",
   "mimetype": "text/x-kotlin",
   "name": "kotlin",
   "nbconvert_exporter": "",
   "pygments_lexer": "kotlin",
   "version": "1.6.20-dev-6372"
  }
 },
 "nbformat": 4,
 "nbformat_minor": 5
}
