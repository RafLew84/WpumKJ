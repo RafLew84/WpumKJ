{
 "cells": [
  {
   "cell_type": "markdown",
   "id": "3b4b8a3d-11f2-4a1a-af4b-d46d5fa99f85",
   "metadata": {},
   "source": [
    "# Lista 7\n",
    "\n",
    "**Rozwiąż zadania korzystając z `java.util.concurent.*` lub `kotlin.coroutines`**\n",
    "\n",
    "### Oceny\n",
    "\n",
    "|**ocena**|**punkty**|\n",
    "|:---:|:---:|\n",
    "|3,0 | 6 pkt|\n",
    "|3,5 | 7 pkt|\n",
    "|4,0 | 8 pkt|\n",
    "|4,5 | 9 pkt|\n",
    "|5,0 | 10 pkt|\n",
    "\n",
    "## Zad 1 - **3 pkt**\n",
    "\n",
    "Napisz funkcję `factorial(n: Int): BigInteger` obliczający silnię z zadanej liczby. Wykorzystaj klasę `BigInteger` do przechowywania wyniku. Program wykonaj dzięląc zadanie na `N` podzadań.\n",
    "\n",
    "## Zad 2 - **3 pkt**\n",
    "\n",
    "Napisz program obliczający liczbę Eulera ze wzoru $$\\sum_{n=0}^{+\\infty} \\frac{1}{n!}$$\n",
    "\n",
    "```verbatim\n",
    "dla n = 17\n",
    "\n",
    "e = 2.7182818284590450705160477958486\n",
    "    050611789796352510326989007350040\n",
    "    652250425048433140558879743442457\n",
    "    41730039454062711\n",
    "```\n",
    "\n",
    "Możesz wykorzystać klasy `BigDecimal`, `MathContext`, `RoundingMode`.\n",
    "\n",
    "## Zad 3 - **4 pkt**\n",
    "Napisz program (wielowątkowo) znajdujący liczbę całkowitą z zakresu 1 - 100000 o największej liczbie dzielników.\n",
    "\n",
    "output:\n",
    "```java\n",
    "liczba = 83160\n",
    "liczba dzielników = 128\n",
    "```"
   ]
  },
  {
   "cell_type": "code",
   "execution_count": null,
   "id": "bc7f168e-514d-4414-8082-958f6bb054eb",
   "metadata": {},
   "outputs": [],
   "source": []
  }
 ],
 "metadata": {
  "kernelspec": {
   "display_name": "Kotlin",
   "language": "kotlin",
   "name": "kotlin"
  },
  "language_info": {
   "codemirror_mode": "text/x-kotlin",
   "file_extension": ".kt",
   "mimetype": "text/x-kotlin",
   "name": "kotlin",
   "nbconvert_exporter": "",
   "pygments_lexer": "kotlin",
   "version": "1.6.20-dev-6372"
  }
 },
 "nbformat": 4,
 "nbformat_minor": 5
}
