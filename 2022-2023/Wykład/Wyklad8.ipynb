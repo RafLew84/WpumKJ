{
 "cells": [
  {
   "cell_type": "markdown",
   "id": "f9dc9cb3-ad56-4a96-9403-138460fca37a",
   "metadata": {},
   "source": [
    "# Wykład 8 - Wzorce Projektowe - Singleton, Delegaty (Kotlin)"
   ]
  },
  {
   "cell_type": "markdown",
   "id": "4c0e74fd-cf2b-4ceb-8fd6-277a06012d22",
   "metadata": {},
   "source": [
    "*\"Wzorzec opisuje problem, który powtarza się wielokrotnie w danym środowisku, oraz podaje istotę jego rozwiązania w taki sposób, aby można było je zastosować miliony razy bez potrzeby powtarzania tej samej pracy\"*\n",
    "**Christopher Alexander \"A pattern language\", 1977**"
   ]
  },
  {
   "cell_type": "markdown",
   "id": "bec10aca-493a-412b-a72a-43e3a956e2d3",
   "metadata": {},
   "source": [
    "![](https://brasil.cel.agh.edu.pl/~09sbfraczek/images/wzorce/design.jpg)"
   ]
  },
  {
   "cell_type": "markdown",
   "id": "37b71789-8498-4eeb-bed5-05f79147797e",
   "metadata": {},
   "source": [
    "- Kreacyjne (konstrukcyjne, creational design patterns) - opisują elastyczne sposoby tworzenia obiektów uniezależniają system od sposobu tworzenia obekt\n",
    "    - Metoda Wytwórcza (Factory Method) \n",
    "    - **Budowniczy (Builder)**\n",
    "    - **Fabryka (Factory)**\n",
    "    - Prototyp (Prototype)\n",
    "    - **Singleton**\n",
    "\n",
    "- Strukturalne (structural design patterns) - opisują sposob konstrukcji struktur obiektowych korzystają z dziedziczenia i delegacji\n",
    "    - **Adapter**\n",
    "    - Dekorator (Decorator)\n",
    "    - Fasada (Facade)\n",
    "    - Kompozyt (Composite)\n",
    "    - Most (Bridge)\n",
    "    - Pełnomocnik (Proxy)\n",
    "    - Pyłek (Flyweight)\n",
    "\n",
    "- Behawioralne (czynnościowe, behavioral design patterns) - opisują algorytmy i przydział odpowiedzialności charakteryzują sposob interakcji między obiektami\n",
    "    - Interpreter\n",
    "    - Metoda Szablonowa (Template Method)\n",
    "    - Iterator\n",
    "    - Łańcuch Zobowiązań (Chain of Responsibility)\n",
    "    - **Mediator**\n",
    "    - **Obserwator (Observer)**\n",
    "    - Odwiedziający (Visitor)\n",
    "    - Pamiątka (Memento)\n",
    "    - Polecenie (Command)\n",
    "    - Stan (State)\n",
    "    - Strategia (Strategy)\n"
   ]
  },
  {
   "cell_type": "markdown",
   "id": "0c7195da-64eb-4c13-9565-be96f3743e9f",
   "metadata": {},
   "source": [
    "## Singleton"
   ]
  },
  {
   "cell_type": "markdown",
   "id": "56fbe90a-5795-4cf6-b94e-b484c4783168",
   "metadata": {},
   "source": [
    "- Zapewnia że klasa ma tylko jedną instancję\n",
    "- Zapewnia globalny dostęp do tej instancji"
   ]
  },
  {
   "cell_type": "markdown",
   "id": "b84496de-4e2e-4d8e-bc39-5de7445d4f7e",
   "metadata": {},
   "source": [
    "![](https://refactoring.guru/images/patterns/diagrams/singleton/structure-en-2x.png)"
   ]
  },
  {
   "cell_type": "code",
   "execution_count": 30,
   "id": "4eafc5be-c7e9-4c88-b001-8d90c74f2f44",
   "metadata": {},
   "outputs": [],
   "source": [
    "// java\n",
    "// leniwa inicjalizacja\n",
    "\n",
    "final public class Singleton {\n",
    "\n",
    "    private static Singleton instance = null;\n",
    "\n",
    "    private Singleton() {}\n",
    "    \n",
    "    private int counter = 0;\n",
    "\n",
    "    public static Singleton getInstance() {\n",
    "        if (instance == null)\n",
    "            instance = new Singleton();\n",
    "        return instance;\n",
    "    }\n",
    "    \n",
    "    public int getCounter(){\n",
    "        return counter;\n",
    "    }\n",
    "    \n",
    "    public void increaseCounter(){\n",
    "        counter++;\n",
    "    }\n",
    "    \n",
    "    public void resetCounter(){\n",
    "        counter = 0;\n",
    "    }\n",
    "}"
   ]
  },
  {
   "cell_type": "code",
   "execution_count": 31,
   "id": "f3a2af33-b826-4f9b-afbe-47d83a26862b",
   "metadata": {},
   "outputs": [
    {
     "ename": "CompilationException",
     "evalue": "",
     "output_type": "error",
     "traceback": [
      "\u001b[1m\u001b[30m|   \u001b[1m\u001b[30mSingleton singleton = \u001b[0m\u001b[1m\u001b[30m\u001b[41mnew Singleton()\u001b[0m\u001b[1m\u001b[30m;\u001b[0m",
      "\u001b[1m\u001b[31mSingleton() has private access in Singleton\u001b[0m",
      ""
     ]
    }
   ],
   "source": [
    "Singleton singleton = new Singleton();"
   ]
  },
  {
   "cell_type": "code",
   "execution_count": 32,
   "id": "4823cf85-e352-407b-b7ed-60720117484a",
   "metadata": {},
   "outputs": [],
   "source": [
    "Singleton singleton = Singleton.getInstance();"
   ]
  },
  {
   "cell_type": "code",
   "execution_count": 33,
   "id": "377343ec-7d5b-4075-ac24-38cda478a426",
   "metadata": {},
   "outputs": [
    {
     "data": {
      "text/plain": [
       "0"
      ]
     },
     "execution_count": 33,
     "metadata": {},
     "output_type": "execute_result"
    }
   ],
   "source": [
    "singleton.getCounter()"
   ]
  },
  {
   "cell_type": "code",
   "execution_count": 34,
   "id": "877d179c-76d1-4b81-805a-43f5ecd84e1a",
   "metadata": {},
   "outputs": [],
   "source": [
    "Singleton second = Singleton.getInstance();"
   ]
  },
  {
   "cell_type": "code",
   "execution_count": 35,
   "id": "cfcd88a5-2f85-4459-b79e-b7a68fb0b7fa",
   "metadata": {},
   "outputs": [
    {
     "data": {
      "text/plain": [
       "1"
      ]
     },
     "execution_count": 35,
     "metadata": {},
     "output_type": "execute_result"
    }
   ],
   "source": [
    "second.increaseCounter();\n",
    "singleton.getCounter();"
   ]
  },
  {
   "cell_type": "code",
   "execution_count": 36,
   "id": "f7669df5-ce41-4590-a777-eb72d8e48082",
   "metadata": {},
   "outputs": [
    {
     "data": {
      "text/plain": [
       "0"
      ]
     },
     "execution_count": 36,
     "metadata": {},
     "output_type": "execute_result"
    }
   ],
   "source": [
    "second.resetCounter();\n",
    "singleton.getCounter();"
   ]
  },
  {
   "cell_type": "code",
   "execution_count": 4,
   "id": "2e487c89-772a-4b64-942a-405921c844b9",
   "metadata": {},
   "outputs": [],
   "source": [
    "// kotlin\n",
    "val lazyInt: Int by lazy {0} // leniwa inicjalizacja"
   ]
  },
  {
   "cell_type": "code",
   "execution_count": 5,
   "id": "d61a2791-0db4-4720-8bbd-31fd272f9027",
   "metadata": {},
   "outputs": [
    {
     "data": {
      "text/plain": [
       "0"
      ]
     },
     "execution_count": 5,
     "metadata": {},
     "output_type": "execute_result"
    }
   ],
   "source": [
    "lazyInt"
   ]
  },
  {
   "cell_type": "code",
   "execution_count": 6,
   "id": "2a4afd3c-25b9-4004-9910-8eb2b7116f51",
   "metadata": {},
   "outputs": [],
   "source": [
    "object Singleton { // singleton\n",
    "    var counter = 0\n",
    "    \n",
    "    fun increaseCounter(){counter++}\n",
    "    fun resetCounter(){counter = 0}\n",
    "}"
   ]
  },
  {
   "cell_type": "code",
   "execution_count": 8,
   "id": "2a0925db-df02-4f43-b1e9-6b4a082344dd",
   "metadata": {},
   "outputs": [
    {
     "data": {
      "text/plain": [
       "0"
      ]
     },
     "execution_count": 8,
     "metadata": {},
     "output_type": "execute_result"
    }
   ],
   "source": [
    "Singleton.counter"
   ]
  },
  {
   "cell_type": "code",
   "execution_count": 9,
   "id": "9bc06fa6-33ac-4a36-b728-7911ca32741e",
   "metadata": {},
   "outputs": [
    {
     "data": {
      "text/plain": [
       "1"
      ]
     },
     "execution_count": 9,
     "metadata": {},
     "output_type": "execute_result"
    }
   ],
   "source": [
    "Singleton.increaseCounter()\n",
    "Singleton.counter"
   ]
  },
  {
   "cell_type": "markdown",
   "id": "c6e9d84a-0606-4f74-be95-05fd028d6d98",
   "metadata": {},
   "source": [
    "W języku Kotlin wzorzec `Singleton` jest używany jako zamiennik dla składowych i pól statycznych (`static`), które nie istnieją w tym języku programowania. `Singleton` tworzy się po prostu deklarując obiekt (`object`). W przeciwieństwie do klasy, obiekt nie może mieć konstruktora, ale bloki `init` są dozwolone, jeśli potrzebny jest kod inicjalizacyjny."
   ]
  },
  {
   "cell_type": "markdown",
   "id": "7e389ea6-fa55-4899-8d7d-4c78a2a1f7a3",
   "metadata": {},
   "source": [
    "Obiekty towarzyszące (`companion object`) to obiekty `Singleton`, których właściwości i funkcje są powiązane z klasą, ale nie z instancją tej klasy."
   ]
  },
  {
   "cell_type": "markdown",
   "id": "01362cec-b170-4253-8106-9355d71a06d5",
   "metadata": {},
   "source": [
    "## `Double-checked Singleton`"
   ]
  },
  {
   "cell_type": "code",
   "execution_count": null,
   "id": "040f1b66-850f-49c8-8018-424540e32f27",
   "metadata": {},
   "outputs": [],
   "source": [
    "public class Singleton {\n",
    "\n",
    "    private static volatile Singleton instance = null;\n",
    "\n",
    "    private Singleton() {}\n",
    "\n",
    "    public static Singleton getInstance() {\n",
    "        if (instance == null) {\n",
    "            synchronized(Singleton.class) {\n",
    "                if (instance == null) {\n",
    "                    instance = new Singleton();\n",
    "                }\n",
    "            }\n",
    "        }\n",
    "\n",
    "        return instance;\n",
    "    }\n",
    "}"
   ]
  },
  {
   "cell_type": "markdown",
   "id": "9b68a556-a012-40e5-aceb-63224efe3a30",
   "metadata": {},
   "source": [
    "## Delegaty"
   ]
  },
  {
   "cell_type": "code",
   "execution_count": 35,
   "id": "03da739b-a967-4307-a675-eb7e7bdd2d38",
   "metadata": {},
   "outputs": [],
   "source": [
    "import kotlin.reflect.KProperty\n",
    "\n",
    "class A {\n",
    "    var s: String by Delegate()\n",
    "}\n",
    "\n",
    "class Delegate {\n",
    "    operator fun getValue(thisRef: Any?, property: KProperty<*>): String {\n",
    "        return \"$thisRef, thank you for delegating '${property.name}' to me!\"\n",
    "    }\n",
    "\n",
    "    operator fun setValue(thisRef: Any?, property: KProperty<*>, value: String) {\n",
    "        println(\"$value has been assigned to '${property.name}' in $thisRef.\")\n",
    "    }\n",
    "    \n",
    "    // KProperty - reprezentuje właściwość (val lub var)\n",
    "}"
   ]
  },
  {
   "cell_type": "code",
   "execution_count": 36,
   "id": "ea51c76f-d7a5-412b-bc69-51692ef96472",
   "metadata": {},
   "outputs": [
    {
     "name": "stdout",
     "output_type": "stream",
     "text": [
      "Line_34$A@5b5e42df, thank you for delegating 's' to me!\n"
     ]
    }
   ],
   "source": [
    "val a = A()\n",
    "println(a.s)"
   ]
  },
  {
   "cell_type": "code",
   "execution_count": 37,
   "id": "8fbbb33a-1064-4ff6-b3ab-46e7364fe6c8",
   "metadata": {},
   "outputs": [
    {
     "name": "stdout",
     "output_type": "stream",
     "text": [
      "Line_34$A@5b5e42df\n"
     ]
    }
   ],
   "source": [
    "println(a)"
   ]
  },
  {
   "cell_type": "code",
   "execution_count": 38,
   "id": "572b01da-1dd7-4a3f-a211-bbf3a7505632",
   "metadata": {},
   "outputs": [
    {
     "name": "stdout",
     "output_type": "stream",
     "text": [
      "ZMIANA has been assigned to 's' in Line_34$A@5b5e42df.\n"
     ]
    }
   ],
   "source": [
    "a.s = \"ZMIANA\""
   ]
  },
  {
   "cell_type": "code",
   "execution_count": 39,
   "id": "a5fad796-f447-417a-9273-1e94ea8feeda",
   "metadata": {},
   "outputs": [
    {
     "name": "stdout",
     "output_type": "stream",
     "text": [
      "Line_38$B@682edc3b, thank you for delegating 'w' to me!\n"
     ]
    }
   ],
   "source": [
    "class B {\n",
    "    var w: String by Delegate()\n",
    "}\n",
    "\n",
    "val b = B()\n",
    "println(b.w)"
   ]
  },
  {
   "cell_type": "code",
   "execution_count": 40,
   "id": "ecc33206-b7ad-4491-b115-ff139568396d",
   "metadata": {},
   "outputs": [
    {
     "name": "stdout",
     "output_type": "stream",
     "text": [
      "Line_38$B@682edc3b\n"
     ]
    }
   ],
   "source": [
    "println(b)"
   ]
  },
  {
   "cell_type": "code",
   "execution_count": 42,
   "id": "886a6b0a-2a99-4487-8553-d27ea247fe3e",
   "metadata": {},
   "outputs": [
    {
     "name": "stdout",
     "output_type": "stream",
     "text": [
      "computed!\n",
      "Hello\n",
      "Hello\n"
     ]
    }
   ],
   "source": []
  },
  {
   "cell_type": "markdown",
   "id": "0ad1742e-2e96-4126-be94-2b898d6e3ffa",
   "metadata": {},
   "source": [
    "## Przeciążanie operatorów"
   ]
  },
  {
   "cell_type": "code",
   "execution_count": 47,
   "id": "9a46917b-1093-440d-94a5-3822d3089e52",
   "metadata": {},
   "outputs": [
    {
     "name": "stdout",
     "output_type": "stream",
     "text": [
      "Point(x=-10, y=-20)\n"
     ]
    }
   ],
   "source": [
    "data class Point(val x: Int, val y: Int)\n",
    "\n",
    "operator fun Point.unaryMinus() = Point(-x, -y)\n",
    "\n",
    "val point = Point(10, 20)\n",
    "\n",
    "\n",
    "println(-point)\n"
   ]
  },
  {
   "cell_type": "code",
   "execution_count": 49,
   "id": "16ffc81f-b2fb-48ee-ae6f-11e270b0fc9e",
   "metadata": {},
   "outputs": [
    {
     "name": "stderr",
     "output_type": "stream",
     "text": [
      "Line_48.jupyter-kts (1:1 - 9) 'operator' modifier is inapplicable on this function: receiver must be a supertype of the return type"
     ]
    }
   ],
   "source": [
    "operator fun Point.inc() = Point(x + 1, y + 1)"
   ]
  },
  {
   "cell_type": "code",
   "execution_count": 57,
   "id": "06d9c03d-9d4b-42d5-8da0-66176e6eb7fd",
   "metadata": {},
   "outputs": [],
   "source": [
    "data class Point2(val x: Int, val y: Int){\n",
    "    operator fun inc() = Point2(x + 1, y + 1)\n",
    "    operator fun dec() = Point2(x - 1, y - 1)\n",
    "}"
   ]
  },
  {
   "cell_type": "code",
   "execution_count": 58,
   "id": "2b5723c5-5766-48ff-87ae-8032f03f756f",
   "metadata": {},
   "outputs": [
    {
     "name": "stdout",
     "output_type": "stream",
     "text": [
      "Point2(x=2, y=2)\n"
     ]
    }
   ],
   "source": [
    "var point2 = Point2(1, 1)\n",
    "point2++\n",
    "println(point2)"
   ]
  },
  {
   "cell_type": "code",
   "execution_count": 59,
   "id": "d7ae9039-3f65-4d9b-88db-eebaaab75c25",
   "metadata": {},
   "outputs": [
    {
     "name": "stdout",
     "output_type": "stream",
     "text": [
      "Point2(x=1, y=1)\n"
     ]
    }
   ],
   "source": [
    "point2--\n",
    "println(point2)"
   ]
  },
  {
   "cell_type": "code",
   "execution_count": 96,
   "id": "74d39a8a-4af5-423d-b200-27cdbb9e9874",
   "metadata": {},
   "outputs": [],
   "source": [
    "operator fun Point.plus(other: Point) = Point(x + other.x, y + other.y)"
   ]
  },
  {
   "cell_type": "code",
   "execution_count": 95,
   "id": "3bab7f96-42ba-44a7-a8f1-b29ffeaf66c6",
   "metadata": {},
   "outputs": [
    {
     "name": "stdout",
     "output_type": "stream",
     "text": [
      "Point(x=3, y=10)\n"
     ]
    }
   ],
   "source": [
    "val p1 = Point(1, 1)\n",
    "val p2 = Point(2, 9)\n",
    "val p3 = p1 + p2\n",
    "println(p3)"
   ]
  },
  {
   "cell_type": "markdown",
   "id": "69155cb9-cdca-4f25-afaf-19248d23b484",
   "metadata": {},
   "source": [
    "## Delegat z obserwatorem"
   ]
  },
  {
   "cell_type": "code",
   "execution_count": 69,
   "id": "75baa450-bd3b-4ab0-a0e6-0012211217db",
   "metadata": {},
   "outputs": [
    {
     "name": "stdout",
     "output_type": "stream",
     "text": [
      "<no name>\n",
      "<no name> -> first\n",
      "first -> second\n",
      "second -> third\n"
     ]
    }
   ],
   "source": [
    "import kotlin.properties.Delegates\n",
    "\n",
    "class User {\n",
    "    var name: String by Delegates.observable(\"<no name>\") {\n",
    "        prop, old, new -> println(\"$old -> $new\")\n",
    "    }\n",
    "}\n",
    "\n",
    "val user = User()\n",
    "println(user.name)\n",
    "user.name = \"first\"\n",
    "user.name = \"second\"\n",
    "user.name = \"third\""
   ]
  },
  {
   "cell_type": "markdown",
   "id": "51c05849-480e-4da2-a146-33adbacc504d",
   "metadata": {},
   "source": [
    "## Delegat wetowalny"
   ]
  },
  {
   "cell_type": "code",
   "execution_count": 70,
   "id": "f2c8d741-1040-4e9e-8011-5712a76664a1",
   "metadata": {},
   "outputs": [
    {
     "name": "stdout",
     "output_type": "stream",
     "text": [
      "0\n",
      "10\n",
      "10\n"
     ]
    }
   ],
   "source": [
    "var max: Int by Delegates.vetoable(0) { \n",
    "    property, oldValue, newValue -> newValue > oldValue\n",
    "}\n",
    "\n",
    "println(max)\n",
    "\n",
    "max = 10\n",
    "println(max)\n",
    "\n",
    "max = 5\n",
    "println(max)"
   ]
  },
  {
   "cell_type": "code",
   "execution_count": 80,
   "id": "5e6fc7bd-00b4-4a26-860a-f128de74517e",
   "metadata": {},
   "outputs": [
    {
     "name": "stdout",
     "output_type": "stream",
     "text": [
      "0\n",
      "10\n"
     ]
    },
    {
     "data": {
      "text/plain": [
       "java.lang.IllegalArgumentException: New value must be larger than old value."
      ]
     },
     "execution_count": 80,
     "metadata": {},
     "output_type": "execute_result"
    }
   ],
   "source": [
    "var max: Int by Delegates.vetoable(0) { _, oldValue, newValue ->\n",
    "    if (newValue > oldValue) true else throw IllegalArgumentException(\"New value must be larger than old value.\")\n",
    "}\n",
    "\n",
    "println(max)\n",
    "\n",
    "max = 10\n",
    "println(max)\n",
    "\n",
    "try{\n",
    "    max = 5\n",
    "}\n",
    "catch (e: IllegalArgumentException) {e}"
   ]
  },
  {
   "cell_type": "code",
   "execution_count": 84,
   "id": "bcf8424b-9d0e-4ac0-a40a-0febcf1d1366",
   "metadata": {},
   "outputs": [
    {
     "name": "stdout",
     "output_type": "stream",
     "text": [
      "42\n"
     ]
    }
   ],
   "source": [
    "class MyClass {\n",
    "   var newName: Int = 0\n",
    "   var oldName: Int by this::newName\n",
    "}\n",
    "\n",
    "val myClass = MyClass()\n",
    "myClass.oldName = 42\n",
    "println(myClass.newName)\n"
   ]
  },
  {
   "cell_type": "markdown",
   "id": "fb15c20e-ef2d-472b-ae58-5e0c6e6580ec",
   "metadata": {},
   "source": [
    "## Delegat do konstruktora"
   ]
  },
  {
   "cell_type": "code",
   "execution_count": 91,
   "id": "4e633cc6-e365-4aaa-8359-5614b6bf20da",
   "metadata": {},
   "outputs": [
    {
     "data": {
      "text/plain": [
       "User(map={name=Rafał Lewandków, age=30})"
      ]
     },
     "execution_count": 91,
     "metadata": {},
     "output_type": "execute_result"
    }
   ],
   "source": [
    "data class User(val map: Map<String, Any?>) {\n",
    "    val name: String by map\n",
    "    val age: Int     by map\n",
    "}\n",
    "\n",
    "val user = User(mapOf(\n",
    "    \"name\" to \"Rafał Lewandków\",\n",
    "    \"age\"  to 30\n",
    "))\n",
    "\n",
    "user"
   ]
  },
  {
   "cell_type": "code",
   "execution_count": 87,
   "id": "d643e31d-d372-4531-89b7-e9d81d52f61a",
   "metadata": {},
   "outputs": [
    {
     "data": {
      "text/plain": [
       "Rafał Lewandków"
      ]
     },
     "execution_count": 87,
     "metadata": {},
     "output_type": "execute_result"
    }
   ],
   "source": [
    "user.name"
   ]
  },
  {
   "cell_type": "code",
   "execution_count": 88,
   "id": "e1ba24df-873f-49d9-a840-c1cf55e0b30d",
   "metadata": {},
   "outputs": [
    {
     "data": {
      "text/plain": [
       "30"
      ]
     },
     "execution_count": 88,
     "metadata": {},
     "output_type": "execute_result"
    }
   ],
   "source": [
    "user.age"
   ]
  }
 ],
 "metadata": {
  "kernelspec": {
   "display_name": "Kotlin",
   "language": "kotlin",
   "name": "kotlin"
  },
  "language_info": {
   "codemirror_mode": "text/x-kotlin",
   "file_extension": ".kt",
   "mimetype": "text/x-kotlin",
   "name": "kotlin",
   "nbconvert_exporter": "",
   "pygments_lexer": "kotlin",
   "version": "1.6.20-dev-6372"
  }
 },
 "nbformat": 4,
 "nbformat_minor": 5
}
