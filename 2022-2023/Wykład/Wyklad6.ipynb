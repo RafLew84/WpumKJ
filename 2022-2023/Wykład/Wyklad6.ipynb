{
 "cells": [
  {
   "cell_type": "markdown",
   "id": "d131dfba-a1da-4c6a-b1e2-7dc61b8c7703",
   "metadata": {},
   "source": [
    "# Wykład 6 - Interfejsy"
   ]
  },
  {
   "cell_type": "markdown",
   "id": "aca71883-c0a8-49c1-a1a5-c86e46bb1d83",
   "metadata": {},
   "source": [
    "Interfejs zawiera zestaw metod bez ich implementacji. Może zawierać:\n",
    "- metody domyślne\n",
    "- metody prywatne\n",
    "- metody statyczne"
   ]
  },
  {
   "cell_type": "markdown",
   "id": "341c22ff-c706-44db-8df0-fbdab8ad4b09",
   "metadata": {},
   "source": [
    "## 10.1 Metody interejsów"
   ]
  },
  {
   "cell_type": "markdown",
   "id": "121fe7cb-962f-444a-b16c-d566f546d25d",
   "metadata": {},
   "source": [
    "Interfejs może dostarcyć domyślną implementację metody"
   ]
  },
  {
   "cell_type": "code",
   "execution_count": 3,
   "id": "25938eb4-5f3f-4f92-82a6-3116862d88f4",
   "metadata": {},
   "outputs": [],
   "source": [
    "// java\n",
    "public interface AddNumer{\n",
    "    default int addNumber(int a, int b){\n",
    "        return a + b;\n",
    "    }\n",
    "}"
   ]
  },
  {
   "cell_type": "code",
   "execution_count": 1,
   "id": "1c694e70-b046-4bf6-8510-321e38bb8923",
   "metadata": {},
   "outputs": [],
   "source": [
    "// kotlin\n",
    "interface AddNumber{\n",
    "    fun addNumber (a: Int, b: Int): Int{\n",
    "        return a + b\n",
    "    }\n",
    "}"
   ]
  },
  {
   "cell_type": "markdown",
   "id": "42cf9b3d-61d3-4eef-b7e4-1216df4f97d1",
   "metadata": {},
   "source": [
    "W interfejsach można wykorzystywać metody prywatne"
   ]
  },
  {
   "cell_type": "code",
   "execution_count": 1,
   "id": "3882d1f3-e78f-41a3-ab0a-2a19b0e8d331",
   "metadata": {},
   "outputs": [],
   "source": [
    "// java\n",
    "public interface AddNumers{\n",
    "    \n",
    "    default int addThreeNumbers(int a, int b, int c){\n",
    "        return addTwoNumbers(a, b) + c;\n",
    "    }\n",
    "    \n",
    "    private int addTwoNumbers(int a, int b){\n",
    "        return a + b;\n",
    "    }\n",
    "}"
   ]
  },
  {
   "cell_type": "code",
   "execution_count": 5,
   "id": "adc3f583-994a-4354-8ab7-fb8405248170",
   "metadata": {},
   "outputs": [],
   "source": [
    "// kotlin\n",
    "public interface AddNumers{\n",
    "    \n",
    "    fun addThreeNumbers(a: Int, b: Int, c: Int): Int{\n",
    "        return addTwoNumbers(a, b) + c\n",
    "    }\n",
    "    \n",
    "    private fun addTwoNumbers(a: Int, b: Int): Int{\n",
    "        return a + b\n",
    "    }\n",
    "}"
   ]
  },
  {
   "cell_type": "markdown",
   "id": "a0419f8f-1a65-46bc-bb9e-fadab5145d69",
   "metadata": {},
   "source": [
    "Metody statyczne (tylko Java)"
   ]
  },
  {
   "cell_type": "code",
   "execution_count": 12,
   "id": "77c39dfe-0eee-48a1-b2ba-88ae3568f01d",
   "metadata": {},
   "outputs": [
    {
     "name": "stdout",
     "output_type": "stream",
     "text": [
      "6\n",
      "AddNumber Interface\n"
     ]
    }
   ],
   "source": [
    "// java\n",
    "public interface AddNumbers{\n",
    "    \n",
    "    default int addThreeNumbers(int a, int b, int c){\n",
    "        return addTwoNumbers(a, b) + c;\n",
    "    }\n",
    "    \n",
    "    private int addTwoNumbers(int a, int b){\n",
    "        return a + b;\n",
    "    }\n",
    "    \n",
    "    static void printMe(){\n",
    "        System.out.println(\"AddNumber Interface\");\n",
    "    }\n",
    "}\n",
    "\n",
    "public class A implements AddNumbers{\n",
    "    public A(){\n",
    "        System.out.println(addThreeNumbers(1, 2, 3));\n",
    "        AddNumbers.printMe();\n",
    "    }\n",
    "}\n",
    "\n",
    "A a = new A();"
   ]
  },
  {
   "cell_type": "code",
   "execution_count": 13,
   "id": "b9d87ac1-0bbb-4c4e-a080-6b46266ec124",
   "metadata": {},
   "outputs": [
    {
     "name": "stdout",
     "output_type": "stream",
     "text": [
      "AddNumber Interface\n"
     ]
    }
   ],
   "source": [
    "AddNumbers.printMe();"
   ]
  },
  {
   "cell_type": "markdown",
   "id": "d134b1be-4754-40ee-8ff7-ba489c703107",
   "metadata": {},
   "source": [
    "Interfejsy mogą zawierać pola (statyczne) - tylko Java. W kotlinie właściwość może zawierać getter i setter."
   ]
  },
  {
   "cell_type": "code",
   "execution_count": 1,
   "id": "177428ca-8e98-4dc2-a567-e80f106d6970",
   "metadata": {},
   "outputs": [
    {
     "data": {
      "text/plain": [
       "4"
      ]
     },
     "execution_count": 1,
     "metadata": {},
     "output_type": "execute_result"
    }
   ],
   "source": [
    "// java\n",
    "public interface Numbers{\n",
    "    int num = 4; // public static final\n",
    "}\n",
    "\n",
    "Numbers.num"
   ]
  },
  {
   "cell_type": "code",
   "execution_count": 28,
   "id": "7f46b64a-8e5a-47f2-86b6-f8319134a6b0",
   "metadata": {},
   "outputs": [],
   "source": [
    "// kotlin\n",
    "interface Numbers{\n",
    "    val num: Int get() = 4\n",
    "}"
   ]
  },
  {
   "cell_type": "markdown",
   "id": "1ba3c914-f289-41e1-8421-c9fbd54653d7",
   "metadata": {},
   "source": [
    "## Dziedziczenie interfejsów"
   ]
  },
  {
   "cell_type": "code",
   "execution_count": 7,
   "id": "b5441f17-6fdc-4d69-a989-185a0b25df53",
   "metadata": {},
   "outputs": [
    {
     "name": "stdout",
     "output_type": "stream",
     "text": [
      "Rafał\n",
      "4.5\n",
      "123456\n"
     ]
    }
   ],
   "source": [
    "// java\n",
    "public interface Student {\n",
    "    int getIndexNumber();\n",
    "}\n",
    "\n",
    "public interface Human {\n",
    "    String getName();\n",
    "}\n",
    "\n",
    "public interface WFiAStudent extends Student, Human { // nie używamy implements\n",
    "    double getGrade();\n",
    "}\n",
    "\n",
    "public class ISSPStudent implements WFiAStudent{\n",
    "    @Override\n",
    "    public int getIndexNumber(){\n",
    "        return 123456;\n",
    "    }\n",
    "    \n",
    "    @Override\n",
    "    public String getName(){\n",
    "        return \"Rafał\";\n",
    "    }\n",
    "    \n",
    "    @Override\n",
    "    public double getGrade(){\n",
    "        return 4.5;\n",
    "    }\n",
    "}\n",
    "\n",
    "ISSPStudent me = new ISSPStudent();\n",
    "System.out.println(me.getName());\n",
    "System.out.println(me.getGrade());\n",
    "System.out.println(me.getIndexNumber());"
   ]
  },
  {
   "cell_type": "code",
   "execution_count": 1,
   "id": "766bb7fd-fee9-434c-a7c5-0eb45330fba4",
   "metadata": {},
   "outputs": [
    {
     "name": "stdout",
     "output_type": "stream",
     "text": [
      "Rafał\n",
      "4.5\n",
      "123456\n"
     ]
    }
   ],
   "source": [
    "// kotlin\n",
    "interface Student {\n",
    "    fun getIndexNumber(): Int\n",
    "}\n",
    "\n",
    "interface Human {\n",
    "    fun getName(): String\n",
    "}\n",
    "\n",
    "interface WFiAStudent : Student, Human {\n",
    "    fun getGrade(): Double\n",
    "}\n",
    "\n",
    " class ISSPStudent : WFiAStudent{\n",
    "    \n",
    "    override fun getIndexNumber(): Int{\n",
    "        return 123456\n",
    "    }\n",
    "    \n",
    "    override fun getName(): String{\n",
    "        return \"Rafał\"\n",
    "    }\n",
    "    \n",
    "    override fun getGrade(): Double{\n",
    "        return 4.5\n",
    "    }\n",
    "}\n",
    "\n",
    "val me = ISSPStudent();\n",
    "println(me.getName());\n",
    "println(me.getGrade());\n",
    "println(me.getIndexNumber());"
   ]
  },
  {
   "cell_type": "markdown",
   "id": "339eae97-0a13-4fe5-8de7-5e97130b4493",
   "metadata": {},
   "source": [
    "## Zastosowania"
   ]
  },
  {
   "cell_type": "markdown",
   "id": "3507a64f-1194-4791-a931-0ffe70ce450d",
   "metadata": {},
   "source": [
    "- Nie dozwolone wielokrotne dziedziczenie klas\n",
    "- Dozwolona implementacja dowolnej ilości interfejsów\n",
    "- Ustalenie sygnatury metod\n",
    "- Klasa implementująca interfejs **musi** implementować wszystkie jego metody (poza domyślnymi i statycznymi)\n",
    "- Metody statyczne i prywatne dostępny od Javy 9\n",
    "- Pozwala na określenie cech które posiadać będzie każda klasa implementujące dany interfejs\n",
    "- Udostępnie mechanizm kategoryzowania działań na obiektach"
   ]
  },
  {
   "cell_type": "markdown",
   "id": "398c4829-9ea7-4800-b4c5-41d34f3c45bf",
   "metadata": {},
   "source": [
    "### Przykłady interfejsów"
   ]
  },
  {
   "cell_type": "code",
   "execution_count": 1,
   "id": "fe33cd1a-2c30-442d-860e-337c4dae8be1",
   "metadata": {},
   "outputs": [],
   "source": [
    "public interface Serializable{}"
   ]
  },
  {
   "cell_type": "code",
   "execution_count": 2,
   "id": "815e1d01-e9fb-4f52-993a-1b11a4ff5aed",
   "metadata": {},
   "outputs": [],
   "source": [
    "public interface Comparable<T> {\n",
    "    public int compareTo(T o);\n",
    "}"
   ]
  },
  {
   "cell_type": "code",
   "execution_count": 3,
   "id": "55601e41-dd30-45d9-827d-d7ae5c71058b",
   "metadata": {},
   "outputs": [],
   "source": [
    "public interface Collection<E> extends Iterable<E> {\n",
    "\n",
    "    int size();\n",
    "\n",
    "    boolean isEmpty();\n",
    "\n",
    "    boolean contains(Object o);\n",
    "\n",
    "    boolean add(E e);\n",
    "\n",
    "    boolean remove(Object o);\n",
    "\n",
    "    boolean containsAll(Collection<?> c);\n",
    "\n",
    "    boolean addAll(Collection<? extends E> c);\n",
    "\n",
    "    boolean removeAll(Collection<?> c);\n",
    "\n",
    "    boolean retainAll(Collection<?> c);\n",
    "\n",
    "    void clear();\n",
    "\n",
    "    boolean equals(Object o);\n",
    "\n",
    "    int hashCode();\n",
    " \n",
    "\t//...\n",
    "}"
   ]
  },
  {
   "cell_type": "code",
   "execution_count": 20,
   "id": "0d85c34a-4eb4-4bc2-b06f-07e97ca6fd22",
   "metadata": {},
   "outputs": [
    {
     "data": {
      "text/plain": [
       "5"
      ]
     },
     "execution_count": 20,
     "metadata": {},
     "output_type": "execute_result"
    }
   ],
   "source": [
    "// java\n",
    "public interface Expr{}\n",
    "public class Num implements Expr {\n",
    "    private int v;\n",
    "    \n",
    "    public Num(int v){\n",
    "        this.v = v;\n",
    "    }\n",
    "    \n",
    "    public void setV (int v){\n",
    "        this.v = v;\n",
    "    }\n",
    "    \n",
    "    public int getV (){\n",
    "        return this.v;\n",
    "    }\n",
    "}\n",
    "\n",
    "public class Sum implements Expr {\n",
    "    private Expr left, right;\n",
    "    \n",
    "    public Sum(Expr left, Expr right){\n",
    "        this.left = left;\n",
    "        this.right = right;\n",
    "    }\n",
    "    \n",
    "    public void setLeft(Expr left){\n",
    "        this.left = left;\n",
    "    }\n",
    "    \n",
    "    public void setRight(Expr right){\n",
    "        this.right = right;\n",
    "    }\n",
    "    \n",
    "    public Expr getLeft(){\n",
    "        return this.left;\n",
    "    }\n",
    "    \n",
    "    public Expr getRight(){\n",
    "        return this.right;\n",
    "    }\n",
    "}\n",
    "\n",
    "int eval(Expr e){\n",
    "    if (e instanceof Num)\n",
    "        return ((Num)e).getV();\n",
    "    if (e instanceof Sum)\n",
    "        return eval(((Sum)e).getRight()) + eval(((Sum)e).getLeft());\n",
    "    return 0;\n",
    "}\n",
    "\n",
    "eval(new Sum(new Num(2), new Num(3)));"
   ]
  },
  {
   "cell_type": "code",
   "execution_count": 1,
   "id": "f753d039-a58e-405f-809f-fd8281682a97",
   "metadata": {},
   "outputs": [
    {
     "data": {
      "text/plain": [
       "5"
      ]
     },
     "execution_count": 1,
     "metadata": {},
     "output_type": "execute_result"
    }
   ],
   "source": [
    "// kotlin\n",
    "interface Expr\n",
    "class Num(val v: Int) : Expr\n",
    "class Sum(val left: Expr, val right: Expr) : Expr\n",
    "fun eval(e: Expr): Int = when (e) {\n",
    "        is Num -> e.v\n",
    "        is Sum -> eval(e.right) + eval(e.left)\n",
    "        else ->\n",
    "        throw IllegalArgumentException(\" Nieznane wyrażenie\") // wymagana opcja domyślna\n",
    "}\n",
    "    \n",
    "eval(Sum(Num(2), Num(3)))"
   ]
  },
  {
   "cell_type": "markdown",
   "id": "97e3f277-47bf-446f-9649-0714dde9dbb3",
   "metadata": {},
   "source": [
    "### Interfejs Funkcyjny"
   ]
  },
  {
   "cell_type": "markdown",
   "id": "f338e690-f8d1-4d08-960a-06810766529a",
   "metadata": {},
   "source": [
    "Posiada tylko jedną metodę - pozwala na wykorzystanie wyrażeń lambda jako typu danych. W Javie można wykorzystać adnotację `@FunctionalInterface`."
   ]
  },
  {
   "cell_type": "code",
   "execution_count": 8,
   "id": "a2f69859-f162-47bc-a800-65b754ad151a",
   "metadata": {},
   "outputs": [
    {
     "name": "stdout",
     "output_type": "stream",
     "text": [
      "true\n"
     ]
    }
   ],
   "source": [
    "@FunctionalInterface\n",
    "interface IntPredicate {\n",
    "    public boolean accept(int param);\n",
    "}\n",
    "    \n",
    "class Test implements IntPredicate {\n",
    "    public boolean accept(int param) {\n",
    "        return param % 2 == 0; \n",
    "    }\n",
    "}\n",
    "    \n",
    "public class A{\n",
    "    public static boolean invoke(IntPredicate predicate, int param){\n",
    "        return predicate.accept(param);\n",
    "    }\n",
    "    \n",
    "     public static void main(){\n",
    "        IntPredicate pred = new Test();\n",
    "        System.out.println(invoke(pred, 4));\n",
    "    }\n",
    "}\n",
    "A.main()"
   ]
  },
  {
   "cell_type": "code",
   "execution_count": 15,
   "id": "7ac0ae5d-6873-4804-92a3-e2bfdf2e1a35",
   "metadata": {},
   "outputs": [
    {
     "name": "stdout",
     "output_type": "stream",
     "text": [
      "false\n"
     ]
    }
   ],
   "source": [
    "@FunctionalInterface\n",
    "interface IntPredicate {\n",
    "    public boolean accept(int param);\n",
    "}\n",
    "    \n",
    "public class A{\n",
    "    public static boolean invoke(IntPredicate predicate, int param){\n",
    "        return predicate.accept(param);\n",
    "    }\n",
    "    \n",
    "     public static void main(){\n",
    "         \n",
    "         // klasa anonimowa\n",
    "        System.out.println(\n",
    "            invoke(new IntPredicate(){\n",
    "                public boolean accept(int param) {\n",
    "                    return param % 2 == 0; }\n",
    "            }, 5)\n",
    "        );\n",
    "         \n",
    "        //invoke((param -> System.out.println(\"Called with \" + param )), 100);\n",
    "\n",
    "    }\n",
    "}\n",
    "A.main()"
   ]
  },
  {
   "cell_type": "code",
   "execution_count": 18,
   "id": "0f4595f9-0ef3-4374-8469-449e20c12cc8",
   "metadata": {},
   "outputs": [
    {
     "name": "stdout",
     "output_type": "stream",
     "text": [
      "false\n"
     ]
    }
   ],
   "source": [
    "@FunctionalInterface\n",
    "interface IntPredicate {\n",
    "    public boolean accept(int param);\n",
    "}\n",
    "    \n",
    "public class A{\n",
    "    public static boolean invoke(IntPredicate predicate, int param){\n",
    "        return predicate.accept(param);\n",
    "    }\n",
    "    \n",
    "     public static void main(){\n",
    "        System.out.println(\n",
    "            invoke((param -> param % 2 == 0), 5)\n",
    "        );\n",
    "\n",
    "    }\n",
    "}\n",
    "A.main()"
   ]
  },
  {
   "cell_type": "code",
   "execution_count": 19,
   "id": "38b08ffc-4492-496b-88ca-f6e550c06208",
   "metadata": {},
   "outputs": [
    {
     "name": "stdout",
     "output_type": "stream",
     "text": [
      "6\n"
     ]
    }
   ],
   "source": [
    "import java.util.function.Function; // interfejs funkcyjny\n",
    "\n",
    "public class HigherOrderFunc {\n",
    "\n",
    "    public static void main() {\n",
    "        doSum(5, e -> e + 1);\n",
    "    }\n",
    "\n",
    "    public static void doSum(int value, Function <Integer, Integer> func) {\n",
    "        System.out.println(func.apply(value));\n",
    "    }\n",
    "}\n",
    "\n",
    "HigherOrderFunc.main()"
   ]
  },
  {
   "cell_type": "code",
   "execution_count": 25,
   "id": "b4647b7d-20a5-4190-9b9d-00e21ebd8742",
   "metadata": {},
   "outputs": [
    {
     "name": "stdout",
     "output_type": "stream",
     "text": [
      "Kasia\n",
      "Ania\n",
      "Zosia\n",
      "Bartek\n"
     ]
    }
   ],
   "source": [
    "// https://javastart.pl/baza-wiedzy/slownik/interfejs-funkcyjny\n",
    "import java.util.Arrays;\n",
    "import java.util.List;\n",
    "import java.util.function.Consumer; // interfejs funkcyjny\n",
    " \n",
    "public class StringConsumerExample {\n",
    "    public static void main() {\n",
    " \t\tList<String> names = Arrays.asList(\"Kasia\", \"Ania\", \"Zosia\", \"Bartek\");\n",
    " \t\tprintList(names, str -> System.out.println(str));\n",
    " \t}\n",
    " \n",
    " \tpublic static void printList(List<String> list, Consumer<String> consumer) {\n",
    " \t\tfor (String str : list) {\n",
    " \t\t\tconsumer.accept(str);\n",
    " \t\t}\n",
    " \t}\n",
    "}\n",
    "StringConsumerExample.main()"
   ]
  },
  {
   "cell_type": "code",
   "execution_count": 5,
   "id": "d3324ff2-2f37-4b40-95ed-01c2261406e3",
   "metadata": {},
   "outputs": [
    {
     "data": {
      "text/plain": [
       "false"
      ]
     },
     "execution_count": 5,
     "metadata": {},
     "output_type": "execute_result"
    }
   ],
   "source": [
    "fun interface IntPredicate { // interfejs funkcyjny\n",
    "   fun accept(i: Int): Boolean\n",
    "}\n",
    "\n",
    "val isEven = object : IntPredicate {\n",
    "   override fun accept(i: Int): Boolean {\n",
    "       return i % 2 == 0\n",
    "   }\n",
    "}\n",
    "\n",
    "isEven.accept(5)"
   ]
  },
  {
   "cell_type": "code",
   "execution_count": 6,
   "id": "80683c32-b70c-4170-a0e8-1335e25dd69e",
   "metadata": {},
   "outputs": [
    {
     "data": {
      "text/plain": [
       "false"
      ]
     },
     "execution_count": 6,
     "metadata": {},
     "output_type": "execute_result"
    }
   ],
   "source": [
    "fun interface IntPredicate {\n",
    "   fun accept(i: Int): Boolean\n",
    "}\n",
    "\n",
    "val isEven = IntPredicate { it % 2 == 0 }\n",
    "\n",
    "isEven.accept(5)"
   ]
  },
  {
   "cell_type": "markdown",
   "id": "788742ab-59d4-4e52-b2fe-35d3db043c33",
   "metadata": {},
   "source": [
    "### Konstruktor SAM (Kotlin) - Single Abstract Method"
   ]
  },
  {
   "cell_type": "markdown",
   "id": "ea635aa7-1814-4a42-8efe-98d3801bbd44",
   "metadata": {},
   "source": [
    "Generowana przez kompilator funkcja pozwalająca konwertować wyrażenie lambda na instancję obiektu implementującego interfejs funkcyjny."
   ]
  },
  {
   "cell_type": "code",
   "execution_count": 25,
   "id": "ee043344-da90-4e7e-bf25-52e9aa179cdf",
   "metadata": {},
   "outputs": [
    {
     "data": {
      "text/plain": [
       "false"
      ]
     },
     "execution_count": 25,
     "metadata": {},
     "output_type": "execute_result"
    }
   ],
   "source": [
    "fun interface IntPredicate {\n",
    "   fun accept(i: Int): Boolean\n",
    "}\n",
    "\n",
    "fun isEven(): IntPredicate{\n",
    "    return IntPredicate{it % 2 == 0}\n",
    "}\n",
    "\n",
    "isEven().accept(5)"
   ]
  },
  {
   "cell_type": "markdown",
   "id": "9e3bb039-053d-4ff6-b4bc-4ac4051de6f7",
   "metadata": {},
   "source": [
    "## Klasy abstrakcyjne vs Interfejsy"
   ]
  },
  {
   "cell_type": "markdown",
   "id": "a0993b5b-0842-4039-96c1-212fa6fe9264",
   "metadata": {},
   "source": [
    "- Interfejsy i klasy abstrakcyjne mogą posiadać funkcje - możemy również odwołać się do instancji klasy implementaującej"
   ]
  },
  {
   "cell_type": "code",
   "execution_count": 35,
   "id": "def2bcb3-cc16-4b40-bf58-64fd4573dd5a",
   "metadata": {},
   "outputs": [
    {
     "name": "stdout",
     "output_type": "stream",
     "text": [
      "Ref: Line_34$A@670c6613\n",
      "Klasa: A\n",
      "Line_34$A@670c6613\n"
     ]
    }
   ],
   "source": [
    "interface intB {\n",
    "    fun printMe() {\n",
    "        println(\"Ref: ${this}\")\n",
    "        println(\"Klasa: ${this::class.simpleName}\")\n",
    "    }\n",
    "}\n",
    "\n",
    "class A: intB\n",
    "\n",
    "\n",
    "val a = A()\n",
    "a.printMe()\n",
    "println(a)"
   ]
  },
  {
   "cell_type": "markdown",
   "id": "b1d2da2d-e4c3-4865-bee2-acf3a08aeeab",
   "metadata": {},
   "source": [
    "- w klasie abstrakcyjnej możemy oznaczyć funkcję jako `final`\n",
    "- w interfejsie funkcja zawsze może zostać nadpisana\n",
    "- po nadpisaniu możemy uzyskać dostęp do domyślnej implementacji przez słowo kluczowe `super`"
   ]
  },
  {
   "cell_type": "code",
   "execution_count": 36,
   "id": "da1e2394-b31c-44f1-9479-026e30d1f25e",
   "metadata": {},
   "outputs": [
    {
     "name": "stdout",
     "output_type": "stream",
     "text": [
      "Nadpisana\n",
      "Ref: Line_35$A@4a30252c\n",
      "Klasa: A\n",
      "Line_35$A@4a30252c\n"
     ]
    }
   ],
   "source": [
    "interface intB {\n",
    "    fun printMe() {\n",
    "        println(\"Ref: ${this}\")\n",
    "        println(\"Klasa: ${this::class.simpleName}\")\n",
    "    }\n",
    "}\n",
    "\n",
    "class A: intB{\n",
    "    override final fun printMe(){\n",
    "        println(\"Nadpisana\")\n",
    "        super.printMe()\n",
    "    }\n",
    "}\n",
    "\n",
    "\n",
    "val a = A()\n",
    "a.printMe()\n",
    "println(a)"
   ]
  },
  {
   "cell_type": "markdown",
   "id": "60d6b1d2-0a67-48a0-ae5e-c03513adf0e7",
   "metadata": {},
   "source": [
    "- interfejsy i klasy abstrakcyjne mogą posiadać właściwości"
   ]
  },
  {
   "cell_type": "code",
   "execution_count": 37,
   "id": "8ced9af7-12ec-4bdc-adaf-e8a41a0ef083",
   "metadata": {},
   "outputs": [
    {
     "data": {
      "text/plain": [
       "Rafał"
      ]
     },
     "execution_count": 37,
     "metadata": {},
     "output_type": "execute_result"
    }
   ],
   "source": [
    "interface intB {\n",
    "    val name: String\n",
    "}\n",
    "\n",
    "class B: intB {\n",
    "    override val name: String = \"Rafał\"\n",
    "}\n",
    "val v = B()\n",
    "v.name"
   ]
  },
  {
   "cell_type": "markdown",
   "id": "c2a59d33-23fe-4315-87f6-8e8a050c3a18",
   "metadata": {},
   "source": [
    "- właściwości mogą posiadać ciało"
   ]
  },
  {
   "cell_type": "code",
   "execution_count": 39,
   "id": "0550a663-6e71-45c7-b742-7e37fa34e4e3",
   "metadata": {},
   "outputs": [
    {
     "name": "stdout",
     "output_type": "stream",
     "text": [
      "Paweł Gaweł"
     ]
    }
   ],
   "source": [
    "interface intB {\n",
    "    val first: String\n",
    "    val last: String\n",
    "    \n",
    "    val fullName: String\n",
    "        get() = \"$first $last\"\n",
    "}\n",
    "\n",
    "class B: intB {\n",
    "    override val first: String = \"Paweł\"\n",
    "    override val last: String = \"Gaweł\"\n",
    "}\n",
    "\n",
    "\n",
    "val b = B()\n",
    "print(b.fullName)"
   ]
  },
  {
   "cell_type": "markdown",
   "id": "a65704a8-b1ea-4c2d-9095-907592759f92",
   "metadata": {},
   "source": [
    "- interfejs nie może przechowywać stanu - za wyjątkiem przypadku kiedy może to zrobić (zła praktyka) - przykładowo w `companion object`"
   ]
  },
  {
   "cell_type": "code",
   "execution_count": 50,
   "id": "52458361-19fc-4685-b7e3-941aaed77e14",
   "metadata": {},
   "outputs": [
    {
     "data": {
      "text/plain": [
       "{Line_49$CA@32b346cd=Rafał, Line_49$CB@67ea0c=Radek}"
      ]
     },
     "execution_count": 50,
     "metadata": {},
     "output_type": "execute_result"
    }
   ],
   "source": [
    "interface intC {\n",
    "    var name: String\n",
    "        get() = names[this] ?: \"Default name\"\n",
    "        set(value) { names[this] = value }\n",
    "\n",
    "    companion object {\n",
    "         val names = mutableMapOf<Any, String>()\n",
    "    }\n",
    "}\n",
    "\n",
    "class CA: intC\n",
    "class CB: intC\n",
    "\n",
    "val ca = CA()\n",
    "ca.name = \"Rafał\"\n",
    "\n",
    "val cb = CB()\n",
    "cb.name = \"Radek\"\n",
    "\n",
    "intC.names"
   ]
  },
  {
   "cell_type": "markdown",
   "id": "b3e6cd56-7f78-4766-b343-872606fe2574",
   "metadata": {},
   "source": [
    "- Metody w interfejsie mogą być prywatne"
   ]
  },
  {
   "cell_type": "code",
   "execution_count": 53,
   "id": "b568ef15-8023-45d3-8804-a00655275b69",
   "metadata": {},
   "outputs": [],
   "source": [
    "interface intD{\n",
    "    private val name get() = \"Rafał\"\n",
    "    fun addThreeNumbers(a: Int, b: Int, c: Int): Int{\n",
    "        return addTwoNumbers(a, b) + c\n",
    "    }\n",
    "    \n",
    "    private fun addTwoNumbers(a: Int, b: Int): Int{\n",
    "        return a + b\n",
    "    }\n",
    "}"
   ]
  },
  {
   "cell_type": "markdown",
   "id": "d2954fe7-0504-423f-9c46-8ba45a65d258",
   "metadata": {},
   "source": [
    "- klasy abstrakcyjne mogą przechowywać stan i posiadać pola"
   ]
  },
  {
   "cell_type": "code",
   "execution_count": 54,
   "id": "7632312c-9251-46c0-8f67-e99d16efbad2",
   "metadata": {},
   "outputs": [
    {
     "name": "stdout",
     "output_type": "stream",
     "text": [
      "Paweł Gaweł"
     ]
    }
   ],
   "source": [
    "abstract class A {\n",
    "    var first: String = \"Default first name\"\n",
    "    var last: String = \"Default last name\"\n",
    "    \n",
    "    val fullName: String\n",
    "        get() = \"$first $last\"\n",
    "}\n",
    "\n",
    "class AB: A()\n",
    "class AC: A()\n",
    "\n",
    "\n",
    "val a = AB()\n",
    "a.first = \"Paweł\"\n",
    "a.last = \"Gaweł\"\n",
    "\n",
    "print(a.fullName)"
   ]
  },
  {
   "cell_type": "markdown",
   "id": "2d76848e-1037-45ef-a926-9276213f5bf5",
   "metadata": {},
   "source": [
    "- klasa abstrakcyjna może posiadać konstruktor\n",
    "- w klasie abstrakcyjnej metody i pola domyślnie są finalne"
   ]
  },
  {
   "cell_type": "code",
   "execution_count": 60,
   "id": "f97c4f93-925f-4513-a76a-2232302dfd40",
   "metadata": {},
   "outputs": [
    {
     "name": "stdout",
     "output_type": "stream",
     "text": [
      "Rafał Gaweł\n",
      "Paweł Nazwisko\n"
     ]
    }
   ],
   "source": [
    "abstract class B(\n",
    "    var first: String = \"Default first name\",\n",
    "    var last: String = \"Default last name\"\n",
    ") {\n",
    "    val fullName: String\n",
    "        get() = \"$first $last\"\n",
    "}\n",
    "\n",
    "class BA(first: String): B(first, \"Gaweł\")\n",
    "class BB(first: String): B(first, \"Nazwisko\")\n",
    "\n",
    "\n",
    "val ba = BA(\"Rafał\")\n",
    "val bb = BB(\"Paweł\")\n",
    "println(ba.fullName)\n",
    "println(bb.fullName)"
   ]
  },
  {
   "cell_type": "markdown",
   "id": "42f9df59-a11b-480d-be4a-be7763dccdd8",
   "metadata": {},
   "source": [
    "- Klasa może implementować wiele interfejsów i rozszerzać tylko jedną klasę"
   ]
  },
  {
   "cell_type": "code",
   "execution_count": 61,
   "id": "9bc202a3-538e-4b09-b91a-5a1d5f80fb03",
   "metadata": {},
   "outputs": [],
   "source": [
    "abstract class A\n",
    "interface I1\n",
    "interface I2\n",
    "interface I3\n",
    "class C: A(), I1, I2, I3"
   ]
  }
 ],
 "metadata": {
  "kernelspec": {
   "display_name": "Kotlin",
   "language": "kotlin",
   "name": "kotlin"
  },
  "language_info": {
   "codemirror_mode": "text/x-kotlin",
   "file_extension": ".kt",
   "mimetype": "text/x-kotlin",
   "name": "kotlin",
   "nbconvert_exporter": "",
   "pygments_lexer": "kotlin",
   "version": "1.6.20-dev-6372"
  }
 },
 "nbformat": 4,
 "nbformat_minor": 5
}
