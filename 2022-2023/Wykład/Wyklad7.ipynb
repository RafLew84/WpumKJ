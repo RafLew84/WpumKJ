{
 "cells": [
  {
   "cell_type": "markdown",
   "id": "b489e68b-9f0e-4c84-b55a-42bf5517e972",
   "metadata": {},
   "source": [
    "# Wykład 7 - Generyki"
   ]
  },
  {
   "cell_type": "markdown",
   "id": "ff64b977-9c44-4224-bde2-6dace4cc76cd",
   "metadata": {},
   "source": [
    "## Generyczne argumenty typowane"
   ]
  },
  {
   "cell_type": "code",
   "execution_count": 5,
   "id": "0c7348f0-2410-4fd1-bd77-d641b595a68a",
   "metadata": {},
   "outputs": [],
   "source": [
    "val lecturers = listOf(\"Rafał\", \"Robert\") // domniemanie argumentów typowanych\n",
    "val lecturersList: List<String> = listOf(\"Rafał\", \"Robert\")"
   ]
  },
  {
   "cell_type": "code",
   "execution_count": 10,
   "id": "9aca567e-4134-4235-9139-d51b409503ac",
   "metadata": {},
   "outputs": [
    {
     "data": {
      "text/plain": [
       "true"
      ]
     },
     "execution_count": 10,
     "metadata": {},
     "output_type": "execute_result"
    }
   ],
   "source": [
    "List<String> lecturers = new ArrayList<String>();\n",
    "lecturers.add(\"Rafał\");\n",
    "lecturers.add(\"Robert\");\n",
    "\n",
    "List<String> list = Arrays.asList(\"Rafał\", \"Robert\");\n",
    "List list = Arrays.asList(\"Rafał\", \"Robert\"); // typ surowy\n",
    "\n",
    "List lecturers = new ArrayList();\n",
    "lecturers.add(\"Rafał\");\n",
    "lecturers.add(9);\n",
    "\n",
    "// List<?> lecturers = new ArrayList();\n",
    "// lecturers.add(\"Rafał\");\n",
    "// lecturers.add(9);"
   ]
  },
  {
   "cell_type": "markdown",
   "id": "2cf0df47-2594-4e2f-8fa5-3e4827306f69",
   "metadata": {},
   "source": [
    "## Funkcje gerenyczne\n",
    "\n",
    "Jeżeli potrzebujemy funkcję przetwarzającą dowolną listę, a nie listę elementów o określonym typie, możemy wykorzystać funkcję generyczną"
   ]
  },
  {
   "cell_type": "code",
   "execution_count": 37,
   "id": "bb905a96-cc8e-4b1c-b976-c0ab82f08d37",
   "metadata": {},
   "outputs": [],
   "source": [
    "fun <T> List<T>.destruct(ind: Int):Pair<List<T>, List<T>> = Pair(take(ind), drop(ind))"
   ]
  },
  {
   "cell_type": "markdown",
   "id": "2ae3ae87-2600-4c05-b225-6133b61c9228",
   "metadata": {},
   "source": [
    "- `fun<T>` - deklaracja argumentu typowanego\n",
    "- `List<T>` - typ odbiornika funkcji\n",
    "- `Pair<List<T>, List<T>>` - typ zwracanego wyniku"
   ]
  },
  {
   "cell_type": "code",
   "execution_count": 38,
   "id": "455962d9-a8fd-4dc7-9de2-7d25aa9d89c9",
   "metadata": {},
   "outputs": [
    {
     "name": "stdout",
     "output_type": "stream",
     "text": [
      "([1], [2, 3, 4, 5])\n"
     ]
    }
   ],
   "source": [
    "val lista = listOf(1, 2, 3, 4, 5)\n",
    "println(lista.destruct(1))"
   ]
  },
  {
   "cell_type": "code",
   "execution_count": 39,
   "id": "b83ef40a-228d-4ce8-81ad-d10e04b07bb8",
   "metadata": {},
   "outputs": [
    {
     "name": "stdout",
     "output_type": "stream",
     "text": [
      "([a], [b, c, d, e])\n"
     ]
    }
   ],
   "source": [
    "val listb = listOf('a', 'b', 'c', 'd', 'e')\n",
    "println(listb.destruct(1))"
   ]
  },
  {
   "cell_type": "code",
   "execution_count": 46,
   "id": "5420845c-d0c1-48b5-ad72-c1f09405e267",
   "metadata": {},
   "outputs": [
    {
     "name": "stdout",
     "output_type": "stream",
     "text": [
      "4\n",
      "Robert\n"
     ]
    }
   ],
   "source": [
    "val <T> List<T>.przedostatni: T\n",
    "    get() = this[size - 2]\n",
    "\n",
    "println(listOf(1, 2, 3, 4, 5).przedostatni)\n",
    "println(listOf(\"Rafał\", \"Robert\", \"Ania\").przedostatni)"
   ]
  },
  {
   "cell_type": "markdown",
   "id": "3c72a607-bf4f-43b3-9730-9613068c4fe6",
   "metadata": {},
   "source": [
    "## Klasy generyczne"
   ]
  },
  {
   "cell_type": "code",
   "execution_count": 1,
   "id": "283558d9-f0ab-4127-bd1d-9922a621267d",
   "metadata": {},
   "outputs": [
    {
     "name": "stdout",
     "output_type": "stream",
     "text": [
      "Rafał\n"
     ]
    }
   ],
   "source": [
    "class Store<T>(t: T) {\n",
    "    var a = t\n",
    "}\n",
    "\n",
    "val store: Store<String> = Store<String>(\"Rafał\")\n",
    "println(store.a)"
   ]
  },
  {
   "cell_type": "code",
   "execution_count": 3,
   "id": "0e4ca8f6-7584-4749-a026-cf590bfd2676",
   "metadata": {},
   "outputs": [
    {
     "name": "stdout",
     "output_type": "stream",
     "text": [
      "2\n"
     ]
    }
   ],
   "source": [
    "val store2 = Store(2)\n",
    "println(store2.a)"
   ]
  },
  {
   "cell_type": "code",
   "execution_count": 55,
   "id": "fbf1a69f-fc96-4180-a3f6-bf9ff650a2ed",
   "metadata": {},
   "outputs": [
    {
     "name": "stdout",
     "output_type": "stream",
     "text": [
      "Rafał\n"
     ]
    }
   ],
   "source": [
    "val store3 = Store(\"Rafał\")\n",
    "println(store3.a)"
   ]
  },
  {
   "cell_type": "markdown",
   "id": "8847c392-08c0-4fbb-af77-d827b8889e48",
   "metadata": {},
   "source": [
    "## Interfejsy generyczne"
   ]
  },
  {
   "cell_type": "code",
   "execution_count": 68,
   "id": "cabbc4b3-2c53-4cca-84fd-32e4d365f705",
   "metadata": {},
   "outputs": [],
   "source": [
    "interface Porownaj<T> {\n",
    "    fun porownajDo(other: T): String\n",
    "}\n",
    "\n",
    "class Student(name: String): Porownaj<Student> {\n",
    "    val name: String = name\n",
    "    \n",
    "    override fun porownajDo(other: Student): String = \n",
    "        if (this.name.first() > other.name.first())\n",
    "            this.name else other.name\n",
    "}"
   ]
  },
  {
   "cell_type": "code",
   "execution_count": 72,
   "id": "c9dfbbac-8460-4dec-8124-e60e1da25866",
   "metadata": {},
   "outputs": [
    {
     "name": "stdout",
     "output_type": "stream",
     "text": [
      "Rafał\n"
     ]
    }
   ],
   "source": [
    "val rafal = Student(\"Rafał\")\n",
    "val ania = Student(\"Ania\")\n",
    "\n",
    "println(rafal.porownajDo(ania))"
   ]
  },
  {
   "cell_type": "code",
   "execution_count": 73,
   "id": "39a99b4d-36a9-4173-a8d5-b605b04d4a99",
   "metadata": {},
   "outputs": [
    {
     "name": "stdout",
     "output_type": "stream",
     "text": [
      "Rafał\n"
     ]
    }
   ],
   "source": [
    "println(ania.porownajDo(rafal))"
   ]
  },
  {
   "cell_type": "markdown",
   "id": "c93c9370-cd21-4397-8fde-3a94a652302a",
   "metadata": {},
   "source": [
    "## Granice"
   ]
  },
  {
   "cell_type": "markdown",
   "id": "a5b557a6-9e3d-478e-913f-49f212d978c3",
   "metadata": {},
   "source": [
    "Jeżeli chcemy ograniczyć listę typów, przykładowo chcemy obliczyć sumę, możemy zastosować granice typów."
   ]
  },
  {
   "cell_type": "code",
   "execution_count": 76,
   "id": "0d2b68e5-faec-4e35-8615-b3ab49e96afd",
   "metadata": {},
   "outputs": [
    {
     "name": "stdout",
     "output_type": "stream",
     "text": [
      "1.5\n"
     ]
    }
   ],
   "source": [
    "fun <T: Number> half(value: T): Double {\n",
    "    return value.toDouble() / 2.0\n",
    "}\n",
    "\n",
    "println(half(3.0))"
   ]
  },
  {
   "cell_type": "markdown",
   "id": "82310fae-83ea-49e2-8da7-f38e515bc41e",
   "metadata": {},
   "source": [
    "- klasa `Number` (superklasa wszyskich klas reprezentujących wartości liczbowe) jest **górną** granicą argumentu typowanego"
   ]
  },
  {
   "cell_type": "code",
   "execution_count": 77,
   "id": "63f1a67e-e6a0-4547-a867-65c77a443a54",
   "metadata": {},
   "outputs": [
    {
     "name": "stderr",
     "output_type": "stream",
     "text": [
      "Line_76.jupyter-kts (1:14 - 17) Type mismatch: inferred type is String but Number was expected"
     ]
    }
   ],
   "source": [
    "println(half(\"a\"))"
   ]
  },
  {
   "cell_type": "code",
   "execution_count": 4,
   "id": "f2b0289a-ebb2-483b-8f8a-b9d299041f3d",
   "metadata": {},
   "outputs": [],
   "source": [
    "public void myFunction(List<? extends Number> list){};\n",
    "public void myFunction(List<? super Integer> list){};"
   ]
  },
  {
   "cell_type": "code",
   "execution_count": 78,
   "id": "9615bc24-ddb3-45bf-a1fb-7da4ca0dce58",
   "metadata": {},
   "outputs": [
    {
     "name": "stdout",
     "output_type": "stream",
     "text": [
      "Rafał\n"
     ]
    }
   ],
   "source": [
    "fun <T: Comparable<T>> max (first: T, second: T): T {\n",
    "    return if (first > second) first else second\n",
    "}\n",
    "\n",
    "println(max(\"Rafał\", \"Ania\"))"
   ]
  },
  {
   "cell_type": "code",
   "execution_count": 79,
   "id": "bb3f8a4d-3e0a-4cd6-810c-5a60e1df9456",
   "metadata": {},
   "outputs": [
    {
     "name": "stdout",
     "output_type": "stream",
     "text": [
      "2\n"
     ]
    }
   ],
   "source": [
    "println(max(1, 2))"
   ]
  },
  {
   "cell_type": "code",
   "execution_count": 5,
   "id": "370f271c-5ce5-443e-a236-3cc38661c85f",
   "metadata": {},
   "outputs": [],
   "source": [
    "class Student(name: String): Comparable<Student> {\n",
    "    val name: String = name\n",
    "    \n",
    "    override fun compareTo(other: Student): Int = \n",
    "        if (this.name.first() > other.name.first())\n",
    "            1 else 2\n",
    "}"
   ]
  },
  {
   "cell_type": "code",
   "execution_count": 6,
   "id": "2605ae3f-d1c4-4cf4-af2a-99edd08a2b51",
   "metadata": {},
   "outputs": [
    {
     "name": "stdout",
     "output_type": "stream",
     "text": [
      "1\n",
      "2\n"
     ]
    }
   ],
   "source": [
    "val rafal = Student(\"Rafał\")\n",
    "val ania = Student(\"Ania\")\n",
    "\n",
    "println(rafal.compareTo(ania))\n",
    "println(ania.compareTo(rafal))"
   ]
  },
  {
   "cell_type": "code",
   "execution_count": 88,
   "id": "dc073441-8fcc-4228-bbe3-6d2ee6246971",
   "metadata": {},
   "outputs": [
    {
     "name": "stdout",
     "output_type": "stream",
     "text": [
      "Hello WpumKJ.\n"
     ]
    }
   ],
   "source": [
    "fun <T> ensureTrailingPeriod(seq: T)\n",
    "    where T: CharSequence, T: Appendable {\n",
    "    \n",
    "    if (!seq.endsWith('.'))\n",
    "        seq.append('.')\n",
    "}\n",
    "    \n",
    "val hello = StringBuilder(\"Hello WpumKJ\")\n",
    "ensureTrailingPeriod(hello)\n",
    "println(hello)"
   ]
  },
  {
   "cell_type": "markdown",
   "id": "5603151e-edf1-4aed-a3f0-809aeed8ece5",
   "metadata": {},
   "source": [
    "## Klasy kowariantne, kontrawariantne i inwariantne\n",
    "\n",
    "Mamy klasę `X<T>`. Jeżeli `A` jest podtypem `B`, czyli `B: A`, to `X<A>` jest podtypem `X<B>`\n",
    "\n",
    "Innymi słowy, klasa kowariantna to klasa generyczna zachowująca zależność między podtypami"
   ]
  },
  {
   "cell_type": "code",
   "execution_count": 2,
   "id": "89f5aa92-8d22-4638-8323-f4ca8b87bdb8",
   "metadata": {},
   "outputs": [],
   "source": [
    "open class University\n",
    "open class Department : University()\n",
    "class ISSP : Department()"
   ]
  },
  {
   "cell_type": "code",
   "execution_count": 49,
   "id": "139caa62-7b73-467c-9d72-dfeda6fb1caa",
   "metadata": {},
   "outputs": [],
   "source": [
    "class Lectures<out T> {\n",
    "    private val contents = mutableListOf<T>()\n",
    "    fun produce(): T = contents.last()\n",
    "    //fun consume(item: T) = contents.add(item)\n",
    "}"
   ]
  },
  {
   "cell_type": "code",
   "execution_count": 52,
   "id": "b2232613-769a-48b2-81c8-2c028ccf04a4",
   "metadata": {},
   "outputs": [],
   "source": [
    "class Lectures<in T> {\n",
    "    private val contents = mutableListOf<T>()\n",
    "    fun produce(): T = contents.last()\n",
    "    fun consume(item: T) = contents.add(item)\n",
    "}"
   ]
  },
  {
   "cell_type": "markdown",
   "id": "59718148-17a7-4a83-b32e-9b0a359b5f87",
   "metadata": {},
   "source": [
    "`open class A`\n",
    "`class B: A`\n",
    "\n",
    "- klasa kowariantna `Class<out T>` - zależność pomiędzy podtypami jest zachowana (`class<B> jest podtypem class<A>`), typ `T` można stosować tylko w pozycji wyjściowej\n",
    "- klasa kontrawariantna `Class<in T>` - zależność pomiędzy podtypami jest odwrócona (`class<A>` jest podtypem `class<B>`), typ `T` można stosować tylko w pozycji wejściowej\n",
    "- klasa inwariantna `Class<T>` - brak zależności pomiędzy podtypami, typ `T` może być w dowolnej pozycji"
   ]
  },
  {
   "cell_type": "markdown",
   "id": "d88c614b-8960-459f-8f40-fbf69cc7a927",
   "metadata": {},
   "source": [
    "## Projekcja `*` (typ projektowany)"
   ]
  },
  {
   "cell_type": "markdown",
   "id": "35f4f548-c2db-4898-a137-6782b9743796",
   "metadata": {},
   "source": [
    "Typ `MutableList<Any?>` może zawierać obiekty **dowolnego** typu<br>\n",
    "Typ `MutableList<*>` może zawierać obiekty **jednego** typu, ale nie wiadomo jakiego"
   ]
  },
  {
   "cell_type": "code",
   "execution_count": 54,
   "id": "5fe66610-83d3-4b37-a06d-c3d986c999c0",
   "metadata": {},
   "outputs": [
    {
     "name": "stderr",
     "output_type": "stream",
     "text": [
      "Line_53.jupyter-kts (4:10 - 11) The integer literal does not conform to the expected type Nothing"
     ]
    }
   ],
   "source": [
    "val l: MutableList<Any?> = mutableListOf('a', 1, \"Rafał\", null)\n",
    "val star: MutableList<*> = mutableListOf('a', 'b', 'c')\n",
    "\n",
    "star.add(4)"
   ]
  }
 ],
 "metadata": {
  "kernelspec": {
   "display_name": "Kotlin",
   "language": "kotlin",
   "name": "kotlin"
  },
  "language_info": {
   "codemirror_mode": "text/x-kotlin",
   "file_extension": ".kt",
   "mimetype": "text/x-kotlin",
   "name": "kotlin",
   "nbconvert_exporter": "",
   "pygments_lexer": "kotlin",
   "version": "1.6.20-dev-6372"
  }
 },
 "nbformat": 4,
 "nbformat_minor": 5
}
