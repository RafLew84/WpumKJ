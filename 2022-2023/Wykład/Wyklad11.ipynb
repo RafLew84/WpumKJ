{
 "cells": [
  {
   "cell_type": "markdown",
   "id": "90374ff4-e047-4844-835c-7f1774536665",
   "metadata": {},
   "source": [
    "## Wykład 11 - `Retrofit2`, `URL`, Adnotacje, Procesor Adnotacji"
   ]
  },
  {
   "cell_type": "markdown",
   "id": "1ced46d5-f21c-458d-83a5-dc73d6967414",
   "metadata": {},
   "source": [
    "`Retrofit2` jest biblioteką do komunikacji z serwerami **HTTP**, która umożliwia łatwe tworzenie interfejsów **API**. Dzięki niej możesz skonfigurować adres **URL** serwera, a następnie **utworzyć interfejs, który opisuje pożądane zapytania HTTP** (np. GET, POST, PUT itp.). Retrofit **automatycznie mapuje** odpowiedzi z serwera na obiekty w twojej aplikacji.\n",
    "\n",
    "Retrofit jest oparty o język Java i działa z Androidem, ale może być również używany z **innymi platformami Javy**. `Retrofit2` jest następną wersją `Retrofit`, która zawiera kilka nowych funkcji i usprawnień w stosunku do pierwszej wersji.\n",
    "\n",
    "`Retrofit2` pozwala na:\n",
    "\n",
    "- Umożliwia łatwe tworzenie interfejsów API\n",
    "- Pozwala na dynamiczne zmienianie adresu URL serwera na podstawie danych z aplikacji\n",
    "- Automatycznie mapuje odpowiedzi z serwera na obiekty w aplikacji za pomocą konwerterów\n",
    "- Pozwala na wysyłanie zapytań z różnymi typami ciała (np. JSON, Form-data)\n",
    "- Obsługa asynchronicznego przetwarzania zapytań\n",
    "- Wsparcie dla wielu konwerterów (np. GSON, Moshi, Jackson)\n",
    "- Obsługa adnotacji do oznaczania parametrów zapytania, nagłówków, ciała zapytania"
   ]
  },
  {
   "cell_type": "markdown",
   "id": "c5cfd2fe-f53b-481f-aa67-ec4ba39d2bb6",
   "metadata": {},
   "source": [
    "lista konwerterów, które są dostępne w Retroficie:\n",
    "\n",
    "- **Gson**: Ten konwerter używa biblioteki **Gson** do serializacji i deserializacji obiektów **Java** na i z formatu **JSON**.\n",
    "\n",
    "- **Jackson**: Ten konwerter używa biblioteki Jackson do serializacji i deserializacji obiektów **Java** na i z formatu **JSON**.\n",
    "\n",
    "- **Moshi**: Ten konwerter używa biblioteki Moshi do serializacji i deserializacji obiektów **Java** na i z formatu **JSON**.\n",
    "\n",
    "- **Protobuf**: Ten konwerter używa biblioteki **Protobuf** do serializacji i deserializacji obiektów Java na i z formatu **Protobuf**.\n",
    "\n",
    "- **Wire**: konwerter używa biblioteki Wire do serializacji i deserializacji obiektów **Java** na i z formatu **Protobuf**.\n",
    "\n",
    "- **Simple XML**: konwerter używa biblioteki `Simple XML` do serializacji i deserializacji obiektów **Java** na i z formatu **XML**.\n",
    "\n",
    "- **Scalars** (określone typy jak `String`, `Number`, `Boolean`): konwerter pozwala na przetwarzanie odpowiedzi HTTP na typy podstawowe, takie jak `String`, `Number`, `Boolean`.\n",
    "\n",
    "- **FormUrlEncoded** i **Multipart**: konwerter pozwala na przesyłanie danych za pomocą metod `POST` i `PUT` w formacie `x-www-form-urlencoded` i `multipart/form-data`.\n",
    "\n",
    "Retrofit pozwala na dodanie kilku konwerterów i wybieranie odpowiedniego na podstawie typu odpowiedzi."
   ]
  },
  {
   "cell_type": "markdown",
   "id": "b996b07d-cb2b-4942-9d5a-60e7b6a85934",
   "metadata": {},
   "source": [
    "**JSON** (JavaScript Object Notation) jest formatem przesyłania danych, który jest lekki i łatwy do przetwarzania dla maszyn. Jest on bardzo podobny do składni obiektów **JavaScript**, dlatego jego nazwa zawiera \"JavaScript\".\n",
    "\n",
    "**JSON** jest formatem tekstowym, który składa się z pary klucz-wartość. Klucze są ciągami tekstowymi, a wartości mogą być różnymi typami danych, takimi jak liczby, ciągi znaków, obiekty i tablice.\n",
    "\n",
    "Przykład:\n",
    "```verbatim\n",
    "{\n",
    "  \"name\": \"John\",\n",
    "  \"age\": 30,\n",
    "  \"address\": {\n",
    "    \"street\": \"Main St\",\n",
    "    \"city\": \"New York\"\n",
    "  },\n",
    "  \"phones\": [\n",
    "    \"+123456789\",\n",
    "    \"+987654321\"\n",
    "  ]\n",
    "}\n",
    "```"
   ]
  },
  {
   "cell_type": "markdown",
   "id": "5dc7c485-12f1-49c8-976d-500094c0c2de",
   "metadata": {},
   "source": [
    "**GSON** jest biblioteką, która pozwala na konwersję danych między różnymi formatami (np. **JSON**, **Java**) w języku **Java**. **GSON** jest projektem open-source i jest rozwijany przez Google.\n",
    "\n",
    "**GSON** pozwala na konwersję obiektów Java na format JSON oraz odwrotnie. Dzięki temu, że jest ona w pełni zintegrowana z językiem Java, można ją łatwo używać do parsowania odpowiedzi z serwera do obiektów w aplikacji.\n",
    "\n",
    "**GSON** umożliwia:\n",
    "\n",
    "- automatyczne mapowanie odpowiedzi **JSON** na obiekty Java\n",
    "- konfigurację, aby ignorować pola, które nie powinny być mapowane\n",
    "- mapowanie pola, które ma inną nazwę niż nazwa pola w klasie Java\n",
    "\n",
    "**GSON** jest bardzo popularną biblioteką w branży mobilnej i jest często używana w połączeniu z biblioteką **Retrofit2**, aby umożliwić automatyczne mapowanie odpowiedzi z serwera na obiekty w aplikacji."
   ]
  },
  {
   "cell_type": "markdown",
   "id": "b1503d52-5748-4c73-b5a5-edc5c9342a69",
   "metadata": {},
   "source": [
    "Do aplikacji musimy dodać odpowiednie zależności - przechodzimy do pliku `build.gradle.kts`.\n",
    "\n",
    "Dodajemy dwie zależności (można wyszukać wciskając **Alt + Insert**)"
   ]
  },
  {
   "cell_type": "code",
   "execution_count": null,
   "id": "16725a43-e1e2-4343-8677-bfa49e2fca8c",
   "metadata": {},
   "outputs": [],
   "source": [
    "dependencies {\n",
    "    implementation(\"com.squareup.retrofit2:retrofit:2.9.0\")\n",
    "    implementation(\"com.squareup.retrofit2:converter-gson:2.9.0\")\n",
    "    ...\n",
    "}"
   ]
  },
  {
   "cell_type": "markdown",
   "id": "7245865d-ca7c-4de8-ae68-6d2107aad7b1",
   "metadata": {},
   "source": [
    "Po czym musimy wykonać **synchronizację** (**load Gradle changes**) projektu - **Ctrl + Shift + O**"
   ]
  },
  {
   "cell_type": "markdown",
   "id": "53f9661f-1ea0-4190-b0b3-be5fc4a8159d",
   "metadata": {},
   "source": [
    "W tym przykładzie wykorzystamy **[JSONPlaceholder](https://jsonplaceholder.typicode.com/)**, który jest API przeznaczonym do testowania. Mamy dostępnych kilka endpointów\n",
    "\n",
    "- posts\n",
    "- comments\n",
    "- albums\n",
    "- photos\n",
    "- todos\n",
    "- users\n"
   ]
  },
  {
   "cell_type": "markdown",
   "id": "6d10293d-86b4-4ce8-a591-f147ae064c73",
   "metadata": {},
   "source": [
    "W tym przykładzie wybierzemy pierwszy (`posts`), rozpoczniemy komunikację z tym serwerem oraz **asynchronicznie** wykonamy operację `GET` - czyli pobierzemy wszystkie posty i je wyświetlimy."
   ]
  },
  {
   "cell_type": "markdown",
   "id": "c791ae30-8f01-47a7-baf5-80dd42d5a086",
   "metadata": {},
   "source": [
    "Posty znajdziemy w formacie **JSON**"
   ]
  },
  {
   "cell_type": "code",
   "execution_count": null,
   "id": "c8ac9103-7a76-40ed-999b-a57a09b40d82",
   "metadata": {},
   "outputs": [],
   "source": [
    "{\n",
    "    \"userId\": 1,\n",
    "    \"id\": 1,\n",
    "    \"title\": \"sunt aut ...\",\n",
    "    \"body\": \"quia et ...\"\n",
    "},"
   ]
  },
  {
   "cell_type": "markdown",
   "id": "97290d90-4b71-42b2-91a5-2f62ac3c1391",
   "metadata": {},
   "source": [
    "W pierwszym kroku musimy stworzyć nasz **model danych** odpowiadający strukturze obecnej na serwerze. Więc tworzymy klasę `Post` i dodajemy pola `userId`, `id`, `title` oraz `body`. Jeżeli chcemy wykorzystać inną nazwę musimy użyć adnotacji `@SerializedName` - tutaj zmienimy nazwę `body` na `content`. W argumencie `@SerializedName` podajemy nazwę którą chcemy zmienić jako `String` - czyli ta nazwa musi odpowiadać nazwie obecnej w formacie dostępnym na serwerze."
   ]
  },
  {
   "cell_type": "code",
   "execution_count": null,
   "id": "a106718a-4fe1-4b7f-9f11-242371b78610",
   "metadata": {},
   "outputs": [],
   "source": [
    "// kotlin\n",
    "data class Post (\n",
    "    val userId: Int,\n",
    "    val id: Int,\n",
    "    val title: String,\n",
    "\n",
    "    @SerializedName(\"body\")\n",
    "    val content: String\n",
    ")"
   ]
  },
  {
   "cell_type": "code",
   "execution_count": null,
   "id": "1e96f106-6fe7-4253-8933-0ba37c40f76c",
   "metadata": {},
   "outputs": [],
   "source": [
    "// java\n",
    "public class Post {\n",
    "    private int userId;\n",
    "    private int id;\n",
    "    private String title;\n",
    "\n",
    "    @SerializedName(\"body\")\n",
    "    String content;\n",
    "\n",
    "    public int getUserId() {\n",
    "        return userId;\n",
    "    }\n",
    "\n",
    "    public int getId() {\n",
    "        return id;\n",
    "    }\n",
    "\n",
    "    public String getTitle() {\n",
    "        return title;\n",
    "    }\n",
    "\n",
    "    public String getContent() {\n",
    "        return content;\n",
    "    }\n",
    "}"
   ]
  },
  {
   "cell_type": "markdown",
   "id": "030d6c1d-3bbf-4df8-b142-a644704d6ab7",
   "metadata": {},
   "source": [
    "Teraz musimy stworzyć interfejs w którym zdefiniujemy metodę służącą zwróceniu danych z serwera.\n",
    "\n",
    "\n",
    "\n",
    "Zwracanym obiektem jest `Call` zawierający listę wszystkich postów. Oprócz danych w tym obiekcie znajdują się również obiekty `Response` oraz `Request` zawierające informacje o samym połączeniu. W klasie `Call` dostępna jest metoda `enqueue` pozwalająca na **asynchroniczne** wysłanie żądania oraz powiadomienia zwrotnego, lub błędu - innymi słowy `Call` hermetyzuje pojedynczy `Request` oraz pojedynczy `Response`.\n",
    "\n",
    "Musimy wykorzystać adnotację `@GET` aby poinformować `Retrofit` co dokładnie ta metoda ma robić. Dzięki temu `Retrofit` będzie w stanie wygenerować odpowiedni kod."
   ]
  },
  {
   "cell_type": "code",
   "execution_count": null,
   "id": "5fbb77d0-aa31-443a-9ced-f04924c9eeb2",
   "metadata": {},
   "outputs": [],
   "source": [
    "// kotlin\n",
    "import retrofit2.Call\n",
    "import retrofit2.http.GET\n",
    "\n",
    "interface PlaceholderApi {\n",
    "    @GET(\"posts\")\n",
    "    fun posts(): Call<List<Post>>\n",
    "}"
   ]
  },
  {
   "cell_type": "code",
   "execution_count": null,
   "id": "09cfbc07-17ac-451e-8280-f503e949e583",
   "metadata": {},
   "outputs": [],
   "source": [
    "// java\n",
    "public interface PlaceholderApi {\n",
    "    @GET(\"posts\")\n",
    "    Call<List<Post>> getPosts();\n",
    "}"
   ]
  },
  {
   "cell_type": "markdown",
   "id": "6c7a1784-38d1-419c-ba7b-30b5439bf69e",
   "metadata": {},
   "source": [
    "Ciało metody `getPosts` (`posts` w Kotlinie) zostanie wygenerowane automatycznie przez **Annotation Proccessor**. Informację o tym jaki kod ma zostać wygenerowany dostarczamy za pomocą adnotacji `@GET`"
   ]
  },
  {
   "cell_type": "markdown",
   "id": "bf8d4588-f1c5-4d06-bac7-504d2541b665",
   "metadata": {},
   "source": [
    "**Annotation Processor** to narzędzie, które pozwala na przetwarzanie **adnotacji** (annotations) w języku Java/Kotlin podczas kompilacji. **Adnotacje** to specjalne znaczniki, które mogą być dodawane do elementów języka (np. klasy, metody, pola) i które służą do opisania pewnych cech tych elementów. **Annotation Processor** pozwala na automatyczne wykonywanie pewnych operacji na elementach oznaczonych adnotacjami podczas kompilacji.\n",
    "\n",
    "**Annotation Processor** umożliwia:\n",
    "\n",
    "- generowanie kodu na podstawie adnotacji\n",
    "- walidację elementów oznaczonych adnotacjami podczas kompilacji\n",
    "- generowanie plików dodatkowych, takich jak pliki konfiguracyjne lub pliki XML\n",
    "\n",
    "**Annotation Processor** jest często używany w różnych bibliotekach i frameworkach Java, takich jak Android, Spring, Hibernate, i pozwala na automatyzację procesu tworzenia kodu, zwiększając jego jakość oraz zwiększając produktywność developerów."
   ]
  },
  {
   "cell_type": "markdown",
   "id": "074a95c6-5c85-4036-944a-3194bd68543b",
   "metadata": {},
   "source": [
    "Następnie w metodzie `main` musimy utworzyć obiekt `Retrofit`"
   ]
  },
  {
   "cell_type": "code",
   "execution_count": null,
   "id": "f5f53617-1bee-4601-93f4-1f09dc670a0b",
   "metadata": {},
   "outputs": [],
   "source": [
    "// kotlin\n",
    "val retrofit = Retrofit.Builder()\n",
    "    .baseUrl(\"https://jsonplaceholder.typicode.com/\")\n",
    "    .addConverterFactory(GsonConverterFactory.create())\n",
    "    .build()"
   ]
  },
  {
   "cell_type": "code",
   "execution_count": null,
   "id": "06be1c88-07b3-4059-8247-e936a33800ab",
   "metadata": {},
   "outputs": [],
   "source": [
    "// java\n",
    "Retrofit retrofit = new Retrofit.Builder()\n",
    "        .baseUrl(\"https://jsonplaceholder.typicode.com/\")\n",
    "        .addConverterFactory(GsonConverterFactory.create())\n",
    "        .build();"
   ]
  },
  {
   "cell_type": "markdown",
   "id": "900fb146-9ea2-46f4-9390-f0d6e93c0f2a",
   "metadata": {},
   "source": [
    "Posiadając instancję `Retrofit` możemy utworzyć instancję obiektu o typie interfejsu `PlaceholderApi`."
   ]
  },
  {
   "cell_type": "code",
   "execution_count": null,
   "id": "c695ac52-f73e-423b-ad44-142f5bdea547",
   "metadata": {},
   "outputs": [],
   "source": [
    "// kotlin\n",
    "val api = retrofit.create(PlaceholderApi::class.java)"
   ]
  },
  {
   "cell_type": "code",
   "execution_count": null,
   "id": "c2bdee41-62a4-4a32-a1df-eda102beb698",
   "metadata": {},
   "outputs": [],
   "source": [
    "// java\n",
    "PlaceholderApi api = retrofit.create(PlaceholderApi.class);"
   ]
  },
  {
   "cell_type": "markdown",
   "id": "c7d75843-b2e7-480b-bf9d-b9e9b20633a7",
   "metadata": {},
   "source": [
    "Chcemy wykonać operację sieciową **asynchronicznie** - tutaj `Retrofit` dostarcza odpowiednią metodę (`enqueue`), której parametrem jest obiekt o typie interfejsu `Callback`.\n",
    "\n",
    "Na tym obiekcie możemy również wykonać `execute` - jest to wykonanie **synchroniczne**."
   ]
  },
  {
   "cell_type": "markdown",
   "id": "87c2a2b7-1ee3-4fb6-a84c-16e416888833",
   "metadata": {},
   "source": [
    "Wpierw utwórzmy obiekt `Call`"
   ]
  },
  {
   "cell_type": "code",
   "execution_count": null,
   "id": "35dff857-24c8-4c02-a3d7-244c2497c6b4",
   "metadata": {},
   "outputs": [],
   "source": [
    "// kotlin\n",
    "val call: Call<List<Post>> = api.posts()"
   ]
  },
  {
   "cell_type": "code",
   "execution_count": null,
   "id": "7b707fa1-2b55-444b-a2d6-995eda05877b",
   "metadata": {},
   "outputs": [],
   "source": [
    "// java\n",
    "Call<List<Post>> call = api.getPosts();"
   ]
  },
  {
   "cell_type": "code",
   "execution_count": null,
   "id": "7bcec330-adff-4bad-9d6b-427326f41f55",
   "metadata": {},
   "outputs": [],
   "source": []
  },
  {
   "cell_type": "code",
   "execution_count": null,
   "id": "61b77eee-1a52-44d6-b9a5-c240eaa57f40",
   "metadata": {},
   "outputs": [],
   "source": [
    "// kotlin\n",
    "call.enqueue(object : Callback<List<Post>> {\n",
    "    override fun onResponse(\n",
    "        call: Call<List<Post>?>, \n",
    "        response: Response<List<Post>?>) \n",
    "    {}\n",
    "\n",
    "    override fun onFailure(call: Call<List<Post>?>, t: Throwable) \n",
    "    {}\n",
    "})"
   ]
  },
  {
   "cell_type": "code",
   "execution_count": null,
   "id": "3ed7f35a-bd2a-4f6e-b933-6999a6c7926a",
   "metadata": {},
   "outputs": [],
   "source": [
    "// java\n",
    "call.enqueue(new Callback<List<Post>>() {\n",
    "    @Override\n",
    "    public void onResponse(\n",
    "        @NonNull Call<List<Post>> call,\n",
    "        @NonNull Response<List<Post>> response) {\n",
    "    }\n",
    "\n",
    "    @Override\n",
    "    public void onFailure(\n",
    "        @NonNull Call<List<Post>> call, \n",
    "        @NonNull Throwable t) {\n",
    "    }\n",
    "}"
   ]
  },
  {
   "cell_type": "markdown",
   "id": "a5a85faf-ae76-4ef5-b2de-6b9ca245996f",
   "metadata": {},
   "source": [
    "Obiekt `Call` jest podstawowym obiektem używanym przez bibliotekę `Retrofit` do reprezentowania połączenia z serwerem. Obiekt `Call` jest używany do tworzenia i wykonywania zapytań **HTTP**.\n",
    "\n",
    "posiada metody pozwalające na:\n",
    "\n",
    "- Ustawienie nagłówków, parametrów zapytania, ciała zapytania\n",
    "- Ustawienie konwertera danych\n",
    "- Określenie, czy połączenie ma być wykonywane asynchronicznie czy synchronicznie\n",
    "- Określenie, czy połączenie ma być cache'owane"
   ]
  },
  {
   "cell_type": "markdown",
   "id": "cd32b30c-fa07-42bf-a531-016046663153",
   "metadata": {},
   "source": [
    "Obiekt `Response` jest obiektem zwracanym przez metodę `execute()` lub `enqueue()` z obiektu `Call` z biblioteki `Retrofit`. Zawiera on informacje dotyczące odpowiedzi z serwera, takie jak status **HTTP, nagłówki, ciało odpowiedzi**.\n",
    "\n",
    "Obiekt `Response` posiada następujące metody:\n",
    "\n",
    "- isSuccessful(): zwraca `true`, jeśli status HTTP odpowiedzi jest pomiędzy 200 a 300\n",
    "- code(): zwraca status HTTP odpowiedzi\n",
    "- headers(): zwraca nagłówki odpowiedzi\n",
    "- body(): zwraca ciało odpowiedzi\n",
    "- errorBody(): zwraca ciało odpowiedzi, jeśli status HTTP jest poza zakresem od 200 do 300"
   ]
  },
  {
   "cell_type": "markdown",
   "id": "46c12404-8768-445b-8745-1edee254c226",
   "metadata": {},
   "source": [
    "Musimy zaimplementować dwie metody\n",
    "- `onResponse` - wykonywana przy sukcesie komunikacji z serwerem - co oznacza samą komunikację a nie powodzenie samej operacji (przykładowo możemy dostać znany kod 404 przy próbie dostępu do danych które nie istnieją na serwerze)\n",
    "- `onFailure` - wykonywana przy braku komunikacji z serwerem"
   ]
  },
  {
   "cell_type": "markdown",
   "id": "489c58f2-cfb5-4d1f-bc2d-bdf806cde73d",
   "metadata": {},
   "source": [
    "W pierwszym kroku implementacji tej metody sprawdzamy czy odpowiedź jest poprawna"
   ]
  },
  {
   "cell_type": "code",
   "execution_count": null,
   "id": "895097d9-f96e-4dcb-926a-5bf14e423de4",
   "metadata": {},
   "outputs": [],
   "source": [
    "if (response.isSuccessful) {}"
   ]
  },
  {
   "cell_type": "markdown",
   "id": "45587046-06c5-4048-a559-2e925dfc3a47",
   "metadata": {},
   "source": [
    "Czyli kod który otrzymujemy mieści się w zakresie 200 - 300 - więcej informacji o kodach [tutaj](https://developer.mozilla.org/en-US/docs/Web/HTTP/Status). \n",
    "\n",
    "Następnie musimy rozpakować dane - są one przechowywane w polu `body` obiektu `Response`. Oprócz tego `Response` posiada jeszcze pole typu `okhttp3.Response` zawierające kod odpowiedzi, rodzaj wykorzystanego protokołu (`HTTP 1.1`), oraz kilka innych informacji - w tym przykładzie są one nie istotne."
   ]
  },
  {
   "cell_type": "code",
   "execution_count": null,
   "id": "b54279d5-ebd0-416a-8bd2-b8a037eeae56",
   "metadata": {},
   "outputs": [],
   "source": [
    "// kotlin\n",
    "val posts = response.body()"
   ]
  },
  {
   "cell_type": "code",
   "execution_count": null,
   "id": "b681e149-4f90-4069-8414-3269e131d069",
   "metadata": {},
   "outputs": [],
   "source": [
    "// java\n",
    "List<Post> posts = response.body();"
   ]
  },
  {
   "cell_type": "code",
   "execution_count": null,
   "id": "4aa7e296-c06a-40ba-a003-a15ad1b03fc8",
   "metadata": {},
   "outputs": [],
   "source": [
    "// kotlin\n",
    "call.enqueue(object : Callback<List<Post>> {\n",
    "    override fun onResponse(\n",
    "        call: Call<List<Post>?>, \n",
    "        response: Response<List<Post>?>) \n",
    "    {\n",
    "        if (response.isSuccessful) {\n",
    "            \n",
    "            val posts = response.body()\n",
    "\n",
    "            posts?.forEach {\n",
    "                val content = StringBuilder()\n",
    "                content.append(\"id: \")\n",
    "                    .append(it.id)\n",
    "                    .append(\"\\n\")\n",
    "                    .append(\"UserId: \")\n",
    "                    .append(it.userId)\n",
    "                    .append(\"\\n\")\n",
    "                    .append(\"title: \")\n",
    "                    .append(it.title)\n",
    "                    .append(\"\\n\")\n",
    "                    .append(\"body: \")\n",
    "                    .append(it.content)\n",
    "                    .append(\"\\n\\n\")\n",
    "                println(content)\n",
    "            }\n",
    "        } else {\n",
    "            println(\"fail\")\n",
    "        }\n",
    "    }\n",
    "\n",
    "    override fun onFailure(\n",
    "        call: Call<List<Post>?>, \n",
    "        t: Throwable) {\n",
    "        println(\"error\")\n",
    "    }\n",
    "})"
   ]
  },
  {
   "cell_type": "code",
   "execution_count": null,
   "id": "41cfc940-7d4d-496a-8e89-a222b3b33453",
   "metadata": {},
   "outputs": [],
   "source": [
    "// java\n",
    "call.enqueue(new Callback<List<Post>>() {\n",
    "    @Override\n",
    "    public void onResponse(\n",
    "            Call<List<Post>> call,\n",
    "            Response<List<Post>> response) \n",
    "    {\n",
    "        if (response.isSuccessful()) {\n",
    "            List<Post> posts = response.body();\n",
    "            if (posts != null) {\n",
    "                posts.forEach(post -> {\n",
    "                    StringBuilder content = new StringBuilder();\n",
    "                    content\n",
    "                            .append(\"id: \")\n",
    "                            .append(post.getId())\n",
    "                            .append(\"\\n\")\n",
    "                            .append(\"UserId: \")\n",
    "                            .append(post.getUserId())\n",
    "                            .append(\"\\n\")\n",
    "                            .append(\"title: \")\n",
    "                            .append(post.getTitle())\n",
    "                            .append(\"\\n\")\n",
    "                            .append(\"body: \")\n",
    "                            .append(post.getContent())\n",
    "                            .append(\"\\n\\n\");\n",
    "                    System.out.println(content);\n",
    "                });\n",
    "            }\n",
    "        } else {\n",
    "            System.out.println(\"fail\");\n",
    "        }\n",
    "    }\n",
    "\n",
    "    @Override\n",
    "    public void onFailure(\n",
    "            Call<List<Post>> call,\n",
    "            Throwable t) \n",
    "    {\n",
    "        System.out.println(\"error\");\n",
    "    }\n",
    "});"
   ]
  },
  {
   "cell_type": "markdown",
   "id": "801221f2-a061-439c-b5ed-c04321133451",
   "metadata": {},
   "source": [
    "Zazwyczaj potrzebujemy tylko jakiś podzbiór wszystkich dostępnych danych. W tym celu posługujemy się odpowiednimi parametrami w adresie URL. W sekcji **Routes** mamy podane różne rodzaje metod HTTP"
   ]
  },
  {
   "cell_type": "markdown",
   "id": "451b5fad-eea7-44a1-83eb-f0682fb01cc8",
   "metadata": {},
   "source": [
    "- GET /posts\n",
    "- GET /posts/1\n",
    "- GET /posts/1/comments\n",
    "- GET /comments?postId=1"
   ]
  },
  {
   "cell_type": "markdown",
   "id": "69c4b5f0-f3dc-4877-a26d-1d95dbcbc1f2",
   "metadata": {},
   "source": [
    "## Adnotacje"
   ]
  },
  {
   "cell_type": "markdown",
   "id": "6a5bf042-53a8-4918-8085-7acc9b9cfe43",
   "metadata": {},
   "source": [
    "### **@Path**\n",
    "\n",
    "Jeżeli chcemy napisać metodę przyjmującą jako parametr `id` posta, musimy wykorzystać odpowiednią adnotację."
   ]
  },
  {
   "cell_type": "code",
   "execution_count": null,
   "id": "f47ac59c-6ecf-4f04-aa17-1724bfd9d1b2",
   "metadata": {},
   "outputs": [],
   "source": [
    "@GET(\"posts/{id}/comments\")\n",
    "fun getComments(@Path(\"id\") postId: Int): Call<List<Comment>>"
   ]
  },
  {
   "cell_type": "markdown",
   "id": "f537e01d-b5d0-48e5-b81f-738f9069ee49",
   "metadata": {},
   "source": [
    "Dzięki zastosowaniu adnotacji `@Path` przekazujemy informację o zastosowaniu parametru metody jako składowej adresu `URL`. Tutaj musimy zwrócić uwagę na parametr `@Path` `\"id\"` - musi on być zgodny z częścią parametru adnotacji `@GET`, który podajemy w nawiasach `{id}`. Teraz wywołanie metody wygląda następująco"
   ]
  },
  {
   "cell_type": "code",
   "execution_count": null,
   "id": "b1175d15-1fea-4e76-a57d-03cacc36e885",
   "metadata": {},
   "outputs": [],
   "source": [
    "val call = service.getComments(3)"
   ]
  },
  {
   "cell_type": "markdown",
   "id": "563009c0-b706-42e3-a792-4b17d806d413",
   "metadata": {},
   "source": [
    "### **@Query**"
   ]
  },
  {
   "cell_type": "markdown",
   "id": "a4f80e52-9f63-4642-a41f-8696c4cd48ce",
   "metadata": {},
   "source": [
    "Mamy również drugi sposób przekazania argumentu i uzyskania tej samej informacji - */comments?postId=1*. Dostaniemy dokładnie ta samą informację - wszystkie komentarza pod postem o zadanym `id`. Tym razem musimy wykorzystać adnotację `@Query` - zapytanie jest rozpoczynane symbolem `?`.\n",
    "\n",
    "Dodajmy metodę `getCommentsFromQuery`"
   ]
  },
  {
   "cell_type": "code",
   "execution_count": null,
   "id": "84c1395f-2f7a-4e38-bd42-80e4f3b7649c",
   "metadata": {},
   "outputs": [],
   "source": [
    "@GET(\"comments\")\n",
    "fun getCommentsFromQuery(@Query(\"postId\") postId: Int)\n",
    "    : Call<List<Comment>>"
   ]
  },
  {
   "cell_type": "markdown",
   "id": "c82df67b-515f-4be0-8de9-91d15f707ba4",
   "metadata": {},
   "source": [
    "Tutaj parametr adnotacji `@Query` musi odpowiadać nazwie parametru (lub metody) obecnej w zapytaniu - tutaj będzie to */comments?postId=1*. Pozostałe elementy zapytania (znak rozpoczynający zapytanie oraz symbol `=`) zostanie dodany automatycznie. Metodę wywołujemy tak samo jak poprzednią"
   ]
  },
  {
   "cell_type": "code",
   "execution_count": null,
   "id": "3a1546fc-05eb-4dc6-a929-e06a9e436fc8",
   "metadata": {},
   "outputs": [],
   "source": [
    "val call = service.getCommentsFromQuery(3)"
   ]
  },
  {
   "cell_type": "markdown",
   "id": "3f05c3ca-8357-4901-b774-8f6dc41280e9",
   "metadata": {},
   "source": [
    "Możemy również podać wiele parametrów - ich nazwy i wszystkie możliwości znadziemy w dokumentacji na stronie z  której korzystamy.\n",
    "\n",
    "Chcemy uzyskać listę wszystkich komentarzy pod postem o zadanych `id`, posortowane po identyfikatorze malejąco. `url` będzie wyglądał następująco\n",
    "- */comments?postId=1&_sort=id&_order=desc* - znak `&` rozdziela parametry\n",
    "\n",
    "Napiszmy odpowiednią metodę"
   ]
  },
  {
   "cell_type": "code",
   "execution_count": null,
   "id": "2958b3eb-2652-4052-ab17-63f88a71c290",
   "metadata": {},
   "outputs": [],
   "source": [
    "@GET(\"comments\")\n",
    "fun getSortedComments(\n",
    "    @Query(\"postId\") postId: Int,\n",
    "    @Query(\"_sort\") sort: String,\n",
    "    @Query(\"_order\") order: String\n",
    "): Call<List<Comment>>"
   ]
  },
  {
   "cell_type": "code",
   "execution_count": null,
   "id": "aab01263-3dd0-4b31-976f-edd4365a688d",
   "metadata": {},
   "outputs": [],
   "source": [
    "val call = service.getSortedComments(2, \"id\", \"desc\")"
   ]
  },
  {
   "cell_type": "markdown",
   "id": "60cb8c89-1ba4-40f5-af84-4b5156e35716",
   "metadata": {},
   "source": [
    "Zwróćmy uwagę że parametr sortowania podajemy jako `String`.\n",
    "\n",
    "Jeżeli chcemy dostać wszystkie komentarze posortowane malejąco po `id`, możemy przekazać jako parametr `posrId` wartość `null`"
   ]
  },
  {
   "cell_type": "code",
   "execution_count": null,
   "id": "663d6424-4ed7-4366-bc30-727274cc7959",
   "metadata": {},
   "outputs": [],
   "source": [
    "val call = service.getSortedComments(null, \"id\", \"desc\")"
   ]
  },
  {
   "cell_type": "markdown",
   "id": "6bb18db6-4891-434b-9c61-e74c5e22355e",
   "metadata": {},
   "source": [
    "Jeżeli chcemy dostać listę komentarzy z kilku postów, możemy zadeklarować metodę przyjmującą tablicę (lub listę) identyfikatorów"
   ]
  },
  {
   "cell_type": "code",
   "execution_count": null,
   "id": "ae3ec228-53b9-4805-98d2-dd4802ef5bbd",
   "metadata": {},
   "outputs": [],
   "source": [
    "@GET(\"comments\")\n",
    "fun getSortedCommentsFromPosts(\n",
    "    @Query(\"postId\") postsId: List<Int>,\n",
    "    @Query(\"_sort\") sort: String,\n",
    "    @Query(\"_order\") order: String\n",
    "): Call<List<Comment>>"
   ]
  },
  {
   "cell_type": "code",
   "execution_count": null,
   "id": "cf93c2ae-645e-46dd-b1c1-d4a6b995a727",
   "metadata": {},
   "outputs": [],
   "source": [
    "val call = service.getSortedCommentsFromPosts(\n",
    "    listOf(1, 3, 6, 7), \"id\", \"desc\");"
   ]
  },
  {
   "cell_type": "markdown",
   "id": "67328da3-94eb-49e5-988d-a5f062258ca3",
   "metadata": {},
   "source": [
    "### **@Url**"
   ]
  },
  {
   "cell_type": "markdown",
   "id": "b13b14fd-10be-444d-af67-6e3d80a86e07",
   "metadata": {},
   "source": [
    "Jeżeli adres jest skomplikowany z większą ilością parametrów, możemy chieć przekazać sam `url` jako parametr funkcji."
   ]
  },
  {
   "cell_type": "code",
   "execution_count": null,
   "id": "9abd58ee-a8e3-4c34-8ea5-eba9dfe89ec4",
   "metadata": {},
   "outputs": [],
   "source": [
    "@GET\n",
    "fun getComments(\n",
    "    @Url url: String\n",
    "): Call<List<Comment>>"
   ]
  },
  {
   "cell_type": "code",
   "execution_count": null,
   "id": "41269580-e852-4758-b2f5-366c0230fa3c",
   "metadata": {},
   "outputs": [],
   "source": [
    "val call = service.getComments(\"comments?postId=3\")\n",
    "\n",
    "val call = service.getComments(\n",
    "    \"https://jsonplaceholder.typicode.com/comments?postId=3\")"
   ]
  }
 ],
 "metadata": {
  "kernelspec": {
   "display_name": "Kotlin",
   "language": "kotlin",
   "name": "kotlin"
  },
  "language_info": {
   "codemirror_mode": "text/x-kotlin",
   "file_extension": ".kt",
   "mimetype": "text/x-kotlin",
   "name": "kotlin",
   "nbconvert_exporter": "",
   "pygments_lexer": "kotlin",
   "version": "1.6.20-dev-6372"
  },
  "toc-autonumbering": false,
  "toc-showmarkdowntxt": true
 },
 "nbformat": 4,
 "nbformat_minor": 5
}
