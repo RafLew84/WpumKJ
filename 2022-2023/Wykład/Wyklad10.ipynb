{
 "cells": [
  {
   "cell_type": "markdown",
   "id": "5a13aa1f-505f-47d0-a3d0-475c0c7f751a",
   "metadata": {},
   "source": [
    "# Wykład 10 - Wzorce Projektowe - Budowniczy, Obserwator"
   ]
  },
  {
   "cell_type": "markdown",
   "id": "05346df3-eeca-4c7a-aed4-f5f6d8cf6279",
   "metadata": {},
   "source": [
    "## Method chaining"
   ]
  },
  {
   "cell_type": "code",
   "execution_count": 6,
   "id": "63bc3f10-38f5-4653-9354-8cd135859c97",
   "metadata": {},
   "outputs": [],
   "source": [
    "class Person {\n",
    "    private String name;\n",
    "    private int age;\n",
    "    \n",
    "    public Person setName(String name)\n",
    "    {\n",
    "        this.name = name;\n",
    "        return this;\n",
    "    }\n",
    "    \n",
    "    public Person setAge(int age)\n",
    "    {\n",
    "        this.age = age;\n",
    "        return this;\n",
    "    }\n",
    "    \n",
    "    void display()\n",
    "    {\n",
    "        System.out.println(\"Name = \" + name + \"; wiek = \" + age);\n",
    "    }\n",
    "}"
   ]
  },
  {
   "cell_type": "code",
   "execution_count": 9,
   "id": "bcf84989-fe5e-43c3-9b9c-643245492de9",
   "metadata": {},
   "outputs": [
    {
     "name": "stdout",
     "output_type": "stream",
     "text": [
      "Name = Rafal; wiek = 20\n"
     ]
    }
   ],
   "source": [
    "new Person()\n",
    "    .setName(\"Rafal\")\n",
    "    .setAge(20)\n",
    "    .display();"
   ]
  },
  {
   "cell_type": "code",
   "execution_count": 1,
   "id": "4718a94f-9773-40ac-98e3-abf936716467",
   "metadata": {},
   "outputs": [],
   "source": [
    "class Person {\n",
    "    private var name: String = \"\"\n",
    "    private var age: Int = 0\n",
    "\n",
    "    fun setName(name: String): Person {\n",
    "        this.name = name\n",
    "        return this\n",
    "    }\n",
    "\n",
    "    fun setAge(age: Int): Person {\n",
    "        this.age = age\n",
    "        return this\n",
    "    }\n",
    "\n",
    "    fun display() {\n",
    "        println(\"Name = $name; wiek = $age\")\n",
    "    }\n",
    "}"
   ]
  },
  {
   "cell_type": "code",
   "execution_count": 2,
   "id": "4bbe6675-8656-436a-9a75-ffdc59e89e7a",
   "metadata": {},
   "outputs": [
    {
     "name": "stdout",
     "output_type": "stream",
     "text": [
      "Name = Rafal; wiek = 25\n"
     ]
    }
   ],
   "source": [
    "Person()\n",
    "    .setName(\"Rafal\")\n",
    "    .setAge(25)\n",
    "    .display();"
   ]
  },
  {
   "cell_type": "markdown",
   "id": "86e97439-4ad4-47b1-b905-336829bd66c3",
   "metadata": {},
   "source": [
    "## Budowniczy"
   ]
  },
  {
   "cell_type": "markdown",
   "id": "7e457d61-d9e1-4d65-ae3e-e504f3a534f3",
   "metadata": {},
   "source": [
    "Wzorzec projektowy Budowniczy (Builder) jest wzorcem projektowym, który pozwala na tworzenie skomplikowanych obiektów, krok po kroku.\n",
    "\n",
    "Jego celem jest rozdzielenie procesu tworzenia obiektu od jego reprezentacji, dzięki czemu różne sposoby tworzenia tego samego typu obiektów mogą być zdefiniowane w różnych klasach budowniczych.\n",
    "\n",
    "Budowniczy składa się z dwóch głównych składników:\n",
    "\n",
    "- Klasa Product - reprezentuje obiekt, który jest tworzony. Może składać się z różnych składników, które są ustawiane przez budowniczego.\n",
    "- Klasa Builder - jest interfejsem lub klasą abstrakcyjną, która definiuje metody pozwalające na ustawienie poszczególnych składników obiektu.\n",
    "\n",
    "Korzystając z wzorca Budowniczy, można uniknąć tworzenia skomplikowanych konstruktorów z dużą liczbą argumentów, a także uniknąć problemów związanych z nieprawidłowymi stanami obiektów, które mogą powstać przy tworzeniu obiektów bezpośrednio przy użyciu konstruktora."
   ]
  },
  {
   "cell_type": "markdown",
   "id": "8bb38bcf-06b7-465e-aa07-b264ef4811ab",
   "metadata": {},
   "source": [
    "![](https://refactoring.guru/images/patterns/diagrams/builder/problem2-2x.png?id=5e7975a91c0e4f4ba960f908cc9c2ea2)"
   ]
  },
  {
   "cell_type": "markdown",
   "id": "ae81343b-1468-4854-b704-c4575e2f4576",
   "metadata": {},
   "source": [
    "![](https://refactoring.guru/images/patterns/diagrams/builder/solution1-2x.png?id=a9c2ab02f0b2aca1a7512022194dd113)"
   ]
  },
  {
   "cell_type": "markdown",
   "id": "1a200932-16a1-465f-b4e6-65a237b05d01",
   "metadata": {},
   "source": [
    "![](https://refactoring.guru/images/patterns/diagrams/builder/structure-2x.png?id=dca1b1508e23c266cbedc80ffb84311a)"
   ]
  },
  {
   "cell_type": "code",
   "execution_count": 1,
   "id": "803986a0-9125-482a-a763-9957c9ee35ab",
   "metadata": {},
   "outputs": [],
   "source": [
    "class Computer {\n",
    "    var CPU: String = \"\"\n",
    "    var RAM: String = \"\"\n",
    "    var storage: String = \"\"\n",
    "    var GPU: String = \"\"\n",
    "\n",
    "    override fun toString(): String {\n",
    "        return \"Computer(CPU='$CPU', RAM='$RAM', storage='$storage', GPU='$GPU')\"\n",
    "    }\n",
    "}"
   ]
  },
  {
   "cell_type": "code",
   "execution_count": null,
   "id": "e87f5b72-397a-4ba9-9c47-2db208f12fa2",
   "metadata": {},
   "outputs": [],
   "source": [
    "abstract class ComputerBuilder {\n",
    "    protected var computer = Computer()\n",
    "\n",
    "    abstract fun buildCPU()\n",
    "    abstract fun buildRAM()\n",
    "    abstract fun buildStorage()\n",
    "    abstract fun buildGPU()\n",
    "\n",
    "    fun getComputer(): Computer {\n",
    "        return computer\n",
    "    }\n",
    "}"
   ]
  },
  {
   "cell_type": "code",
   "execution_count": null,
   "id": "67a5fefb-94c9-4d9a-81b5-7455a69addfa",
   "metadata": {},
   "outputs": [],
   "source": [
    "class GamingComputerBuilder : ComputerBuilder() {\n",
    "    override fun buildCPU() {\n",
    "        computer.CPU = \"i7 9700K\"\n",
    "    }\n",
    "\n",
    "    override fun buildRAM() {\n",
    "        computer.RAM = \"32GB DDR4\"\n",
    "    }\n",
    "\n",
    "    override fun buildStorage() {\n",
    "        computer.storage = \"1TB SSD + 2TB HDD\"\n",
    "    }\n",
    "\n",
    "    override fun buildGPU() {\n",
    "        computer.GPU = \"RTX 3080\"\n",
    "    }\n",
    "}"
   ]
  },
  {
   "cell_type": "code",
   "execution_count": null,
   "id": "161c9d90-a0ab-4505-a9ad-e185be2933c1",
   "metadata": {},
   "outputs": [],
   "source": [
    "class OfficeComputerBuilder : ComputerBuilder() {\n",
    "    override fun buildCPU() {\n",
    "        computer.CPU = \"i5 8400\"\n",
    "    }\n",
    "\n",
    "    override fun buildRAM() {\n",
    "        computer.RAM = \"16GB DDR4\"\n",
    "    }\n",
    "\n",
    "    override fun buildStorage() {\n",
    "        computer.storage = \"500GB SSD\"\n",
    "    }\n",
    "\n",
    "    override fun buildGPU() {\n",
    "        computer.GPU = \"N/A\"\n",
    "    }\n",
    "}"
   ]
  },
  {
   "cell_type": "code",
   "execution_count": null,
   "id": "9a5fb833-ee9a-4663-be2a-3d9eba048211",
   "metadata": {},
   "outputs": [],
   "source": [
    "class ComputerDirector {\n",
    "    private var computerBuilder: ComputerBuilder = GamingComputerBuilder()\n",
    "\n",
    "    fun setComputerBuilder(computerBuilder: ComputerBuilder) {\n",
    "        this.computerBuilder = computerBuilder\n",
    "    }\n",
    "\n",
    "    fun buildComputer() {\n",
    "        computerBuilder.buildCPU()\n",
    "        computerBuilder.buildRAM()\n",
    "        computerBuilder.buildStorage()\n",
    "        computerBuilder.buildGPU()\n",
    "    }\n",
    "\n",
    "    fun getComputer(): Computer {\n",
    "        return computerBuilder.getComputer()\n",
    "    }\n",
    "}"
   ]
  },
  {
   "cell_type": "code",
   "execution_count": null,
   "id": "6d6ab9cf-a2ce-4802-b89e-14f0f9f33b7e",
   "metadata": {},
   "outputs": [],
   "source": [
    "val computerDirector = ComputerDirector()"
   ]
  },
  {
   "cell_type": "code",
   "execution_count": null,
   "id": "11cb8d87-f8a4-47f8-8315-8f1ec53b9f48",
   "metadata": {},
   "outputs": [],
   "source": [
    "computerDirector.setComputerBuilder(GamingComputerBuilder())\n",
    "computerDirector.buildComputer()\n",
    "val gamingComputer = computerDirector.getComputer()"
   ]
  },
  {
   "cell_type": "code",
   "execution_count": null,
   "id": "57b10b06-fdee-418b-bcef-f0ac54a82b79",
   "metadata": {},
   "outputs": [],
   "source": [
    "computerDirector.setComputerBuilder(OfficeComputerBuilder())\n",
    "computerDirector.buildComputer()\n",
    "val officeComputer = computerDirector.getComputer()"
   ]
  },
  {
   "cell_type": "markdown",
   "id": "2ec533a5-d7e5-4e1d-8f2e-ab3c476b8e71",
   "metadata": {},
   "source": [
    "`Director` wzoru projektowego Budowniczy odpowiada za tworzenie konkretnych instancji produktów poprzez składanie ich z pól składowych przy użyciu konkretnego budowniczego. `Director` zarządza procesem tworzenia produktu, decyduje o kolejności wykonywania operacji i udostępnia interfejs do konfiguracji budowniczego."
   ]
  },
  {
   "cell_type": "markdown",
   "id": "959864d3-7f8c-4146-8018-3659dae5bcbf",
   "metadata": {},
   "source": [
    "W powyższym przykładzie zdefiniowano klasę `Computer` reprezentującą skonfigurowany komputer. Klasa `ComputerBuilder` jest interfejsem dla klas budujących komputery, które implementują różne rodzaje komputerów, takie jak `GamingComputerBuilder` i `OfficeComputerBuilder`. Klasa `ComputerDirector` jest odpowiedzialna za konfigurację i zbudowanie komputera za pomocą odpowiedniego budowniczego."
   ]
  },
  {
   "cell_type": "markdown",
   "id": "675a55e4-033e-475e-912a-153511fd7a73",
   "metadata": {},
   "source": [
    "W powyższym przykładzie, klasa `ComputerDirector` posiada pola komputera, takie jak CPU, RAM, storage i GPU, a także implementuje metody `buildCPU`, `buildRAM`, `buildStorage`, `buildGPU`, które pozwalają na skonfigurowanie komputera za pomocą odpowiedniego budowniczego.\n",
    "\n",
    "W przykładzie użycia, tworzymy obiekt `ComputerDirector`, ustawiamy budowniczego na `GamingComputerBuilder` i budujemy komputer za pomocą metody `buildComputer()`. Następnie wykorzystując metodę `getComputer()` pobieramy zbudowany komputer.\n",
    "\n",
    "Tak samo robimy z `OfficeComputerBuilder` i pobieramy zbudowany komputer.\n",
    "\n",
    "W ten sposób, wzorzec Budowniczy pozwala na tworzenie skomplikowanych obiektów w sposób modularny i łatwy do rozszerzenia."
   ]
  },
  {
   "cell_type": "code",
   "execution_count": 1,
   "id": "7403e00c-03bf-45b2-a8de-c69d76ac8e55",
   "metadata": {},
   "outputs": [],
   "source": [
    "// https://www.digitalocean.com/community/tutorials/builder-design-pattern-in-java\n",
    "public class Computer {\n",
    "\n",
    "    //required parameters\n",
    "    private String HDD;\n",
    "    private String RAM;\n",
    "\n",
    "    //optional parameters\n",
    "    private boolean isGraphicsCardEnabled;\n",
    "    private boolean isBluetoothEnabled;\n",
    "\n",
    "\n",
    "    public String getHDD() {\n",
    "        return HDD;\n",
    "    }\n",
    "\n",
    "    public String getRAM() {\n",
    "        return RAM;\n",
    "    }\n",
    "\n",
    "    public boolean isGraphicsCardEnabled() {\n",
    "        return isGraphicsCardEnabled;\n",
    "    }\n",
    "\n",
    "    public boolean isBluetoothEnabled() {\n",
    "        return isBluetoothEnabled;\n",
    "    }\n",
    "\n",
    "    private Computer(ComputerBuilder builder) {\n",
    "        this.HDD=builder.HDD;\n",
    "        this.RAM=builder.RAM;\n",
    "        this.isGraphicsCardEnabled=builder.isGraphicsCardEnabled;\n",
    "        this.isBluetoothEnabled=builder.isBluetoothEnabled;\n",
    "    }\n",
    "    \n",
    "    //Builder Class\n",
    "    public static class ComputerBuilder{\n",
    "\n",
    "        // required parameters\n",
    "        private String HDD;\n",
    "        private String RAM;\n",
    "\n",
    "        // optional parameters\n",
    "        private boolean isGraphicsCardEnabled;\n",
    "        private boolean isBluetoothEnabled;\n",
    "\n",
    "        public ComputerBuilder(String hdd, String ram){\n",
    "            this.HDD=hdd;\n",
    "            this.RAM=ram;\n",
    "        }\n",
    "\n",
    "        public ComputerBuilder setGraphicsCardEnabled(boolean isGraphicsCardEnabled) {\n",
    "            this.isGraphicsCardEnabled = isGraphicsCardEnabled;\n",
    "            return this;\n",
    "        }\n",
    "\n",
    "        public ComputerBuilder setBluetoothEnabled(boolean isBluetoothEnabled) {\n",
    "            this.isBluetoothEnabled = isBluetoothEnabled;\n",
    "            return this;\n",
    "        }\n",
    "\n",
    "        public Computer build(){\n",
    "            return new Computer(this);\n",
    "        }\n",
    "    }\n",
    "}"
   ]
  },
  {
   "cell_type": "code",
   "execution_count": 4,
   "id": "3e077877-5c7a-44d7-8fc7-1caa4f44b38a",
   "metadata": {},
   "outputs": [],
   "source": [
    "Computer comp = new Computer.ComputerBuilder(\"500 GB\", \"2 GB\")\n",
    "    .setBluetoothEnabled(true)\n",
    "    .setGraphicsCardEnabled(true)\n",
    "    .build();"
   ]
  },
  {
   "cell_type": "markdown",
   "id": "d3e81d12-9daa-49a2-8748-541be867f5b4",
   "metadata": {},
   "source": [
    "Przykład: powiadomienia (Android)"
   ]
  },
  {
   "cell_type": "code",
   "execution_count": null,
   "id": "faaa7b61-9085-45ee-ba0f-c2072201680a",
   "metadata": {},
   "outputs": [],
   "source": [
    "// kotlin\n",
    "val builder = NotificationCompat.Builder(this, channelID)\n",
    "    .setSmallIcon(R.drawable.ic_baseline_notifications_24)\n",
    "    .setContentTitle(\"Powiadomienie\")\n",
    "    .setContentText(\"Treść powiadomienia\")\n",
    "    .setStyle(\n",
    "        NotificationCompat.BigTextStyle()\n",
    "            .bigText(\"Dalszy tekst powiadomienia\")\n",
    "    )\n",
    "    .setContentIntent(pendingIntent)\n",
    "    .setPriority(NotificationCompat.PRIORITY_DEFAULT)\n",
    "\n",
    "with(NotificationManagerCompat.from(this)) {\n",
    "    notify(notificationId, builder.build())\n",
    "}"
   ]
  },
  {
   "cell_type": "code",
   "execution_count": null,
   "id": "f3818bf8-ef8f-4b3e-8f30-829fcb0ef8e6",
   "metadata": {},
   "outputs": [],
   "source": [
    "// Java\n",
    "NotificationCompat.Builder builder = new NotificationCompat.Builder(this, channelID)\n",
    "    .setSmallIcon(R.drawable.ic_baseline_notifications_24)\n",
    "    .setContentTitle(\"Powiadomienie\")\n",
    "    .setContentText(\"Treść powiadomienia\")\n",
    "    .setStyle(\n",
    "            new NotificationCompat.BigTextStyle()\n",
    "                    .bigText(\"Dalszy tekst powiadomienia\")\n",
    "    )\n",
    "    .setContentIntent(pendingIntent)\n",
    "    .setPriority(NotificationCompat.PRIORITY_DEFAULT);\n",
    "\n",
    "NotificationManagerCompat notificationCompat = NotificationManagerCompat.from(this);\n",
    "notificationCompat.notify(notificationId, builder.build());"
   ]
  },
  {
   "cell_type": "markdown",
   "id": "ada8f65d-642b-4e89-b7c6-27d2af7b6a0f",
   "metadata": {},
   "source": [
    "## Obserwator"
   ]
  },
  {
   "cell_type": "markdown",
   "id": "70b56962-1a73-4958-abfc-6d4ba3a773c1",
   "metadata": {},
   "source": [
    "![](https://refactoring.guru/images/patterns/content/observer/observer-comic-1-en-2x.png)"
   ]
  },
  {
   "cell_type": "markdown",
   "id": "8108697f-deca-4b70-939c-36995f64078c",
   "metadata": {},
   "source": [
    "Obserwator jest wzorcem projektowym, który pozwala na subskrypcję obiektów do otrzymywania powiadomień o zmianach stanu innego obiektu, zwanego obiektem obserwowanym. Wzorzec ten pozwala na dynamiczne dodawanie lub usuwanie subskrypcji bez konieczności modyfikowania kodu obiektu obserwowanego.\n",
    "\n",
    "Korzystając z wzorca Obserwatora, można uniknąć tworzenia silnych powiązań między obiektami, które mogą być trudne do utrzymania i rozszerzania. Wzorzec ten jest często stosowany w projektowaniu interfejsów użytkownika, systemach wykrywania zmian w bazie danych, a także w wielu innych sytuacjach, gdzie istnieje potrzeba reagowania na zmiany stanu obiektów."
   ]
  },
  {
   "cell_type": "markdown",
   "id": "136ef094-b93a-41c2-bf24-72dab1937b62",
   "metadata": {},
   "source": [
    "![](https://refactoring.guru/images/patterns/diagrams/observer/solution1-en-2x.png)"
   ]
  },
  {
   "cell_type": "markdown",
   "id": "4f61eab6-ca75-4e56-b4eb-2ed1270029b5",
   "metadata": {},
   "source": [
    "Obserwator składa się z dwóch głównych składników:\n",
    "\n",
    "- Obiekt obserwowany (`Publisher`) - reprezentuje obiekt, którego stan jest monitorowany przez inne obiekty. Zawiera listę obiektów subskrybujących i metody do dodawania lub usuwania subskrybentów oraz wysyłania powiadomień o zmianie stanu.\n",
    "- Obiekt subskrybujący (`Subscriber`) - reprezentuje obiekt, który jest zainteresowany otrzymywaniem powiadomień o zmianie stanu obiektu obserwowanego. Zawiera metodę aktualizującą, która jest wywoływana przez obiekt obserwowany w celu przekazania powiadomienia."
   ]
  },
  {
   "cell_type": "markdown",
   "id": "92bf5611-dd04-41db-a302-572d608995e3",
   "metadata": {},
   "source": [
    "![](https://refactoring.guru/images/patterns/diagrams/observer/solution2-en-2x.png)"
   ]
  },
  {
   "cell_type": "code",
   "execution_count": 12,
   "id": "b9ae2ea4-676c-4829-a89e-1bdebbd9e7a7",
   "metadata": {},
   "outputs": [],
   "source": [
    "interface Subscriber {\n",
    "    fun update(temperature: Float, humidity: Float, pressure: Float)\n",
    "}\n",
    "\n",
    "interface Publisher {\n",
    "    fun registerSubscriber(subscriber: Subscriber)\n",
    "    fun removeSubscriber(subscriber: Subscriber)\n",
    "    fun notifySubscribers()\n",
    "}"
   ]
  },
  {
   "cell_type": "code",
   "execution_count": 13,
   "id": "70914309-2252-4b87-be56-ff8c4ea2be44",
   "metadata": {},
   "outputs": [],
   "source": [
    "class WeatherData : Publisher {\n",
    "    private val subscribers: MutableList<Subscriber> = ArrayList()\n",
    "    private var temperature: Float = 0f\n",
    "    private var humidity: Float = 0f\n",
    "    private var pressure: Float = 0f\n",
    "\n",
    "    override fun registerSubscriber(subscriber: Subscriber) {\n",
    "        subscribers.add(subscriber)\n",
    "    }\n",
    "\n",
    "    override fun removeSubscriber(subscriber: Subscriber) {\n",
    "        val i = subscribers.indexOf(subscriber)\n",
    "        if (i >= 0) {\n",
    "            subscribers.removeAt(i)\n",
    "        }\n",
    "    }\n",
    "\n",
    "    override fun notifySubscribers() {\n",
    "        for (subscriber in subscribers) {\n",
    "            subscriber.update(temperature, humidity, pressure)\n",
    "        }\n",
    "    }\n",
    "\n",
    "    fun setMeasurements(temperature: Float, humidity: Float, pressure: Float) {\n",
    "        this.temperature = temperature\n",
    "        this.humidity = humidity\n",
    "        this.pressure = pressure\n",
    "        measurementsChanged()\n",
    "    }\n",
    "\n",
    "    private fun measurementsChanged() {\n",
    "        notifySubscribers()\n",
    "    }\n",
    "}"
   ]
  },
  {
   "cell_type": "code",
   "execution_count": 14,
   "id": "06e35fdf-ad4b-408b-b140-a38472c8f7db",
   "metadata": {},
   "outputs": [],
   "source": [
    "class CurrentConditionsDisplay (private val weatherData: Publisher) : Subscriber {\n",
    "    private var temperature: Float = 0f\n",
    "    private var humidity: Float = 0f\n",
    "\n",
    "    init {\n",
    "        weatherData.registerSubscriber(this)\n",
    "    }\n",
    "\n",
    "    override fun update(temperature: Float, humidity: Float, pressure: Float) {\n",
    "        this.temperature = temperature\n",
    "        this.humidity = humidity\n",
    "        display()\n",
    "    }\n",
    "\n",
    "    fun display() {\n",
    "        println(\"Current conditions: $temperature F degrees and $humidity % humidity\")\n",
    "    }\n",
    "}"
   ]
  },
  {
   "cell_type": "code",
   "execution_count": 15,
   "id": "c5ccb033-4817-4cee-b004-dbaad6daff85",
   "metadata": {},
   "outputs": [
    {
     "name": "stdout",
     "output_type": "stream",
     "text": [
      "Current conditions: 80.0 F degrees and 65.0 % humidity\n"
     ]
    }
   ],
   "source": [
    "val weatherData = WeatherData()\n",
    "val currentDisplay = CurrentConditionsDisplay(weatherData)\n",
    "weatherData.setMeasurements(80f, 65f, 30.4f)"
   ]
  },
  {
   "cell_type": "code",
   "execution_count": 16,
   "id": "ac1a56b2-7420-4269-9782-03e9fb62849b",
   "metadata": {},
   "outputs": [
    {
     "name": "stdout",
     "output_type": "stream",
     "text": [
      "Current conditions: 800.0 F degrees and 65.0 % humidity\n"
     ]
    }
   ],
   "source": [
    "weatherData.setMeasurements(800f, 65f, 30.4f)"
   ]
  },
  {
   "cell_type": "markdown",
   "id": "6eecf24b-b1c0-4419-92dc-40ef3703c377",
   "metadata": {},
   "source": [
    "W powyższym przykładzie, klasa `WeatherData` jest obiektem obserwowanym, który przechowuje listę subskrybentów (obserwatorów) i powiadamia ich o zmianie danych pogodowych. Klasa `CurrentConditionsDisplay` jest przykładem obiektu subskrybującego, który otrzymuje powiadomienie o zmianie danych pogodowych i aktualizuje swój stan zgodnie z nowymi danymi.\n",
    "\n",
    "W przykładzie użycia, tworzymy obiekt `WeatherData` i obiekt `CurrentConditionsDisplay`, który subskrybuje obiekt `WeatherData`. Następnie ustawiamy nowe dane pogodowe za pomocą metody `setMeasurements()` w obiekcie `WeatherData`. Metoda ta powoduje również wysłanie powiadomień do wszystkich subskrybentów, w tym do obiektu `CurrentConditionsDisplay`, który aktualizuje swój stan i wyświetla aktualne warunki pogodowe.\n",
    "\n",
    "W ten sposób, wzorzec **Obserwator** pozwala na **dynamiczne** dodawanie lub usuwanie subskrypcji bez konieczności modyfikowania kodu obiektu obserwowanego. Jest to przydatne w sytuacjach, gdy wiele różnych obiektów potrzebuje reagować na zmiany stanu innego obiektu.\n",
    "\n",
    "W ten sposób, wzorzec **Obserwator** pozwala na rozdzielenie odpowiedzialności pomiędzy obiektami, a także na unikanie tworzenia silnych powiązań między obiektami, co jest szczególnie przydatne w sytuacjach, gdy struktura aplikacji jest skomplikowana i trudna do utrzymania."
   ]
  },
  {
   "cell_type": "markdown",
   "id": "bf723e41-6e0c-41ca-952b-0e6edde40fe8",
   "metadata": {},
   "source": [
    "Przykład: `LiveData`, `ViewModel`"
   ]
  },
  {
   "cell_type": "code",
   "execution_count": null,
   "id": "7663ceae-bfa1-463b-8c6a-84b3d8a4b09e",
   "metadata": {},
   "outputs": [],
   "source": [
    "// viewModel\n",
    "private val _score = MutableLiveData(0)\n",
    "val score: LiveData<Int>\n",
    "    get() = _score\n",
    "\n",
    "private val _currentWordCount = MutableLiveData(0)\n",
    "val currentWordCount: LiveData<Int>\n",
    "    get() = _currentWordCount\n",
    "\n",
    "// Fragment\n",
    "viewModel.currentScrambledWord.observe(viewLifecycleOwner) { newWord ->\n",
    "            binding.textViewUnscrambledWord.text = newWord}\n",
    "\n",
    "viewModel.score.observe(viewLifecycleOwner) {score ->\n",
    "    binding.score.text = score.toString()}\n",
    "\n",
    "viewModel.currentWordCount.observe(viewLifecycleOwner) {wordCount ->\n",
    "    binding.wordCount.text = getString(\n",
    "        R.string.word_count, wordCount, MAX_NO_OF_WORDS)}"
   ]
  }
 ],
 "metadata": {
  "kernelspec": {
   "display_name": "Kotlin",
   "language": "kotlin",
   "name": "kotlin"
  },
  "language_info": {
   "codemirror_mode": "text/x-kotlin",
   "file_extension": ".kt",
   "mimetype": "text/x-kotlin",
   "name": "kotlin",
   "nbconvert_exporter": "",
   "pygments_lexer": "kotlin",
   "version": "1.6.20-dev-6372"
  }
 },
 "nbformat": 4,
 "nbformat_minor": 5
}
