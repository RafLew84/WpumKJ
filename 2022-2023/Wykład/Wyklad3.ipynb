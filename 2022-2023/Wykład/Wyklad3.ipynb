{
 "cells": [
  {
   "cell_type": "markdown",
   "id": "a8f7942b-78ea-48e8-be0f-9fcfbde476aa",
   "metadata": {},
   "source": [
    "# Wykład 3 - Typy zerowalne"
   ]
  },
  {
   "cell_type": "markdown",
   "id": "9b85c5a0-6176-4938-bb86-35ddc591836e",
   "metadata": {},
   "source": [
    "Java zezwala na przpisanie zmiennej wartości lub `null`. Traktuje `null` w ten sam sposób jak każdą inną wartość. Prowadzi to występowania niechcianych efektów, np. gdy chcemy dostać się do pola instancji klasy. Jeżeli instancja będzie wskazywać na `null` otrzymamy `NullPointerException` - jest to błąd czasu wykonania."
   ]
  },
  {
   "cell_type": "code",
   "execution_count": 1,
   "id": "233506db-3c4b-44af-9d5e-9b8f40107c8c",
   "metadata": {},
   "outputs": [
    {
     "name": "stdout",
     "output_type": "stream",
     "text": [
      "Rafał\n"
     ]
    },
    {
     "ename": "EvalException",
     "evalue": "Cannot invoke \"REPL.$JShell$12$Student.getName()\" because \"REPL.$JShell$14.studentb\" is null",
     "output_type": "error",
     "traceback": [
      "\u001b[1m\u001b[31m---------------------------------------------------------------------------\u001b[0m",
      "\u001b[1m\u001b[31mjava.lang.NullPointerException: Cannot invoke \"REPL.$JShell$12$Student.getName()\" because \"REPL.$JShell$14.studentb\" is null\u001b[0m",
      "\u001b[1m\u001b[31m\tat .(#16:1)\u001b[0m"
     ]
    }
   ],
   "source": [
    "// java\n",
    "public class Student{\n",
    "    private String name;\n",
    "    \n",
    "    public Student(String name){\n",
    "        this.name = name;\n",
    "    }\n",
    "    \n",
    "    public String getName(){return name;}\n",
    "    public void setName(String value){this.name = value;}\n",
    "}\n",
    "\n",
    "Student studenta = new Student(\"Rafał\");\n",
    "Student studentb = null;\n",
    "System.out.println(studenta.getName());\n",
    "System.out.println(studentb.getName());"
   ]
  },
  {
   "cell_type": "markdown",
   "id": "6b67f6b0-e169-4ee5-bd22-e8f7449fc5db",
   "metadata": {},
   "source": [
    "Jednym z rozwiązań jest stosowanie prostego sprawdzenia."
   ]
  },
  {
   "cell_type": "code",
   "execution_count": 2,
   "id": "00dc7756-40d6-4e3e-b974-ea740bbc1fdb",
   "metadata": {},
   "outputs": [
    {
     "name": "stdout",
     "output_type": "stream",
     "text": [
      "Rafał\n",
      "Obsługa błędu\n"
     ]
    }
   ],
   "source": [
    "// java\n",
    "public class Student{\n",
    "    private String name;\n",
    "    \n",
    "    public Student(String name){\n",
    "        this.name = name;\n",
    "    }\n",
    "    \n",
    "    public String getName(){return name;}\n",
    "    public void setName(String value){this.name = value;}\n",
    "}\n",
    "\n",
    "Student studenta = new Student(\"Rafał\");\n",
    "Student studentb = null;\n",
    "System.out.println(studenta.getName());\n",
    "\n",
    "if (studentb != null){\n",
    "    System.out.println(studentb.getName());\n",
    "} else{\n",
    "    System.out.println(\"Obsługa błędu\");\n",
    "}"
   ]
  },
  {
   "cell_type": "markdown",
   "id": "3e798085-8168-4c0d-82f5-8c0c1d5df7b0",
   "metadata": {},
   "source": [
    "Jednym z rozwiązań jest brak zezwolenia na wartość `null` - alternatywą może być `no-value`. Kotlin jest językiem interoperacyjnym z Javą - takie było założenie, więc konieczne było wprowadzenie odpowiedniego rozwiązania."
   ]
  },
  {
   "cell_type": "markdown",
   "id": "c584da73-16c4-49ab-9be0-ab252b0fcc93",
   "metadata": {},
   "source": [
    "Domyślnie typy nie dopuszczają możliwości przypsania wartości `null`, ale istnieją ypy zerowalne (`nullable types`)."
   ]
  },
  {
   "cell_type": "code",
   "execution_count": 28,
   "id": "9794e318-a2fb-4562-983b-748dafec97b0",
   "metadata": {},
   "outputs": [
    {
     "name": "stdout",
     "output_type": "stream",
     "text": [
      "null\n",
      "null\n",
      "String\n"
     ]
    }
   ],
   "source": [
    "//val a: String = null // niedozwolone\n",
    "val b: String? = \"null\"\n",
    "val c: Int? = null\n",
    "\n",
    "println(b)\n",
    "println(c)\n",
    "\n",
    "//println(b::class.simpleName)\n",
    "//println(c::class.simpleName)\n",
    "\n",
    "println(b!!::class.simpleName)\n",
    "//println(c!!::class.simpleName)"
   ]
  },
  {
   "cell_type": "code",
   "execution_count": 13,
   "id": "b84aea21-24eb-47c6-a8ae-cfc94112e2e1",
   "metadata": {},
   "outputs": [
    {
     "name": "stdout",
     "output_type": "stream",
     "text": [
      "Rafał\n",
      "Rafał\n"
     ]
    }
   ],
   "source": [
    "val s: String? = \"Rafał\"\n",
    "println(s)\n",
    "//println(s.length)\n",
    "if (s != null)\n",
    "    println(s)\n",
    "    //println(s.length)"
   ]
  },
  {
   "cell_type": "code",
   "execution_count": 43,
   "id": "8b3baeab-60ee-42c2-8999-5a7ed695ecca",
   "metadata": {},
   "outputs": [
    {
     "name": "stdout",
     "output_type": "stream",
     "text": [
      "null\n"
     ]
    }
   ],
   "source": [
    "val s: String? = null\n",
    "//val s: String? = \"Rafal\"\n",
    "//println(s)\n",
    "println(s?.length)"
   ]
  },
  {
   "cell_type": "code",
   "execution_count": 45,
   "id": "762c5d19-97c9-4de8-b22a-2d43abeecdc1",
   "metadata": {},
   "outputs": [
    {
     "name": "stdout",
     "output_type": "stream",
     "text": [
      "Rafal\n",
      "5\n"
     ]
    }
   ],
   "source": [
    "//val s: String? = null\n",
    "val s: String? = \"Rafal\"\n",
    "println(s)\n",
    "println(s!!.length)"
   ]
  },
  {
   "cell_type": "code",
   "execution_count": 34,
   "id": "1f329276-0681-47e0-9eb4-c365d9d9662c",
   "metadata": {},
   "outputs": [],
   "source": [
    "val s: String = \"Rafał\"\n",
    "var s1: String? = s"
   ]
  },
  {
   "cell_type": "code",
   "execution_count": 37,
   "id": "574a7b36-bece-4380-b293-6ca5b9de2e32",
   "metadata": {},
   "outputs": [],
   "source": [
    "val a: String? = \"Rafał\"\n",
    "//var b: String = a\n",
    "var b: String = a!!"
   ]
  },
  {
   "cell_type": "code",
   "execution_count": 43,
   "id": "1afcfc2d-182b-4967-9483-2983db42e4e5",
   "metadata": {},
   "outputs": [
    {
     "name": "stdout",
     "output_type": "stream",
     "text": [
      "null\n",
      "Robert\n"
     ]
    }
   ],
   "source": [
    "class Person(\n",
    "    val name: String,\n",
    "    var friend: Person? = null\n",
    ")\n",
    "\n",
    "val rafal = Person(\"Rafał\")\n",
    "val robert = Person(\"Robert\", rafal)\n",
    "\n",
    "println(rafal.friend?.name)\n",
    "\n",
    "rafal.friend = robert\n",
    "println(rafal.friend?.name)"
   ]
  },
  {
   "cell_type": "code",
   "execution_count": 44,
   "id": "07590a35-3d84-4d36-901c-90b67ef410d1",
   "metadata": {},
   "outputs": [
    {
     "name": "stdout",
     "output_type": "stream",
     "text": [
      "null\n",
      "Unknown\n"
     ]
    }
   ],
   "source": [
    "val alicja = Person(\"Alicja\")\n",
    "\n",
    "println(alicja.friend?.name)\n",
    "println(alicja.friend?.name?: \"Unknown\")"
   ]
  },
  {
   "cell_type": "code",
   "execution_count": 45,
   "id": "3970c13b-b181-49f5-961d-01c5fa3007e1",
   "metadata": {},
   "outputs": [
    {
     "name": "stdout",
     "output_type": "stream",
     "text": [
      "Rafał\n"
     ]
    }
   ],
   "source": [
    "alicja.friend = rafal\n",
    "println(alicja.friend?.name?: \"Unknown\")"
   ]
  },
  {
   "cell_type": "code",
   "execution_count": 13,
   "id": "52eacdcb-9448-45ca-991e-1434e8152f53",
   "metadata": {},
   "outputs": [],
   "source": [
    "class Person(\n",
    "    val name: String,\n",
    "    var age: Int?\n",
    ")"
   ]
  },
  {
   "cell_type": "code",
   "execution_count": 38,
   "id": "4b90136e-4aa0-4487-96dc-ed0b918c21f9",
   "metadata": {},
   "outputs": [
    {
     "name": "stderr",
     "output_type": "stream",
     "text": [
      "Line_69.jupyter-kts (4:21 - 22) Operator call corresponds to a dot-qualified call 'age.plus(1)' which is not allowed on a nullable receiver 'age'."
     ]
    }
   ],
   "source": [
    "val john : Person? = Person(\"Rafał\", 38)\n",
    "\n",
    "val age = john?.age\n",
    "val offsetAge = age + 1\n",
    "\n",
    "println(offsetAge)"
   ]
  },
  {
   "cell_type": "code",
   "execution_count": 39,
   "id": "8be2f71c-6baf-4645-9be7-2f5574ab1c78",
   "metadata": {},
   "outputs": [
    {
     "name": "stdout",
     "output_type": "stream",
     "text": [
      "26\n"
     ]
    }
   ],
   "source": [
    "val age = john?.age ?: 25\n",
    "val offsetAge = age + 1 \n",
    "println(offsetAge)"
   ]
  },
  {
   "cell_type": "code",
   "execution_count": 20,
   "id": "dcd2f1ae-fbf9-4f69-a9ec-c18b05a3a10b",
   "metadata": {},
   "outputs": [
    {
     "name": "stdout",
     "output_type": "stream",
     "text": [
      "39\n"
     ]
    }
   ],
   "source": [
    "val john : Person? = Person(\"Rafał\", 38)\n",
    "\n",
    "val age = john?.age!!\n",
    "val offsetAge = age + 1\n",
    "\n",
    "println(offsetAge)"
   ]
  },
  {
   "cell_type": "code",
   "execution_count": 42,
   "id": "ee306ea4-66f3-4fd9-97c9-2c7b6e167209",
   "metadata": {},
   "outputs": [
    {
     "name": "stdout",
     "output_type": "stream",
     "text": [
      "38\n"
     ]
    }
   ],
   "source": [
    "val john : Person? = Person(\"Rafał\", 38)\n",
    "\n",
    "//val age: Int = john?.age\n",
    "//val age: Int? = john?.age\n",
    " val age = john?.age\n",
    "println(age)"
   ]
  },
  {
   "cell_type": "code",
   "execution_count": 26,
   "id": "9fe1851a-fd76-4f5b-9f2d-c95c9d721298",
   "metadata": {},
   "outputs": [
    {
     "name": "stdout",
     "output_type": "stream",
     "text": [
      "1\n"
     ]
    }
   ],
   "source": [
    "val john = Person(\"Rafał\", null)\n",
    "\n",
    "val age = john?.age ?: 0\n",
    "val offsetAge = age + 1\n",
    "\n",
    "println(offsetAge)"
   ]
  },
  {
   "cell_type": "code",
   "execution_count": 71,
   "id": "cdf33916-ea39-4cbc-80a3-e1227c58768f",
   "metadata": {},
   "outputs": [
    {
     "name": "stdout",
     "output_type": "stream",
     "text": [
      "true\n",
      "true\n",
      "\n",
      "true\n",
      "true\n",
      "\n",
      "false\n",
      "true\n"
     ]
    }
   ],
   "source": [
    "val s1: String? = null\n",
    "println(s1.isNullOrEmpty())\n",
    "println(s1.isNullOrBlank())\n",
    "println()\n",
    "\n",
    "val s2 = \"\"\n",
    "println(s2.isNullOrEmpty())\n",
    "println(s2.isNullOrBlank())\n",
    "println()\n",
    "\n",
    "val s3: String = \" \\t\\n\"\n",
    "println(s3.isNullOrEmpty())\n",
    "println(s3.isNullOrBlank())"
   ]
  },
  {
   "cell_type": "code",
   "execution_count": 101,
   "id": "3c4f1c20-db91-4719-853e-73abb579e787",
   "metadata": {},
   "outputs": [
    {
     "name": "stdout",
     "output_type": "stream",
     "text": [
      "true\n"
     ]
    }
   ],
   "source": [
    "println(\"\".isNullOrEmpty())"
   ]
  }
 ],
 "metadata": {
  "kernelspec": {
   "display_name": "Kotlin",
   "language": "kotlin",
   "name": "kotlin"
  },
  "language_info": {
   "codemirror_mode": "text/x-kotlin",
   "file_extension": ".kt",
   "mimetype": "text/x-kotlin",
   "name": "kotlin",
   "nbconvert_exporter": "",
   "pygments_lexer": "kotlin",
   "version": "1.6.20-dev-6372"
  }
 },
 "nbformat": 4,
 "nbformat_minor": 5
}
