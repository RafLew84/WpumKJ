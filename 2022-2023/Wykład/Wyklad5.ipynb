{
 "cells": [
  {
   "cell_type": "markdown",
   "id": "2409e934-e36b-46b5-bc85-f7b1f34cb51c",
   "metadata": {},
   "source": [
    "# Wykład 5 - Klasy"
   ]
  },
  {
   "cell_type": "markdown",
   "id": "35aeb0bb-4ec5-40fd-a003-c3ada6820ffb",
   "metadata": {},
   "source": [
    "## Dziedziczenie"
   ]
  },
  {
   "cell_type": "code",
   "execution_count": 1,
   "id": "3214cd87-7b50-4a5d-aa19-3a7b2ae0a2b6",
   "metadata": {},
   "outputs": [
    {
     "name": "stdout",
     "output_type": "stream",
     "text": [
      "Dog.eat() called\n",
      "Dog.chew() called\n",
      "Animal.eat() called\n",
      "Dog.walk() called\n",
      "Animal.move() called.  Animal is moving at 5\n"
     ]
    }
   ],
   "source": [
    "public class Animal {\n",
    "\n",
    "    private String name;\n",
    "    private int body;\n",
    "    private int size;\n",
    "    private int weight;\n",
    "\n",
    "    public Animal(String name, int body, int size, int weight) {\n",
    "        this.name = name;\n",
    "        this.body = body;\n",
    "        this.size = size;\n",
    "        this.weight = weight;\n",
    "    }\n",
    "\n",
    "    public void eat() {\n",
    "        System.out.println(\"Animal.eat() called\");\n",
    "    }\n",
    "\n",
    "    public void move(int speed) {\n",
    "        System.out.println(\"Animal.move() called.  Animal is moving at \" + speed);\n",
    "    }\n",
    "\n",
    "    public String getName() {\n",
    "        return name;\n",
    "    }\n",
    "\n",
    "    public int getBody() {\n",
    "        return body;\n",
    "    }\n",
    "\n",
    "    public int getSize() {\n",
    "        return size;\n",
    "    }\n",
    "\n",
    "    public int getWeight() {\n",
    "        return weight;\n",
    "    }\n",
    "}\n",
    "\n",
    "public class Dog extends Animal {\n",
    "\n",
    "    private int eyes;\n",
    "    private int legs;\n",
    "    private int tail;\n",
    "    private int teeth;\n",
    "    private String coat;\n",
    "\n",
    "    public Dog(String name, int size, int weight,\n",
    "               int eyes, int legs, int tail, int teeth, String coat) {\n",
    "        super(name, 1, size, weight);\n",
    "        this.eyes = eyes;\n",
    "        this.legs = legs;\n",
    "        this.tail = tail;\n",
    "        this.teeth = teeth;\n",
    "        this.coat = coat;\n",
    "    }\n",
    "\n",
    "    private void chew() {\n",
    "        System.out.println(\"Dog.chew() called\");\n",
    "    }\n",
    "\n",
    "    @Override\n",
    "    public void eat() {\n",
    "        System.out.println(\"Dog.eat() called\");\n",
    "        chew();\n",
    "        super.eat();\n",
    "    }\n",
    "\n",
    "    public void walk() {\n",
    "        System.out.println(\"Dog.walk() called\");\n",
    "        super.move(5);\n",
    "    }\n",
    "\n",
    "    public void run() {\n",
    "        System.out.println(\"Dog.run() called\");\n",
    "        move(10);\n",
    "    }\n",
    "\n",
    "    private void moveLegs(int speed) {\n",
    "        System.out.println(\"Dog.moveLegs() called\");\n",
    "    }\n",
    "\n",
    "    @Override\n",
    "    public void move(int speed) {\n",
    "        System.out.println(\"Dog.move() called\");\n",
    "        moveLegs(speed);\n",
    "        super.move(speed);\n",
    "    }\n",
    "}\n",
    "\n",
    "public class Main {\n",
    "    public static void main() {\n",
    "        Dog dog = new Dog(\"Yorkie\",\n",
    "                8,\n",
    "                20,\n",
    "                2,\n",
    "                4,\n",
    "                1,\n",
    "                20,\n",
    "                \"long silky\");\n",
    "        dog.eat();\n",
    "        dog.walk();\n",
    "    }\n",
    "}\n",
    "\n",
    "Main.main()"
   ]
  },
  {
   "cell_type": "code",
   "execution_count": 8,
   "id": "89791828-ee0f-4cac-81cb-c019c6bda418",
   "metadata": {},
   "outputs": [
    {
     "name": "stdout",
     "output_type": "stream",
     "text": [
      "Dog.eat() called\n",
      "Dog.chew() called\n",
      "Animal.eat() called\n",
      "Dog.walk() called\n",
      "Animal.move() called.  Animal is moving at 5\n"
     ]
    }
   ],
   "source": [
    "open class Animal(val name: String, val body: Int, val size: Int, val weight: Int) {\n",
    "\n",
    "    open fun eat() {\n",
    "        println(\"Animal.eat() called\")\n",
    "    }\n",
    "\n",
    "    open fun move(speed: Int) {\n",
    "        println(\"Animal.move() called.  Animal is moving at $speed\")\n",
    "    }\n",
    "}\n",
    "\n",
    "class Dog(\n",
    "    name: String,\n",
    "    size: Int,\n",
    "    weight: Int,\n",
    "    private val eyes: Int,\n",
    "    private val legs: Int,\n",
    "    private val tail: Int,\n",
    "    private val teeth: Int,\n",
    "    private val coat: String\n",
    ") : Animal(name, 1, size, weight) {\n",
    "\n",
    "    private fun chew() {\n",
    "        println(\"Dog.chew() called\")\n",
    "    }\n",
    "\n",
    "    override fun eat() {\n",
    "        println(\"Dog.eat() called\")\n",
    "        chew()\n",
    "        super.eat()\n",
    "    }\n",
    "\n",
    "    fun walk() {\n",
    "        println(\"Dog.walk() called\")\n",
    "        super.move(5)\n",
    "    }\n",
    "\n",
    "    fun run() {\n",
    "        println(\"Dog.run() called\")\n",
    "        move(10)\n",
    "    }\n",
    "\n",
    "    private fun moveLegs(speed: Int) {\n",
    "        println(\"Dog.moveLegs() called\")\n",
    "    }\n",
    "\n",
    "    override fun move(speed: Int) {\n",
    "        println(\"Dog.move() called\")\n",
    "        moveLegs(speed)\n",
    "        super.move(speed)\n",
    "    }\n",
    "}\n",
    "\n",
    "fun main() {\n",
    "    val dog = Dog(\n",
    "        \"Yorkie\",\n",
    "        8,\n",
    "        20,\n",
    "        2,\n",
    "        4,\n",
    "        1,\n",
    "        20,\n",
    "        \"long silky\"\n",
    "    )\n",
    "    dog.eat()\n",
    "    dog.walk()\n",
    "}\n",
    "main()"
   ]
  },
  {
   "cell_type": "markdown",
   "id": "e5d3d431-cd98-49f5-8f84-9222398dc3f0",
   "metadata": {},
   "source": [
    "## lateinit vs lazy"
   ]
  },
  {
   "cell_type": "code",
   "execution_count": 3,
   "id": "3c6363c2-fb8d-49d3-8f8d-15b4a0ae0675",
   "metadata": {},
   "outputs": [],
   "source": [
    "lateinit var s: String"
   ]
  },
  {
   "cell_type": "code",
   "execution_count": 9,
   "id": "19237c32-ec44-4a42-9cb6-f5a156f85d52",
   "metadata": {},
   "outputs": [
    {
     "name": "stderr",
     "output_type": "stream",
     "text": [
      "Line_8.jupyter-kts (1:1 - 9) 'lateinit' modifier is not allowed on properties of primitive types"
     ]
    }
   ],
   "source": [
    "lateinit var x: Int"
   ]
  },
  {
   "cell_type": "code",
   "execution_count": 2,
   "id": "929fea38-adde-4fc7-a904-4604a4795708",
   "metadata": {},
   "outputs": [],
   "source": [
    "import kotlin.properties.Delegates\n",
    "\n",
    "var x by Delegates.notNull<Int>()"
   ]
  },
  {
   "cell_type": "code",
   "execution_count": 16,
   "id": "504c0f75-f1eb-4c82-9da2-e1f34bb84c6f",
   "metadata": {},
   "outputs": [
    {
     "name": "stdout",
     "output_type": "stream",
     "text": [
      "false\n"
     ]
    }
   ],
   "source": [
    "data class User (val id : Long, val username : String)\n",
    "\n",
    "lateinit var lateinitUser : User\n",
    "\n",
    "println(::lateinitUser.isInitialized)"
   ]
  },
  {
   "cell_type": "code",
   "execution_count": 17,
   "id": "494d3805-3e61-4c95-bc26-8067b8e258e6",
   "metadata": {},
   "outputs": [
    {
     "name": "stdout",
     "output_type": "stream",
     "text": [
      "User(id=1, username=Rafał)\n"
     ]
    }
   ],
   "source": [
    "lateinitUser = User(1, \"Rafał\")\n",
    "println(lateinitUser)"
   ]
  },
  {
   "cell_type": "code",
   "execution_count": 18,
   "id": "468728cc-9885-41e8-a382-7af34e691a3f",
   "metadata": {},
   "outputs": [
    {
     "name": "stdout",
     "output_type": "stream",
     "text": [
      "User(id=1, username=rafał)\n"
     ]
    }
   ],
   "source": [
    "val lazyUser : User by lazy {\n",
    "        User(id = 1, username = \"rafał\")\n",
    "    }\n",
    "\n",
    "println(lazyUser)"
   ]
  },
  {
   "cell_type": "code",
   "execution_count": 25,
   "id": "168ff489-a59a-4361-a889-06dbe4f2f768",
   "metadata": {},
   "outputs": [
    {
     "name": "stdout",
     "output_type": "stream",
     "text": [
      "10\n"
     ]
    }
   ],
   "source": [
    "val lazyInt by lazy { 10 }\n",
    "\n",
    "println(lazyInt)"
   ]
  },
  {
   "cell_type": "code",
   "execution_count": 43,
   "id": "6d0225da-1cba-47d6-9481-c88d646c68b5",
   "metadata": {},
   "outputs": [
    {
     "name": "stdout",
     "output_type": "stream",
     "text": [
      "computed!\n",
      "Hello\n",
      "Hello\n"
     ]
    }
   ],
   "source": [
    "val lazyValue: String by lazy {\n",
    "    println(\"computed!\")\n",
    "    \"Hello\"\n",
    "}\n",
    "\n",
    "\n",
    "println(lazyValue)\n",
    "println(lazyValue)"
   ]
  },
  {
   "cell_type": "markdown",
   "id": "75d999f2-4adc-493e-9195-ad71ef89daa7",
   "metadata": {},
   "source": [
    "## Modyfikatory"
   ]
  },
  {
   "cell_type": "markdown",
   "id": "97d50abd-87fa-4edb-87be-1cfdce9e287d",
   "metadata": {},
   "source": [
    "W Javie można tworzyć klasy pochodne od dowolnej klasy i nadpisywać wszystkie metody (oprócz oznaczonych jako `final`) - prowadzi to do problemu **kruchej klasy bazowej**. Modyfikacja kodu klasy bazowej powoduje nieprowidłowe działanie klas pochodnych."
   ]
  },
  {
   "cell_type": "markdown",
   "id": "c17a5c55-ee4b-4357-97f1-838453dc2e56",
   "metadata": {},
   "source": [
    "W Javie przyjęte jest że wszystkie klasy i metody które nie są przeznaczone do dziedziczenia należy oznaczyć jako `final`."
   ]
  },
  {
   "cell_type": "markdown",
   "id": "e956fecf-6e73-4bb8-9b71-d0a10442153a",
   "metadata": {},
   "source": [
    "W Kotlinie jeżeli chcemy umożlić tworzenie klas pochodnych, klasę bazową oznaczamy jako `open`. Analogicznie postępujemy z metodami i właściwościami."
   ]
  },
  {
   "cell_type": "code",
   "execution_count": 1,
   "id": "5fde5ab8-b432-4dab-addc-6914333ae483",
   "metadata": {},
   "outputs": [],
   "source": [
    "open class Animal(val name: String, val body: Int, val size: Int, val weight: Int) {\n",
    "\n",
    "    open fun eat() {\n",
    "        println(\"Animal.eat() called\")\n",
    "    }\n",
    "\n",
    "    open fun move(speed: Int) {\n",
    "        println(\"Animal.move() called.  Animal is moving at $speed\")\n",
    "    }\n",
    "}\n",
    "\n",
    "open class Dog(\n",
    "    name: String,\n",
    "    size: Int,\n",
    "    weight: Int,\n",
    "    private val eyes: Int,\n",
    "    private val legs: Int,\n",
    "    private val tail: Int,\n",
    "    private val teeth: Int,\n",
    "    private val coat: String\n",
    ") : Animal(name, 1, size, weight) {\n",
    "\n",
    "    override fun eat() { // element nadpisujący jest domyślnie otwarty\n",
    "        println(\"Dog.eat() called\")\n",
    "        super.eat()\n",
    "    }\n",
    "\n",
    "    fun run() {\n",
    "        println(\"Dog.run() called\")\n",
    "        move(10)\n",
    "    }\n",
    "\n",
    "    private fun moveLegs(speed: Int) {\n",
    "        println(\"Dog.moveLegs() called\")\n",
    "    }\n",
    "\n",
    "    final override fun move(speed: Int) { // jeżeli nie chcemy aby był otwarty \n",
    "                                          // określamy jako final\n",
    "        println(\"Dog.move() called\")\n",
    "        moveLegs(speed)\n",
    "        super.move(speed)\n",
    "    }\n",
    "}"
   ]
  },
  {
   "cell_type": "code",
   "execution_count": 2,
   "id": "a4b3a92f-48c5-4bec-b078-cea98043f837",
   "metadata": {},
   "outputs": [
    {
     "name": "stdout",
     "output_type": "stream",
     "text": [
      "Chihuahua.move() called\n",
      "Dog.move() called\n",
      "Dog.moveLegs() called\n",
      "Animal.move() called.  Animal is moving at 19\n"
     ]
    }
   ],
   "source": [
    "class Chihuahua(name: String,\n",
    "    size: Int,\n",
    "    weight: Int,\n",
    "    private val eyes: Int,\n",
    "    private val legs: Int,\n",
    "    private val tail: Int,\n",
    "    private val teeth: Int,\n",
    "    private val coat: String\n",
    ") : Dog (name, size, weight, eyes, legs, tail, teeth, coat){\n",
    "    override fun eat() {\n",
    "        println(\"Chihuahua.eat() called\")\n",
    "        super.eat()\n",
    "    }\n",
    "    \n",
    "    // override fun run(){ // niedozwolone\n",
    "    //     println(\"Chihuahua.run() called\")\n",
    "    // }\n",
    "    \n",
    "    \n",
    "    override fun move(speed: Int) { // niedozwolone\n",
    "        println(\"Chihuahua.move() called\")\n",
    "        super.move(speed)\n",
    "    }\n",
    "}\n",
    "\n",
    "val c = Chihuahua(\"mag\", 20, 10, 1, 4, 1, 12, \"coat\")\n",
    "c.move(19)"
   ]
  },
  {
   "cell_type": "code",
   "execution_count": null,
   "id": "4972f3c6-fafc-47bc-bda8-6bddd8e9a051",
   "metadata": {},
   "outputs": [],
   "source": [
    "public val z1 = 0 // widoczna wszędzie (domyślny)\n",
    "private val z2 = 0 // widoczna w pliku\n",
    "protected val z3 = 0 // niedozwolone\n",
    "internal val z4 = 0 // widoczna wewnątrz modułu"
   ]
  },
  {
   "cell_type": "code",
   "execution_count": null,
   "id": "adb128d7-b601-4068-bff0-8668554bfd41",
   "metadata": {},
   "outputs": [],
   "source": [
    "class A(){\n",
    "    public val m1 = 0 // widoczna wszędzie (domyślny)\n",
    "    private val m2 = 0 // widoczna w obrębie klasy\n",
    "    protected val m3 = 0 // widoczna z klas pochodnych\n",
    "    internal val m4 = 0 // widoczna wewnątrz modułu\n",
    "}"
   ]
  },
  {
   "cell_type": "markdown",
   "id": "3c0ef301-69e0-4430-8fbc-bd3ed5606fe3",
   "metadata": {},
   "source": [
    "## Klasy abstrakcyjne"
   ]
  },
  {
   "cell_type": "code",
   "execution_count": 30,
   "id": "777bae62-8ccf-4414-b539-e0f60739d6bd",
   "metadata": {},
   "outputs": [
    {
     "name": "stdout",
     "output_type": "stream",
     "text": [
      "Dog.eat() called\n",
      "Animal.move() called\n"
     ]
    }
   ],
   "source": [
    "abstract class Animal {\n",
    "    \n",
    "    abstract fun eat() // wymagana implementacja przez klasy pochodne\n",
    "    \n",
    "    open fun move(){ // możliwość nadpisania przez klasy pochodne\n",
    "        println(\"Animal.move() called\")\n",
    "    }\n",
    "}\n",
    "\n",
    "class Dog (): Animal(){ // konstruktor\n",
    "    final override fun eat(){ // wymagana implementacja\n",
    "        println(\"Dog.eat() called\")\n",
    "    }\n",
    "}\n",
    "\n",
    "val dog = Dog()\n",
    "dog.eat()\n",
    "dog.move()"
   ]
  },
  {
   "cell_type": "markdown",
   "id": "4dd97cc2-308b-4e91-ae28-b81df0cbffac",
   "metadata": {},
   "source": [
    "- `final` - domyślny modyfikator elementu klasy (Kotlin)\n",
    "- `open` - **można** nadpisać\n",
    "- `abstract` - **wymagane** nadpisanie\n",
    "- `override` - nadpisuje element klasy nadrzędnej (lub interfejsu)"
   ]
  },
  {
   "cell_type": "code",
   "execution_count": 1,
   "id": "73fae235-00f8-4518-b7d9-edfd2d30ecb0",
   "metadata": {},
   "outputs": [
    {
     "data": {
      "text/plain": [
       "RRRaaafffaaałłł"
      ]
     },
     "execution_count": 1,
     "metadata": {},
     "output_type": "execute_result"
    }
   ],
   "source": [
    "abstract class Multiply {\n",
    "    String s;\n",
    "    public Multiply(String s){\n",
    "        this.s = s;\n",
    "    }\n",
    "    abstract String multiply(int s);\n",
    "}\n",
    " \n",
    "class MyString extends Multiply {\n",
    "    MyString(){\n",
    "        super(\"Rafał\");\n",
    "    }\n",
    "    @Override\n",
    "    public String multiply(int m)\n",
    "    {\n",
    "        String myString = \"\";\n",
    "        for(char c: this.s.toCharArray())\n",
    "            for(int i = 0; i < m; i++)\n",
    "                myString += c;\n",
    "        return myString;\n",
    "    }\n",
    "}\n",
    "\n",
    "MyString myString = new MyString();\n",
    "myString.multiply(3);"
   ]
  },
  {
   "cell_type": "code",
   "execution_count": 8,
   "id": "024f65f1-e67b-4138-a20b-68ac600c6277",
   "metadata": {},
   "outputs": [
    {
     "data": {
      "text/plain": [
       "RRRRaaaaffffaaaałłłł"
      ]
     },
     "execution_count": 8,
     "metadata": {},
     "output_type": "execute_result"
    }
   ],
   "source": [
    "abstract class Multiply(val s: String) {\n",
    "    abstract fun multiply(s: Int): String\n",
    "}\n",
    " \n",
    "class MyString : Multiply (\"Rafał\") {\n",
    "    override fun multiply(m: Int): String {\n",
    "        var myString = \"\"\n",
    "        for(c: Char in s)\n",
    "            for(i in 0..m)\n",
    "                myString += c;\n",
    "        return myString\n",
    "    }\n",
    "}\n",
    "\n",
    "var myString = MyString()\n",
    "myString.multiply(3)"
   ]
  },
  {
   "cell_type": "code",
   "execution_count": 13,
   "id": "38138685-939d-4f79-896b-c916d8efb8e6",
   "metadata": {},
   "outputs": [
    {
     "data": {
      "text/plain": [
       "RRRRaaaaffffaaaałłłł"
      ]
     },
     "execution_count": 13,
     "metadata": {},
     "output_type": "execute_result"
    }
   ],
   "source": [
    "abstract class Multiply2(val s: String) {\n",
    "    abstract fun multiply(s: Int): String\n",
    "}\n",
    " \n",
    "class MyString2 (val a: String) : Multiply2 (a) {\n",
    "    override fun multiply(m: Int): String {\n",
    "        var myString = \"\"\n",
    "        for(c: Char in s)\n",
    "            for(i in 0..m)\n",
    "                myString += c;\n",
    "        return myString\n",
    "    }\n",
    "}\n",
    "\n",
    "var myString2 = MyString2(\"Rafał\")\n",
    "myString2.multiply(3)"
   ]
  },
  {
   "cell_type": "markdown",
   "id": "eaa694e8-54f1-4c67-b5c6-f8e723fd30de",
   "metadata": {},
   "source": [
    "## Klasy zagnieżdżone i wewnętrzne"
   ]
  },
  {
   "cell_type": "markdown",
   "id": "7d2385a0-f331-47cb-b3d4-702e19ec1efd",
   "metadata": {},
   "source": [
    "Java:"
   ]
  },
  {
   "cell_type": "code",
   "execution_count": 1,
   "id": "f66adf65-4f6c-4830-a454-d9c402b506b8",
   "metadata": {},
   "outputs": [],
   "source": [
    "public class Zewnetrzna{\n",
    "    static class Zagniezdzona{}\n",
    "}"
   ]
  },
  {
   "cell_type": "code",
   "execution_count": 2,
   "id": "900390f5-708a-420e-84c7-da74782299b5",
   "metadata": {},
   "outputs": [],
   "source": [
    "public class Zewnetrzna{\n",
    "    class Wewnetrzna{}\n",
    "}"
   ]
  },
  {
   "cell_type": "markdown",
   "id": "8f924459-b4fd-4be8-bee5-8fcf64caec93",
   "metadata": {},
   "source": [
    "Kotlin:"
   ]
  },
  {
   "cell_type": "code",
   "execution_count": 1,
   "id": "ce001844-b786-491b-95f6-127bca1aad2c",
   "metadata": {},
   "outputs": [],
   "source": [
    "class Zewnetrzna{\n",
    "    class Zagniezdzona{}\n",
    "}"
   ]
  },
  {
   "cell_type": "code",
   "execution_count": 2,
   "id": "a49f558a-871c-4b1e-b485-a6e009d575a4",
   "metadata": {},
   "outputs": [],
   "source": [
    "class Zewnetrzna{\n",
    "    inner class Wewnetrzna{}\n",
    "}"
   ]
  },
  {
   "cell_type": "markdown",
   "id": "dee6770d-c1d4-4834-a0a6-3a88bd2bb187",
   "metadata": {},
   "source": [
    "- klasa **wewnętrzna** zawiera odwołanie do klasy zewnętrznej\n",
    "- klasa **zagnieżdżona** nie zawiera odwołania do klasy zewnętrznej"
   ]
  },
  {
   "cell_type": "code",
   "execution_count": 13,
   "id": "4fe950b2-c10e-4372-be54-43183619d9db",
   "metadata": {},
   "outputs": [
    {
     "name": "stdout",
     "output_type": "stream",
     "text": [
      "Line_12$Zewnetrzna@4bfda6d\n",
      "Line_12$Zewnetrzna$Wewnetrzna@33c599e1\n"
     ]
    }
   ],
   "source": [
    "class Zewnetrzna{\n",
    "    inner class Wewnetrzna{\n",
    "        fun reference(){\n",
    "            println(this@Zewnetrzna)\n",
    "        }\n",
    "    }\n",
    "}\n",
    "\n",
    "val w = Zewnetrzna().Wewnetrzna()\n",
    "w.reference()\n",
    "println(w)"
   ]
  },
  {
   "cell_type": "code",
   "execution_count": 88,
   "id": "814e7df8-008a-4867-915b-d7317ab01c6d",
   "metadata": {},
   "outputs": [
    {
     "name": "stdout",
     "output_type": "stream",
     "text": [
      "Hello"
     ]
    }
   ],
   "source": [
    "class Zewnetrzna2{\n",
    "    private fun p(){\n",
    "        print(\"Hello\")\n",
    "    }\n",
    "    inner class Wewnetrzna2{\n",
    "        fun reference(){\n",
    "            p()\n",
    "        }\n",
    "    }\n",
    "}\n",
    "\n",
    "val w2 = Zewnetrzna2().Wewnetrzna2()\n",
    "w2.reference()"
   ]
  },
  {
   "cell_type": "code",
   "execution_count": 91,
   "id": "da00c00d-6f82-46f9-ab0c-2863a658818f",
   "metadata": {},
   "outputs": [
    {
     "name": "stdout",
     "output_type": "stream",
     "text": [
      "Hello"
     ]
    }
   ],
   "source": [
    "class Zewnetrzna3{\n",
    "    private fun p(){\n",
    "        print(\"Hello\")\n",
    "    }\n",
    "    inner class Zagniezdzona2{\n",
    "        fun reference(){\n",
    "            p()\n",
    "        }\n",
    "    }\n",
    "}\n",
    "\n",
    "val z2 = Zewnetrzna3().Zagniezdzona2()\n",
    "z2.reference()"
   ]
  },
  {
   "cell_type": "code",
   "execution_count": 92,
   "id": "b24db37d-3d88-484b-919b-fa55c5dde78e",
   "metadata": {},
   "outputs": [
    {
     "name": "stderr",
     "output_type": "stream",
     "text": [
      "Line_91.jupyter-kts (5:24 - 27) Unresolved reference: zew"
     ]
    }
   ],
   "source": [
    "class Outer {\n",
    "    val zew = \"Zewnetrzna\"\n",
    "\n",
    "    class Nested {\n",
    "        fun callMe() = zew\n",
    "    }\n",
    "}"
   ]
  },
  {
   "cell_type": "code",
   "execution_count": 95,
   "id": "67003f2d-3ad8-4017-82e2-9857b5ef56b0",
   "metadata": {},
   "outputs": [],
   "source": [
    "class Outer {\n",
    "    val zew = \"Zewnetrzna\"\n",
    "\n",
    "    inner class Inner {\n",
    "        fun callMe() = zew\n",
    "    }\n",
    "}"
   ]
  },
  {
   "cell_type": "markdown",
   "id": "c13c0ddc-2320-4134-b8d1-73eadf0237fd",
   "metadata": {},
   "source": [
    "## Klasy zapieczętowane"
   ]
  },
  {
   "cell_type": "code",
   "execution_count": 49,
   "id": "726504ce-aa8f-4b16-b25c-8dea0413ace7",
   "metadata": {},
   "outputs": [
    {
     "data": {
      "text/plain": [
       "9"
      ]
     },
     "execution_count": 72,
     "metadata": {},
     "output_type": "execute_result"
    }
   ],
   "source": [
    "interface Expr\n",
    "class Num(val v: Int) : Expr\n",
    "class Sum(val left: Expr, val right: Expr) : Expr\n",
    "fun eval(e: Expr): Int = when (e) {\n",
    "        is Num -> e.v\n",
    "        is Sum -> eval(e.right) + eval(e.left)\n",
    "        else ->\n",
    "        throw IllegalArgumentException(\" Nieznane wyrażenie\") // wymagana opcja domyślna\n",
    "}\n",
    "    \n",
    "eval(Num(9))"
   ]
  },
  {
   "cell_type": "code",
   "execution_count": 30,
   "id": "ede8f03b-b1ea-4d97-abb7-27d4e7581dcb",
   "metadata": {},
   "outputs": [
    {
     "data": {
      "text/plain": [
       "5"
      ]
     },
     "execution_count": 30,
     "metadata": {},
     "output_type": "execute_result"
    }
   ],
   "source": [
    "eval(Sum(Num(2), Num(3)))"
   ]
  },
  {
   "cell_type": "markdown",
   "id": "15f1a127-1151-410c-adb4-400ce2b06d4e",
   "metadata": {},
   "source": [
    "Tworzymy lokalną hierarchię klas"
   ]
  },
  {
   "cell_type": "code",
   "execution_count": 69,
   "id": "28082589-c8a4-4d29-8a6b-942c6cb03b36",
   "metadata": {},
   "outputs": [],
   "source": [
    "sealed class Expr2 {\n",
    "    class Num2(val v: Int) : Expr2()\n",
    "    class Sum2(val left: Expr2, val right: Expr2) : Expr2()\n",
    "}\n",
    "fun sealedEval(e: Expr2): Int = when (e) {\n",
    "    is Expr2.Num2 -> e.v\n",
    "    is Expr2.Sum2 -> sealedEval(e.right) + sealedEval(e.left)\n",
    "}\n"
   ]
  },
  {
   "cell_type": "code",
   "execution_count": 66,
   "id": "4f7072fb-5a3c-4a4c-a191-3d7e2b140e4b",
   "metadata": {},
   "outputs": [
    {
     "data": {
      "text/plain": [
       "9"
      ]
     },
     "execution_count": 66,
     "metadata": {},
     "output_type": "execute_result"
    }
   ],
   "source": [
    "sealedEval(Expr2.Num2(9))"
   ]
  },
  {
   "cell_type": "code",
   "execution_count": 68,
   "id": "dbda54b0-2236-4341-8e6f-694ebe4b55f3",
   "metadata": {},
   "outputs": [
    {
     "data": {
      "text/plain": [
       "5"
      ]
     },
     "execution_count": 68,
     "metadata": {},
     "output_type": "execute_result"
    }
   ],
   "source": [
    "sealedEval(Expr2.Sum2(Expr2.Num2(2), Expr2.Num2(3)))"
   ]
  },
  {
   "cell_type": "markdown",
   "id": "3cb9dce7-84ae-470c-8d23-9a1557d4ec03",
   "metadata": {},
   "source": [
    "## enum class vs sealed class"
   ]
  },
  {
   "cell_type": "markdown",
   "id": "a56dadd2-41d2-4ab3-a1a0-2b786b53cb9b",
   "metadata": {},
   "source": [
    "- `enum class` - `enum` może posiadać tylko jedną instancję\n",
    "- `sealed class` - klasy pochodne mogą posiadać wiele instancji\n",
    "- `enum class` - częściej używane dla prostych wartości\n",
    "- `enum class` - nie posiadają naturalnego porządku - utrudniona iteracja\n",
    "- `sealed class` - gdy potrzebujemy przechować większą ilość danych\n",
    "- `enum class` - lepszy do reprezentowania stałego zbioru możliwych wartości\n",
    "- `sealed class` - reprezentuje stały zbiór klas"
   ]
  }
 ],
 "metadata": {
  "kernelspec": {
   "display_name": "Kotlin",
   "language": "kotlin",
   "name": "kotlin"
  },
  "language_info": {
   "codemirror_mode": "text/x-kotlin",
   "file_extension": ".kt",
   "mimetype": "text/x-kotlin",
   "name": "kotlin",
   "nbconvert_exporter": "",
   "pygments_lexer": "kotlin",
   "version": "1.6.20-dev-6372"
  }
 },
 "nbformat": 4,
 "nbformat_minor": 5
}
