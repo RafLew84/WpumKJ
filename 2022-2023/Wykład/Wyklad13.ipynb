{
 "cells": [
  {
   "cell_type": "markdown",
   "id": "78d59d9b-3d9c-4cca-bae1-b7cb6b1ba4c9",
   "metadata": {},
   "source": [
    "## Wykład 13 - Kotlin `Coroutines`"
   ]
  },
  {
   "cell_type": "markdown",
   "id": "5f148c2b-8f64-493e-99e4-13723e78d37d",
   "metadata": {},
   "source": [
    "Coroutines pozwalają na pisanie kodu asynchronicznego w sposób synchroniczny, dzięki czemu jest on łatwiejszy do zrozumienia i pisania. Coroutines są oparte na idei \"zawieszania\" i \"wznawiania\" wykonania, co pozwala na **unikanie blokowania wątków**. Coroutines można wykorzystać do różnych zadań, takich jak obsługa sieci, wczytywanie danych z pliku lub bazy danych, itp.\n",
    "\n",
    "Jest to koncepcja (**continuations**) - abstrakcja opisująca aktualny stan programu (wątku) w sposób umożliwiający wznowienie działania po zawieszeniu."
   ]
  },
  {
   "cell_type": "markdown",
   "id": "92b4d0d2-d7a4-4481-b240-b81c9faa94bc",
   "metadata": {},
   "source": [
    "##  Funkcje zawieszone - `suspend fun`"
   ]
  },
  {
   "cell_type": "markdown",
   "id": "4ed0b5a2-4341-4e50-9078-a9fd092daf7a",
   "metadata": {},
   "source": [
    "Funkcje zawieszone (`suspend fun`) są to funkcje ze zdolnością do zawieszenia wykonania kodu i wznowienia w późniejszym czasie.\n",
    "\n",
    "Gdy wykonanie jest zawieszone, kompilator zapisuje stan wraz ze wszystkimi niezbędnymi informacjami (przykładowo lokalne zmienne) - powstały obiekt jest niewielki. Jeżeli funkcja jest zawieszona, inna funkcja może zostać wykonana na danym wątku.\n",
    "\n",
    "**Nie występuje sytuacja zablokowania wątku**\n",
    "\n",
    "```kotlin\n",
    "suspend fun delay(timeMillis: Long) { ... }\n",
    "```\n",
    "\n",
    "Aby korzystać z `Coroutines` należy dodać zależność"
   ]
  },
  {
   "cell_type": "code",
   "execution_count": null,
   "id": "9ceb66cf-f91b-4e5e-9043-4acb4a42125f",
   "metadata": {},
   "outputs": [],
   "source": [
    "dependencies {\n",
    "    implementation(\"org.jetbrains.kotlinx:kotlinx-coroutines-core:1.6.4\")\n",
    "    ...\n",
    "}"
   ]
  },
  {
   "cell_type": "markdown",
   "id": "a252f669-ff44-4b99-9b66-231f6f3d8dbe",
   "metadata": {},
   "source": [
    "## Budowniczy - `Coroutine.Builder`"
   ]
  },
  {
   "cell_type": "markdown",
   "id": "b99bfb7c-8d7e-4403-b95b-c44f7b98a738",
   "metadata": {},
   "source": [
    "Aby wykonać funkcje zawieszoną musi ona zostać umieszczona w odpowiednim kontenerze - tym kontenerem jest `Coroutine`. Każda `Coroutine` musi zostać wykonana na wątku - ale nie musi to być jeden określony wątek. Przykłady:\n",
    "- `launch` - gdy nie interesuje nas wartość zwracana\n",
    "- `async`\n",
    "- `runBlocking` - gdy chcemy zablokować wykonanie wątku"
   ]
  },
  {
   "cell_type": "code",
   "execution_count": null,
   "id": "0b628274-88b1-4a18-a324-d68894ebefec",
   "metadata": {},
   "outputs": [],
   "source": [
    "import kotlinx.coroutines.*\n",
    "\n",
    "fun main() {\n",
    "    GlobalScope.launch { // launch a new coroutine in background and continue\n",
    "        delay(1000L) // non-blocking delay for 1 second (default time unit is ms)\n",
    "        println(\"World!\") // print after delay\n",
    "    }\n",
    "    println(\"Hello,\") // main thread continues while coroutine is delayed\n",
    "    Thread.sleep(2000L) // block main thread for 2 seconds to keep JVM alive\n",
    "}"
   ]
  },
  {
   "cell_type": "markdown",
   "id": "847b3728-e4e4-4d8e-b976-2c88902cb800",
   "metadata": {},
   "source": [
    "`launch` tworzy `Coroutine` i rozpoczyna wykonanie wyrażenia lambda. Wpierw wykonujemy `delay` aby zawiesić wykonanie. W tym samym czasie kod poza `Coroutine` zostaje wykonany bez blokowania. Gdy nie użyjemy `Thread.sleep` funkcja `main`, a tym samym JVM, zakończy działanie.\n",
    "\n",
    "Kolejną opcją jest `runBlocking`, który tworzy `Coroutine` i blokuje aktualny wątek dopóki utworzona `Coroutine` nie zakończy działania"
   ]
  },
  {
   "cell_type": "code",
   "execution_count": null,
   "id": "2ffb41b5-db4c-42db-9397-e5e4bc6c808c",
   "metadata": {},
   "outputs": [],
   "source": [
    "fun main() {\n",
    "    runBlocking {\n",
    "        delay(1000)\n",
    "        println(\"Hello World\")\n",
    "    }\n",
    "    println(\"Done\")\n",
    "}"
   ]
  },
  {
   "cell_type": "code",
   "execution_count": null,
   "id": "0e7ece9d-04de-453b-8463-ca71fa867f8d",
   "metadata": {},
   "outputs": [],
   "source": [
    "fun main() {\n",
    "    suspend fun a() {\n",
    "        delay(100)\n",
    "        println(\"a\")\n",
    "    }\n",
    "    suspend fun b() {\n",
    "        delay(100)\n",
    "        println(\"b\")\n",
    "    }\n",
    "    runBlocking {\n",
    "        a()\n",
    "        b()\n",
    "        println(\"Done\")\n",
    "    }\n",
    "}\n"
   ]
  },
  {
   "cell_type": "code",
   "execution_count": null,
   "id": "4962a2e0-90a2-407d-a747-870ed79236be",
   "metadata": {},
   "outputs": [],
   "source": [
    "fun main() {\n",
    "    suspend fun a(): Int = {\n",
    "        delay(100)\n",
    "        Random.nextInt()\n",
    "    }\n",
    "    suspend fun b(a: Int) {\n",
    "        println(\"Using $a\")\n",
    "    }\n",
    "    runBlocking {\n",
    "        val a = a()\n",
    "        b(a)\n",
    "    }\n",
    "}\n"
   ]
  },
  {
   "cell_type": "code",
   "execution_count": null,
   "id": "64d5e36d-8690-4fde-a331-0036f92dc723",
   "metadata": {},
   "outputs": [],
   "source": [
    "fun main() {\n",
    "    runBlocking {\n",
    "        println(\"Parent starting\")\n",
    "        launch {\n",
    "            println(\"Child a starting\")\n",
    "            delay(100)\n",
    "            println(\"Child a complete\")\n",
    "        }\n",
    "        launch {\n",
    "            println(\"Child b starting\")\n",
    "            delay(100)\n",
    "            println(\"Child b complete\")\n",
    "        }\n",
    "        println(\"Parent complete\")\n",
    "    }\n",
    "    println(\"Parent returned\")\n",
    "}"
   ]
  },
  {
   "cell_type": "markdown",
   "id": "c282531a-27db-4ed6-8588-3abcbbe67c66",
   "metadata": {},
   "source": [
    "## `Job`"
   ]
  },
  {
   "cell_type": "markdown",
   "id": "3a973e84-1e22-4050-a41b-2accfb0d9574",
   "metadata": {},
   "source": [
    "Gdy `Coroutine` jest utworzony przy wykorzystaniu `launch`, zwracana jest wartość typu `Job`. Jedną z głównych funkcji `Job` jest możliwość zakończenia wykonania."
   ]
  },
  {
   "cell_type": "code",
   "execution_count": null,
   "id": "0552e9ed-e2a9-4e36-9896-c2e26a397ee7",
   "metadata": {},
   "outputs": [],
   "source": [
    "fun main() {\n",
    "    var x = 0\n",
    "    val job = GlobalScope.launch {\n",
    "        while (true) {\n",
    "            x += 1\n",
    "            delay(10)\n",
    "            println(x)\n",
    "        }\n",
    "    }\n",
    "    runBlocking {\n",
    "        delay(100)\n",
    "        job.cancel()\n",
    "    }\n",
    "}"
   ]
  },
  {
   "cell_type": "markdown",
   "id": "4085e2c0-5793-4df3-87b5-7ce6b9e0b78c",
   "metadata": {},
   "source": [
    "Następną jest możliwość oczekiwania na zakończenie działania za pomocą metody `join`."
   ]
  },
  {
   "cell_type": "code",
   "execution_count": null,
   "id": "57365377-22d1-4d3c-b074-388daf61fd26",
   "metadata": {},
   "outputs": [],
   "source": [
    "fun main() {\n",
    "    val job = GlobalScope.launch {\n",
    "        delay(1000L)\n",
    "        println(\"Hello\")\n",
    "    }\n",
    "    runBlocking {\n",
    "        job.join()\n",
    "        println(\"World\")\n",
    "    }\n",
    "}"
   ]
  },
  {
   "cell_type": "code",
   "execution_count": null,
   "id": "683e10ef-4e6b-4121-af96-410b20495ed7",
   "metadata": {},
   "outputs": [],
   "source": [
    "fun main() = runBlocking {\n",
    "    repeat(100) { // launch a lot of coroutines\n",
    "        launch {\n",
    "            delay(5000L)\n",
    "            print(\".\")\n",
    "        }\n",
    "    }\n",
    "}"
   ]
  },
  {
   "cell_type": "markdown",
   "id": "e51def6c-4846-4b8d-88c6-35b3012d095c",
   "metadata": {},
   "source": [
    "## `Context`"
   ]
  },
  {
   "cell_type": "markdown",
   "id": "8c65c84d-3ef7-4eb5-9ae1-25e96665d7a5",
   "metadata": {},
   "source": [
    "Każda `Coroutine` posiada powiązany `Context` - jest to niemutowalna kolekcja kluczy i wartości - dzięki temu możemy nadać nazwę każdej `Coroutine` lub określić który wątek z powiązanego `ThreadPool` powinien wykonać zadanie.\n",
    "\n",
    "Kontekst w Coroutine jest to zestaw obiektów, które są dostępne dla Coroutine podczas jej działania. Kontekst może zawierać informacje takie jak wątek, który jest używany do wykonania Coroutine, czy też dane, które są przechowywane w koroutynie.\n",
    "\n",
    "Coroutine mogą być wykonywane na różnych wątkach za pomocą kontekstu. Na przykład, Coroutine może być uruchamiana na wątku interfejsu użytkownika za pomocą kontekstu `Dispatchers.Main`, lub na wątku domyślnym za pomocą kontekstu `Dispatchers.Default`. Możemy też stworzyć własny kontekst dla Coroutine, na przykład za pomocą `newSingleThreadContext(\"MyThread\")`.\n",
    "\n",
    "Kontekst jest również ważny dla obsługi błędów i anulowania Coroutine. Gdy Coroutine jest anulowana, wszystkie Coroutine, które są uruchomione w tym samym kontekście są również anulowane."
   ]
  },
  {
   "cell_type": "markdown",
   "id": "7290945f-7dce-4cb5-824b-3f5436f77786",
   "metadata": {},
   "source": [
    "## `Dispatcher`"
   ]
  },
  {
   "cell_type": "markdown",
   "id": "8a2f5708-1590-4730-8904-47ca57fd4b7f",
   "metadata": {},
   "source": [
    "Jeżeli chcemy mieć kontrolę nad tym który wątek z puli dana `Coroutine` jest wykonana możemy wykorzystać `Dispatcher`\n",
    "- `Dispatcher.Default` - domyślny wykorzystuje `ThreadPool`, którego wielkość jest równa liczbie rdzeni CPU\n",
    "- `Dispatcher.IO` - rekomendowany do operacji IO, wykorzystuje `ThreadPool` który może zostać rozszerzony\n",
    "- `Dispatcher.Main` - wykorzystuje wątek główny UI."
   ]
  },
  {
   "cell_type": "code",
   "execution_count": null,
   "id": "08adae73-00f1-4acd-90d8-aa42e03b1eb6",
   "metadata": {},
   "outputs": [],
   "source": [
    "fun main() {\n",
    "    runBlocking(Dispatchers.IO) {\n",
    "        println(Thread.currentThread().name)\n",
    "    }\n",
    "}"
   ]
  },
  {
   "cell_type": "markdown",
   "id": "208d13c9-7641-48d3-83d5-b4f304f7f38a",
   "metadata": {},
   "source": [
    "## `Async`"
   ]
  },
  {
   "cell_type": "code",
   "execution_count": null,
   "id": "146e2019-f2d5-4df7-a7a3-be5232a694ba",
   "metadata": {},
   "outputs": [],
   "source": [
    "fun main() {\n",
    "    runBlocking {\n",
    "        val deferred = async {\n",
    "            println(\"Computing value...\")\n",
    "            delay(1000)\n",
    "            10\n",
    "        }\n",
    "        val result = deferred.await()\n",
    "        println(\"The result is $result\")\n",
    "    }\n",
    "}"
   ]
  },
  {
   "cell_type": "code",
   "execution_count": null,
   "id": "33c4f680-cb8a-4ee0-a49a-c717e5dfdeec",
   "metadata": {},
   "outputs": [],
   "source": [
    "import kotlinx.coroutines.*\n",
    "import kotlin.system.measureTimeMillis\n",
    "\n",
    "fun main() {\n",
    "    suspend fun fetchOrder(): String {\n",
    "        delay(3000)\n",
    "        return \"Order 123\"\n",
    "    }\n",
    "    suspend fun fetchAddress(): String {\n",
    "        delay(2000)\n",
    "        return \"10 Downing Street\"\n",
    "    }\n",
    "    suspend fun fetchUsername(): String {\n",
    "        delay(1000)\n",
    "        return \"Prime Minister\"\n",
    "    }\n",
    "    println(\"Starting\")\n",
    "    val time = measureTimeMillis {\n",
    "        runBlocking {\n",
    "            val order = async {\n",
    "                fetchOrder()\n",
    "            }\n",
    "            val address = async {\n",
    "                fetchAddress()\n",
    "            }\n",
    "            val username = async {\n",
    "                fetchUsername()\n",
    "            }\n",
    "            println(\"Shipping ${order.await()} to ${username.await()}at ${address.await()}\")\n",
    "        }\n",
    "    }\n",
    "    println(\"Completed in $time ms\")\n",
    "}\n"
   ]
  },
  {
   "cell_type": "markdown",
   "id": "5286cff8-0e7d-4ac0-9618-9c6133c7bbd3",
   "metadata": {},
   "source": [
    "## 14.6 `Dispatcher`"
   ]
  },
  {
   "cell_type": "markdown",
   "id": "0d2ec3cc-9b81-41b2-a8c4-d33e669f1802",
   "metadata": {},
   "source": [
    "Jeżeli chcemy mieć kontrolę nad tym który wątek z puli dana `Coroutine` jest wykonana możemy wykorzystać `Dispatcher`\n",
    "- `Dispatcher.Default` - domyślny wykorzystuje `ThreadPool`, którego wielkość jest równa liczbie rdzeni CPU\n",
    "- `Dispatcher.IO` - rekomendowany do operacji IO, wykorzystuje `ThreadPool` który oże zostać rozszerzony\n",
    "- `Dispatcher.Main` - wykorzystuje wątek główny UI."
   ]
  },
  {
   "cell_type": "code",
   "execution_count": null,
   "id": "ef0f43db-a7d5-4d6a-a62a-9cfaaef2d727",
   "metadata": {},
   "outputs": [],
   "source": [
    "fun main() {\n",
    "    runBlocking(Dispatchers.IO) {\n",
    "        println(Thread.currentThread().name)\n",
    "    }\n",
    "}"
   ]
  },
  {
   "cell_type": "markdown",
   "id": "a06c9674-9131-4fb9-8a04-def424630869",
   "metadata": {},
   "source": [
    "## `Coroutines` vs `Executor`"
   ]
  },
  {
   "cell_type": "code",
   "execution_count": null,
   "id": "a8e410eb-bedf-4303-93e0-8ffeb446c1e6",
   "metadata": {},
   "outputs": [],
   "source": [
    "val sum = 17\n",
    "fun main() {\n",
    "    val executor = Executors.newSingleThreadExecutor()\n",
    "    val callable: Callable<BigInteger> = Callable {\n",
    "        var result = BigInteger.ZERO\n",
    "        for (i in 0..sum) {\n",
    "            result = result.add(BigInteger.valueOf(sum.toLong()))\n",
    "        }\n",
    "        result\n",
    "    }\n",
    "    val taskFuture = executor.submit(callable)\n",
    "    try {\n",
    "        while (!taskFuture.isDone) println(\"waiting\")\n",
    "        println(taskFuture.get())\n",
    "    } catch (ee: ExecutionException) {\n",
    "        System.err.println(\"task threw an exception\")\n",
    "        ee.printStackTrace()\n",
    "    } catch (ie: InterruptedException) {\n",
    "        System.err.println(\"interrupted while waiting\")\n",
    "    }\n",
    "    executor.shutdown()\n",
    "}"
   ]
  },
  {
   "cell_type": "code",
   "execution_count": null,
   "id": "256a2453-6a2b-4fe7-a956-a59685a6e07c",
   "metadata": {},
   "outputs": [],
   "source": [
    "import kotlinx.coroutines.*\n",
    "import java.math.BigInteger\n",
    "\n",
    "val sum = 17\n",
    "\n",
    "fun main() {\n",
    "    runBlocking {\n",
    "        val result = async {\n",
    "            var result = BigInteger.ZERO\n",
    "            for (i in 0..sum) {\n",
    "                result = result.add(BigInteger.valueOf(i.toLong()))\n",
    "            }\n",
    "            result\n",
    "        }\n",
    "        println(\"waiting\")\n",
    "        println(result.await())\n",
    "    }\n",
    "}\n"
   ]
  },
  {
   "cell_type": "code",
   "execution_count": null,
   "id": "b22d13a8-b1f4-4ba6-be82-6c91fbde29d3",
   "metadata": {},
   "outputs": [],
   "source": [
    "import java.math.BigInteger;\n",
    "import java.util.ArrayList;\n",
    "import java.util.List;\n",
    "import java.util.concurrent.*;\n",
    "\n",
    "public class Main {\n",
    "    private static BigInteger calculatedSum = BigInteger.ZERO;\n",
    "    private static final int NUM_THREADS = 10;\n",
    "\n",
    "    static class Sum implements Callable<BigInteger> {\n",
    "        long from, to;\n",
    "        BigInteger localSum = BigInteger.ZERO;\n",
    "\n",
    "        public Sum(long from, long to) {\n",
    "            this.from = from;\n",
    "            this.to = to;\n",
    "        }\n",
    "\n",
    "        @Override\n",
    "        public BigInteger call() {\n",
    "            for (long i = from; i <= to; i++)\n",
    "                localSum = localSum.add(BigInteger.valueOf(i));\n",
    "            return localSum;\n",
    "        }\n",
    "    }\n",
    "\n",
    "    public static void main() {\n",
    "        ExecutorService executorService = Executors.newFixedThreadPool(NUM_THREADS);\n",
    "        List<Future<BigInteger>> summationTasks = new ArrayList<>();\n",
    "\n",
    "        long n = 1000000L;\n",
    "        long taskNum = n / 10; // 10 tasks\n",
    "\n",
    "        for (int i = 0; i < NUM_THREADS; i++) {\n",
    "            long fromInInnerRange = (taskNum * i) + 1;\n",
    "            long toInInnerRange = taskNum * (i + 1);\n",
    "\n",
    "            System.out.printf(\"Wątek dla sumy w zakresie %d - %d %n\", fromInInnerRange, toInInnerRange);\n",
    "            Callable<BigInteger> summationTask = new Sum(fromInInnerRange, toInInnerRange);\n",
    "            Future<BigInteger> futureSum = executorService.submit(summationTask);\n",
    "            summationTasks.add(futureSum);\n",
    "        }\n",
    "\n",
    "        for (Future<BigInteger> partialSum : summationTasks) {\n",
    "            try {\n",
    "                calculatedSum = calculatedSum.add(partialSum.get());\n",
    "            } catch (CancellationException | ExecutionException | InterruptedException exception) {\n",
    "                exception.printStackTrace();\n",
    "            }\n",
    "        }\n",
    "        System.out.printf(\"Suma = %d\", calculatedSum);\n",
    "        executorService.shutdown();\n",
    "    }\n",
    "}"
   ]
  },
  {
   "cell_type": "code",
   "execution_count": null,
   "id": "012e3753-9783-4205-9bb8-f593cc7410c1",
   "metadata": {},
   "outputs": [],
   "source": [
    "private var calculatedSum = BigInteger.ZERO\n",
    "private const val NUM_THREADS = 10\n",
    "\n",
    "class Sum(private val from: Long, private val to: Long) \n",
    "    : CoroutineScope by CoroutineScope(Dispatchers.Default) {\n",
    "    private var localSum: BigInteger = BigInteger.ZERO\n",
    "    fun call(): BigInteger {\n",
    "        for (i in from..to) {\n",
    "            localSum = localSum.add(BigInteger.valueOf(i))\n",
    "        }\n",
    "        return localSum\n",
    "    }\n",
    "}\n",
    "\n",
    "fun main() {\n",
    "    runBlocking {\n",
    "        val summationTasks = mutableListOf<Deferred<BigInteger>>()\n",
    "        val n = 1000000L\n",
    "        val taskNum = n / NUM_THREADS\n",
    "        for (i in 0 until NUM_THREADS) {\n",
    "            val fromInInnerRange = (taskNum * i) + 1\n",
    "            val toInInnerRange = taskNum * (i + 1)\n",
    "            println(\"Coroutine dla sumy w zakresie $fromInInnerRange - $toInInnerRange\")\n",
    "\n",
    "            val summationTask = async { Sum(fromInInnerRange, toInInnerRange).call() }\n",
    "            summationTasks.add(summationTask)\n",
    "        }\n",
    "        for (partialSum in summationTasks) {\n",
    "            calculatedSum = calculatedSum.add(partialSum.await())\n",
    "        }\n",
    "        println(\"Suma = $calculatedSum\")\n",
    "    }\n",
    "}"
   ]
  },
  {
   "cell_type": "markdown",
   "id": "183cc394-74a7-4d5a-bf6d-44f5079cd24c",
   "metadata": {},
   "source": [
    "W powyższym kodzie, używamy `async` z `Coroutine` zamiast `ExecutorService` i `Future` z wątkami. Tworzymy klasę `Sum` która jest rozszerzeniem `CoroutineScope` i posiada dwie wartości typu `long` - `from` i `to`, które są początkowym i końcowym zakresem sumowania. Klasa ta posiada `fun call`, która sumuje liczby od `from` do `to` i zwraca wynik.\n",
    "W funkcji `main`, tworzymy listę obiektów `Deferred<BigInteger>` i za pomocą pętli `for` tworzymy 10 `Coroutine` za pomocą `async` i dodajemy je do listy. Następnie przy pomocy `await()` czekamy na zakończenie `Coroutine` i sumujemy wynik.\n",
    "\n",
    "Ważne jest aby pamiętać, że w przeciwieństwie do wątków, `Coroutine` są automatycznie zarządzane przez system i nie jest konieczne ręczne zamykanie ich przy pomocy `executorService.shutdown()`."
   ]
  },
  {
   "cell_type": "markdown",
   "id": "29e5cda8-54f2-434c-8fef-81e822002d04",
   "metadata": {},
   "source": [
    "`ExecutorService` i `Coroutines` to dwa różne sposoby na wykonywanie zadań w tle.\n",
    "\n",
    "`ExecutorService` to interfejs Java, który pozwala na uruchamianie zadań w tle za pomocą wątków. Zadania mogą być przesłane do `ExecutorService` jako obiekty implementujące interfejs `Callable` lub `Runnable`. `ExecutorService` udostępnia również funkcjonalności takie jak zarządzanie pulą wątków i planowanie zadań.\n",
    "\n",
    "`Coroutines` to mechanizm Kotlin, który również pozwala na wykonywanie zadań w tle. Pozwalają na bardziej efektywne zarządzanie pamięcią i mniejsze opóźnienia niż wątki, są również łatwiejsze w użyciu niż wątki, ponieważ pozwalają na użycie zwykłych funkcji zamiast implementacji interfejsów."
   ]
  },
  {
   "cell_type": "markdown",
   "id": "932c811b-0b0f-4267-bc85-da524b976503",
   "metadata": {},
   "source": [
    "Ogólnie, `ExecutorService` jest bardziej uniwersalnym rozwiązaniem, które jest dostępne dla Java i innych języków, które mogą korzystać z Java SDK. `Coroutines` natomiast są specjalnie dostosowane do Kotlina i oferują bardziej łatwiejszą składnię oraz lepsze zarządzanie zadaniami w tle. Dlatego w zależności od potrzeb projektu i preferencji developera, można wybrać odpowiednie rozwiązanie dla swoich potrzeb."
   ]
  },
  {
   "cell_type": "code",
   "execution_count": null,
   "id": "101fc451-bf74-424c-8c17-105d44a91a32",
   "metadata": {},
   "outputs": [],
   "source": []
  }
 ],
 "metadata": {
  "kernelspec": {
   "display_name": "Kotlin",
   "language": "kotlin",
   "name": "kotlin"
  },
  "language_info": {
   "codemirror_mode": "text/x-kotlin",
   "file_extension": ".kt",
   "mimetype": "text/x-kotlin",
   "name": "kotlin",
   "nbconvert_exporter": "",
   "pygments_lexer": "kotlin",
   "version": "1.6.20-dev-6372"
  }
 },
 "nbformat": 4,
 "nbformat_minor": 5
}
