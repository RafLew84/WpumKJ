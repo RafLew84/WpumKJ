{
 "cells": [
  {
   "cell_type": "markdown",
   "id": "db5cd32e-f6cc-41b6-9dab-c8126629768e",
   "metadata": {},
   "source": [
    "# Wykład 13 - Wielowątkowość - `Executor`"
   ]
  },
  {
   "cell_type": "markdown",
   "id": "b4fd7278-6836-4a48-83d6-5e67352a99cd",
   "metadata": {},
   "source": [
    "- Niskopoziomowe elementy jak `synchronized`, `wait()`, `notify()` są skomplikowane w zastosowaniu\n",
    "- Duże poleganie na `synchronized` może doprowadzić do zbytniego obciążenia\n",
    "- Zazwyczaj niezbędne są wysokopoziomowe konstrukty"
   ]
  },
  {
   "cell_type": "markdown",
   "id": "1aa0b782-101a-40d4-8f4a-3d35ff426781",
   "metadata": {},
   "source": [
    "Do Javy wprowadzono framework `java.util.concurent`:\n",
    "- `Executor`\n",
    "- `atomic` - klasy zapewniające wsparcie dla programowania **lock-free** na pojedynczych zmiennych\n",
    "- `locks` - typ dostarczający funkcjonalność **lock-and-wait**"
   ]
  },
  {
   "cell_type": "markdown",
   "id": "b52f1f94-f1f4-48d6-ba26-ca7e52b42a64",
   "metadata": {},
   "source": [
    "<img src=\"https://dz2cdn1.dzone.com/storage/temp/13048369-1581789944647.png\" width=\"650\"/>"
   ]
  },
  {
   "cell_type": "markdown",
   "id": "b5dcae74-1e2e-4bdb-b08e-b0305a2d1d6a",
   "metadata": {},
   "source": [
    "## `Executor`"
   ]
  },
  {
   "cell_type": "markdown",
   "id": "431cbcba-b0aa-4cf6-9fb5-79b27b29352f",
   "metadata": {},
   "source": [
    "Pozwala na wykonanie `Runnable` przez wyrażenie. Wykonanie odbywa się na\n",
    "- aktualnym wątku\n",
    "- nowym wątku\n",
    "- na wątku z puli (`ThreadPool`)"
   ]
  },
  {
   "cell_type": "code",
   "execution_count": null,
   "id": "8bbfa607-c39f-4a5f-b7a2-0caa59bb8778",
   "metadata": {},
   "outputs": [],
   "source": [
    "public interface Executor {\n",
    "  void execute(Runnable);\n",
    "}"
   ]
  },
  {
   "cell_type": "code",
   "execution_count": null,
   "id": "c6e7f16b-6f30-4a77-be0f-f5202c0a68cc",
   "metadata": {},
   "outputs": [],
   "source": [
    "Executor executor = ...; \n",
    "executor.execute(new RunnableTask());"
   ]
  },
  {
   "cell_type": "markdown",
   "id": "6b125688-36b0-4803-a607-cb514eec7502",
   "metadata": {},
   "source": [
    "Ograniczenia:\n",
    "- Działa tylko z obiektami `Runnable` - metoda `run` nie zwraca wartości, więc nie ma łatwej możliwości dostarczenia wartości zwróconej do obiektu wywołującego\n",
    "- Nie dostarcza metod śledzenia postępów wykonania\n",
    "- Nie dostarcza metod anulowania zadania\n",
    "- Nie dostarcza metod służących ustaleniu czy `Runnable` zakończył działania\n",
    "- Nie dostarcza metod umożliwiających obsługę kolekcji `Runnable`\n",
    "- Nie dostarcza metod umożliwiających przerwanie wykonania"
   ]
  },
  {
   "cell_type": "markdown",
   "id": "9abf2a7b-f4b1-46a0-a8e0-ed842cb88509",
   "metadata": {},
   "source": [
    "## `ExecutorService`"
   ]
  },
  {
   "cell_type": "markdown",
   "id": "ecdb6b8f-b008-427a-8bd0-e00cd758a52a",
   "metadata": {},
   "source": [
    "`ExecutorService` dostarcza odpowiednie metody do wykonania powyższych działań\n",
    "- `boolean awaitTermination(long timeout, TimeUnit unit)` - oczekuj zakończenia wszystkich zadań, przekroczenia czasu oczekiwania lub przerwania\n",
    "- `<T> List<Future<T>> invokeAll(Collection<? extends Callable<T>> tasks)` - wykonaj wszystkie `Callable` w kolekcji i zwróć `Future` (przechowuje status i rezultat)\n",
    "- `<T> T invokeAny(Collection<? extends Callable<T>> tasks)` - wykonaj i zwróć rezultat dowolnego zakończonego sukcesem (nie rzucającego wyjątku) zadania\n",
    "- `boolean isShutdown()` - zwróć `true` gdy `Executor` został zamknięty\n",
    "- `boolean isTerminated()` - zwróć `true` gdy wszystkie zadania zostały wykonane\n",
    "- `void shutdown()` - zainicjuj uporządkowane zamknięcie, w którym wcześniej przesłane zadania są wykonywane - żadne nowe zadanie nie zostanie zaakceptowane\n",
    "- `<T> Future<T> submit(Callable<T> task)` - zgłoś `Callable` do wykonania i wróć `Future`\n",
    "- `Future<?> submit(Runnabletask)` - zgłoś `Runnable` do wykonania i wróć `Future`\n",
    "- `<T> Future<T> submit(Runnable task, T result)` - zgłoś `Runnable` do wykonania i wróć `Future` oraz wynik"
   ]
  },
  {
   "cell_type": "markdown",
   "id": "b7132e26-17f7-468d-80c0-4301de843ef7",
   "metadata": {},
   "source": [
    "`TimeUnit` - granulacja czasu:\n",
    "- `TimeUnit.SECONDS`\n",
    "- `TimeUnit.MICROSECONDS`\n",
    "- `TimeUnit.MILLISECONDS`\n",
    "- `TimeUnit.NANOSECONDS`\n",
    "- `TimeUnit.DAYS`\n",
    "- `TimeUnit.HOURS`"
   ]
  },
  {
   "cell_type": "markdown",
   "id": "d9173f6e-b602-48b5-9a3e-c64cbbfef7d7",
   "metadata": {},
   "source": [
    "## `Callable`"
   ]
  },
  {
   "cell_type": "code",
   "execution_count": null,
   "id": "de5ab931-d0f0-42c7-8962-d30dcb259c6a",
   "metadata": {},
   "outputs": [],
   "source": [
    "public interface Runnable {\n",
    "    public void run();\n",
    "}\n",
    "\n",
    "public interface Callable<V> {\n",
    "    V call() throws Exception;\n",
    "}"
   ]
  },
  {
   "cell_type": "markdown",
   "id": "1f042889-11e8-4ab8-bb03-118cbbe78d3a",
   "metadata": {},
   "source": [
    "`Callable` - interfejs generyczny z pojedynczą metodą zwracającą wartość `V`."
   ]
  },
  {
   "cell_type": "markdown",
   "id": "a917bd54-43e6-4e8e-8715-b3ee0e96ceda",
   "metadata": {},
   "source": [
    "## `Future`"
   ]
  },
  {
   "cell_type": "markdown",
   "id": "cd12e533-2b60-4dec-a5d6-3eb38ac6fb4d",
   "metadata": {},
   "source": [
    "`Future` - interfejs reprezentujący wynik asynchronicznego wykonania."
   ]
  },
  {
   "cell_type": "markdown",
   "id": "e9ec4501-29f7-4855-b790-0ae19aed7623",
   "metadata": {},
   "source": [
    "Metody:\n",
    "- `boolean cancel(boolean mayInterruptIfRunning)` - spróbuj przerwać wykonanie zadania\n",
    "- `V get()` - Czekaj (jeżeli to konieczne) na zakończenie zadania i zwróć wartość\n",
    "- `V get(long timeout, TimeUnit unit)` - Czekaj przez określony czas na zakończenie zadania i zwróć wartość jeżeli jest dostępna\n",
    "- `boolean isCancelled()` - sprawdź czy zadanie zostało przerwane przed zakończeniem\n",
    "- `boolean isDone()` - sprawdź czy zadanie zostało zakończone"
   ]
  },
  {
   "cell_type": "code",
   "execution_count": 4,
   "id": "72cff9eb-bd18-47d2-9f46-ed7eea6fea44",
   "metadata": {},
   "outputs": [
    {
     "name": "stdout",
     "output_type": "stream",
     "text": [
      "waiting\n",
      "153\n"
     ]
    }
   ],
   "source": [
    "// java\n",
    "import java.math.BigInteger;\n",
    "import java.util.concurrent.Callable;\n",
    "import java.util.concurrent.ExecutionException;\n",
    "import java.util.concurrent.ExecutorService;\n",
    "import java.util.concurrent.Executors;\n",
    "import java.util.concurrent.Future;\n",
    "\n",
    "public class Main {\n",
    "    final static int sum = 17;\n",
    "\n",
    "    public static void main() {\n",
    "        ExecutorService executor = Executors.newSingleThreadExecutor();\n",
    "        Callable<BigInteger> callable;\n",
    "        callable = new Callable<BigInteger>() {\n",
    "            @Override\n",
    "            public BigInteger call() {\n",
    "                BigInteger result = BigInteger.ZERO;\n",
    "                for (int i = 0; i <= sum; i++) {\n",
    "                    result = result.add(BigInteger.valueOf(i));\n",
    "                }\n",
    "                return result;\n",
    "            }\n",
    "        };\n",
    "\n",
    "        Future<BigInteger> taskFuture = executor.submit(callable);\n",
    "        try {\n",
    "            while (!taskFuture.isDone())\n",
    "                System.out.println(\"waiting\");\n",
    "            System.out.println(taskFuture.get());\n",
    "        } catch (\n",
    "                ExecutionException ee) {\n",
    "            System.err.println(\"task threw an exception\");\n",
    "            ee.printStackTrace();\n",
    "        } catch (\n",
    "                InterruptedException ie) {\n",
    "            System.err.println(\"interrupted while waiting\");\n",
    "        }\n",
    "        executor.shutdown();\n",
    "    }\n",
    "}\n",
    "Main.main()"
   ]
  },
  {
   "cell_type": "code",
   "execution_count": 2,
   "id": "03c17915-7648-4bf9-a55b-4dba7f71ab4f",
   "metadata": {},
   "outputs": [
    {
     "name": "stdout",
     "output_type": "stream",
     "text": [
      "waiting\n",
      "waiting\n",
      "waiting\n",
      "waiting\n",
      "153\n"
     ]
    }
   ],
   "source": [
    "// kotlin\n",
    "import java.math.BigInteger\n",
    "import java.util.concurrent.Callable\n",
    "import java.util.concurrent.ExecutionException\n",
    "import java.util.concurrent.ExecutorService\n",
    "import java.util.concurrent.Executors\n",
    "import java.util.concurrent.Future\n",
    "\n",
    "\n",
    "val sum = 17\n",
    "fun main() {\n",
    "    val executor = Executors.newSingleThreadExecutor()\n",
    "    val callable: Callable<BigInteger> = Callable {\n",
    "        var result = BigInteger.ZERO\n",
    "        for (i in 0..sum) {\n",
    "            result = result.add(BigInteger.valueOf(i.toLong()))\n",
    "        }\n",
    "        result\n",
    "    }\n",
    "    val taskFuture = executor.submit(callable)\n",
    "    try {\n",
    "        while (!taskFuture.isDone) println(\"waiting\")\n",
    "        println(taskFuture.get())\n",
    "    } catch (ee: ExecutionException) {\n",
    "        System.err.println(\"task threw an exception\")\n",
    "        ee.printStackTrace()\n",
    "    } catch (ie: InterruptedException) {\n",
    "        System.err.println(\"interrupted while waiting\")\n",
    "    }\n",
    "    executor.shutdown()\n",
    "}\n",
    "main()"
   ]
  },
  {
   "cell_type": "markdown",
   "id": "3962e12b-745e-4e91-8f34-44a8d9ebc4e7",
   "metadata": {},
   "source": [
    "## `Executors`"
   ]
  },
  {
   "cell_type": "markdown",
   "id": "604e0360-7e70-4294-8e00-58c815f8db51",
   "metadata": {},
   "source": [
    "- `newFixedThreadPool` - tworzy `ThreadPool` który wielokrotnie wykorzystuje określoną liczbę wątków.\n",
    "\n",
    "```java\n",
    "public static ExecutorService newFixedThreadPool(int nThreads) {\n",
    "    return new ThreadPoolExecutor(nThreads, nThreads,\n",
    "                                  0L, TimeUnit.MILLISECONDS,\n",
    "                                  new LinkedBlockingQueue<Runnable>());\n",
    "}\n",
    "\n",
    "public static ExecutorService newFixedThreadPool(int nThreads, ThreadFactory threadFactory) {\n",
    "    return new ThreadPoolExecutor(nThreads, nThreads,\n",
    "                                  0L, TimeUnit.MILLISECONDS,\n",
    "                                  new LinkedBlockingQueue<Runnable>(),\n",
    "                                  threadFactory);\n",
    "}\n",
    "```\n",
    "\n",
    "- `newSingleThreadExecutor` - tworzy `Executor` wykorzystujący pojedynczy wątek roboczy\n",
    "\n",
    "```java\n",
    "public static ExecutorService newSingleThreadExecutor() {\n",
    "    return new DelegatedExecutorService\n",
    "        (new ThreadPoolExecutor(1, 1,\n",
    "                                0L, TimeUnit.MILLISECONDS,\n",
    "                                new LinkedBlockingQueue<Runnable>()));\n",
    "}\n",
    "\n",
    "public static ExecutorService newSingleThreadExecutor(ThreadFactory threadFactory) {\n",
    "    return new DelegatedExecutorService\n",
    "        (new ThreadPoolExecutor(1, 1,\n",
    "                                0L, TimeUnit.MILLISECONDS,\n",
    "                                new LinkedBlockingQueue<Runnable>(),\n",
    "                                threadFactory));\n",
    "}\n",
    "```\n",
    "\n",
    "- `newCachedThreadPool` - tworzy `ThreadPool` tworzący nowe wątki gdy są potrzebne, używający już utworzonych wątków gdy są dostępne\n",
    "\n",
    "```java\n",
    "public static ExecutorService newCachedThreadPool() {\n",
    "    return new ThreadPoolExecutor(0, Integer.MAX_VALUE,\n",
    "                                  60L, TimeUnit.SECONDS,\n",
    "                                  new SynchronousQueue<Runnable>());\n",
    "}\n",
    "\n",
    "public static ExecutorService newCachedThreadPool(ThreadFactory threadFactory) {\n",
    "    return new ThreadPoolExecutor(0, Integer.MAX_VALUE,\n",
    "                                  60L, TimeUnit.SECONDS,\n",
    "                                  new SynchronousQueue<Runnable>(),\n",
    "                                  threadFactory);\n",
    "```\n",
    "\n",
    "- `newSingleThreadScheduledExecutor` - tworzy `Executor` który może zaplanować wykonanie zadań po określonym opóźnieniu lub periodycznie\n",
    "\n",
    "```java\n",
    "public static ScheduledExecutorService newSingleThreadScheduledExecutor()\n",
    "public static ScheduledExecutorService newSingleThreadScheduledExecutor(ThreadFactory threadFactory)\n",
    "```\n",
    "\n",
    "- `newScheduledThreadPool` - tworzy `ThreadPool` mogący zaplanować wykonanie zadań po określonym opóźnieniu lub periodycznie\n",
    "\n",
    "```java\n",
    "public static ScheduledExecutorService newScheduledThreadPool(int corePoolSize)\n",
    "public static ScheduledExecutorService newScheduledThreadPool(int corePoolSize,\n",
    "                                              ThreadFactory threadFactory)\n",
    "```"
   ]
  },
  {
   "cell_type": "code",
   "execution_count": 5,
   "id": "11d57615-82cb-4323-9d5f-f556aa3ddb54",
   "metadata": {},
   "outputs": [
    {
     "name": "stdout",
     "output_type": "stream",
     "text": [
      "Wątek dla sumy w zakresie 1 - 100000 \n",
      "Wątek dla sumy w zakresie 100001 - 200000 \n",
      "Wątek dla sumy w zakresie 200001 - 300000 \n",
      "Wątek dla sumy w zakresie 300001 - 400000 \n",
      "Wątek dla sumy w zakresie 400001 - 500000 \n",
      "Wątek dla sumy w zakresie 500001 - 600000 \n",
      "Wątek dla sumy w zakresie 600001 - 700000 \n",
      "Wątek dla sumy w zakresie 700001 - 800000 \n",
      "Wątek dla sumy w zakresie 800001 - 900000 \n",
      "Wątek dla sumy w zakresie 900001 - 1000000 \n",
      "Suma = 500000500000"
     ]
    }
   ],
   "source": [
    "// java\n",
    "\n",
    "import java.math.BigInteger;\n",
    "import java.util.ArrayList;\n",
    "import java.util.List;\n",
    "import java.util.concurrent.*;\n",
    "\n",
    "public class Main {\n",
    "    private static BigInteger calculatedSum = BigInteger.ZERO;\n",
    "    private static final int NUM_THREADS = 10;\n",
    "\n",
    "    static class Sum implements Callable<BigInteger> {\n",
    "        long from, to;\n",
    "        BigInteger localSum = BigInteger.ZERO;\n",
    "\n",
    "        public Sum(long from, long to) {\n",
    "            this.from = from;\n",
    "            this.to = to;\n",
    "        }\n",
    "\n",
    "        @Override\n",
    "        public BigInteger call() {\n",
    "            for (long i = from; i <= to; i++)\n",
    "                localSum = localSum.add(BigInteger.valueOf(i));\n",
    "            return localSum;\n",
    "        }\n",
    "    }\n",
    "\n",
    "    public static void main() {\n",
    "        ExecutorService executorService = Executors.newFixedThreadPool(NUM_THREADS);\n",
    "        List<Future<BigInteger>> summationTasks = new ArrayList<>();\n",
    "\n",
    "        long n = 1000000L;\n",
    "        long taskNum = n / 10; // 10 tasks\n",
    "\n",
    "        for (int i = 0; i < NUM_THREADS; i++) {\n",
    "            long fromInInnerRange = (taskNum * i) + 1;\n",
    "            long toInInnerRange = taskNum * (i + 1);\n",
    "\n",
    "            System.out.printf(\"Wątek dla sumy w zakresie %d - %d %n\", fromInInnerRange, toInInnerRange);\n",
    "            Callable<BigInteger> summationTask = new Sum(fromInInnerRange, toInInnerRange);\n",
    "            Future<BigInteger> futureSum = executorService.submit(summationTask);\n",
    "            summationTasks.add(futureSum);\n",
    "        }\n",
    "\n",
    "        for (Future<BigInteger> partialSum : summationTasks) {\n",
    "            try {\n",
    "                calculatedSum = calculatedSum.add(partialSum.get());\n",
    "            } catch (CancellationException | ExecutionException | InterruptedException exception) {\n",
    "                exception.printStackTrace();\n",
    "            }\n",
    "        }\n",
    "        System.out.printf(\"Suma = %d\", calculatedSum);\n",
    "        executorService.shutdown();\n",
    "    }\n",
    "}\n",
    "\n",
    "Main.main()"
   ]
  },
  {
   "cell_type": "code",
   "execution_count": 3,
   "id": "cd261149-82a7-402d-a9ed-e02579559813",
   "metadata": {},
   "outputs": [
    {
     "name": "stdout",
     "output_type": "stream",
     "text": [
      "Wątek dla sumy w zakresie 1 - 100000 \n",
      "Wątek dla sumy w zakresie 100001 - 200000 \n",
      "Wątek dla sumy w zakresie 200001 - 300000 \n",
      "Wątek dla sumy w zakresie 300001 - 400000 \n",
      "Wątek dla sumy w zakresie 400001 - 500000 \n",
      "Wątek dla sumy w zakresie 500001 - 600000 \n",
      "Wątek dla sumy w zakresie 600001 - 700000 \n",
      "Wątek dla sumy w zakresie 700001 - 800000 \n",
      "Wątek dla sumy w zakresie 800001 - 900000 \n",
      "Wątek dla sumy w zakresie 900001 - 1000000 \n",
      "Suma = 500000500000"
     ]
    }
   ],
   "source": [
    "// kotlin\n",
    "\n",
    "import java.math.BigInteger\n",
    "import java.util.concurrent.*\n",
    "\n",
    "\n",
    "var calculatedSum = BigInteger.ZERO\n",
    "val NUM_THREADS = 10\n",
    "fun main() {\n",
    "    val executorService = Executors.newFixedThreadPool(NUM_THREADS)\n",
    "    val summationTasks: MutableList<Future<BigInteger>> = ArrayList()\n",
    "    val n = 1000000L\n",
    "    val taskNum = n / 10 // 10 tasks\n",
    "        \n",
    "    for (i in 0 until NUM_THREADS) {\n",
    "        val fromInInnerRange = taskNum * i + 1\n",
    "        val toInInnerRange = taskNum * (i + 1)\n",
    "        System.out.printf(\"Wątek dla sumy w zakresie %d - %d %n\", fromInInnerRange, toInInnerRange)\n",
    "        val summationTask: Callable<BigInteger> = Sum(fromInInnerRange, toInInnerRange)\n",
    "        val futureSum = executorService.submit(summationTask)\n",
    "        summationTasks.add(futureSum)\n",
    "    }\n",
    "    \n",
    "    for (partialSum in summationTasks) {\n",
    "        try {\n",
    "            calculatedSum = calculatedSum.add(partialSum.get())\n",
    "        } catch (exception: CancellationException) {\n",
    "            exception.printStackTrace()\n",
    "        } catch (exception: ExecutionException) {\n",
    "            exception.printStackTrace()\n",
    "        } catch (exception: InterruptedException) {\n",
    "            exception.printStackTrace()\n",
    "        }\n",
    "    }\n",
    "    \n",
    "    System.out.printf(\"Suma = %d\", calculatedSum)\n",
    "    executorService.shutdown()\n",
    "}\n",
    "\n",
    "internal class Sum(var from: Long, var to: Long) : Callable<BigInteger> {\n",
    "    var localSum: BigInteger = BigInteger.ZERO\n",
    "    override fun call(): BigInteger {\n",
    "        for (i in from..to) localSum = localSum.add(BigInteger.valueOf(i))\n",
    "        return localSum\n",
    "    }\n",
    "}\n",
    "main()"
   ]
  },
  {
   "cell_type": "code",
   "execution_count": 4,
   "id": "271e82ba-49b5-450d-a284-ebf9abe3106b",
   "metadata": {},
   "outputs": [
    {
     "name": "stdout",
     "output_type": "stream",
     "text": [
      "waiting\n",
      "waiting\n",
      "3.954743986657038\n"
     ]
    }
   ],
   "source": [
    "import java.util.concurrent.Callable\n",
    "import java.util.concurrent.ExecutionException\n",
    "import java.util.concurrent.ExecutorService\n",
    "import java.util.concurrent.Executors\n",
    "import java.util.concurrent.Future\n",
    "\n",
    "val executor = Executors.newFixedThreadPool(4)\n",
    "val future: Future<Double> = executor.submit(Callable<Double> {\n",
    "    Math.sqrt(15.64)\n",
    "})\n",
    "\n",
    "try {\n",
    "    while (!future.isDone) println(\"waiting\")\n",
    "    println(future.get())\n",
    "} catch (ee: ExecutionException) {\n",
    "    System.err.println(\"task threw an exception\")\n",
    "    ee.printStackTrace()\n",
    "} catch (ie: InterruptedException) {\n",
    "    System.err.println(\"interrupted while waiting\")\n",
    "}\n",
    "executor.shutdown()"
   ]
  },
  {
   "cell_type": "code",
   "execution_count": 9,
   "id": "313395f0-9ea2-420c-b7e3-3734a9757f4d",
   "metadata": {},
   "outputs": [
    {
     "name": "stdout",
     "output_type": "stream",
     "text": [
      "3.954743986657038\n"
     ]
    }
   ],
   "source": [
    "import java.util.concurrent.CompletableFuture\n",
    "import java.util.function.Supplier // interfejs funkcyjny\n",
    "\n",
    "val executor = Executors.newFixedThreadPool(4)\n",
    "val future = CompletableFuture\n",
    "    .supplyAsync(Supplier { Math.sqrt(15.64)}, executor)\n",
    "    .thenApply { // callback\n",
    "        println(\"$it\")}"
   ]
  },
  {
   "cell_type": "markdown",
   "id": "d48a1917-af4f-4a53-8677-68faca611546",
   "metadata": {},
   "source": [
    "Funkcja `thenApply` zostanie wywołana po zakończeniu obliczeń. Występuje jednak kilka ograniczeń\n",
    "- jeżeli konieczna jest implementacja komunikacji między wykonywanymi zadaniami konieczna jest synchronizacja\n",
    "- jeżeli jeden `callback` potrzebuje innego wymagane jest zagnieżdżenie co prowadzi do sytuacji znanej jako **callback hell**."
   ]
  }
 ],
 "metadata": {
  "kernelspec": {
   "display_name": "Kotlin",
   "language": "kotlin",
   "name": "kotlin"
  },
  "language_info": {
   "codemirror_mode": "text/x-kotlin",
   "file_extension": ".kt",
   "mimetype": "text/x-kotlin",
   "name": "kotlin",
   "nbconvert_exporter": "",
   "pygments_lexer": "kotlin",
   "version": "1.6.20-dev-6372"
  }
 },
 "nbformat": 4,
 "nbformat_minor": 5
}
