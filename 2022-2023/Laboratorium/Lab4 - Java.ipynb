{
 "cells": [
  {
   "cell_type": "markdown",
   "id": "326e9c74-aa80-46a1-8010-ddaab933e668",
   "metadata": {},
   "source": [
    "# Lab 4 - Operacje na kolekcjach"
   ]
  },
  {
   "cell_type": "markdown",
   "id": "5bee4b5a-fca4-4297-8c83-f0a5ad042787",
   "metadata": {
    "tags": []
   },
   "source": [
    "## Wyrażenia Lambda"
   ]
  },
  {
   "cell_type": "markdown",
   "id": "7019c3fd-6b13-4a2f-909f-f0208f1bb6df",
   "metadata": {},
   "source": [
    "Podstawowa składnia:\n",
    "`(parameter1, parameter2) -> { code block }`, aby zapisać wyrażenie w zmiennej musimy skorzystać z **interfejsu funkcyjnego** (interfejsy dokładniej zostaną omówione na kolejnych zajęciach)"
   ]
  },
  {
   "cell_type": "code",
   "execution_count": 5,
   "id": "3591fa67-aa02-47cf-b5ae-4df4e593f9cd",
   "metadata": {},
   "outputs": [
    {
     "name": "stdout",
     "output_type": "stream",
     "text": [
      "9\n"
     ]
    }
   ],
   "source": [
    "public interface Sqr {\n",
    "    int sqr( int x );\n",
    "}\n",
    "\n",
    "Sqr square = number -> { return number * number;};\n",
    "int num = square.sqr(3);\n",
    "System.out.println(num);"
   ]
  },
  {
   "cell_type": "code",
   "execution_count": 15,
   "id": "6992337b-f24a-4d51-bb41-ad3afacebb6c",
   "metadata": {},
   "outputs": [
    {
     "name": "stdout",
     "output_type": "stream",
     "text": [
      "200 cm\n"
     ]
    }
   ],
   "source": [
    "public interface Function {\n",
    "    String fun( int x );\n",
    "}\n",
    "\n",
    "Function function = input -> {\n",
    "    int m = input * 100;\n",
    "    return String.valueOf(m);\n",
    "};\n",
    "\n",
    "System.out.println(function.fun(2) + \" cm\");"
   ]
  },
  {
   "cell_type": "code",
   "execution_count": 30,
   "id": "206e0ccb-e391-4fa6-a728-26fb140f684d",
   "metadata": {},
   "outputs": [
    {
     "name": "stdout",
     "output_type": "stream",
     "text": [
      "1\n",
      "2\n",
      "3\n"
     ]
    }
   ],
   "source": [
    "List<Integer> lst = List.of(1, 2, 3);\n",
    "lst.forEach(System.out::println);"
   ]
  },
  {
   "cell_type": "markdown",
   "id": "edf53c22-f4d5-46f5-821b-c3160a6b38f2",
   "metadata": {
    "tags": []
   },
   "source": [
    "## Metody transformacji\n",
    "\n",
    "### `foreach`, `removeIf`\n",
    "\n",
    "- `foreach` - `Type.forEach(action: (Type) -> void)` - wykonuje zdefiniowaną akcję na każdym elemencie, nie zwraca wartości\n",
    "- `removeIf` - usuwa wszystkie elementy spełniające warunek"
   ]
  },
  {
   "cell_type": "code",
   "execution_count": 56,
   "id": "6b8c0e3f-ec3f-48c1-9cfa-4ba4185570b3",
   "metadata": {},
   "outputs": [
    {
     "name": "stdout",
     "output_type": "stream",
     "text": [
      "4\n",
      "8\n",
      "12\n",
      "16\n",
      "20\n",
      "24\n"
     ]
    }
   ],
   "source": [
    "ArrayList<Integer> array = new ArrayList<Integer>(\n",
    "    Arrays.asList(1, 2, 3, 4, 5, 6));\n",
    "array.forEach( item -> {System.out.println(item * 4); });"
   ]
  },
  {
   "cell_type": "code",
   "execution_count": 60,
   "id": "c145f834-b987-4a7c-a46c-7c87765306e1",
   "metadata": {},
   "outputs": [],
   "source": [
    "ArrayList<Integer> array = new ArrayList<Integer>(\n",
    "    Arrays.asList(1, 2, 3, 4, 5, 6));\n",
    "//array.forEach({ System.out.println(it * 4); }; // w javie nie ma domyślnego argumentu"
   ]
  },
  {
   "cell_type": "code",
   "execution_count": 67,
   "id": "c5f8e238-0457-4a6d-9404-2e2de2845792",
   "metadata": {},
   "outputs": [
    {
     "name": "stdout",
     "output_type": "stream",
     "text": [
      "[1, 3, 5]\n"
     ]
    }
   ],
   "source": [
    "array.removeIf (it -> (it % 2 == 0));\n",
    "System.out.println(array);"
   ]
  },
  {
   "cell_type": "code",
   "execution_count": 72,
   "id": "f58e0f08-a252-43f0-b1b3-044a4a8865a0",
   "metadata": {},
   "outputs": [
    {
     "name": "stdout",
     "output_type": "stream",
     "text": [
      "100\n",
      "300\n",
      "500\n"
     ]
    }
   ],
   "source": [
    "array.forEach (  it -> {\n",
    "    Integer a = it * 100;\n",
    "    System.out.println(a);\n",
    "}\n",
    ");"
   ]
  },
  {
   "cell_type": "markdown",
   "id": "152a7069-4884-4bdf-8eb1-fe110a3ed090",
   "metadata": {},
   "source": [
    "### `map`\n",
    "\n",
    "- `map` - wykonuje zdefiniowaną akcję na każdym elemencie"
   ]
  },
  {
   "cell_type": "code",
   "execution_count": 80,
   "id": "d155c77c-a681-4780-a3e7-91470edd9285",
   "metadata": {},
   "outputs": [
    {
     "name": "stdout",
     "output_type": "stream",
     "text": [
      "[1, 4, 9]\n",
      "[1, 2, 3]\n"
     ]
    }
   ],
   "source": [
    "import java.util.stream.Collectors;\n",
    "\n",
    "ArrayList<Integer> array = new ArrayList<Integer>(\n",
    "    Arrays.asList(1, 2, 3));\n",
    "System.out.println(array.stream().map ( it -> it * it ).collect(Collectors.toList()));\n",
    "System.out.println(array) // nie modyfikuje"
   ]
  },
  {
   "cell_type": "markdown",
   "id": "3e91918c-f43a-4efc-a71a-34d170cd4a93",
   "metadata": {},
   "source": [
    "### `filter`\n",
    "\n",
    "- zwraca strumień zawierający tylko elementy pasujące do podanego predykatu (funkcje lambda, które pobierają element kolekcji i zwracają wartość logiczną)."
   ]
  },
  {
   "cell_type": "code",
   "execution_count": 82,
   "id": "14a67aaa-ef84-40bd-82a4-dc3bab796fe2",
   "metadata": {},
   "outputs": [
    {
     "name": "stdout",
     "output_type": "stream",
     "text": [
      "[Robert, Renata]\n"
     ]
    }
   ],
   "source": [
    "ArrayList<String> names = new ArrayList<String>(\n",
    "    Arrays.asList(\"Rafał\", \"Robert\", \"Ania\", \"Paweł\", \n",
    "                   \"Roman\", \"Radek\", \"Renata\"));\n",
    "System.out.println(\n",
    "    names\n",
    "        .stream()\n",
    "        .filter ( it -> it.length() > 5 )\n",
    "        .collect(Collectors.toList()));"
   ]
  },
  {
   "cell_type": "code",
   "execution_count": 85,
   "id": "d89bb583-13a3-4e8b-867e-dcbaeab3da5a",
   "metadata": {},
   "outputs": [
    {
     "name": "stdout",
     "output_type": "stream",
     "text": [
      "[Robert, Renata]\n",
      "[Rafał, Ania, Paweł, Roman, Radek]\n",
      "[Rafał, Robert, Ania, Paweł, Roman, Radek, Renata]\n"
     ]
    }
   ],
   "source": [
    "import java.util.function.*;\n",
    "\n",
    "System.out.println(\n",
    "    names\n",
    "        .stream()\n",
    "        .filter ( it -> it.length() > 5 )\n",
    "        .collect(Collectors.toList())\n",
    ");\n",
    "\n",
    "System.out.println(\n",
    "    names\n",
    "        .stream()\n",
    "        .filter (Predicate.not( it -> it.length() > 5) )\n",
    "        .collect(Collectors.toList())\n",
    ");\n",
    "\n",
    "System.out.println(names);"
   ]
  },
  {
   "cell_type": "code",
   "execution_count": 89,
   "id": "5893c593-cfd4-406b-9dbc-9fe8e57e071a",
   "metadata": {},
   "outputs": [
    {
     "name": "stdout",
     "output_type": "stream",
     "text": [
      "TWO\n",
      "FOUR\n"
     ]
    }
   ],
   "source": [
    "ArrayList<Object> objects = new ArrayList<Object>(\n",
    "    Arrays.asList(null, 1, \"two\", 3.0, \"four\"));\n",
    "\n",
    "objects\n",
    "    .stream()\n",
    "    .filter(o -> o instanceof String)\n",
    "    .map(o -> (String) o)\n",
    "    .forEach(o -> System.out.println(o.toUpperCase()));"
   ]
  },
  {
   "cell_type": "code",
   "execution_count": 90,
   "id": "45abd9d6-f447-47d7-9845-2fff3d81e78c",
   "metadata": {},
   "outputs": [
    {
     "name": "stdout",
     "output_type": "stream",
     "text": [
      "TWO\n",
      "FOUR\n"
     ]
    }
   ],
   "source": [
    "objects\n",
    "    .stream()\n",
    "    .filter(String.class::isInstance)\n",
    "    .map(String.class::cast)\n",
    "    .forEach(o -> System.out.println(o.toUpperCase()));"
   ]
  },
  {
   "cell_type": "code",
   "execution_count": 91,
   "id": "a5f445dc-0d2f-4d99-a207-b5ef2d5973d9",
   "metadata": {},
   "outputs": [
    {
     "name": "stdout",
     "output_type": "stream",
     "text": [
      "1\n",
      "two\n",
      "3.0\n",
      "four\n"
     ]
    }
   ],
   "source": [
    "objects\n",
    "    .stream()\n",
    "    .filter(Objects::nonNull)\n",
    "    .forEach(o -> System.out.println(o.toString()));"
   ]
  },
  {
   "cell_type": "code",
   "execution_count": 92,
   "id": "92f02a66-6ea9-4e6a-bf64-fa4d7bb5410d",
   "metadata": {},
   "outputs": [
    {
     "name": "stdout",
     "output_type": "stream",
     "text": [
      "3\n",
      "4\n"
     ]
    }
   ],
   "source": [
    "objects\n",
    "    .stream()\n",
    "    .filter(Objects::nonNull)\n",
    "    .filter(String.class::isInstance)\n",
    "    .map(String.class::cast)\n",
    "    .forEach(o -> System.out.println(o.length()));"
   ]
  },
  {
   "cell_type": "markdown",
   "id": "969af682-4650-4896-b5f4-d28620f7c790",
   "metadata": {},
   "source": [
    "### `partition` - brak w bibliotekach javy"
   ]
  },
  {
   "cell_type": "markdown",
   "id": "118e4bce-9971-4364-97d4-9bf3b430c5c3",
   "metadata": {},
   "source": [
    "### `groupingBy`\n",
    "\n",
    "- Grupuje elementy oryginalnej tablicy według klucza zwróconego przez daną funkcję `keySelector` zastosowaną do każdego elementu i zwraca mapę, w której każdy klucz grupy jest skojarzony z listą odpowiednich elementów. Zwrócona mapa zachowuje kolejność iteracji wpisów kluczy utworzonych z oryginalnej tablicy."
   ]
  },
  {
   "cell_type": "code",
   "execution_count": 95,
   "id": "7db54905-b1b9-400f-b54d-519e67304d34",
   "metadata": {},
   "outputs": [
    {
     "name": "stdout",
     "output_type": "stream",
     "text": [
      "{t=[two, three], f=[four, five], o=[one]}\n"
     ]
    }
   ],
   "source": [
    "ArrayList<String> numbers = new ArrayList<String>(\n",
    "    Arrays.asList(\"one\", \"two\", \"three\", \"four\", \"five\"));\n",
    "\n",
    "System.out.println(numbers\n",
    "    .stream()\n",
    "    .collect(Collectors.groupingBy(s -> s.charAt(0)))\n",
    ");"
   ]
  },
  {
   "cell_type": "markdown",
   "id": "b9630376-10b6-477a-9442-fa2ceab8f01c",
   "metadata": {},
   "source": [
    "### `reduce`\n",
    "- `reduce` - Kumuluje wartość zaczynając od pierwszego elementu, stosując operację od lewej do prawej, do bieżącej wartości kumulowanej i każdego elementu."
   ]
  },
  {
   "cell_type": "code",
   "execution_count": 105,
   "id": "fd815e47-fee6-4e3d-a31a-24cc9e46ffc9",
   "metadata": {},
   "outputs": [
    {
     "name": "stdout",
     "output_type": "stream",
     "text": [
      "21\n"
     ]
    }
   ],
   "source": [
    "ArrayList<Integer> numbers = new ArrayList<Integer>(\n",
    "    Arrays.asList(5, 2, 10, 4));\n",
    "\n",
    "Integer simpleSum = numbers.stream().reduce(0, (subtotal, element) -> subtotal + element);\n",
    "System.out.println(simpleSum);"
   ]
  },
  {
   "cell_type": "code",
   "execution_count": 108,
   "id": "4fc997aa-c17a-4efa-a596-0b44cda186fa",
   "metadata": {},
   "outputs": [
    {
     "name": "stdout",
     "output_type": "stream",
     "text": [
      "42\n"
     ]
    }
   ],
   "source": [
    "ArrayList<Integer> numbers = new ArrayList<Integer>(\n",
    "    Arrays.asList(5, 2, 10, 4));\n",
    "\n",
    "Integer simpleSum = numbers.stream().reduce(0, (subtotal, element) -> subtotal + (element * 2));\n",
    "System.out.println(simpleSum);"
   ]
  },
  {
   "cell_type": "markdown",
   "id": "d08c5792-30de-4521-bcaf-73e1f9dbb111",
   "metadata": {},
   "source": [
    "### `flatten`\n",
    "\n",
    "- Zwraca pojedynczą listę wszystkich elementów ze wszystkich tablic w danej tablicy"
   ]
  },
  {
   "cell_type": "code",
   "execution_count": 135,
   "id": "851be64e-d6a6-4e9e-bf47-2db3d6306554",
   "metadata": {},
   "outputs": [
    {
     "name": "stdout",
     "output_type": "stream",
     "text": [
      "1\n",
      "2\n",
      "3\n",
      "4\n",
      "5\n",
      "6\n"
     ]
    }
   ],
   "source": [
    "Integer[][] array = new Integer[][]{{1}, {2, 3}, {4, 5, 6}};\n",
    "\n",
    "Stream.of(array)  \n",
    "    .flatMap(Stream::of)              \n",
    "    .collect(Collectors.toList())\n",
    "    .forEach(System.out::println);"
   ]
  },
  {
   "cell_type": "code",
   "execution_count": null,
   "id": "1ee240bc-011a-4443-a1dd-5e81d52c13e9",
   "metadata": {},
   "outputs": [],
   "source": []
  },
  {
   "cell_type": "markdown",
   "id": "37bd3d26-740b-4597-9624-5f9a6550b073",
   "metadata": {},
   "source": [
    "# Lista 3"
   ]
  },
  {
   "cell_type": "markdown",
   "id": "e7c9a8c8-04f2-4f82-96e0-8464df77cfb9",
   "metadata": {},
   "source": [
    "## Zad 1 - **1 pkt**\n",
    "\n",
    "Napisz funcję lambda przyjmującą dwa argumenty `s: String` i `i: Int` i zwracającą `String` zawierający `i` kopii `s`\n",
    "\n",
    "```verbatim\n",
    "input:\n",
    ">> (a, 3)\n",
    "\n",
    "output: \n",
    ">> aaa\n",
    "```\n"
   ]
  },
  {
   "cell_type": "markdown",
   "id": "36810318-18ca-4e3a-93fd-a5d5d58452c0",
   "metadata": {},
   "source": [
    "## Zad 2 - **1 pkt**\n",
    "\n",
    "Napisz funkcję `suma(a: List<Int>): Int` zwracającą sumę wszystkich dodatnich liczb w liście (wykorzystaj funkcje `map`, `filter`, `reduce` ...)\n",
    "\n",
    "```verbatim\n",
    "input:\n",
    ">> suma(listOf( 1, -4, 12, 0, -3, 29, -150))\n",
    "\n",
    "output: \n",
    ">> 42\n",
    "```"
   ]
  },
  {
   "cell_type": "markdown",
   "id": "0354874e-1082-46e9-bc0f-e720eebaf1ab",
   "metadata": {},
   "source": [
    "## Zad 3 - **1 pkt**\n",
    "\n",
    "Napisz funkcję `countElements` przyjmującą listę `String` i zwracającą mapę zawierającą liczbę wystąpień każdego elemetu. Funkcja powinna działać z zagnieżdżonymi listami.\n",
    "\n",
    "```verbatim\n",
    "input:  \n",
    "  countElements(listOf(listOf(\"a\", \"b\", \"c\"), listOf(\"c\", \"d\", \"f\"), listOf(\"d\", \"f\", \"g\")))\n",
    "\n",
    "output:   \n",
    "  { a: 1, b: 1, c: 2, d: 2, f: 2, g: 1 }\n",
    "```"
   ]
  },
  {
   "cell_type": "markdown",
   "id": "db38d030-4c5d-4f5b-8f8c-3924fcf932c3",
   "metadata": {},
   "source": [
    "## Zad 4 - **1 pkt**\n",
    "\n",
    "Napisz funkcję `evenPositiveSquare` przyjmującą listę liczb `int` i zwracającą listę wszystkich dodatnich liczb o indeksach nieparzystych podniesionych do kwadratu.\n",
    "\n",
    "```verbatim\n",
    "input:\n",
    "    evenPositiveSquare(listOf(1, 2, 3, 5, -6, -1, -1, 2, 3))\n",
    "\n",
    "output:\n",
    "    [4, 25, 4]\n",
    "```"
   ]
  },
  {
   "cell_type": "markdown",
   "id": "ceb6cf2f-89f4-4624-960d-f06c206d99ea",
   "metadata": {},
   "source": [
    "## Zad 5 - **2 pkt**\n",
    "\n",
    "Napisz funkcję `srt` przyjmującą listę `String`. Funkcja zwraca posortowaną względem pierwszej litery listę pogupowanych list, zawierających tylko `String` o parzystej długości.\n",
    "\n",
    "```verbatim\n",
    "input:\n",
    "    srt(listOf(\n",
    "        \"cherry\", \n",
    "        \"blueberry\", \n",
    "        \"citrus\", \n",
    "        \"apple\", \n",
    "        \"apricot\", \n",
    "        \"banana\", \n",
    "        \"coconut\")\n",
    "    )\n",
    "\n",
    "output:\n",
    "    [ [a, []], [ b, [banana] ], [ c, [cherry, citrus] ] ]\n",
    "```"
   ]
  },
  {
   "cell_type": "markdown",
   "id": "ca21c01e-ba94-4660-b0eb-4ffb85e20ed8",
   "metadata": {},
   "source": [
    "## Zad 6 - **2 pkt**\n",
    "\n",
    "Napisz funkcję `perm` przyjmującą `List<Int>` zwracającą listę list wszystkich możliwych permutacji\n",
    "\n",
    "```verbatim\n",
    "input\n",
    "    perm(listOf(1, 2, 3))\n",
    "\n",
    "output\n",
    "    [[1, 2, 3], [1, 3, 2], [2, 1, 3], [2, 3, 1], [3, 1, 2], [3, 2, 1]]\n",
    "```"
   ]
  },
  {
   "cell_type": "markdown",
   "id": "2fabaec4-f12c-445c-8a77-691b0013e325",
   "metadata": {},
   "source": [
    "## Zad 7 - **2 pkt**\n",
    "Napisz funkcję `check` zwracającą liczbę `Int`. Funkcja przyjmuje długość preambuły w formie `N: Int` oraz listę `List: List<Int>`.\n",
    "- Preambuła zawiera unikalne liczby\n",
    "- Lista zawiera tylko liczby dodatnie\n",
    "- Każda liczba musi być sumą dwóch różnych liczb z preambuły\n",
    "- Jeżeli waruunek jest spełniony, przesuwamy preambułę o jeden i sprawdzamy ponownie\n",
    "- Jeżeli nie znajdziemy elementu niepasującego, funkcja zwraca `-1`\n",
    "\n",
    "Załóżmy że wywołujemy `check(3, listOf(1, 2, 3, 5, 7, 12, 30))`, poniżej wszystkie kroki:\n",
    "\n",
    "<img src=\"https://fv9-3.failiem.lv/down.php?i=qw7d59zww\" width=\"300\" />\n",
    "\n",
    "<img src=\"https://fv9-4.failiem.lv/down.php?i=htc9x99bs\" width=\"300\" />\n",
    "\n",
    "Funkcja zwraca pierwszą liczbę na liście, która nie spełnia tego warunku. Zakładamy że taka istnieje.\n",
    "\n",
    "```verbatim\n",
    "input:\n",
    ">> check(2, listOf(1, 2, 3, 4, 5, 6))\n",
    "\n",
    "output:\n",
    ">> 4\n",
    "\n",
    "\n",
    "input:\n",
    "check(5, listOf(35, 25, 15, 25, 47, 40, 62, 55, 65, 95, 102, 117, 150, 182, 127, 219, 299, 277, 309, 576))\n",
    "\n",
    "output:\n",
    "127\n",
    "```\n",
    "\n",
    "sugerowane funkcje mogące pomóc w rozwiązaniu problemu: `any()`, `firstOrNull()`, `firstNotNullOfOrNull()`, `windowed()`, `takeIf()`, `scan()`, `find()`"
   ]
  },
  {
   "cell_type": "markdown",
   "id": "8ed19fe1-bf92-4660-a3cb-162f12862d08",
   "metadata": {},
   "source": [
    "### Oceny\n",
    "\n",
    "|**ocena**|**punkty**|\n",
    "|:---:|:---:|\n",
    "|3,0 | 6 pkt|\n",
    "|3,5 | 7 pkt|\n",
    "|4,0 | 8 pkt|\n",
    "|4,5 | 9 pkt|\n",
    "|5,0 | 10 pkt|"
   ]
  }
 ],
 "metadata": {
  "kernelspec": {
   "display_name": "Java",
   "language": "java",
   "name": "java"
  },
  "language_info": {
   "codemirror_mode": "java",
   "file_extension": ".jshell",
   "mimetype": "text/x-java-source",
   "name": "Java",
   "pygments_lexer": "java",
   "version": "17+35-2724"
  }
 },
 "nbformat": 4,
 "nbformat_minor": 5
}
