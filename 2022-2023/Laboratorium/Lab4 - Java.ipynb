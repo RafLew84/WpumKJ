{
 "cells": [
  {
   "cell_type": "markdown",
   "id": "326e9c74-aa80-46a1-8010-ddaab933e668",
   "metadata": {},
   "source": [
    "# Lab 4 - Operacje na kolekcjach"
   ]
  },
  {
   "cell_type": "code",
   "execution_count": null,
   "id": "8699c560-215b-41a8-8ec1-bc5a615a8b43",
   "metadata": {},
   "outputs": [],
   "source": []
  }
 ],
 "metadata": {
  "kernelspec": {
   "display_name": "Java",
   "language": "java",
   "name": "java"
  },
  "language_info": {
   "codemirror_mode": "java",
   "file_extension": ".jshell",
   "mimetype": "text/x-java-source",
   "name": "Java",
   "pygments_lexer": "java",
   "version": "17+35-2724"
  }
 },
 "nbformat": 4,
 "nbformat_minor": 5
}
