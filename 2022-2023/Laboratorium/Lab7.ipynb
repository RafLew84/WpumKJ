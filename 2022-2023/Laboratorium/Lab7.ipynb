{
 "cells": [
  {
   "cell_type": "markdown",
   "id": "d0f17a60-bcd3-4abd-86d0-b5857c44ebaf",
   "metadata": {},
   "source": [
    "# Lab 7 - Elementy Języka Kotlin"
   ]
  },
  {
   "cell_type": "markdown",
   "id": "83144fbc-0a07-46e0-8224-aa4eb38bef7b",
   "metadata": {},
   "source": [
    "## Operator `*` i `varargs`"
   ]
  },
  {
   "cell_type": "code",
   "execution_count": 2,
   "id": "b23e1573-2b97-4f6b-bf78-40d9ab23a8b1",
   "metadata": {},
   "outputs": [],
   "source": [
    "fun format(format: String, vararg params: String){}"
   ]
  },
  {
   "cell_type": "markdown",
   "id": "611633be-103e-4910-835d-49eb6ed841df",
   "metadata": {},
   "source": [
    "Jeżeli `varargs` jest podany jako ostatni parametr, jego odpowiednikiem w Javie jest"
   ]
  },
  {
   "cell_type": "code",
   "execution_count": null,
   "id": "41601f53-8c1a-4d9c-af8a-34ade4978b45",
   "metadata": {},
   "outputs": [],
   "source": [
    "void format(@NotNull String format, @NotNull String... params)"
   ]
  },
  {
   "cell_type": "code",
   "execution_count": 5,
   "id": "7e4aebfe-ce9d-455e-84ca-ed9db74f7328",
   "metadata": {},
   "outputs": [],
   "source": [
    "fun format2(format: String, vararg params: String, encoding: String){}"
   ]
  },
  {
   "cell_type": "markdown",
   "id": "a38084e1-6a4a-455b-93e8-f4cc38d4e8e7",
   "metadata": {},
   "source": [
    "Jeżeli `varargs` nie jest ostatnim paramtrem, odpowiednikiem w Javie jest"
   ]
  },
  {
   "cell_type": "code",
   "execution_count": null,
   "id": "f459c162-d9db-4137-894c-c5c4b7ba705a",
   "metadata": {},
   "outputs": [],
   "source": [
    "void format2(String format, String[] params, String encoding)"
   ]
  },
  {
   "cell_type": "code",
   "execution_count": 7,
   "id": "0f87f88f-bcbe-465c-bf89-628e8ad54052",
   "metadata": {},
   "outputs": [],
   "source": [
    "fun <T> printAll(vararg ts: T) {\n",
    "    ts.forEach { println(it) }\n",
    "}"
   ]
  },
  {
   "cell_type": "code",
   "execution_count": 11,
   "id": "bfdfe99d-0764-41ba-9e63-71c74b89c939",
   "metadata": {},
   "outputs": [
    {
     "name": "stdout",
     "output_type": "stream",
     "text": [
      "1\n",
      "2\n",
      "3\n",
      "4\n"
     ]
    }
   ],
   "source": [
    "val numbers = arrayOf(1, 2, 3, 4)\n",
    "printAll(*numbers)"
   ]
  },
  {
   "cell_type": "code",
   "execution_count": 13,
   "id": "78b8591d-af3a-4dc4-a06f-43dc4e8c2c0e",
   "metadata": {},
   "outputs": [
    {
     "name": "stdout",
     "output_type": "stream",
     "text": [
      "param1\n",
      "param2\n",
      "extra\n",
      "opts1\n",
      "opts2\n",
      "opts3\n"
     ]
    }
   ],
   "source": [
    "val params = arrayOf(\"param1\", \"param2\")\n",
    "val opts = arrayOf(\"opts1\", \"opts2\", \"opts3\")\n",
    "\n",
    "val allParams = arrayOf(*params, \"extra\", *opts)\n",
    "printAll(*allParams)"
   ]
  },
  {
   "cell_type": "markdown",
   "id": "cf0ad5f4-cbe1-4128-8fb1-6bbdd28da4a5",
   "metadata": {},
   "source": [
    "## Scope functions"
   ]
  },
  {
   "cell_type": "markdown",
   "id": "5f59a82a-142e-4b9b-8c5b-2ac55f236f58",
   "metadata": {},
   "source": [
    "### `let`"
   ]
  },
  {
   "cell_type": "code",
   "execution_count": 1,
   "id": "7dc33027-baae-4310-a2a8-77e7bb7f7fef",
   "metadata": {},
   "outputs": [
    {
     "name": "stderr",
     "output_type": "stream",
     "text": [
      "Line_0.jupyter-kts (4:9 - 12) Variable 'num' is never used\n",
      "Line_0.jupyter-kts (4:15 - 21) Smart cast to 'Int' is impossible, because 'number' is a mutable property that could have been changed by this time"
     ]
    }
   ],
   "source": [
    "var number: Int? = null\n",
    "\n",
    "if (number != null){\n",
    "    var num = number + 2\n",
    "}\n"
   ]
  },
  {
   "cell_type": "code",
   "execution_count": 4,
   "id": "12eb6bd4-b9c9-40c7-9b43-8eae2ce8dc1c",
   "metadata": {},
   "outputs": [],
   "source": [
    "var number: Int? = null\n",
    "\n",
    "// niebezpieczne ze względu na wielowątkowość\n",
    "if (number != null){\n",
    "    var num = number!! + 2\n",
    "    //number = number + 1\n",
    "    println(num)\n",
    "}"
   ]
  },
  {
   "cell_type": "code",
   "execution_count": 10,
   "id": "a3f39402-248f-4563-a399-f6307d067be0",
   "metadata": {},
   "outputs": [
    {
     "data": {
      "text/plain": [
       "null"
      ]
     },
     "execution_count": 10,
     "metadata": {},
     "output_type": "execute_result"
    }
   ],
   "source": [
    "var number: Int? = null\n",
    "\n",
    "// bezpieczne ze względu na wielowątkowość\n",
    "// let jest wykonywany tylko gdy number? nie jest null\n",
    "number?.let{ // it zachowuje stan number\n",
    "    var num = it + 2 // it == number\n",
    "    println(num)\n",
    "}"
   ]
  },
  {
   "cell_type": "code",
   "execution_count": 31,
   "id": "5ee03e28-50da-40db-9108-1e76803ca819",
   "metadata": {},
   "outputs": [
    {
     "name": "stdout",
     "output_type": "stream",
     "text": [
      "2\n"
     ]
    }
   ],
   "source": [
    "var number: Int? = 0\n",
    "// zwracana wartość ostatniej linii\n",
    "val v = number?.let{\n",
    "    var num = it + 2 \n",
    "    num\n",
    "}\n",
    "\n",
    "println(v)"
   ]
  },
  {
   "cell_type": "code",
   "execution_count": 2,
   "id": "1358cad6-a30d-42fc-b709-83c67e8efffc",
   "metadata": {},
   "outputs": [
    {
     "name": "stdout",
     "output_type": "stream",
     "text": [
      "null\n"
     ]
    }
   ],
   "source": [
    "var numberx: Int? = null\n",
    "// zwracana wartość ostatniej linii\n",
    "val va = numberx?.let{it + 2}\n",
    "println(va)"
   ]
  },
  {
   "cell_type": "code",
   "execution_count": 3,
   "id": "46bc7387-80d2-4817-bf0b-62b15a606eb1",
   "metadata": {},
   "outputs": [
    {
     "name": "stdout",
     "output_type": "stream",
     "text": [
      "3\n"
     ]
    }
   ],
   "source": [
    "var numberx: Int? = null\n",
    "// zwracana wartość ostatniej linii\n",
    "val va = numberx?.let{it + 2}?:3\n",
    "println(va)"
   ]
  },
  {
   "cell_type": "code",
   "execution_count": 20,
   "id": "48d1257e-655d-4758-8fd9-969b553bef20",
   "metadata": {},
   "outputs": [
    {
     "name": "stdout",
     "output_type": "stream",
     "text": [
      "5\n"
     ]
    }
   ],
   "source": [
    "var a = 1\n",
    "var b= 2\n",
    "\n",
    "a = a\n",
    "    .let { it + 2 }\n",
    "    .let { \n",
    "    val i = it + b\n",
    "    i\n",
    "}\n",
    "println(a)"
   ]
  },
  {
   "cell_type": "markdown",
   "id": "5db41d35-a520-4234-9a75-14dbf8641fe5",
   "metadata": {},
   "source": [
    "### `also`"
   ]
  },
  {
   "cell_type": "markdown",
   "id": "1bdb24b2-5d86-4278-9428-1c318db9f2a5",
   "metadata": {},
   "source": [
    "`also` nie zwraca ostatniej linii jak `let`. Zwraca obiekt na którym został wywołany."
   ]
  },
  {
   "cell_type": "code",
   "execution_count": 11,
   "id": "96631b88-c657-435e-9806-5fb861591218",
   "metadata": {},
   "outputs": [
    {
     "name": "stdout",
     "output_type": "stream",
     "text": [
      "The list elements before adding new one: [one, two, three]\n",
      "The list elements after adding new one: true\n"
     ]
    },
    {
     "data": {
      "text/plain": [
       "true"
      ]
     },
     "execution_count": 11,
     "metadata": {},
     "output_type": "execute_result"
    }
   ],
   "source": [
    "val numbers = mutableListOf(\"one\", \"two\", \"three\")\n",
    "numbers\n",
    "    .also { println(\"The list elements before adding new one: $it\") }\n",
    "    .add(\"four\")\n",
    "    .also { println(\"The list elements after adding new one: $it\") }"
   ]
  },
  {
   "cell_type": "markdown",
   "id": "3d0cdee9-bf7d-4ca0-83f1-c05521651090",
   "metadata": {},
   "source": [
    "### `apply`"
   ]
  },
  {
   "cell_type": "code",
   "execution_count": 17,
   "id": "fa8de224-c87f-4b9a-9ae4-c8aa674f6768",
   "metadata": {},
   "outputs": [
    {
     "name": "stdout",
     "output_type": "stream",
     "text": [
      "Person(name=Adam, age=32, city=London)\n"
     ]
    }
   ],
   "source": [
    "data class Person(var name: String, var age: Int=0, var city: String=\"\")\n",
    "val adam = Person(\"Adam\").apply {\n",
    "    age = 32\n",
    "    city = \"London\"        \n",
    "}\n",
    "println(adam)"
   ]
  },
  {
   "cell_type": "markdown",
   "id": "956b27fe-a830-4899-b746-5d52caabae05",
   "metadata": {},
   "source": [
    "### `run`"
   ]
  },
  {
   "cell_type": "code",
   "execution_count": null,
   "id": "2c9a6e72-a6e6-4221-aa49-876f61c5c24d",
   "metadata": {},
   "outputs": [],
   "source": [
    "val service = MultiportService(\"https://example.kotlinlang.org\", 80)\n",
    "\n",
    "val result = service.run {\n",
    "    port = 8080\n",
    "    query(prepareRequest() + \" to port $port\")\n",
    "}\n",
    "\n",
    "// the same with let()\n",
    "val letResult = service.let {\n",
    "    it.port = 8080\n",
    "    it.query(it.prepareRequest() + \" to port ${it.port}\")\n",
    "}"
   ]
  },
  {
   "cell_type": "code",
   "execution_count": null,
   "id": "c5dcbd24-15ae-403e-ba90-ab3eb99ef1fd",
   "metadata": {},
   "outputs": [],
   "source": [
    "var imie = \"Rafał\"\n",
    "println(imie)\n",
    "    \n",
    "imie = run {\n",
    "    val tutorial = \"Paweł\"\n",
    "    tutorial\n",
    "}\n",
    "println(imie)\n",
    "    \n",
    "tutorial = run {\n",
    "    val imie = \"Paweł\"\n",
    "    tutorial\n",
    "}\n",
    "\n",
    "imie = run {\n",
    "    \"Radek\"\n",
    "    \"Gadek\"\n",
    "}\n",
    "println(imie)"
   ]
  },
  {
   "cell_type": "code",
   "execution_count": 15,
   "id": "aeac1db3-a676-481d-b4fe-9b571c5e5a04",
   "metadata": {},
   "outputs": [
    {
     "name": "stdout",
     "output_type": "stream",
     "text": [
      "default value: Kotlin\n"
     ]
    }
   ],
   "source": [
    "var p : String? = null\n",
    "p?.let { \n",
    "    println(\"p is $p\") \n",
    "} ?: run { \n",
    "    print(\"default value: \")\n",
    "        p = \"Kotlin\"\n",
    "}\n",
    "\n",
    "println(p)"
   ]
  },
  {
   "cell_type": "code",
   "execution_count": 1,
   "id": "c9e0966e-3714-44ea-aa20-f7a53fe1b332",
   "metadata": {},
   "outputs": [
    {
     "name": "stdout",
     "output_type": "stream",
     "text": [
      "kotlin.Unit\n",
      "Person(name=Rafał, lastName=Lewandkowski)\n",
      "Person(name=Rafał, lastName=Lewandkowskiego)\n",
      "Person(name=Rafał, lastName=Lewandkowskiego)\n"
     ]
    }
   ],
   "source": [
    "data class Person(var name: String, var lastName : String)\n",
    "var person = Person(\"Rafał\", \"Lewandków\")\n",
    "\n",
    "var r = person.let { it.lastName = \"Lewandkowski\" }\n",
    "println(r)\n",
    "println(person)\n",
    "var rl = person.also { it.lastName = \"Lewandkowskiego\" }\n",
    "    \n",
    "println(rl)\n",
    "println(person)"
   ]
  },
  {
   "cell_type": "code",
   "execution_count": 34,
   "id": "4ab77e8f-beac-44e9-994e-117f9348a88a",
   "metadata": {},
   "outputs": [
    {
     "name": "stdout",
     "output_type": "stream",
     "text": [
      "Person(n=Rafał, l=Lewandkowski)\n",
      "Person(n=Rafał, l=Lewandkowski)\n"
     ]
    }
   ],
   "source": [
    "data class Person(var n: String, var l : String)\n",
    "var person = Person(\"Rafał\", \"Lewandków\")\n",
    "\n",
    "person.apply { l = \"Lewandkowski\" }\n",
    "println(person)\n",
    "\n",
    "person.also { it.l = \"Lewandkowski\" }\n",
    "println(person)"
   ]
  },
  {
   "cell_type": "markdown",
   "id": "84a38f89-5edd-412e-a060-9a19fe6f53e3",
   "metadata": {},
   "source": [
    "### `with`"
   ]
  },
  {
   "cell_type": "code",
   "execution_count": 36,
   "id": "52f8b1dc-f6ad-4125-9020-f33813ef323c",
   "metadata": {},
   "outputs": [
    {
     "name": "stdout",
     "output_type": "stream",
     "text": [
      "Person(name=No Name, lastName=No Name)\n"
     ]
    }
   ],
   "source": [
    "data class Person(var name: String, var lastName : String)\n",
    "var person = Person(\"Rafał\", \"Lewandków\")\n",
    "\n",
    "with(person)\n",
    "    {\n",
    "        name = \"No Name\"\n",
    "        lastName = \"No Name\"\n",
    "    }\n",
    "\n",
    "println(person)"
   ]
  },
  {
   "cell_type": "markdown",
   "id": "e308855f-2d54-40a9-8a03-d25f0de4dd67",
   "metadata": {},
   "source": [
    "### `with` vs `apply`"
   ]
  },
  {
   "cell_type": "markdown",
   "id": "8cdb014c-e02a-4378-a63f-acc231beecf7",
   "metadata": {},
   "source": [
    "- `apply` działa na instancji obiektu, `with` dostaje obiekt jako argument\n",
    "- `with` zwraca ostatnią linię"
   ]
  }
 ],
 "metadata": {
  "kernelspec": {
   "display_name": "Kotlin",
   "language": "kotlin",
   "name": "kotlin"
  },
  "language_info": {
   "codemirror_mode": "text/x-kotlin",
   "file_extension": ".kt",
   "mimetype": "text/x-kotlin",
   "name": "kotlin",
   "nbconvert_exporter": "",
   "pygments_lexer": "kotlin",
   "version": "1.6.20-dev-6372"
  }
 },
 "nbformat": 4,
 "nbformat_minor": 5
}
