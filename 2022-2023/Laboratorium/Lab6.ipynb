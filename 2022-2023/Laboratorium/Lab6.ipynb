{
 "cells": [
  {
   "cell_type": "markdown",
   "id": "b01d8ae1-4599-4bbc-9f21-7a8868a68d23",
   "metadata": {},
   "source": [
    "# Lab 6 - Elementy Programowania Funkcyjnego"
   ]
  },
  {
   "cell_type": "markdown",
   "id": "06ba520d-f2cf-46e5-bd51-19f7b07f55bc",
   "metadata": {},
   "source": [
    "## Podstawy"
   ]
  },
  {
   "cell_type": "markdown",
   "id": "75be7924-1aed-4ed8-9549-f3c1f11b2bfe",
   "metadata": {},
   "source": [
    "Program składa się z **czystych funkcji**, czyli funkcji bez **efektów ubocznych**."
   ]
  },
  {
   "cell_type": "markdown",
   "id": "84be37d4-95df-485f-acb8-422f10be3ba7",
   "metadata": {},
   "source": [
    "- Konstrukty odnoszą się do pojedynczych obiektów lub pojedynczej kolekcji obiektów\n",
    "- Wykorzystywanie funkcji jako parametrów funkcji\n",
    "- Rzadkie wykorzysywanie pętli\n",
    "- Wykorzystanie `filter`, `map`, `reduce`\n",
    "- Lambdy"
   ]
  },
  {
   "cell_type": "markdown",
   "id": "31e25960-2012-49b1-a1ef-b5703492a5fa",
   "metadata": {},
   "source": [
    "### Podstawowe cechy"
   ]
  },
  {
   "cell_type": "markdown",
   "id": "8dc2451e-ca22-4d3f-b127-90efff5c0bd8",
   "metadata": {},
   "source": [
    "- podstawowa składnia funkcji `([parameters]) -> [result-type]`"
   ]
  },
  {
   "cell_type": "markdown",
   "id": "29d8930a-b649-4a58-8c17-07bb3acfe93b",
   "metadata": {},
   "source": [
    "- funkcja jest typem pierwszoklasowym - jest konstruktem służącym do przechowywania danych, na którym możemy wykonywać takie same operacje, jak na innych, wbudowanych typach"
   ]
  },
  {
   "cell_type": "code",
   "execution_count": 3,
   "id": "d66a0326-06bc-41d2-8583-7f11395ccf0d",
   "metadata": {},
   "outputs": [
    {
     "data": {
      "text/plain": [
       "7: Hello"
      ]
     },
     "execution_count": 3,
     "metadata": {},
     "output_type": "execute_result"
    }
   ],
   "source": [
    "val f: (Int, String) -> String = { i:Int, s:String -> \"${i}: ${s}\" } // function literal\n",
    "val f2 = { i:Int, s:String -> \"${i}: ${s}\" } // anonymous lambda\n",
    "\n",
    "fun ff(fun1: (Int,String) -> String):String {\n",
    " return fun1(7, \"Hello\")\n",
    "}\n",
    "ff(f)"
   ]
  },
  {
   "cell_type": "code",
   "execution_count": 25,
   "id": "8f29f77f-310f-48e1-8e0e-d4251e7a9cae",
   "metadata": {},
   "outputs": [
    {
     "data": {
      "text/plain": [
       "7- Hello"
      ]
     },
     "execution_count": 25,
     "metadata": {},
     "output_type": "execute_result"
    }
   ],
   "source": [
    "ff( { i:Int,s:String -> \"${i}- ${s}\" } )"
   ]
  },
  {
   "cell_type": "markdown",
   "id": "3f769647-c758-43fa-9eed-231b3e6ba754",
   "metadata": {},
   "source": [
    "- wywołanie ` function({ [lambda-function] })` może zostać skócone do `function { [lambda-function] }`"
   ]
  },
  {
   "cell_type": "code",
   "execution_count": 59,
   "id": "69da25b1-a340-4336-b183-c04382863fb4",
   "metadata": {},
   "outputs": [
    {
     "data": {
      "text/plain": [
       "7- Hello"
      ]
     },
     "execution_count": 59,
     "metadata": {},
     "output_type": "execute_result"
    }
   ],
   "source": [
    "ff { i:Int,s:String -> \"${i}- ${s}\" }"
   ]
  },
  {
   "cell_type": "code",
   "execution_count": 5,
   "id": "30af786c-dfd2-4f33-a8ff-7cb912374c2c",
   "metadata": {},
   "outputs": [],
   "source": [
    "object X {\n",
    " fun add(a:Int, b:Int): Int = a + b\n",
    "}\n",
    "\n",
    "val f : (Int,Int) -> Int = X::add"
   ]
  },
  {
   "cell_type": "code",
   "execution_count": 6,
   "id": "2dd6acef-daf0-453b-bf23-ca7846bd0eeb",
   "metadata": {},
   "outputs": [
    {
     "data": {
      "text/plain": [
       "4"
      ]
     },
     "execution_count": 6,
     "metadata": {},
     "output_type": "execute_result"
    }
   ],
   "source": [
    "X.add(2, 2)"
   ]
  },
  {
   "cell_type": "code",
   "execution_count": 7,
   "id": "ec92339b-34c0-481e-b791-dac1f142ec01",
   "metadata": {},
   "outputs": [
    {
     "data": {
      "text/plain": [
       "5"
      ]
     },
     "execution_count": 7,
     "metadata": {},
     "output_type": "execute_result"
    }
   ],
   "source": [
    "f(2, 3)"
   ]
  },
  {
   "cell_type": "markdown",
   "id": "784a5896-1f5f-4124-ab07-e1ca53a2c6e7",
   "metadata": {},
   "source": [
    "- odniesienie do funkcji z klas i obiektów przez `::`"
   ]
  },
  {
   "cell_type": "code",
   "execution_count": 26,
   "id": "ac7c5116-c51b-4b44-a2a6-b14509aa2c43",
   "metadata": {},
   "outputs": [
    {
     "data": {
      "text/plain": [
       "4"
      ]
     },
     "execution_count": 26,
     "metadata": {},
     "output_type": "execute_result"
    }
   ],
   "source": [
    "class X2 {\n",
    " fun add(a:Int, b:Int): Int = a + b\n",
    "}\n",
    "\n",
    "val f : X2.(Int,Int) -> Int = X2::add\n",
    "f(2, 2)"
   ]
  },
  {
   "cell_type": "markdown",
   "id": "cb226bae-ed9c-4b55-9173-34ee61f030bf",
   "metadata": {},
   "source": [
    "- odniesienie do metod instancji przez `::`"
   ]
  },
  {
   "cell_type": "code",
   "execution_count": 31,
   "id": "8f15718f-162a-4acd-b5c1-b3b80bca8b05",
   "metadata": {},
   "outputs": [
    {
     "data": {
      "text/plain": [
       "4"
      ]
     },
     "execution_count": 31,
     "metadata": {},
     "output_type": "execute_result"
    }
   ],
   "source": [
    "class X3 {\n",
    " fun add(a:Int, b:Int): Int = a + b\n",
    "}\n",
    "\n",
    "val x3 = X3()\n",
    "val f : (Int,Int) -> Int = x3::add\n",
    "f(2, 2)"
   ]
  },
  {
   "cell_type": "code",
   "execution_count": 32,
   "id": "a7e8066e-4679-48db-9474-41d72db2ab4b",
   "metadata": {},
   "outputs": [
    {
     "name": "stderr",
     "output_type": "stream",
     "text": [
      "Line_31.jupyter-kts (1:28 - 35) Type mismatch: inferred type is KFunction3<Line_30.X3, Int, Int, Int> but (Int, Int) -> Int was expected\n",
      "Line_31.jupyter-kts (1:32 - 35) Type mismatch: inferred type is (Int, Int) -> Int but KFunction3<Line_30.X3, Int, Int, Int> was expected"
     ]
    }
   ],
   "source": [
    "val f : (Int,Int) -> Int = X3::add"
   ]
  },
  {
   "cell_type": "code",
   "execution_count": 33,
   "id": "3e2f3dc2-15d8-4c49-b2e4-61b80f2f782f",
   "metadata": {},
   "outputs": [
    {
     "name": "stderr",
     "output_type": "stream",
     "text": [
      "Line_32.jupyter-kts (1:4 - 7) Unresolved reference: add"
     ]
    }
   ],
   "source": [
    "X3.add(2, 2)"
   ]
  },
  {
   "cell_type": "code",
   "execution_count": 34,
   "id": "107433da-0e97-4037-b6a9-cd14d5a29166",
   "metadata": {},
   "outputs": [
    {
     "data": {
      "text/plain": [
       "4"
      ]
     },
     "execution_count": 34,
     "metadata": {},
     "output_type": "execute_result"
    }
   ],
   "source": [
    "x3.add(2, 2)"
   ]
  },
  {
   "cell_type": "markdown",
   "id": "327215fe-2925-40ea-958e-5404c81c67e4",
   "metadata": {},
   "source": [
    "## Pętle"
   ]
  },
  {
   "cell_type": "markdown",
   "id": "735f2952-e7e1-4409-9a26-0fa5c0ef2d41",
   "metadata": {},
   "source": [
    "Pętle można zrealizować przez zastosowanie rekursji z funkcją pomocniczą. Typowo nazywa się `go` lub `loop`. Definicja `factorial` zawiera tylko wywołanie `go` z początkowymi warunkami pętli."
   ]
  },
  {
   "cell_type": "code",
   "execution_count": 6,
   "id": "2d497b05-32ca-4a58-9100-d387868260b1",
   "metadata": {},
   "outputs": [
    {
     "data": {
      "text/plain": [
       "362880"
      ]
     },
     "execution_count": 6,
     "metadata": {},
     "output_type": "execute_result"
    }
   ],
   "source": [
    "fun factorial(i: Int): Int {\n",
    "    fun go(n: Int, acc: Int): Int =\n",
    "        if (n <= 0) acc\n",
    "        else go(n - 1, n * acc)\n",
    "    return go(i, 1)\n",
    "}\n",
    "\n",
    "factorial(9)"
   ]
  },
  {
   "cell_type": "code",
   "execution_count": 9,
   "id": "51058eef-ebbe-46b9-910e-b1223e403970",
   "metadata": {},
   "outputs": [
    {
     "data": {
      "text/plain": [
       "362880"
      ]
     },
     "execution_count": 9,
     "metadata": {},
     "output_type": "execute_result"
    }
   ],
   "source": [
    "fun factorial2(i: Int): Int {\n",
    "    tailrec fun go(n: Int, acc: Int): Int =\n",
    "        if (n <= 0) acc\n",
    "        else go(n - 1, n * acc)\n",
    "    return go(i, 1)\n",
    "}\n",
    "\n",
    "factorial2(9)"
   ]
  },
  {
   "cell_type": "markdown",
   "id": "707fecd4-4e06-47b4-af2f-27c7218eaf12",
   "metadata": {},
   "source": [
    "Przyjmuje się, że wywołanie znajduje się na `tail`, jeśli wywołujący nie robi nic poza zwrotem wartości rekurencyjnego wywołania.<br>\n",
    "Przykładowo:<br>\n",
    "- `go(n-1, n*acc)` jest w pozycji `tail` ponieważ metoda zwraca wartość wywołania i nic z nim więcej nie robi\n",
    "- `1 + go(n-1, n*acc)` nie jest w pozycji `tail` ponieważ po zwróceniu `go` dalej wykonywana jest operacja dodawania<br>\n",
    "Jeżeli wszystkie wywołania rekursywne są w pozycji `tail` zastosowanie modyfikatora `tailrec` powoduje zastąpienie rekursji wywołaniami iteratywnymi przez kompilator. Dzięki temu unikamy `StackOverflowError`."
   ]
  },
  {
   "cell_type": "markdown",
   "id": "33a9f4de-4cbd-4bee-8f82-0c258143b643",
   "metadata": {},
   "source": [
    "## Funkcje wyższego rzędu"
   ]
  },
  {
   "cell_type": "code",
   "execution_count": 96,
   "id": "79829763-6bbf-42a2-8cf1-74fa8f3eaae3",
   "metadata": {},
   "outputs": [
    {
     "name": "stdout",
     "output_type": "stream",
     "text": [
      "The absolute value of -42 is 42\n",
      "The factorial of 7 is 5040\n"
     ]
    }
   ],
   "source": [
    "object Example {\n",
    "    private fun abs(n: Int): Int =\n",
    "        if (n < 0) -n\n",
    "        else n\n",
    "    \n",
    "    private fun factorial(i: Int): Int {\n",
    "        fun go(n: Int, acc: Int): Int =\n",
    "            if (n <= 0) acc\n",
    "            else go(n - 1, n * acc)\n",
    "        return go(i, 1)\n",
    "}\n",
    "    \n",
    "    fun formatAbs(x: Int): String {\n",
    "        val msg = \"The absolute value of %d is %d\"\n",
    "        return msg.format(x, abs(x))\n",
    "    }\n",
    "\n",
    "    fun formatFactorial(x: Int): String {\n",
    "        val msg = \"The factorial of %d is %d\"\n",
    "        return msg.format(x, factorial(x))\n",
    "    }\n",
    "}\n",
    "\n",
    "fun main() {\n",
    "    println(Example.formatAbs(-42))\n",
    "    println(Example.formatFactorial(7))\n",
    "}\n",
    "\n",
    "main()"
   ]
  },
  {
   "cell_type": "markdown",
   "id": "ce18b3e9-4ee8-4745-b58e-604d0e2a7ffc",
   "metadata": {},
   "source": [
    "wprowadzamy funkcję wyższego rzędu"
   ]
  },
  {
   "cell_type": "code",
   "execution_count": 11,
   "id": "b441d52b-c393-4aae-a2ed-ae1464b553dd",
   "metadata": {},
   "outputs": [],
   "source": [
    "fun formatResult(name: String, n: Int, f: (Int) -> Int): String {\n",
    "    val msg = \"The %s of %d is %d.\"\n",
    "    return msg.format(name, n, f(n))\n",
    "}"
   ]
  },
  {
   "cell_type": "code",
   "execution_count": 12,
   "id": "fa25a2a7-5dcc-41f5-829e-8909dfa0fd09",
   "metadata": {},
   "outputs": [
    {
     "name": "stdout",
     "output_type": "stream",
     "text": [
      "The factorial of 7 is 5040.\n",
      "The absolute value of -42 is 42.\n"
     ]
    }
   ],
   "source": [
    "fun main() {\n",
    "    println(formatResult(\"factorial\", 7, ::factorial))\n",
    "    println(formatResult(\"absolute value\", -42, ::abs))\n",
    "}\n",
    "main()"
   ]
  },
  {
   "cell_type": "code",
   "execution_count": 104,
   "id": "6442659f-5c2d-4c1b-b17b-99dda52245d1",
   "metadata": {},
   "outputs": [
    {
     "data": {
      "text/plain": [
       "The absolute of -42 is 42."
      ]
     },
     "execution_count": 104,
     "metadata": {},
     "output_type": "execute_result"
    }
   ],
   "source": [
    "formatResult(\n",
    "    \"absolute\", \n",
    "    -42,\n",
    "    fun(n: Int): Int { return if (n < 0) -n else n } // funkcja anonimowa\n",
    ")"
   ]
  },
  {
   "cell_type": "code",
   "execution_count": 105,
   "id": "9bf22940-56ed-472f-8509-969d74d862ea",
   "metadata": {},
   "outputs": [
    {
     "data": {
      "text/plain": [
       "The absolute of -42 is 42."
      ]
     },
     "execution_count": 105,
     "metadata": {},
     "output_type": "execute_result"
    }
   ],
   "source": [
    "formatResult(\n",
    "    \"absolute\", \n",
    "    -42, \n",
    "    { n -> if (n < 0) -n else n } // lambda anonimowa\n",
    ")"
   ]
  },
  {
   "cell_type": "code",
   "execution_count": 13,
   "id": "23a8f523-e93e-42ba-8fd3-c84ede4a3be4",
   "metadata": {},
   "outputs": [
    {
     "data": {
      "text/plain": [
       "The absolute of -42 is 42."
      ]
     },
     "execution_count": 13,
     "metadata": {},
     "output_type": "execute_result"
    }
   ],
   "source": [
    "formatResult(\"absolute\", -42) \n",
    "    { if (it < 0) -it else it }"
   ]
  },
  {
   "cell_type": "markdown",
   "id": "6f994e4d-9e2e-4a30-995c-ee39f9e60882",
   "metadata": {},
   "source": [
    "## Funkcje Monomorficzne i Polimorficzne"
   ]
  },
  {
   "cell_type": "markdown",
   "id": "65d83b35-1947-436e-b454-9424890d3f5d",
   "metadata": {},
   "source": [
    "Funkcja `factorial` jest funkcją monomorficzną, przyjmuje tylko jeden typ argumentu."
   ]
  },
  {
   "cell_type": "markdown",
   "id": "00603a1c-af65-4ce4-89bb-74968446cf4b",
   "metadata": {},
   "source": [
    "Poniżej funkcja **monomorficzna** `findFirst` zwracająca indeks pierwszego wystąpienia elementu w tabeli `String`."
   ]
  },
  {
   "cell_type": "code",
   "execution_count": 39,
   "id": "47ab4fdc-a2f1-45ea-b232-57beb3a4fcf2",
   "metadata": {},
   "outputs": [
    {
     "data": {
      "text/plain": [
       "1"
      ]
     },
     "execution_count": 39,
     "metadata": {},
     "output_type": "execute_result"
    }
   ],
   "source": [
    "fun findFirstMonomorphic(ss: Array<String>, key: String): Int {\n",
    "    tailrec fun loop(n: Int): Int =\n",
    "        when {\n",
    "            n >= ss.size -> -1\n",
    "            ss[n] == key -> n\n",
    "            else -> loop(n + 1)\n",
    "        }\n",
    "    return loop(0)\n",
    "}\n",
    "\n",
    "val a = arrayOf(\"Rafał\", \"Robert\", \"Robert\")\n",
    "val s = \"Robert\"\n",
    "findFirstMonomorphic(a, s)"
   ]
  },
  {
   "cell_type": "code",
   "execution_count": 40,
   "id": "16d2a8e8-71d9-43aa-b52c-de07963b616b",
   "metadata": {},
   "outputs": [
    {
     "name": "stderr",
     "output_type": "stream",
     "text": [
      "Line_39.jupyter-kts (3:22 - 23) Type mismatch: inferred type is Array<Int> but Array<String> was expected\n",
      "Line_39.jupyter-kts (3:25 - 26) Type mismatch: inferred type is Int but String was expected"
     ]
    }
   ],
   "source": [
    "val a = arrayOf(1, 2, 3, 4)\n",
    "val s = 2\n",
    "findFirstMonomorphic(a, s)"
   ]
  },
  {
   "cell_type": "markdown",
   "id": "afa43104-7745-4ee3-834c-800c141e82d9",
   "metadata": {},
   "source": [
    "Taką funkcję możemy zmienić na funkcję **polimorficzną** pracującą na argumencie typowalnym."
   ]
  },
  {
   "cell_type": "code",
   "execution_count": 10,
   "id": "66bb9c2c-c8b3-4ad9-a2cc-70aa8106b725",
   "metadata": {},
   "outputs": [
    {
     "data": {
      "text/plain": [
       "3"
      ]
     },
     "execution_count": 10,
     "metadata": {},
     "output_type": "execute_result"
    }
   ],
   "source": [
    "fun <A> findFirstPolimorphic(xs: Array<A>, p: (A) -> Boolean): Int \n",
    "{\n",
    "    tailrec fun loop(n: Int): Int =\n",
    "        when {\n",
    "            n >= xs.size -> -1\n",
    "            p(xs[n]) -> n\n",
    "            else -> loop(n + 1)\n",
    "    }\n",
    "        \n",
    "    return loop(0)\n",
    "}\n",
    "\n",
    "val a = arrayOf(\"Rafał\", \"Robert\", \"Robert\", \"Paweł\")\n",
    "findFirstPolimorphic(a) { it == \"Paweł\"}"
   ]
  },
  {
   "cell_type": "code",
   "execution_count": 15,
   "id": "0fd183e4-8766-4262-a090-c4ed5f04148f",
   "metadata": {},
   "outputs": [
    {
     "data": {
      "text/plain": [
       "3"
      ]
     },
     "execution_count": 15,
     "metadata": {},
     "output_type": "execute_result"
    }
   ],
   "source": [
    "findFirstPolimorphic(arrayOf(1, 2, 3, 4)){it == 4}"
   ]
  },
  {
   "cell_type": "markdown",
   "id": "ed01b704-25ae-48d4-b4a5-3668e70098de",
   "metadata": {},
   "source": [
    "Funkcja **polimorficzna** jest funkcją **generyczną**."
   ]
  }
 ],
 "metadata": {
  "kernelspec": {
   "display_name": "Kotlin",
   "language": "kotlin",
   "name": "kotlin"
  },
  "language_info": {
   "codemirror_mode": "text/x-kotlin",
   "file_extension": ".kt",
   "mimetype": "text/x-kotlin",
   "name": "kotlin",
   "nbconvert_exporter": "",
   "pygments_lexer": "kotlin",
   "version": "1.6.20-dev-6372"
  }
 },
 "nbformat": 4,
 "nbformat_minor": 5
}
