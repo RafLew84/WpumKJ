{
 "cells": [
  {
   "cell_type": "markdown",
   "id": "a6478f56-66ee-45b9-8a31-8cb40e8a6f97",
   "metadata": {},
   "source": [
    "# Lab 6 - Klasy - współdzielenie"
   ]
  },
  {
   "cell_type": "code",
   "execution_count": 19,
   "id": "02c53ebd-34fe-424b-9fe1-2c4599a9ea7c",
   "metadata": {},
   "outputs": [],
   "source": [
    "public class Counter {\n",
    "\n",
    "    public static int staticCounter = 0;\n",
    "    private int counter = 0;\n",
    "\n",
    "    public static int getStaticCounter() {\n",
    "        return staticCounter;\n",
    "    }\n",
    "\n",
    "    public int getCounter() {\n",
    "        return counter;\n",
    "    }\n",
    "\n",
    "    public Counter()\n",
    "    {\n",
    "        staticCounter++;\n",
    "        counter++;\n",
    "    }\n",
    "\n",
    "    public void increaseCounter(){\n",
    "        this.counter++;\n",
    "    }\n",
    "\n",
    "    public void increaseStaticCounter(){\n",
    "        staticCounter++;\n",
    "    }\n",
    "}"
   ]
  },
  {
   "cell_type": "code",
   "execution_count": 20,
   "id": "14a3ec2b-ce8c-4c67-865f-ebe0d2a15f79",
   "metadata": {},
   "outputs": [
    {
     "name": "stdout",
     "output_type": "stream",
     "text": [
      "static counter: 8\n",
      "static counter: 9\n",
      "static counter: 10\n"
     ]
    }
   ],
   "source": [
    "System.out.println(\"static counter: \" + Counter.staticCounter);\n",
    "\n",
    "Counter counter1 = new Counter();\n",
    "System.out.println(\"static counter: \" + Counter.staticCounter);\n",
    "\n",
    "Counter counter2 = new Counter();\n",
    "System.out.println(\"static counter: \" + Counter.staticCounter);"
   ]
  },
  {
   "cell_type": "code",
   "execution_count": 21,
   "id": "03de4938-3056-41fc-9d48-d224c7be2ec6",
   "metadata": {},
   "outputs": [
    {
     "name": "stdout",
     "output_type": "stream",
     "text": [
      "counter 1: 1\n",
      "counter 2: 1\n"
     ]
    }
   ],
   "source": [
    "System.out.println(\"counter 1: \" + counter1.getCounter());\n",
    "System.out.println(\"counter 2: \" + counter2.getCounter());"
   ]
  },
  {
   "cell_type": "code",
   "execution_count": 22,
   "id": "ecbcc06b-b316-427a-8b36-60c54eeb3fdf",
   "metadata": {},
   "outputs": [
    {
     "name": "stdout",
     "output_type": "stream",
     "text": [
      "static counter: 10\n",
      "static counter: 10\n"
     ]
    }
   ],
   "source": [
    "System.out.println(\"static counter: \" + counter1.getStaticCounter());\n",
    "System.out.println(\"static counter: \" + counter2.getStaticCounter());"
   ]
  },
  {
   "cell_type": "code",
   "execution_count": 23,
   "id": "e6406ab3-98d2-47eb-a386-99a7af5d1b38",
   "metadata": {},
   "outputs": [],
   "source": [
    "counter1.increaseCounter();\n",
    "counter1.increaseStaticCounter();"
   ]
  },
  {
   "cell_type": "code",
   "execution_count": 24,
   "id": "787883ab-11cf-4d4f-9b7d-eec0609815b1",
   "metadata": {},
   "outputs": [
    {
     "name": "stdout",
     "output_type": "stream",
     "text": [
      "counter 1: 2\n",
      "static counter: 11\n",
      "counter 2: 1\n",
      "static counter: 11\n"
     ]
    }
   ],
   "source": [
    "System.out.println(\"counter 1: \" + counter1.getCounter());\n",
    "System.out.println(\"static counter: \" + counter1.getStaticCounter());\n",
    "System.out.println(\"counter 2: \" + counter2.getCounter());\n",
    "System.out.println(\"static counter: \" + counter2.getStaticCounter());"
   ]
  },
  {
   "cell_type": "code",
   "execution_count": 25,
   "id": "3ce1ff5d-5b28-4e67-a529-d12d53ce6044",
   "metadata": {},
   "outputs": [
    {
     "name": "stdout",
     "output_type": "stream",
     "text": [
      "static counter: 11\n"
     ]
    }
   ],
   "source": [
    "System.out.println(\"static counter: \" + Counter.getStaticCounter());"
   ]
  },
  {
   "cell_type": "code",
   "execution_count": 26,
   "id": "ee694612-84c1-488f-8b10-137bda73f1c9",
   "metadata": {},
   "outputs": [
    {
     "name": "stdout",
     "output_type": "stream",
     "text": [
      "static counter: 11\n"
     ]
    }
   ],
   "source": [
    "System.out.println(\"static counter: \" + Counter.staticCounter);"
   ]
  },
  {
   "cell_type": "code",
   "execution_count": 1,
   "id": "df50a214-57af-4586-9464-ac03afc6e8b6",
   "metadata": {},
   "outputs": [],
   "source": [
    "class Counter(var counter: Int = 0){\n",
    "    \n",
    "    fun increaseCounter(){\n",
    "        counter++\n",
    "    }\n",
    "    \n",
    "    companion object{\n",
    "        var companionCounter = 0\n",
    "        fun increaseCompanionCounter(){\n",
    "            companionCounter++\n",
    "        }\n",
    "    }\n",
    "}"
   ]
  },
  {
   "cell_type": "code",
   "execution_count": 2,
   "id": "ddad53e7-dc5e-4162-a4fe-239b6ff023e9",
   "metadata": {},
   "outputs": [],
   "source": [
    "val counter1 = Counter()\n",
    "val counter2 = Counter()"
   ]
  },
  {
   "cell_type": "code",
   "execution_count": 4,
   "id": "f1f9cf3e-d53e-4c35-87e4-bec0859fbf08",
   "metadata": {},
   "outputs": [],
   "source": [
    "counter1.increaseCounter()\n",
    "//counter1.increaseCompanionCounter()\n",
    "\n",
    "counter2.increaseCounter()\n",
    "//counter2.increaseCompanionCounter()"
   ]
  },
  {
   "cell_type": "code",
   "execution_count": 8,
   "id": "fdc1b678-6cca-4621-a747-71e7c59a5036",
   "metadata": {},
   "outputs": [
    {
     "name": "stdout",
     "output_type": "stream",
     "text": [
      "Counter 1 instance counter: 2\n",
      "Counter 2 instance counter: 2\n"
     ]
    }
   ],
   "source": [
    "println(\"Counter 1 instance counter: \" + counter1.counter)\n",
    "println(\"Counter 2 instance counter: \" + counter2.counter)\n",
    "//println(counter1.companionCounter)"
   ]
  },
  {
   "cell_type": "code",
   "execution_count": 9,
   "id": "213b68b3-e5aa-41e7-acec-b9f15a6a5d24",
   "metadata": {},
   "outputs": [
    {
     "name": "stdout",
     "output_type": "stream",
     "text": [
      "Companion counter: 2\n"
     ]
    }
   ],
   "source": [
    "Counter.increaseCompanionCounter()\n",
    "println(\"Companion counter: \" + Counter.companionCounter)"
   ]
  },
  {
   "cell_type": "code",
   "execution_count": null,
   "id": "832d6faf-ff3f-4480-a672-824e61581130",
   "metadata": {},
   "outputs": [],
   "source": []
  }
 ],
 "metadata": {
  "kernelspec": {
   "display_name": "Kotlin",
   "language": "kotlin",
   "name": "kotlin"
  },
  "language_info": {
   "codemirror_mode": "text/x-kotlin",
   "file_extension": ".kt",
   "mimetype": "text/x-kotlin",
   "name": "kotlin",
   "nbconvert_exporter": "",
   "pygments_lexer": "kotlin",
   "version": "1.6.20-dev-6372"
  }
 },
 "nbformat": 4,
 "nbformat_minor": 5
}
