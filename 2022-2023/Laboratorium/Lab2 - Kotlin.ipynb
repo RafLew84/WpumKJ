{
 "cells": [
  {
   "cell_type": "markdown",
   "id": "f3c52152-2049-44b6-9349-81b4ffbd590e",
   "metadata": {},
   "source": [
    "# 2. Kotlin - Kolekcje"
   ]
  },
  {
   "cell_type": "markdown",
   "id": "f109ef05-bf50-401c-9c55-b1cf26fd3740",
   "metadata": {},
   "source": [
    "``val`` jest niemutowalny, jednak obiekt na który ona wskazuje może być mutowalny, przykładowo"
   ]
  },
  {
   "cell_type": "code",
   "execution_count": 5,
   "id": "7d1d015a-2ced-4d24-8e23-c0726d389794",
   "metadata": {},
   "outputs": [
    {
     "name": "stdout",
     "output_type": "stream",
     "text": [
      "[WpumKJ, Programming]\n"
     ]
    }
   ],
   "source": [
    "val lectures = arrayListOf(\"PUM\")\n",
    "lectures.add(\"Programming\")\n",
    "lectures[0] = \"WpumKJ\"\n",
    "println(lectures)"
   ]
  },
  {
   "cell_type": "code",
   "execution_count": 6,
   "id": "1d13cb7d-caf6-45f6-91c5-d7968698ae6c",
   "metadata": {},
   "outputs": [
    {
     "name": "stdout",
     "output_type": "stream",
     "text": [
      "[lista]\n"
     ]
    }
   ],
   "source": [
    "val second = arrayListOf(\"lista\")\n",
    "println(second)\n",
    "\n",
    "// second = first"
   ]
  },
  {
   "cell_type": "code",
   "execution_count": 7,
   "id": "ca10f0fb-ddde-44d8-b840-8c0ad8bb7697",
   "metadata": {},
   "outputs": [
    {
     "name": "stdout",
     "output_type": "stream",
     "text": [
      "[trzeci]\n",
      "[WpumKJ, Programming]\n"
     ]
    }
   ],
   "source": [
    "var third = arrayListOf(\"trzeci\")\n",
    "println(third)\n",
    "third = lectures\n",
    "println(third)"
   ]
  },
  {
   "cell_type": "markdown",
   "id": "ef861f1f-47d7-4e9e-ba81-ce8d8c38033f",
   "metadata": {},
   "source": [
    "W powyższym przykładzie stała ``lectures`` jest niemutowalna, jednak obiekt na który wskazuje jest mutowalny, więc możemy wykonać operację dodania elementu."
   ]
  },
  {
   "cell_type": "markdown",
   "id": "e9ab1b14-58c3-489c-8f77-e98e4da9c387",
   "metadata": {},
   "source": [
    "## Kolekcje - Kotlin"
   ]
  },
  {
   "cell_type": "markdown",
   "id": "9ebf0e18-ca9c-4a2b-9dc1-664587e627d9",
   "metadata": {},
   "source": [
    "![alt text for screen readers](https://csharpcorner-mindcrackerinc.netdna-ssl.com/article/using-collection-in-kotlin/Images/image001.png \"Kolekcje Kotlin\") "
   ]
  },
  {
   "cell_type": "code",
   "execution_count": 8,
   "id": "14a0e0d0-1da8-4edd-9d9f-9db9b527b4f2",
   "metadata": {},
   "outputs": [
    {
     "name": "stdout",
     "output_type": "stream",
     "text": [
      "[2, 3, 5, 6, 7]\n",
      "ArrayList\n"
     ]
    }
   ],
   "source": [
    "val list = listOf(2, 3, 5, 6, 7)\n",
    "println(list)\n",
    "println(list::class.simpleName)"
   ]
  },
  {
   "cell_type": "code",
   "execution_count": 9,
   "id": "b441557b-f836-4c2a-bfc8-27fbeeb6cbf8",
   "metadata": {},
   "outputs": [
    {
     "name": "stdout",
     "output_type": "stream",
     "text": [
      "2\n",
      "Array\n"
     ]
    }
   ],
   "source": [
    "val list = arrayOf(2, 3, 5, 6, 7)\n",
    "println(list[0])\n",
    "println(list::class.simpleName)"
   ]
  },
  {
   "cell_type": "code",
   "execution_count": 14,
   "id": "e960aa30-1982-4cc4-a8de-0eee583f0462",
   "metadata": {},
   "outputs": [
    {
     "name": "stdout",
     "output_type": "stream",
     "text": [
      "5\n",
      "ArrayList\n"
     ]
    }
   ],
   "source": [
    "val list = listOf(2, 3, 5, 6, 7)\n",
    "println(list[2])\n",
    "println(list::class.simpleName)"
   ]
  },
  {
   "cell_type": "code",
   "execution_count": 12,
   "id": "3b9306b3-dc93-4d3c-a35f-c194fcb5d962",
   "metadata": {},
   "outputs": [
    {
     "name": "stderr",
     "output_type": "stream",
     "text": [
      "Line_11.jupyter-kts (1:1 - 8) Unresolved reference. None of the following candidates is applicable because of receiver type mismatch: \n",
      "public inline operator fun kotlin.text.StringBuilder /* = java.lang.StringBuilder */.set(index: Int, value: Char): Unit defined in kotlin.text\n",
      "Line_11.jupyter-kts (1:5 - 8) No set method providing array access"
     ]
    }
   ],
   "source": [
    "list[2] = 100"
   ]
  },
  {
   "cell_type": "code",
   "execution_count": 13,
   "id": "b58e2b24-879f-4b7b-8eed-ba55fb1a7988",
   "metadata": {},
   "outputs": [
    {
     "name": "stdout",
     "output_type": "stream",
     "text": [
      "100\n",
      "ArrayList\n"
     ]
    }
   ],
   "source": [
    "val list = mutableListOf(2, 3, 5, 6, 7)\n",
    "list[2] = 100\n",
    "println(list[2])\n",
    "println(list::class.simpleName)"
   ]
  },
  {
   "cell_type": "markdown",
   "id": "fd8d2440-7ffa-4d9b-aabf-4f352e1ab7fc",
   "metadata": {},
   "source": [
    "## Tablice"
   ]
  },
  {
   "cell_type": "code",
   "execution_count": 25,
   "id": "e40b814f-79a6-4a85-8ef2-7bb24f0fbbc2",
   "metadata": {},
   "outputs": [
    {
     "name": "stdout",
     "output_type": "stream",
     "text": [
      "[5, 2, 100]\n",
      "Array\n"
     ]
    }
   ],
   "source": [
    "val x = arrayOf(1, 2, 3) // Array domyślnie mutowalny\n",
    "x[0] = x[1] + x[2]\n",
    "x[2] = 100\n",
    "println(x.contentDeepToString())\n",
    "println(x::class.simpleName)"
   ]
  },
  {
   "cell_type": "code",
   "execution_count": 29,
   "id": "cc0285f8-7e03-471d-9dfa-40352cee17a7",
   "metadata": {},
   "outputs": [
    {
     "name": "stdout",
     "output_type": "stream",
     "text": [
      "0.0 0.0 0.0 0.0 0.0 \n",
      "Array\n"
     ]
    }
   ],
   "source": [
    "val arr = IntArray(5)\n",
    "for(i: Int in arr)\n",
    "    print(\"$i \")\n",
    "println()\n",
    "println(x::class.simpleName)"
   ]
  },
  {
   "cell_type": "code",
   "execution_count": 33,
   "id": "b31e1cdf-1f1b-482f-9f79-44bc6d3f0819",
   "metadata": {},
   "outputs": [
    {
     "name": "stdout",
     "output_type": "stream",
     "text": [
      "42 42 42 42 42 \n",
      "Array\n"
     ]
    }
   ],
   "source": [
    "val arr: Array<Int> = Array(5){42}\n",
    "for(i: Int in arr)\n",
    "    print(\"$i \")\n",
    "println()\n",
    "println(x::class.simpleName)"
   ]
  },
  {
   "cell_type": "code",
   "execution_count": 35,
   "id": "1f029874-4b1d-42e1-b6da-0751128692f8",
   "metadata": {},
   "outputs": [
    {
     "name": "stdout",
     "output_type": "stream",
     "text": [
      "42 42 42 42 42 \n",
      "Array\n"
     ]
    }
   ],
   "source": [
    "val arr = IntArray(5) { 42 }\n",
    "for(i: Int in arr)\n",
    "    print(\"$i \")\n",
    "println()\n",
    "println(x::class.simpleName)"
   ]
  },
  {
   "cell_type": "code",
   "execution_count": 39,
   "id": "59d74dff-8e9f-4d55-974d-a1bc1fbd4a55",
   "metadata": {},
   "outputs": [
    {
     "name": "stdout",
     "output_type": "stream",
     "text": [
      "0 1 2 3 4 \n"
     ]
    }
   ],
   "source": [
    "val arr = IntArray(5) { it * 1 }\n",
    "for(i: Int in arr)\n",
    "    print(\"$i \")\n",
    "println()"
   ]
  },
  {
   "cell_type": "code",
   "execution_count": 40,
   "id": "522dffd7-6fae-4e65-a1de-cc9a5ae9ba1b",
   "metadata": {},
   "outputs": [
    {
     "name": "stdout",
     "output_type": "stream",
     "text": [
      "[[3, 7, 9], [0, 1, 0, 4], [2, 4, 8, 0, 9]]\n"
     ]
    }
   ],
   "source": [
    "val matrix = arrayOf(\n",
    "    intArrayOf(3, 7, 9),\n",
    "    intArrayOf(0, 1, 0, 4),\n",
    "    intArrayOf(2, 4, 8, 0, 9)\n",
    ")\n",
    "\n",
    "println(matrix.contentDeepToString())"
   ]
  },
  {
   "cell_type": "code",
   "execution_count": 43,
   "id": "f9c888a1-756c-43d8-a2cb-e4989ec80a72",
   "metadata": {},
   "outputs": [
    {
     "name": "stdout",
     "output_type": "stream",
     "text": [
      "3 7 9 \n",
      "0 1 0 4 \n",
      "2 4 8 0 9 \n"
     ]
    }
   ],
   "source": [
    "for(mtx in matrix){\n",
    "    for(item in mtx)\n",
    "        print(\"$item \")\n",
    "    println()\n",
    "}\n",
    "    "
   ]
  },
  {
   "cell_type": "markdown",
   "id": "e886e298-038f-4b07-b053-b55ed0291693",
   "metadata": {},
   "source": [
    "## `List`"
   ]
  },
  {
   "cell_type": "code",
   "execution_count": 44,
   "id": "426a4742-833f-4a51-b77c-e32b9f0ebb21",
   "metadata": {},
   "outputs": [
    {
     "name": "stdout",
     "output_type": "stream",
     "text": [
      "5\n",
      "ArrayList\n"
     ]
    }
   ],
   "source": [
    "val list = listOf(2, 3, 5, 6, 7)\n",
    "println(list[2])\n",
    "println(list::class.simpleName)"
   ]
  },
  {
   "cell_type": "code",
   "execution_count": 49,
   "id": "d239b792-20cf-4979-870d-8ed5105ed313",
   "metadata": {},
   "outputs": [
    {
     "name": "stdout",
     "output_type": "stream",
     "text": [
      "[0, 0]\n"
     ]
    }
   ],
   "source": [
    "val lst: List<Int> = List(2) {0}\n",
    "println(lst)"
   ]
  },
  {
   "cell_type": "code",
   "execution_count": 50,
   "id": "c062ff08-e1f3-4405-a193-1de55ff9d0b6",
   "metadata": {},
   "outputs": [
    {
     "name": "stderr",
     "output_type": "stream",
     "text": [
      "Line_49.jupyter-kts (1:5 - 8) Unresolved reference: add\n",
      "Line_49.jupyter-kts (2:5 - 8) Unresolved reference: add\n",
      "Line_49.jupyter-kts (3:5 - 8) Unresolved reference: add\n",
      "Line_49.jupyter-kts (4:5 - 8) Unresolved reference: add"
     ]
    }
   ],
   "source": [
    "lst.add(23) // lst jest niemutowalna, więc nie mogę dodać elementów\n",
    "\n",
    "println(lst)"
   ]
  },
  {
   "cell_type": "code",
   "execution_count": 53,
   "id": "3d0c4e5f-63b8-4b9d-9672-1f21ad3e1108",
   "metadata": {},
   "outputs": [
    {
     "name": "stdout",
     "output_type": "stream",
     "text": [
      "[0, 0]\n"
     ]
    }
   ],
   "source": [
    "val mlst: MutableList<Int> = MutableList(2) {0}\n",
    "println(mlst)"
   ]
  },
  {
   "cell_type": "code",
   "execution_count": 54,
   "id": "13a3cb37-3b2c-497b-87eb-4a8bc909c2fb",
   "metadata": {},
   "outputs": [
    {
     "name": "stdout",
     "output_type": "stream",
     "text": [
      "[0, 0, 23]\n"
     ]
    }
   ],
   "source": [
    "mlst.add(23) // mlst jest mutowalna, więc mogę dodać elementy\n",
    "\n",
    "println(mlst)"
   ]
  },
  {
   "cell_type": "code",
   "execution_count": 55,
   "id": "a9dd618c-85f2-4c15-a3e4-372deb85fba5",
   "metadata": {},
   "outputs": [
    {
     "name": "stdout",
     "output_type": "stream",
     "text": [
      "[0, 0, 88]\n"
     ]
    }
   ],
   "source": [
    "mlst.set(2, 88)\n",
    "\n",
    "println(mlst)"
   ]
  },
  {
   "cell_type": "code",
   "execution_count": 56,
   "id": "acdd2f49-a8c0-401b-9436-082d3c833268",
   "metadata": {},
   "outputs": [
    {
     "name": "stdout",
     "output_type": "stream",
     "text": [
      "[0, 0, 11]\n"
     ]
    }
   ],
   "source": [
    "mlst[2] = 11 // dostęp jak do tablicy\n",
    "\n",
    "println(mlst)"
   ]
  },
  {
   "cell_type": "code",
   "execution_count": 60,
   "id": "2c53bc6e-ab66-478a-b30a-dfcbfe73419c",
   "metadata": {},
   "outputs": [
    {
     "name": "stdout",
     "output_type": "stream",
     "text": [
      "[a, s, b, n]\n",
      "LinkedList\n"
     ]
    }
   ],
   "source": [
    "import java.util.LinkedList // w kotlinie nie ma listy linkowanej\n",
    "\n",
    "val llst: LinkedList<String> = LinkedList<String>() // domyślnie mutowalna\n",
    "\n",
    "llst.add(\"a\")\n",
    "llst.add(\"s\")\n",
    "llst.add(\"b\")\n",
    "llst.add(\"n\")\n",
    "\n",
    "println(llst)\n",
    "println(llst::class.simpleName)"
   ]
  },
  {
   "cell_type": "markdown",
   "id": "e4b0c4dc-2141-4362-aa18-f4f55c729659",
   "metadata": {},
   "source": [
    "## `Set`"
   ]
  },
  {
   "cell_type": "markdown",
   "id": "510380de-eff5-4b02-b5d7-73b7fe71e662",
   "metadata": {},
   "source": [
    "Jest to kolekcja unikalnych elementów - nie zawiera duplikatów"
   ]
  },
  {
   "cell_type": "code",
   "execution_count": 61,
   "id": "c96bb8ca-7ca0-4816-a21c-2b1fd43eb8a0",
   "metadata": {},
   "outputs": [
    {
     "name": "stdout",
     "output_type": "stream",
     "text": [
      "[5, 3, 2]\n",
      "LinkedHashSet\n"
     ]
    }
   ],
   "source": [
    "val numbers = setOf(5, 5, 5, 5, 5, 3, 2)\n",
    "println(numbers)\n",
    "println(numbers::class.simpleName) // domyślnie zachowuje kolejność wejścia"
   ]
  },
  {
   "cell_type": "code",
   "execution_count": 62,
   "id": "f3c80679-38c3-4bc2-b265-9415af02b3d7",
   "metadata": {},
   "outputs": [
    {
     "name": "stdout",
     "output_type": "stream",
     "text": [
      "[5, 3, 2]\n"
     ]
    }
   ],
   "source": [
    "println(numbers)"
   ]
  },
  {
   "cell_type": "code",
   "execution_count": 63,
   "id": "d3c29962-e429-4730-a410-56d665bd0957",
   "metadata": {},
   "outputs": [
    {
     "name": "stderr",
     "output_type": "stream",
     "text": [
      "Line_62.jupyter-kts (1:9 - 12) Unresolved reference: add"
     ]
    }
   ],
   "source": [
    "numbers.add(6)"
   ]
  },
  {
   "cell_type": "code",
   "execution_count": 68,
   "id": "d54058fa-6c64-495c-8bd8-eecd5eaaf5f2",
   "metadata": {},
   "outputs": [
    {
     "name": "stdout",
     "output_type": "stream",
     "text": [
      "true\n",
      "[5, 3, 2, 7]\n"
     ]
    }
   ],
   "source": [
    "val num = mutableSetOf(5, 5, 5, 5, 5, 3, 2)\n",
    "println(num.add(7))\n",
    "println(num)"
   ]
  },
  {
   "cell_type": "code",
   "execution_count": 69,
   "id": "3d5ae787-4dee-4fa7-819d-ee3c9b260487",
   "metadata": {},
   "outputs": [
    {
     "name": "stdout",
     "output_type": "stream",
     "text": [
      "false\n"
     ]
    }
   ],
   "source": [
    "println(num.add(7))"
   ]
  },
  {
   "cell_type": "code",
   "execution_count": 70,
   "id": "d931a7cc-3427-4059-bf6d-2fe292e811b1",
   "metadata": {},
   "outputs": [
    {
     "name": "stdout",
     "output_type": "stream",
     "text": [
      "true\n",
      "false\n"
     ]
    }
   ],
   "source": [
    "val seta = setOf(1, 2, 3, 3, 3)\n",
    "val setb = setOf(3, 2, 1, 3)\n",
    "val lista = listOf(1, 2, 3)\n",
    "val listb = listOf(3, 2, 1)\n",
    "\n",
    "println(seta == setb)\n",
    "println(lista == listb)"
   ]
  },
  {
   "cell_type": "markdown",
   "id": "84bae557-b153-4765-b000-33f0146ecdbe",
   "metadata": {},
   "source": [
    "## `Mapy`"
   ]
  },
  {
   "cell_type": "code",
   "execution_count": 71,
   "id": "8376d270-6582-4365-b79a-fbbbf6c20b83",
   "metadata": {},
   "outputs": [
    {
     "name": "stdout",
     "output_type": "stream",
     "text": [
      "lecturer\n"
     ]
    }
   ],
   "source": [
    "val person = mapOf(\n",
    "      1 to \"Rafał\",\n",
    "      \"role\" to \"lecturer\",\n",
    "      \"index\" to 210472)\n",
    "\n",
    "println(person[\"role\"])"
   ]
  },
  {
   "cell_type": "code",
   "execution_count": 72,
   "id": "a1e0220e-d73f-4946-9eaf-491acb941cbd",
   "metadata": {},
   "outputs": [
    {
     "name": "stdout",
     "output_type": "stream",
     "text": [
      "LinkedHashMap\n"
     ]
    }
   ],
   "source": [
    "println(person::class.simpleName)"
   ]
  },
  {
   "cell_type": "code",
   "execution_count": 77,
   "id": "226dc04d-5e19-4ff1-bb1a-966529d017d9",
   "metadata": {},
   "outputs": [
    {
     "name": "stderr",
     "output_type": "stream",
     "text": [
      "Line_76.jupyter-kts (1:8 - 11) Unresolved reference: put"
     ]
    }
   ],
   "source": [
    "person.put(2, \"Pawel\")"
   ]
  },
  {
   "cell_type": "code",
   "execution_count": 76,
   "id": "12af0296-aacf-415d-bcaa-6a66698f32f6",
   "metadata": {},
   "outputs": [
    {
     "name": "stdout",
     "output_type": "stream",
     "text": [
      "{1=jeden, 2=dwa, 3=trzy, 4=cztery}\n"
     ]
    }
   ],
   "source": [
    "val p = mutableMapOf(\n",
    "      1 to \"jeden\",\n",
    "      2 to \"dwa\",\n",
    "      3 to \"trzy\")\n",
    "\n",
    "p.put(4, \"cztery\")\n",
    "\n",
    "println(p)"
   ]
  },
  {
   "cell_type": "code",
   "execution_count": 78,
   "id": "c7a02393-1efe-4c1d-ad79-740a71fb361b",
   "metadata": {},
   "outputs": [
    {
     "name": "stdout",
     "output_type": "stream",
     "text": [
      "{1=jeden, 2=dwa, 3=trzy, 4=cztery}\n",
      "jeden\n"
     ]
    }
   ],
   "source": [
    "val cyfra = p.get(1)\n",
    "\n",
    "println(p)\n",
    "println(cyfra)"
   ]
  },
  {
   "cell_type": "code",
   "execution_count": 79,
   "id": "289800be-0bd3-49fd-aa21-be8bc6f214c3",
   "metadata": {},
   "outputs": [
    {
     "name": "stdout",
     "output_type": "stream",
     "text": [
      "{1=jeden, 3=trzy, 4=cztery}\n"
     ]
    }
   ],
   "source": [
    "p.remove(2)\n",
    "println(p)"
   ]
  },
  {
   "cell_type": "markdown",
   "id": "5015251a-ccdc-4bdc-b06b-11a670becee9",
   "metadata": {},
   "source": [
    "# Lista 2"
   ]
  },
  {
   "cell_type": "markdown",
   "id": "6a48c07f-f2ce-4ce6-ac72-2ed1b5cd1b3a",
   "metadata": {},
   "source": [
    "## Zad 1 - **3 pkt**\n",
    "\n",
    "Napisz funkcję `missingNumber`, która jako argument przyjmuje tablicę/listę `N` liczb naturalnych. W tablicy wszystkie elementy są unikalne. Tablica ma długość `N`. W tablicy brakuje jednego elementu z zakresu. \n",
    "- funkcja `missingNumber` powinna zwrócić brakujący element\n",
    "- zaimplementuj weryfikację wejścia\n",
    "    - sprawdzenie czy wszystkie elementy są unikalne\n",
    "    - sprawdzenie czy lista/tablica nie zawiera liczb ujemnych\n",
    "    - spradzenie czy brakuje tylko jednego elementu"
   ]
  },
  {
   "cell_type": "markdown",
   "id": "3775ab0c-8c76-4616-ada3-b6624e86f1d2",
   "metadata": {},
   "source": [
    "```kotlin\n",
    "val tab: intArray = intArrayOf(0, 1, 2, 3) // N = 4\n",
    "println(missingNumber(tab))\n",
    "```\n",
    "```verbatim\n",
    ">> 4\n",
    "```"
   ]
  },
  {
   "cell_type": "markdown",
   "id": "243924df-1b27-4377-8516-88f8948d690a",
   "metadata": {},
   "source": [
    "```java\n",
    "int[] tab = new int[]{2, 4, 5, 3, 0, 6}; // N = 6\n",
    "System.out.println(missingNumber(tab));\n",
    "```\n",
    "```verbatim\n",
    ">> 1\n",
    "```"
   ]
  },
  {
   "cell_type": "markdown",
   "id": "3dd43ee0-6df1-4b8a-86a9-dca2a5319ac4",
   "metadata": {},
   "source": [
    "## Zad 2 - **4 pkt**\n",
    "\n",
    "Wykorzystując właściwości zbiorów (`Set`) napisz funkcję `findDuplicates` przyjmującą listę liczb całkowitych jako argument i zwracającą posortowaną rosnąco listę wszystkich duplikatów."
   ]
  },
  {
   "cell_type": "markdown",
   "id": "a3c022f6-92b6-48e5-ad6c-ad12f94610bf",
   "metadata": {},
   "source": [
    "```kotlin\n",
    "val tab: lst = listOf(0, 1, 1, 1, 4, 4, 4, 9, 3, 3, 3, 3, 3, 3)\n",
    "println(findDuplicates(lst))\n",
    "```\n",
    "```verbatim\n",
    ">> (1, 3, 4)\n",
    "```"
   ]
  },
  {
   "cell_type": "markdown",
   "id": "12b29939-c450-4422-9470-74fb20e7bb3e",
   "metadata": {},
   "source": [
    "```java\n",
    "List<Integer> lst = list.Of(0, 1, 1, 1, 4, 4, 4, 9, 3, 3, 3, 3, 3, 3) // Java 9\n",
    "System.out.println(findDuplicates(lst));\n",
    "```\n",
    "```verbatim\n",
    ">> (1, 3, 4)\n",
    "```"
   ]
  },
  {
   "cell_type": "markdown",
   "id": "7d288d13-1ec9-498d-9aa4-0ffa7979160a",
   "metadata": {},
   "source": [
    "## Zad 3 - **3 pkt**\n",
    "\n",
    "Napisz funkcję `addToBoolean` zwracającą mapę `Map<Integer, Boolean>` (Kotlin - `Map<Int, Boolean>`). Funkcja dodaje do mapy 20 elementów, kluczami są liczby 1-20. \n",
    "- Jeżeli klucz jest parzysty, wartość ustawiamy na `true`\n",
    "- Jeżeli klucz jest nieparzysty - wartość jest `false`."
   ]
  },
  {
   "cell_type": "markdown",
   "id": "275d82dc-b013-4eee-b55a-6ebcfd981c14",
   "metadata": {},
   "source": [
    "```kotlin\n",
    "println(addToBoolean())\n",
    "```\n",
    "```verbatim\n",
    ">> {1=false, 2=true, 3=false, 4=true ...}\n",
    "```"
   ]
  },
  {
   "cell_type": "markdown",
   "id": "0802cf73-ee17-4b8f-b3ad-5ef2bcf06e3c",
   "metadata": {},
   "source": [
    "```java\n",
    "System.out.println(addToBoolean())\n",
    "```\n",
    "```verbatim\n",
    ">> {1=false, 2=true, 3=false, 4=true ...}\n",
    "```"
   ]
  },
  {
   "cell_type": "markdown",
   "id": "98d46919-d56a-4c76-ad96-80ce0648fb09",
   "metadata": {},
   "source": [
    "### Oceny\n",
    "\n",
    "|**ocena**|**punkty**|\n",
    "|:---:|:---:|\n",
    "|3,0 | 6 pkt|\n",
    "|3,5 | 7 pkt|\n",
    "|4,0 | 8 pkt|\n",
    "|4,5 | 9 pkt|\n",
    "|5,0 | 10 pkt|"
   ]
  }
 ],
 "metadata": {
  "kernelspec": {
   "display_name": "Kotlin",
   "language": "kotlin",
   "name": "kotlin"
  },
  "language_info": {
   "codemirror_mode": "text/x-kotlin",
   "file_extension": ".kt",
   "mimetype": "text/x-kotlin",
   "name": "kotlin",
   "nbconvert_exporter": "",
   "pygments_lexer": "kotlin",
   "version": "1.6.20-dev-6372"
  }
 },
 "nbformat": 4,
 "nbformat_minor": 5
}
