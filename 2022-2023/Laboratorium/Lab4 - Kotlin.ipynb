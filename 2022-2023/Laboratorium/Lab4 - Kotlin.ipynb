{
 "cells": [
  {
   "cell_type": "markdown",
   "id": "3a8bdd00-d961-4be3-a1c1-f5e2de0b6881",
   "metadata": {},
   "source": [
    "# Lab 4 - Operacje na kolekcjach"
   ]
  },
  {
   "cell_type": "markdown",
   "id": "fc6da072-bd13-4d89-b604-26a1075c0113",
   "metadata": {
    "tags": []
   },
   "source": [
    "## Wyrażenia Lambda"
   ]
  },
  {
   "cell_type": "markdown",
   "id": "474da212-be29-466d-8beb-4cb30f3963de",
   "metadata": {},
   "source": [
    "Podstawowa składnia:\n",
    "`val lambdaName : Type = { argumentList -> codeBody }`"
   ]
  },
  {
   "cell_type": "code",
   "execution_count": 1,
   "id": "9e1e68d0-cd83-43cc-bb36-c30fc6837a9b",
   "metadata": {},
   "outputs": [
    {
     "name": "stdout",
     "output_type": "stream",
     "text": [
      "9\n",
      "9\n"
     ]
    }
   ],
   "source": [
    "val square = { number: Int -> number * number }\n",
    "val num = square(3)\n",
    "println(num)\n",
    "\n",
    "fun squareFun(number: Int) = number * number\n",
    "val num2 = squareFun(3)\n",
    "println(num2)"
   ]
  },
  {
   "cell_type": "code",
   "execution_count": 13,
   "id": "33533da0-8d43-43ee-84c8-bde62525e91f",
   "metadata": {},
   "outputs": [
    {
     "name": "stdout",
     "output_type": "stream",
     "text": [
      "200 cm\n",
      "String\n"
     ]
    }
   ],
   "source": [
    "val function = { input : Int ->\n",
    "    val m = input * 100\n",
    "    m.toString()\n",
    "}\n",
    "\n",
    "println(function(2) + \" cm\")\n",
    "println(function(2)::class.simpleName)"
   ]
  },
  {
   "cell_type": "code",
   "execution_count": 16,
   "id": "7eafe4b8-c9c3-4dda-810a-ba6c2014bf31",
   "metadata": {},
   "outputs": [
    {
     "name": "stdout",
     "output_type": "stream",
     "text": [
      "zaliczone\n",
      "String\n",
      "Boolean\n"
     ]
    }
   ],
   "source": [
    "val calculateGrade = { grade : Int ->\n",
    "    when(grade) {\n",
    "        in 0..5 -> \"niezaliczone\"\n",
    "        in 6..10 -> \"zaliczone\"\n",
    "        else -> false\n",
    "    }\n",
    "}\n",
    "\n",
    "println(calculateGrade(9))\n",
    "println(calculateGrade(9)::class.simpleName)\n",
    "println(calculateGrade(99)::class.simpleName)"
   ]
  },
  {
   "cell_type": "code",
   "execution_count": 67,
   "id": "2355843e-fec6-4e5c-a90a-a8258ffb8326",
   "metadata": {},
   "outputs": [
    {
     "name": "stdout",
     "output_type": "stream",
     "text": [
      "1\n",
      "2\n",
      "3\n"
     ]
    }
   ],
   "source": [
    "listOf(1, 2, 3).forEach(::println)"
   ]
  },
  {
   "cell_type": "code",
   "execution_count": 256,
   "id": "c1faf960-1dd3-4f2a-a32a-856ace443bf3",
   "metadata": {},
   "outputs": [
    {
     "name": "stdout",
     "output_type": "stream",
     "text": [
      "4\n"
     ]
    }
   ],
   "source": [
    "class MyClass{\n",
    "    fun square(i: Int): Int{return i * i}\n",
    "}\n",
    "val myClass = MyClass()\n",
    "println((myClass::square)(2))"
   ]
  },
  {
   "cell_type": "markdown",
   "id": "2e2ccb83-3657-43dc-97e7-8ade55b5d337",
   "metadata": {
    "tags": []
   },
   "source": [
    "## Metody transformacji\n",
    "\n",
    "### `foreach`, `removeIf`\n",
    "\n",
    "- `foreach` - `Type.forEach(action: (Type) -> Unit)` - wykonuje zdefiniowaną akcję na każdym elemencie, nie zwraca wartości\n",
    "- `removeIf` - usuwa wszystkie elementy spełniające warunek"
   ]
  },
  {
   "cell_type": "code",
   "execution_count": 20,
   "id": "6a7edd3d-1374-4c5d-9a3d-6ed505c72a74",
   "metadata": {},
   "outputs": [
    {
     "name": "stdout",
     "output_type": "stream",
     "text": [
      "4\n",
      "8\n",
      "12\n",
      "16\n",
      "20\n",
      "24\n",
      "4\n",
      "8\n",
      "12\n",
      "16\n",
      "20\n",
      "24\n"
     ]
    }
   ],
   "source": [
    "val array = arrayOf(1, 2, 3, 4, 5, 6)\n",
    "array.forEach { item -> println(item * 4) }\n",
    "array.forEach { println(it * 4) }\n",
    "//array.forEach { it -> println(it * 4) }"
   ]
  },
  {
   "cell_type": "code",
   "execution_count": 1,
   "id": "c312b9a7-d584-4212-89d4-1dc5dad0e907",
   "metadata": {},
   "outputs": [
    {
     "name": "stdout",
     "output_type": "stream",
     "text": [
      "4\n",
      "8\n",
      "12\n",
      "16\n",
      "20\n",
      "24\n"
     ]
    }
   ],
   "source": [
    "val array = arrayListOf(1, 2, 3, 4, 5, 6)\n",
    "array.forEach { println(it * 4) }"
   ]
  },
  {
   "cell_type": "code",
   "execution_count": 2,
   "id": "70b03ed3-d805-4211-b2da-6156317c334c",
   "metadata": {},
   "outputs": [
    {
     "name": "stdout",
     "output_type": "stream",
     "text": [
      "[1, 3, 5]\n"
     ]
    }
   ],
   "source": [
    "array.removeIf {(it % 2 == 0)}\n",
    "println(array)"
   ]
  },
  {
   "cell_type": "code",
   "execution_count": 5,
   "id": "cf01b666-a17e-421b-87ba-52f4aeea7016",
   "metadata": {},
   "outputs": [
    {
     "name": "stdout",
     "output_type": "stream",
     "text": [
      "100\n",
      "300\n",
      "500\n"
     ]
    }
   ],
   "source": [
    "array.forEach { \n",
    "    val a = it * 100\n",
    "    println(a) \n",
    "}"
   ]
  },
  {
   "cell_type": "markdown",
   "id": "ed18ede1-7713-4e74-890a-356410b23ac4",
   "metadata": {},
   "source": [
    "### `forEach`, `forEachIndexed`, `map`\n",
    "\n",
    "- `forEachIndexed` - `ByteArray.forEachIndexed(action: (index: Int, Byte) -> Unit)` - wykonuje zdefiniowaną akcję na każdym elemencie, zapewnia dostęp do indeksu (sekwencyjny)\n",
    "\n",
    "- `map` - wykonuje zdefiniowaną akcję na każdym elemencie, rezultat zwraca w liście"
   ]
  },
  {
   "cell_type": "code",
   "execution_count": 16,
   "id": "b37472f5-7220-42b8-8333-4645bd01c52c",
   "metadata": {},
   "outputs": [
    {
     "name": "stdout",
     "output_type": "stream",
     "text": [
      "names[0] = Rafał\n",
      "names[1] = Robert\n",
      "names[2] = Ania\n",
      "names[3] = Paweł\n",
      "names[4] = Roman\n",
      "names[5] = Radek\n",
      "names[6] = Renata\n"
     ]
    }
   ],
   "source": [
    "val names = listOf(\"Rafał\", \"Robert\", \"Ania\", \"Paweł\", \n",
    "                   \"Roman\", \"Radek\", \"Renata\")\n",
    "\n",
    "names.forEachIndexed({i, v -> println(\"names[$i] = $v\")})"
   ]
  },
  {
   "cell_type": "code",
   "execution_count": 19,
   "id": "9a9310b5-3c58-42e9-b0b5-6a86061a1b33",
   "metadata": {},
   "outputs": [
    {
     "name": "stdout",
     "output_type": "stream",
     "text": [
      "Rafał Robert Ania Paweł Roman Radek Renata "
     ]
    }
   ],
   "source": [
    "names.forEach {print(\"$it \")}"
   ]
  },
  {
   "cell_type": "code",
   "execution_count": 7,
   "id": "35b37b82-6dbf-41ff-92e9-025fce7169a0",
   "metadata": {},
   "outputs": [
    {
     "name": "stdout",
     "output_type": "stream",
     "text": [
      "[1, 4, 9]\n",
      "kotlin.Unit\n"
     ]
    }
   ],
   "source": [
    "val numbers = listOf(1, 2, 3)\n",
    "println(numbers.map { it * it })\n",
    "println(numbers.forEach { it * it })"
   ]
  },
  {
   "cell_type": "code",
   "execution_count": 8,
   "id": "37111dd9-2ff1-477e-bf32-ad5fc3e1685b",
   "metadata": {},
   "outputs": [
    {
     "name": "stdout",
     "output_type": "stream",
     "text": [
      "[1, 4, 9]\n",
      "kotlin.Unit\n",
      "[1, 2, 3]\n"
     ]
    }
   ],
   "source": [
    "val m = numbers.map { it * it }\n",
    "val f = numbers.forEach { it * it }\n",
    "println(m)\n",
    "println(f)\n",
    "println(numbers)"
   ]
  },
  {
   "cell_type": "markdown",
   "id": "885c718d-d3bc-4b80-bf20-648e6b25b403",
   "metadata": {},
   "source": [
    "### `filter`\n",
    "\n",
    "- zwraca listę zawierającą tylko elementy pasujące do podanego predykatu (funkcje lambda, które pobierają element kolekcji i zwracają wartość logiczną)."
   ]
  },
  {
   "cell_type": "code",
   "execution_count": 10,
   "id": "c4989f15-5188-4d97-a3f6-089a1ef25bd8",
   "metadata": {},
   "outputs": [
    {
     "name": "stdout",
     "output_type": "stream",
     "text": [
      "[Robert, Renata]\n"
     ]
    }
   ],
   "source": [
    "val names = listOf(\"Rafał\", \"Robert\", \"Ania\", \"Paweł\", \n",
    "                   \"Roman\", \"Radek\", \"Renata\")\n",
    "println(names.filter { it.length > 5 })"
   ]
  },
  {
   "cell_type": "code",
   "execution_count": 11,
   "id": "b1531ce4-9dd8-43a2-bbc9-f8899685cab7",
   "metadata": {},
   "outputs": [
    {
     "name": "stdout",
     "output_type": "stream",
     "text": [
      "[Ania, Paweł, Roman, Radek]\n"
     ]
    }
   ],
   "source": [
    "println(names.filterIndexed { i, v -> (i != 0) && (v.length < 6)  })"
   ]
  },
  {
   "cell_type": "code",
   "execution_count": 12,
   "id": "b60d340a-6c94-4ffd-b599-ef24111b39e4",
   "metadata": {},
   "outputs": [
    {
     "name": "stdout",
     "output_type": "stream",
     "text": [
      "[Robert, Renata]\n",
      "[Rafał, Ania, Paweł, Roman, Radek]\n",
      "[Rafał, Robert, Ania, Paweł, Roman, Radek, Renata]\n"
     ]
    }
   ],
   "source": [
    "println(names.filter { it.length > 5 })\n",
    "println(names.filterNot { it.length > 5 })\n",
    "println(names)"
   ]
  },
  {
   "cell_type": "code",
   "execution_count": 36,
   "id": "6aec183a-82dd-40ce-9638-4258a50bdfcf",
   "metadata": {},
   "outputs": [
    {
     "name": "stdout",
     "output_type": "stream",
     "text": [
      "TWO\n",
      "FOUR\n"
     ]
    }
   ],
   "source": [
    "val numbers = listOf(null, 1, \"two\", 3.0, \"four\")\n",
    "numbers.filterIsInstance<String>().forEach {\n",
    "    println(it.uppercase())\n",
    "}"
   ]
  },
  {
   "cell_type": "code",
   "execution_count": 37,
   "id": "8a45b987-0ba7-44ef-b315-75a1e8949e1f",
   "metadata": {},
   "outputs": [
    {
     "name": "stdout",
     "output_type": "stream",
     "text": [
      "1 two 3.0 four "
     ]
    }
   ],
   "source": [
    "numbers.filterNotNull().forEach {\n",
    "    print(\"$it \")\n",
    "}"
   ]
  },
  {
   "cell_type": "code",
   "execution_count": 39,
   "id": "99a053e6-7058-4108-b000-03656191843d",
   "metadata": {},
   "outputs": [
    {
     "name": "stdout",
     "output_type": "stream",
     "text": [
      "3\n",
      "4\n"
     ]
    }
   ],
   "source": [
    "numbers.filterNotNull().filterIsInstance<String>().forEach {\n",
    "    println(it.length)\n",
    "}"
   ]
  },
  {
   "cell_type": "markdown",
   "id": "0cfe0310-9dc4-4eaa-9b66-cb1bcc30d96e",
   "metadata": {},
   "source": [
    "### `partition`\n",
    "\n",
    "- dzieli oryginalną kolekcję na parę list, gdzie pierwsza lista zawiera elementy, dla których predykat jest spełniony, druga lista zawiera pozostałe elementy"
   ]
  },
  {
   "cell_type": "code",
   "execution_count": null,
   "id": "2486c626-ba11-49f7-9e00-8168eba15575",
   "metadata": {},
   "outputs": [
    {
     "name": "stdout",
     "output_type": "stream",
     "text": [
      "[three, four]\n",
      "[one, two]\n"
     ]
    }
   ],
   "source": [
    "val numbers = listOf(\"one\", \"two\", \"three\", \"four\")\n",
    "val (match, rest) = numbers.partition { it.length > 3 }\n",
    "\n",
    "println(match)\n",
    "println(rest)"
   ]
  },
  {
   "cell_type": "code",
   "execution_count": 43,
   "id": "230be7cd-288f-4c6e-b73b-62942ec73259",
   "metadata": {},
   "outputs": [
    {
     "name": "stdout",
     "output_type": "stream",
     "text": [
      "true\n"
     ]
    }
   ],
   "source": [
    "println(numbers.any { it.endsWith(\"e\") })"
   ]
  },
  {
   "cell_type": "markdown",
   "id": "33c6b11a-adcd-498c-ab3a-f9d4e980046a",
   "metadata": {},
   "source": [
    "### `groupBy`\n",
    "\n",
    "- Grupuje elementy oryginalnej tablicy według klucza zwróconego przez daną funkcję `keySelector` zastosowaną do każdego elementu i zwraca mapę, w której każdy klucz grupy jest skojarzony z listą odpowiednich elementów. Zwrócona mapa zachowuje kolejność iteracji wpisów kluczy utworzonych z oryginalnej tablicy."
   ]
  },
  {
   "cell_type": "code",
   "execution_count": 44,
   "id": "cbbe383e-36a2-4ad8-a73f-c029464d1476",
   "metadata": {},
   "outputs": [
    {
     "name": "stdout",
     "output_type": "stream",
     "text": [
      "{o=[one], t=[two, three], f=[four, five]}\n"
     ]
    }
   ],
   "source": [
    "val numbers = listOf(\"one\", \"two\", \"three\", \"four\", \"five\")\n",
    "\n",
    "println(numbers.groupBy { it.first() })"
   ]
  },
  {
   "cell_type": "code",
   "execution_count": 45,
   "id": "ca12c359-67e5-4bd0-9e65-10395f3a1d0a",
   "metadata": {},
   "outputs": [
    {
     "name": "stdout",
     "output_type": "stream",
     "text": [
      "{O=[ONE], T=[TWO, THREE], F=[FOUR, FIVE]}\n"
     ]
    }
   ],
   "source": [
    "println(numbers.groupBy(keySelector = { it.first().uppercase() }, valueTransform = { it.uppercase() }))"
   ]
  },
  {
   "cell_type": "code",
   "execution_count": 56,
   "id": "44337588-ec4e-478d-b86f-874d75d94bd5",
   "metadata": {},
   "outputs": [
    {
     "name": "stdout",
     "output_type": "stream",
     "text": [
      "{o=1, t=2, f=2, s=1}\n"
     ]
    }
   ],
   "source": [
    "val numbers = listOf(\"one\", \"two\", \"three\", \"four\", \"five\", \"six\")\n",
    "println(numbers.groupingBy { it.first() }.eachCount())"
   ]
  },
  {
   "cell_type": "markdown",
   "id": "8e438fb5-dfb2-481f-8399-68997a3364cc",
   "metadata": {},
   "source": [
    "### `take`, `slice`, `drop`\n",
    "\n",
    "- `take` - zwraca listę pierwszych `n` elementów\n",
    "- `slice` - zwraca listę elementów kolekcji z podanymi indeksami. Indeksy mogą być przekazywane jako zakres lub zbiór wartości całkowitych\n",
    "- `drop` - zwraca listę zawierające wszystkie elementy oprócz pierwszych `n` elemntów"
   ]
  },
  {
   "cell_type": "code",
   "execution_count": 46,
   "id": "7eb55701-8b68-4424-aa75-344f4a695dbe",
   "metadata": {},
   "outputs": [
    {
     "name": "stdout",
     "output_type": "stream",
     "text": [
      "[two, three, four]\n",
      "[one, three, five]\n",
      "[four, six, one]\n"
     ]
    }
   ],
   "source": [
    "val numbers = listOf(\"one\", \"two\", \"three\", \"four\", \"five\", \"six\")\n",
    "println(numbers.slice(1..3))\n",
    "println(numbers.slice(0..4 step 2))\n",
    "println(numbers.slice(setOf(3, 5, 0)))   "
   ]
  },
  {
   "cell_type": "code",
   "execution_count": 58,
   "id": "31aafb29-9d20-4ba5-803a-d107e71e6115",
   "metadata": {},
   "outputs": [
    {
     "name": "stdout",
     "output_type": "stream",
     "text": [
      "[one, two, three]\n",
      "[four, five, six]\n",
      "[two, three, four, five, six]\n",
      "[one]\n"
     ]
    }
   ],
   "source": [
    "println(numbers.take(3))\n",
    "println(numbers.takeLast(3))\n",
    "println(numbers.drop(1))\n",
    "println(numbers.dropLast(5))"
   ]
  },
  {
   "cell_type": "code",
   "execution_count": 48,
   "id": "1186b05e-cd68-4498-817d-0e5aa1eda4e0",
   "metadata": {},
   "outputs": [
    {
     "name": "stdout",
     "output_type": "stream",
     "text": [
      "[one]\n",
      "[four, five, six]\n"
     ]
    }
   ],
   "source": [
    "println(numbers.takeWhile { !it.startsWith('t') })\n",
    "println(numbers.takeLastWhile { it != \"three\" })"
   ]
  },
  {
   "cell_type": "markdown",
   "id": "166cd84f-6bf8-4e6f-b3ac-0a80ac40a216",
   "metadata": {},
   "source": [
    "### `chunked`, `windowed`\n",
    "\n",
    "- `chunked` - Dzieli tę kolekcję na listę list, z których każda nie przekracza podanego rozmiaru. Ostatnia lista na liście wynikowej może mieć mniej elementów niż podany rozmiar.\n",
    "- `windowed` - Zwraca listę list o danym rozmiarze przesuwaną wzdłuż tej kolekcji z podanym krokiem. Kilka ostatnich list może mieć mniej elementów niż podany rozmiar. Zarówno rozmiar, jak i krok muszą być dodatnie i mogą być większe niż liczba elementów w tej kolekcji."
   ]
  },
  {
   "cell_type": "code",
   "execution_count": 61,
   "id": "b9e929ff-28d1-46cb-810b-efe1fac00a95",
   "metadata": {},
   "outputs": [
    {
     "name": "stdout",
     "output_type": "stream",
     "text": [
      "[[0, 1, 2], [3, 4, 5], [6, 7, 8], [9, 10, 11], [12, 13]]\n"
     ]
    }
   ],
   "source": [
    "val numbers = (0..13).toList()\n",
    "println(numbers.chunked(3))"
   ]
  },
  {
   "cell_type": "code",
   "execution_count": 62,
   "id": "a9afe863-46da-4605-b385-dfc99b455b3b",
   "metadata": {},
   "outputs": [
    {
     "name": "stdout",
     "output_type": "stream",
     "text": [
      "[3, 12, 21, 30, 25]\n"
     ]
    }
   ],
   "source": [
    "val numbers = (0..13).toList() \n",
    "println(numbers.chunked(3) { it.sum() })"
   ]
  },
  {
   "cell_type": "code",
   "execution_count": 63,
   "id": "103d9a8d-3ad1-41e5-aea1-36aefebe6140",
   "metadata": {},
   "outputs": [
    {
     "name": "stdout",
     "output_type": "stream",
     "text": [
      "[[one, two, three], [two, three, four], [three, four, five]]\n"
     ]
    }
   ],
   "source": [
    "val numbers = listOf(\"one\", \"two\", \"three\", \"four\", \"five\")    \n",
    "println(numbers.windowed(3))"
   ]
  },
  {
   "cell_type": "code",
   "execution_count": 260,
   "id": "2f855f02-2609-4c79-8679-c1980f6f782d",
   "metadata": {},
   "outputs": [
    {
     "name": "stdout",
     "output_type": "stream",
     "text": [
      "[[1, 2, 3], [3, 4, 5], [5, 6, 7], [7, 8, 9], [9, 10]]\n",
      "[6, 9, 12, 15, 18, 21, 24, 27]\n"
     ]
    }
   ],
   "source": [
    "val numbers = (1..10).toList()\n",
    "println(numbers.windowed(3, step = 2, partialWindows = true))\n",
    "println(numbers.windowed(3) { it.sum() })"
   ]
  },
  {
   "cell_type": "markdown",
   "id": "bf525183-b2d4-4c17-b012-7b251bc8a6f8",
   "metadata": {},
   "source": [
    "### `zip`, `first`, `last`, `find`\n",
    "\n",
    "- `zip` - Zwraca listę par zbudowanych z elementów tej tablicy i drugiej tablicy o tym samym indeksie. Zwracana lista ma długość najkrótszego zbioru.\n",
    "- `first` - zwraca pierwszy element spełniający warunek\n",
    "- `last` - zwraca ostatni element spełniający warunek\n",
    "- `find` - Zwraca pierwszy element pasujący do podanego predykatu lub null, jeśli nie znaleziono takiego elementu."
   ]
  },
  {
   "cell_type": "code",
   "execution_count": 68,
   "id": "e351c5e6-dd7e-44ce-a5fa-5a9d4bc6e6eb",
   "metadata": {},
   "outputs": [
    {
     "name": "stdout",
     "output_type": "stream",
     "text": [
      "[(one, two), (two, three), (three, four), (four, five)]\n",
      "[false, false, true, false]\n"
     ]
    }
   ],
   "source": [
    "val numbers = listOf(\"one\", \"two\", \"three\", \"four\", \"five\")    \n",
    "println(numbers.zipWithNext()) // Tworzy obiekty Pair\n",
    "println(numbers.zipWithNext() { s1, s2 -> s1.length > s2.length})"
   ]
  },
  {
   "cell_type": "code",
   "execution_count": 74,
   "id": "287fa587-f96c-4778-a41c-f44ed7a68b45",
   "metadata": {},
   "outputs": [
    {
     "name": "stdout",
     "output_type": "stream",
     "text": [
      "three\n",
      "five\n"
     ]
    }
   ],
   "source": [
    "val numbers = listOf(\"one\", \"two\", \"three\", \"four\", \"five\", \"six\")\n",
    "println(numbers.first { it.length > 3 })\n",
    "println(numbers.last { it.startsWith(\"f\") })"
   ]
  },
  {
   "cell_type": "code",
   "execution_count": 70,
   "id": "08d0a930-c162-435d-ae4d-54fde2559500",
   "metadata": {},
   "outputs": [
    {
     "name": "stdout",
     "output_type": "stream",
     "text": [
      "null\n"
     ]
    }
   ],
   "source": [
    "val numbers = listOf(\"one\", \"two\", \"three\", \"four\", \"five\", \"six\")\n",
    "println(numbers.firstOrNull { it.length > 6 })"
   ]
  },
  {
   "cell_type": "code",
   "execution_count": 50,
   "id": "d76a952e-0159-4dd6-8bba-48e4d2e97365",
   "metadata": {},
   "outputs": [
    {
     "name": "stdout",
     "output_type": "stream",
     "text": [
      "2\n",
      "4\n"
     ]
    }
   ],
   "source": [
    "val numbers = listOf(1, 2, 3, 4)\n",
    "println(numbers.find { it % 2 == 0 })\n",
    "println(numbers.findLast { it % 2 == 0 })"
   ]
  },
  {
   "cell_type": "code",
   "execution_count": 76,
   "id": "cee4cb65-3520-42b2-b2a5-fc9fca779b21",
   "metadata": {},
   "outputs": [
    {
     "name": "stdout",
     "output_type": "stream",
     "text": [
      "true\n"
     ]
    }
   ],
   "source": [
    "val list = listOf<Any>(0, \"true\", false)\n",
    "val longEnough = list.firstNotNullOf { item -> item.toString().takeIf { it.length >= 4 } } // pierwsza wartość która nie jest null\n",
    "println(longEnough)"
   ]
  },
  {
   "cell_type": "code",
   "execution_count": 13,
   "id": "74b9c4cd-fe9d-4529-97a6-ea7e7d8efd2d",
   "metadata": {},
   "outputs": [
    {
     "name": "stdout",
     "output_type": "stream",
     "text": [
      "true\n"
     ]
    }
   ],
   "source": [
    "val list = listOf<Any>(0, \"true\", false)\n",
    "val longEnough = list\n",
    "    .firstNotNullOfOrNull { item -> item.toString()\n",
    "    .takeIf { it.length >= 2 } }\n",
    "println(longEnough)"
   ]
  },
  {
   "cell_type": "markdown",
   "id": "44b7275a-b534-445b-82fa-5cc5b33db01a",
   "metadata": {},
   "source": [
    "### `compare`"
   ]
  },
  {
   "cell_type": "code",
   "execution_count": 58,
   "id": "2fc9640d-f99d-44e1-a26e-539d81c9001e",
   "metadata": {},
   "outputs": [
    {
     "name": "stdout",
     "output_type": "stream",
     "text": [
      "[c, bb, aaa]\n"
     ]
    }
   ],
   "source": [
    "println(listOf(\"aaa\", \"bb\", \"c\").sortedWith(compareBy { it.length }))"
   ]
  },
  {
   "cell_type": "code",
   "execution_count": 80,
   "id": "9fc0a483-3ad8-49dd-825b-4a2f01ff0c93",
   "metadata": {},
   "outputs": [
    {
     "name": "stdout",
     "output_type": "stream",
     "text": [
      "Count: 4\n",
      "Max: 42\n",
      "Min: 4\n",
      "Average: 15.5\n",
      "Sum: 62\n"
     ]
    }
   ],
   "source": [
    "val numbers = listOf(6, 42, 10, 4)\n",
    "\n",
    "println(\"Count: ${numbers.count()}\")\n",
    "println(\"Max: ${numbers.maxOrNull()}\")\n",
    "println(\"Min: ${numbers.minOrNull()}\")\n",
    "println(\"Average: ${numbers.average()}\")\n",
    "println(\"Sum: ${numbers.sum()}\")"
   ]
  },
  {
   "cell_type": "code",
   "execution_count": 81,
   "id": "fc2ced31-86ae-4f91-ae39-2070729e831b",
   "metadata": {},
   "outputs": [
    {
     "name": "stdout",
     "output_type": "stream",
     "text": [
      "three\n"
     ]
    }
   ],
   "source": [
    "val strings = listOf(\"one\", \"two\", \"three\", \"four\")\n",
    "val longestString = strings.maxWithOrNull(compareBy { it.length })\n",
    "println(longestString)"
   ]
  },
  {
   "cell_type": "code",
   "execution_count": 59,
   "id": "4c54e896-fd3b-4732-857d-9c18c56e23ed",
   "metadata": {},
   "outputs": [
    {
     "name": "stdout",
     "output_type": "stream",
     "text": [
      "122\n",
      "30.5\n"
     ]
    }
   ],
   "source": [
    "val numbers = listOf(5, 42, 10, 4)\n",
    "println(numbers.sumOf { it * 2 })\n",
    "println(numbers.sumOf { it.toDouble() / 2 })"
   ]
  },
  {
   "cell_type": "markdown",
   "id": "179ee227-154a-48a9-8086-c727b4f424ef",
   "metadata": {},
   "source": [
    "### `fold`, `reduce`\n",
    "\n",
    "- `fold` - Kumuluje wartość zaczynając od wartości początkowej, stosując operację od lewej do prawej, do bieżącej wartości kumulowanej i każdego elementu. Zwraca wartość początkową, jeśli tablica jest pusta.\n",
    "- `reduce` - Kumuluje wartość zaczynając od pierwszego elementu, stosując operację od lewej do prawej, do bieżącej wartości kumulowanej i każdego elementu."
   ]
  },
  {
   "cell_type": "code",
   "execution_count": 17,
   "id": "b686c0a0-fbdc-4500-ba50-635815c5e138",
   "metadata": {},
   "outputs": [
    {
     "name": "stdout",
     "output_type": "stream",
     "text": [
      "21\n"
     ]
    }
   ],
   "source": [
    "val numbers = listOf(5, 2, 10, 4)\n",
    "\n",
    "val simpleSum = numbers.reduce { sum, element -> sum + element }\n",
    "println(simpleSum)"
   ]
  },
  {
   "cell_type": "code",
   "execution_count": 93,
   "id": "6569ea49-088a-4b06-91b7-63475eb0c282",
   "metadata": {},
   "outputs": [
    {
     "name": "stdout",
     "output_type": "stream",
     "text": [
      "abcd\n",
      "ab1c2d3\n"
     ]
    }
   ],
   "source": [
    "val strings = listOf(\"a\", \"b\", \"c\", \"d\")\n",
    "println(strings.reduce { acc, string -> acc + string })\n",
    "println(strings.reduceIndexed { index, acc, string -> acc + string + index })"
   ]
  },
  {
   "cell_type": "code",
   "execution_count": 31,
   "id": "6d93ce14-25a0-466a-800e-6c79e91740be",
   "metadata": {},
   "outputs": [
    {
     "name": "stdout",
     "output_type": "stream",
     "text": [
      "4\n"
     ]
    }
   ],
   "source": [
    "val numbers = listOf(1, 1, 1, 1)\n",
    "\n",
    "val simpleSum = numbers.fold(0) { sum, element -> sum + element }\n",
    "println(simpleSum)"
   ]
  },
  {
   "cell_type": "code",
   "execution_count": 28,
   "id": "8baaa2c6-5490-4b22-8b10-e0db939b9910",
   "metadata": {},
   "outputs": [
    {
     "name": "stdout",
     "output_type": "stream",
     "text": [
      "4\n"
     ]
    }
   ],
   "source": [
    "val simpleSum = numbers.reduce { sum, element -> sum + element }\n",
    "println(simpleSum)"
   ]
  },
  {
   "cell_type": "code",
   "execution_count": 38,
   "id": "7bdef00c-75ca-451f-b7c8-c8e8bb6e55f4",
   "metadata": {},
   "outputs": [
    {
     "name": "stdout",
     "output_type": "stream",
     "text": [
      "8\n"
     ]
    }
   ],
   "source": [
    "val numbers = listOf(1, 1, 1, 1)\n",
    "\n",
    "val simpleSum = numbers.fold(0) { sum, element -> sum + (element * 2) }\n",
    "println(simpleSum)"
   ]
  },
  {
   "cell_type": "code",
   "execution_count": 39,
   "id": "e44a9a03-774b-436f-872c-9cee0942f990",
   "metadata": {},
   "outputs": [
    {
     "name": "stdout",
     "output_type": "stream",
     "text": [
      "7\n"
     ]
    }
   ],
   "source": [
    "val simpleSum = numbers.reduce { sum, element -> sum + (element * 2) }\n",
    "println(simpleSum)"
   ]
  },
  {
   "cell_type": "code",
   "execution_count": 97,
   "id": "0262a290-09ee-4651-9075-49aea341bbd9",
   "metadata": {},
   "outputs": [
    {
     "name": "stdout",
     "output_type": "stream",
     "text": [
      "abcd\n",
      "a0b1c2d3\n"
     ]
    }
   ],
   "source": [
    "val strings = listOf(\"a\", \"b\", \"c\", \"d\")\n",
    "println(strings.fold(\"\") { acc, string -> acc + string })\n",
    "println(strings.foldIndexed(\"\") { index, acc, string -> acc + string + index })"
   ]
  },
  {
   "cell_type": "code",
   "execution_count": 40,
   "id": "3f79b9bb-e1f1-4e30-bec7-c7416c36f8ad",
   "metadata": {},
   "outputs": [
    {
     "name": "stdout",
     "output_type": "stream",
     "text": [
      "15\n",
      "15\n"
     ]
    }
   ],
   "source": [
    "val numbers = listOf(5, 2, 10, 4)\n",
    "val sumEven = numbers.foldIndexed(0) { idx, sum, element -> if (idx % 2 == 0) sum + element else sum }\n",
    "println(sumEven)\n",
    "\n",
    "val sumEvenRight = numbers.foldRightIndexed(0) { idx, element, sum -> if (idx % 2 == 0) sum + element else sum }\n",
    "println(sumEvenRight)"
   ]
  },
  {
   "cell_type": "code",
   "execution_count": 41,
   "id": "08207f50-fee7-4771-86a2-8c1fdecfc363",
   "metadata": {},
   "outputs": [
    {
     "name": "stdout",
     "output_type": "stream",
     "text": [
      "15\n",
      "19\n"
     ]
    }
   ],
   "source": [
    "val numbers = listOf(5, 2, 10, 4)\n",
    "val sumEven = numbers.reduceIndexed { idx, sum, element -> if (idx % 2 == 0) sum + element else sum }\n",
    "println(sumEven)\n",
    "\n",
    "val sumEvenRight = numbers.reduceRightIndexed { idx, element, sum -> if (idx % 2 == 0) sum + element else sum }\n",
    "println(sumEvenRight)"
   ]
  },
  {
   "cell_type": "code",
   "execution_count": 42,
   "id": "1e7ee10a-6a40-40e6-8e97-955452829f1d",
   "metadata": {},
   "outputs": [
    {
     "name": "stdout",
     "output_type": "stream",
     "text": [
      "[0, 1, 3, 6, 10, 15]\n",
      "[0, 0, 1, 3, 6, 10, 15]\n"
     ]
    }
   ],
   "source": [
    "val numbers = listOf(0, 1, 2, 3, 4, 5)\n",
    "val runningReduceSum = numbers.runningReduce { sum, item -> sum + item }\n",
    "val runningFoldSum = numbers.runningFold(0) { sum, item -> sum + item }\n",
    "\n",
    "println(runningReduceSum)\n",
    "println(runningFoldSum)"
   ]
  },
  {
   "cell_type": "markdown",
   "id": "b9ab3c09-86bb-4a4b-b128-34eeabb3d683",
   "metadata": {},
   "source": [
    "### `flatten`\n",
    "\n",
    "- Zwraca pojedynczą listę wszystkich elementów ze wszystkich tablic w danej tablicy"
   ]
  },
  {
   "cell_type": "code",
   "execution_count": 228,
   "id": "14d4f3a0-5e6d-4c83-9cd9-25ecf13b348a",
   "metadata": {},
   "outputs": [
    {
     "name": "stdout",
     "output_type": "stream",
     "text": [
      "[[1], [2, 3], [4, 5, 6]]\n",
      "[1, 2, 3, 4, 5, 6]\n"
     ]
    }
   ],
   "source": [
    "val deepArray = arrayOf(\n",
    "    arrayOf(1),\n",
    "    arrayOf(2, 3),\n",
    "    arrayOf(4, 5, 6)\n",
    ")\n",
    "\n",
    "println(deepArray.contentDeepToString())\n",
    "println(deepArray.flatten()) // [1, 2, 3, 4, 5, 6]"
   ]
  },
  {
   "cell_type": "code",
   "execution_count": 229,
   "id": "cb46d228-6377-4faf-a34b-bb7339a06aaa",
   "metadata": {},
   "outputs": [
    {
     "name": "stdout",
     "output_type": "stream",
     "text": [
      "[1, 2, 3, 4, 5, 6]\n"
     ]
    }
   ],
   "source": [
    "val deepList = listOf(listOf(1), listOf(2, 3), listOf(4, 5, 6))\n",
    "println(deepList.flatten()) // [1, 2, 3, 4, 5, 6]"
   ]
  },
  {
   "cell_type": "code",
   "execution_count": 60,
   "id": "b3af9878-5f77-4bb7-879a-7c3df286bb83",
   "metadata": {},
   "outputs": [
    {
     "name": "stdout",
     "output_type": "stream",
     "text": [
      "{a=[1, 2], b=[3, 4]}\n"
     ]
    },
    {
     "data": {
      "text/plain": [
       "[a, 1, 2, b, 3, 4]"
      ]
     },
     "execution_count": 60,
     "metadata": {},
     "output_type": "execute_result"
    }
   ],
   "source": [
    "val deepMap = mapOf(\"a\" to listOf(1,2),\"b\" to listOf(3,4))\n",
    "println(deepMap)\n",
    "deepMap.flatMap { (string, ints) -> listOf(string).plus(ints) }"
   ]
  },
  {
   "cell_type": "code",
   "execution_count": 236,
   "id": "520d7c5b-b074-4b00-95f6-a5dd229f29f1",
   "metadata": {},
   "outputs": [
    {
     "data": {
      "text/plain": [
       "[a, [1, 2], b, [3, 4]]"
      ]
     },
     "execution_count": 236,
     "metadata": {},
     "output_type": "execute_result"
    }
   ],
   "source": [
    "deepMap.flatMap { (string, int) -> listOf(string, int) }"
   ]
  },
  {
   "cell_type": "code",
   "execution_count": 243,
   "id": "dd011756-35f9-4716-9983-fe449f9ccf69",
   "metadata": {},
   "outputs": [
    {
     "name": "stdout",
     "output_type": "stream",
     "text": [
      "[(a, 1), (a, 2), (b, 3), (b, 4)]\n",
      "(a, 1)\n",
      "Pair\n",
      "[a, 1, 2, b, 3, 4]\n",
      "ArrayList\n"
     ]
    }
   ],
   "source": [
    "val pairs = listOf(\"a\" to 1, \"a\" to 2, \"b\" to 3, \"b\" to 4)\n",
    "println(pairs)\n",
    "println(pairs.get(0))\n",
    "println(pairs.get(0)::class.simpleName)\n",
    "val result = pairs\n",
    "        .groupBy { it.first }\n",
    "        .flatMap { (key, values) -> listOf(key).plus(values.map { it.second }) }\n",
    "println(result)\n",
    "println(result::class.simpleName)"
   ]
  },
  {
   "cell_type": "markdown",
   "id": "e61437a3-9c0d-4600-b0c3-f37a221fce1d",
   "metadata": {
    "tags": []
   },
   "source": [
    "## Metody list"
   ]
  },
  {
   "cell_type": "code",
   "execution_count": 184,
   "id": "eae97e97-7b72-4b36-a0cb-f3919d411605",
   "metadata": {},
   "outputs": [
    {
     "name": "stdout",
     "output_type": "stream",
     "text": [
      "1\n",
      "1\n",
      "null\n",
      "5\n",
      "ArrayList\n"
     ]
    }
   ],
   "source": [
    "val numbers = listOf(1, 2, 3, 4)\n",
    "println(numbers.get(0))\n",
    "println(numbers[0])\n",
    "println(numbers.getOrNull(5))\n",
    "println(numbers.getOrElse(5, {it}))\n",
    "println(numbers::class.simpleName)"
   ]
  },
  {
   "cell_type": "code",
   "execution_count": 141,
   "id": "1ce6b86c-ed2e-4d55-8eba-fe9c62b09221",
   "metadata": {},
   "outputs": [
    {
     "name": "stdout",
     "output_type": "stream",
     "text": [
      "[3, 4, 5]\n"
     ]
    }
   ],
   "source": [
    "val numbers = (0..13).toList()\n",
    "println(numbers.subList(3, 6))"
   ]
  },
  {
   "cell_type": "code",
   "execution_count": 142,
   "id": "05edec01-de30-4b62-ac19-53f33ae806ef",
   "metadata": {},
   "outputs": [
    {
     "name": "stdout",
     "output_type": "stream",
     "text": [
      "1\n",
      "4\n"
     ]
    }
   ],
   "source": [
    "val numbers = listOf(1, 2, 3, 4, 2, 5)\n",
    "println(numbers.indexOf(2))\n",
    "println(numbers.lastIndexOf(2))"
   ]
  },
  {
   "cell_type": "code",
   "execution_count": 143,
   "id": "86015af3-d002-4209-85fa-21a6072a0c09",
   "metadata": {},
   "outputs": [
    {
     "name": "stdout",
     "output_type": "stream",
     "text": [
      "2\n",
      "2\n"
     ]
    }
   ],
   "source": [
    "val numbers = mutableListOf(1, 2, 3, 4)\n",
    "println(numbers.indexOfFirst { it > 2})\n",
    "println(numbers.indexOfLast { it % 2 == 1})"
   ]
  },
  {
   "cell_type": "code",
   "execution_count": 151,
   "id": "35db6d74-a96d-451b-a577-c9a5dfeae6a2",
   "metadata": {},
   "outputs": [
    {
     "name": "stdout",
     "output_type": "stream",
     "text": [
      "[four, one, three, two]\n",
      "3\n",
      "-5\n",
      "-3\n"
     ]
    }
   ],
   "source": [
    "val numbers = mutableListOf(\"one\", \"two\", \"three\", \"four\")\n",
    "numbers.sort()\n",
    "println(numbers)\n",
    "println(numbers.binarySearch(\"two\"))  // 3\n",
    "println(numbers.binarySearch(\"z\")) // -5 - zwraca ujemny wartość spodziewanego indeksu - 1\n",
    "println(numbers.binarySearch(\"two\", 0, 2))  // -3"
   ]
  },
  {
   "cell_type": "code",
   "execution_count": 149,
   "id": "4d71ff88-2c7b-499a-977c-f444daa61a13",
   "metadata": {},
   "outputs": [
    {
     "name": "stdout",
     "output_type": "stream",
     "text": [
      "1\n"
     ]
    }
   ],
   "source": [
    "data class Product(val name: String, val price: Float)\n",
    "\n",
    "val productList = listOf(\n",
    "    Product(\"WebStorm\", 49.0f),\n",
    "    Product(\"AppCode\", 99.0f),\n",
    "    Product(\"DotTrace\", 129.0f),\n",
    "    Product(\"ReSharper\", 149.0f))\n",
    "\n",
    "println(productList.binarySearch(Product(\"AppCode\", 99.0f), compareBy<Product> { it.price }.thenBy { it.name }))"
   ]
  },
  {
   "cell_type": "code",
   "execution_count": 166,
   "id": "5560f857-9f60-4d94-bfaf-6aec6d8d3603",
   "metadata": {},
   "outputs": [
    {
     "name": "stdout",
     "output_type": "stream",
     "text": [
      "1\n"
     ]
    }
   ],
   "source": [
    "fun priceComparison(product: Product, price: Float) = sign(product.price - price).toInt()\n",
    "\n",
    "\n",
    "val productList = listOf(\n",
    "        Product(\"WebStorm\", 49.0f),\n",
    "        Product(\"AppCode\", 99.0f),\n",
    "        Product(\"DotTrace\", 129.0f),\n",
    "        Product(\"ReSharper\", 149.0f))\n",
    "\n",
    "println(productList.binarySearch { priceComparison(it, 99.0f) })\n"
   ]
  },
  {
   "cell_type": "code",
   "execution_count": 168,
   "id": "e4ad8318-0412-4485-b2c7-3c87645663f5",
   "metadata": {},
   "outputs": [
    {
     "name": "stdout",
     "output_type": "stream",
     "text": [
      "[two, one, four, three]\n",
      "[four, two, one, three]\n",
      "[one, two, four, three]\n"
     ]
    }
   ],
   "source": [
    "val numbers = mutableListOf(\"one\", \"two\", \"three\", \"four\")\n",
    "\n",
    "numbers.sort()\n",
    "numbers.sortDescending()\n",
    "\n",
    "numbers.sortBy { it.length }\n",
    "println(numbers)\n",
    "numbers.sortByDescending { it.last() }\n",
    "println(numbers)\n",
    "\n",
    "numbers.sortWith(compareBy<String> { it.length }.thenBy { it })\n",
    "println(numbers)"
   ]
  },
  {
   "cell_type": "markdown",
   "id": "51935ce2-1a56-491f-ad5a-2fa30a0eddc3",
   "metadata": {
    "tags": []
   },
   "source": [
    "## Metody zbiorów"
   ]
  },
  {
   "cell_type": "code",
   "execution_count": 183,
   "id": "65e25197-d416-4607-999e-edfd70a0b6a4",
   "metadata": {},
   "outputs": [
    {
     "name": "stdout",
     "output_type": "stream",
     "text": [
      "[one, two, three, four, five]\n",
      "[four, five, one, two, three]\n",
      "LinkedHashSet\n"
     ]
    }
   ],
   "source": [
    "val numbers = setOf(\"one\", \"two\", \"three\")\n",
    "\n",
    "println(numbers union setOf(\"four\", \"five\"))\n",
    "println(setOf(\"four\", \"five\") union numbers)\n",
    "println(numbers::class.simpleName)"
   ]
  },
  {
   "cell_type": "code",
   "execution_count": 176,
   "id": "56c8b310-7238-4f56-9d85-a8a874dad8e1",
   "metadata": {},
   "outputs": [
    {
     "name": "stdout",
     "output_type": "stream",
     "text": [
      "[one, two]\n"
     ]
    }
   ],
   "source": [
    "println(numbers intersect setOf(\"two\", \"one\", \"four\"))"
   ]
  },
  {
   "cell_type": "code",
   "execution_count": 177,
   "id": "87e9fe9e-e6a3-445d-aff1-43792b650f87",
   "metadata": {},
   "outputs": [
    {
     "name": "stdout",
     "output_type": "stream",
     "text": [
      "[one, two]\n",
      "[four, five]\n"
     ]
    }
   ],
   "source": [
    "println(numbers subtract setOf(\"three\", \"four\", \"five\"))\n",
    "println(setOf(\"three\", \"four\", \"five\") subtract numbers)"
   ]
  },
  {
   "cell_type": "code",
   "execution_count": 178,
   "id": "1e9148ad-1512-4cf5-8541-ff43436cbf5d",
   "metadata": {},
   "outputs": [
    {
     "name": "stdout",
     "output_type": "stream",
     "text": [
      "[1, 2, 3, 5]\n",
      "[1, 2, 3, 5, 8, -1]\n"
     ]
    }
   ],
   "source": [
    "val list1 = listOf(1, 1, 2 ,3, 5, 8, -1)\n",
    "val list2 = listOf(1, 1, 2, 2 ,3, 5)\n",
    "println(list1 intersect list2) // result on two lists is a Set\n",
    "println(list1 union list2)     // equal elements are merged into one"
   ]
  },
  {
   "cell_type": "code",
   "execution_count": 179,
   "id": "d928c543-b30f-476e-8d8b-f305c52b7f4b",
   "metadata": {},
   "outputs": [
    {
     "name": "stdout",
     "output_type": "stream",
     "text": [
      "LinkedHashSet\n"
     ]
    }
   ],
   "source": [
    "val inter = list1 intersect list2\n",
    "println(inter::class.simpleName)"
   ]
  },
  {
   "cell_type": "code",
   "execution_count": 180,
   "id": "0038c730-80c8-452c-abe4-82618426426e",
   "metadata": {},
   "outputs": [
    {
     "name": "stdout",
     "output_type": "stream",
     "text": [
      "LinkedHashSet\n"
     ]
    }
   ],
   "source": [
    "val u = list1 union list2\n",
    "println(inter::class.simpleName)"
   ]
  },
  {
   "cell_type": "code",
   "execution_count": 182,
   "id": "b03a7036-1a2d-429c-a830-6a3b7a56065e",
   "metadata": {},
   "outputs": [
    {
     "name": "stdout",
     "output_type": "stream",
     "text": [
      "LinkedHashSet\n",
      "LinkedHashSet\n"
     ]
    }
   ],
   "source": [
    "val s = numbers subtract setOf(\"three\", \"four\", \"five\")\n",
    "println(s::class.simpleName)\n",
    "println(numbers::class.simpleName)"
   ]
  },
  {
   "cell_type": "markdown",
   "id": "8c7d80c8-66bc-4f27-b719-0221cb666ed9",
   "metadata": {
    "tags": []
   },
   "source": [
    "## Metody map"
   ]
  },
  {
   "cell_type": "code",
   "execution_count": 199,
   "id": "5b08cda3-b3b3-4046-8c8d-7c060016c467",
   "metadata": {},
   "outputs": [
    {
     "name": "stdout",
     "output_type": "stream",
     "text": [
      "1\n",
      "1\n",
      "10\n",
      "null\n",
      "LinkedHashMap\n"
     ]
    }
   ],
   "source": [
    "val numbersMap = mapOf(\"one\" to 1, \"two\" to 2, \"three\" to 3)\n",
    "println(numbersMap.get(\"one\"))\n",
    "println(numbersMap[\"one\"])\n",
    "println(numbersMap.getOrDefault(\"four\", 10))\n",
    "println(numbersMap[\"five\"])   \n",
    "//numbersMap.getValue(\"six\") \n",
    "println(numbersMap::class.simpleName)"
   ]
  },
  {
   "cell_type": "code",
   "execution_count": 188,
   "id": "0dff76b9-e3ec-466b-afb4-57fa3a3b695c",
   "metadata": {},
   "outputs": [
    {
     "name": "stdout",
     "output_type": "stream",
     "text": [
      "[one, two, three]\n",
      "[1, 2, 3]\n"
     ]
    }
   ],
   "source": [
    "val numbersMap = mapOf(\"one\" to 1, \"two\" to 2, \"three\" to 3)\n",
    "println(numbersMap.keys)\n",
    "println(numbersMap.values)"
   ]
  },
  {
   "cell_type": "code",
   "execution_count": 189,
   "id": "22bab10f-88db-42f9-9e30-ad778d01e19c",
   "metadata": {},
   "outputs": [
    {
     "name": "stdout",
     "output_type": "stream",
     "text": [
      "{key11=11}\n"
     ]
    }
   ],
   "source": [
    "val numbersMap = mapOf(\"key1\" to 1, \"key2\" to 2, \"key3\" to 3, \"key11\" to 11)\n",
    "val filteredMap = numbersMap.filter { (key, value) -> key.endsWith(\"1\") && value > 10}\n",
    "println(filteredMap)"
   ]
  },
  {
   "cell_type": "code",
   "execution_count": 190,
   "id": "b80ca1b4-26ba-4ad3-8b64-ee0a791c30f9",
   "metadata": {},
   "outputs": [
    {
     "name": "stdout",
     "output_type": "stream",
     "text": [
      "{key1=1, key11=11}\n",
      "{key1=1, key2=2, key3=3}\n"
     ]
    }
   ],
   "source": [
    "val numbersMap = mapOf(\"key1\" to 1, \"key2\" to 2, \"key3\" to 3, \"key11\" to 11)\n",
    "val filteredKeysMap = numbersMap.filterKeys { it.endsWith(\"1\") }\n",
    "val filteredValuesMap = numbersMap.filterValues { it < 10 }\n",
    "\n",
    "println(filteredKeysMap)\n",
    "println(filteredValuesMap)"
   ]
  },
  {
   "cell_type": "code",
   "execution_count": 195,
   "id": "933de9a2-5942-48ce-bad1-3490e3eb52e1",
   "metadata": {},
   "outputs": [
    {
     "name": "stdout",
     "output_type": "stream",
     "text": [
      "{one=1, two=2, three=3, four=4}\n",
      "{one=10, two=2, three=3}\n",
      "{one=11, two=2, three=3, five=5}\n",
      "{one=1, two=2, three=3}\n"
     ]
    }
   ],
   "source": [
    "val numbersMap = mapOf(\"one\" to 1, \"two\" to 2, \"three\" to 3)\n",
    "println(numbersMap + Pair(\"four\", 4))\n",
    "println(numbersMap + Pair(\"one\", 10))\n",
    "println(numbersMap + mapOf(\"five\" to 5, \"one\" to 11))\n",
    "println(numbersMap)"
   ]
  },
  {
   "cell_type": "code",
   "execution_count": 192,
   "id": "aec20706-4654-499b-b1f5-2fa59ff298f9",
   "metadata": {},
   "outputs": [
    {
     "name": "stdout",
     "output_type": "stream",
     "text": [
      "{two=2, three=3}\n",
      "{one=1, three=3}\n"
     ]
    }
   ],
   "source": [
    "val numbersMap = mapOf(\"one\" to 1, \"two\" to 2, \"three\" to 3)\n",
    "println(numbersMap - \"one\")\n",
    "println(numbersMap - listOf(\"two\", \"four\"))"
   ]
  },
  {
   "cell_type": "code",
   "execution_count": 193,
   "id": "2fd9f662-52e4-4e65-9291-f96c17f62bcb",
   "metadata": {},
   "outputs": [
    {
     "name": "stdout",
     "output_type": "stream",
     "text": [
      "{one=1, two=2, three=3}\n"
     ]
    }
   ],
   "source": [
    "val numbersMap = mutableMapOf(\"one\" to 1, \"two\" to 2)\n",
    "numbersMap.put(\"three\", 3)\n",
    "println(numbersMap)"
   ]
  },
  {
   "cell_type": "code",
   "execution_count": 194,
   "id": "210f12b8-f546-4b1d-a6f0-917d166790bd",
   "metadata": {},
   "outputs": [
    {
     "name": "stdout",
     "output_type": "stream",
     "text": [
      "value associated with 'one', before: 1, after: 11\n",
      "{one=11, two=2}\n"
     ]
    }
   ],
   "source": [
    "val numbersMap = mutableMapOf(\"one\" to 1, \"two\" to 2)\n",
    "val previousValue = numbersMap.put(\"one\", 11)\n",
    "println(\"value associated with 'one', before: $previousValue, after: ${numbersMap[\"one\"]}\")\n",
    "println(numbersMap)"
   ]
  },
  {
   "cell_type": "code",
   "execution_count": 196,
   "id": "bb82c1d6-e72e-41a7-928d-7480b850730f",
   "metadata": {},
   "outputs": [
    {
     "name": "stdout",
     "output_type": "stream",
     "text": [
      "{one=1, two=2, three=3, four=4, five=5}\n"
     ]
    }
   ],
   "source": [
    "val numbersMap = mutableMapOf(\"one\" to 1, \"two\" to 2)\n",
    "numbersMap[\"three\"] = 3     // calls numbersMap.put(\"three\", 3)\n",
    "numbersMap += mapOf(\"four\" to 4, \"five\" to 5)\n",
    "println(numbersMap)"
   ]
  },
  {
   "cell_type": "code",
   "execution_count": 197,
   "id": "7ad71276-c6aa-479e-8976-8d3a378ae572",
   "metadata": {},
   "outputs": [
    {
     "name": "stdout",
     "output_type": "stream",
     "text": [
      "{two=2, three=3}\n",
      "{two=2, three=3}\n"
     ]
    }
   ],
   "source": [
    "val numbersMap = mutableMapOf(\"one\" to 1, \"two\" to 2, \"three\" to 3)\n",
    "numbersMap.remove(\"one\")\n",
    "println(numbersMap)\n",
    "numbersMap.remove(\"three\", 4)            //doesn't remove anything\n",
    "println(numbersMap)"
   ]
  },
  {
   "cell_type": "code",
   "execution_count": 198,
   "id": "96cf94bd-5e25-49e7-a4b4-e92f15d02433",
   "metadata": {},
   "outputs": [
    {
     "name": "stdout",
     "output_type": "stream",
     "text": [
      "{two=2, three=3, threeAgain=3}\n",
      "{two=2, threeAgain=3}\n"
     ]
    }
   ],
   "source": [
    "val numbersMap = mutableMapOf(\"one\" to 1, \"two\" to 2, \"three\" to 3, \"threeAgain\" to 3)\n",
    "numbersMap.keys.remove(\"one\")\n",
    "println(numbersMap)\n",
    "numbersMap.values.remove(3)\n",
    "println(numbersMap)"
   ]
  },
  {
   "cell_type": "code",
   "execution_count": 200,
   "id": "4fffe15f-17a8-4ed3-b316-3db1aa06a58e",
   "metadata": {},
   "outputs": [
    {
     "name": "stdout",
     "output_type": "stream",
     "text": [
      "one = 1\n",
      "two = 2\n",
      "three = 3\n"
     ]
    }
   ],
   "source": [
    " numbersMap.forEach { (key, value) -> println(\"$key = $value\") }"
   ]
  },
  {
   "cell_type": "code",
   "execution_count": 203,
   "id": "70758a12-57c3-42c3-8499-dd8e4f41e5e4",
   "metadata": {},
   "outputs": [
    {
     "name": "stdout",
     "output_type": "stream",
     "text": [
      "{one=1}\n"
     ]
    }
   ],
   "source": [
    "println(numbersMap.filter { it.key == \"one\" && it.value == 1 })"
   ]
  },
  {
   "cell_type": "code",
   "execution_count": 220,
   "id": "85ebfd99-158b-4ca8-8577-8f7a6ff7d47d",
   "metadata": {},
   "outputs": [
    {
     "name": "stdout",
     "output_type": "stream",
     "text": [
      "[11, 12, 13]\n",
      "ArrayList\n",
      "11\n"
     ]
    }
   ],
   "source": [
    " val l = numbersMap.map { (key, value) -> value + 10}\n",
    " println(l)\n",
    " println(l::class.simpleName)\n",
    " println(l[0])"
   ]
  },
  {
   "cell_type": "code",
   "execution_count": 208,
   "id": "da032c3e-9f44-4093-9670-151ebdedd3f0",
   "metadata": {},
   "outputs": [
    {
     "name": "stdout",
     "output_type": "stream",
     "text": [
      "one=1\n",
      "two=2\n",
      "three=3\n",
      "threeAgain=3\n"
     ]
    }
   ],
   "source": [
    "val m = mapOf(\"one\" to 1, \"two\" to 2, \"three\" to 3, \"threeAgain\" to 3)\n",
    "val itr = m.keys.iterator()\n",
    "while (itr.hasNext()) {\n",
    "    val key = itr.next()\n",
    "    val value = m[key]\n",
    "    println(\"${key}=$value\")\n",
    "}"
   ]
  }
 ],
 "metadata": {
  "kernelspec": {
   "display_name": "Kotlin",
   "language": "kotlin",
   "name": "kotlin"
  },
  "language_info": {
   "codemirror_mode": "text/x-kotlin",
   "file_extension": ".kt",
   "mimetype": "text/x-kotlin",
   "name": "kotlin",
   "nbconvert_exporter": "",
   "pygments_lexer": "kotlin",
   "version": "1.6.20-dev-6372"
  }
 },
 "nbformat": 4,
 "nbformat_minor": 5
}
