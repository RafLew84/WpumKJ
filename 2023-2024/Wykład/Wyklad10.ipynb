{
 "cells": [
  {
   "cell_type": "markdown",
   "id": "f9dc9cb3-ad56-4a96-9403-138460fca37a",
   "metadata": {},
   "source": [
    "# Wykład 10 - Wzorce Projektowe"
   ]
  },
  {
   "cell_type": "markdown",
   "id": "4c0e74fd-cf2b-4ceb-8fd6-277a06012d22",
   "metadata": {},
   "source": [
    "*\"Wzorzec opisuje problem, który powtarza się wielokrotnie w danym środowisku, oraz podaje istotę jego rozwiązania w taki sposób, aby można było je zastosować miliony razy bez potrzeby powtarzania tej samej pracy\"*\n",
    "**Christopher Alexander \"A pattern language\", 1977**"
   ]
  },
  {
   "cell_type": "markdown",
   "id": "bec10aca-493a-412b-a72a-43e3a956e2d3",
   "metadata": {},
   "source": [
    "![](https://brasil.cel.agh.edu.pl/~09sbfraczek/images/wzorce/design.jpg)"
   ]
  },
  {
   "cell_type": "markdown",
   "id": "37b71789-8498-4eeb-bed5-05f79147797e",
   "metadata": {},
   "source": [
    "- Kreacyjne (konstrukcyjne, creational design patterns) - opisują elastyczne sposoby tworzenia obiektów uniezależniają system od sposobu tworzenia obekt\n",
    "    - Metoda Wytwórcza (Factory Method) \n",
    "    - **Budowniczy (Builder)**\n",
    "    - **Fabryka (Factory)**\n",
    "    - Prototyp (Prototype)\n",
    "    - **Singleton**\n",
    "\n",
    "- Strukturalne (structural design patterns) - opisują sposob konstrukcji struktur obiektowych korzystają z dziedziczenia i delegacji\n",
    "    - **Adapter**\n",
    "    - Dekorator (Decorator)\n",
    "    - Fasada (Facade)\n",
    "    - Kompozyt (Composite)\n",
    "    - Most (Bridge)\n",
    "    - Pełnomocnik (Proxy)\n",
    "    - Pyłek (Flyweight)\n",
    "\n",
    "- Behawioralne (czynnościowe, behavioral design patterns) - opisują algorytmy i przydział odpowiedzialności charakteryzują sposob interakcji między obiektami\n",
    "    - Interpreter\n",
    "    - Metoda Szablonowa (Template Method)\n",
    "    - Iterator\n",
    "    - Łańcuch Zobowiązań (Chain of Responsibility)\n",
    "    - **Mediator**\n",
    "    - **Obserwator (Observer)**\n",
    "    - Odwiedziający (Visitor)\n",
    "    - Pamiątka (Memento)\n",
    "    - Polecenie (Command)\n",
    "    - Stan (State)\n",
    "    - Strategia (Strategy)\n"
   ]
  },
  {
   "cell_type": "markdown",
   "id": "0c7195da-64eb-4c13-9565-be96f3743e9f",
   "metadata": {},
   "source": [
    "## Singleton"
   ]
  },
  {
   "cell_type": "markdown",
   "id": "56fbe90a-5795-4cf6-b94e-b484c4783168",
   "metadata": {},
   "source": [
    "- Zapewnia że klasa ma tylko jedną instancję\n",
    "- Zapewnia globalny dostęp do tej instancji"
   ]
  },
  {
   "cell_type": "markdown",
   "id": "b84496de-4e2e-4d8e-bc39-5de7445d4f7e",
   "metadata": {},
   "source": [
    "![](https://refactoring.guru/images/patterns/diagrams/singleton/structure-en-2x.png)"
   ]
  },
  {
   "cell_type": "code",
   "execution_count": 30,
   "id": "4eafc5be-c7e9-4c88-b001-8d90c74f2f44",
   "metadata": {},
   "outputs": [],
   "source": [
    "// java\n",
    "// leniwa inicjalizacja\n",
    "\n",
    "final public class Singleton {\n",
    "\n",
    "    private static Singleton instance = null;\n",
    "\n",
    "    private Singleton() {}\n",
    "    \n",
    "    private int counter = 0;\n",
    "\n",
    "    public static Singleton getInstance() {\n",
    "        if (instance == null)\n",
    "            instance = new Singleton();\n",
    "        return instance;\n",
    "    }\n",
    "    \n",
    "    public int getCounter(){\n",
    "        return counter;\n",
    "    }\n",
    "    \n",
    "    public void increaseCounter(){\n",
    "        counter++;\n",
    "    }\n",
    "    \n",
    "    public void resetCounter(){\n",
    "        counter = 0;\n",
    "    }\n",
    "}"
   ]
  },
  {
   "cell_type": "code",
   "execution_count": 31,
   "id": "f3a2af33-b826-4f9b-afbe-47d83a26862b",
   "metadata": {},
   "outputs": [
    {
     "ename": "CompilationException",
     "evalue": "",
     "output_type": "error",
     "traceback": [
      "\u001b[1m\u001b[30m|   \u001b[1m\u001b[30mSingleton singleton = \u001b[0m\u001b[1m\u001b[30m\u001b[41mnew Singleton()\u001b[0m\u001b[1m\u001b[30m;\u001b[0m",
      "\u001b[1m\u001b[31mSingleton() has private access in Singleton\u001b[0m",
      ""
     ]
    }
   ],
   "source": [
    "Singleton singleton = new Singleton();"
   ]
  },
  {
   "cell_type": "code",
   "execution_count": 32,
   "id": "4823cf85-e352-407b-b7ed-60720117484a",
   "metadata": {},
   "outputs": [],
   "source": [
    "Singleton singleton = Singleton.getInstance();"
   ]
  },
  {
   "cell_type": "code",
   "execution_count": 33,
   "id": "377343ec-7d5b-4075-ac24-38cda478a426",
   "metadata": {},
   "outputs": [
    {
     "data": {
      "text/plain": [
       "0"
      ]
     },
     "execution_count": 33,
     "metadata": {},
     "output_type": "execute_result"
    }
   ],
   "source": [
    "singleton.getCounter()"
   ]
  },
  {
   "cell_type": "code",
   "execution_count": 34,
   "id": "877d179c-76d1-4b81-805a-43f5ecd84e1a",
   "metadata": {},
   "outputs": [],
   "source": [
    "Singleton second = Singleton.getInstance();"
   ]
  },
  {
   "cell_type": "code",
   "execution_count": 35,
   "id": "cfcd88a5-2f85-4459-b79e-b7a68fb0b7fa",
   "metadata": {},
   "outputs": [
    {
     "data": {
      "text/plain": [
       "1"
      ]
     },
     "execution_count": 35,
     "metadata": {},
     "output_type": "execute_result"
    }
   ],
   "source": [
    "second.increaseCounter();\n",
    "singleton.getCounter();"
   ]
  },
  {
   "cell_type": "code",
   "execution_count": 36,
   "id": "f7669df5-ce41-4590-a777-eb72d8e48082",
   "metadata": {},
   "outputs": [
    {
     "data": {
      "text/plain": [
       "0"
      ]
     },
     "execution_count": 36,
     "metadata": {},
     "output_type": "execute_result"
    }
   ],
   "source": [
    "second.resetCounter();\n",
    "singleton.getCounter();"
   ]
  },
  {
   "cell_type": "code",
   "execution_count": 4,
   "id": "2e487c89-772a-4b64-942a-405921c844b9",
   "metadata": {},
   "outputs": [],
   "source": [
    "// kotlin\n",
    "val lazyInt: Int by lazy {0} // leniwa inicjalizacja"
   ]
  },
  {
   "cell_type": "code",
   "execution_count": 5,
   "id": "d61a2791-0db4-4720-8bbd-31fd272f9027",
   "metadata": {},
   "outputs": [
    {
     "data": {
      "text/plain": [
       "0"
      ]
     },
     "execution_count": 5,
     "metadata": {},
     "output_type": "execute_result"
    }
   ],
   "source": [
    "lazyInt"
   ]
  },
  {
   "cell_type": "code",
   "execution_count": 6,
   "id": "2a4afd3c-25b9-4004-9910-8eb2b7116f51",
   "metadata": {},
   "outputs": [],
   "source": [
    "object Singleton { // singleton\n",
    "    var counter = 0\n",
    "    \n",
    "    fun increaseCounter(){counter++}\n",
    "    fun resetCounter(){counter = 0}\n",
    "}"
   ]
  },
  {
   "cell_type": "code",
   "execution_count": 8,
   "id": "2a0925db-df02-4f43-b1e9-6b4a082344dd",
   "metadata": {},
   "outputs": [
    {
     "data": {
      "text/plain": [
       "0"
      ]
     },
     "execution_count": 8,
     "metadata": {},
     "output_type": "execute_result"
    }
   ],
   "source": [
    "Singleton.counter"
   ]
  },
  {
   "cell_type": "code",
   "execution_count": 9,
   "id": "9bc06fa6-33ac-4a36-b728-7911ca32741e",
   "metadata": {},
   "outputs": [
    {
     "data": {
      "text/plain": [
       "1"
      ]
     },
     "execution_count": 9,
     "metadata": {},
     "output_type": "execute_result"
    }
   ],
   "source": [
    "Singleton.increaseCounter()\n",
    "Singleton.counter"
   ]
  },
  {
   "cell_type": "markdown",
   "id": "c6e9d84a-0606-4f74-be95-05fd028d6d98",
   "metadata": {},
   "source": [
    "W języku Kotlin wzorzec `Singleton` jest używany jako zamiennik dla składowych i pól statycznych (`static`), które nie istnieją w tym języku programowania. `Singleton` tworzy się po prostu deklarując obiekt (`object`). W przeciwieństwie do klasy, obiekt nie może mieć konstruktora, ale bloki `init` są dozwolone, jeśli potrzebny jest kod inicjalizacyjny."
   ]
  },
  {
   "cell_type": "markdown",
   "id": "7e389ea6-fa55-4899-8d7d-4c78a2a1f7a3",
   "metadata": {},
   "source": [
    "Obiekty towarzyszące (`companion object`) to obiekty `Singleton`, których właściwości i funkcje są powiązane z klasą, ale nie z instancją tej klasy."
   ]
  },
  {
   "cell_type": "markdown",
   "id": "01362cec-b170-4253-8106-9355d71a06d5",
   "metadata": {},
   "source": [
    "## `Double-checked Singleton`"
   ]
  },
  {
   "cell_type": "code",
   "execution_count": null,
   "id": "040f1b66-850f-49c8-8018-424540e32f27",
   "metadata": {},
   "outputs": [],
   "source": [
    "public class Singleton {\n",
    "\n",
    "    private static volatile Singleton instance = null;\n",
    "\n",
    "    private Singleton() {}\n",
    "\n",
    "    public static Singleton getInstance() {\n",
    "        if (instance == null) {\n",
    "            synchronized(Singleton.class) {\n",
    "                if (instance == null) {\n",
    "                    instance = new Singleton();\n",
    "                }\n",
    "            }\n",
    "        }\n",
    "\n",
    "        return instance;\n",
    "    }\n",
    "}"
   ]
  },
  {
   "cell_type": "markdown",
   "id": "9b68a556-a012-40e5-aceb-63224efe3a30",
   "metadata": {},
   "source": [
    "## Delegaty"
   ]
  },
  {
   "cell_type": "code",
   "execution_count": 35,
   "id": "03da739b-a967-4307-a675-eb7e7bdd2d38",
   "metadata": {},
   "outputs": [],
   "source": [
    "import kotlin.reflect.KProperty\n",
    "\n",
    "class A {\n",
    "    var s: String by Delegate()\n",
    "}\n",
    "\n",
    "class Delegate {\n",
    "    operator fun getValue(thisRef: Any?, property: KProperty<*>): String {\n",
    "        return \"$thisRef, thank you for delegating '${property.name}' to me!\"\n",
    "    }\n",
    "\n",
    "    operator fun setValue(thisRef: Any?, property: KProperty<*>, value: String) {\n",
    "        println(\"$value has been assigned to '${property.name}' in $thisRef.\")\n",
    "    }\n",
    "    \n",
    "    // KProperty - reprezentuje właściwość (val lub var)\n",
    "}"
   ]
  },
  {
   "cell_type": "code",
   "execution_count": 36,
   "id": "ea51c76f-d7a5-412b-bc69-51692ef96472",
   "metadata": {},
   "outputs": [
    {
     "name": "stdout",
     "output_type": "stream",
     "text": [
      "Line_34$A@5b5e42df, thank you for delegating 's' to me!\n"
     ]
    }
   ],
   "source": [
    "val a = A()\n",
    "println(a.s)"
   ]
  },
  {
   "cell_type": "code",
   "execution_count": 37,
   "id": "8fbbb33a-1064-4ff6-b3ab-46e7364fe6c8",
   "metadata": {},
   "outputs": [
    {
     "name": "stdout",
     "output_type": "stream",
     "text": [
      "Line_34$A@5b5e42df\n"
     ]
    }
   ],
   "source": [
    "println(a)"
   ]
  },
  {
   "cell_type": "code",
   "execution_count": 38,
   "id": "572b01da-1dd7-4a3f-a211-bbf3a7505632",
   "metadata": {},
   "outputs": [
    {
     "name": "stdout",
     "output_type": "stream",
     "text": [
      "ZMIANA has been assigned to 's' in Line_34$A@5b5e42df.\n"
     ]
    }
   ],
   "source": [
    "a.s = \"ZMIANA\""
   ]
  },
  {
   "cell_type": "code",
   "execution_count": 39,
   "id": "a5fad796-f447-417a-9273-1e94ea8feeda",
   "metadata": {},
   "outputs": [
    {
     "name": "stdout",
     "output_type": "stream",
     "text": [
      "Line_38$B@682edc3b, thank you for delegating 'w' to me!\n"
     ]
    }
   ],
   "source": [
    "class B {\n",
    "    var w: String by Delegate()\n",
    "}\n",
    "\n",
    "val b = B()\n",
    "println(b.w)"
   ]
  },
  {
   "cell_type": "code",
   "execution_count": 40,
   "id": "ecc33206-b7ad-4491-b115-ff139568396d",
   "metadata": {},
   "outputs": [
    {
     "name": "stdout",
     "output_type": "stream",
     "text": [
      "Line_38$B@682edc3b\n"
     ]
    }
   ],
   "source": [
    "println(b)"
   ]
  },
  {
   "cell_type": "code",
   "execution_count": 42,
   "id": "886a6b0a-2a99-4487-8553-d27ea247fe3e",
   "metadata": {},
   "outputs": [
    {
     "name": "stdout",
     "output_type": "stream",
     "text": [
      "computed!\n",
      "Hello\n",
      "Hello\n"
     ]
    }
   ],
   "source": []
  },
  {
   "cell_type": "markdown",
   "id": "0ad1742e-2e96-4126-be94-2b898d6e3ffa",
   "metadata": {},
   "source": [
    "## Przeciążanie operatorów"
   ]
  },
  {
   "cell_type": "code",
   "execution_count": 47,
   "id": "9a46917b-1093-440d-94a5-3822d3089e52",
   "metadata": {},
   "outputs": [
    {
     "name": "stdout",
     "output_type": "stream",
     "text": [
      "Point(x=-10, y=-20)\n"
     ]
    }
   ],
   "source": [
    "data class Point(val x: Int, val y: Int)\n",
    "\n",
    "operator fun Point.unaryMinus() = Point(-x, -y)\n",
    "\n",
    "val point = Point(10, 20)\n",
    "\n",
    "\n",
    "println(-point)\n"
   ]
  },
  {
   "cell_type": "code",
   "execution_count": 49,
   "id": "16ffc81f-b2fb-48ee-ae6f-11e270b0fc9e",
   "metadata": {},
   "outputs": [
    {
     "name": "stderr",
     "output_type": "stream",
     "text": [
      "Line_48.jupyter-kts (1:1 - 9) 'operator' modifier is inapplicable on this function: receiver must be a supertype of the return type"
     ]
    }
   ],
   "source": [
    "operator fun Point.inc() = Point(x + 1, y + 1)"
   ]
  },
  {
   "cell_type": "code",
   "execution_count": 57,
   "id": "06d9c03d-9d4b-42d5-8da0-66176e6eb7fd",
   "metadata": {},
   "outputs": [],
   "source": [
    "data class Point2(val x: Int, val y: Int){\n",
    "    operator fun inc() = Point2(x + 1, y + 1)\n",
    "    operator fun dec() = Point2(x - 1, y - 1)\n",
    "}"
   ]
  },
  {
   "cell_type": "code",
   "execution_count": 58,
   "id": "2b5723c5-5766-48ff-87ae-8032f03f756f",
   "metadata": {},
   "outputs": [
    {
     "name": "stdout",
     "output_type": "stream",
     "text": [
      "Point2(x=2, y=2)\n"
     ]
    }
   ],
   "source": [
    "var point2 = Point2(1, 1)\n",
    "point2++\n",
    "println(point2)"
   ]
  },
  {
   "cell_type": "code",
   "execution_count": 59,
   "id": "d7ae9039-3f65-4d9b-88db-eebaaab75c25",
   "metadata": {},
   "outputs": [
    {
     "name": "stdout",
     "output_type": "stream",
     "text": [
      "Point2(x=1, y=1)\n"
     ]
    }
   ],
   "source": [
    "point2--\n",
    "println(point2)"
   ]
  },
  {
   "cell_type": "code",
   "execution_count": 96,
   "id": "74d39a8a-4af5-423d-b200-27cdbb9e9874",
   "metadata": {},
   "outputs": [],
   "source": [
    "operator fun Point.plus(other: Point) = Point(x + other.x, y + other.y)"
   ]
  },
  {
   "cell_type": "code",
   "execution_count": 95,
   "id": "3bab7f96-42ba-44a7-a8f1-b29ffeaf66c6",
   "metadata": {},
   "outputs": [
    {
     "name": "stdout",
     "output_type": "stream",
     "text": [
      "Point(x=3, y=10)\n"
     ]
    }
   ],
   "source": [
    "val p1 = Point(1, 1)\n",
    "val p2 = Point(2, 9)\n",
    "val p3 = p1 + p2\n",
    "println(p3)"
   ]
  },
  {
   "cell_type": "markdown",
   "id": "69155cb9-cdca-4f25-afaf-19248d23b484",
   "metadata": {},
   "source": [
    "## Delegat z obserwatorem"
   ]
  },
  {
   "cell_type": "code",
   "execution_count": 69,
   "id": "75baa450-bd3b-4ab0-a0e6-0012211217db",
   "metadata": {},
   "outputs": [
    {
     "name": "stdout",
     "output_type": "stream",
     "text": [
      "<no name>\n",
      "<no name> -> first\n",
      "first -> second\n",
      "second -> third\n"
     ]
    }
   ],
   "source": [
    "import kotlin.properties.Delegates\n",
    "\n",
    "class User {\n",
    "    var name: String by Delegates.observable(\"<no name>\") {\n",
    "        prop, old, new -> println(\"$old -> $new\")\n",
    "    }\n",
    "}\n",
    "\n",
    "val user = User()\n",
    "println(user.name)\n",
    "user.name = \"first\"\n",
    "user.name = \"second\"\n",
    "user.name = \"third\""
   ]
  },
  {
   "cell_type": "markdown",
   "id": "51c05849-480e-4da2-a146-33adbacc504d",
   "metadata": {},
   "source": [
    "## Delegat wetowalny"
   ]
  },
  {
   "cell_type": "code",
   "execution_count": 70,
   "id": "f2c8d741-1040-4e9e-8011-5712a76664a1",
   "metadata": {},
   "outputs": [
    {
     "name": "stdout",
     "output_type": "stream",
     "text": [
      "0\n",
      "10\n",
      "10\n"
     ]
    }
   ],
   "source": [
    "var max: Int by Delegates.vetoable(0) { \n",
    "    property, oldValue, newValue -> newValue > oldValue\n",
    "}\n",
    "\n",
    "println(max)\n",
    "\n",
    "max = 10\n",
    "println(max)\n",
    "\n",
    "max = 5\n",
    "println(max)"
   ]
  },
  {
   "cell_type": "code",
   "execution_count": 80,
   "id": "5e6fc7bd-00b4-4a26-860a-f128de74517e",
   "metadata": {},
   "outputs": [
    {
     "name": "stdout",
     "output_type": "stream",
     "text": [
      "0\n",
      "10\n"
     ]
    },
    {
     "data": {
      "text/plain": [
       "java.lang.IllegalArgumentException: New value must be larger than old value."
      ]
     },
     "execution_count": 80,
     "metadata": {},
     "output_type": "execute_result"
    }
   ],
   "source": [
    "var max: Int by Delegates.vetoable(0) { _, oldValue, newValue ->\n",
    "    if (newValue > oldValue) true else throw IllegalArgumentException(\"New value must be larger than old value.\")\n",
    "}\n",
    "\n",
    "println(max)\n",
    "\n",
    "max = 10\n",
    "println(max)\n",
    "\n",
    "try{\n",
    "    max = 5\n",
    "}\n",
    "catch (e: IllegalArgumentException) {e}"
   ]
  },
  {
   "cell_type": "code",
   "execution_count": 84,
   "id": "bcf8424b-9d0e-4ac0-a40a-0febcf1d1366",
   "metadata": {},
   "outputs": [
    {
     "name": "stdout",
     "output_type": "stream",
     "text": [
      "42\n"
     ]
    }
   ],
   "source": [
    "class MyClass {\n",
    "   var newName: Int = 0\n",
    "   var oldName: Int by this::newName\n",
    "}\n",
    "\n",
    "val myClass = MyClass()\n",
    "myClass.oldName = 42\n",
    "println(myClass.newName)\n"
   ]
  },
  {
   "cell_type": "markdown",
   "id": "fb15c20e-ef2d-472b-ae58-5e0c6e6580ec",
   "metadata": {},
   "source": [
    "## Delegat do konstruktora"
   ]
  },
  {
   "cell_type": "code",
   "execution_count": 91,
   "id": "4e633cc6-e365-4aaa-8359-5614b6bf20da",
   "metadata": {},
   "outputs": [
    {
     "data": {
      "text/plain": [
       "User(map={name=Rafał Lewandków, age=30})"
      ]
     },
     "execution_count": 91,
     "metadata": {},
     "output_type": "execute_result"
    }
   ],
   "source": [
    "data class User(val map: Map<String, Any?>) {\n",
    "    val name: String by map\n",
    "    val age: Int     by map\n",
    "}\n",
    "\n",
    "val user = User(mapOf(\n",
    "    \"name\" to \"Rafał Lewandków\",\n",
    "    \"age\"  to 30\n",
    "))\n",
    "\n",
    "user"
   ]
  },
  {
   "cell_type": "code",
   "execution_count": 87,
   "id": "d643e31d-d372-4531-89b7-e9d81d52f61a",
   "metadata": {},
   "outputs": [
    {
     "data": {
      "text/plain": [
       "Rafał Lewandków"
      ]
     },
     "execution_count": 87,
     "metadata": {},
     "output_type": "execute_result"
    }
   ],
   "source": [
    "user.name"
   ]
  },
  {
   "cell_type": "code",
   "execution_count": 88,
   "id": "e1ba24df-873f-49d9-a840-c1cf55e0b30d",
   "metadata": {},
   "outputs": [
    {
     "data": {
      "text/plain": [
       "30"
      ]
     },
     "execution_count": 88,
     "metadata": {},
     "output_type": "execute_result"
    }
   ],
   "source": [
    "user.age"
   ]
  },
  {
   "cell_type": "markdown",
   "id": "857c9c87-6e2f-4cd1-90be-5067f3d74085",
   "metadata": {},
   "source": [
    "## Method chaining"
   ]
  },
  {
   "cell_type": "code",
   "execution_count": 6,
   "id": "93dedb6d-6843-4e1e-9eff-60f86d3e7845",
   "metadata": {},
   "outputs": [],
   "source": [
    "class Person {\n",
    "    private String name;\n",
    "    private int age;\n",
    "    \n",
    "    public Person setName(String name)\n",
    "    {\n",
    "        this.name = name;\n",
    "        return this;\n",
    "    }\n",
    "    \n",
    "    public Person setAge(int age)\n",
    "    {\n",
    "        this.age = age;\n",
    "        return this;\n",
    "    }\n",
    "    \n",
    "    void display()\n",
    "    {\n",
    "        System.out.println(\"Name = \" + name + \"; wiek = \" + age);\n",
    "    }\n",
    "}"
   ]
  },
  {
   "cell_type": "code",
   "execution_count": 9,
   "id": "cfe779ed-13ae-42fc-81c4-2001d7e7ccb7",
   "metadata": {},
   "outputs": [
    {
     "name": "stdout",
     "output_type": "stream",
     "text": [
      "Name = Rafal; wiek = 20\n"
     ]
    }
   ],
   "source": [
    "new Person()\n",
    "    .setName(\"Rafal\")\n",
    "    .setAge(20)\n",
    "    .display();"
   ]
  },
  {
   "cell_type": "code",
   "execution_count": 1,
   "id": "00a371c7-033e-40c0-8266-c13740bf7163",
   "metadata": {},
   "outputs": [],
   "source": [
    "class Person {\n",
    "    private var name: String = \"\"\n",
    "    private var age: Int = 0\n",
    "\n",
    "    fun setName(name: String): Person {\n",
    "        this.name = name\n",
    "        return this\n",
    "    }\n",
    "\n",
    "    fun setAge(age: Int): Person {\n",
    "        this.age = age\n",
    "        return this\n",
    "    }\n",
    "\n",
    "    fun display() {\n",
    "        println(\"Name = $name; wiek = $age\")\n",
    "    }\n",
    "}"
   ]
  },
  {
   "cell_type": "code",
   "execution_count": 2,
   "id": "bb451dfc-0b90-46bd-a056-78f6f4bc56b7",
   "metadata": {},
   "outputs": [
    {
     "name": "stdout",
     "output_type": "stream",
     "text": [
      "Name = Rafal; wiek = 25\n"
     ]
    }
   ],
   "source": [
    "Person()\n",
    "    .setName(\"Rafal\")\n",
    "    .setAge(25)\n",
    "    .display();"
   ]
  },
  {
   "cell_type": "markdown",
   "id": "fdbf776b-8b72-435d-8391-76ae1ef2b630",
   "metadata": {},
   "source": [
    "## Budowniczy"
   ]
  },
  {
   "cell_type": "markdown",
   "id": "48f21196-c3ee-4ee3-89a2-5a6537b6242e",
   "metadata": {},
   "source": [
    "Wzorzec projektowy Budowniczy (Builder) jest wzorcem projektowym, który pozwala na tworzenie skomplikowanych obiektów, krok po kroku.\n",
    "\n",
    "Jego celem jest rozdzielenie procesu tworzenia obiektu od jego reprezentacji, dzięki czemu różne sposoby tworzenia tego samego typu obiektów mogą być zdefiniowane w różnych klasach budowniczych.\n",
    "\n",
    "Budowniczy składa się z dwóch głównych składników:\n",
    "\n",
    "- Klasa Product - reprezentuje obiekt, który jest tworzony. Może składać się z różnych składników, które są ustawiane przez budowniczego.\n",
    "- Klasa Builder - jest interfejsem lub klasą abstrakcyjną, która definiuje metody pozwalające na ustawienie poszczególnych składników obiektu.\n",
    "\n",
    "Korzystając z wzorca Budowniczy, można uniknąć tworzenia skomplikowanych konstruktorów z dużą liczbą argumentów, a także uniknąć problemów związanych z nieprawidłowymi stanami obiektów, które mogą powstać przy tworzeniu obiektów bezpośrednio przy użyciu konstruktora."
   ]
  },
  {
   "cell_type": "markdown",
   "id": "89e3a8c6-5a4e-4443-8a4a-e483014721b9",
   "metadata": {},
   "source": [
    "![](https://refactoring.guru/images/patterns/diagrams/builder/problem2-2x.png?id=5e7975a91c0e4f4ba960f908cc9c2ea2)"
   ]
  },
  {
   "cell_type": "markdown",
   "id": "7324b0bf-2de9-4050-a8e3-cf34db9ec104",
   "metadata": {},
   "source": [
    "![](https://refactoring.guru/images/patterns/diagrams/builder/solution1-2x.png?id=a9c2ab02f0b2aca1a7512022194dd113)"
   ]
  },
  {
   "cell_type": "markdown",
   "id": "bf34dd87-1849-42dd-8825-ed2f04dc119b",
   "metadata": {},
   "source": [
    "![](https://refactoring.guru/images/patterns/diagrams/builder/structure-2x.png?id=dca1b1508e23c266cbedc80ffb84311a)"
   ]
  },
  {
   "cell_type": "code",
   "execution_count": 1,
   "id": "d668d4a5-af81-47cf-9014-e4ee15db2395",
   "metadata": {},
   "outputs": [],
   "source": [
    "class Computer {\n",
    "    var CPU: String = \"\"\n",
    "    var RAM: String = \"\"\n",
    "    var storage: String = \"\"\n",
    "    var GPU: String = \"\"\n",
    "\n",
    "    override fun toString(): String {\n",
    "        return \"Computer(CPU='$CPU', RAM='$RAM', storage='$storage', GPU='$GPU')\"\n",
    "    }\n",
    "}"
   ]
  },
  {
   "cell_type": "code",
   "execution_count": null,
   "id": "bc88d864-674c-4bec-b08b-635f957730b6",
   "metadata": {},
   "outputs": [],
   "source": [
    "abstract class ComputerBuilder {\n",
    "    protected var computer = Computer()\n",
    "\n",
    "    abstract fun buildCPU()\n",
    "    abstract fun buildRAM()\n",
    "    abstract fun buildStorage()\n",
    "    abstract fun buildGPU()\n",
    "\n",
    "    fun getComputer(): Computer {\n",
    "        return computer\n",
    "    }\n",
    "}"
   ]
  },
  {
   "cell_type": "code",
   "execution_count": null,
   "id": "12c0db18-5854-4d99-9ff0-886832ad008c",
   "metadata": {},
   "outputs": [],
   "source": [
    "class GamingComputerBuilder : ComputerBuilder() {\n",
    "    override fun buildCPU() {\n",
    "        computer.CPU = \"i7 9700K\"\n",
    "    }\n",
    "\n",
    "    override fun buildRAM() {\n",
    "        computer.RAM = \"32GB DDR4\"\n",
    "    }\n",
    "\n",
    "    override fun buildStorage() {\n",
    "        computer.storage = \"1TB SSD + 2TB HDD\"\n",
    "    }\n",
    "\n",
    "    override fun buildGPU() {\n",
    "        computer.GPU = \"RTX 3080\"\n",
    "    }\n",
    "}"
   ]
  },
  {
   "cell_type": "code",
   "execution_count": null,
   "id": "f26b4e7e-45c2-4149-8e71-13bcdff15b78",
   "metadata": {},
   "outputs": [],
   "source": [
    "class OfficeComputerBuilder : ComputerBuilder() {\n",
    "    override fun buildCPU() {\n",
    "        computer.CPU = \"i5 8400\"\n",
    "    }\n",
    "\n",
    "    override fun buildRAM() {\n",
    "        computer.RAM = \"16GB DDR4\"\n",
    "    }\n",
    "\n",
    "    override fun buildStorage() {\n",
    "        computer.storage = \"500GB SSD\"\n",
    "    }\n",
    "\n",
    "    override fun buildGPU() {\n",
    "        computer.GPU = \"N/A\"\n",
    "    }\n",
    "}"
   ]
  },
  {
   "cell_type": "code",
   "execution_count": null,
   "id": "fe4032bc-1d31-46f6-bead-442de0fc9e1c",
   "metadata": {},
   "outputs": [],
   "source": [
    "class ComputerDirector {\n",
    "    private var computerBuilder: ComputerBuilder = GamingComputerBuilder()\n",
    "\n",
    "    fun setComputerBuilder(computerBuilder: ComputerBuilder) {\n",
    "        this.computerBuilder = computerBuilder\n",
    "    }\n",
    "\n",
    "    fun buildComputer() {\n",
    "        computerBuilder.buildCPU()\n",
    "        computerBuilder.buildRAM()\n",
    "        computerBuilder.buildStorage()\n",
    "        computerBuilder.buildGPU()\n",
    "    }\n",
    "\n",
    "    fun getComputer(): Computer {\n",
    "        return computerBuilder.getComputer()\n",
    "    }\n",
    "}"
   ]
  },
  {
   "cell_type": "code",
   "execution_count": null,
   "id": "ff000866-d0d3-4a2b-87b2-24eba26c6dcb",
   "metadata": {},
   "outputs": [],
   "source": [
    "val computerDirector = ComputerDirector()"
   ]
  },
  {
   "cell_type": "code",
   "execution_count": null,
   "id": "d4aed237-2f0b-4e0b-86a4-fa2b7a315b8d",
   "metadata": {},
   "outputs": [],
   "source": [
    "computerDirector.setComputerBuilder(GamingComputerBuilder())\n",
    "computerDirector.buildComputer()\n",
    "val gamingComputer = computerDirector.getComputer()"
   ]
  },
  {
   "cell_type": "code",
   "execution_count": null,
   "id": "5504f40c-d427-4e62-9d6b-a5e8a0cb458e",
   "metadata": {},
   "outputs": [],
   "source": [
    "computerDirector.setComputerBuilder(OfficeComputerBuilder())\n",
    "computerDirector.buildComputer()\n",
    "val officeComputer = computerDirector.getComputer()"
   ]
  },
  {
   "cell_type": "markdown",
   "id": "ce8e6126-2bd6-4456-9fb6-19b064f5c3d3",
   "metadata": {},
   "source": [
    "`Director` wzoru projektowego Budowniczy odpowiada za tworzenie konkretnych instancji produktów poprzez składanie ich z pól składowych przy użyciu konkretnego budowniczego. `Director` zarządza procesem tworzenia produktu, decyduje o kolejności wykonywania operacji i udostępnia interfejs do konfiguracji budowniczego."
   ]
  },
  {
   "cell_type": "markdown",
   "id": "9a3b2792-8f01-4170-afb8-a42d8853680f",
   "metadata": {},
   "source": [
    "W powyższym przykładzie zdefiniowano klasę `Computer` reprezentującą skonfigurowany komputer. Klasa `ComputerBuilder` jest interfejsem dla klas budujących komputery, które implementują różne rodzaje komputerów, takie jak `GamingComputerBuilder` i `OfficeComputerBuilder`. Klasa `ComputerDirector` jest odpowiedzialna za konfigurację i zbudowanie komputera za pomocą odpowiedniego budowniczego."
   ]
  },
  {
   "cell_type": "markdown",
   "id": "97ba18b0-027e-4015-b4df-c6a5e2801171",
   "metadata": {},
   "source": [
    "W powyższym przykładzie, klasa `ComputerDirector` posiada pola komputera, takie jak CPU, RAM, storage i GPU, a także implementuje metody `buildCPU`, `buildRAM`, `buildStorage`, `buildGPU`, które pozwalają na skonfigurowanie komputera za pomocą odpowiedniego budowniczego.\n",
    "\n",
    "W przykładzie użycia, tworzymy obiekt `ComputerDirector`, ustawiamy budowniczego na `GamingComputerBuilder` i budujemy komputer za pomocą metody `buildComputer()`. Następnie wykorzystując metodę `getComputer()` pobieramy zbudowany komputer.\n",
    "\n",
    "Tak samo robimy z `OfficeComputerBuilder` i pobieramy zbudowany komputer.\n",
    "\n",
    "W ten sposób, wzorzec Budowniczy pozwala na tworzenie skomplikowanych obiektów w sposób modularny i łatwy do rozszerzenia."
   ]
  },
  {
   "cell_type": "code",
   "execution_count": 1,
   "id": "3540132a-97a6-4171-be16-013bba838537",
   "metadata": {},
   "outputs": [],
   "source": [
    "// https://www.digitalocean.com/community/tutorials/builder-design-pattern-in-java\n",
    "public class Computer {\n",
    "\n",
    "    //required parameters\n",
    "    private String HDD;\n",
    "    private String RAM;\n",
    "\n",
    "    //optional parameters\n",
    "    private boolean isGraphicsCardEnabled;\n",
    "    private boolean isBluetoothEnabled;\n",
    "\n",
    "\n",
    "    public String getHDD() {\n",
    "        return HDD;\n",
    "    }\n",
    "\n",
    "    public String getRAM() {\n",
    "        return RAM;\n",
    "    }\n",
    "\n",
    "    public boolean isGraphicsCardEnabled() {\n",
    "        return isGraphicsCardEnabled;\n",
    "    }\n",
    "\n",
    "    public boolean isBluetoothEnabled() {\n",
    "        return isBluetoothEnabled;\n",
    "    }\n",
    "\n",
    "    private Computer(ComputerBuilder builder) {\n",
    "        this.HDD=builder.HDD;\n",
    "        this.RAM=builder.RAM;\n",
    "        this.isGraphicsCardEnabled=builder.isGraphicsCardEnabled;\n",
    "        this.isBluetoothEnabled=builder.isBluetoothEnabled;\n",
    "    }\n",
    "    \n",
    "    //Builder Class\n",
    "    public static class ComputerBuilder{\n",
    "\n",
    "        // required parameters\n",
    "        private String HDD;\n",
    "        private String RAM;\n",
    "\n",
    "        // optional parameters\n",
    "        private boolean isGraphicsCardEnabled;\n",
    "        private boolean isBluetoothEnabled;\n",
    "\n",
    "        public ComputerBuilder(String hdd, String ram){\n",
    "            this.HDD=hdd;\n",
    "            this.RAM=ram;\n",
    "        }\n",
    "\n",
    "        public ComputerBuilder setGraphicsCardEnabled(boolean isGraphicsCardEnabled) {\n",
    "            this.isGraphicsCardEnabled = isGraphicsCardEnabled;\n",
    "            return this;\n",
    "        }\n",
    "\n",
    "        public ComputerBuilder setBluetoothEnabled(boolean isBluetoothEnabled) {\n",
    "            this.isBluetoothEnabled = isBluetoothEnabled;\n",
    "            return this;\n",
    "        }\n",
    "\n",
    "        public Computer build(){\n",
    "            return new Computer(this);\n",
    "        }\n",
    "    }\n",
    "}"
   ]
  },
  {
   "cell_type": "code",
   "execution_count": 4,
   "id": "3b59f72d-3b56-4a55-b34e-8dfd73cab458",
   "metadata": {},
   "outputs": [],
   "source": [
    "Computer comp = new Computer.ComputerBuilder(\"500 GB\", \"2 GB\")\n",
    "    .setBluetoothEnabled(true)\n",
    "    .setGraphicsCardEnabled(true)\n",
    "    .build();"
   ]
  },
  {
   "cell_type": "markdown",
   "id": "2f1bff13-8a37-4edf-8356-baeca93e6631",
   "metadata": {},
   "source": [
    "Przykład: powiadomienia (Android)"
   ]
  },
  {
   "cell_type": "code",
   "execution_count": null,
   "id": "bce92c6b-6ef3-4e9e-91a8-37e3a2d4d54a",
   "metadata": {},
   "outputs": [],
   "source": [
    "// kotlin\n",
    "val builder = NotificationCompat.Builder(this, channelID)\n",
    "    .setSmallIcon(R.drawable.ic_baseline_notifications_24)\n",
    "    .setContentTitle(\"Powiadomienie\")\n",
    "    .setContentText(\"Treść powiadomienia\")\n",
    "    .setStyle(\n",
    "        NotificationCompat.BigTextStyle()\n",
    "            .bigText(\"Dalszy tekst powiadomienia\")\n",
    "    )\n",
    "    .setContentIntent(pendingIntent)\n",
    "    .setPriority(NotificationCompat.PRIORITY_DEFAULT)\n",
    "\n",
    "with(NotificationManagerCompat.from(this)) {\n",
    "    notify(notificationId, builder.build())\n",
    "}"
   ]
  },
  {
   "cell_type": "code",
   "execution_count": null,
   "id": "99fc03b2-ec73-4bb0-9400-685e550deaf6",
   "metadata": {},
   "outputs": [],
   "source": [
    "// Java\n",
    "NotificationCompat.Builder builder = new NotificationCompat.Builder(this, channelID)\n",
    "    .setSmallIcon(R.drawable.ic_baseline_notifications_24)\n",
    "    .setContentTitle(\"Powiadomienie\")\n",
    "    .setContentText(\"Treść powiadomienia\")\n",
    "    .setStyle(\n",
    "            new NotificationCompat.BigTextStyle()\n",
    "                    .bigText(\"Dalszy tekst powiadomienia\")\n",
    "    )\n",
    "    .setContentIntent(pendingIntent)\n",
    "    .setPriority(NotificationCompat.PRIORITY_DEFAULT);\n",
    "\n",
    "NotificationManagerCompat notificationCompat = NotificationManagerCompat.from(this);\n",
    "notificationCompat.notify(notificationId, builder.build());"
   ]
  },
  {
   "cell_type": "markdown",
   "id": "bd5f538a-2903-41a1-8a45-994223a4fc7a",
   "metadata": {},
   "source": [
    "## Obserwator"
   ]
  },
  {
   "cell_type": "markdown",
   "id": "4d8e66fa-fe5d-4aba-a843-4824aff4e69e",
   "metadata": {},
   "source": [
    "![](https://refactoring.guru/images/patterns/content/observer/observer-comic-1-en-2x.png)"
   ]
  },
  {
   "cell_type": "markdown",
   "id": "802abad8-d026-47ee-9bc7-d8f4b8f2dc51",
   "metadata": {},
   "source": [
    "Obserwator jest wzorcem projektowym, który pozwala na subskrypcję obiektów do otrzymywania powiadomień o zmianach stanu innego obiektu, zwanego obiektem obserwowanym. Wzorzec ten pozwala na dynamiczne dodawanie lub usuwanie subskrypcji bez konieczności modyfikowania kodu obiektu obserwowanego.\n",
    "\n",
    "Korzystając z wzorca Obserwatora, można uniknąć tworzenia silnych powiązań między obiektami, które mogą być trudne do utrzymania i rozszerzania. Wzorzec ten jest często stosowany w projektowaniu interfejsów użytkownika, systemach wykrywania zmian w bazie danych, a także w wielu innych sytuacjach, gdzie istnieje potrzeba reagowania na zmiany stanu obiektów."
   ]
  },
  {
   "cell_type": "markdown",
   "id": "50d0d386-6e1c-4b0a-95ca-18b64cd6cd28",
   "metadata": {},
   "source": [
    "![](https://refactoring.guru/images/patterns/diagrams/observer/solution1-en-2x.png)"
   ]
  },
  {
   "cell_type": "markdown",
   "id": "3283b591-6a48-465e-a11c-3696fdaaa838",
   "metadata": {},
   "source": [
    "Obserwator składa się z dwóch głównych składników:\n",
    "\n",
    "- Obiekt obserwowany (`Publisher`) - reprezentuje obiekt, którego stan jest monitorowany przez inne obiekty. Zawiera listę obiektów subskrybujących i metody do dodawania lub usuwania subskrybentów oraz wysyłania powiadomień o zmianie stanu.\n",
    "- Obiekt subskrybujący (`Subscriber`) - reprezentuje obiekt, który jest zainteresowany otrzymywaniem powiadomień o zmianie stanu obiektu obserwowanego. Zawiera metodę aktualizującą, która jest wywoływana przez obiekt obserwowany w celu przekazania powiadomienia."
   ]
  },
  {
   "cell_type": "markdown",
   "id": "ec8f5cab-cafa-450b-a0fe-7807909d7089",
   "metadata": {},
   "source": [
    "![](https://refactoring.guru/images/patterns/diagrams/observer/solution2-en-2x.png)"
   ]
  },
  {
   "cell_type": "code",
   "execution_count": 12,
   "id": "2769b8ac-ce70-4aaa-8687-aed7fca7ab5d",
   "metadata": {},
   "outputs": [],
   "source": [
    "interface Subscriber {\n",
    "    fun update(temperature: Float, humidity: Float, pressure: Float)\n",
    "}\n",
    "\n",
    "interface Publisher {\n",
    "    fun registerSubscriber(subscriber: Subscriber)\n",
    "    fun removeSubscriber(subscriber: Subscriber)\n",
    "    fun notifySubscribers()\n",
    "}"
   ]
  },
  {
   "cell_type": "code",
   "execution_count": 13,
   "id": "3f67007a-48bc-40cc-978f-d323798416c2",
   "metadata": {},
   "outputs": [],
   "source": [
    "class WeatherData : Publisher {\n",
    "    private val subscribers: MutableList<Subscriber> = ArrayList()\n",
    "    private var temperature: Float = 0f\n",
    "    private var humidity: Float = 0f\n",
    "    private var pressure: Float = 0f\n",
    "\n",
    "    override fun registerSubscriber(subscriber: Subscriber) {\n",
    "        subscribers.add(subscriber)\n",
    "    }\n",
    "\n",
    "    override fun removeSubscriber(subscriber: Subscriber) {\n",
    "        val i = subscribers.indexOf(subscriber)\n",
    "        if (i >= 0) {\n",
    "            subscribers.removeAt(i)\n",
    "        }\n",
    "    }\n",
    "\n",
    "    override fun notifySubscribers() {\n",
    "        for (subscriber in subscribers) {\n",
    "            subscriber.update(temperature, humidity, pressure)\n",
    "        }\n",
    "    }\n",
    "\n",
    "    fun setMeasurements(temperature: Float, humidity: Float, pressure: Float) {\n",
    "        this.temperature = temperature\n",
    "        this.humidity = humidity\n",
    "        this.pressure = pressure\n",
    "        measurementsChanged()\n",
    "    }\n",
    "\n",
    "    private fun measurementsChanged() {\n",
    "        notifySubscribers()\n",
    "    }\n",
    "}"
   ]
  },
  {
   "cell_type": "code",
   "execution_count": 14,
   "id": "634dd7f4-e399-4c53-8a80-d145fe2cc577",
   "metadata": {},
   "outputs": [],
   "source": [
    "class CurrentConditionsDisplay (private val weatherData: Publisher) : Subscriber {\n",
    "    private var temperature: Float = 0f\n",
    "    private var humidity: Float = 0f\n",
    "\n",
    "    init {\n",
    "        weatherData.registerSubscriber(this)\n",
    "    }\n",
    "\n",
    "    override fun update(temperature: Float, humidity: Float, pressure: Float) {\n",
    "        this.temperature = temperature\n",
    "        this.humidity = humidity\n",
    "        display()\n",
    "    }\n",
    "\n",
    "    fun display() {\n",
    "        println(\"Current conditions: $temperature F degrees and $humidity % humidity\")\n",
    "    }\n",
    "}"
   ]
  },
  {
   "cell_type": "code",
   "execution_count": 15,
   "id": "7c17310c-de44-4850-ae7d-ae4484e5fb31",
   "metadata": {},
   "outputs": [
    {
     "name": "stdout",
     "output_type": "stream",
     "text": [
      "Current conditions: 80.0 F degrees and 65.0 % humidity\n"
     ]
    }
   ],
   "source": [
    "val weatherData = WeatherData()\n",
    "val currentDisplay = CurrentConditionsDisplay(weatherData)\n",
    "weatherData.setMeasurements(80f, 65f, 30.4f)"
   ]
  },
  {
   "cell_type": "code",
   "execution_count": 16,
   "id": "de082eee-8361-499b-8ada-f89ccf6ca4ad",
   "metadata": {},
   "outputs": [
    {
     "name": "stdout",
     "output_type": "stream",
     "text": [
      "Current conditions: 800.0 F degrees and 65.0 % humidity\n"
     ]
    }
   ],
   "source": [
    "weatherData.setMeasurements(800f, 65f, 30.4f)"
   ]
  },
  {
   "cell_type": "markdown",
   "id": "31f9c7eb-420d-4ba5-aef4-797daae74f16",
   "metadata": {},
   "source": [
    "W powyższym przykładzie, klasa `WeatherData` jest obiektem obserwowanym, który przechowuje listę subskrybentów (obserwatorów) i powiadamia ich o zmianie danych pogodowych. Klasa `CurrentConditionsDisplay` jest przykładem obiektu subskrybującego, który otrzymuje powiadomienie o zmianie danych pogodowych i aktualizuje swój stan zgodnie z nowymi danymi.\n",
    "\n",
    "W przykładzie użycia, tworzymy obiekt `WeatherData` i obiekt `CurrentConditionsDisplay`, który subskrybuje obiekt `WeatherData`. Następnie ustawiamy nowe dane pogodowe za pomocą metody `setMeasurements()` w obiekcie `WeatherData`. Metoda ta powoduje również wysłanie powiadomień do wszystkich subskrybentów, w tym do obiektu `CurrentConditionsDisplay`, który aktualizuje swój stan i wyświetla aktualne warunki pogodowe.\n",
    "\n",
    "W ten sposób, wzorzec **Obserwator** pozwala na **dynamiczne** dodawanie lub usuwanie subskrypcji bez konieczności modyfikowania kodu obiektu obserwowanego. Jest to przydatne w sytuacjach, gdy wiele różnych obiektów potrzebuje reagować na zmiany stanu innego obiektu.\n",
    "\n",
    "W ten sposób, wzorzec **Obserwator** pozwala na rozdzielenie odpowiedzialności pomiędzy obiektami, a także na unikanie tworzenia silnych powiązań między obiektami, co jest szczególnie przydatne w sytuacjach, gdy struktura aplikacji jest skomplikowana i trudna do utrzymania."
   ]
  },
  {
   "cell_type": "markdown",
   "id": "d9678030-a0dc-44a3-92e8-9a5e1b0e02c7",
   "metadata": {},
   "source": [
    "Przykład: `LiveData`, `ViewModel`"
   ]
  },
  {
   "cell_type": "code",
   "execution_count": null,
   "id": "3a6a7150-0ca8-4b2e-9fac-93539985705e",
   "metadata": {},
   "outputs": [],
   "source": [
    "// viewModel\n",
    "private val _score = MutableLiveData(0)\n",
    "val score: LiveData<Int>\n",
    "    get() = _score\n",
    "\n",
    "private val _currentWordCount = MutableLiveData(0)\n",
    "val currentWordCount: LiveData<Int>\n",
    "    get() = _currentWordCount\n",
    "\n",
    "// Fragment\n",
    "viewModel.currentScrambledWord.observe(viewLifecycleOwner) { newWord ->\n",
    "            binding.textViewUnscrambledWord.text = newWord}\n",
    "\n",
    "viewModel.score.observe(viewLifecycleOwner) {score ->\n",
    "    binding.score.text = score.toString()}\n",
    "\n",
    "viewModel.currentWordCount.observe(viewLifecycleOwner) {wordCount ->\n",
    "    binding.wordCount.text = getString(\n",
    "        R.string.word_count, wordCount, MAX_NO_OF_WORDS)}"
   ]
  }
 ],
 "metadata": {
  "kernelspec": {
   "display_name": "Kotlin",
   "language": "kotlin",
   "name": "kotlin"
  },
  "language_info": {
   "codemirror_mode": "text/x-kotlin",
   "file_extension": ".kt",
   "mimetype": "text/x-kotlin",
   "name": "kotlin",
   "nbconvert_exporter": "",
   "pygments_lexer": "kotlin",
   "version": "1.6.20-dev-6372"
  }
 },
 "nbformat": 4,
 "nbformat_minor": 5
}
