{
 "cells": [
  {
   "cell_type": "markdown",
   "id": "da2c30b9-a9b2-461b-84ea-b57df3b4c6aa",
   "metadata": {},
   "source": [
    "# Wykład 4. Wprowadzenie do klas\n",
    "\n",
    "Klasa służy jako szablon do wytwarzania obiektów oraz jako kontener dla aplikacji.\n",
    "\n",
    "## Definiowanie klas\n",
    "\n",
    "W najprostszym przykładzie używamy słowa kluczowego class i podajemy nazwę klasy."
   ]
  },
  {
   "cell_type": "code",
   "execution_count": 1,
   "id": "ea8a9fd5-a9a5-4c96-a01b-0ebf7aca34a0",
   "metadata": {},
   "outputs": [],
   "source": [
    "// java\n",
    "class A{\n",
    "    // ciało klasy\n",
    "}\n",
    "\n",
    "class B{\n",
    "    // ciało klasy\n",
    "}\n",
    "class C{\n",
    "    // ciało klasy\n",
    "}"
   ]
  },
  {
   "cell_type": "code",
   "execution_count": 1,
   "id": "9b40f9c5-b740-4653-8477-83e4b1943622",
   "metadata": {},
   "outputs": [],
   "source": [
    "// kotlin\n",
    "class A{\n",
    "    // ciało klasy\n",
    "}\n",
    "\n",
    "class B{\n",
    "    // ciało klasy\n",
    "}\n",
    "class C{\n",
    "    // ciało klasy\n",
    "}"
   ]
  },
  {
   "cell_type": "markdown",
   "id": "8bf35f53-ab3d-4afc-aa69-9d06ceeb565c",
   "metadata": {},
   "source": [
    "## Atrybuty (pola) klas\n",
    "\n",
    "Java i Kotlin reprezentują stan obiektu poprzez właściwości, które są zmiennymi lub wartościami zdefiniowanymi wewnątrz klasy."
   ]
  },
  {
   "cell_type": "code",
   "execution_count": 2,
   "id": "201c0f65-7746-4cd2-8011-6928ddc1865b",
   "metadata": {},
   "outputs": [],
   "source": [
    "class Student {\n",
    "  final int indexNum = 5;\n",
    "  int year = 3;\n",
    "}"
   ]
  },
  {
   "cell_type": "code",
   "execution_count": 3,
   "id": "ffac2ae9-30b0-4c11-8c19-d749901f2706",
   "metadata": {},
   "outputs": [],
   "source": [
    "class Student {\n",
    "  val indexNum = 5\n",
    "  var year = 3\n",
    "}"
   ]
  },
  {
   "cell_type": "markdown",
   "id": "b37cc525-a600-467c-b110-f2fb75b51a13",
   "metadata": {},
   "source": [
    "## Metody\n",
    "\n",
    "Java/Kotlin reprezentuje zachowanie klasy poprzez zastosowanie metod."
   ]
  },
  {
   "cell_type": "code",
   "execution_count": 6,
   "id": "32d5315a-2dda-45bf-8afa-cc7a5db7be16",
   "metadata": {},
   "outputs": [],
   "source": [
    "class Points {\n",
    "    int points = 0;\n",
    "    final int max = 10;\n",
    "        \n",
    "    public int add (int increase) {\n",
    "        points += increase;\n",
    "        if (points > max)\n",
    "            points = max;\n",
    "        return points;\n",
    "    }\n",
    "}"
   ]
  },
  {
   "cell_type": "code",
   "execution_count": 5,
   "id": "ed981c31-97c2-4bda-ad23-9394fc488275",
   "metadata": {},
   "outputs": [],
   "source": [
    "class Points {\n",
    "    var points = 0\n",
    "    val max = 10\n",
    "    \n",
    "    fun add(increase: Int): Int {\n",
    "        points += increase\n",
    "        if (points > max)\n",
    "            points = max\n",
    "        return points\n",
    "    }\n",
    "}"
   ]
  },
  {
   "cell_type": "markdown",
   "id": "97dc580b-ee89-4ac1-8df0-ac54836626ab",
   "metadata": {},
   "source": [
    "- Klasa - definiuje właściwości (pola) i zachowanie (metody) typu zdefiniowanego przez użytkownika\n",
    "- Member - właściwość lub metoda klasy"
   ]
  },
  {
   "cell_type": "markdown",
   "id": "b848f80f-d102-42c4-b509-8579ce449ed9",
   "metadata": {},
   "source": [
    "## Konstruktor"
   ]
  },
  {
   "cell_type": "markdown",
   "id": "7db5d894-a351-44ec-9092-b93320da3083",
   "metadata": {},
   "source": [
    "Słowo kluczowe `new` przydziela pamięć do przechowywania obiektu, którego typ jest określony przez konstruktor. Następnie ten konstruktor jest wywoływany aby zainicjować obiekt. Po zakończeniu pracy konstruktora `new` zwraca referencję do obiektu aby można było uzyskać do niego dostęp w innym miejscu aplikacji. Konstruktor nie ma nazwy, zamiast tego musi podać nazwę deklarującej klasy. Po tej nazwie znajduje się lista parametrów.\n",
    "Gdy klasa nie deklaruje konstruktora, Java niejawnie tworzy konstruktor dla tej klasy - ten konstruktor jest nazywany konstruktorem domyślnym."
   ]
  },
  {
   "cell_type": "code",
   "execution_count": 8,
   "id": "9ca1984d-39c7-461b-87a3-a5fe968ada87",
   "metadata": {},
   "outputs": [
    {
     "name": "stdout",
     "output_type": "stream",
     "text": [
      " Student ( String name , String grade ) called \n",
      " reading Rafal\n",
      " Student ( String name ) called \n"
     ]
    }
   ],
   "source": [
    "class Student {\n",
    "    \n",
    "    Student ( String name ){\n",
    "        this (name , null );\n",
    "        System.out.println (\" Student ( String name ) called \");\n",
    "    }\n",
    "\n",
    "     Student ( String name , String grade )\n",
    "    {\n",
    "        System.out.println (\" Student ( String name , String grade ) called \");\n",
    "        if ( name != null ) {\n",
    "            System.out.println (\" reading \" + name );\n",
    "            if ( grade != null )\n",
    "            System.out.println (\" interpreting \" + name + \" as storing a \" + grade + \" student \");\n",
    "        }\n",
    "    }\n",
    "}\n",
    "\n",
    "Student student = new Student(\"Rafal\")"
   ]
  },
  {
   "cell_type": "markdown",
   "id": "24c4ccc5-793b-4300-be55-8855c5347cdd",
   "metadata": {},
   "source": [
    "Klasa `Student` najpierw deklaruje konstruktor z jednym parametrem `name`. Niektóre konstruktory wywołują inne konstruktory w celu inicjacji obiektów. Odbywa się to w celu uniknięcia nadmiarowego kodu, który zwiększa rozmiar pliku i niepotrzebnie zabiera pamięć ze sterty, którą można wykorzystać do innych celów. Konstruktor wywołuje inny konstruktor za pomocą słowa kluczowego `this` oraz podając listę parametrów. Wywołanie konstruktora poprzez słowo kluczowe `this` zawsze jest wykonywane jako pierwsze.\n",
    "W ramach metody lub konstruktora, słowo kluczowe `this`, służy jako odwołanie do bieżącego obiektu, którego metoda lub konstruktor jest wywoływany. Korzystając z niego możesz odwołać się do dowolnego elementu bieżącego obiektu."
   ]
  },
  {
   "cell_type": "markdown",
   "id": "98bf87be-ad3b-4ef2-b571-555536bad254",
   "metadata": {},
   "source": [
    "Kotlin posiada dwa typy kontruktorów:\n",
    "- konstruktor główny - może posiadać jeden\n",
    "- konstruktory podrzędne - musi wywołać konstruktor główny"
   ]
  },
  {
   "cell_type": "markdown",
   "id": "3a2d5df7-7897-4eab-a3f1-fa722000d446",
   "metadata": {},
   "source": [
    "### Konstruktor główny"
   ]
  },
  {
   "cell_type": "code",
   "execution_count": 7,
   "id": "47002fb5-ae73-4243-b127-c7d8f4574f16",
   "metadata": {},
   "outputs": [],
   "source": [
    "class Student constructor(val firstName: String, val index: Int) {}\n",
    "\n",
    "class Student (val firstName: String, val index: Int) {}"
   ]
  },
  {
   "cell_type": "markdown",
   "id": "09bab7a6-cde7-4ddc-a6e1-a9c81ed86af9",
   "metadata": {},
   "source": [
    "Główny konstruktor nie może zawierać kodu. Kod inicjacyjny może zostać umieszczony w bloku `init`."
   ]
  },
  {
   "cell_type": "code",
   "execution_count": 2,
   "id": "7ca961e9-c40f-40bd-a053-9c846f655b0d",
   "metadata": {},
   "outputs": [
    {
     "name": "stdout",
     "output_type": "stream",
     "text": [
      "Name = Rafał\n",
      "Index number = 40\n"
     ]
    }
   ],
   "source": [
    "class Student (val name: String, var index: Int) {\n",
    "\n",
    "   // Initializer Block\n",
    "   init {\n",
    "      println(\"Name = $name\")\n",
    "      println(\"Index number = $index\")\n",
    "   }\n",
    "}\n",
    "\n",
    "\n",
    "val student = Student(\"Rafał\", 40)"
   ]
  },
  {
   "cell_type": "markdown",
   "id": "12483fff-cbc4-4d47-88c1-a9598394f2a9",
   "metadata": {},
   "source": [
    "Klasa może posiadać wiele bloków `init`, są one wykonywane w kolejności umieszczenia w klasie."
   ]
  },
  {
   "cell_type": "markdown",
   "id": "e5020c3b-c196-45c8-9bad-dc9a1a666f7c",
   "metadata": {},
   "source": [
    "Mamy możliwość dodania wartości domyślnych do parametrów konstruktora."
   ]
  },
  {
   "cell_type": "code",
   "execution_count": 9,
   "id": "363ba0ee-032c-410e-b483-588ca84b2fa9",
   "metadata": {},
   "outputs": [
    {
     "name": "stdout",
     "output_type": "stream",
     "text": [
      "Name = Rafał\n",
      "Index number = 20\n",
      "Name = Robert\n",
      "Index number = 11\n",
      "Name = none\n",
      "Index number = 20\n"
     ]
    }
   ],
   "source": [
    "class Student (name: String=\"none\", index: Int=20) {\n",
    "\n",
    "   // Initializer Block\n",
    "   init {\n",
    "      println(\"Name = $name\")\n",
    "      println(\"Index number = $index\")\n",
    "   }\n",
    "}\n",
    "\n",
    "\n",
    "val rafal = Student(\"Rafał\")\n",
    "val robert = Student(\"Robert\", 11)\n",
    "val none = Student()"
   ]
  },
  {
   "cell_type": "code",
   "execution_count": 17,
   "id": "6a0c7c2d-7836-4859-be00-2747870d6c36",
   "metadata": {},
   "outputs": [
    {
     "name": "stdout",
     "output_type": "stream",
     "text": [
      "Name = Rafał\n",
      "Index number = 20\n",
      "Name = Robert\n",
      "Index number = 11\n",
      "Name = none\n",
      "Index number = 20\n"
     ]
    }
   ],
   "source": [
    "class NewStudent (private val name: String=\"none\", index: Int=20) {\n",
    "   var index: Int\n",
    "\n",
    "   // Initializer Block\n",
    "   init {\n",
    "      this.index = index\n",
    "      println(\"Name = $name\")\n",
    "      println(\"Index number = $index\")\n",
    "   }\n",
    "}\n",
    "\n",
    "\n",
    "val newRafal = NewStudent(\"Rafał\")\n",
    "val newRobert = NewStudent(\"Robert\", 11)\n",
    "val newNone = NewStudent()"
   ]
  },
  {
   "cell_type": "code",
   "execution_count": 10,
   "id": "5658ec45-ed1d-48d8-b75d-fb9dceb38b21",
   "metadata": {},
   "outputs": [
    {
     "name": "stderr",
     "output_type": "stream",
     "text": [
      "Line_9.jupyter-kts (1:15 - 19) Unresolved reference: name"
     ]
    }
   ],
   "source": [
    "println(rafal.name)"
   ]
  },
  {
   "cell_type": "code",
   "execution_count": 18,
   "id": "029f3a46-81c0-4568-9c99-c0d8091effdb",
   "metadata": {},
   "outputs": [
    {
     "name": "stderr",
     "output_type": "stream",
     "text": [
      "Line_17.jupyter-kts (1:18 - 22) Cannot access 'name': it is private in 'NewStudent'"
     ]
    }
   ],
   "source": [
    "println(newRafal.name)"
   ]
  },
  {
   "cell_type": "markdown",
   "id": "6c9c25f9-578a-4408-aae0-9d3eb40bc962",
   "metadata": {},
   "source": [
    "### Konstruktory drugorzędne"
   ]
  },
  {
   "cell_type": "markdown",
   "id": "027dadaf-0703-43bd-b4fb-311eff17724e",
   "metadata": {},
   "source": [
    "Przy tworzeniu drugorzędnych konstruktorów wymagane jest użycie słowa kluczowego `constructor`."
   ]
  },
  {
   "cell_type": "code",
   "execution_count": 21,
   "id": "00dfc1e7-4912-401c-aa15-c1f76c0f9f08",
   "metadata": {},
   "outputs": [
    {
     "name": "stderr",
     "output_type": "stream",
     "text": [
      "Line_20.jupyter-kts (12:17 - 20) 'var' on secondary constructor parameter is not allowed"
     ]
    }
   ],
   "source": [
    "class Student{\n",
    "   // Member Variables\n",
    "   var name: String\n",
    "   var index: Int\n",
    "\n",
    "   // Initializer Block\n",
    "   init {\n",
    "       println(\"Initializer Block\")\n",
    "   }\n",
    "\n",
    "   // Secondary Constructor\n",
    "   // constructor (val _name: String, var _index: Int)// niedozwolone\n",
    "   constructor (_name: String, _index: Int) {\n",
    "      this.name = _name\n",
    "      this.index = _index\n",
    "      println(\"Name = $name\")\n",
    "      println(\"Index number = $index\")\n",
    "   }\n",
    "}\n",
    "\n",
    "\n",
    "val studeny = Student(\"Rafał\", 40)"
   ]
  },
  {
   "cell_type": "code",
   "execution_count": 23,
   "id": "f2bbee67-0012-44d8-8620-00388c43bdc6",
   "metadata": {},
   "outputs": [
    {
     "name": "stdout",
     "output_type": "stream",
     "text": [
      "Initializer Block\n",
      "Second Initializer Block\n",
      "Name = Rafał\n",
      "Index number = 40\n"
     ]
    }
   ],
   "source": [
    "class Student{\n",
    "\n",
    "   // Initializer Block\n",
    "   init {\n",
    "       println(\"Initializer Block\")\n",
    "   }\n",
    "\n",
    "   // Secondary Constructor\n",
    "   constructor (name: String, index: Int) {\n",
    "      println(\"Name = $name\")\n",
    "      println(\"Index number = $index\")\n",
    "   }\n",
    "   \n",
    "    // Initializer Block\n",
    "   init {\n",
    "       println(\"Second Initializer Block\")\n",
    "   }\n",
    "\n",
    "}\n",
    "\n",
    "\n",
    "val studeny = Student(\"Rafał\", 40)"
   ]
  },
  {
   "cell_type": "code",
   "execution_count": 34,
   "id": "7f0d5f8a-20a8-42be-84aa-2a017584c2f9",
   "metadata": {},
   "outputs": [
    {
     "name": "stdout",
     "output_type": "stream",
     "text": [
      "Initializer Block\n",
      "Name = Rafał\n",
      "Index number = 0\n",
      "Name = Rafał\n",
      "Index number = 40\n"
     ]
    }
   ],
   "source": [
    "class Student3 (val name: String = \"Rafal\"){\n",
    "   // Member Variables\n",
    "   var index: Int = 0\n",
    "\n",
    "   // Initializer Block\n",
    "   init {\n",
    "       println(\"Initializer Block\")\n",
    "       println(\"Name = $name\")\n",
    "       println(\"Index number = $index\")\n",
    "   }\n",
    "\n",
    "   // Secondary Constructor\n",
    "   constructor ( _name: String, _index: Int) : this(_name) {\n",
    "      this.index = _index\n",
    "      println(\"Name = $name\")\n",
    "      println(\"Index number = $index\")\n",
    "   }\n",
    "}\n",
    "\n",
    "val student = Student3(\"Rafał\", 40)"
   ]
  },
  {
   "cell_type": "code",
   "execution_count": 35,
   "id": "a1962a37-9cc8-4f7d-8f38-4ca3542ab282",
   "metadata": {},
   "outputs": [
    {
     "name": "stdout",
     "output_type": "stream",
     "text": [
      "Initializer Block\n",
      "Name = Robert\n",
      "Index number = 0\n",
      "Name = Robert\n",
      "Index number = 80\n",
      "Robert\n"
     ]
    }
   ],
   "source": [
    "val student2 = Student3(\"Robert\", 80)\n",
    "println(student2.name)"
   ]
  },
  {
   "cell_type": "markdown",
   "id": "55c3c16d-f9d9-4654-b392-c5b081b0c583",
   "metadata": {},
   "source": [
    "## Modyfikatory dostępu\n",
    "\n",
    "### Java\n",
    "Każda klasa wystawia interfejs (konstruktory, metody, pola) który jest dostępny z zewnątrz klasy. Projektując klasę jednym z głównych zadań jest stworzenie użytecznego interfejsu jednocześnie ukrywając detale implementacji, które są bez znaczenia dla klientów. Java wspiera ukrywanie implementacji przez udostępnienie czterech poziomów kontroli dostępu (modyfikatorów dostępu).\n",
    "- **public** - pole, metoda lub konstruktor z modyfikatorem publicznym, jest dostępne z każdego miejsca. Klasy również mogą być publiczne, najczęściej są to klasy które powinny być widoczne poza swoim pakietem. Publiczne klasy muszą być zadeklarowane w plikach o takiej samej nazwie.\n",
    "- **protected** - pola, metody i konstruktory klasy oznaczone w ten sposób są dostępne w obrębie pakietu oraz we wszystkich podklasach.\n",
    "- **private** - do pól, metod i konstruktorów prywatnych nie można uzyskać dostępu spoza klasy w której się znajdują\n",
    "- **package-private** - w przypadku braku modyfikatora pola, metody i konstruktory są dostępne dla klas z tego samego pakietu\n",
    "\n",
    "Zazwyczaj deklarujemy pola instancji jako prywatne i dostarczamy odpowiednie metody do zapisywania i odczytywania ich wartości.\n",
    "\n",
    "### Kotlin"
   ]
  },
  {
   "cell_type": "markdown",
   "id": "bda67571-6128-426c-80a6-6fb02f3033c9",
   "metadata": {},
   "source": [
    "- **public** - pole, metoda lub konstruktor z modyfikatorem publicznym, jest dostępne z każdego miejsca - modyfikator domyślny\n",
    "- **protected** - pola, metody i konstruktory klasy oznaczone w ten sposób są dostępne w obrębie klasy oraz we wszystkich podklasach.\n",
    "- **private** - do pól, metod i konstruktorów prywatnych nie można uzyskać dostępu spoza klasy w której się znajdują\n",
    "- **internal** - obiekty widoczne w obrębie modułu lub pakietu"
   ]
  }
 ],
 "metadata": {
  "kernelspec": {
   "display_name": "Kotlin",
   "language": "kotlin",
   "name": "kotlin"
  },
  "language_info": {
   "codemirror_mode": "text/x-kotlin",
   "file_extension": ".kt",
   "mimetype": "text/x-kotlin",
   "name": "kotlin",
   "nbconvert_exporter": "",
   "pygments_lexer": "kotlin",
   "version": "1.8.20"
  }
 },
 "nbformat": 4,
 "nbformat_minor": 5
}
