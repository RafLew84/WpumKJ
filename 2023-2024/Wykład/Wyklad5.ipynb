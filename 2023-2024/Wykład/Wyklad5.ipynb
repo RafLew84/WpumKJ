{
 "cells": [
  {
   "cell_type": "markdown",
   "id": "0c612aa5-0a58-46f8-804e-a6e2888bc1d0",
   "metadata": {},
   "source": [
    "# Wykład 5. Równość obiektów"
   ]
  },
  {
   "cell_type": "markdown",
   "id": "a6047d83-a44a-4a3b-9049-eba747715513",
   "metadata": {},
   "source": [
    "Równość typów prymitywnych w Javie sprawdzamy operatorami `==` i `!=`,dla typów zmiennoprzecinkowych istnieją odpowiednie metody `compare()`"
   ]
  },
  {
   "cell_type": "code",
   "execution_count": 1,
   "id": "a0bbd2d0-d02b-482f-b60b-ad439fb94d8e",
   "metadata": {},
   "outputs": [],
   "source": [
    "// java\n",
    "System.out.println(\"1 == 1 \" + (1 == 1));\n",
    "System.out.println(\"1 != 1 \" + (1 != 1));\n",
    "System.out.println(\"'a' == 'a' \" + ('a' == 'a'));\n",
    "System.out.println(\"'a' != 'a' \" + ('a' != 'a'));\n",
    "System.out.println(\"5.0 == 5.0 \" + (5.0 == 5.0));\n",
    "System.out.println(\"5.0 != 5.0 \" + (5.0 != 5.0));\n",
    "\n",
    "// java\n",
    "System.out.println(\"5.0f == 5.0f \" + Float.compare(5.0f, 5.0f));\n",
    "System.out.println(\"5.0000f == 5.0001f \" + Float.compare(5.0000f, 5.0001f));\n",
    "System.out.println(\"5.0004f == 5.0001f \" + Float.compare(5.0002f, 5.0001f));"
   ]
  },
  {
   "cell_type": "code",
   "execution_count": 2,
   "id": "63e78d4e-9e4c-4afd-bafa-b8e5018ef45b",
   "metadata": {},
   "outputs": [
    {
     "name": "stdout",
     "output_type": "stream",
     "text": [
      "5.0 == 5.0 0\n",
      "5.0000 == 5.0001 -1\n",
      "5.0002 == 5.0001 1\n"
     ]
    }
   ],
   "source": [
    "// java\n",
    "System.out.println(\"5.0 == 5.0 \" + Double.compare(5.0, 5.0));\n",
    "System.out.println(\"5.0000 == 5.0001 \" + Double.compare(5.0000, 5.0001));\n",
    "System.out.println(\"5.0002 == 5.0001 \" + Double.compare(5.0002, 5.0001));"
   ]
  },
  {
   "cell_type": "code",
   "execution_count": 1,
   "id": "ec41e786-f4d3-4e01-b337-283356bbf16d",
   "metadata": {},
   "outputs": [
    {
     "name": "stdout",
     "output_type": "stream",
     "text": [
      "1 == 1 true\n",
      "1 != 1 false\n",
      "'a' == 'a' true\n",
      "'a' != 'a' false\n",
      "5.0 == 5.0 true\n",
      "5.0 != 5.0 false\n"
     ]
    }
   ],
   "source": [
    "// kotlin\n",
    "println(\"1 == 1 \" + (1 == 1))\n",
    "println(\"1 != 1 \" + (1 != 1))\n",
    "println(\"'a' == 'a' \" + ('a' == 'a'))\n",
    "println(\"'a' != 'a' \" + ('a' != 'a'))\n",
    "println(\"5.0 == 5.0 \" + (5.0 == 5.0))\n",
    "println(\"5.0 != 5.0 \" + (5.0 != 5.0))"
   ]
  },
  {
   "cell_type": "code",
   "execution_count": 1,
   "id": "647a9ba9-cca7-45a1-b15c-8a79b416cbe3",
   "metadata": {},
   "outputs": [
    {
     "name": "stdout",
     "output_type": "stream",
     "text": [
      "5.0f == 5.0f 0\n",
      "5.0000f == 5.0001f -1\n",
      "5.0002f == 5.0001f 1\n"
     ]
    }
   ],
   "source": [
    "// kotlin\n",
    "println(\"5.0f == 5.0f \" + 5.0f.compareTo(5.0f))\n",
    "println(\"5.0000f == 5.0001f \" + 5.0000f.compareTo(5.0001f));\n",
    "println(\"5.0002f == 5.0001f \" + 5.0002f.compareTo(5.0001f));"
   ]
  },
  {
   "cell_type": "code",
   "execution_count": 2,
   "id": "26171f97-2535-42d5-862b-e1e78f69775b",
   "metadata": {},
   "outputs": [
    {
     "name": "stdout",
     "output_type": "stream",
     "text": [
      "5.0 == 5.0 0\n",
      "5.0000 == 5.0001 -1\n",
      "5.0002 == 5.0001 1\n"
     ]
    }
   ],
   "source": [
    "println(\"5.0 == 5.0 \" + 5.0.compareTo(5.0))\n",
    "println(\"5.0000 == 5.0001 \" + 5.0000.compareTo(5.0001));\n",
    "println(\"5.0002 == 5.0001 \" + 5.0002.compareTo(5.0001));"
   ]
  },
  {
   "cell_type": "markdown",
   "id": "923d1b24-f4e0-4070-a7f4-e35b3d7b982b",
   "metadata": {},
   "source": [
    "```kotlin\n",
    "operator fun compareTo(other: Byte): Int\n",
    "\n",
    "operator fun compareTo(other: Short): Int\n",
    "\n",
    "operator fun compareTo(other: Int): Int\n",
    "\n",
    "operator fun compareTo(other: Long): Int\n",
    "\n",
    "operator fun compareTo(other: Float): Int\n",
    "\n",
    "operator fun compareTo(other: Double): Int\n",
    "```"
   ]
  },
  {
   "cell_type": "code",
   "execution_count": 4,
   "id": "2dbbbed7-3b1d-45ad-85fe-2b5bef5c332c",
   "metadata": {},
   "outputs": [
    {
     "name": "stdout",
     "output_type": "stream",
     "text": [
      "false\n",
      "true\n"
     ]
    }
   ],
   "source": [
    "// java\n",
    "System.out.println(new String(\"Rafał\") == new String(\"Rafał\"));\n",
    "System.out.println(new String(\"Rafał\").equals(new String(\"Rafał\")));"
   ]
  },
  {
   "cell_type": "code",
   "execution_count": 8,
   "id": "0ef29fb6-ab9c-4e45-b7e6-1d4b20110a3c",
   "metadata": {},
   "outputs": [
    {
     "name": "stdout",
     "output_type": "stream",
     "text": [
      "true\n",
      "true\n"
     ]
    }
   ],
   "source": [
    "// java\n",
    "String stra = \"Rafał\";\n",
    "String strb = \"Rafał\";\n",
    "System.out.println(stra == strb);\n",
    "System.out.println(stra.equals(strb));"
   ]
  },
  {
   "cell_type": "code",
   "execution_count": 9,
   "id": "4dd5ab7c-10f3-4797-a878-b8db1dec3457",
   "metadata": {},
   "outputs": [
    {
     "name": "stdout",
     "output_type": "stream",
     "text": [
      "false\n",
      "true\n"
     ]
    }
   ],
   "source": [
    "// java\n",
    "String stra = new String(\"Rafał\");\n",
    "String strb = new String(\"Rafał\");\n",
    "System.out.println(stra == strb);\n",
    "System.out.println(stra.equals(strb));"
   ]
  },
  {
   "cell_type": "code",
   "execution_count": 1,
   "id": "57e6eaaf-c8a7-4592-8945-cf9e81248bf8",
   "metadata": {},
   "outputs": [
    {
     "name": "stdout",
     "output_type": "stream",
     "text": [
      "true\n",
      "true\n"
     ]
    }
   ],
   "source": [
    "// kotlin\n",
    "var stra = \"Rafa\"\n",
    "var strb = \"Rafa\"\n",
    "\n",
    "println(stra == strb)\n",
    "println(stra === strb)"
   ]
  },
  {
   "cell_type": "code",
   "execution_count": 6,
   "id": "7f319272-4add-4797-8399-8299f574df6b",
   "metadata": {},
   "outputs": [
    {
     "name": "stdout",
     "output_type": "stream",
     "text": [
      "true\n",
      "true\n"
     ]
    }
   ],
   "source": [
    "//var strc = String(\"Rafa\")\n",
    "var stra = String()\n",
    "var strb = String()\n",
    "\n",
    "stra = \"Rafa\"\n",
    "strb = \"Rafa\"\n",
    "\n",
    "println(stra == strb)\n",
    "println(stra === strb)"
   ]
  },
  {
   "cell_type": "markdown",
   "id": "cf700184-291c-422b-a6f0-b88b67f92c50",
   "metadata": {},
   "source": [
    "## Porównanie strukturalne vs porównanie referencyjne"
   ]
  },
  {
   "cell_type": "markdown",
   "id": "eee83b1f-b51b-4dc9-bdbf-2b7786ca9403",
   "metadata": {},
   "source": [
    "Obiekty możemy porównywać za pomocą metody `equals()`, w Kotlinie metoda ta jest niejawnie wywoływana przy użyciu operatora `==`.\n",
    "\n",
    "|    |    |    |\n",
    "|----|----|----|\n",
    "|Java|Kotlin| Porównanie |\n",
    "|`equals()`|`equals()`, `==`| strukturalne |\n",
    "|`==`|`===`| referencyjne |"
   ]
  },
  {
   "cell_type": "markdown",
   "id": "5ad44eed-6ade-4262-8e4e-f85e450ea11b",
   "metadata": {},
   "source": [
    "Metoda `equals()` jest dostępna w klasie `Object` (Java) `Any` (Kotlin). Gdy tworzymy własną klasę możemy tą metodę nadpisać. Jeżeli chcemy posiadać możliwość sprawdzenia równości instancji naszej klasy powinniśmy dostarczyć implementację metody `equals()`. Kotlin dostarcza domyślną implementację.\n",
    "\n",
    "Wymagane cechy:\n",
    "- zwrotność - porównanie obiektu z samym sobą zwraca `true`\n",
    "- symetryczność - jeżeli X jest równy Y to Y jest równy X\n",
    "`X.equals(Y) == Y.equals(X)`\n",
    "- przechodność - jeżeli X jest równy Z i Y jest równy Z, to X jest równy Y\n",
    "`X.equals(Z) == Y.equals(Z) => X.equals(Y)`\n",
    "- spójność - wielokrotne wywołanie metody na tych samych obiektach powinno zwracać ten sam wynik za każdym razem\n",
    "- `null` - porównując obiekt z `null` metoda powinna zwrócić `false`"
   ]
  },
  {
   "cell_type": "code",
   "execution_count": 4,
   "id": "a23a255d-06c7-402f-9c46-46a53b4cee77",
   "metadata": {},
   "outputs": [],
   "source": [
    "// java\n",
    "public class Student15 {\n",
    "    private long studentId;\n",
    "    private String firstName;\n",
    "    private String lastName;\n",
    "    \n",
    "    @Override\n",
    "    public boolean equals(Object o){\n",
    "        if(o == null) \n",
    "            return false;\n",
    "        if(!(o instanceof Student15))\n",
    "            return false;\n",
    "\n",
    "        Student15 other = (Student15) o;\n",
    "        return this.studentId == other.studentId;\n",
    "  }\n",
    "}"
   ]
  },
  {
   "cell_type": "code",
   "execution_count": 6,
   "id": "e18f70c2-2dcf-420e-a711-4f1c3cf0e0ad",
   "metadata": {},
   "outputs": [],
   "source": [
    "// java\n",
    "public class Student16 {\n",
    "    private long studentId;\n",
    "    private String firstName;\n",
    "    private String lastName;\n",
    "    \n",
    "    public Student16(long studentId, String firstName, String lastName){\n",
    "        this.studentId = studentId;\n",
    "        this.firstName = firstName;\n",
    "        this.lastName = lastName;\n",
    "    }\n",
    "    \n",
    "//     @Override\n",
    "//     public boolean equals(Object o){\n",
    "//         if(o == null) \n",
    "//             return false;\n",
    "//         if(!(o instanceof Student16))\n",
    "//             return false;\n",
    "\n",
    "//         Student16 other = (Student16) o;\n",
    "//         if(this.studentId != other.studentId) \n",
    "//             return false;\n",
    "        \n",
    "//         if(! this.firstName.equals(other.firstName)) \n",
    "//             return false;\n",
    "        \n",
    "//         if(! this.lastName.equals(other.lastName)) \n",
    "//             return false;\n",
    "\n",
    "//         return true;\n",
    "//  }\n",
    "}"
   ]
  },
  {
   "cell_type": "code",
   "execution_count": 7,
   "id": "ba042de1-28ea-4cd8-b58e-d1ed936fca6f",
   "metadata": {},
   "outputs": [
    {
     "name": "stdout",
     "output_type": "stream",
     "text": [
      "false\n"
     ]
    }
   ],
   "source": [
    "Student16 studenta = new Student16(1, \"Rafał\", \"Lewandków\");\n",
    "Student16 studentb = new Student16(1, \"Rafał\", \"Lewandków\");\n",
    "System.out.println(studenta.equals(studentb));"
   ]
  },
  {
   "cell_type": "markdown",
   "id": "5286e56a-8d89-439c-afc7-e7ea48321eed",
   "metadata": {},
   "source": [
    "Poza metodą `equals()` drugą metodą pozwalającą porównywać i grupować obiekty jest `hashcode()`. Jeżeli dwa obiekty są równe (`equals` zwraca `true`), to posiadają takie same kody. Jeżeli kody są takie same, obiekty nie zawsze są równe."
   ]
  },
  {
   "cell_type": "code",
   "execution_count": 18,
   "id": "5d66daea-28ab-4dfa-a53d-5af4caad5b28",
   "metadata": {},
   "outputs": [],
   "source": [
    "// java\n",
    "public class Student17 {\n",
    "    private long studentId;\n",
    "    private String firstName;\n",
    "    private String lastName;\n",
    "    \n",
    "    public Student17(long studentId, String firstName, String lastName){\n",
    "        this.studentId = studentId;\n",
    "        this.firstName = firstName;\n",
    "        this.lastName = lastName;\n",
    "    }\n",
    "    \n",
    "    @Override\n",
    "    public boolean equals(Object o){\n",
    "        if(o == null) \n",
    "            return false;\n",
    "        if(!(o instanceof Student17))\n",
    "            return false;\n",
    "\n",
    "        Student17 other = (Student17) o;\n",
    "        if(this.studentId != other.studentId) \n",
    "            return false;\n",
    "        \n",
    "        if(! this.firstName.equals(other.firstName)) \n",
    "            return false;\n",
    "        \n",
    "        if(! this.lastName.equals(other.lastName)) \n",
    "            return false;\n",
    "\n",
    "        return true;\n",
    "    }\n",
    "    \n",
    "    @Override\n",
    "    public int hashCode(){\n",
    "        return (int) employeeId *\n",
    "                firstName.hashCode() *\n",
    "                lastName.hashCode();\n",
    "  }\n",
    "}"
   ]
  },
  {
   "cell_type": "markdown",
   "id": "5ac11df3-2a64-4924-a87f-b953d56e63a4",
   "metadata": {},
   "source": [
    "Domyślna implementacja `hashCode()` nie uwzględnia pól klasy."
   ]
  },
  {
   "cell_type": "markdown",
   "id": "53c7c5d0-3335-431d-bbed-f1e7e0108c49",
   "metadata": {},
   "source": [
    "Domyślna implementacja metody `equals()` klasy `Any` sprawdza czy inny obiekt jest dokładnie tą samą instancją co obiekt sprawdzający. Domyślnie każdy obiekt jest unikalny"
   ]
  },
  {
   "cell_type": "code",
   "execution_count": 3,
   "id": "617fbe05-c5aa-48a5-87a9-657c2805933a",
   "metadata": {},
   "outputs": [
    {
     "name": "stdout",
     "output_type": "stream",
     "text": [
      "true\n",
      "false\n",
      "true\n",
      "\n",
      "true\n",
      "false\n",
      "true\n"
     ]
    }
   ],
   "source": [
    "// kotlin\n",
    "class Name(val name: String)\n",
    "val name1 = Name(\"Rafał\")\n",
    "val name2 = Name(\"Rafał\")\n",
    "val name1Ref = name1\n",
    "\n",
    "println(name1 == name1) // true\n",
    "println(name1 == name2) // false\n",
    "println(name1 == name1Ref) // true\n",
    "\n",
    "println()\n",
    "\n",
    "println(name1 === name1) // true\n",
    "println(name1 === name2) // false\n",
    "println(name1 === name1Ref) // true"
   ]
  },
  {
   "cell_type": "code",
   "execution_count": 5,
   "id": "f6253978-aac5-4d23-a384-8c6376d78d4b",
   "metadata": {},
   "outputs": [
    {
     "name": "stdout",
     "output_type": "stream",
     "text": [
      "true\n",
      "false\n"
     ]
    }
   ],
   "source": [
    "val strA = \"Rafa\"\n",
    "val strB = \"Rafa\"\n",
    "val nameA = Name(\"Rafał\")\n",
    "val nameB = Name(\"Rafał\")\n",
    "\n",
    "println(strA == strB) // true\n",
    "println(nameA == nameB) // false"
   ]
  },
  {
   "cell_type": "markdown",
   "id": "9a0f282c-e5d5-479b-835f-97b05f6a1dae",
   "metadata": {},
   "source": [
    "Jeżeli chcemy reprezentować równość obiektów przez ich zawartość, alternatywą są `data class`."
   ]
  },
  {
   "cell_type": "code",
   "execution_count": 7,
   "id": "26f493fa-bd01-4cc9-889c-aa8bd932811f",
   "metadata": {},
   "outputs": [
    {
     "name": "stdout",
     "output_type": "stream",
     "text": [
      "true\n",
      "true\n",
      "true\n",
      "\n",
      "true\n",
      "false\n",
      "true\n"
     ]
    }
   ],
   "source": [
    "data class Name(val name: String)\n",
    "val name1 = Name(\"Rafał\")\n",
    "val name2 = Name(\"Rafał\")\n",
    "val name1Ref = name1\n",
    "\n",
    "println(name1 == name1) // true\n",
    "println(name1 == name2) // true\n",
    "println(name1 == name1Ref) // true\n",
    "\n",
    "println()\n",
    "\n",
    "println(name1 === name1) // true\n",
    "println(name1 === name2) // false\n",
    "println(name1 === name1Ref) // true"
   ]
  },
  {
   "cell_type": "markdown",
   "id": "44d3f7fc-5505-4a03-bb1c-2b262c1ebad3",
   "metadata": {},
   "source": [
    "Jeżeli nie chcemy porównywać wszystkich właściwości klas, możemy to osiągnąć poprzez zastosowanie `data class` i właściwości konstruktora głównego."
   ]
  },
  {
   "cell_type": "code",
   "execution_count": 13,
   "id": "49b9f9e7-a1f7-4289-b91b-60b6c5ddf23a",
   "metadata": {},
   "outputs": [
    {
     "name": "stdout",
     "output_type": "stream",
     "text": [
      "false\n",
      "false\n"
     ]
    }
   ],
   "source": [
    "class Employee2(\n",
    "    val name: String, \n",
    "    private val id: Int\n",
    "){\n",
    "    var contractStatus: String = \"FAIL\"\n",
    "}\n",
    "\n",
    "var em1 = Employee2(\"Rafał\", 0)\n",
    "var em2 = Employee2(\"Rafał\", 0)\n",
    "\n",
    "println(em1 == em2)\n",
    "println(em1 === em2)"
   ]
  },
  {
   "cell_type": "code",
   "execution_count": 14,
   "id": "5a34883b-1975-4729-b1e5-45d5c9fdd6f5",
   "metadata": {},
   "outputs": [
    {
     "name": "stdout",
     "output_type": "stream",
     "text": [
      "OK\n",
      "FAIL\n"
     ]
    }
   ],
   "source": [
    "em1.contractStatus = \"OK\"\n",
    "\n",
    "println(em1.contractStatus)\n",
    "println(em2.contractStatus)"
   ]
  },
  {
   "cell_type": "code",
   "execution_count": 15,
   "id": "d2897fef-e678-4da4-80e1-07567560b903",
   "metadata": {},
   "outputs": [
    {
     "name": "stdout",
     "output_type": "stream",
     "text": [
      "false\n",
      "false\n"
     ]
    }
   ],
   "source": [
    "println(em1 == em2)\n",
    "println(em1 === em2)"
   ]
  },
  {
   "cell_type": "code",
   "execution_count": 16,
   "id": "f831720f-f814-4182-86cd-0bacb29fb207",
   "metadata": {},
   "outputs": [
    {
     "name": "stdout",
     "output_type": "stream",
     "text": [
      "true\n",
      "false\n"
     ]
    }
   ],
   "source": [
    "data class Employee(\n",
    "    val name: String, \n",
    "    private val id: Int\n",
    "){\n",
    "    var contractStatus: String = \"FAIL\"\n",
    "}\n",
    "\n",
    "var em1 = Employee(\"Rafał\", 0)\n",
    "var em2 = Employee(\"Rafał\", 0)\n",
    "\n",
    "println(em1 == em2) // true\n",
    "println(em1 === em2) // false"
   ]
  },
  {
   "cell_type": "code",
   "execution_count": 17,
   "id": "e0393a0a-7b24-4083-b6d9-2ad083ed992c",
   "metadata": {},
   "outputs": [
    {
     "name": "stdout",
     "output_type": "stream",
     "text": [
      "OK\n",
      "FAIL\n",
      "true\n",
      "false\n"
     ]
    }
   ],
   "source": [
    "em1.contractStatus = \"OK\"\n",
    "\n",
    "println(em1.contractStatus)\n",
    "println(em2.contractStatus)\n",
    "\n",
    "println(em1 == em2) // true\n",
    "println(em1 === em2) // false"
   ]
  },
  {
   "cell_type": "markdown",
   "id": "db1ba6ba-794f-44da-a688-79e510518404",
   "metadata": {},
   "source": [
    "Porównywane są pola zawarte w konstruktorze głównym."
   ]
  },
  {
   "cell_type": "markdown",
   "id": "bfbcb1d6-113e-407c-ad18-a6f7f89925cf",
   "metadata": {},
   "source": [
    "Dzięki posiadaniu `class` i `data class` przez Kotlin, konieczność dostarczenia własnej implementacji metody `equals()` występuje bardzo rzadko."
   ]
  },
  {
   "cell_type": "code",
   "execution_count": 14,
   "id": "8f2a8fa4-1a96-47b3-97b2-279490c0d585",
   "metadata": {},
   "outputs": [],
   "source": [
    "class User(\n",
    "    val id: Int,\n",
    "    val name: String,\n",
    "    val nickName: String\n",
    ") {\n",
    "    override fun equals(other: Any?): Boolean =\n",
    "        other is User && other.id == id\n",
    "\n",
    "    override fun hashCode(): Int = id\n",
    "}"
   ]
  },
  {
   "cell_type": "markdown",
   "id": "6eec7efa-781d-4d8a-a0e6-a9ecb5aeb0d7",
   "metadata": {},
   "source": [
    "Implementacja metody `equals()` jest niezbędna gdy:\n",
    "- porównania obiektów dokonujemy na podstawie podzbioru właściwości\n",
    "- właściwości wykorzystywane do porównania nie są zawarte w konstruktorze głównym"
   ]
  },
  {
   "cell_type": "code",
   "execution_count": 20,
   "id": "79f6846b-4cae-41a9-b0d8-fa55ce442b48",
   "metadata": {},
   "outputs": [
    {
     "name": "stdout",
     "output_type": "stream",
     "text": [
      "FullName(firstName=Rafał, lastName=Lewandków)\n",
      "false\n",
      "true\n"
     ]
    }
   ],
   "source": [
    "data class FullName(\n",
    "    var firstName: String,\n",
    "    var lastName: String\n",
    ")\n",
    "\n",
    "val person = FullName(\"Rafał\", \"Lewa\")\n",
    "val s = mutableSetOf<FullName>()\n",
    "s.add(person)\n",
    "person.lastName = \"Lewandków\"\n",
    "println(person)\n",
    "println(person in s) // false\n",
    "println(s.first() == person) // true\n"
   ]
  },
  {
   "cell_type": "markdown",
   "id": "515261fe-ecdf-43c5-b438-60be6bcec228",
   "metadata": {},
   "source": [
    "Stosowanie mutowalnych obiektów w strukturach danych bazujących na funkcjach hashujących lub organizowanych na podstawie właściwości, jest **niezalecane**."
   ]
  },
  {
   "cell_type": "code",
   "execution_count": 19,
   "id": "f25317e3-e51e-4fc1-8460-3ad0f5fe8d35",
   "metadata": {},
   "outputs": [
    {
     "name": "stdout",
     "output_type": "stream",
     "text": [
      "false\n",
      "true\n"
     ]
    }
   ],
   "source": [
    "class FullName(\n",
    "    var firstName: String,\n",
    "    var lastName: String\n",
    ") {\n",
    "    \n",
    "    // warning: Class has equals() defined but not define hashCode()\n",
    "    override fun equals(other: Any?): Boolean =\n",
    "                other is FullName\n",
    "                && other.firstName == firstName\n",
    "                && other.lastName == lastName\n",
    "    \n",
    "    // override fun hashCode(): Int {\n",
    "    //     return firstName.hashCode() + lastName.hashCode()\n",
    "    // }\n",
    "\n",
    "}\n",
    "\n",
    "val s = mutableSetOf<FullName>()\n",
    "s.add(FullName(\"Rafał\", \"Lewandków\"))\n",
    "val p = FullName(\"Rafał\", \"Lewandków\")\n",
    "println(p in s) // false\n",
    "println(p == s.first()) // true\n"
   ]
  },
  {
   "cell_type": "markdown",
   "id": "0ebcaf52-03ff-41ef-b185-315d93a1ebc2",
   "metadata": {},
   "source": [
    "## 3.4 `compareTo()`"
   ]
  },
  {
   "cell_type": "markdown",
   "id": "609670df-103e-4315-b91e-86348568487f",
   "metadata": {},
   "source": [
    "Operator `compareTo` jest zlokalizowany w interfejsie `Comparable<T>` - jeżeli klasa implementuje ten interfejs oznacza to że posiada naturalny porządek.\n",
    "\n",
    "Podstawowe cechy:\n",
    "- antysymetryczność - jeżeli `a>=b` i `b>=a` to `a==b`\n",
    "- przechodność - jeżeli `a>=b` i `b>=c` to `a>=c`\n",
    "- connex - musi istnieć relacja większościowa pomiędzy dowolnymi dwoma elementami.\n",
    "\n",
    "Konieczność dostarczenia własnej implementacji tej metody występuje bardzo rzadko. Zazwyczaj ustalamy hierarchię porządku."
   ]
  },
  {
   "cell_type": "code",
   "execution_count": 20,
   "id": "497fc93a-caf6-4844-be78-05f7ccfce276",
   "metadata": {},
   "outputs": [
    {
     "name": "stdout",
     "output_type": "stream",
     "text": [
      "Tadeusz Alinowski\n",
      "Amadeusz Baranowski\n",
      "Amadeusz Lewandków\n",
      "\n",
      "Amadeusz Lewandków\n",
      "Amadeusz Baranowski\n",
      "Tadeusz Alinowski\n",
      "\n",
      "Tadeusz Alinowski\n",
      "Amadeusz Baranowski\n",
      "Amadeusz Lewandków\n"
     ]
    }
   ],
   "source": [
    "class User(val firstName: String, val lastName: String)\n",
    "val names = listOf<User>(\n",
    "    User(\"Amadeusz\", \"Lewandków\"), \n",
    "    User(\"Tadeusz\", \"Alinowski\"),\n",
    "    User(\"Amadeusz\", \"Baranowski\"))\n",
    "\n",
    "var sorted = names.sortedBy { it.lastName }\n",
    "for(i in sorted)\n",
    "    println(i.firstName + \" \" + i.lastName)\n",
    "\n",
    "println()\n",
    "    \n",
    "sorted = names.sortedBy { it.firstName }\n",
    "for(i in sorted)\n",
    "    println(i.firstName + \" \" + i.lastName)\n",
    "  \n",
    "println()\n",
    "\n",
    "sorted = names.sortedWith(compareBy({ it.lastName }, { it.firstName }))\n",
    "for(i in sorted)\n",
    "    println(i.firstName + \" \" + i.lastName)"
   ]
  },
  {
   "cell_type": "code",
   "execution_count": null,
   "id": "8ee34e82-ccc0-4237-b5cb-1c28b6c17bfa",
   "metadata": {},
   "outputs": [],
   "source": []
  }
 ],
 "metadata": {
  "kernelspec": {
   "display_name": "Kotlin",
   "language": "kotlin",
   "name": "kotlin"
  },
  "language_info": {
   "codemirror_mode": "text/x-kotlin",
   "file_extension": ".kt",
   "mimetype": "text/x-kotlin",
   "name": "kotlin",
   "nbconvert_exporter": "",
   "pygments_lexer": "kotlin",
   "version": "1.6.20-dev-6372"
  }
 },
 "nbformat": 4,
 "nbformat_minor": 5
}
