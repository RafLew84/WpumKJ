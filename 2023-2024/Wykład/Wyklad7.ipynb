{
 "cells": [
  {
   "cell_type": "markdown",
   "id": "2e889c47-da01-4e88-a74a-8660109da2b3",
   "metadata": {},
   "source": [
    "# Wykład 7 - Operacje na kolekcjach"
   ]
  },
  {
   "cell_type": "markdown",
   "id": "e514780d-0727-4055-9f77-1602cbe7bee0",
   "metadata": {},
   "source": [
    "## Kotlin"
   ]
  },
  {
   "cell_type": "markdown",
   "id": "a5e25898-ff44-4097-8d69-ac9a2a94ace1",
   "metadata": {
    "tags": []
   },
   "source": [
    "### Wyrażenia Lambda"
   ]
  },
  {
   "cell_type": "markdown",
   "id": "511a225a-b1af-4db7-bfab-c7dce9ac3b68",
   "metadata": {},
   "source": [
    "Podstawowa składnia:\n",
    "`val lambdaName : Type = { argumentList -> codeBody }`"
   ]
  },
  {
   "cell_type": "code",
   "execution_count": 1,
   "id": "a43ed267-56d9-4f07-a4d3-24c7b6d63eeb",
   "metadata": {},
   "outputs": [
    {
     "name": "stdout",
     "output_type": "stream",
     "text": [
      "9\n",
      "9\n"
     ]
    }
   ],
   "source": [
    "val square = { number: Int -> number * number }\n",
    "val num = square(3)\n",
    "println(num)\n",
    "\n",
    "fun squareFun(number: Int) = number * number\n",
    "val num2 = squareFun(3)\n",
    "println(num2)"
   ]
  },
  {
   "cell_type": "code",
   "execution_count": 13,
   "id": "78e410aa-b3bf-4f5a-9500-c9507d00c73c",
   "metadata": {},
   "outputs": [
    {
     "name": "stdout",
     "output_type": "stream",
     "text": [
      "200 cm\n",
      "String\n"
     ]
    }
   ],
   "source": [
    "val function = { input : Int ->\n",
    "    val m = input * 100\n",
    "    m.toString()\n",
    "}\n",
    "\n",
    "println(function(2) + \" cm\")\n",
    "println(function(2)::class.simpleName)"
   ]
  },
  {
   "cell_type": "code",
   "execution_count": 16,
   "id": "5623d108-993c-44de-8184-a0f574770bca",
   "metadata": {},
   "outputs": [
    {
     "name": "stdout",
     "output_type": "stream",
     "text": [
      "zaliczone\n",
      "String\n",
      "Boolean\n"
     ]
    }
   ],
   "source": [
    "val calculateGrade = { grade : Int ->\n",
    "    when(grade) {\n",
    "        in 0..5 -> \"niezaliczone\"\n",
    "        in 6..10 -> \"zaliczone\"\n",
    "        else -> false\n",
    "    }\n",
    "}\n",
    "\n",
    "println(calculateGrade(9))\n",
    "println(calculateGrade(9)::class.simpleName)\n",
    "println(calculateGrade(99)::class.simpleName)"
   ]
  },
  {
   "cell_type": "code",
   "execution_count": 67,
   "id": "86488094-0d23-4b56-b0c9-f0461f83d816",
   "metadata": {},
   "outputs": [
    {
     "name": "stdout",
     "output_type": "stream",
     "text": [
      "1\n",
      "2\n",
      "3\n"
     ]
    }
   ],
   "source": [
    "listOf(1, 2, 3).forEach(::println)"
   ]
  },
  {
   "cell_type": "code",
   "execution_count": 256,
   "id": "91de1ad2-ddb2-4581-8b7f-16188d9db03c",
   "metadata": {},
   "outputs": [
    {
     "name": "stdout",
     "output_type": "stream",
     "text": [
      "4\n"
     ]
    }
   ],
   "source": [
    "class MyClass{\n",
    "    fun square(i: Int): Int{return i * i}\n",
    "}\n",
    "val myClass = MyClass()\n",
    "println((myClass::square)(2))"
   ]
  },
  {
   "cell_type": "markdown",
   "id": "0d6468ba-9c69-47d8-be21-d8407c247bae",
   "metadata": {
    "tags": []
   },
   "source": [
    "## Metody transformacji\n",
    "\n",
    "### `foreach`, `removeIf`\n",
    "\n",
    "- `foreach` - `Type.forEach(action: (Type) -> Unit)` - wykonuje zdefiniowaną akcję na każdym elemencie, nie zwraca wartości\n",
    "- `removeIf` - usuwa wszystkie elementy spełniające warunek"
   ]
  },
  {
   "cell_type": "code",
   "execution_count": 20,
   "id": "418593df-6a02-47e0-aff8-79637cb26014",
   "metadata": {},
   "outputs": [
    {
     "name": "stdout",
     "output_type": "stream",
     "text": [
      "4\n",
      "8\n",
      "12\n",
      "16\n",
      "20\n",
      "24\n",
      "4\n",
      "8\n",
      "12\n",
      "16\n",
      "20\n",
      "24\n"
     ]
    }
   ],
   "source": [
    "val array = arrayOf(1, 2, 3, 4, 5, 6)\n",
    "array.forEach { item -> println(item * 4) }\n",
    "array.forEach { println(it * 4) }\n",
    "//array.forEach { it -> println(it * 4) }"
   ]
  },
  {
   "cell_type": "code",
   "execution_count": 1,
   "id": "76a3dbce-3197-454c-9b9d-8db3873e893b",
   "metadata": {},
   "outputs": [
    {
     "name": "stdout",
     "output_type": "stream",
     "text": [
      "4\n",
      "8\n",
      "12\n",
      "16\n",
      "20\n",
      "24\n"
     ]
    }
   ],
   "source": [
    "val array = arrayListOf(1, 2, 3, 4, 5, 6)\n",
    "array.forEach { println(it * 4) }"
   ]
  },
  {
   "cell_type": "code",
   "execution_count": 2,
   "id": "b7e9d518-185f-4d40-b7ba-7efce8c0ca1f",
   "metadata": {},
   "outputs": [
    {
     "name": "stdout",
     "output_type": "stream",
     "text": [
      "[1, 3, 5]\n"
     ]
    }
   ],
   "source": [
    "array.removeIf {(it % 2 == 0)}\n",
    "println(array)"
   ]
  },
  {
   "cell_type": "code",
   "execution_count": 5,
   "id": "190415af-5545-4c91-a262-50b7ffc0046d",
   "metadata": {},
   "outputs": [
    {
     "name": "stdout",
     "output_type": "stream",
     "text": [
      "100\n",
      "300\n",
      "500\n"
     ]
    }
   ],
   "source": [
    "array.forEach { \n",
    "    val a = it * 100\n",
    "    println(a) \n",
    "}"
   ]
  },
  {
   "cell_type": "markdown",
   "id": "15ba7d64-2501-4696-afd7-8c6d742e62a0",
   "metadata": {},
   "source": [
    "### `forEach`, `forEachIndexed`, `map`\n",
    "\n",
    "- `forEachIndexed` - `ByteArray.forEachIndexed(action: (index: Int, Byte) -> Unit)` - wykonuje zdefiniowaną akcję na każdym elemencie, zapewnia dostęp do indeksu (sekwencyjny)\n",
    "\n",
    "- `map` - wykonuje zdefiniowaną akcję na każdym elemencie, rezultat zwraca w liście"
   ]
  },
  {
   "cell_type": "code",
   "execution_count": 16,
   "id": "53de8d61-7774-46ce-9ad8-1ccf5cb59fab",
   "metadata": {},
   "outputs": [
    {
     "name": "stdout",
     "output_type": "stream",
     "text": [
      "names[0] = Rafał\n",
      "names[1] = Robert\n",
      "names[2] = Ania\n",
      "names[3] = Paweł\n",
      "names[4] = Roman\n",
      "names[5] = Radek\n",
      "names[6] = Renata\n"
     ]
    }
   ],
   "source": [
    "val names = listOf(\"Rafał\", \"Robert\", \"Ania\", \"Paweł\", \n",
    "                   \"Roman\", \"Radek\", \"Renata\")\n",
    "\n",
    "names.forEachIndexed({i, v -> println(\"names[$i] = $v\")})"
   ]
  },
  {
   "cell_type": "code",
   "execution_count": 19,
   "id": "1fa25c70-b7a0-4bee-95d8-7c6de0f1bfe2",
   "metadata": {},
   "outputs": [
    {
     "name": "stdout",
     "output_type": "stream",
     "text": [
      "Rafał Robert Ania Paweł Roman Radek Renata "
     ]
    }
   ],
   "source": [
    "names.forEach {print(\"$it \")}"
   ]
  },
  {
   "cell_type": "code",
   "execution_count": 7,
   "id": "bbb32fc4-ceb6-45f5-b8a4-9291ae628438",
   "metadata": {},
   "outputs": [
    {
     "name": "stdout",
     "output_type": "stream",
     "text": [
      "[1, 4, 9]\n",
      "kotlin.Unit\n"
     ]
    }
   ],
   "source": [
    "val numbers = listOf(1, 2, 3)\n",
    "println(numbers.map { it * it })\n",
    "println(numbers.forEach { it * it })"
   ]
  },
  {
   "cell_type": "code",
   "execution_count": 8,
   "id": "fa17f3b1-9d0f-4b99-82d8-2dc4828f2831",
   "metadata": {},
   "outputs": [
    {
     "name": "stdout",
     "output_type": "stream",
     "text": [
      "[1, 4, 9]\n",
      "kotlin.Unit\n",
      "[1, 2, 3]\n"
     ]
    }
   ],
   "source": [
    "val m = numbers.map { it * it }\n",
    "val f = numbers.forEach { it * it }\n",
    "println(m)\n",
    "println(f)\n",
    "println(numbers)"
   ]
  },
  {
   "cell_type": "markdown",
   "id": "f5208cb2-06b5-451f-a486-8a9a4118380b",
   "metadata": {},
   "source": [
    "### `filter`\n",
    "\n",
    "- zwraca listę zawierającą tylko elementy pasujące do podanego predykatu (funkcje lambda, które pobierają element kolekcji i zwracają wartość logiczną)."
   ]
  },
  {
   "cell_type": "code",
   "execution_count": 10,
   "id": "b877f1f8-ebdf-4568-bec5-ec997c5457b3",
   "metadata": {},
   "outputs": [
    {
     "name": "stdout",
     "output_type": "stream",
     "text": [
      "[Robert, Renata]\n"
     ]
    }
   ],
   "source": [
    "val names = listOf(\"Rafał\", \"Robert\", \"Ania\", \"Paweł\", \n",
    "                   \"Roman\", \"Radek\", \"Renata\")\n",
    "println(names.filter { it.length > 5 })"
   ]
  },
  {
   "cell_type": "code",
   "execution_count": 11,
   "id": "56b658c7-b680-425a-9139-bbe9f7381329",
   "metadata": {},
   "outputs": [
    {
     "name": "stdout",
     "output_type": "stream",
     "text": [
      "[Ania, Paweł, Roman, Radek]\n"
     ]
    }
   ],
   "source": [
    "println(names.filterIndexed { i, v -> (i != 0) && (v.length < 6)  })"
   ]
  },
  {
   "cell_type": "code",
   "execution_count": 12,
   "id": "372bddeb-5e96-4698-9dd6-815883849533",
   "metadata": {},
   "outputs": [
    {
     "name": "stdout",
     "output_type": "stream",
     "text": [
      "[Robert, Renata]\n",
      "[Rafał, Ania, Paweł, Roman, Radek]\n",
      "[Rafał, Robert, Ania, Paweł, Roman, Radek, Renata]\n"
     ]
    }
   ],
   "source": [
    "println(names.filter { it.length > 5 })\n",
    "println(names.filterNot { it.length > 5 })\n",
    "println(names)"
   ]
  },
  {
   "cell_type": "code",
   "execution_count": 36,
   "id": "2fc64f4c-3329-431f-9fd1-df6f5b975851",
   "metadata": {},
   "outputs": [
    {
     "name": "stdout",
     "output_type": "stream",
     "text": [
      "TWO\n",
      "FOUR\n"
     ]
    }
   ],
   "source": [
    "val numbers = listOf(null, 1, \"two\", 3.0, \"four\")\n",
    "numbers\n",
    "    .filterIsInstance<String>()\n",
    "    .forEach {\n",
    "    println(it.uppercase())\n",
    "}"
   ]
  },
  {
   "cell_type": "code",
   "execution_count": 37,
   "id": "79517388-750c-471c-859a-ff3b85918bac",
   "metadata": {},
   "outputs": [
    {
     "name": "stdout",
     "output_type": "stream",
     "text": [
      "1 two 3.0 four "
     ]
    }
   ],
   "source": [
    "numbers.filterNotNull().forEach {\n",
    "    print(\"$it \")\n",
    "}"
   ]
  },
  {
   "cell_type": "code",
   "execution_count": 39,
   "id": "1c742e1e-a6f6-4845-88a8-ca3a54e1cb60",
   "metadata": {},
   "outputs": [
    {
     "name": "stdout",
     "output_type": "stream",
     "text": [
      "3\n",
      "4\n"
     ]
    }
   ],
   "source": [
    "numbers.filterNotNull().filterIsInstance<String>().forEach {\n",
    "    println(it.length)\n",
    "}"
   ]
  },
  {
   "cell_type": "markdown",
   "id": "d163b98b-0366-4b75-9316-551ef71e8613",
   "metadata": {},
   "source": [
    "### `partition`\n",
    "\n",
    "- dzieli oryginalną kolekcję na parę list, gdzie pierwsza lista zawiera elementy, dla których predykat jest spełniony, druga lista zawiera pozostałe elementy"
   ]
  },
  {
   "cell_type": "code",
   "execution_count": null,
   "id": "67b79e79-aa23-467a-a123-3402519197f3",
   "metadata": {},
   "outputs": [
    {
     "name": "stdout",
     "output_type": "stream",
     "text": [
      "[three, four]\n",
      "[one, two]\n"
     ]
    }
   ],
   "source": [
    "val numbers = listOf(\"one\", \"two\", \"three\", \"four\")\n",
    "val (match, rest) = numbers.partition { it.length > 3 }\n",
    "\n",
    "println(match)\n",
    "println(rest)"
   ]
  },
  {
   "cell_type": "code",
   "execution_count": 43,
   "id": "3199cb4a-0652-4d66-a0ab-425932b27aaf",
   "metadata": {},
   "outputs": [
    {
     "name": "stdout",
     "output_type": "stream",
     "text": [
      "true\n"
     ]
    }
   ],
   "source": [
    "println(numbers.any { it.endsWith(\"e\") })"
   ]
  },
  {
   "cell_type": "markdown",
   "id": "bdcfd05b-0102-4213-8a19-34c8f49f2cd7",
   "metadata": {},
   "source": [
    "### `groupBy`\n",
    "\n",
    "- Grupuje elementy oryginalnej tablicy według klucza zwróconego przez daną funkcję `keySelector` zastosowaną do każdego elementu i zwraca mapę, w której każdy klucz grupy jest skojarzony z listą odpowiednich elementów. Zwrócona mapa zachowuje kolejność iteracji wpisów kluczy utworzonych z oryginalnej tablicy."
   ]
  },
  {
   "cell_type": "code",
   "execution_count": 44,
   "id": "68566b7f-03bd-4af2-a9c7-40ca871eb32a",
   "metadata": {},
   "outputs": [
    {
     "name": "stdout",
     "output_type": "stream",
     "text": [
      "{o=[one], t=[two, three], f=[four, five]}\n"
     ]
    }
   ],
   "source": [
    "val numbers = listOf(\"one\", \"two\", \"three\", \"four\", \"five\")\n",
    "\n",
    "println(numbers.groupBy { it.first() })"
   ]
  },
  {
   "cell_type": "code",
   "execution_count": 45,
   "id": "f1a505ce-5c88-428d-88ef-55bc14e3d135",
   "metadata": {},
   "outputs": [
    {
     "name": "stdout",
     "output_type": "stream",
     "text": [
      "{O=[ONE], T=[TWO, THREE], F=[FOUR, FIVE]}\n"
     ]
    }
   ],
   "source": [
    "println(numbers.groupBy(\n",
    "    keySelector = { it.first().uppercase() }, \n",
    "    valueTransform = { it.uppercase() }))"
   ]
  },
  {
   "cell_type": "code",
   "execution_count": 56,
   "id": "7199b273-bdd3-4066-91a3-f3a531fdb217",
   "metadata": {},
   "outputs": [
    {
     "name": "stdout",
     "output_type": "stream",
     "text": [
      "{o=1, t=2, f=2, s=1}\n"
     ]
    }
   ],
   "source": [
    "val numbers = listOf(\"one\", \"two\", \"three\", \"four\", \"five\", \"six\")\n",
    "println(numbers.groupingBy { it.first() }.eachCount())"
   ]
  },
  {
   "cell_type": "markdown",
   "id": "f847f588-1de0-4749-b62e-053c4e21377a",
   "metadata": {},
   "source": [
    "### `take`, `slice`, `drop`\n",
    "\n",
    "- `take` - zwraca listę pierwszych `n` elementów\n",
    "- `slice` - zwraca listę elementów kolekcji z podanymi indeksami. Indeksy mogą być przekazywane jako zakres lub zbiór wartości całkowitych\n",
    "- `drop` - zwraca listę zawierające wszystkie elementy oprócz pierwszych `n` elemntów"
   ]
  },
  {
   "cell_type": "code",
   "execution_count": 46,
   "id": "0ba7d374-01f9-4a8f-8e77-7680740ffe09",
   "metadata": {},
   "outputs": [
    {
     "name": "stdout",
     "output_type": "stream",
     "text": [
      "[two, three, four]\n",
      "[one, three, five]\n",
      "[four, six, one]\n"
     ]
    }
   ],
   "source": [
    "val numbers = listOf(\"one\", \"two\", \"three\", \"four\", \"five\", \"six\")\n",
    "println(numbers.slice(1..3))\n",
    "println(numbers.slice(0..4 step 2))\n",
    "println(numbers.slice(setOf(3, 5, 0)))   "
   ]
  },
  {
   "cell_type": "code",
   "execution_count": 58,
   "id": "77b3ebfb-1e0e-460b-aa69-a0ed8a13070d",
   "metadata": {},
   "outputs": [
    {
     "name": "stdout",
     "output_type": "stream",
     "text": [
      "[one, two, three]\n",
      "[four, five, six]\n",
      "[two, three, four, five, six]\n",
      "[one]\n"
     ]
    }
   ],
   "source": [
    "println(numbers.take(3))\n",
    "println(numbers.takeLast(3))\n",
    "println(numbers.drop(1))\n",
    "println(numbers.dropLast(5))"
   ]
  },
  {
   "cell_type": "code",
   "execution_count": 48,
   "id": "cc0fd55b-5b68-4860-81ca-e4200f4f3c8f",
   "metadata": {},
   "outputs": [
    {
     "name": "stdout",
     "output_type": "stream",
     "text": [
      "[one]\n",
      "[four, five, six]\n"
     ]
    }
   ],
   "source": [
    "println(numbers.takeWhile { !it.startsWith('t') })\n",
    "println(numbers.takeLastWhile { it != \"three\" })"
   ]
  },
  {
   "cell_type": "markdown",
   "id": "28f0a3fc-b5dc-4802-ac5b-272b8b104d9b",
   "metadata": {},
   "source": [
    "### `chunked`, `windowed`\n",
    "\n",
    "- `chunked` - Dzieli tę kolekcję na listę list, z których każda nie przekracza podanego rozmiaru. Ostatnia lista na liście wynikowej może mieć mniej elementów niż podany rozmiar.\n",
    "- `windowed` - Zwraca listę list o danym rozmiarze przesuwaną wzdłuż tej kolekcji z podanym krokiem. Kilka ostatnich list może mieć mniej elementów niż podany rozmiar. Zarówno rozmiar, jak i krok muszą być dodatnie i mogą być większe niż liczba elementów w tej kolekcji."
   ]
  },
  {
   "cell_type": "code",
   "execution_count": 61,
   "id": "59b7b805-1301-447a-bfd7-01f529346152",
   "metadata": {},
   "outputs": [
    {
     "name": "stdout",
     "output_type": "stream",
     "text": [
      "[[0, 1, 2], [3, 4, 5], [6, 7, 8], [9, 10, 11], [12, 13]]\n"
     ]
    }
   ],
   "source": [
    "val numbers = (0..13).toList()\n",
    "println(numbers.chunked(3))"
   ]
  },
  {
   "cell_type": "code",
   "execution_count": 62,
   "id": "13f2b75c-11fc-4482-8d28-3a5485ea4228",
   "metadata": {},
   "outputs": [
    {
     "name": "stdout",
     "output_type": "stream",
     "text": [
      "[3, 12, 21, 30, 25]\n"
     ]
    }
   ],
   "source": [
    "val numbers = (0..13).toList() \n",
    "println(numbers.chunked(3) { it.sum() })"
   ]
  },
  {
   "cell_type": "code",
   "execution_count": 63,
   "id": "13d3e151-75eb-448b-a090-75728cf177da",
   "metadata": {},
   "outputs": [
    {
     "name": "stdout",
     "output_type": "stream",
     "text": [
      "[[one, two, three], [two, three, four], [three, four, five]]\n"
     ]
    }
   ],
   "source": [
    "val numbers = listOf(\"one\", \"two\", \"three\", \"four\", \"five\")    \n",
    "println(numbers.windowed(3))"
   ]
  },
  {
   "cell_type": "code",
   "execution_count": 260,
   "id": "42cbeeb2-81dc-435e-963a-f80a134b716b",
   "metadata": {},
   "outputs": [
    {
     "name": "stdout",
     "output_type": "stream",
     "text": [
      "[[1, 2, 3], [3, 4, 5], [5, 6, 7], [7, 8, 9], [9, 10]]\n",
      "[6, 9, 12, 15, 18, 21, 24, 27]\n"
     ]
    }
   ],
   "source": [
    "val numbers = (1..10).toList()\n",
    "println(numbers.windowed(3, step = 2, partialWindows = true))\n",
    "println(numbers.windowed(3) { it.sum() })"
   ]
  },
  {
   "cell_type": "markdown",
   "id": "dbc51db5-0fdd-4bec-8331-7d6c686084fd",
   "metadata": {},
   "source": [
    "### `zip`, `first`, `last`, `find`\n",
    "\n",
    "- `zip` - Zwraca listę par zbudowanych z elementów tej tablicy i drugiej tablicy o tym samym indeksie. Zwracana lista ma długość najkrótszego zbioru.\n",
    "- `first` - zwraca pierwszy element spełniający warunek\n",
    "- `last` - zwraca ostatni element spełniający warunek\n",
    "- `find` - Zwraca pierwszy element pasujący do podanego predykatu lub null, jeśli nie znaleziono takiego elementu."
   ]
  },
  {
   "cell_type": "code",
   "execution_count": 68,
   "id": "30dc7778-e6d2-4e9e-9651-6e4ff9c5e089",
   "metadata": {},
   "outputs": [
    {
     "name": "stdout",
     "output_type": "stream",
     "text": [
      "[(one, two), (two, three), (three, four), (four, five)]\n",
      "[false, false, true, false]\n"
     ]
    }
   ],
   "source": [
    "val numbers = listOf(\"one\", \"two\", \"three\", \"four\", \"five\")    \n",
    "println(numbers.zipWithNext()) // Tworzy obiekty Pair\n",
    "println(numbers.zipWithNext() { s1, s2 -> s1.length > s2.length})"
   ]
  },
  {
   "cell_type": "code",
   "execution_count": 74,
   "id": "f85fd136-1f3e-4c3d-8ae6-c3203048fbcb",
   "metadata": {},
   "outputs": [
    {
     "name": "stdout",
     "output_type": "stream",
     "text": [
      "three\n",
      "five\n"
     ]
    }
   ],
   "source": [
    "val numbers = listOf(\"one\", \"two\", \"three\", \"four\", \"five\", \"six\")\n",
    "println(numbers.first { it.length > 3 })\n",
    "println(numbers.last { it.startsWith(\"f\") })"
   ]
  },
  {
   "cell_type": "code",
   "execution_count": 70,
   "id": "09588596-3a00-4ca9-aed3-5c7b1ccf300d",
   "metadata": {},
   "outputs": [
    {
     "name": "stdout",
     "output_type": "stream",
     "text": [
      "null\n"
     ]
    }
   ],
   "source": [
    "val numbers = listOf(\"one\", \"two\", \"three\", \"four\", \"five\", \"six\")\n",
    "println(numbers.firstOrNull { it.length > 6 })"
   ]
  },
  {
   "cell_type": "code",
   "execution_count": 50,
   "id": "41d8d8a6-585a-4689-900a-c1e24d8936cc",
   "metadata": {},
   "outputs": [
    {
     "name": "stdout",
     "output_type": "stream",
     "text": [
      "2\n",
      "4\n"
     ]
    }
   ],
   "source": [
    "val numbers = listOf(1, 2, 3, 4)\n",
    "println(numbers.find { it % 2 == 0 })\n",
    "println(numbers.findLast { it % 2 == 0 })"
   ]
  },
  {
   "cell_type": "code",
   "execution_count": 76,
   "id": "8341a1cf-7a6a-42d9-a24d-7ba6c6cbc27b",
   "metadata": {},
   "outputs": [
    {
     "name": "stdout",
     "output_type": "stream",
     "text": [
      "true\n"
     ]
    }
   ],
   "source": [
    "val list = listOf<Any>(0, \"true\", false)\n",
    "val longEnough = list.firstNotNullOf { item -> item.toString().takeIf { it.length >= 4 } } // pierwsza wartość która nie jest null\n",
    "println(longEnough)"
   ]
  },
  {
   "cell_type": "code",
   "execution_count": 13,
   "id": "53e3f0af-1603-4f60-921d-b377375d686d",
   "metadata": {},
   "outputs": [
    {
     "name": "stdout",
     "output_type": "stream",
     "text": [
      "true\n"
     ]
    }
   ],
   "source": [
    "val list = listOf<Any>(0, \"true\", false)\n",
    "val longEnough = list\n",
    "    .firstNotNullOfOrNull { item -> item.toString()\n",
    "    .takeIf { it.length >= 2 } }\n",
    "println(longEnough)"
   ]
  },
  {
   "cell_type": "markdown",
   "id": "7686c333-73d8-4193-bca5-6bdbb6bcdded",
   "metadata": {},
   "source": [
    "### `compare`"
   ]
  },
  {
   "cell_type": "code",
   "execution_count": 58,
   "id": "7c388746-c2e4-4be7-9ab0-1b2fe8efbde9",
   "metadata": {},
   "outputs": [
    {
     "name": "stdout",
     "output_type": "stream",
     "text": [
      "[c, bb, aaa]\n"
     ]
    }
   ],
   "source": [
    "println(listOf(\"aaa\", \"bb\", \"c\").sortedWith(compareBy { it.length }))"
   ]
  },
  {
   "cell_type": "code",
   "execution_count": 80,
   "id": "8200b720-f77b-4101-b856-6288b146df50",
   "metadata": {},
   "outputs": [
    {
     "name": "stdout",
     "output_type": "stream",
     "text": [
      "Count: 4\n",
      "Max: 42\n",
      "Min: 4\n",
      "Average: 15.5\n",
      "Sum: 62\n"
     ]
    }
   ],
   "source": [
    "val numbers = listOf(6, 42, 10, 4)\n",
    "\n",
    "println(\"Count: ${numbers.count()}\")\n",
    "println(\"Max: ${numbers.maxOrNull()}\")\n",
    "println(\"Min: ${numbers.minOrNull()}\")\n",
    "println(\"Average: ${numbers.average()}\")\n",
    "println(\"Sum: ${numbers.sum()}\")"
   ]
  },
  {
   "cell_type": "code",
   "execution_count": 81,
   "id": "dc73cfce-8c40-4867-9cfa-fa472b36ffb2",
   "metadata": {},
   "outputs": [
    {
     "name": "stdout",
     "output_type": "stream",
     "text": [
      "three\n"
     ]
    }
   ],
   "source": [
    "val strings = listOf(\"one\", \"two\", \"three\", \"four\")\n",
    "val longestString = strings.maxWithOrNull(compareBy { it.length })\n",
    "println(longestString)"
   ]
  },
  {
   "cell_type": "code",
   "execution_count": 59,
   "id": "932bf57e-60a4-4bd3-a9c9-d6ad3b7f26e7",
   "metadata": {},
   "outputs": [
    {
     "name": "stdout",
     "output_type": "stream",
     "text": [
      "122\n",
      "30.5\n"
     ]
    }
   ],
   "source": [
    "val numbers = listOf(5, 42, 10, 4)\n",
    "println(numbers.sumOf { it * 2 })\n",
    "println(numbers.sumOf { it.toDouble() / 2 })"
   ]
  },
  {
   "cell_type": "markdown",
   "id": "2ccf24db-bade-4172-b699-19a87bb1ba02",
   "metadata": {},
   "source": [
    "### `fold`, `reduce`\n",
    "\n",
    "- `fold` - Kumuluje wartość zaczynając od wartości początkowej, stosując operację od lewej do prawej, do bieżącej wartości kumulowanej i każdego elementu. Zwraca wartość początkową, jeśli tablica jest pusta.\n",
    "- `reduce` - Kumuluje wartość zaczynając od pierwszego elementu, stosując operację od lewej do prawej, do bieżącej wartości kumulowanej i każdego elementu."
   ]
  },
  {
   "cell_type": "code",
   "execution_count": 17,
   "id": "a692e8ee-3498-4fc4-bf06-b32fa1e0a2bf",
   "metadata": {},
   "outputs": [
    {
     "name": "stdout",
     "output_type": "stream",
     "text": [
      "21\n"
     ]
    }
   ],
   "source": [
    "val numbers = listOf(5, 2, 10, 4)\n",
    "\n",
    "val simpleSum = numbers.reduce { sum, element -> sum + element }\n",
    "println(simpleSum)"
   ]
  },
  {
   "cell_type": "code",
   "execution_count": 93,
   "id": "53e9ab91-4679-41ad-8a9d-f4134008c9c1",
   "metadata": {},
   "outputs": [
    {
     "name": "stdout",
     "output_type": "stream",
     "text": [
      "abcd\n",
      "ab1c2d3\n"
     ]
    }
   ],
   "source": [
    "val strings = listOf(\"a\", \"b\", \"c\", \"d\")\n",
    "println(strings.reduce { acc, string -> acc + string })\n",
    "println(strings.reduceIndexed { index, acc, string -> acc + string + index })"
   ]
  },
  {
   "cell_type": "code",
   "execution_count": 31,
   "id": "8d89a552-5636-436d-a341-283196b70518",
   "metadata": {},
   "outputs": [
    {
     "name": "stdout",
     "output_type": "stream",
     "text": [
      "4\n"
     ]
    }
   ],
   "source": [
    "val numbers = listOf(1, 1, 1, 1)\n",
    "\n",
    "val simpleSum = numbers.fold(0) { sum, element -> sum + element }\n",
    "println(simpleSum)"
   ]
  },
  {
   "cell_type": "code",
   "execution_count": 28,
   "id": "aba24b1d-21d0-45e0-8195-d2654f95ea90",
   "metadata": {},
   "outputs": [
    {
     "name": "stdout",
     "output_type": "stream",
     "text": [
      "4\n"
     ]
    }
   ],
   "source": [
    "val simpleSum = numbers.reduce { sum, element -> sum + element }\n",
    "println(simpleSum)"
   ]
  },
  {
   "cell_type": "code",
   "execution_count": 38,
   "id": "206bfebe-31f9-4e55-9916-b63d91f1c44b",
   "metadata": {},
   "outputs": [
    {
     "name": "stdout",
     "output_type": "stream",
     "text": [
      "8\n"
     ]
    }
   ],
   "source": [
    "val numbers = listOf(1, 1, 1, 1)\n",
    "\n",
    "val simpleSum = numbers.fold(0) { sum, element -> sum + (element * 2) }\n",
    "println(simpleSum)"
   ]
  },
  {
   "cell_type": "code",
   "execution_count": 39,
   "id": "ebc72b44-695c-4ecc-a708-588c5097272e",
   "metadata": {},
   "outputs": [
    {
     "name": "stdout",
     "output_type": "stream",
     "text": [
      "7\n"
     ]
    }
   ],
   "source": [
    "val simpleSum = numbers.reduce { sum, element -> sum + (element * 2) }\n",
    "println(simpleSum)"
   ]
  },
  {
   "cell_type": "code",
   "execution_count": 97,
   "id": "6a1b1d4e-b204-4c60-9cfe-437a1f217436",
   "metadata": {},
   "outputs": [
    {
     "name": "stdout",
     "output_type": "stream",
     "text": [
      "abcd\n",
      "a0b1c2d3\n"
     ]
    }
   ],
   "source": [
    "val strings = listOf(\"a\", \"b\", \"c\", \"d\")\n",
    "println(strings.fold(\"\") { acc, string -> acc + string })\n",
    "println(strings.foldIndexed(\"\") { index, acc, string -> acc + string + index })"
   ]
  },
  {
   "cell_type": "code",
   "execution_count": 40,
   "id": "01b1aa09-c25e-449b-a6a2-14ebc0a862af",
   "metadata": {},
   "outputs": [
    {
     "name": "stdout",
     "output_type": "stream",
     "text": [
      "15\n",
      "15\n"
     ]
    }
   ],
   "source": [
    "val numbers = listOf(5, 2, 10, 4)\n",
    "val sumEven = numbers.foldIndexed(0) { idx, sum, element -> if (idx % 2 == 0) sum + element else sum }\n",
    "println(sumEven)\n",
    "\n",
    "val sumEvenRight = numbers.foldRightIndexed(0) { idx, element, sum -> if (idx % 2 == 0) sum + element else sum }\n",
    "println(sumEvenRight)"
   ]
  },
  {
   "cell_type": "code",
   "execution_count": 41,
   "id": "82fd2378-f01b-4681-98e3-1aaa26728c9b",
   "metadata": {},
   "outputs": [
    {
     "name": "stdout",
     "output_type": "stream",
     "text": [
      "15\n",
      "19\n"
     ]
    }
   ],
   "source": [
    "val numbers = listOf(5, 2, 10, 4)\n",
    "val sumEven = numbers.reduceIndexed { idx, sum, element -> if (idx % 2 == 0) sum + element else sum }\n",
    "println(sumEven)\n",
    "\n",
    "val sumEvenRight = numbers.reduceRightIndexed { idx, element, sum -> if (idx % 2 == 0) sum + element else sum }\n",
    "println(sumEvenRight)"
   ]
  },
  {
   "cell_type": "code",
   "execution_count": 42,
   "id": "4c21e4e0-d0d6-4d92-901e-2e74fffed1c3",
   "metadata": {},
   "outputs": [
    {
     "name": "stdout",
     "output_type": "stream",
     "text": [
      "[0, 1, 3, 6, 10, 15]\n",
      "[0, 0, 1, 3, 6, 10, 15]\n"
     ]
    }
   ],
   "source": [
    "val numbers = listOf(0, 1, 2, 3, 4, 5)\n",
    "val runningReduceSum = numbers.runningReduce { sum, item -> sum + item }\n",
    "val runningFoldSum = numbers.runningFold(0) { sum, item -> sum + item }\n",
    "\n",
    "println(runningReduceSum)\n",
    "println(runningFoldSum)"
   ]
  },
  {
   "cell_type": "markdown",
   "id": "b926c441-24f5-4452-a0c5-76cd985e156d",
   "metadata": {},
   "source": [
    "### `flatten`\n",
    "\n",
    "- Zwraca pojedynczą listę wszystkich elementów ze wszystkich tablic w danej tablicy"
   ]
  },
  {
   "cell_type": "code",
   "execution_count": 228,
   "id": "3f5f9268-7a64-4c34-903e-bc4016b631ae",
   "metadata": {},
   "outputs": [
    {
     "name": "stdout",
     "output_type": "stream",
     "text": [
      "[[1], [2, 3], [4, 5, 6]]\n",
      "[1, 2, 3, 4, 5, 6]\n"
     ]
    }
   ],
   "source": [
    "val deepArray = arrayOf(\n",
    "    arrayOf(1),\n",
    "    arrayOf(2, 3),\n",
    "    arrayOf(4, 5, 6)\n",
    ")\n",
    "\n",
    "println(deepArray.contentDeepToString())\n",
    "println(deepArray.flatten()) // [1, 2, 3, 4, 5, 6]"
   ]
  },
  {
   "cell_type": "code",
   "execution_count": 229,
   "id": "5b9274d0-4e2a-4d11-a928-a7a4fc68415c",
   "metadata": {},
   "outputs": [
    {
     "name": "stdout",
     "output_type": "stream",
     "text": [
      "[1, 2, 3, 4, 5, 6]\n"
     ]
    }
   ],
   "source": [
    "val deepList = listOf(listOf(1), listOf(2, 3), listOf(4, 5, 6))\n",
    "println(deepList.flatten()) // [1, 2, 3, 4, 5, 6]"
   ]
  },
  {
   "cell_type": "code",
   "execution_count": 60,
   "id": "0527256b-bae3-46f7-92bc-52f025e8eaec",
   "metadata": {},
   "outputs": [
    {
     "name": "stdout",
     "output_type": "stream",
     "text": [
      "{a=[1, 2], b=[3, 4]}\n"
     ]
    },
    {
     "data": {
      "text/plain": [
       "[a, 1, 2, b, 3, 4]"
      ]
     },
     "execution_count": 60,
     "metadata": {},
     "output_type": "execute_result"
    }
   ],
   "source": [
    "val deepMap = mapOf(\"a\" to listOf(1,2),\"b\" to listOf(3,4))\n",
    "println(deepMap)\n",
    "deepMap.flatMap { (string, ints) -> listOf(string).plus(ints) }"
   ]
  },
  {
   "cell_type": "code",
   "execution_count": 236,
   "id": "82768f4b-9581-4ff0-b858-0041d17cd4bc",
   "metadata": {},
   "outputs": [
    {
     "data": {
      "text/plain": [
       "[a, [1, 2], b, [3, 4]]"
      ]
     },
     "execution_count": 236,
     "metadata": {},
     "output_type": "execute_result"
    }
   ],
   "source": [
    "deepMap.flatMap { (string, int) -> listOf(string, int) }"
   ]
  },
  {
   "cell_type": "code",
   "execution_count": 243,
   "id": "3f166b8a-9e28-440c-a12d-93afa5812821",
   "metadata": {},
   "outputs": [
    {
     "name": "stdout",
     "output_type": "stream",
     "text": [
      "[(a, 1), (a, 2), (b, 3), (b, 4)]\n",
      "(a, 1)\n",
      "Pair\n",
      "[a, 1, 2, b, 3, 4]\n",
      "ArrayList\n"
     ]
    }
   ],
   "source": [
    "val pairs = listOf(\"a\" to 1, \"a\" to 2, \"b\" to 3, \"b\" to 4)\n",
    "println(pairs)\n",
    "println(pairs.get(0))\n",
    "println(pairs.get(0)::class.simpleName)\n",
    "val result = pairs\n",
    "        .groupBy { it.first }\n",
    "        .flatMap { (key, values) -> listOf(key).plus(values.map { it.second }) }\n",
    "println(result)\n",
    "println(result::class.simpleName)"
   ]
  },
  {
   "cell_type": "markdown",
   "id": "e643f5e0-3947-4f89-8c38-1f5e4bd7c370",
   "metadata": {
    "tags": []
   },
   "source": [
    "## Metody list"
   ]
  },
  {
   "cell_type": "code",
   "execution_count": 184,
   "id": "bc260b83-530a-475b-8a4f-0b3e9e7ba90f",
   "metadata": {},
   "outputs": [
    {
     "name": "stdout",
     "output_type": "stream",
     "text": [
      "1\n",
      "1\n",
      "null\n",
      "5\n",
      "ArrayList\n"
     ]
    }
   ],
   "source": [
    "val numbers = listOf(1, 2, 3, 4)\n",
    "println(numbers.get(0))\n",
    "println(numbers[0])\n",
    "println(numbers.getOrNull(5))\n",
    "println(numbers.getOrElse(5, {it}))\n",
    "println(numbers::class.simpleName)"
   ]
  },
  {
   "cell_type": "code",
   "execution_count": 141,
   "id": "99a71824-ede2-49bf-be8f-c6fa9264b4d6",
   "metadata": {},
   "outputs": [
    {
     "name": "stdout",
     "output_type": "stream",
     "text": [
      "[3, 4, 5]\n"
     ]
    }
   ],
   "source": [
    "val numbers = (0..13).toList()\n",
    "println(numbers.subList(3, 6))"
   ]
  },
  {
   "cell_type": "code",
   "execution_count": 142,
   "id": "7a4901f2-21c6-445b-9b04-61ba30b8ef5a",
   "metadata": {},
   "outputs": [
    {
     "name": "stdout",
     "output_type": "stream",
     "text": [
      "1\n",
      "4\n"
     ]
    }
   ],
   "source": [
    "val numbers = listOf(1, 2, 3, 4, 2, 5)\n",
    "println(numbers.indexOf(2))\n",
    "println(numbers.lastIndexOf(2))"
   ]
  },
  {
   "cell_type": "code",
   "execution_count": 143,
   "id": "734026d6-cf6b-4e77-8c75-a2e682886d4c",
   "metadata": {},
   "outputs": [
    {
     "name": "stdout",
     "output_type": "stream",
     "text": [
      "2\n",
      "2\n"
     ]
    }
   ],
   "source": [
    "val numbers = mutableListOf(1, 2, 3, 4)\n",
    "println(numbers.indexOfFirst { it > 2})\n",
    "println(numbers.indexOfLast { it % 2 == 1})"
   ]
  },
  {
   "cell_type": "code",
   "execution_count": 151,
   "id": "87ed75e0-6c0c-40a8-a253-363d6d1f79bb",
   "metadata": {},
   "outputs": [
    {
     "name": "stdout",
     "output_type": "stream",
     "text": [
      "[four, one, three, two]\n",
      "3\n",
      "-5\n",
      "-3\n"
     ]
    }
   ],
   "source": [
    "val numbers = mutableListOf(\"one\", \"two\", \"three\", \"four\")\n",
    "numbers.sort()\n",
    "println(numbers)\n",
    "println(numbers.binarySearch(\"two\"))  // 3\n",
    "println(numbers.binarySearch(\"z\")) // -5 - zwraca ujemny wartość spodziewanego indeksu - 1\n",
    "println(numbers.binarySearch(\"two\", 0, 2))  // -3"
   ]
  },
  {
   "cell_type": "code",
   "execution_count": 149,
   "id": "e19c43fd-9267-4ac0-995b-1c3f588ad445",
   "metadata": {},
   "outputs": [
    {
     "name": "stdout",
     "output_type": "stream",
     "text": [
      "1\n"
     ]
    }
   ],
   "source": [
    "data class Product(val name: String, val price: Float)\n",
    "\n",
    "val productList = listOf(\n",
    "    Product(\"WebStorm\", 49.0f),\n",
    "    Product(\"AppCode\", 99.0f),\n",
    "    Product(\"DotTrace\", 129.0f),\n",
    "    Product(\"ReSharper\", 149.0f))\n",
    "\n",
    "println(productList.binarySearch(Product(\"AppCode\", 99.0f), compareBy<Product> { it.price }.thenBy { it.name }))"
   ]
  },
  {
   "cell_type": "code",
   "execution_count": 166,
   "id": "7bfadb8c-c3fa-4f9d-ae2b-32aa5ff8f0a7",
   "metadata": {},
   "outputs": [
    {
     "name": "stdout",
     "output_type": "stream",
     "text": [
      "1\n"
     ]
    }
   ],
   "source": [
    "fun priceComparison(product: Product, price: Float) = sign(product.price - price).toInt()\n",
    "\n",
    "\n",
    "val productList = listOf(\n",
    "        Product(\"WebStorm\", 49.0f),\n",
    "        Product(\"AppCode\", 99.0f),\n",
    "        Product(\"DotTrace\", 129.0f),\n",
    "        Product(\"ReSharper\", 149.0f))\n",
    "\n",
    "println(productList.binarySearch { priceComparison(it, 99.0f) })\n"
   ]
  },
  {
   "cell_type": "code",
   "execution_count": 168,
   "id": "d34807fa-6b3c-49d3-8ede-332be4658cc4",
   "metadata": {},
   "outputs": [
    {
     "name": "stdout",
     "output_type": "stream",
     "text": [
      "[two, one, four, three]\n",
      "[four, two, one, three]\n",
      "[one, two, four, three]\n"
     ]
    }
   ],
   "source": [
    "val numbers = mutableListOf(\"one\", \"two\", \"three\", \"four\")\n",
    "\n",
    "numbers.sort()\n",
    "numbers.sortDescending()\n",
    "\n",
    "numbers.sortBy { it.length }\n",
    "println(numbers)\n",
    "numbers.sortByDescending { it.last() }\n",
    "println(numbers)\n",
    "\n",
    "numbers.sortWith(compareBy<String> { it.length }.thenBy { it })\n",
    "println(numbers)"
   ]
  },
  {
   "cell_type": "markdown",
   "id": "f3f02673-4961-4c10-9281-32e90c319c14",
   "metadata": {
    "tags": []
   },
   "source": [
    "## Metody zbiorów"
   ]
  },
  {
   "cell_type": "code",
   "execution_count": 183,
   "id": "70332a8f-a4ad-4466-940a-5cde4afaa2b7",
   "metadata": {},
   "outputs": [
    {
     "name": "stdout",
     "output_type": "stream",
     "text": [
      "[one, two, three, four, five]\n",
      "[four, five, one, two, three]\n",
      "LinkedHashSet\n"
     ]
    }
   ],
   "source": [
    "val numbers = setOf(\"one\", \"two\", \"three\")\n",
    "\n",
    "println(numbers union setOf(\"four\", \"five\"))\n",
    "println(setOf(\"four\", \"five\") union numbers)\n",
    "println(numbers::class.simpleName)"
   ]
  },
  {
   "cell_type": "code",
   "execution_count": 176,
   "id": "0c238a6d-5d55-4e96-ab9b-93fe71441649",
   "metadata": {},
   "outputs": [
    {
     "name": "stdout",
     "output_type": "stream",
     "text": [
      "[one, two]\n"
     ]
    }
   ],
   "source": [
    "println(numbers intersect setOf(\"two\", \"one\", \"four\"))"
   ]
  },
  {
   "cell_type": "code",
   "execution_count": 177,
   "id": "34889b42-2113-4dc0-b8af-032ca35d5add",
   "metadata": {},
   "outputs": [
    {
     "name": "stdout",
     "output_type": "stream",
     "text": [
      "[one, two]\n",
      "[four, five]\n"
     ]
    }
   ],
   "source": [
    "println(numbers subtract setOf(\"three\", \"four\", \"five\"))\n",
    "println(setOf(\"three\", \"four\", \"five\") subtract numbers)"
   ]
  },
  {
   "cell_type": "code",
   "execution_count": 178,
   "id": "f7e36fbb-10bf-47f8-82dd-f62df54b9e7d",
   "metadata": {},
   "outputs": [
    {
     "name": "stdout",
     "output_type": "stream",
     "text": [
      "[1, 2, 3, 5]\n",
      "[1, 2, 3, 5, 8, -1]\n"
     ]
    }
   ],
   "source": [
    "val list1 = listOf(1, 1, 2 ,3, 5, 8, -1)\n",
    "val list2 = listOf(1, 1, 2, 2 ,3, 5)\n",
    "println(list1 intersect list2) // result on two lists is a Set\n",
    "println(list1 union list2)     // equal elements are merged into one"
   ]
  },
  {
   "cell_type": "code",
   "execution_count": 179,
   "id": "28f03570-23c8-4e64-b7e2-5b3b0663d33d",
   "metadata": {},
   "outputs": [
    {
     "name": "stdout",
     "output_type": "stream",
     "text": [
      "LinkedHashSet\n"
     ]
    }
   ],
   "source": [
    "val inter = list1 intersect list2\n",
    "println(inter::class.simpleName)"
   ]
  },
  {
   "cell_type": "code",
   "execution_count": 180,
   "id": "10e83e31-98fc-4c15-8ba3-92d785f95e28",
   "metadata": {},
   "outputs": [
    {
     "name": "stdout",
     "output_type": "stream",
     "text": [
      "LinkedHashSet\n"
     ]
    }
   ],
   "source": [
    "val u = list1 union list2\n",
    "println(inter::class.simpleName)"
   ]
  },
  {
   "cell_type": "code",
   "execution_count": 182,
   "id": "472857d4-84af-4a2b-976c-9192e5899ca3",
   "metadata": {},
   "outputs": [
    {
     "name": "stdout",
     "output_type": "stream",
     "text": [
      "LinkedHashSet\n",
      "LinkedHashSet\n"
     ]
    }
   ],
   "source": [
    "val s = numbers subtract setOf(\"three\", \"four\", \"five\")\n",
    "println(s::class.simpleName)\n",
    "println(numbers::class.simpleName)"
   ]
  },
  {
   "cell_type": "markdown",
   "id": "e7f40e96-57b9-42c7-ad70-b137c1a23206",
   "metadata": {
    "tags": []
   },
   "source": [
    "## Metody map"
   ]
  },
  {
   "cell_type": "code",
   "execution_count": 199,
   "id": "8ae5c50a-778a-4b68-8670-d4f3d72ebe98",
   "metadata": {},
   "outputs": [
    {
     "name": "stdout",
     "output_type": "stream",
     "text": [
      "1\n",
      "1\n",
      "10\n",
      "null\n",
      "LinkedHashMap\n"
     ]
    }
   ],
   "source": [
    "val numbersMap = mapOf(\"one\" to 1, \"two\" to 2, \"three\" to 3)\n",
    "println(numbersMap.get(\"one\"))\n",
    "println(numbersMap[\"one\"])\n",
    "println(numbersMap.getOrDefault(\"four\", 10))\n",
    "println(numbersMap[\"five\"])   \n",
    "//numbersMap.getValue(\"six\") \n",
    "println(numbersMap::class.simpleName)"
   ]
  },
  {
   "cell_type": "code",
   "execution_count": 188,
   "id": "93c76c27-b984-48fa-87d2-e60dc6fc5b36",
   "metadata": {},
   "outputs": [
    {
     "name": "stdout",
     "output_type": "stream",
     "text": [
      "[one, two, three]\n",
      "[1, 2, 3]\n"
     ]
    }
   ],
   "source": [
    "val numbersMap = mapOf(\"one\" to 1, \"two\" to 2, \"three\" to 3)\n",
    "println(numbersMap.keys)\n",
    "println(numbersMap.values)"
   ]
  },
  {
   "cell_type": "code",
   "execution_count": 189,
   "id": "fdab684d-d8ce-4b09-a756-582ee2a63412",
   "metadata": {},
   "outputs": [
    {
     "name": "stdout",
     "output_type": "stream",
     "text": [
      "{key11=11}\n"
     ]
    }
   ],
   "source": [
    "val numbersMap = mapOf(\"key1\" to 1, \"key2\" to 2, \"key3\" to 3, \"key11\" to 11)\n",
    "val filteredMap = numbersMap.filter { (key, value) -> key.endsWith(\"1\") && value > 10}\n",
    "println(filteredMap)"
   ]
  },
  {
   "cell_type": "code",
   "execution_count": 190,
   "id": "cd62e8c5-fa0c-4607-9d3c-c656546452e6",
   "metadata": {},
   "outputs": [
    {
     "name": "stdout",
     "output_type": "stream",
     "text": [
      "{key1=1, key11=11}\n",
      "{key1=1, key2=2, key3=3}\n"
     ]
    }
   ],
   "source": [
    "val numbersMap = mapOf(\"key1\" to 1, \"key2\" to 2, \"key3\" to 3, \"key11\" to 11)\n",
    "val filteredKeysMap = numbersMap.filterKeys { it.endsWith(\"1\") }\n",
    "val filteredValuesMap = numbersMap.filterValues { it < 10 }\n",
    "\n",
    "println(filteredKeysMap)\n",
    "println(filteredValuesMap)"
   ]
  },
  {
   "cell_type": "code",
   "execution_count": 195,
   "id": "6bc89538-55c3-4177-9f48-309d20daf9f3",
   "metadata": {},
   "outputs": [
    {
     "name": "stdout",
     "output_type": "stream",
     "text": [
      "{one=1, two=2, three=3, four=4}\n",
      "{one=10, two=2, three=3}\n",
      "{one=11, two=2, three=3, five=5}\n",
      "{one=1, two=2, three=3}\n"
     ]
    }
   ],
   "source": [
    "val numbersMap = mapOf(\"one\" to 1, \"two\" to 2, \"three\" to 3)\n",
    "println(numbersMap + Pair(\"four\", 4))\n",
    "println(numbersMap + Pair(\"one\", 10))\n",
    "println(numbersMap + mapOf(\"five\" to 5, \"one\" to 11))\n",
    "println(numbersMap)"
   ]
  },
  {
   "cell_type": "code",
   "execution_count": 192,
   "id": "ee898a2a-143d-4fd3-8c63-5bda0c2c186a",
   "metadata": {},
   "outputs": [
    {
     "name": "stdout",
     "output_type": "stream",
     "text": [
      "{two=2, three=3}\n",
      "{one=1, three=3}\n"
     ]
    }
   ],
   "source": [
    "val numbersMap = mapOf(\"one\" to 1, \"two\" to 2, \"three\" to 3)\n",
    "println(numbersMap - \"one\")\n",
    "println(numbersMap - listOf(\"two\", \"four\"))"
   ]
  },
  {
   "cell_type": "code",
   "execution_count": 193,
   "id": "de931f90-8614-4db8-af3a-192644277f6e",
   "metadata": {},
   "outputs": [
    {
     "name": "stdout",
     "output_type": "stream",
     "text": [
      "{one=1, two=2, three=3}\n"
     ]
    }
   ],
   "source": [
    "val numbersMap = mutableMapOf(\"one\" to 1, \"two\" to 2)\n",
    "numbersMap.put(\"three\", 3)\n",
    "println(numbersMap)"
   ]
  },
  {
   "cell_type": "code",
   "execution_count": 194,
   "id": "9cf8abc1-3475-46b7-b22f-773fcd698e33",
   "metadata": {},
   "outputs": [
    {
     "name": "stdout",
     "output_type": "stream",
     "text": [
      "value associated with 'one', before: 1, after: 11\n",
      "{one=11, two=2}\n"
     ]
    }
   ],
   "source": [
    "val numbersMap = mutableMapOf(\"one\" to 1, \"two\" to 2)\n",
    "val previousValue = numbersMap.put(\"one\", 11)\n",
    "println(\"value associated with 'one', before: $previousValue, after: ${numbersMap[\"one\"]}\")\n",
    "println(numbersMap)"
   ]
  },
  {
   "cell_type": "code",
   "execution_count": 196,
   "id": "09046ba3-ad38-454b-8e4f-61ad9a9947e9",
   "metadata": {},
   "outputs": [
    {
     "name": "stdout",
     "output_type": "stream",
     "text": [
      "{one=1, two=2, three=3, four=4, five=5}\n"
     ]
    }
   ],
   "source": [
    "val numbersMap = mutableMapOf(\"one\" to 1, \"two\" to 2)\n",
    "numbersMap[\"three\"] = 3     // calls numbersMap.put(\"three\", 3)\n",
    "numbersMap += mapOf(\"four\" to 4, \"five\" to 5)\n",
    "println(numbersMap)"
   ]
  },
  {
   "cell_type": "code",
   "execution_count": 197,
   "id": "15c15eeb-fcb1-458f-8513-a669ce874f0c",
   "metadata": {},
   "outputs": [
    {
     "name": "stdout",
     "output_type": "stream",
     "text": [
      "{two=2, three=3}\n",
      "{two=2, three=3}\n"
     ]
    }
   ],
   "source": [
    "val numbersMap = mutableMapOf(\"one\" to 1, \"two\" to 2, \"three\" to 3)\n",
    "numbersMap.remove(\"one\")\n",
    "println(numbersMap)\n",
    "numbersMap.remove(\"three\", 4)            //doesn't remove anything\n",
    "println(numbersMap)"
   ]
  },
  {
   "cell_type": "code",
   "execution_count": 198,
   "id": "8544e542-6733-4226-9022-94a1ccfb408c",
   "metadata": {},
   "outputs": [
    {
     "name": "stdout",
     "output_type": "stream",
     "text": [
      "{two=2, three=3, threeAgain=3}\n",
      "{two=2, threeAgain=3}\n"
     ]
    }
   ],
   "source": [
    "val numbersMap = mutableMapOf(\"one\" to 1, \"two\" to 2, \"three\" to 3, \"threeAgain\" to 3)\n",
    "numbersMap.keys.remove(\"one\")\n",
    "println(numbersMap)\n",
    "numbersMap.values.remove(3)\n",
    "println(numbersMap)"
   ]
  },
  {
   "cell_type": "code",
   "execution_count": 200,
   "id": "f2833c66-850f-4800-b1a5-4d5093ffd52a",
   "metadata": {},
   "outputs": [
    {
     "name": "stdout",
     "output_type": "stream",
     "text": [
      "one = 1\n",
      "two = 2\n",
      "three = 3\n"
     ]
    }
   ],
   "source": [
    " numbersMap.forEach { (key, value) -> println(\"$key = $value\") }"
   ]
  },
  {
   "cell_type": "code",
   "execution_count": 203,
   "id": "50ca395f-78c4-494b-864e-b8730d46b72f",
   "metadata": {},
   "outputs": [
    {
     "name": "stdout",
     "output_type": "stream",
     "text": [
      "{one=1}\n"
     ]
    }
   ],
   "source": [
    "println(numbersMap.filter { it.key == \"one\" && it.value == 1 })"
   ]
  },
  {
   "cell_type": "code",
   "execution_count": 220,
   "id": "303cb484-6b20-443f-8124-15297ed64ddc",
   "metadata": {},
   "outputs": [
    {
     "name": "stdout",
     "output_type": "stream",
     "text": [
      "[11, 12, 13]\n",
      "ArrayList\n",
      "11\n"
     ]
    }
   ],
   "source": [
    " val l = numbersMap.map { (key, value) -> value + 10}\n",
    " println(l)\n",
    " println(l::class.simpleName)\n",
    " println(l[0])"
   ]
  },
  {
   "cell_type": "code",
   "execution_count": 208,
   "id": "eaace083-8524-4d9b-a69f-d0387d9ff82a",
   "metadata": {},
   "outputs": [
    {
     "name": "stdout",
     "output_type": "stream",
     "text": [
      "one=1\n",
      "two=2\n",
      "three=3\n",
      "threeAgain=3\n"
     ]
    }
   ],
   "source": [
    "val m = mapOf(\"one\" to 1, \"two\" to 2, \"three\" to 3, \"threeAgain\" to 3)\n",
    "val itr = m.keys.iterator()\n",
    "while (itr.hasNext()) {\n",
    "    val key = itr.next()\n",
    "    val value = m[key]\n",
    "    println(\"${key}=$value\")\n",
    "}"
   ]
  },
  {
   "cell_type": "markdown",
   "id": "f03ec6f1-ac75-4fdc-b023-d99a600e81db",
   "metadata": {},
   "source": [
    "## Java"
   ]
  },
  {
   "cell_type": "markdown",
   "id": "78a68ca0-7120-423d-ba67-0018e61d92b0",
   "metadata": {
    "tags": []
   },
   "source": [
    "## Wyrażenia Lambda"
   ]
  },
  {
   "cell_type": "markdown",
   "id": "35ec4534-646e-420e-a224-2b298f1ef5fc",
   "metadata": {},
   "source": [
    "Podstawowa składnia:\n",
    "`(parameter1, parameter2) -> { code block }`, aby zapisać wyrażenie w zmiennej musimy skorzystać z **interfejsu funkcyjnego** (interfejsy dokładniej zostaną omówione na kolejnych zajęciach)"
   ]
  },
  {
   "cell_type": "code",
   "execution_count": 5,
   "id": "edc23d52-a9e1-4061-8a1e-634c623ef67e",
   "metadata": {},
   "outputs": [
    {
     "name": "stdout",
     "output_type": "stream",
     "text": [
      "9\n"
     ]
    }
   ],
   "source": [
    "public interface Sqr {\n",
    "    int sqr( int x );\n",
    "}\n",
    "\n",
    "Sqr square = number -> { return number * number;};\n",
    "int num = square.sqr(3);\n",
    "System.out.println(num);"
   ]
  },
  {
   "cell_type": "code",
   "execution_count": 15,
   "id": "6ba6195b-18ea-4aec-a349-3698cf76781c",
   "metadata": {},
   "outputs": [
    {
     "name": "stdout",
     "output_type": "stream",
     "text": [
      "200 cm\n"
     ]
    }
   ],
   "source": [
    "public interface Function {\n",
    "    String fun( int x );\n",
    "}\n",
    "\n",
    "Function function = input -> {\n",
    "    int m = input * 100;\n",
    "    return String.valueOf(m);\n",
    "};\n",
    "\n",
    "System.out.println(function.fun(2) + \" cm\");"
   ]
  },
  {
   "cell_type": "code",
   "execution_count": 30,
   "id": "1a3de1bd-5219-4265-a072-337973ac0565",
   "metadata": {},
   "outputs": [
    {
     "name": "stdout",
     "output_type": "stream",
     "text": [
      "1\n",
      "2\n",
      "3\n"
     ]
    }
   ],
   "source": [
    "List<Integer> lst = List.of(1, 2, 3);\n",
    "lst.forEach(System.out::println);"
   ]
  },
  {
   "cell_type": "markdown",
   "id": "390af589-ecd9-488b-a86a-cb2455530172",
   "metadata": {
    "tags": []
   },
   "source": [
    "## Metody transformacji\n",
    "\n",
    "### `foreach`, `removeIf`\n",
    "\n",
    "- `foreach` - `Type.forEach(action: (Type) -> void)` - wykonuje zdefiniowaną akcję na każdym elemencie, nie zwraca wartości\n",
    "- `removeIf` - usuwa wszystkie elementy spełniające warunek"
   ]
  },
  {
   "cell_type": "code",
   "execution_count": 56,
   "id": "b4b055dd-1e8b-4007-93fe-48bd3bfb05cb",
   "metadata": {},
   "outputs": [
    {
     "name": "stdout",
     "output_type": "stream",
     "text": [
      "4\n",
      "8\n",
      "12\n",
      "16\n",
      "20\n",
      "24\n"
     ]
    }
   ],
   "source": [
    "ArrayList<Integer> array = new ArrayList<Integer>(\n",
    "    Arrays.asList(1, 2, 3, 4, 5, 6));\n",
    "array.forEach( item -> {System.out.println(item * 4); });"
   ]
  },
  {
   "cell_type": "code",
   "execution_count": 60,
   "id": "169b7401-a7d0-44a3-8147-70e777dab117",
   "metadata": {},
   "outputs": [],
   "source": [
    "ArrayList<Integer> array = new ArrayList<Integer>(\n",
    "    Arrays.asList(1, 2, 3, 4, 5, 6));\n",
    "//array.forEach({ System.out.println(it * 4); }; // w javie nie ma domyślnego argumentu"
   ]
  },
  {
   "cell_type": "code",
   "execution_count": 67,
   "id": "82204562-148c-424a-9227-8885821463fd",
   "metadata": {},
   "outputs": [
    {
     "name": "stdout",
     "output_type": "stream",
     "text": [
      "[1, 3, 5]\n"
     ]
    }
   ],
   "source": [
    "array.removeIf (it -> (it % 2 == 0));\n",
    "System.out.println(array);"
   ]
  },
  {
   "cell_type": "code",
   "execution_count": 72,
   "id": "bbc94e3f-1b6b-4f46-9fc6-2a39ffd8700b",
   "metadata": {},
   "outputs": [
    {
     "name": "stdout",
     "output_type": "stream",
     "text": [
      "100\n",
      "300\n",
      "500\n"
     ]
    }
   ],
   "source": [
    "array.forEach (  it -> {\n",
    "    Integer a = it * 100;\n",
    "    System.out.println(a);\n",
    "}\n",
    ");"
   ]
  },
  {
   "cell_type": "markdown",
   "id": "026525d2-e900-4f82-96d8-04a696ecf8df",
   "metadata": {},
   "source": [
    "### `map`\n",
    "\n",
    "- `map` - wykonuje zdefiniowaną akcję na każdym elemencie"
   ]
  },
  {
   "cell_type": "code",
   "execution_count": 80,
   "id": "96b96f1f-8a33-4241-9c88-7f8a9d909bc1",
   "metadata": {},
   "outputs": [
    {
     "name": "stdout",
     "output_type": "stream",
     "text": [
      "[1, 4, 9]\n",
      "[1, 2, 3]\n"
     ]
    }
   ],
   "source": [
    "import java.util.stream.Collectors;\n",
    "\n",
    "ArrayList<Integer> array = new ArrayList<Integer>(\n",
    "    Arrays.asList(1, 2, 3));\n",
    "System.out.println(array.stream().map ( it -> it * it ).collect(Collectors.toList()));\n",
    "System.out.println(array) // nie modyfikuje"
   ]
  },
  {
   "cell_type": "markdown",
   "id": "79e31015-946f-4b00-9821-a5a1de39366d",
   "metadata": {},
   "source": [
    "### `filter`\n",
    "\n",
    "- zwraca strumień zawierający tylko elementy pasujące do podanego predykatu (funkcje lambda, które pobierają element kolekcji i zwracają wartość logiczną)."
   ]
  },
  {
   "cell_type": "code",
   "execution_count": 82,
   "id": "4ddb2257-df52-48f6-a09f-755924c13049",
   "metadata": {},
   "outputs": [
    {
     "name": "stdout",
     "output_type": "stream",
     "text": [
      "[Robert, Renata]\n"
     ]
    }
   ],
   "source": [
    "ArrayList<String> names = new ArrayList<String>(\n",
    "    Arrays.asList(\"Rafał\", \"Robert\", \"Ania\", \"Paweł\", \n",
    "                   \"Roman\", \"Radek\", \"Renata\"));\n",
    "System.out.println(\n",
    "    names\n",
    "        .stream()\n",
    "        .filter ( it -> it.length() > 5 )\n",
    "        .collect(Collectors.toList()));"
   ]
  },
  {
   "cell_type": "code",
   "execution_count": 85,
   "id": "ad8a9b09-1931-416c-81ec-ff731d15444f",
   "metadata": {},
   "outputs": [
    {
     "name": "stdout",
     "output_type": "stream",
     "text": [
      "[Robert, Renata]\n",
      "[Rafał, Ania, Paweł, Roman, Radek]\n",
      "[Rafał, Robert, Ania, Paweł, Roman, Radek, Renata]\n"
     ]
    }
   ],
   "source": [
    "import java.util.function.*;\n",
    "\n",
    "System.out.println(\n",
    "    names\n",
    "        .stream()\n",
    "        .filter ( it -> it.length() > 5 )\n",
    "        .collect(Collectors.toList())\n",
    ");\n",
    "\n",
    "System.out.println(\n",
    "    names\n",
    "        .stream()\n",
    "        .filter (Predicate.not( it -> it.length() > 5) )\n",
    "        .collect(Collectors.toList())\n",
    ");\n",
    "\n",
    "System.out.println(names);"
   ]
  },
  {
   "cell_type": "code",
   "execution_count": 89,
   "id": "0c9c6577-7fcf-4166-8a1f-1b4aced67fb4",
   "metadata": {},
   "outputs": [
    {
     "name": "stdout",
     "output_type": "stream",
     "text": [
      "TWO\n",
      "FOUR\n"
     ]
    }
   ],
   "source": [
    "ArrayList<Object> objects = new ArrayList<Object>(\n",
    "    Arrays.asList(null, 1, \"two\", 3.0, \"four\"));\n",
    "\n",
    "objects\n",
    "    .stream()\n",
    "    .filter(o -> o instanceof String)\n",
    "    .map(o -> (String) o)\n",
    "    .forEach(o -> System.out.println(o.toUpperCase()));"
   ]
  },
  {
   "cell_type": "code",
   "execution_count": 90,
   "id": "d9f0f428-4d7e-4bf2-b2b6-753c854340d6",
   "metadata": {},
   "outputs": [
    {
     "name": "stdout",
     "output_type": "stream",
     "text": [
      "TWO\n",
      "FOUR\n"
     ]
    }
   ],
   "source": [
    "objects\n",
    "    .stream()\n",
    "    .filter(String.class::isInstance)\n",
    "    .map(String.class::cast)\n",
    "    .forEach(o -> System.out.println(o.toUpperCase()));"
   ]
  },
  {
   "cell_type": "code",
   "execution_count": 91,
   "id": "13d6cd41-fa37-42c8-8fba-3467e86012ac",
   "metadata": {},
   "outputs": [
    {
     "name": "stdout",
     "output_type": "stream",
     "text": [
      "1\n",
      "two\n",
      "3.0\n",
      "four\n"
     ]
    }
   ],
   "source": [
    "objects\n",
    "    .stream()\n",
    "    .filter(Objects::nonNull)\n",
    "    .forEach(o -> System.out.println(o.toString()));"
   ]
  },
  {
   "cell_type": "code",
   "execution_count": 92,
   "id": "3176b0a5-7317-4730-9cf0-08ec982dd832",
   "metadata": {},
   "outputs": [
    {
     "name": "stdout",
     "output_type": "stream",
     "text": [
      "3\n",
      "4\n"
     ]
    }
   ],
   "source": [
    "objects\n",
    "    .stream()\n",
    "    .filter(Objects::nonNull)\n",
    "    .filter(String.class::isInstance)\n",
    "    .map(String.class::cast)\n",
    "    .forEach(o -> System.out.println(o.length()));"
   ]
  },
  {
   "cell_type": "markdown",
   "id": "9b277700-33bb-4a08-a00c-c639a1589e99",
   "metadata": {},
   "source": [
    "### `partition` - brak w bibliotekach javy"
   ]
  },
  {
   "cell_type": "markdown",
   "id": "01d6e75a-9ee6-4917-8068-e206101d5539",
   "metadata": {},
   "source": [
    "### `groupingBy`\n",
    "\n",
    "- Grupuje elementy oryginalnej tablicy według klucza zwróconego przez daną funkcję `keySelector` zastosowaną do każdego elementu i zwraca mapę, w której każdy klucz grupy jest skojarzony z listą odpowiednich elementów. Zwrócona mapa zachowuje kolejność iteracji wpisów kluczy utworzonych z oryginalnej tablicy."
   ]
  },
  {
   "cell_type": "code",
   "execution_count": 95,
   "id": "3357cdad-cb76-4c8d-8c12-3144622ff3c6",
   "metadata": {},
   "outputs": [
    {
     "name": "stdout",
     "output_type": "stream",
     "text": [
      "{t=[two, three], f=[four, five], o=[one]}\n"
     ]
    }
   ],
   "source": [
    "ArrayList<String> numbers = new ArrayList<String>(\n",
    "    Arrays.asList(\"one\", \"two\", \"three\", \"four\", \"five\"));\n",
    "\n",
    "System.out.println(numbers\n",
    "    .stream()\n",
    "    .collect(Collectors.groupingBy(s -> s.charAt(0)))\n",
    ");"
   ]
  },
  {
   "cell_type": "markdown",
   "id": "b24bc2c3-389d-4b52-8f59-5669334d8e04",
   "metadata": {},
   "source": [
    "### `reduce`\n",
    "- `reduce` - Kumuluje wartość zaczynając od pierwszego elementu, stosując operację od lewej do prawej, do bieżącej wartości kumulowanej i każdego elementu."
   ]
  },
  {
   "cell_type": "code",
   "execution_count": 105,
   "id": "034d01b1-5a6d-41bd-958f-e0eac0f8658b",
   "metadata": {},
   "outputs": [
    {
     "name": "stdout",
     "output_type": "stream",
     "text": [
      "21\n"
     ]
    }
   ],
   "source": [
    "ArrayList<Integer> numbers = new ArrayList<Integer>(\n",
    "    Arrays.asList(5, 2, 10, 4));\n",
    "\n",
    "Integer simpleSum = numbers.stream().reduce(0, (subtotal, element) -> subtotal + element);\n",
    "System.out.println(simpleSum);"
   ]
  },
  {
   "cell_type": "code",
   "execution_count": 108,
   "id": "749682de-3e17-4510-95a4-df4a768680e9",
   "metadata": {},
   "outputs": [
    {
     "name": "stdout",
     "output_type": "stream",
     "text": [
      "42\n"
     ]
    }
   ],
   "source": [
    "ArrayList<Integer> numbers = new ArrayList<Integer>(\n",
    "    Arrays.asList(5, 2, 10, 4));\n",
    "\n",
    "Integer simpleSum = numbers.stream().reduce(0, (subtotal, element) -> subtotal + (element * 2));\n",
    "System.out.println(simpleSum);"
   ]
  },
  {
   "cell_type": "markdown",
   "id": "b811c676-3af0-4066-9787-d0ca0c622fed",
   "metadata": {},
   "source": [
    "### `flatten`\n",
    "\n",
    "- Zwraca pojedynczą listę wszystkich elementów ze wszystkich tablic w danej tablicy"
   ]
  },
  {
   "cell_type": "code",
   "execution_count": 135,
   "id": "b10f0d14-385d-4581-a972-383dcdbebb25",
   "metadata": {},
   "outputs": [
    {
     "name": "stdout",
     "output_type": "stream",
     "text": [
      "1\n",
      "2\n",
      "3\n",
      "4\n",
      "5\n",
      "6\n"
     ]
    }
   ],
   "source": [
    "Integer[][] array = new Integer[][]{{1}, {2, 3}, {4, 5, 6}};\n",
    "\n",
    "Stream.of(array)  \n",
    "    .flatMap(Stream::of)              \n",
    "    .collect(Collectors.toList())\n",
    "    .forEach(System.out::println);"
   ]
  }
 ],
 "metadata": {
  "kernelspec": {
   "display_name": "Kotlin",
   "language": "kotlin",
   "name": "kotlin"
  },
  "language_info": {
   "codemirror_mode": "text/x-kotlin",
   "file_extension": ".kt",
   "mimetype": "text/x-kotlin",
   "name": "kotlin",
   "nbconvert_exporter": "",
   "pygments_lexer": "kotlin",
   "version": "1.6.20-dev-6372"
  }
 },
 "nbformat": 4,
 "nbformat_minor": 5
}
