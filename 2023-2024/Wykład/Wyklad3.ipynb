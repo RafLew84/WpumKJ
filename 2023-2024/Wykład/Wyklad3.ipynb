{
 "cells": [
  {
   "cell_type": "markdown",
   "id": "a8f7942b-78ea-48e8-be0f-9fcfbde476aa",
   "metadata": {},
   "source": [
    "# Wykład 3 - Fundamenty"
   ]
  },
  {
   "cell_type": "markdown",
   "id": "21901fa4-6e9e-4d18-b5c7-f731732a2cdb",
   "metadata": {},
   "source": [
    "## Java - Fundamenty"
   ]
  },
  {
   "cell_type": "code",
   "execution_count": null,
   "id": "0bed5f38-f6e1-4f98-b37d-a8385135ee9a",
   "metadata": {},
   "outputs": [],
   "source": [
    "package pl.uwr.edu.pum\n",
    "\n",
    "public class JavaHelloPUM {\n",
    "    public static void main ( String ... args ) {}\n",
    "}"
   ]
  },
  {
   "cell_type": "markdown",
   "id": "8a58c5e1-9648-429a-a726-5587a0412f8e",
   "metadata": {},
   "source": [
    "Ponieważ Java działa w paradygmacie obiektowym najczęściej mamy do czynienia z dużą ilością plików. Pakiet grupuje powiązane typy (klasy, interfejsy, typy wyliczeniowe itp.), ułatwia zarządzanie przestrzenią nazw i bezpieczeństwem/hermetyzacją. Biblioteki są podzielone na pakiety, w celu użycia klasy z innego pakietu należy ją zaimportować. Przyjętą konwencją jest nazywanie pakietów przy pomocy odwrotnej nazwy domeny (w naszym przypadku będzie to ``pl.edu.uwr`` i dla oznaczenia przedmiotu ``.pum``) małymi literami. Od wielkiej litery zaczynamy nazwy klas, interfejsów itd. Rozbijmy tę linię kodu na części pierwsze:"
   ]
  },
  {
   "cell_type": "markdown",
   "id": "d6d4ee1e-2712-4394-8e95-146a90c47aac",
   "metadata": {},
   "source": [
    "- ``package`` – to słowo kluczowe podobnie jak class czy if; informuje kompilator o tym w którym pakiecie znajduje się plik,\n",
    "- ``pl.uwr.edu.pum`` – właściwa nazwa pakietu. Dla uproszczenia możemy powiedzieć, że dozwolone są małe litery oraz znak kropki. Nazwa najczęściej jest odwrotną nazwą domeny."
   ]
  },
  {
   "cell_type": "markdown",
   "id": "0d7ce75c-1b38-4eca-ab1f-34c1aa2bca07",
   "metadata": {},
   "source": [
    "Metoda ``main()`` jest wywoływana z tablicą stringów args, które identyfikują argumenty wiersza poleceń. ``System`` określa standardową klasę narzędzi systemowych. ``out`` jest instancją klasy ``PrintStream`` która jest publiczną, statyczną zmienną klasy ``System``. Wszystkie instancje klasy ``PrintStream`` posiadają metodę ``println()``. Drukuje ona każdy argument przekazany do niej i przechodzi do nowej linii."
   ]
  },
  {
   "cell_type": "markdown",
   "id": "946b3816-c411-4fda-b7ff-11ac21b73868",
   "metadata": {
    "tags": []
   },
   "source": [
    "## Kotlin - Fundamenty\n",
    "\n",
    "Ta część opisuje podstawową składnię języka Kotlin."
   ]
  },
  {
   "cell_type": "code",
   "execution_count": 4,
   "id": "a88e460f-83e0-4b77-a369-2b4cfaeef3c6",
   "metadata": {},
   "outputs": [
    {
     "name": "stdout",
     "output_type": "stream",
     "text": [
      " Hello , world ! \n"
     ]
    }
   ],
   "source": [
    "fun main ( ) {\n",
    "    println( \" Hello , world ! \" )\n",
    "}\n",
    "main()"
   ]
  },
  {
   "cell_type": "markdown",
   "id": "4c4af084-e1bb-472a-a064-1881276e0845",
   "metadata": {},
   "source": [
    "Słowo kluczowe ``fun`` służy do zadeklarowania funkcji, ``main()`` jest miejscem wejściowym aplikacji. Aplikacja musi posiadać co najmniej jedno miejsce wejściowe. Tutaj należy również zauważyć, że funkcje można deklarować na najwyższym poziomie kodu, czyli nie jest konieczne umieszczanie ich w klasach lub pakietach tak jak w Javie. Metoda ``println()`` jest opakowaną funkcją Java, tutaj oznacza to że możemy użyć bardziej zwięzłej nazwy (zamiast ``System.out.println()``). Kolejną istotną zmianą w stosunku do Javy jest **brak średnika** na końcu wiersza. Tablice w Kotlinie są klasą, w odróżnieniu od Javy, nie ma specjalnej składni deklarowania tablic."
   ]
  },
  {
   "cell_type": "markdown",
   "id": "262dd055-fa70-45a8-b7a8-8d79a39190ef",
   "metadata": {},
   "source": [
    "## Typy zerowalne"
   ]
  },
  {
   "cell_type": "markdown",
   "id": "9b85c5a0-6176-4938-bb86-35ddc591836e",
   "metadata": {},
   "source": [
    "Java zezwala na przypisanie zmiennej wartości lub `null`. Traktuje `null` w ten sam sposób jak każdą inną wartość. Prowadzi to występowania niechcianych efektów, np. gdy chcemy dostać się do pola instancji klasy. Jeżeli instancja będzie wskazywać na `null` otrzymamy `NullPointerException` - jest to błąd czasu wykonania."
   ]
  },
  {
   "cell_type": "code",
   "execution_count": 1,
   "id": "233506db-3c4b-44af-9d5e-9b8f40107c8c",
   "metadata": {},
   "outputs": [
    {
     "name": "stdout",
     "output_type": "stream",
     "text": [
      "Rafał\n"
     ]
    },
    {
     "ename": "EvalException",
     "evalue": "Cannot invoke \"REPL.$JShell$12$Student.getName()\" because \"REPL.$JShell$14.studentb\" is null",
     "output_type": "error",
     "traceback": [
      "\u001b[1m\u001b[31m---------------------------------------------------------------------------\u001b[0m",
      "\u001b[1m\u001b[31mjava.lang.NullPointerException: Cannot invoke \"REPL.$JShell$12$Student.getName()\" because \"REPL.$JShell$14.studentb\" is null\u001b[0m",
      "\u001b[1m\u001b[31m\tat .(#16:1)\u001b[0m"
     ]
    }
   ],
   "source": [
    "// java\n",
    "public class Student{\n",
    "    private String name;\n",
    "    \n",
    "    public Student(String name){\n",
    "        this.name = name;\n",
    "    }\n",
    "    \n",
    "    public String getName(){return name;}\n",
    "    public void setName(String value){this.name = value;}\n",
    "}\n",
    "\n",
    "Student studenta = new Student(\"Rafał\");\n",
    "Student studentb = null;\n",
    "System.out.println(studenta.getName());\n",
    "System.out.println(studentb.getName());"
   ]
  },
  {
   "cell_type": "markdown",
   "id": "6b67f6b0-e169-4ee5-bd22-e8f7449fc5db",
   "metadata": {},
   "source": [
    "Jednym z rozwiązań jest stosowanie prostego sprawdzenia."
   ]
  },
  {
   "cell_type": "code",
   "execution_count": 2,
   "id": "00dc7756-40d6-4e3e-b974-ea740bbc1fdb",
   "metadata": {},
   "outputs": [
    {
     "name": "stdout",
     "output_type": "stream",
     "text": [
      "Rafał\n",
      "Obsługa błędu\n"
     ]
    }
   ],
   "source": [
    "// java\n",
    "public class Student{\n",
    "    private String name;\n",
    "    \n",
    "    public Student(String name){\n",
    "        this.name = name;\n",
    "    }\n",
    "    \n",
    "    public String getName(){return name;}\n",
    "    public void setName(String value){this.name = value;}\n",
    "}\n",
    "\n",
    "Student studenta = new Student(\"Rafał\");\n",
    "Student studentb = null;\n",
    "System.out.println(studenta.getName());\n",
    "\n",
    "if (studentb != null){\n",
    "    System.out.println(studentb.getName());\n",
    "} else{\n",
    "    System.out.println(\"Obsługa błędu\");\n",
    "}"
   ]
  },
  {
   "cell_type": "markdown",
   "id": "3e798085-8168-4c0d-82f5-8c0c1d5df7b0",
   "metadata": {},
   "source": [
    "Jednym z rozwiązań jest brak zezwolenia na wartość `null` - alternatywą może być `no-value`. Kotlin jest językiem interoperacyjnym z Javą - takie było założenie, więc konieczne było wprowadzenie odpowiedniego rozwiązania."
   ]
  },
  {
   "cell_type": "markdown",
   "id": "372cbcb1-08b3-47f7-bfd4-c922f86ea1c6",
   "metadata": {},
   "source": [
    "## Kotlin - val vs var"
   ]
  },
  {
   "cell_type": "code",
   "execution_count": 4,
   "id": "06e532d6-4ee4-4360-ab1e-77665faaf080",
   "metadata": {},
   "outputs": [
    {
     "name": "stderr",
     "output_type": "stream",
     "text": [
      "Line_3.jupyter-kts (3:1 - 2) Val cannot be reassigned"
     ]
    }
   ],
   "source": [
    "val s = \"string\"\n",
    "println(s)\n",
    "s = \"innyy\" // nielegalne\n",
    "println(s)\n",
    "val i = 44\n",
    "val j: Int = 44\n",
    "val d = 7.56e4"
   ]
  },
  {
   "cell_type": "code",
   "execution_count": 2,
   "id": "9b25f91a-8223-4223-bd11-660c815dd0b6",
   "metadata": {},
   "outputs": [
    {
     "name": "stdout",
     "output_type": "stream",
     "text": [
      "string\n",
      "inny\n"
     ]
    }
   ],
   "source": [
    "var ss = \"string\"\n",
    "println(ss)\n",
    "ss = \"inny\"\n",
    "println(ss)"
   ]
  },
  {
   "cell_type": "markdown",
   "id": "40e7e24f-98f8-4cba-aec2-82206d92b168",
   "metadata": {
    "tags": []
   },
   "source": [
    "Gdy identyfikator przechowuje dane, musisz zdecydować, czy można je ponownie przypisać.\n",
    "- `var` - *variable* oznacza że można ponownie przypisać jej wartość\n",
    "- `val` - *value* może zostać tylko zainicjowana, nie można ponownie przypisać jej innej wartości\n",
    "\n",
    "\n",
    "Podobnie jak w argumentach funkcji i typie zwracanej wartości funkcji, typ zmiennej jest określany po następującym po nazwie dwukropku. Jeżeli tego nie zrobimy, kompilator przeanalizuje wyrażenie inicjujące zmienną i za typ zmiennej przyjmie typ wyrażenia. Jeżeli zainicjujemy zmienną wartością zmiennoprzecinkową, za typ zostanie przyjęty `Double`. Jeżeli nie inicjuje się zmiennej, jej typ należy określić jawnie. `val` jest *niemutowalny*, natomiast `var` oznacza zmienną *mutowalną*. Więc zmienna `val` może zostać zainicjowana tylko raz w bloku kodu w którym się znajduje."
   ]
  },
  {
   "cell_type": "code",
   "execution_count": 28,
   "id": "4c2fb66d-d438-4abe-b68b-4cb1ae3b745e",
   "metadata": {},
   "outputs": [
    {
     "name": "stderr",
     "output_type": "stream",
     "text": [
      "Line_27.jupyter-kts (2:1 - 6) Val cannot be reassigned"
     ]
    }
   ],
   "source": [
    "val napis: String = \"napis\"\n",
    "napis = \"inny napis\"\n",
    "\n",
    "println(napis)"
   ]
  },
  {
   "cell_type": "markdown",
   "id": "ab4d5122-2889-4269-9ba2-3ee9d0768db8",
   "metadata": {},
   "source": [
    "Poniższy kod wygeneruje błąd."
   ]
  },
  {
   "cell_type": "code",
   "execution_count": 7,
   "id": "64023ac1-5ce7-4c0e-a465-57718e5d9abf",
   "metadata": {},
   "outputs": [
    {
     "name": "stderr",
     "output_type": "stream",
     "text": [
      "Line_6.jupyter-kts (3:5 - 6) Captured member values initialization is forbidden due to possible reassignment"
     ]
    }
   ],
   "source": [
    "val a: Int\n",
    "if(true) {\n",
    "    a = 5\n",
    "}\n",
    "else {\n",
    "    a = 6\n",
    "}\n",
    "println(a)"
   ]
  },
  {
   "cell_type": "code",
   "execution_count": 6,
   "id": "3873e1d9-9b0b-4790-b02e-84f537c042cf",
   "metadata": {},
   "outputs": [
    {
     "name": "stdout",
     "output_type": "stream",
     "text": [
      "5\n"
     ]
    }
   ],
   "source": [
    "val b: Int = if(true) 5 else 6\n",
    "println(b)"
   ]
  },
  {
   "cell_type": "markdown",
   "id": "b4b98ce6-ac72-4d6a-82f0-58f107610ba4",
   "metadata": {},
   "source": [
    "Słowo kluczowe ``var`` oznacza zmienną mutowalną, jednak nie oznacza to że można zmienić typ zmiennej, przykładowo"
   ]
  },
  {
   "cell_type": "code",
   "execution_count": 32,
   "id": "f4ea4224-40ca-42e7-a373-262412bbc511",
   "metadata": {},
   "outputs": [
    {
     "name": "stderr",
     "output_type": "stream",
     "text": [
      "Line_31.jupyter-kts (3:10 - 17) Type mismatch: inferred type is String but Int was expected"
     ]
    }
   ],
   "source": [
    "var liczba = 33\n",
    "liczba = 11 // ok\n",
    "liczba = \"napis\" // error"
   ]
  },
  {
   "cell_type": "markdown",
   "id": "a779c51f-4a81-4fef-b24b-f30d7a7c06e3",
   "metadata": {},
   "source": [
    "Powyższy przykład wygeneruje błąd, ponieważ domniemanie typu odbywa się tylko podczas jej inicjowania"
   ]
  },
  {
   "cell_type": "markdown",
   "id": "c584da73-16c4-49ab-9be0-ab252b0fcc93",
   "metadata": {},
   "source": [
    "Domyślnie typy nie dopuszczają możliwości przypsania wartości `null`, ale istnieją typy zerowalne (`nullable types`)."
   ]
  },
  {
   "cell_type": "code",
   "execution_count": 10,
   "id": "9794e318-a2fb-4562-983b-748dafec97b0",
   "metadata": {},
   "outputs": [
    {
     "name": "stdout",
     "output_type": "stream",
     "text": [
      "null\n",
      "null\n"
     ]
    }
   ],
   "source": [
    "//val a: String = null // niedozwolone\n",
    "val b: String? = null\n",
    "val c: Int? = null\n",
    "\n",
    "println(b)\n",
    "println(c)\n",
    "\n",
    "//println(b::class.simpleName)\n",
    "//println(c::class.simpleName)\n",
    "\n",
    "//println(b!!::class.simpleName)\n",
    "//println(c!!::class.simpleName)"
   ]
  },
  {
   "cell_type": "code",
   "execution_count": 16,
   "id": "b84aea21-24eb-47c6-a8ae-cfc94112e2e1",
   "metadata": {},
   "outputs": [
    {
     "name": "stdout",
     "output_type": "stream",
     "text": [
      "Rafał\n"
     ]
    }
   ],
   "source": [
    "val s: String? = \"Rafał\"\n",
    "println(s)\n",
    "//println(s.length)\n",
    "//if (s != null){\n",
    "//    println(s)\n",
    "//    println(s.length)\n",
    "//}"
   ]
  },
  {
   "cell_type": "code",
   "execution_count": 23,
   "id": "8b3baeab-60ee-42c2-8999-5a7ed695ecca",
   "metadata": {},
   "outputs": [
    {
     "name": "stdout",
     "output_type": "stream",
     "text": [
      "Rafal\n",
      "5\n"
     ]
    }
   ],
   "source": [
    "//val s: String? = null\n",
    "val s: String? = \"Rafal\"\n",
    "println(s)\n",
    "println(s?.length)"
   ]
  },
  {
   "cell_type": "code",
   "execution_count": 24,
   "id": "762c5d19-97c9-4de8-b22a-2d43abeecdc1",
   "metadata": {},
   "outputs": [
    {
     "name": "stdout",
     "output_type": "stream",
     "text": [
      "Rafal\n",
      "5\n"
     ]
    }
   ],
   "source": [
    "//val s: String? = null\n",
    "val s: String? = \"Rafal\"\n",
    "println(s)\n",
    "println(s!!.length)"
   ]
  },
  {
   "cell_type": "code",
   "execution_count": 25,
   "id": "1f329276-0681-47e0-9eb4-c365d9d9662c",
   "metadata": {},
   "outputs": [],
   "source": [
    "val s: String = \"Rafał\"\n",
    "var s1: String? = s"
   ]
  },
  {
   "cell_type": "code",
   "execution_count": 30,
   "id": "574a7b36-bece-4380-b293-6ca5b9de2e32",
   "metadata": {},
   "outputs": [],
   "source": [
    "val a: String? = \"Rafał\"\n",
    "//var b: String = a\n",
    "var b: String = a!!"
   ]
  },
  {
   "cell_type": "code",
   "execution_count": 35,
   "id": "ecc3a464-f728-413e-a3b1-7703b270933b",
   "metadata": {},
   "outputs": [
    {
     "name": "stdout",
     "output_type": "stream",
     "text": [
      "Rafał"
     ]
    }
   ],
   "source": [
    "val a: String? = \"Rafał\"\n",
    "//val a: String? = null\n",
    "var b: String = a as? String ?: \"null\"\n",
    "print(b)"
   ]
  },
  {
   "cell_type": "markdown",
   "id": "a9f2b4d2-d1aa-464f-ad23-2088da3fe977",
   "metadata": {},
   "source": [
    "Rzutowanie `as?` zapewnia, że jeśli a jest `null`, to nie zostanie zgłoszony wyjątek typu `ClassCastException`."
   ]
  },
  {
   "cell_type": "code",
   "execution_count": 37,
   "id": "1afcfc2d-182b-4967-9483-2983db42e4e5",
   "metadata": {},
   "outputs": [
    {
     "name": "stdout",
     "output_type": "stream",
     "text": [
      "null\n",
      "Robert\n"
     ]
    }
   ],
   "source": [
    "class Person(\n",
    "    val name: String,\n",
    "    var friend: Person? = null\n",
    ")\n",
    "\n",
    "val rafal = Person(\"Rafał\")\n",
    "val robert = Person(\"Robert\", rafal)\n",
    "\n",
    "println(rafal.friend?.name)\n",
    "\n",
    "rafal.friend = robert\n",
    "println(rafal.friend?.name)"
   ]
  },
  {
   "cell_type": "code",
   "execution_count": 44,
   "id": "07590a35-3d84-4d36-901c-90b67ef410d1",
   "metadata": {},
   "outputs": [
    {
     "name": "stdout",
     "output_type": "stream",
     "text": [
      "null\n",
      "Unknown\n"
     ]
    }
   ],
   "source": [
    "val alicja = Person(\"Alicja\")\n",
    "\n",
    "println(alicja.friend?.name)\n",
    "println(alicja.friend?.name?: \"Unknown\")"
   ]
  },
  {
   "cell_type": "code",
   "execution_count": 45,
   "id": "3970c13b-b181-49f5-961d-01c5fa3007e1",
   "metadata": {},
   "outputs": [
    {
     "name": "stdout",
     "output_type": "stream",
     "text": [
      "Rafał\n"
     ]
    }
   ],
   "source": [
    "alicja.friend = rafal\n",
    "println(alicja.friend?.name?: \"Unknown\")"
   ]
  },
  {
   "cell_type": "code",
   "execution_count": 58,
   "id": "52eacdcb-9448-45ca-991e-1434e8152f53",
   "metadata": {},
   "outputs": [],
   "source": [
    "class Person(\n",
    "    val name: String,\n",
    "    var age: Int?\n",
    ")"
   ]
  },
  {
   "cell_type": "code",
   "execution_count": 68,
   "id": "4b90136e-4aa0-4487-96dc-ed0b918c21f9",
   "metadata": {},
   "outputs": [
    {
     "name": "stdout",
     "output_type": "stream",
     "text": [
      "39\n"
     ]
    }
   ],
   "source": [
    "val john : Person? = Person(\"Rafał\", 38)\n",
    "\n",
    "val age = john?.age\n",
    "val offsetAge = age?.plus(1)\n",
    "println(offsetAge)"
   ]
  },
  {
   "cell_type": "code",
   "execution_count": 72,
   "id": "8be2f71c-6baf-4645-9be7-2f5574ab1c78",
   "metadata": {},
   "outputs": [
    {
     "name": "stdout",
     "output_type": "stream",
     "text": [
      "26\n"
     ]
    }
   ],
   "source": [
    "val john : Person? = Person(\"Rafał\", null)\n",
    "\n",
    "val age = john?.age ?: 25\n",
    "val offsetAge = age + 1 \n",
    "println(offsetAge)"
   ]
  },
  {
   "cell_type": "code",
   "execution_count": 42,
   "id": "ee306ea4-66f3-4fd9-97c9-2c7b6e167209",
   "metadata": {},
   "outputs": [
    {
     "name": "stdout",
     "output_type": "stream",
     "text": [
      "38\n"
     ]
    }
   ],
   "source": [
    "val john : Person? = Person(\"Rafał\", 38)\n",
    "\n",
    "//val age: Int = john?.age\n",
    "//val age: Int? = john?.age\n",
    " val age = john?.age\n",
    "println(age)"
   ]
  },
  {
   "cell_type": "code",
   "execution_count": 71,
   "id": "cdf33916-ea39-4cbc-80a3-e1227c58768f",
   "metadata": {},
   "outputs": [
    {
     "name": "stdout",
     "output_type": "stream",
     "text": [
      "true\n",
      "true\n",
      "\n",
      "true\n",
      "true\n",
      "\n",
      "false\n",
      "true\n"
     ]
    }
   ],
   "source": [
    "val s1: String? = null\n",
    "println(s1.isNullOrEmpty())\n",
    "println(s1.isNullOrBlank())\n",
    "println()\n",
    "\n",
    "val s2 = \"\"\n",
    "println(s2.isNullOrEmpty())\n",
    "println(s2.isNullOrBlank())\n",
    "println()\n",
    "\n",
    "val s3: String = \" \\t\\n\"\n",
    "println(s3.isNullOrEmpty())\n",
    "println(s3.isNullOrBlank())"
   ]
  },
  {
   "cell_type": "code",
   "execution_count": 101,
   "id": "3c4f1c20-db91-4719-853e-73abb579e787",
   "metadata": {},
   "outputs": [
    {
     "name": "stdout",
     "output_type": "stream",
     "text": [
      "true\n"
     ]
    }
   ],
   "source": [
    "println(\"\".isNullOrEmpty())"
   ]
  }
 ],
 "metadata": {
  "kernelspec": {
   "display_name": "Kotlin",
   "language": "kotlin",
   "name": "kotlin"
  },
  "language_info": {
   "codemirror_mode": "text/x-kotlin",
   "file_extension": ".kt",
   "mimetype": "text/x-kotlin",
   "name": "kotlin",
   "nbconvert_exporter": "",
   "pygments_lexer": "kotlin",
   "version": "1.8.20"
  }
 },
 "nbformat": 4,
 "nbformat_minor": 5
}
