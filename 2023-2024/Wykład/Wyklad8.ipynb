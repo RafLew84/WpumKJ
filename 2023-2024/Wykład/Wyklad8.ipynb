{
 "cells": [
  {
   "cell_type": "markdown",
   "id": "2409e934-e36b-46b5-bc85-f7b1f34cb51c",
   "metadata": {},
   "source": [
    "# Wykład 8 - Klasy i interfejsy"
   ]
  },
  {
   "cell_type": "markdown",
   "id": "35aeb0bb-4ec5-40fd-a003-c3ada6820ffb",
   "metadata": {},
   "source": [
    "## Dziedziczenie"
   ]
  },
  {
   "cell_type": "code",
   "execution_count": 1,
   "id": "3214cd87-7b50-4a5d-aa19-3a7b2ae0a2b6",
   "metadata": {},
   "outputs": [
    {
     "name": "stdout",
     "output_type": "stream",
     "text": [
      "Dog.eat() called\n",
      "Dog.chew() called\n",
      "Animal.eat() called\n",
      "Dog.walk() called\n",
      "Animal.move() called.  Animal is moving at 5\n"
     ]
    }
   ],
   "source": [
    "public class Animal {\n",
    "\n",
    "    private String name;\n",
    "    private int body;\n",
    "    private int size;\n",
    "    private int weight;\n",
    "\n",
    "    public Animal(String name, int body, int size, int weight) {\n",
    "        this.name = name;\n",
    "        this.body = body;\n",
    "        this.size = size;\n",
    "        this.weight = weight;\n",
    "    }\n",
    "\n",
    "    public void eat() {\n",
    "        System.out.println(\"Animal.eat() called\");\n",
    "    }\n",
    "\n",
    "    public void move(int speed) {\n",
    "        System.out.println(\"Animal.move() called.  Animal is moving at \" + speed);\n",
    "    }\n",
    "\n",
    "    public String getName() {\n",
    "        return name;\n",
    "    }\n",
    "\n",
    "    public int getBody() {\n",
    "        return body;\n",
    "    }\n",
    "\n",
    "    public int getSize() {\n",
    "        return size;\n",
    "    }\n",
    "\n",
    "    public int getWeight() {\n",
    "        return weight;\n",
    "    }\n",
    "}\n",
    "\n",
    "public class Dog extends Animal {\n",
    "\n",
    "    private int eyes;\n",
    "    private int legs;\n",
    "    private int tail;\n",
    "    private int teeth;\n",
    "    private String coat;\n",
    "\n",
    "    public Dog(String name, int size, int weight,\n",
    "               int eyes, int legs, int tail, int teeth, String coat) {\n",
    "        super(name, 1, size, weight);\n",
    "        this.eyes = eyes;\n",
    "        this.legs = legs;\n",
    "        this.tail = tail;\n",
    "        this.teeth = teeth;\n",
    "        this.coat = coat;\n",
    "    }\n",
    "\n",
    "    private void chew() {\n",
    "        System.out.println(\"Dog.chew() called\");\n",
    "    }\n",
    "\n",
    "    @Override\n",
    "    public void eat() {\n",
    "        System.out.println(\"Dog.eat() called\");\n",
    "        chew();\n",
    "        super.eat();\n",
    "    }\n",
    "\n",
    "    public void walk() {\n",
    "        System.out.println(\"Dog.walk() called\");\n",
    "        super.move(5);\n",
    "    }\n",
    "\n",
    "    public void run() {\n",
    "        System.out.println(\"Dog.run() called\");\n",
    "        move(10);\n",
    "    }\n",
    "\n",
    "    private void moveLegs(int speed) {\n",
    "        System.out.println(\"Dog.moveLegs() called\");\n",
    "    }\n",
    "\n",
    "    @Override\n",
    "    public void move(int speed) {\n",
    "        System.out.println(\"Dog.move() called\");\n",
    "        moveLegs(speed);\n",
    "        super.move(speed);\n",
    "    }\n",
    "}\n",
    "\n",
    "public class Main {\n",
    "    public static void main() {\n",
    "        Dog dog = new Dog(\"Yorkie\",\n",
    "                8,\n",
    "                20,\n",
    "                2,\n",
    "                4,\n",
    "                1,\n",
    "                20,\n",
    "                \"long silky\");\n",
    "        dog.eat();\n",
    "        dog.walk();\n",
    "    }\n",
    "}\n",
    "\n",
    "Main.main()"
   ]
  },
  {
   "cell_type": "code",
   "execution_count": 8,
   "id": "89791828-ee0f-4cac-81cb-c019c6bda418",
   "metadata": {},
   "outputs": [
    {
     "name": "stdout",
     "output_type": "stream",
     "text": [
      "Dog.eat() called\n",
      "Dog.chew() called\n",
      "Animal.eat() called\n",
      "Dog.walk() called\n",
      "Animal.move() called.  Animal is moving at 5\n"
     ]
    }
   ],
   "source": [
    "open class Animal(val name: String, val body: Int, val size: Int, val weight: Int) {\n",
    "\n",
    "    open fun eat() {\n",
    "        println(\"Animal.eat() called\")\n",
    "    }\n",
    "\n",
    "    open fun move(speed: Int) {\n",
    "        println(\"Animal.move() called.  Animal is moving at $speed\")\n",
    "    }\n",
    "}\n",
    "\n",
    "class Dog(\n",
    "    name: String,\n",
    "    size: Int,\n",
    "    weight: Int,\n",
    "    private val eyes: Int,\n",
    "    private val legs: Int,\n",
    "    private val tail: Int,\n",
    "    private val teeth: Int,\n",
    "    private val coat: String\n",
    ") : Animal(name, 1, size, weight) {\n",
    "\n",
    "    private fun chew() {\n",
    "        println(\"Dog.chew() called\")\n",
    "    }\n",
    "\n",
    "    override fun eat() {\n",
    "        println(\"Dog.eat() called\")\n",
    "        chew()\n",
    "        super.eat()\n",
    "    }\n",
    "\n",
    "    fun walk() {\n",
    "        println(\"Dog.walk() called\")\n",
    "        super.move(5)\n",
    "    }\n",
    "\n",
    "    fun run() {\n",
    "        println(\"Dog.run() called\")\n",
    "        move(10)\n",
    "    }\n",
    "\n",
    "    private fun moveLegs(speed: Int) {\n",
    "        println(\"Dog.moveLegs() called\")\n",
    "    }\n",
    "\n",
    "    override fun move(speed: Int) {\n",
    "        println(\"Dog.move() called\")\n",
    "        moveLegs(speed)\n",
    "        super.move(speed)\n",
    "    }\n",
    "}\n",
    "\n",
    "fun main() {\n",
    "    val dog = Dog(\n",
    "        \"Yorkie\",\n",
    "        8,\n",
    "        20,\n",
    "        2,\n",
    "        4,\n",
    "        1,\n",
    "        20,\n",
    "        \"long silky\"\n",
    "    )\n",
    "    dog.eat()\n",
    "    dog.walk()\n",
    "}\n",
    "main()"
   ]
  },
  {
   "cell_type": "markdown",
   "id": "e5d3d431-cd98-49f5-8f84-9222398dc3f0",
   "metadata": {},
   "source": [
    "## lateinit vs lazy"
   ]
  },
  {
   "cell_type": "code",
   "execution_count": 3,
   "id": "3c6363c2-fb8d-49d3-8f8d-15b4a0ae0675",
   "metadata": {},
   "outputs": [],
   "source": [
    "lateinit var s: String"
   ]
  },
  {
   "cell_type": "code",
   "execution_count": 9,
   "id": "19237c32-ec44-4a42-9cb6-f5a156f85d52",
   "metadata": {},
   "outputs": [
    {
     "name": "stderr",
     "output_type": "stream",
     "text": [
      "Line_8.jupyter-kts (1:1 - 9) 'lateinit' modifier is not allowed on properties of primitive types"
     ]
    }
   ],
   "source": [
    "lateinit var x: Int"
   ]
  },
  {
   "cell_type": "code",
   "execution_count": 2,
   "id": "929fea38-adde-4fc7-a904-4604a4795708",
   "metadata": {},
   "outputs": [],
   "source": [
    "import kotlin.properties.Delegates\n",
    "\n",
    "var x by Delegates.notNull<Int>()"
   ]
  },
  {
   "cell_type": "code",
   "execution_count": 16,
   "id": "504c0f75-f1eb-4c82-9da2-e1f34bb84c6f",
   "metadata": {},
   "outputs": [
    {
     "name": "stdout",
     "output_type": "stream",
     "text": [
      "false\n"
     ]
    }
   ],
   "source": [
    "data class User (val id : Long, val username : String)\n",
    "\n",
    "lateinit var lateinitUser : User\n",
    "\n",
    "println(::lateinitUser.isInitialized)"
   ]
  },
  {
   "cell_type": "code",
   "execution_count": 17,
   "id": "494d3805-3e61-4c95-bc26-8067b8e258e6",
   "metadata": {},
   "outputs": [
    {
     "name": "stdout",
     "output_type": "stream",
     "text": [
      "User(id=1, username=Rafał)\n"
     ]
    }
   ],
   "source": [
    "lateinitUser = User(1, \"Rafał\")\n",
    "println(lateinitUser)"
   ]
  },
  {
   "cell_type": "code",
   "execution_count": 18,
   "id": "468728cc-9885-41e8-a382-7af34e691a3f",
   "metadata": {},
   "outputs": [
    {
     "name": "stdout",
     "output_type": "stream",
     "text": [
      "User(id=1, username=rafał)\n"
     ]
    }
   ],
   "source": [
    "val lazyUser : User by lazy {\n",
    "        User(id = 1, username = \"rafał\")\n",
    "    }\n",
    "\n",
    "println(lazyUser)"
   ]
  },
  {
   "cell_type": "code",
   "execution_count": 25,
   "id": "168ff489-a59a-4361-a889-06dbe4f2f768",
   "metadata": {},
   "outputs": [
    {
     "name": "stdout",
     "output_type": "stream",
     "text": [
      "10\n"
     ]
    }
   ],
   "source": [
    "val lazyInt by lazy { 10 }\n",
    "\n",
    "println(lazyInt)"
   ]
  },
  {
   "cell_type": "code",
   "execution_count": 43,
   "id": "6d0225da-1cba-47d6-9481-c88d646c68b5",
   "metadata": {},
   "outputs": [
    {
     "name": "stdout",
     "output_type": "stream",
     "text": [
      "computed!\n",
      "Hello\n",
      "Hello\n"
     ]
    }
   ],
   "source": [
    "val lazyValue: String by lazy {\n",
    "    println(\"computed!\")\n",
    "    \"Hello\"\n",
    "}\n",
    "\n",
    "\n",
    "println(lazyValue)\n",
    "println(lazyValue)"
   ]
  },
  {
   "cell_type": "markdown",
   "id": "75d999f2-4adc-493e-9195-ad71ef89daa7",
   "metadata": {},
   "source": [
    "## Modyfikatory"
   ]
  },
  {
   "cell_type": "markdown",
   "id": "97d50abd-87fa-4edb-87be-1cfdce9e287d",
   "metadata": {},
   "source": [
    "W Javie można tworzyć klasy pochodne od dowolnej klasy i nadpisywać wszystkie metody (oprócz oznaczonych jako `final`) - prowadzi to do problemu **kruchej klasy bazowej**. Modyfikacja kodu klasy bazowej powoduje nieprowidłowe działanie klas pochodnych."
   ]
  },
  {
   "cell_type": "markdown",
   "id": "c17a5c55-ee4b-4357-97f1-838453dc2e56",
   "metadata": {},
   "source": [
    "W Javie przyjęte jest że wszystkie klasy i metody które nie są przeznaczone do dziedziczenia należy oznaczyć jako `final`."
   ]
  },
  {
   "cell_type": "markdown",
   "id": "e956fecf-6e73-4bb8-9b71-d0a10442153a",
   "metadata": {},
   "source": [
    "W Kotlinie jeżeli chcemy umożlić tworzenie klas pochodnych, klasę bazową oznaczamy jako `open`. Analogicznie postępujemy z metodami i właściwościami."
   ]
  },
  {
   "cell_type": "code",
   "execution_count": 1,
   "id": "5fde5ab8-b432-4dab-addc-6914333ae483",
   "metadata": {},
   "outputs": [],
   "source": [
    "open class Animal(val name: String, val body: Int, val size: Int, val weight: Int) {\n",
    "\n",
    "    open fun eat() {\n",
    "        println(\"Animal.eat() called\")\n",
    "    }\n",
    "\n",
    "    open fun move(speed: Int) {\n",
    "        println(\"Animal.move() called.  Animal is moving at $speed\")\n",
    "    }\n",
    "}\n",
    "\n",
    "open class Dog(\n",
    "    name: String,\n",
    "    size: Int,\n",
    "    weight: Int,\n",
    "    private val eyes: Int,\n",
    "    private val legs: Int,\n",
    "    private val tail: Int,\n",
    "    private val teeth: Int,\n",
    "    private val coat: String\n",
    ") : Animal(name, 1, size, weight) {\n",
    "\n",
    "    override fun eat() { // element nadpisujący jest domyślnie otwarty\n",
    "        println(\"Dog.eat() called\")\n",
    "        super.eat()\n",
    "    }\n",
    "\n",
    "    fun run() {\n",
    "        println(\"Dog.run() called\")\n",
    "        move(10)\n",
    "    }\n",
    "\n",
    "    private fun moveLegs(speed: Int) {\n",
    "        println(\"Dog.moveLegs() called\")\n",
    "    }\n",
    "\n",
    "    final override fun move(speed: Int) { // jeżeli nie chcemy aby był otwarty \n",
    "                                          // określamy jako final\n",
    "        println(\"Dog.move() called\")\n",
    "        moveLegs(speed)\n",
    "        super.move(speed)\n",
    "    }\n",
    "}"
   ]
  },
  {
   "cell_type": "code",
   "execution_count": 2,
   "id": "a4b3a92f-48c5-4bec-b078-cea98043f837",
   "metadata": {},
   "outputs": [
    {
     "name": "stdout",
     "output_type": "stream",
     "text": [
      "Chihuahua.move() called\n",
      "Dog.move() called\n",
      "Dog.moveLegs() called\n",
      "Animal.move() called.  Animal is moving at 19\n"
     ]
    }
   ],
   "source": [
    "class Chihuahua(\n",
    "    name: String,\n",
    "    size: Int,\n",
    "    weight: Int,\n",
    "    private val eyes: Int,\n",
    "    private val legs: Int,\n",
    "    private val tail: Int,\n",
    "    private val teeth: Int,\n",
    "    private val coat: String\n",
    ") : Dog (name, size, weight, eyes, legs, tail, teeth, coat){\n",
    "    override fun eat() {\n",
    "        println(\"Chihuahua.eat() called\")\n",
    "        super.eat()\n",
    "    }\n",
    "    \n",
    "    // override fun run(){ // niedozwolone\n",
    "    //     println(\"Chihuahua.run() called\")\n",
    "    // }\n",
    "    \n",
    "    \n",
    "    override fun move(speed: Int) { // niedozwolone\n",
    "        println(\"Chihuahua.move() called\")\n",
    "        super.move(speed)\n",
    "    }\n",
    "}\n",
    "\n",
    "val c = Chihuahua(\"mag\", 20, 10, 1, 4, 1, 12, \"coat\")\n",
    "c.move(19)"
   ]
  },
  {
   "cell_type": "code",
   "execution_count": null,
   "id": "4972f3c6-fafc-47bc-bda8-6bddd8e9a051",
   "metadata": {},
   "outputs": [],
   "source": [
    "public val z1 = 0 // widoczna wszędzie (domyślny)\n",
    "private val z2 = 0 // widoczna w pliku\n",
    "protected val z3 = 0 // niedozwolone\n",
    "internal val z4 = 0 // widoczna wewnątrz modułu"
   ]
  },
  {
   "cell_type": "code",
   "execution_count": null,
   "id": "adb128d7-b601-4068-bff0-8668554bfd41",
   "metadata": {},
   "outputs": [],
   "source": [
    "class A(){\n",
    "    public val m1 = 0 // widoczna wszędzie (domyślny)\n",
    "    private val m2 = 0 // widoczna w obrębie klasy\n",
    "    protected val m3 = 0 // widoczna z klas pochodnych\n",
    "    internal val m4 = 0 // widoczna wewnątrz modułu\n",
    "}"
   ]
  },
  {
   "cell_type": "markdown",
   "id": "3c0ef301-69e0-4430-8fbc-bd3ed5606fe3",
   "metadata": {},
   "source": [
    "## Klasy abstrakcyjne"
   ]
  },
  {
   "cell_type": "code",
   "execution_count": 30,
   "id": "777bae62-8ccf-4414-b539-e0f60739d6bd",
   "metadata": {},
   "outputs": [
    {
     "name": "stdout",
     "output_type": "stream",
     "text": [
      "Dog.eat() called\n",
      "Animal.move() called\n"
     ]
    }
   ],
   "source": [
    "abstract class Animal {\n",
    "    \n",
    "    abstract fun eat() // wymagana implementacja przez klasy pochodne\n",
    "    \n",
    "    open fun move(){ // możliwość nadpisania przez klasy pochodne\n",
    "        println(\"Animal.move() called\")\n",
    "    }\n",
    "}\n",
    "\n",
    "class Dog (): Animal(){ // konstruktor\n",
    "    final override fun eat(){ // wymagana implementacja\n",
    "        println(\"Dog.eat() called\")\n",
    "    }\n",
    "}\n",
    "\n",
    "val dog = Dog()\n",
    "dog.eat()\n",
    "dog.move()"
   ]
  },
  {
   "cell_type": "markdown",
   "id": "4dd97cc2-308b-4e91-ae28-b81df0cbffac",
   "metadata": {},
   "source": [
    "- `final` - domyślny modyfikator elementu klasy (Kotlin)\n",
    "- `open` - **można** nadpisać\n",
    "- `abstract` - **wymagane** nadpisanie\n",
    "- `override` - nadpisuje element klasy nadrzędnej (lub interfejsu)"
   ]
  },
  {
   "cell_type": "code",
   "execution_count": 1,
   "id": "73fae235-00f8-4518-b7d9-edfd2d30ecb0",
   "metadata": {},
   "outputs": [
    {
     "data": {
      "text/plain": [
       "RRRaaafffaaałłł"
      ]
     },
     "execution_count": 1,
     "metadata": {},
     "output_type": "execute_result"
    }
   ],
   "source": [
    "abstract class Multiply {\n",
    "    String s;\n",
    "    public Multiply(String s){\n",
    "        this.s = s;\n",
    "    }\n",
    "    abstract String multiply(int s);\n",
    "}\n",
    " \n",
    "class MyString extends Multiply {\n",
    "    MyString(){\n",
    "        super(\"Rafał\");\n",
    "    }\n",
    "    @Override\n",
    "    public String multiply(int m)\n",
    "    {\n",
    "        String myString = \"\";\n",
    "        for(char c: this.s.toCharArray())\n",
    "            for(int i = 0; i < m; i++)\n",
    "                myString += c;\n",
    "        return myString;\n",
    "    }\n",
    "}\n",
    "\n",
    "MyString myString = new MyString();\n",
    "myString.multiply(3);"
   ]
  },
  {
   "cell_type": "code",
   "execution_count": 4,
   "id": "024f65f1-e67b-4138-a20b-68ac600c6277",
   "metadata": {},
   "outputs": [
    {
     "data": {
      "text/plain": [
       "RRRaaafffaaałłł"
      ]
     },
     "execution_count": 4,
     "metadata": {},
     "output_type": "execute_result"
    }
   ],
   "source": [
    "abstract class Multiply(val s: String) {\n",
    "    abstract fun multiply(s: Int): String\n",
    "}\n",
    " \n",
    "class MyString : Multiply (\"Rafał\") {\n",
    "    override fun multiply(m: Int): String {\n",
    "        var myString = \"\"\n",
    "        for(c: Char in s)\n",
    "            for(i in 1..m)\n",
    "                myString += c;\n",
    "        return myString\n",
    "    }\n",
    "}\n",
    "\n",
    "var myString = MyString()\n",
    "myString.multiply(3)"
   ]
  },
  {
   "cell_type": "code",
   "execution_count": 5,
   "id": "38138685-939d-4f79-896b-c916d8efb8e6",
   "metadata": {},
   "outputs": [
    {
     "data": {
      "text/plain": [
       "RRRaaafffaaałłł"
      ]
     },
     "execution_count": 5,
     "metadata": {},
     "output_type": "execute_result"
    }
   ],
   "source": [
    "abstract class Multiply2(val s: String) {\n",
    "    abstract fun multiply(s: Int): String\n",
    "}\n",
    " \n",
    "class MyString2 (val a: String) : Multiply2 (a) {\n",
    "    override fun multiply(m: Int): String {\n",
    "        var myString = \"\"\n",
    "        for(c: Char in s)\n",
    "            for(i in 1..m)\n",
    "                myString += c;\n",
    "        return myString\n",
    "    }\n",
    "}\n",
    "\n",
    "var myString2 = MyString2(\"Rafał\")\n",
    "myString2.multiply(3)"
   ]
  },
  {
   "cell_type": "markdown",
   "id": "eaa694e8-54f1-4c67-b5c6-f8e723fd30de",
   "metadata": {},
   "source": [
    "## Klasy zagnieżdżone i wewnętrzne"
   ]
  },
  {
   "cell_type": "markdown",
   "id": "7d2385a0-f331-47cb-b3d4-702e19ec1efd",
   "metadata": {},
   "source": [
    "Java:"
   ]
  },
  {
   "cell_type": "code",
   "execution_count": 1,
   "id": "f66adf65-4f6c-4830-a454-d9c402b506b8",
   "metadata": {},
   "outputs": [],
   "source": [
    "public class Zewnetrzna{\n",
    "    static class Zagniezdzona{}\n",
    "}"
   ]
  },
  {
   "cell_type": "code",
   "execution_count": 2,
   "id": "900390f5-708a-420e-84c7-da74782299b5",
   "metadata": {},
   "outputs": [],
   "source": [
    "public class Zewnetrzna{\n",
    "    class Wewnetrzna{}\n",
    "}"
   ]
  },
  {
   "cell_type": "markdown",
   "id": "8f924459-b4fd-4be8-bee5-8fcf64caec93",
   "metadata": {},
   "source": [
    "Kotlin:"
   ]
  },
  {
   "cell_type": "code",
   "execution_count": 1,
   "id": "ce001844-b786-491b-95f6-127bca1aad2c",
   "metadata": {},
   "outputs": [],
   "source": [
    "class Zewnetrzna{\n",
    "    class Zagniezdzona{}\n",
    "}"
   ]
  },
  {
   "cell_type": "code",
   "execution_count": 2,
   "id": "a49f558a-871c-4b1e-b485-a6e009d575a4",
   "metadata": {},
   "outputs": [],
   "source": [
    "class Zewnetrzna{\n",
    "    inner class Wewnetrzna{}\n",
    "}"
   ]
  },
  {
   "cell_type": "markdown",
   "id": "dee6770d-c1d4-4834-a0a6-3a88bd2bb187",
   "metadata": {},
   "source": [
    "- klasa **wewnętrzna** zawiera odwołanie do klasy zewnętrznej\n",
    "- klasa **zagnieżdżona** nie zawiera odwołania do klasy zewnętrznej"
   ]
  },
  {
   "cell_type": "code",
   "execution_count": 13,
   "id": "4fe950b2-c10e-4372-be54-43183619d9db",
   "metadata": {},
   "outputs": [
    {
     "name": "stdout",
     "output_type": "stream",
     "text": [
      "Line_12$Zewnetrzna@4bfda6d\n",
      "Line_12$Zewnetrzna$Wewnetrzna@33c599e1\n"
     ]
    }
   ],
   "source": [
    "class Zewnetrzna{\n",
    "    inner class Wewnetrzna{\n",
    "        fun reference(){\n",
    "            println(this@Zewnetrzna)\n",
    "        }\n",
    "    }\n",
    "}\n",
    "\n",
    "val w = Zewnetrzna().Wewnetrzna()\n",
    "w.reference()\n",
    "println(w)"
   ]
  },
  {
   "cell_type": "code",
   "execution_count": 88,
   "id": "814e7df8-008a-4867-915b-d7317ab01c6d",
   "metadata": {},
   "outputs": [
    {
     "name": "stdout",
     "output_type": "stream",
     "text": [
      "Hello"
     ]
    }
   ],
   "source": [
    "class Zewnetrzna2{\n",
    "    private fun p(){\n",
    "        print(\"Hello\")\n",
    "    }\n",
    "    inner class Wewnetrzna2{\n",
    "        fun reference(){\n",
    "            p()\n",
    "        }\n",
    "    }\n",
    "}\n",
    "\n",
    "val w2 = Zewnetrzna2().Wewnetrzna2()\n",
    "w2.reference()"
   ]
  },
  {
   "cell_type": "code",
   "execution_count": 91,
   "id": "da00c00d-6f82-46f9-ab0c-2863a658818f",
   "metadata": {},
   "outputs": [
    {
     "name": "stdout",
     "output_type": "stream",
     "text": [
      "Hello"
     ]
    }
   ],
   "source": [
    "class Zewnetrzna3{\n",
    "    private fun p(){\n",
    "        print(\"Hello\")\n",
    "    }\n",
    "    inner class Zagniezdzona2{\n",
    "        fun reference(){\n",
    "            p()\n",
    "        }\n",
    "    }\n",
    "}\n",
    "\n",
    "val z2 = Zewnetrzna3().Zagniezdzona2()\n",
    "z2.reference()"
   ]
  },
  {
   "cell_type": "code",
   "execution_count": 92,
   "id": "b24db37d-3d88-484b-919b-fa55c5dde78e",
   "metadata": {},
   "outputs": [
    {
     "name": "stderr",
     "output_type": "stream",
     "text": [
      "Line_91.jupyter-kts (5:24 - 27) Unresolved reference: zew"
     ]
    }
   ],
   "source": [
    "class Outer {\n",
    "    val zew = \"Zewnetrzna\"\n",
    "\n",
    "    class Nested {\n",
    "        fun callMe() = zew\n",
    "    }\n",
    "}"
   ]
  },
  {
   "cell_type": "code",
   "execution_count": 95,
   "id": "67003f2d-3ad8-4017-82e2-9857b5ef56b0",
   "metadata": {},
   "outputs": [],
   "source": [
    "class Outer {\n",
    "    val zew = \"Zewnetrzna\"\n",
    "\n",
    "    inner class Inner {\n",
    "        fun callMe() = zew\n",
    "    }\n",
    "}"
   ]
  },
  {
   "cell_type": "markdown",
   "id": "c13c0ddc-2320-4134-b8d1-73eadf0237fd",
   "metadata": {},
   "source": [
    "## Klasy zapieczętowane"
   ]
  },
  {
   "cell_type": "code",
   "execution_count": 49,
   "id": "726504ce-aa8f-4b16-b25c-8dea0413ace7",
   "metadata": {},
   "outputs": [
    {
     "data": {
      "text/plain": [
       "9"
      ]
     },
     "execution_count": 72,
     "metadata": {},
     "output_type": "execute_result"
    }
   ],
   "source": [
    "interface Expr\n",
    "class Num(val v: Int) : Expr\n",
    "class Sum(val left: Expr, val right: Expr) : Expr\n",
    "fun eval(e: Expr): Int = when (e) {\n",
    "        is Num -> e.v\n",
    "        is Sum -> eval(e.right) + eval(e.left)\n",
    "        else ->\n",
    "        throw IllegalArgumentException(\" Nieznane wyrażenie\") // wymagana opcja domyślna\n",
    "}\n",
    "    \n",
    "eval(Num(9))"
   ]
  },
  {
   "cell_type": "code",
   "execution_count": 30,
   "id": "ede8f03b-b1ea-4d97-abb7-27d4e7581dcb",
   "metadata": {},
   "outputs": [
    {
     "data": {
      "text/plain": [
       "5"
      ]
     },
     "execution_count": 30,
     "metadata": {},
     "output_type": "execute_result"
    }
   ],
   "source": [
    "eval(Sum(Num(2), Num(3)))"
   ]
  },
  {
   "cell_type": "markdown",
   "id": "15f1a127-1151-410c-adb4-400ce2b06d4e",
   "metadata": {},
   "source": [
    "Tworzymy lokalną hierarchię klas"
   ]
  },
  {
   "cell_type": "code",
   "execution_count": 69,
   "id": "28082589-c8a4-4d29-8a6b-942c6cb03b36",
   "metadata": {},
   "outputs": [],
   "source": [
    "sealed class Expr2 {\n",
    "    class Num2(val v: Int) : Expr2()\n",
    "    class Sum2(val left: Expr2, val right: Expr2) : Expr2()\n",
    "}\n",
    "fun sealedEval(e: Expr2): Int = when (e) {\n",
    "    is Expr2.Num2 -> e.v\n",
    "    is Expr2.Sum2 -> sealedEval(e.right) + sealedEval(e.left)\n",
    "}\n"
   ]
  },
  {
   "cell_type": "code",
   "execution_count": 66,
   "id": "4f7072fb-5a3c-4a4c-a191-3d7e2b140e4b",
   "metadata": {},
   "outputs": [
    {
     "data": {
      "text/plain": [
       "9"
      ]
     },
     "execution_count": 66,
     "metadata": {},
     "output_type": "execute_result"
    }
   ],
   "source": [
    "sealedEval(Expr2.Num2(9))"
   ]
  },
  {
   "cell_type": "code",
   "execution_count": 68,
   "id": "dbda54b0-2236-4341-8e6f-694ebe4b55f3",
   "metadata": {},
   "outputs": [
    {
     "data": {
      "text/plain": [
       "5"
      ]
     },
     "execution_count": 68,
     "metadata": {},
     "output_type": "execute_result"
    }
   ],
   "source": [
    "sealedEval(Expr2.Sum2(Expr2.Num2(2), Expr2.Num2(3)))"
   ]
  },
  {
   "cell_type": "markdown",
   "id": "3cb9dce7-84ae-470c-8d23-9a1557d4ec03",
   "metadata": {},
   "source": [
    "## enum class vs sealed class"
   ]
  },
  {
   "cell_type": "markdown",
   "id": "a56dadd2-41d2-4ab3-a1a0-2b786b53cb9b",
   "metadata": {},
   "source": [
    "- `enum class` - `enum` może posiadać tylko jedną instancję\n",
    "- `sealed class` - klasy pochodne mogą posiadać wiele instancji\n",
    "- `enum class` - częściej używane dla prostych wartości\n",
    "- `enum class` - nie posiadają naturalnego porządku - utrudniona iteracja\n",
    "- `sealed class` - gdy potrzebujemy przechować większą ilość danych\n",
    "- `enum class` - lepszy do reprezentowania stałego zbioru możliwych wartości\n",
    "- `sealed class` - reprezentuje stały zbiór klas"
   ]
  },
  {
   "cell_type": "markdown",
   "id": "620a8e10-c18d-4f46-86e3-bb43faa1425d",
   "metadata": {},
   "source": [
    "# Interfejsy"
   ]
  },
  {
   "cell_type": "markdown",
   "id": "1664f823-8ea8-43d5-9f3d-9ca85a558ac3",
   "metadata": {},
   "source": [
    "Interfejs zawiera zestaw metod bez ich implementacji. Może zawierać:\n",
    "- metody domyślne\n",
    "- metody prywatne\n",
    "- metody statyczne"
   ]
  },
  {
   "cell_type": "markdown",
   "id": "7efc175a-eb43-4f0b-8165-dc7172363e08",
   "metadata": {},
   "source": [
    "## Metody interejsów"
   ]
  },
  {
   "cell_type": "markdown",
   "id": "945ef3c2-1f47-4f0a-aef1-b1b446afb774",
   "metadata": {},
   "source": [
    "Interfejs może dostarcyć domyślną implementację metody"
   ]
  },
  {
   "cell_type": "code",
   "execution_count": 3,
   "id": "63d0ccb3-3ac8-4e07-88e8-e20b7dece34d",
   "metadata": {},
   "outputs": [],
   "source": [
    "// java\n",
    "public interface AddNumer{\n",
    "    default int addNumber(int a, int b){\n",
    "        return a + b;\n",
    "    }\n",
    "}"
   ]
  },
  {
   "cell_type": "code",
   "execution_count": 1,
   "id": "3235c33b-80fb-4d06-a2cc-ca479dbe930f",
   "metadata": {},
   "outputs": [],
   "source": [
    "// kotlin\n",
    "interface AddNumber{\n",
    "    fun addNumber (a: Int, b: Int): Int{\n",
    "        return a + b\n",
    "    }\n",
    "}"
   ]
  },
  {
   "cell_type": "markdown",
   "id": "7809c6fa-add7-488d-97e2-3947a29835cf",
   "metadata": {},
   "source": [
    "W interfejsach można wykorzystywać metody prywatne"
   ]
  },
  {
   "cell_type": "code",
   "execution_count": 1,
   "id": "e333d6f1-c977-47ec-a490-1a727e0623f6",
   "metadata": {},
   "outputs": [],
   "source": [
    "// java\n",
    "public interface AddNumers{\n",
    "    \n",
    "    default int addThreeNumbers(int a, int b, int c){\n",
    "        return addTwoNumbers(a, b) + c;\n",
    "    }\n",
    "    \n",
    "    private int addTwoNumbers(int a, int b){\n",
    "        return a + b;\n",
    "    }\n",
    "}"
   ]
  },
  {
   "cell_type": "code",
   "execution_count": 5,
   "id": "40bed222-99ed-43dc-a0ef-f23e298b8397",
   "metadata": {},
   "outputs": [],
   "source": [
    "// kotlin\n",
    "public interface AddNumers{\n",
    "    \n",
    "    fun addThreeNumbers(a: Int, b: Int, c: Int): Int{\n",
    "        return addTwoNumbers(a, b) + c\n",
    "    }\n",
    "    \n",
    "    private fun addTwoNumbers(a: Int, b: Int): Int{\n",
    "        return a + b\n",
    "    }\n",
    "}"
   ]
  },
  {
   "cell_type": "markdown",
   "id": "a788027f-b22c-425e-b394-6d93df5aa8fe",
   "metadata": {},
   "source": [
    "Metody statyczne (tylko Java)"
   ]
  },
  {
   "cell_type": "code",
   "execution_count": 12,
   "id": "8f6c3e43-ab16-4284-89fc-f54022e3f52d",
   "metadata": {},
   "outputs": [
    {
     "name": "stdout",
     "output_type": "stream",
     "text": [
      "6\n",
      "AddNumber Interface\n"
     ]
    }
   ],
   "source": [
    "// java\n",
    "public interface AddNumbers{\n",
    "    \n",
    "    default int addThreeNumbers(int a, int b, int c){\n",
    "        return addTwoNumbers(a, b) + c;\n",
    "    }\n",
    "    \n",
    "    private int addTwoNumbers(int a, int b){\n",
    "        return a + b;\n",
    "    }\n",
    "    \n",
    "    static void printMe(){\n",
    "        System.out.println(\"AddNumber Interface\");\n",
    "    }\n",
    "}\n",
    "\n",
    "public class A implements AddNumbers{\n",
    "    public A(){\n",
    "        System.out.println(addThreeNumbers(1, 2, 3));\n",
    "        AddNumbers.printMe();\n",
    "    }\n",
    "}\n",
    "\n",
    "A a = new A();"
   ]
  },
  {
   "cell_type": "code",
   "execution_count": 13,
   "id": "65e147b1-1193-4286-98ec-50644743b825",
   "metadata": {},
   "outputs": [
    {
     "name": "stdout",
     "output_type": "stream",
     "text": [
      "AddNumber Interface\n"
     ]
    }
   ],
   "source": [
    "AddNumbers.printMe();"
   ]
  },
  {
   "cell_type": "markdown",
   "id": "b1d32bb9-8da4-4612-a746-1ce4efdd0c32",
   "metadata": {},
   "source": [
    "Interfejsy mogą zawierać pola (statyczne) - tylko Java. W kotlinie właściwość może zawierać getter i setter."
   ]
  },
  {
   "cell_type": "code",
   "execution_count": 1,
   "id": "8ed1262b-47d8-4ccf-b8f8-4e9945fffdc8",
   "metadata": {},
   "outputs": [
    {
     "data": {
      "text/plain": [
       "4"
      ]
     },
     "execution_count": 1,
     "metadata": {},
     "output_type": "execute_result"
    }
   ],
   "source": [
    "// java\n",
    "public interface Numbers{\n",
    "    int num = 4; // public static final\n",
    "}\n",
    "\n",
    "Numbers.num"
   ]
  },
  {
   "cell_type": "code",
   "execution_count": 28,
   "id": "40d59605-3b3a-4440-900c-e768dc4310bb",
   "metadata": {},
   "outputs": [],
   "source": [
    "// kotlin\n",
    "interface Numbers{\n",
    "    val num: Int get() = 4\n",
    "}"
   ]
  },
  {
   "cell_type": "markdown",
   "id": "21182c65-37c7-40be-8045-6cd7a1e7b3c1",
   "metadata": {},
   "source": [
    "## Dziedziczenie interfejsów"
   ]
  },
  {
   "cell_type": "code",
   "execution_count": 7,
   "id": "188ada12-4581-4ea5-87b2-15b0e569a231",
   "metadata": {},
   "outputs": [
    {
     "name": "stdout",
     "output_type": "stream",
     "text": [
      "Rafał\n",
      "4.5\n",
      "123456\n"
     ]
    }
   ],
   "source": [
    "// java\n",
    "public interface Student {\n",
    "    int getIndexNumber();\n",
    "}\n",
    "\n",
    "public interface Human {\n",
    "    String getName();\n",
    "}\n",
    "\n",
    "public interface WFiAStudent extends Student, Human { // nie używamy implements\n",
    "    double getGrade();\n",
    "}\n",
    "\n",
    "public class ISSPStudent implements WFiAStudent{\n",
    "    @Override\n",
    "    public int getIndexNumber(){\n",
    "        return 123456;\n",
    "    }\n",
    "    \n",
    "    @Override\n",
    "    public String getName(){\n",
    "        return \"Rafał\";\n",
    "    }\n",
    "    \n",
    "    @Override\n",
    "    public double getGrade(){\n",
    "        return 4.5;\n",
    "    }\n",
    "}\n",
    "\n",
    "ISSPStudent me = new ISSPStudent();\n",
    "System.out.println(me.getName());\n",
    "System.out.println(me.getGrade());\n",
    "System.out.println(me.getIndexNumber());"
   ]
  },
  {
   "cell_type": "code",
   "execution_count": 1,
   "id": "a1b223d4-04a3-40aa-a41a-6e23418a3eb0",
   "metadata": {},
   "outputs": [
    {
     "name": "stdout",
     "output_type": "stream",
     "text": [
      "Rafał\n",
      "4.5\n",
      "123456\n"
     ]
    }
   ],
   "source": [
    "// kotlin\n",
    "interface Student {\n",
    "    fun getIndexNumber(): Int\n",
    "}\n",
    "\n",
    "interface Human {\n",
    "    fun getName(): String\n",
    "}\n",
    "\n",
    "interface WFiAStudent : Student, Human {\n",
    "    fun getGrade(): Double\n",
    "}\n",
    "\n",
    " class ISSPStudent : WFiAStudent{\n",
    "    \n",
    "    override fun getIndexNumber(): Int{\n",
    "        return 123456\n",
    "    }\n",
    "    \n",
    "    override fun getName(): String{\n",
    "        return \"Rafał\"\n",
    "    }\n",
    "    \n",
    "    override fun getGrade(): Double{\n",
    "        return 4.5\n",
    "    }\n",
    "}\n",
    "\n",
    "val me = ISSPStudent();\n",
    "println(me.getName());\n",
    "println(me.getGrade());\n",
    "println(me.getIndexNumber());"
   ]
  },
  {
   "cell_type": "markdown",
   "id": "4cc1af5b-fee0-49d2-a109-5d08a28b0807",
   "metadata": {},
   "source": [
    "## Zastosowania"
   ]
  },
  {
   "cell_type": "markdown",
   "id": "12ef70fb-8dd4-4244-abb5-e9ace06c5e09",
   "metadata": {},
   "source": [
    "- Nie dozwolone wielokrotne dziedziczenie klas\n",
    "- Dozwolona implementacja dowolnej ilości interfejsów\n",
    "- Ustalenie sygnatury metod\n",
    "- Klasa implementująca interfejs **musi** implementować wszystkie jego metody (poza domyślnymi i statycznymi)\n",
    "- Metody statyczne i prywatne dostępny od Javy 9\n",
    "- Pozwala na określenie cech które posiadać będzie każda klasa implementujące dany interfejs\n",
    "- Udostępnie mechanizm kategoryzowania działań na obiektach"
   ]
  },
  {
   "cell_type": "markdown",
   "id": "3b1a5d31-0a5e-4a83-89ba-5f2a8823c4f2",
   "metadata": {},
   "source": [
    "### Przykłady interfejsów"
   ]
  },
  {
   "cell_type": "code",
   "execution_count": 1,
   "id": "c26c7b60-098b-42e9-8c43-384d62a60977",
   "metadata": {},
   "outputs": [],
   "source": [
    "public interface Serializable{}"
   ]
  },
  {
   "cell_type": "code",
   "execution_count": 2,
   "id": "a0153af2-d1ae-437e-a055-b268a28c9e9c",
   "metadata": {},
   "outputs": [],
   "source": [
    "public interface Comparable<T> {\n",
    "    public int compareTo(T o);\n",
    "}"
   ]
  },
  {
   "cell_type": "code",
   "execution_count": 3,
   "id": "5ecc0fd4-3c07-463c-bbd5-df73c93850b5",
   "metadata": {},
   "outputs": [],
   "source": [
    "public interface Collection<E> extends Iterable<E> {\n",
    "\n",
    "    int size();\n",
    "\n",
    "    boolean isEmpty();\n",
    "\n",
    "    boolean contains(Object o);\n",
    "\n",
    "    boolean add(E e);\n",
    "\n",
    "    boolean remove(Object o);\n",
    "\n",
    "    boolean containsAll(Collection<?> c);\n",
    "\n",
    "    boolean addAll(Collection<? extends E> c);\n",
    "\n",
    "    boolean removeAll(Collection<?> c);\n",
    "\n",
    "    boolean retainAll(Collection<?> c);\n",
    "\n",
    "    void clear();\n",
    "\n",
    "    boolean equals(Object o);\n",
    "\n",
    "    int hashCode();\n",
    " \n",
    "\t//...\n",
    "}"
   ]
  },
  {
   "cell_type": "code",
   "execution_count": 20,
   "id": "c5f2be90-9c64-45da-9ccd-0894108465f5",
   "metadata": {},
   "outputs": [
    {
     "data": {
      "text/plain": [
       "5"
      ]
     },
     "execution_count": 20,
     "metadata": {},
     "output_type": "execute_result"
    }
   ],
   "source": [
    "// java\n",
    "public interface Expr{}\n",
    "public class Num implements Expr {\n",
    "    private int v;\n",
    "    \n",
    "    public Num(int v){\n",
    "        this.v = v;\n",
    "    }\n",
    "    \n",
    "    public void setV (int v){\n",
    "        this.v = v;\n",
    "    }\n",
    "    \n",
    "    public int getV (){\n",
    "        return this.v;\n",
    "    }\n",
    "}\n",
    "\n",
    "public class Sum implements Expr {\n",
    "    private Expr left, right;\n",
    "    \n",
    "    public Sum(Expr left, Expr right){\n",
    "        this.left = left;\n",
    "        this.right = right;\n",
    "    }\n",
    "    \n",
    "    public void setLeft(Expr left){\n",
    "        this.left = left;\n",
    "    }\n",
    "    \n",
    "    public void setRight(Expr right){\n",
    "        this.right = right;\n",
    "    }\n",
    "    \n",
    "    public Expr getLeft(){\n",
    "        return this.left;\n",
    "    }\n",
    "    \n",
    "    public Expr getRight(){\n",
    "        return this.right;\n",
    "    }\n",
    "}\n",
    "\n",
    "int eval(Expr e){\n",
    "    if (e instanceof Num)\n",
    "        return ((Num)e).getV();\n",
    "    if (e instanceof Sum)\n",
    "        return eval(((Sum)e).getRight()) + eval(((Sum)e).getLeft());\n",
    "    return 0;\n",
    "}\n",
    "\n",
    "eval(new Sum(new Num(2), new Num(3)));"
   ]
  },
  {
   "cell_type": "code",
   "execution_count": 1,
   "id": "b1982c45-8f7b-4c39-9a59-b10a4d9afad6",
   "metadata": {},
   "outputs": [
    {
     "data": {
      "text/plain": [
       "5"
      ]
     },
     "execution_count": 1,
     "metadata": {},
     "output_type": "execute_result"
    }
   ],
   "source": [
    "// kotlin\n",
    "interface Expr\n",
    "class Num(val v: Int) : Expr\n",
    "class Sum(val left: Expr, val right: Expr) : Expr\n",
    "fun eval(e: Expr): Int = when (e) {\n",
    "        is Num -> e.v\n",
    "        is Sum -> eval(e.right) + eval(e.left)\n",
    "        else ->\n",
    "        throw IllegalArgumentException(\" Nieznane wyrażenie\") // wymagana opcja domyślna\n",
    "}\n",
    "    \n",
    "eval(Sum(Num(2), Num(3)))"
   ]
  },
  {
   "cell_type": "markdown",
   "id": "78cad3da-5bc6-4227-a7fc-fceda469bb8c",
   "metadata": {},
   "source": [
    "### Interfejs Funkcyjny"
   ]
  },
  {
   "cell_type": "markdown",
   "id": "97198728-9d1d-4460-b528-9464fc8bbb24",
   "metadata": {},
   "source": [
    "Posiada tylko jedną metodę - pozwala na wykorzystanie wyrażeń lambda jako typu danych. W Javie można wykorzystać adnotację `@FunctionalInterface`."
   ]
  },
  {
   "cell_type": "code",
   "execution_count": 8,
   "id": "bb6b7dc7-e4ae-43e2-bce5-a22264f9cbbe",
   "metadata": {},
   "outputs": [
    {
     "name": "stdout",
     "output_type": "stream",
     "text": [
      "true\n"
     ]
    }
   ],
   "source": [
    "@FunctionalInterface\n",
    "interface IntPredicate {\n",
    "    public boolean accept(int param);\n",
    "}\n",
    "    \n",
    "class Test implements IntPredicate {\n",
    "    public boolean accept(int param) {\n",
    "        return param % 2 == 0; \n",
    "    }\n",
    "}\n",
    "    \n",
    "public class A{\n",
    "    public static boolean invoke(IntPredicate predicate, int param){\n",
    "        return predicate.accept(param);\n",
    "    }\n",
    "    \n",
    "     public static void main(){\n",
    "        IntPredicate pred = new Test();\n",
    "        System.out.println(invoke(pred, 4));\n",
    "    }\n",
    "}\n",
    "A.main()"
   ]
  },
  {
   "cell_type": "code",
   "execution_count": 15,
   "id": "2e333648-5887-4935-b88e-087d73745fdd",
   "metadata": {},
   "outputs": [
    {
     "name": "stdout",
     "output_type": "stream",
     "text": [
      "false\n"
     ]
    }
   ],
   "source": [
    "@FunctionalInterface\n",
    "interface IntPredicate {\n",
    "    public boolean accept(int param);\n",
    "}\n",
    "    \n",
    "public class A{\n",
    "    public static boolean invoke(IntPredicate predicate, int param){\n",
    "        return predicate.accept(param);\n",
    "    }\n",
    "    \n",
    "     public static void main(){\n",
    "         \n",
    "         // klasa anonimowa\n",
    "        System.out.println(\n",
    "            invoke(new IntPredicate(){\n",
    "                public boolean accept(int param) {\n",
    "                    return param % 2 == 0; }\n",
    "            }, 5)\n",
    "        );\n",
    "         \n",
    "        //invoke((param -> System.out.println(\"Called with \" + param )), 100);\n",
    "\n",
    "    }\n",
    "}\n",
    "A.main()"
   ]
  },
  {
   "cell_type": "code",
   "execution_count": 18,
   "id": "6470060c-a34f-4c28-9664-5aa7f6554cb6",
   "metadata": {},
   "outputs": [
    {
     "name": "stdout",
     "output_type": "stream",
     "text": [
      "false\n"
     ]
    }
   ],
   "source": [
    "@FunctionalInterface\n",
    "interface IntPredicate {\n",
    "    public boolean accept(int param);\n",
    "}\n",
    "    \n",
    "public class A{\n",
    "    public static boolean invoke(IntPredicate predicate, int param){\n",
    "        return predicate.accept(param);\n",
    "    }\n",
    "    \n",
    "     public static void main(){\n",
    "        System.out.println(\n",
    "            invoke((param -> param % 2 == 0), 5)\n",
    "        );\n",
    "\n",
    "    }\n",
    "}\n",
    "A.main()"
   ]
  },
  {
   "cell_type": "code",
   "execution_count": 19,
   "id": "cdf70bfc-e6da-4719-a9b0-949459860a50",
   "metadata": {},
   "outputs": [
    {
     "name": "stdout",
     "output_type": "stream",
     "text": [
      "6\n"
     ]
    }
   ],
   "source": [
    "import java.util.function.Function; // interfejs funkcyjny\n",
    "\n",
    "public class HigherOrderFunc {\n",
    "\n",
    "    public static void main() {\n",
    "        doSum(5, e -> e + 1);\n",
    "    }\n",
    "\n",
    "    public static void doSum(int value, Function <Integer, Integer> func) {\n",
    "        System.out.println(func.apply(value));\n",
    "    }\n",
    "}\n",
    "\n",
    "HigherOrderFunc.main()"
   ]
  },
  {
   "cell_type": "code",
   "execution_count": 25,
   "id": "07ecb6fc-155b-4542-9911-33c0eb7a770b",
   "metadata": {},
   "outputs": [
    {
     "name": "stdout",
     "output_type": "stream",
     "text": [
      "Kasia\n",
      "Ania\n",
      "Zosia\n",
      "Bartek\n"
     ]
    }
   ],
   "source": [
    "// https://javastart.pl/baza-wiedzy/slownik/interfejs-funkcyjny\n",
    "import java.util.Arrays;\n",
    "import java.util.List;\n",
    "import java.util.function.Consumer; // interfejs funkcyjny\n",
    " \n",
    "public class StringConsumerExample {\n",
    "    public static void main() {\n",
    " \t\tList<String> names = Arrays.asList(\"Kasia\", \"Ania\", \"Zosia\", \"Bartek\");\n",
    " \t\tprintList(names, str -> System.out.println(str));\n",
    " \t}\n",
    " \n",
    " \tpublic static void printList(List<String> list, Consumer<String> consumer) {\n",
    " \t\tfor (String str : list) {\n",
    " \t\t\tconsumer.accept(str);\n",
    " \t\t}\n",
    " \t}\n",
    "}\n",
    "StringConsumerExample.main()"
   ]
  },
  {
   "cell_type": "code",
   "execution_count": 5,
   "id": "04563d60-4c8a-4ddf-ac19-e49c228f3f0d",
   "metadata": {},
   "outputs": [
    {
     "data": {
      "text/plain": [
       "false"
      ]
     },
     "execution_count": 5,
     "metadata": {},
     "output_type": "execute_result"
    }
   ],
   "source": [
    "fun interface IntPredicate { // interfejs funkcyjny\n",
    "   fun accept(i: Int): Boolean\n",
    "}\n",
    "\n",
    "val isEven = object : IntPredicate {\n",
    "   override fun accept(i: Int): Boolean {\n",
    "       return i % 2 == 0\n",
    "   }\n",
    "}\n",
    "\n",
    "isEven.accept(5)"
   ]
  },
  {
   "cell_type": "code",
   "execution_count": 6,
   "id": "45329fb4-f9f1-4ef5-b8f3-e91bce60f2a0",
   "metadata": {},
   "outputs": [
    {
     "data": {
      "text/plain": [
       "false"
      ]
     },
     "execution_count": 6,
     "metadata": {},
     "output_type": "execute_result"
    }
   ],
   "source": [
    "fun interface IntPredicate {\n",
    "   fun accept(i: Int): Boolean\n",
    "}\n",
    "\n",
    "val isEven = IntPredicate { it % 2 == 0 }\n",
    "\n",
    "isEven.accept(5)"
   ]
  },
  {
   "cell_type": "markdown",
   "id": "94dc5a06-edda-468d-95a4-95eb338a7388",
   "metadata": {},
   "source": [
    "### Konstruktor SAM (Kotlin) - Single Abstract Method"
   ]
  },
  {
   "cell_type": "markdown",
   "id": "091d7427-40d1-4262-9e3d-bc26c6056924",
   "metadata": {},
   "source": [
    "Generowana przez kompilator funkcja pozwalająca konwertować wyrażenie lambda na instancję obiektu implementującego interfejs funkcyjny."
   ]
  },
  {
   "cell_type": "code",
   "execution_count": 25,
   "id": "61db0f7d-26f3-45c0-9676-eeb4eabdd82f",
   "metadata": {},
   "outputs": [
    {
     "data": {
      "text/plain": [
       "false"
      ]
     },
     "execution_count": 25,
     "metadata": {},
     "output_type": "execute_result"
    }
   ],
   "source": [
    "fun interface IntPredicate {\n",
    "   fun accept(i: Int): Boolean\n",
    "}\n",
    "\n",
    "fun isEven(): IntPredicate{\n",
    "    return IntPredicate{it % 2 == 0}\n",
    "}\n",
    "\n",
    "isEven().accept(5)"
   ]
  },
  {
   "cell_type": "markdown",
   "id": "738e4371-4ebf-40ef-9629-ebf53bfd7716",
   "metadata": {},
   "source": [
    "## Klasy abstrakcyjne vs Interfejsy"
   ]
  },
  {
   "cell_type": "markdown",
   "id": "62ad86f8-c696-4b2e-b814-a7c24a9d57bc",
   "metadata": {},
   "source": [
    "- Interfejsy i klasy abstrakcyjne mogą posiadać funkcje - możemy również odwołać się do instancji klasy implementaującej"
   ]
  },
  {
   "cell_type": "code",
   "execution_count": 35,
   "id": "02cb1594-81ca-4db9-ab24-d0a8706b0b97",
   "metadata": {},
   "outputs": [
    {
     "name": "stdout",
     "output_type": "stream",
     "text": [
      "Ref: Line_34$A@670c6613\n",
      "Klasa: A\n",
      "Line_34$A@670c6613\n"
     ]
    }
   ],
   "source": [
    "interface intB {\n",
    "    fun printMe() {\n",
    "        println(\"Ref: ${this}\")\n",
    "        println(\"Klasa: ${this::class.simpleName}\")\n",
    "    }\n",
    "}\n",
    "\n",
    "class A: intB\n",
    "\n",
    "\n",
    "val a = A()\n",
    "a.printMe()\n",
    "println(a)"
   ]
  },
  {
   "cell_type": "markdown",
   "id": "250695c4-6d8c-4515-8712-884ce215866d",
   "metadata": {},
   "source": [
    "- w klasie abstrakcyjnej możemy oznaczyć funkcję jako `final`\n",
    "- w interfejsie funkcja zawsze może zostać nadpisana\n",
    "- po nadpisaniu możemy uzyskać dostęp do domyślnej implementacji przez słowo kluczowe `super`"
   ]
  },
  {
   "cell_type": "code",
   "execution_count": 36,
   "id": "6942c1cb-a29e-41e7-95c3-c09b8baabbea",
   "metadata": {},
   "outputs": [
    {
     "name": "stdout",
     "output_type": "stream",
     "text": [
      "Nadpisana\n",
      "Ref: Line_35$A@4a30252c\n",
      "Klasa: A\n",
      "Line_35$A@4a30252c\n"
     ]
    }
   ],
   "source": [
    "interface intB {\n",
    "    fun printMe() {\n",
    "        println(\"Ref: ${this}\")\n",
    "        println(\"Klasa: ${this::class.simpleName}\")\n",
    "    }\n",
    "}\n",
    "\n",
    "class A: intB{\n",
    "    override final fun printMe(){\n",
    "        println(\"Nadpisana\")\n",
    "        super.printMe()\n",
    "    }\n",
    "}\n",
    "\n",
    "\n",
    "val a = A()\n",
    "a.printMe()\n",
    "println(a)"
   ]
  },
  {
   "cell_type": "markdown",
   "id": "b331b1da-5a1a-4922-9e10-5c99acbf6940",
   "metadata": {},
   "source": [
    "- interfejsy i klasy abstrakcyjne mogą posiadać właściwości"
   ]
  },
  {
   "cell_type": "code",
   "execution_count": 37,
   "id": "09fbc296-fc9e-405a-a9de-fa853a4e28c3",
   "metadata": {},
   "outputs": [
    {
     "data": {
      "text/plain": [
       "Rafał"
      ]
     },
     "execution_count": 37,
     "metadata": {},
     "output_type": "execute_result"
    }
   ],
   "source": [
    "interface intB {\n",
    "    val name: String\n",
    "}\n",
    "\n",
    "class B: intB {\n",
    "    override val name: String = \"Rafał\"\n",
    "}\n",
    "val v = B()\n",
    "v.name"
   ]
  },
  {
   "cell_type": "markdown",
   "id": "60a71a28-ff0d-46f4-81fd-b84994b9b9b3",
   "metadata": {},
   "source": [
    "- właściwości mogą posiadać ciało"
   ]
  },
  {
   "cell_type": "code",
   "execution_count": 39,
   "id": "ce83f32b-97c2-4289-9031-9d25136ffb62",
   "metadata": {},
   "outputs": [
    {
     "name": "stdout",
     "output_type": "stream",
     "text": [
      "Paweł Gaweł"
     ]
    }
   ],
   "source": [
    "interface intB {\n",
    "    val first: String\n",
    "    val last: String\n",
    "    \n",
    "    val fullName: String\n",
    "        get() = \"$first $last\"\n",
    "}\n",
    "\n",
    "class B: intB {\n",
    "    override val first: String = \"Paweł\"\n",
    "    override val last: String = \"Gaweł\"\n",
    "}\n",
    "\n",
    "\n",
    "val b = B()\n",
    "print(b.fullName)"
   ]
  },
  {
   "cell_type": "markdown",
   "id": "3d2583f4-03ab-49f2-9dc4-a5b02b4e93b4",
   "metadata": {},
   "source": [
    "- interfejs nie może przechowywać stanu - za wyjątkiem przypadku kiedy może to zrobić (zła praktyka) - przykładowo w `companion object`"
   ]
  },
  {
   "cell_type": "code",
   "execution_count": 50,
   "id": "b99e2e84-85bc-4e05-a8b7-f6c1e62ab655",
   "metadata": {},
   "outputs": [
    {
     "data": {
      "text/plain": [
       "{Line_49$CA@32b346cd=Rafał, Line_49$CB@67ea0c=Radek}"
      ]
     },
     "execution_count": 50,
     "metadata": {},
     "output_type": "execute_result"
    }
   ],
   "source": [
    "interface intC {\n",
    "    var name: String\n",
    "        get() = names[this] ?: \"Default name\"\n",
    "        set(value) { names[this] = value }\n",
    "\n",
    "    companion object {\n",
    "         val names = mutableMapOf<Any, String>()\n",
    "    }\n",
    "}\n",
    "\n",
    "class CA: intC\n",
    "class CB: intC\n",
    "\n",
    "val ca = CA()\n",
    "ca.name = \"Rafał\"\n",
    "\n",
    "val cb = CB()\n",
    "cb.name = \"Radek\"\n",
    "\n",
    "intC.names"
   ]
  },
  {
   "cell_type": "markdown",
   "id": "09a87113-6b65-4b4c-83ba-88b8c93fa9bd",
   "metadata": {},
   "source": [
    "- Metody w interfejsie mogą być prywatne"
   ]
  },
  {
   "cell_type": "code",
   "execution_count": 53,
   "id": "d4205740-fd82-48ae-a675-8b3d0f995859",
   "metadata": {},
   "outputs": [],
   "source": [
    "interface intD{\n",
    "    private val name get() = \"Rafał\"\n",
    "    fun addThreeNumbers(a: Int, b: Int, c: Int): Int{\n",
    "        return addTwoNumbers(a, b) + c\n",
    "    }\n",
    "    \n",
    "    private fun addTwoNumbers(a: Int, b: Int): Int{\n",
    "        return a + b\n",
    "    }\n",
    "}"
   ]
  },
  {
   "cell_type": "markdown",
   "id": "25510b4a-a305-4a2a-939c-95eca94d81c3",
   "metadata": {},
   "source": [
    "- klasy abstrakcyjne mogą przechowywać stan i posiadać pola"
   ]
  },
  {
   "cell_type": "code",
   "execution_count": 54,
   "id": "f8bb4f7e-867f-473a-a265-fa91d17d1467",
   "metadata": {},
   "outputs": [
    {
     "name": "stdout",
     "output_type": "stream",
     "text": [
      "Paweł Gaweł"
     ]
    }
   ],
   "source": [
    "abstract class A {\n",
    "    var first: String = \"Default first name\"\n",
    "    var last: String = \"Default last name\"\n",
    "    \n",
    "    val fullName: String\n",
    "        get() = \"$first $last\"\n",
    "}\n",
    "\n",
    "class AB: A()\n",
    "class AC: A()\n",
    "\n",
    "\n",
    "val a = AB()\n",
    "a.first = \"Paweł\"\n",
    "a.last = \"Gaweł\"\n",
    "\n",
    "print(a.fullName)"
   ]
  },
  {
   "cell_type": "markdown",
   "id": "f4984e44-32fa-4a04-9e0a-730b4bf0ab71",
   "metadata": {},
   "source": [
    "- klasa abstrakcyjna może posiadać konstruktor\n",
    "- w klasie abstrakcyjnej metody i pola domyślnie są finalne"
   ]
  },
  {
   "cell_type": "code",
   "execution_count": 60,
   "id": "de6ccbc3-db67-4e95-9efe-3a2c5b395fbe",
   "metadata": {},
   "outputs": [
    {
     "name": "stdout",
     "output_type": "stream",
     "text": [
      "Rafał Gaweł\n",
      "Paweł Nazwisko\n"
     ]
    }
   ],
   "source": [
    "abstract class B(\n",
    "    var first: String = \"Default first name\",\n",
    "    var last: String = \"Default last name\"\n",
    ") {\n",
    "    val fullName: String\n",
    "        get() = \"$first $last\"\n",
    "}\n",
    "\n",
    "class BA(first: String): B(first, \"Gaweł\")\n",
    "class BB(first: String): B(first, \"Nazwisko\")\n",
    "\n",
    "\n",
    "val ba = BA(\"Rafał\")\n",
    "val bb = BB(\"Paweł\")\n",
    "println(ba.fullName)\n",
    "println(bb.fullName)"
   ]
  },
  {
   "cell_type": "markdown",
   "id": "c2bc93b2-d4c1-49a2-aae3-7adf8d17ffae",
   "metadata": {},
   "source": [
    "- Klasa może implementować wiele interfejsów i rozszerzać tylko jedną klasę"
   ]
  },
  {
   "cell_type": "code",
   "execution_count": 61,
   "id": "5f49d7ae-f42d-45a3-bbde-897ae5010357",
   "metadata": {},
   "outputs": [],
   "source": [
    "abstract class A\n",
    "interface I1\n",
    "interface I2\n",
    "interface I3\n",
    "class C: A(), I1, I2, I3"
   ]
  }
 ],
 "metadata": {
  "kernelspec": {
   "display_name": "Kotlin",
   "language": "kotlin",
   "name": "kotlin"
  },
  "language_info": {
   "codemirror_mode": "text/x-kotlin",
   "file_extension": ".kt",
   "mimetype": "text/x-kotlin",
   "name": "kotlin",
   "nbconvert_exporter": "",
   "pygments_lexer": "kotlin",
   "version": "1.6.20-dev-6372"
  }
 },
 "nbformat": 4,
 "nbformat_minor": 5
}
