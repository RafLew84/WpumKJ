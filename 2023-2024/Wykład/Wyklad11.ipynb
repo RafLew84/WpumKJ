{
 "cells": [
  {
   "cell_type": "markdown",
   "id": "c72ed89a-5ea6-4b77-a711-9bc2276ac083",
   "metadata": {},
   "source": [
    "# Wykład 11 - Wielowątkowość"
   ]
  },
  {
   "cell_type": "markdown",
   "id": "d396dfb9-fbad-42f6-a291-1ad05a3f8d24",
   "metadata": {},
   "source": [
    "## Klasa `Thread` i interfejs `Runnable`"
   ]
  },
  {
   "cell_type": "code",
   "execution_count": 5,
   "id": "5ce5a50d-8c1b-47c8-860d-151c911f95c8",
   "metadata": {},
   "outputs": [
    {
     "name": "stdout",
     "output_type": "stream",
     "text": [
      "poza wątkiem\n",
      "wewnątrz wątku\n"
     ]
    }
   ],
   "source": [
    "// java\n",
    "public class A extends Thread {\n",
    "  public static void main() {\n",
    "    A thread = new A();\n",
    "    thread.start();\n",
    "    System.out.println(\"poza wątkiem\");\n",
    "  }\n",
    "  public void run() {\n",
    "    System.out.println(\"wewnątrz wątku\");\n",
    "  }\n",
    "}\n",
    "A.main();"
   ]
  },
  {
   "cell_type": "code",
   "execution_count": 7,
   "id": "76d8278e-98a9-4d0e-b8d3-e1d1efd7769e",
   "metadata": {},
   "outputs": [
    {
     "name": "stdout",
     "output_type": "stream",
     "text": [
      "poza wątkiem\n",
      "wewnątrz wątku\n"
     ]
    }
   ],
   "source": [
    "// java\n",
    "public class B implements Runnable {\n",
    "  public static void main() {\n",
    "    B b = new B();\n",
    "    Thread thread = new Thread(b);\n",
    "    thread.start();\n",
    "    System.out.println(\"poza wątkiem\");\n",
    "  }\n",
    "  public void run() {\n",
    "    System.out.println(\"wewnątrz wątku\");\n",
    "  }\n",
    "}\n",
    "B.main();"
   ]
  },
  {
   "cell_type": "code",
   "execution_count": 6,
   "id": "3c9e8a7d-8fdf-44ed-9833-fceef81c7127",
   "metadata": {},
   "outputs": [
    {
     "name": "stdout",
     "output_type": "stream",
     "text": [
      "poza wątkiem\n",
      "wewnątrz wątki\n"
     ]
    }
   ],
   "source": [
    "// kotlin\n",
    "class C : Thread(){\n",
    "    override fun run(){\n",
    "        println(\"wewnątrz wątki\")\n",
    "    }\n",
    "}\n",
    "\n",
    "fun main(){\n",
    "    val thread = C()\n",
    "    thread.start()\n",
    "    println(\"poza wątkiem\")\n",
    "}\n",
    "\n",
    "main()"
   ]
  },
  {
   "cell_type": "code",
   "execution_count": 11,
   "id": "3ad89fef-680a-4193-8d5c-b5491dfd8df9",
   "metadata": {},
   "outputs": [
    {
     "name": "stdout",
     "output_type": "stream",
     "text": [
      "poza wątkiem\n",
      "wewnątrz wątki\n"
     ]
    }
   ],
   "source": [
    "// kotlin\n",
    "class D: Runnable{\n",
    "    override fun run(){\n",
    "        println(\"wewnątrz wątki\")\n",
    "    }\n",
    "}\n",
    "\n",
    "fun main(){\n",
    "    val d = D()\n",
    "    val thread = Thread(d)\n",
    "    thread.start()\n",
    "    println(\"poza wątkiem\")\n",
    "}\n",
    "\n",
    "main()"
   ]
  },
  {
   "cell_type": "markdown",
   "id": "e21a4718-e555-408b-af2c-a5e737bc5786",
   "metadata": {},
   "source": [
    "## Współbieżność"
   ]
  },
  {
   "cell_type": "code",
   "execution_count": 18,
   "id": "3d116d5b-b184-45d9-93cf-f7bdb7c42bbd",
   "metadata": {},
   "outputs": [
    {
     "name": "stdout",
     "output_type": "stream",
     "text": [
      "0\n",
      "2\n"
     ]
    }
   ],
   "source": [
    "// java\n",
    "public class E extends Thread {\n",
    "  public static int counter = 0;\n",
    "\n",
    "  public static void main() {\n",
    "    E thread = new E();\n",
    "    thread.start();\n",
    "    // try{\n",
    "    //     Thread.sleep(2000);\n",
    "    // } catch (InterruptedException e){}\n",
    "    System.out.println(counter);\n",
    "    counter++;\n",
    "    System.out.println(counter);\n",
    "  }\n",
    "\n",
    "  public void run() {\n",
    "    counter++;\n",
    "  }\n",
    "}\n",
    "E.main();"
   ]
  },
  {
   "cell_type": "markdown",
   "id": "abc216f0-536d-4420-bec9-1f7a8a75a7a6",
   "metadata": {},
   "source": [
    "## Widoczność"
   ]
  },
  {
   "cell_type": "code",
   "execution_count": 1,
   "id": "adfce31e-879a-4bfe-a340-5196b32a4d7b",
   "metadata": {},
   "outputs": [
    {
     "name": "stdout",
     "output_type": "stream",
     "text": [
      "Consumer: 0\n",
      "Producer: 1\n"
     ]
    }
   ],
   "source": [
    "public class VisibilityDemoMain {\n",
    "    private static int sCounter = 0;\n",
    "    //private static volatile int sCounter = 0;\n",
    "\n",
    "    public static void main(){\n",
    "        new Consumer().start();\n",
    "        try {\n",
    "            Thread.sleep(500);\n",
    "        } catch (InterruptedException e) {\n",
    "            return;\n",
    "        }\n",
    "        new Producer().start();\n",
    "    }\n",
    "\n",
    "    static class Consumer extends Thread {\n",
    "        @Override\n",
    "        public void run() {\n",
    "            int localCounter = -1;\n",
    "            while (true){\n",
    "                if(localCounter != sCounter){\n",
    "                    System.out.println(\"Consumer: \" + sCounter);\n",
    "                    localCounter = sCounter;\n",
    "                }\n",
    "                if(sCounter >= 7)\n",
    "                    break;\n",
    "            }\n",
    "            System.out.println(\"Consumer is terminated\");\n",
    "        }\n",
    "    }\n",
    "\n",
    "    static class Producer extends Thread{\n",
    "        @Override\n",
    "        public void run() {\n",
    "            while(sCounter < 7){\n",
    "                int localValue = sCounter;\n",
    "                localValue++;\n",
    "                System.out.println(\"Producer: \" + localValue);\n",
    "                sCounter = localValue;\n",
    "                try {\n",
    "                    Thread.sleep(1000);\n",
    "                } catch (InterruptedException e) {\n",
    "                    return;\n",
    "                }\n",
    "            }\n",
    "            System.out.println(\"Producer is terminated\");\n",
    "        }\n",
    "    }\n",
    "}\n",
    "\n",
    "VisibilityDemoMain.main();"
   ]
  },
  {
   "cell_type": "markdown",
   "id": "7a13413a-5efe-4503-90db-3297afa6b9a3",
   "metadata": {},
   "source": [
    "Wątek `Consumer` wykrywa pierwszą zmianę i drukuje wiadomość. Następnie pracę rozpoczyna `Producer` i drukuje kolejne wiadomości. Tutaj nie widzimy dalszych wiadomości od `Consumer`, dzieje się tak ponieważ wątek ten nie wykrywa zmian wartości `sCounter`.\n",
    "\n",
    "Problem powoduje model pamięci zastosowany w **JVM** - wartość `sCounter` jest przechowywana w pamięci podręcznej, więc pomimo tego że `Producer` modyfikuje jego wartość, `Consumer` nie jest w stanie się do tego elementu pamięci dostać. Zastosowana optymalizacja powoduje utworzenie kopii w pamięci podręcznej która cały czas ma wartość 0.\n",
    "\n",
    "Taki stan możemy rozwiązać wprowadzając **zmienną ulotną** z modyfikatorem `volatile` (w Kotlinie `@Volatile`). Powoduje on że wartość zmiennej zawsze jest odczytywany z pamięci i nigdy nie jest przechowywana w pamięci podręcznej."
   ]
  },
  {
   "cell_type": "code",
   "execution_count": null,
   "id": "d984af00-e511-456c-9790-734b9ece0624",
   "metadata": {},
   "outputs": [],
   "source": [
    "fun main() {\n",
    "    Consumer().start()\n",
    "    try {\n",
    "        Thread.sleep(500)\n",
    "    } catch (e: InterruptedException) {\n",
    "        return\n",
    "    }\n",
    "    Producer().start()\n",
    "}\n",
    "\n",
    "private var sCounter = 0\n",
    "// @Volatile private var sCounter = 0\n",
    "\n",
    "class Producer : Thread() {\n",
    "    override fun run() {\n",
    "        while (sCounter < 7) {\n",
    "            var localValue = sCounter\n",
    "            localValue++\n",
    "            println(\"Producer: $localValue\")\n",
    "            sCounter = localValue\n",
    "            try {\n",
    "                sleep(1000)\n",
    "            } catch (e: InterruptedException) {\n",
    "                return\n",
    "            }\n",
    "        }\n",
    "        println(\"Producer is terminated\")\n",
    "    }\n",
    "}\n",
    "\n",
    "class Consumer : Thread() {\n",
    "    override fun run() {\n",
    "        var localCounter = -1\n",
    "        while (true) {\n",
    "            if (localCounter != sCounter) {\n",
    "                println(\"Consumer: $sCounter\")\n",
    "                localCounter = sCounter\n",
    "            }\n",
    "            if (sCounter >= 7) break\n",
    "        }\n",
    "        println(\"Consumer is terminated\")\n",
    "    }\n",
    "}\n"
   ]
  },
  {
   "cell_type": "markdown",
   "id": "fe86bddc-0da1-42f3-8aa8-45f6f2c4ec31",
   "metadata": {},
   "source": [
    "## Klasy atomowe"
   ]
  },
  {
   "cell_type": "code",
   "execution_count": null,
   "id": "9abf2207-6c8c-42ad-827c-62e63b922032",
   "metadata": {},
   "outputs": [],
   "source": [
    "// java\n",
    "public class Main {\n",
    "    private static final int COUNT_UP_TO = 1000;\n",
    "    private static final int NUM_OF_THREADS = 100;\n",
    "\n",
    "    private static volatile int mCount;\n",
    "\n",
    "    public static void main(String[] args) throws InterruptedException {\n",
    "        mCount.set(0);\n",
    "\n",
    "        for(int i = 0; i < NUM_OF_THREADS; i++){\n",
    "            startThread();\n",
    "        }\n",
    "        Thread.sleep(2000);\n",
    "        System.out.println(mCount.get());\n",
    "    }\n",
    "\n",
    "    private static void startThread() {\n",
    "        new Thread(() ->{\n",
    "            for(int i = 0; i < COUNT_UP_TO; i++){\n",
    "                mCount++;\n",
    "            }\n",
    "        }).start();\n",
    "    }\n",
    "}"
   ]
  },
  {
   "cell_type": "code",
   "execution_count": null,
   "id": "8f7e211a-ba83-4b13-b513-856a0a10e4fb",
   "metadata": {},
   "outputs": [],
   "source": [
    "// kotlin\n",
    "private const val COUNT_UP_TO = 1000\n",
    "private const val NUM_OF_THREADS = 100\n",
    "\n",
    "@Volatile\n",
    "private var mCount = 0\n",
    "\n",
    "fun main() {\n",
    "    mCount = 0\n",
    "    for (i in 0 until NUM_OF_THREADS) {\n",
    "        startThread()\n",
    "    }\n",
    "    Thread.sleep(2000)\n",
    "    println(mCount)\n",
    "}\n",
    "\n",
    "private fun startThread() {\n",
    "    Thread {\n",
    "        for (i in 0 until COUNT_UP_TO) {\n",
    "            mCount++\n",
    "        }\n",
    "    }.start()\n",
    "}"
   ]
  },
  {
   "cell_type": "markdown",
   "id": "4f51f688-1345-4c8c-b169-6eb61a28d367",
   "metadata": {},
   "source": [
    "Mamy 100 wątków liczących do 1000, więc spodziewamy się że wartość `mCount` będzie wynosić 100000 po wykonaniu programu. Jednak jak widzimy wartość często jest mniejsza. Umieszczając powyższy kod w IDE powinniśmy dostać ostrzeżenie **Non-atomic operation on volatile field**.\n",
    "\n",
    "Operacją nie-atomową jest przykładowo inkrementacja `mCount++`. Inkrementacja w rzeczwistości jest wykonywana w trzech krokach."
   ]
  },
  {
   "cell_type": "markdown",
   "id": "8d83697e-b51e-4476-9252-0ad2877fe533",
   "metadata": {},
   "source": [
    "```java\n",
    "int localCopy = mCount;\n",
    "mCount = localCopy + 1;\n",
    "```"
   ]
  },
  {
   "cell_type": "markdown",
   "id": "c2314e6c-4efd-45e9-859d-aef320069614",
   "metadata": {},
   "source": [
    "- tworzona jest kopia `mCount`\n",
    "- wykonywana jest operacja dodawania `localCopy + 1`\n",
    "- wykonywany jest zapis do zmiennej `mCount`"
   ]
  },
  {
   "cell_type": "markdown",
   "id": "93361196-407d-4b53-bd5c-0171fc9e3b95",
   "metadata": {},
   "source": [
    "Gdy wiele wątków zaczyna przeprowadzać tę operację współbieżnie istnieje możliwość odczytania wartości `mCount` zanim zostanie wykonana operacja dodawania i powrotnego przypisania wartości."
   ]
  },
  {
   "cell_type": "markdown",
   "id": "7223fd20-b076-4a5d-9cde-0fd9efeedfcc",
   "metadata": {},
   "source": [
    "Chcąc zapewnić bezpieczeństwo podczas inkrementacji zmiennej `mCount` przez wiele wątków musimy zastosować zmienną typu atomowego."
   ]
  },
  {
   "cell_type": "code",
   "execution_count": null,
   "id": "9e63bd7e-0ca7-45ac-afda-ee1aa798e3d4",
   "metadata": {},
   "outputs": [],
   "source": [
    "//java\n",
    "import java.util.concurrent.atomic.AtomicInteger;\n",
    "\n",
    "public class Main {\n",
    "    private static final int COUNT_UP_TO = 1000;\n",
    "    private static final int NUM_OF_THREADS = 100;\n",
    "\n",
    "    private static final AtomicInteger mCount = new AtomicInteger(0);\n",
    "    //private static int mCount = 0;\n",
    "\n",
    "    public static void main(String[] args) throws InterruptedException {\n",
    "        //mCount=0;\n",
    "        mCount.set(0);\n",
    "\n",
    "        for(int i = 0; i < NUM_OF_THREADS; i++){\n",
    "            startThread();\n",
    "        }\n",
    "        Thread.sleep(2000);\n",
    "        //System.out.println(mCount);\n",
    "        System.out.println(mCount.get());\n",
    "    }\n",
    "\n",
    "    private static void startThread() {\n",
    "        new Thread(() ->{\n",
    "            for(int i = 0; i < COUNT_UP_TO; i++){\n",
    "                //mCount++;\n",
    "                mCount.incrementAndGet();\n",
    "            }\n",
    "        }).start();\n",
    "    }\n",
    "}"
   ]
  },
  {
   "cell_type": "code",
   "execution_count": null,
   "id": "0412461c-80e5-4b6f-bd7c-d76a8eccc816",
   "metadata": {},
   "outputs": [],
   "source": [
    "//kotlin\n",
    "import java.util.concurrent.atomic.AtomicInteger\n",
    "\n",
    "private const val COUNT_UP_TO = 1000\n",
    "private const val NUM_OF_THREADS = 100\n",
    "\n",
    "//@Volatile\n",
    "//private var mCount = 0\n",
    "\n",
    "private val mCount = AtomicInteger(0)\n",
    "\n",
    "fun main() {\n",
    "    //mCount = 0\n",
    "    mCount.set(0)\n",
    "    for (i in 0 until NUM_OF_THREADS) {\n",
    "        startThread()\n",
    "    }\n",
    "    Thread.sleep(2000)\n",
    "    //println(mCount)\n",
    "    println(mCount.get())\n",
    "}\n",
    "\n",
    "private fun startThread() {\n",
    "    Thread {\n",
    "        for (i in 0 until COUNT_UP_TO) {\n",
    "            //mCount++\n",
    "            mCount.incrementAndGet()\n",
    "        }\n",
    "    }.start()\n",
    "}"
   ]
  },
  {
   "cell_type": "markdown",
   "id": "5c47d809-3649-4291-970c-1f1675145347",
   "metadata": {},
   "source": [
    "## Synchronizacja"
   ]
  },
  {
   "cell_type": "code",
   "execution_count": null,
   "id": "abf80b22-2e13-470a-ac23-72ca378f3e0b",
   "metadata": {},
   "outputs": [],
   "source": [
    "// java\n",
    "static class Producer extends Thread {\n",
    "        @Override\n",
    "        public void run() {\n",
    "            while (true) {\n",
    "\n",
    "                    if(sCounter >= 7)\n",
    "                        break;\n",
    "                    int localValue = sCounter;\n",
    "                    localValue++;\n",
    "                    System.out.println(\"Producer: \" + localValue);\n",
    "                    sCounter = localValue;\n",
    "                \n",
    "\n",
    "                // try {\n",
    "                //     Thread.sleep(1000);\n",
    "                // } catch (InterruptedException e) {\n",
    "                //     return;\n",
    "                // }\n",
    "            }\n",
    "            System.out.println(\"Producer is terminated\");\n",
    "        }\n",
    "    }\n"
   ]
  },
  {
   "cell_type": "markdown",
   "id": "71c198c3-21c4-44a2-8589-57f6a64799db",
   "metadata": {},
   "source": [
    "Jeżeli pozbędziemy się wywołania `Thread.sleep` z klasy `Producer` wystąpi **race condition**. Dwa lub więcej wątków w sposób niekontrolowany uzyskują dostęp do tej samej informacji.\n",
    "\n",
    "Aby rozwiązać ten problem musimy zapewnić atomowość dostępu do danych. Gdy któryś z wątków wchodzi w pętle `while` chcemy zapewnić bezpieczeństwo wykonania - czyli uniemożliwić innemu wątkowi pracę na współdzielonych danych. Osiągamy to przez **synchronizację** pracy wątków."
   ]
  },
  {
   "cell_type": "code",
   "execution_count": null,
   "id": "edb586a7-0327-41fe-90ab-facb14c37edd",
   "metadata": {},
   "outputs": [],
   "source": [
    "public class Main {\n",
    "    private static volatile int sCounter = 0;\n",
    "\n",
    "    private static final Object LOCK = new Object();\n",
    "\n",
    "    public static void main(String[] args) {\n",
    "        new Consumer().start();\n",
    "        try {\n",
    "            Thread.sleep(500);\n",
    "        } catch (InterruptedException e) {\n",
    "            return;\n",
    "        }\n",
    "        new Producer().start();\n",
    "    }\n",
    "\n",
    "    static class Consumer extends Thread {\n",
    "        @Override\n",
    "        public void run() {\n",
    "            int localCounter = -1;\n",
    "            while (true) {\n",
    "                synchronized (LOCK) {\n",
    "                    if (localCounter != sCounter) {\n",
    "                        System.out.println(\"Consumer: \" + sCounter);\n",
    "                        localCounter = sCounter;\n",
    "                    }\n",
    "                    if (sCounter >= 7)\n",
    "                        break;\n",
    "                }\n",
    "            }\n",
    "            System.out.println(\"Consumer is terminated\");\n",
    "        }\n",
    "    }\n",
    "\n",
    "    static class Producer extends Thread {\n",
    "        @Override\n",
    "        public void run() {\n",
    "            while (true) {\n",
    "                synchronized (LOCK) {\n",
    "                    if(sCounter >= 7)\n",
    "                        break;\n",
    "                    int localValue = sCounter;\n",
    "                    localValue++;\n",
    "                    System.out.println(\"Producer: \" + localValue);\n",
    "                    sCounter = localValue;\n",
    "                }\n",
    "            }\n",
    "            System.out.println(\"Producer is terminated\");\n",
    "        }\n",
    "    }\n",
    "}\n"
   ]
  },
  {
   "cell_type": "code",
   "execution_count": null,
   "id": "cd265b0a-9d8d-4bd3-a1d1-a96b9e67666d",
   "metadata": {},
   "outputs": [],
   "source": [
    "public class Main {\n",
    "    private static int sCounter = 0;\n",
    "\n",
    "    private static final Object LOCK = new Object();\n",
    "\n",
    "    public static void main(String[] args) {\n",
    "        new Consumer().start();\n",
    "        try {\n",
    "            Thread.sleep(500);\n",
    "        } catch (InterruptedException e) {\n",
    "            return;\n",
    "        }\n",
    "        new Producer().start();\n",
    "    }\n",
    "\n",
    "    static class Consumer extends Thread {\n",
    "        @Override\n",
    "        public void run() {\n",
    "            int localCounter = -1;\n",
    "            while (true) {\n",
    "                synchronized (LOCK) {\n",
    "                    if (localCounter != sCounter) {\n",
    "                        System.out.println(\"Consumer: \" + sCounter);\n",
    "                        localCounter = sCounter;\n",
    "                    }\n",
    "                    if (sCounter >= 7)\n",
    "                        break;\n",
    "                    \n",
    "                    LOCK.notifyAll();\n",
    "                    \n",
    "                    try {\n",
    "                        LOCK.wait();\n",
    "                    } catch (InterruptedException e) {\n",
    "                        return;\n",
    "                    }\n",
    "                }\n",
    "\n",
    "            }\n",
    "            System.out.println(\"Consumer is terminated\");\n",
    "        }\n",
    "    }\n",
    "\n",
    "    static class Producer extends Thread {\n",
    "        @Override\n",
    "        public void run() {\n",
    "            while (true) {\n",
    "                synchronized (LOCK) {\n",
    "                    if(sCounter >= 7)\n",
    "                        break;\n",
    "                    int localValue = sCounter;\n",
    "                    localValue++;\n",
    "                    System.out.println(\"Producer: \" + localValue);\n",
    "                    sCounter = localValue;\n",
    "                    \n",
    "                    LOCK.notifyAll();\n",
    "                    \n",
    "                    try {\n",
    "                        LOCK.wait();\n",
    "                    } catch (InterruptedException e) {\n",
    "                        return;\n",
    "                    }\n",
    "\n",
    "                }\n",
    "            }\n",
    "            System.out.println(\"Producer is terminated\");\n",
    "        }\n",
    "    }\n",
    "}\n"
   ]
  },
  {
   "cell_type": "markdown",
   "id": "8e7ccdda-c376-43eb-88ac-a56dc45a5e50",
   "metadata": {},
   "source": [
    "## `synchronized`"
   ]
  },
  {
   "cell_type": "code",
   "execution_count": null,
   "id": "8bdf3c70-6082-4f05-9f2f-fe3a7f761b3b",
   "metadata": {},
   "outputs": [],
   "source": [
    "public class SynchronizedClass {\n",
    "    protected Object object = null;\n",
    "    \n",
    "    // tylko jeden wątek może wykonać metodę synchronized na raz\n",
    "    // na instancji klasy\n",
    "    public synchronized void setObject(Object o){\n",
    "        this.object = o;\n",
    "    }\n",
    "    \n",
    "    public synchronized Object getObject(){\n",
    "        return this.object;\n",
    "    }\n",
    "    \n",
    "    public void setObj(Object o){\n",
    "        // tylko jeden wątek może wykonać blok synchronized na raz\n",
    "        // na instancji klasy\n",
    "        synchronized(this){\n",
    "            this.object = o;\n",
    "        }\n",
    "    }\n",
    "    \n",
    "    public Object getObj(){\n",
    "        synchronized(this){\n",
    "            return this.object;\n",
    "        }\n",
    "    }\n",
    "}"
   ]
  },
  {
   "cell_type": "markdown",
   "id": "2810dbb8-f5ab-48fb-854f-fca549840fc2",
   "metadata": {},
   "source": [
    "![](synchClass.png)"
   ]
  },
  {
   "cell_type": "markdown",
   "id": "a13b75a0-f120-4ae2-b0a3-7c1eb5cb49a6",
   "metadata": {},
   "source": [
    "Jeżeli `Thread1` aktualnie wykonuje metodę `setObject`, `Thread2` nie może wykonać `getObject`."
   ]
  },
  {
   "cell_type": "markdown",
   "id": "c4729535-096b-40e7-9ce0-d30501788c5e",
   "metadata": {},
   "source": [
    "![](synchClassinstances.png)"
   ]
  },
  {
   "cell_type": "code",
   "execution_count": null,
   "id": "3353ff56-540f-4343-b72e-620ef2be205c",
   "metadata": {},
   "outputs": [],
   "source": [
    "public class StaticSynchronizedClass {\n",
    "    protected static Object object = null;\n",
    "\n",
    "    // tylko jeden wątek może wykonać metodę synchronized na raz\n",
    "    public static synchronized void setObject(Object o){\n",
    "        object = o;\n",
    "    }\n",
    "\n",
    "    public static synchronized Object getObject(){\n",
    "        return object;\n",
    "    }\n",
    "\n",
    "    public static void setObj(Object o){\n",
    "        // tylko jeden wątek może wykonać blok synchronized na raz\n",
    "        synchronized(StaticSynchronizedClass.class){\n",
    "            this.object = o;\n",
    "        }\n",
    "    }\n",
    "\n",
    "    public static Object getObj(){\n",
    "        synchronized(StaticSynchronizedClass.class){\n",
    "            return this.object;\n",
    "        }\n",
    "    }\n",
    "}"
   ]
  },
  {
   "cell_type": "markdown",
   "id": "25a77a2a-5f5e-432c-86ac-1ba5d801ee01",
   "metadata": {},
   "source": [
    "![](staticSynchClass.png)"
   ]
  },
  {
   "cell_type": "markdown",
   "id": "9ca7cb3e-3ffa-413b-b366-67140c7a9c7c",
   "metadata": {},
   "source": [
    "Ograniczenia\n",
    "- tylko jeden wątek może wykonywać metodę lub blok `synchronized`\n",
    "- brak kontroli nad wątkami oczekującymi"
   ]
  },
  {
   "cell_type": "markdown",
   "id": "a0b6b952-ff8a-4855-a2cd-1df1f31f26a5",
   "metadata": {},
   "source": [
    "## `ThreadPool`"
   ]
  },
  {
   "cell_type": "markdown",
   "id": "e6a98e36-75d3-4e64-ba7f-10591c3f14d1",
   "metadata": {},
   "source": [
    "![](threadPool.png)"
   ]
  },
  {
   "cell_type": "code",
   "execution_count": 3,
   "id": "c1cf8818-c722-4458-bb5a-79438bb35b6b",
   "metadata": {},
   "outputs": [],
   "source": [
    "//[Źródło](https://jenkov.com/tutorials/java-concurrency/thread-pools.html)\n",
    "\n",
    "import java.util.ArrayList;\n",
    "import java.util.List;\n",
    "import java.util.concurrent.ArrayBlockingQueue;\n",
    "import java.util.concurrent.BlockingQueue;\n",
    "\n",
    "public class MyThreadPool {\n",
    "\n",
    "    private final BlockingQueue<Runnable> taskQueue;\n",
    "    private final List<PoolThreadRunnable> runnables = new ArrayList<>();\n",
    "    private boolean isStopped = false;\n",
    "\n",
    "    public MyThreadPool(int noOfThreads, int maxNoOfTasks) {\n",
    "        taskQueue = new ArrayBlockingQueue<>(maxNoOfTasks);\n",
    "\n",
    "        for (int i = 0; i < noOfThreads; i++)\n",
    "            runnables.add(new PoolThreadRunnable(taskQueue));\n",
    "\n",
    "        for (PoolThreadRunnable runnable : runnables)\n",
    "            new Thread(runnable).start();\n",
    "    }\n",
    "\n",
    "    public synchronized void execute(Runnable task) throws Exception {\n",
    "        if (this.isStopped || !taskQueue.offer(task)) throw\n",
    "                new IllegalStateException(\"ThreadPool is stopped\");\n",
    "    }\n",
    "\n",
    "    public synchronized void stop() {\n",
    "        this.isStopped = true;\n",
    "        for (PoolThreadRunnable runnable : runnables) {\n",
    "            runnable.doStop();\n",
    "        }\n",
    "    }\n",
    "\n",
    "    public synchronized void waitUntilAllTasksFinished() {\n",
    "        while (this.taskQueue.size() > 0) {\n",
    "            try {\n",
    "                Thread.sleep(1);\n",
    "            } catch (InterruptedException e) {\n",
    "                e.printStackTrace();\n",
    "            }\n",
    "        }\n",
    "    }\n",
    "\n",
    "}"
   ]
  },
  {
   "cell_type": "code",
   "execution_count": 4,
   "id": "dc620d16-408a-4ccc-8e38-1f581a4a9fc4",
   "metadata": {},
   "outputs": [],
   "source": [
    "\n",
    "import java.util.concurrent.BlockingQueue;\n",
    "\n",
    "public class PoolThreadRunnable implements Runnable {\n",
    "\n",
    "    private Thread thread = null;\n",
    "    private BlockingQueue<Runnable> taskQueue;\n",
    "    private boolean isStopped = false;\n",
    "\n",
    "    public PoolThreadRunnable(BlockingQueue<Runnable> queue) {\n",
    "        taskQueue = queue;\n",
    "    }\n",
    "\n",
    "    public void run() {\n",
    "        this.thread = Thread.currentThread();\n",
    "        while (!isStopped()) {\n",
    "            try {\n",
    "                Thread.sleep(1000);\n",
    "                Runnable runnable = taskQueue.take();\n",
    "                runnable.run();\n",
    "            } catch (Exception ignored) {}\n",
    "        }\n",
    "    }\n",
    "\n",
    "    public synchronized void doStop() {\n",
    "        isStopped = true;\n",
    "        this.thread.interrupt();\n",
    "    }\n",
    "\n",
    "    public synchronized boolean isStopped() {\n",
    "        return isStopped;\n",
    "    }\n",
    "}\n"
   ]
  },
  {
   "cell_type": "code",
   "execution_count": 6,
   "id": "4f283149-e2c2-47f1-926a-856a76587725",
   "metadata": {},
   "outputs": [
    {
     "name": "stdout",
     "output_type": "stream",
     "text": [
      "Thread-3: Task 0\n",
      "Thread-1: Task 1\n",
      "Thread-2: Task 2\n",
      "Thread-3: Task 3\n",
      "Thread-1: Task 4\n",
      "Thread-2: Task 5\n",
      "Thread-3: Task 6\n",
      "Thread-1: Task 7\n",
      "Thread-2: Task 8\n",
      "Thread-3: Task 9\n",
      "Thread-1: Task 10\n",
      "Thread-2: Task 11\n",
      "Thread-3: Task 12\n",
      "Thread-1: Task 13\n",
      "Thread-2: Task 14\n",
      "Thread-3: Task 15\n",
      "Thread-1: Task 16\n",
      "Thread-2: Task 17\n",
      "Thread-3: Task 18\n",
      "Thread-1: Task 19\n"
     ]
    }
   ],
   "source": [
    "public class Main {\n",
    "    public static void main() throws Exception {\n",
    "\n",
    "        MyThreadPool threadPool = new MyThreadPool(3, 20);\n",
    "\n",
    "        for (int i = 0; i < 20; i++) {\n",
    "\n",
    "            int taskNumber = i;\n",
    "            threadPool.execute(() -> {\n",
    "                String message =\n",
    "                        Thread.currentThread().getName()\n",
    "                                + \": Task \" + taskNumber;\n",
    "                System.out.println(message);\n",
    "            });\n",
    "        }\n",
    "\n",
    "        threadPool.waitUntilAllTasksFinished();\n",
    "        threadPool.stop();\n",
    "\n",
    "    }\n",
    "}\n",
    "Main.main();"
   ]
  },
  {
   "cell_type": "markdown",
   "id": "1f9e22a5-8dc3-4d33-8b97-0e834927437c",
   "metadata": {},
   "source": [
    "## 12.4 `BlockingQueue`"
   ]
  },
  {
   "cell_type": "markdown",
   "id": "79160243-de2e-4cf9-87f6-07b6b4a1d130",
   "metadata": {},
   "source": [
    "![](bq.png)"
   ]
  },
  {
   "cell_type": "code",
   "execution_count": null,
   "id": "d5257be9-8e27-48d8-ba4b-8c20428460ee",
   "metadata": {},
   "outputs": [],
   "source": []
  }
 ],
 "metadata": {
  "kernelspec": {
   "display_name": "Kotlin",
   "language": "kotlin",
   "name": "kotlin"
  },
  "language_info": {
   "codemirror_mode": "text/x-kotlin",
   "file_extension": ".kt",
   "mimetype": "text/x-kotlin",
   "name": "kotlin",
   "nbconvert_exporter": "",
   "pygments_lexer": "kotlin",
   "version": "1.6.20-dev-6372"
  }
 },
 "nbformat": 4,
 "nbformat_minor": 5
}
