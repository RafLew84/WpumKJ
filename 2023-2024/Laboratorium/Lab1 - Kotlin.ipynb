{
 "cells": [
  {
   "cell_type": "markdown",
   "id": "81620629-a524-48a9-93b9-d9a2804e5c77",
   "metadata": {
    "tags": []
   },
   "source": [
    "# 1. Kotlin - Fundamenty\n",
    "\n",
    "## 1.1 Struktura kodu\n",
    "\n",
    "Ta część opisuje podstawową składnię języka Kotlin."
   ]
  },
  {
   "cell_type": "code",
   "execution_count": 1,
   "id": "3726ecbd-0dae-4e7d-abe6-d08a3fa10cd8",
   "metadata": {},
   "outputs": [],
   "source": [
    "fun main ( args : Array<String>) {\n",
    "    println( \" Hello , world ! \" )\n",
    "}"
   ]
  },
  {
   "cell_type": "markdown",
   "id": "ee81db7b-b52f-431d-bf5e-ec94d6ea63b2",
   "metadata": {},
   "source": [
    "Słowo kluczowe ``fun`` służy do zadeklarowania funkcji, ``main()`` jest miejscem wejściowym aplikacji. Aplikacja musi posiadać co najmniej jedno miejsce wejściowe. Tutaj należy również zauważyć, że funkcje można deklarować na najwyższym poziomie kodu, czyli nie jest konieczne umieszczanie ich w klasach lub pakietach tak jak w Javie. Metoda ``println()`` jest opakowaną funkcją Java, tutaj oznacza to że możemy użyć bardziej zwięzłej nazwy (zamiast ``System.out.println()``). Kolejną istotną zmianą w stosunku do Javy jest **brak średnika** na końcu wiersza. Tablice w Kotlinie są klasą, w odróżnieniu od Javy, nie ma specjalnej składni deklarowania tablic."
   ]
  },
  {
   "cell_type": "markdown",
   "id": "aef7ae6f-2f78-4fe8-a78b-1b355bf09dfd",
   "metadata": {},
   "source": [
    "W Kotlinie jest trzeci typ komentarzy (poza znanymi: jednoliniowym ``//`` oraz wieloliniowym ``/* */``) Javadoc. Jest on pomocny podczas przygotowywania dokumentacji projektu. Rozpoczyna się od ``/**`` i kończy ``*/``"
   ]
  },
  {
   "cell_type": "code",
   "execution_count": 2,
   "id": "d1588550-eae5-4d4f-b034-98b4a285a21c",
   "metadata": {},
   "outputs": [],
   "source": [
    "/**\n",
    "* Application entry point\n",
    "*\n",
    "* @param args aray of command - line arguments\n",
    "* passed to this method\n",
    "*/\n",
    "fun main ( args : Array<String>) {\n",
    "    // TODO code application logic here\n",
    "}"
   ]
  },
  {
   "cell_type": "markdown",
   "id": "c722c799-ac1c-4a9f-9d3c-a7735491fd47",
   "metadata": {},
   "source": [
    "W tym przykładzie widzimy przykład komentarza Javadoc opisującego metodę ``main()``. ``@param`` jest adnotacją (tutaj tagiem Javadoc). Kilka przykładów adnotacji:\n",
    "- ``@param`` – identyfikuje parametr metody\n",
    "- ``@author`` – identyfikuje autora kodu\n",
    "- ``@deprecated`` – identyfikuje byt w kodzie źródłowym, który nie powinien być już używany\n",
    "- ``@throws`` – dokumentuje wyjątek rzucany przez metodę"
   ]
  },
  {
   "cell_type": "markdown",
   "id": "e51f41b9-d82f-464a-9ac6-ac1db8cad434",
   "metadata": {},
   "source": [
    "## 1.2 val vs var"
   ]
  },
  {
   "cell_type": "code",
   "execution_count": 4,
   "id": "428cb30e-5856-4443-bb3a-8d23f18c6bed",
   "metadata": {},
   "outputs": [
    {
     "name": "stderr",
     "output_type": "stream",
     "text": [
      "Line_3.jupyter-kts (3:1 - 2) Val cannot be reassigned"
     ]
    }
   ],
   "source": [
    "val s = \"string\"\n",
    "println(s)\n",
    "s = \"innyy\" // nielegalne\n",
    "println(s)\n",
    "val i = 44\n",
    "val j: Int = 44\n",
    "val d = 7.56e4"
   ]
  },
  {
   "cell_type": "code",
   "execution_count": 2,
   "id": "dd0ede66-02b7-4f01-975b-bc07a0f9f687",
   "metadata": {},
   "outputs": [
    {
     "name": "stdout",
     "output_type": "stream",
     "text": [
      "string\n",
      "inny\n"
     ]
    }
   ],
   "source": [
    "var ss = \"string\"\n",
    "println(ss)\n",
    "ss = \"inny\"\n",
    "println(ss)"
   ]
  },
  {
   "cell_type": "markdown",
   "id": "5677c918-4b3c-4e3e-a693-6935c88adcae",
   "metadata": {
    "tags": []
   },
   "source": [
    "Gdy identyfikator przechowuje dane, musisz zdecydować, czy można je ponownie przypisać.\n",
    "- `var` - *variable* oznacza że można ponownie przypisać jej wartość\n",
    "- `val` - *value* może zostać tylko zainicjowana, nie można ponownie przypisać jej innej wartości\n",
    "\n",
    "\n",
    "Podobnie jak w argumentach funkcji i typie zwracanej wartości funkcji, typ zmiennej jest określany po następującym po nazwie dwukropku. Jeżeli tego nie zrobimy, kompilator przeanalizuje wyrażenie inicjujące zmienną i za typ zmiennej przyjmie typ wyrażenia. Jeżeli zainicjujemy zmienną wartością zmiennoprzecinkową, za typ zostanie przyjęty `Double`. Jeżeli nie inicjuje się zmiennej, jej typ należy określić jawnie. `val` jest *niemutowalny*, natomiast `var` oznacza zmienną *mutowalną*. Więc zmienna `val` może zostać zainicjowana tylko raz w bloku kodu w którym się znajduje."
   ]
  },
  {
   "cell_type": "code",
   "execution_count": 28,
   "id": "c6704f7d-7923-433f-a062-bab236ad8479",
   "metadata": {},
   "outputs": [
    {
     "name": "stderr",
     "output_type": "stream",
     "text": [
      "Line_27.jupyter-kts (2:1 - 6) Val cannot be reassigned"
     ]
    }
   ],
   "source": [
    "val napis: String = \"napis\"\n",
    "napis = \"inny napis\"\n",
    "\n",
    "println(napis)"
   ]
  },
  {
   "cell_type": "markdown",
   "id": "801b55a1-e687-452f-9e93-ba69759e5fa1",
   "metadata": {},
   "source": [
    "Poniższy kod wygeneruje błąd."
   ]
  },
  {
   "cell_type": "code",
   "execution_count": 7,
   "id": "636eaca2-d3ca-441d-80d7-759ddf7c50f7",
   "metadata": {},
   "outputs": [
    {
     "name": "stderr",
     "output_type": "stream",
     "text": [
      "Line_6.jupyter-kts (3:5 - 6) Captured member values initialization is forbidden due to possible reassignment"
     ]
    }
   ],
   "source": [
    "val a: Int\n",
    "if(true) {\n",
    "    a = 5\n",
    "}\n",
    "else {\n",
    "    a = 6\n",
    "}\n",
    "println(a)"
   ]
  },
  {
   "cell_type": "code",
   "execution_count": 6,
   "id": "25e1682e-5e79-4ab3-b4bf-35be05c46119",
   "metadata": {},
   "outputs": [
    {
     "name": "stdout",
     "output_type": "stream",
     "text": [
      "5\n"
     ]
    }
   ],
   "source": [
    "val b: Int = if(true) 5 else 6\n",
    "println(b)"
   ]
  },
  {
   "cell_type": "markdown",
   "id": "ebc14a26-b03c-45a2-8983-9703bae57b27",
   "metadata": {},
   "source": [
    "Słowo kluczowe ``var`` oznacza zmienną mutowalną, jednak nie oznacza to że można zmienić typ zmiennej, przykładowo"
   ]
  },
  {
   "cell_type": "code",
   "execution_count": 32,
   "id": "c7319259-68fe-4cfc-84ec-e6e9fe834ddc",
   "metadata": {},
   "outputs": [
    {
     "name": "stderr",
     "output_type": "stream",
     "text": [
      "Line_31.jupyter-kts (3:10 - 17) Type mismatch: inferred type is String but Int was expected"
     ]
    }
   ],
   "source": [
    "var liczba = 33\n",
    "liczba = 11 // ok\n",
    "liczba = \"napis\" // error"
   ]
  },
  {
   "cell_type": "markdown",
   "id": "0835b382-f631-41b4-86bd-da9f0762150b",
   "metadata": {},
   "source": [
    "Powyższy przykład wygeneruje błąd, ponieważ domniemanie typu odbywa się tylko podczas jej inicjowania"
   ]
  },
  {
   "cell_type": "markdown",
   "id": "b8e25dba-05e5-4654-bbbf-32d59e8dfc79",
   "metadata": {},
   "source": [
    "## Instrukcje warunkowe i pętle\n",
    "\n",
    "### Instrukcja warunkowa ``if``\n",
    "\n",
    "W Javie struktury sterujące są instrukcjami, oznacza to że są elementami kodu i nie posiadają wartości. Istotną różnicą między Kotlinem a Javą jest operator przypisania - w Javie jest on wyrażeniem, w Kotlinie - instrukcją."
   ]
  },
  {
   "cell_type": "code",
   "execution_count": 49,
   "id": "dbcdef1e-f215-427c-bbfd-62960902b461",
   "metadata": {},
   "outputs": [
    {
     "name": "stdout",
     "output_type": "stream",
     "text": [
      "50\n",
      "The result of the if expression is 50\n"
     ]
    }
   ],
   "source": [
    "var num: Int = 0\n",
    "val someCondition = 20 < 22\n",
    "if (someCondition) {\n",
    "    num = 50\n",
    "}\n",
    "else {\n",
    "    num = 592\n",
    "}\n",
    "\n",
    "val num2 = if (someCondition) 50 else 592\n",
    "println(num2)\n",
    "\n",
    "println(\"The result of the if expression is ${num2}\")"
   ]
  },
  {
   "cell_type": "markdown",
   "id": "b8c6a4a9-d20e-466d-9371-bfd2ae1f2593",
   "metadata": {},
   "source": [
    "### Wyrażenie ``when``\n",
    "\n",
    "W Kotlinie instrukcję ``switch`` zastąpiło wyrażenie ``when``"
   ]
  },
  {
   "cell_type": "code",
   "execution_count": 2,
   "id": "9487c1f6-d2d2-41de-b954-3617fe0a5881",
   "metadata": {},
   "outputs": [
    {
     "name": "stdout",
     "output_type": "stream",
     "text": [
      "x == 0 or x == 1\n",
      "element 0\n"
     ]
    }
   ],
   "source": [
    "fun element(i: Int) = when(i) {\n",
    "    0 -> \"element 0\"\n",
    "    3 -> \"element 3\"\n",
    "    5 -> \"element 5\"\n",
    "    else -> \"$i \"\n",
    "}\n",
    "\n",
    "val x = 0\n",
    "when (x) {\n",
    "    0, 1 -> println(\"x == 0 or x == 1\")\n",
    "    else -> println(\"otherwise\")\n",
    "}\n",
    "\n",
    "println(element(0))"
   ]
  },
  {
   "cell_type": "markdown",
   "id": "9162df36-84aa-49de-a5ef-770cadd1170f",
   "metadata": {},
   "source": [
    "### Pętla ``for`` i zakresy"
   ]
  },
  {
   "cell_type": "code",
   "execution_count": 1,
   "id": "7be99497-f38f-4261-bef4-74b4115ccd75",
   "metadata": {},
   "outputs": [
    {
     "name": "stdout",
     "output_type": "stream",
     "text": [
      "Digit\n",
      "Letter\n",
      "true\n",
      "false\n"
     ]
    }
   ],
   "source": [
    "fun isLetter(c: Char) = c in 'a'..'z' || c in 'A'..'Z'\n",
    "fun isNonDigit(c: Char) = c !in '0'..'9'\n",
    "\n",
    "fun recognize(c: Char) = when (c){\n",
    "    in '0'..'9' -> \"Digit\"\n",
    "    in 'a'..'z', in 'A'..'Z' -> \"Letter\"\n",
    "    else -> \"Different\"\n",
    "}\n",
    "\n",
    "println(recognize('3'))\n",
    "println(recognize('A'))\n",
    "println(isLetter('c'))\n",
    "println(isNonDigit('4'))"
   ]
  },
  {
   "cell_type": "code",
   "execution_count": 61,
   "id": "e69fa890-a9f1-401b-ad6e-094a4de2e3a7",
   "metadata": {},
   "outputs": [
    {
     "name": "stdout",
     "output_type": "stream",
     "text": [
      "1\n",
      "2\n",
      "3\n",
      "6\n",
      "4\n",
      "2\n",
      "0\n"
     ]
    }
   ],
   "source": [
    "for (i in 1..3) {\n",
    "    println(i)\n",
    "}\n",
    "for (i in 6 downTo 0 step 2) {\n",
    "    println(i)\n",
    "}"
   ]
  },
  {
   "cell_type": "markdown",
   "id": "e0989bf8-a46b-42a4-aaa4-7665a73fe666",
   "metadata": {},
   "source": [
    "Pętla ``for`` iteruje przez wszystkie kolekcje posiadające ``iterator``. Pętla ``or`` przechodziąca przez wszystkie elementy tablicy lub uporządkowanej kolekcji posiadającej ``index`` można to wykonać na dwa sposoby"
   ]
  },
  {
   "cell_type": "code",
   "execution_count": 1,
   "id": "0ea0fc0d-665a-41f7-94ee-cf44ae77958b",
   "metadata": {},
   "outputs": [
    {
     "name": "stdout",
     "output_type": "stream",
     "text": [
      "a\n",
      "b\n",
      "c\n",
      "the element at 0 is a\n",
      "the element at 1 is b\n",
      "the element at 2 is c\n",
      "a\n",
      "b\n",
      "c\n"
     ]
    }
   ],
   "source": [
    "val array = arrayOf(\"a\", \"b\", \"c\")\n",
    "for (i in array.indices) {\n",
    "    println(array[i])\n",
    "}\n",
    "\n",
    "for ((index, value) in array.withIndex()) {\n",
    "    println(\"the element at $index is $value\")\n",
    "}\n",
    "\n",
    "for (i in array){\n",
    "    println(i)\n",
    "}"
   ]
  },
  {
   "cell_type": "markdown",
   "id": "d8a2e38a-e2b2-4239-a9b3-9770e0c80fbd",
   "metadata": {},
   "source": [
    "### Pętla ``while`` i ``do while``"
   ]
  },
  {
   "cell_type": "code",
   "execution_count": 64,
   "id": "b45be2f2-b56b-4ce1-a7fc-d8cc21893901",
   "metadata": {},
   "outputs": [
    {
     "name": "stdout",
     "output_type": "stream",
     "text": [
      "10\n",
      "9\n",
      "8\n",
      "7\n",
      "6\n",
      "5\n",
      "4\n",
      "3\n",
      "2\n",
      "1\n",
      "0\n",
      "1\n",
      "2\n",
      "3\n",
      "4\n",
      "5\n",
      "6\n",
      "7\n",
      "8\n",
      "9\n",
      "10\n"
     ]
    }
   ],
   "source": [
    "var x = 10\n",
    "\n",
    "while (x > 0) {\n",
    "    println(x)\n",
    "    x--\n",
    "}\n",
    "\n",
    "do {\n",
    "    println(x)\n",
    "    x++\n",
    "} while (x < 11)"
   ]
  },
  {
   "cell_type": "markdown",
   "id": "0a668615-ffbd-4de3-814b-acbebea7ef25",
   "metadata": {},
   "source": [
    "## Metody\n",
    "Podstawowa składnia metod w Kotlinie wygląda następująco\n",
    "`fun name (parameter_list): return_type {\n",
    "// statements to execute\n",
    "}`\n",
    "czyli zaczynamy od słowa kluczowego `fun` następnie podajemy nazwę metody, w nawiasie listę argumentów, na końcu po dwukropku podajemy typ zwracany przez funkcję"
   ]
  },
  {
   "cell_type": "code",
   "execution_count": 9,
   "id": "f017eb50-ed88-47ef-9030-5744a4481de9",
   "metadata": {},
   "outputs": [
    {
     "name": "stdout",
     "output_type": "stream",
     "text": [
      "Your final score is 145\n"
     ]
    }
   ],
   "source": [
    "fun calculate(score: Int, levels: Int, extra: Int): Int {\n",
    "    val finalScore = (score * levels) + bonus;\n",
    "    return finalScore;\n",
    "}\n",
    "\n",
    "val score = 10;\n",
    "val levelCompleted = 12;\n",
    "val bonus = 25;\n",
    "\n",
    "println(\"Your final score is ${calculate(score, levelCompleted, bonus)}\")"
   ]
  },
  {
   "cell_type": "markdown",
   "id": "99e38a8b-7f60-445f-977d-92875a1c90bc",
   "metadata": {},
   "source": [
    "W Kotlinie funkcje mogą posiadać ciało blokowe lub ciało wyrażeniowe, rozpocznijmy od napisania funkcjji `max`, zwracającej większą z dwóch liczb, posiadającą ciało blokowe"
   ]
  },
  {
   "cell_type": "code",
   "execution_count": 5,
   "id": "829cc9f8-69de-4b9f-8b02-e0d740f0b3b1",
   "metadata": {},
   "outputs": [
    {
     "data": {
      "text/plain": [
       "4"
      ]
     },
     "execution_count": 5,
     "metadata": {},
     "output_type": "execute_result"
    }
   ],
   "source": [
    "fun max(a: Int, b: Int): Int {\n",
    "    return if(a > b) a else b\n",
    "}\n",
    "\n",
    "max(2, 4)"
   ]
  },
  {
   "cell_type": "markdown",
   "id": "ef4810f4-9585-4f56-8277-9303a3dc65cf",
   "metadata": {},
   "source": [
    "Tutaj warto zwrócić uwagę na zastosowanie wyrażenia `if else`, które jest podobne do operatora elvisa znanego z Javy.\n",
    "\n",
    "Napiszmy teraz tą samą funkcję z ciałem wyrażeniowym"
   ]
  },
  {
   "cell_type": "code",
   "execution_count": 2,
   "id": "9af3fd3a-aab5-499a-a359-56e59c2fbbc8",
   "metadata": {},
   "outputs": [
    {
     "data": {
      "text/plain": [
       "4"
      ]
     },
     "execution_count": 2,
     "metadata": {},
     "output_type": "execute_result"
    }
   ],
   "source": [
    "fun max2(a: Int, b: Int): Int = if (a > b) a else b\n",
    "max2(2, 4)"
   ]
  },
  {
   "cell_type": "markdown",
   "id": "8e3ff1c0-ebd9-4e2e-a11a-28644eb9f09a",
   "metadata": {},
   "source": [
    "Funkcję tą można uprościć poprzez pominięcie typu zwracanego (tylko w funkcji z ciałem wyrażeniowym), można tak zrobić, ponieważ kompilator jako typ wyniku przyjmie typ wyrażenia"
   ]
  },
  {
   "cell_type": "code",
   "execution_count": 10,
   "id": "ef91efd2-4a2f-4dd7-96a8-56757bf872fd",
   "metadata": {},
   "outputs": [
    {
     "data": {
      "text/plain": [
       "4"
      ]
     },
     "execution_count": 10,
     "metadata": {},
     "output_type": "execute_result"
    }
   ],
   "source": [
    "fun max3(a: Int, b: Int) = if (a > b) a else b\n",
    "max3(2, 4)"
   ]
  },
  {
   "cell_type": "markdown",
   "id": "745f0fd6-0d4b-424a-a6fe-41005fe9012f",
   "metadata": {},
   "source": [
    "# Lista 1\n",
    "\n",
    "## Zad 1 - **3 pkt**\n",
    "\n",
    "Wypisz wszystkie liczby od 1 do 100, jednak jeżeli liczba jest podzielna przez:\n",
    "- 3 - wypisz \"trzy\"\n",
    "- 5 - wypisz \"piec\"\n",
    "- 3 i 5 - wypisz \"trzypiec\"\n",
    "\n",
    "`\n",
    "1\n",
    "2\n",
    "trzy\n",
    "4\n",
    "piec\n",
    "trzy\n",
    "7\n",
    "8\n",
    "trzy\n",
    "piec\n",
    "11\n",
    "trzy\n",
    "13\n",
    "14\n",
    "trzypiec\n",
    "`"
   ]
  },
  {
   "cell_type": "markdown",
   "id": "bcaa9734-dce2-499f-83c9-759aaeef01de",
   "metadata": {
    "jp-MarkdownHeadingCollapsed": true,
    "tags": []
   },
   "source": [
    "## Zad 2 - **3 pkt**\n",
    "\n",
    "Rozszerz Zad 1 o liczbę 7.\n",
    "Jeżeli liczba jest podzielna przez:\n",
    "- 7 - wypisz \"siedem\"\n",
    "- 3 i 7 - wypisz \"trzysiedem\"\n",
    "- 5 i 7 - wypisz \"piecsiedem\"\n",
    "- 3, 5 i 7 - wypisz \"trzypiecsiedem\""
   ]
  },
  {
   "cell_type": "markdown",
   "id": "b02ba3c0-4404-45f1-9ab3-7d7ed9675d90",
   "metadata": {},
   "source": [
    "## Zad 3 - **4 pkt**\n",
    "\n",
    "Rozszerz Zad 2 o liczby 11 i 13.\n",
    "Jeżeli liczba jest podzielna przez:\n",
    "- 11 - wypisz \"jedenascie\"\n",
    "- 3 i 11 - wypisz \"trzyjedenascie\"\n",
    "- 3, 5, 7 i 11 - wypisz \"trzypiecsiedemjedenascie\"\n",
    "- itd..."
   ]
  },
  {
   "cell_type": "markdown",
   "id": "3dbe2594-f893-43ed-b401-bc3a9e6684fd",
   "metadata": {},
   "source": [
    "### Oceny\n",
    "\n",
    "|**ocena**|**punkty**|\n",
    "|:---:|:---:|\n",
    "|3,0 | 6 pkt|\n",
    "|3,5 | 7 pkt|\n",
    "|4,0 | 8 pkt|\n",
    "|4,5 | 9 pkt|\n",
    "|5,0 | 10 pkt|"
   ]
  }
 ],
 "metadata": {
  "kernelspec": {
   "display_name": "Kotlin",
   "language": "kotlin",
   "name": "kotlin"
  },
  "language_info": {
   "codemirror_mode": "text/x-kotlin",
   "file_extension": ".kt",
   "mimetype": "text/x-kotlin",
   "name": "kotlin",
   "nbconvert_exporter": "",
   "pygments_lexer": "kotlin",
   "version": "1.6.20-dev-6372"
  }
 },
 "nbformat": 4,
 "nbformat_minor": 5
}
