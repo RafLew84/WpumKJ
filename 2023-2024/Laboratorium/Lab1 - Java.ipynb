{
 "cells": [
  {
   "cell_type": "markdown",
   "id": "3ffe3ebf-0017-4669-8afc-f8823ec4a9dc",
   "metadata": {},
   "source": [
    "# 1. Java - Fundamenty\n",
    "\n",
    "## 1.1 Struktura kodu"
   ]
  },
  {
   "cell_type": "code",
   "execution_count": null,
   "id": "ac5fc349-7f87-47a8-94d7-9ecdc84278bc",
   "metadata": {},
   "outputs": [],
   "source": [
    "package pl.uwr.edu.pum\n",
    "\n",
    "public class JavaHelloPUM {\n",
    "    public static void main ( String ... args ) {}\n",
    "}"
   ]
  },
  {
   "cell_type": "markdown",
   "id": "d843953a-5fc9-44e3-899c-02b6abdeb7a4",
   "metadata": {},
   "source": [
    "Ponieważ Java działa w paradygmacie obiektowym najczęściej mamy do czynienia z dużą ilością plików. Pakiet grupuje powiązane typy (klasy, interfejsy, typy wyliczeniowe itp.), ułatwia zarządzanie przestrzenią nazw i bezpieczeństwem/hermetyzacją. Biblioteki są podzielone na pakiety, w celu użycia klasy z innego pakietu należy ją zaimportować. Przyjętą konwencją jest nazywanie pakietów przy pomocy odwrotnej nazwy domeny (w naszym przypadku będzie to ``pl.edu.uwr`` i dla oznaczenia przedmiotu ``.pum``) małymi literami. Od wielkiej litery zaczynamy nazwy klas, interfejsów itd. Rozbijmy tę linię kodu na części pierwsze:"
   ]
  },
  {
   "cell_type": "markdown",
   "id": "575d71ee-0094-41f7-94fd-56e1d50c1d43",
   "metadata": {},
   "source": [
    "- ``package`` – to słowo kluczowe podobnie jak class czy if; informuje kompilator o tym w którym pakiecie znajduje się plik,\n",
    "- ``pl.uwr.edu.pum`` – właściwa nazwa pakietu. Dla uproszczenia możemy powiedzieć, że dozwolone są małe litery oraz znak kropki. Nazwa najczęściej jest odwrotną nazwą domeny."
   ]
  },
  {
   "cell_type": "markdown",
   "id": "b7c4e826-d7ed-4fd2-8772-f5ba58d3ba36",
   "metadata": {},
   "source": [
    "Metoda ``main()`` jest wywoływana z tablicą stringów args, które identyfikują argumenty wiersza poleceń. ``System`` określa standardową klasę narzędzi systemowych. ``out`` jest instancją klasy ``PrintStream`` która jest publiczną, statyczną zmienną klasy ``System``. Wszystkie instancje klasy ``PrintStream`` posiadają metodę ``println()``. Drukuje ona każdy argument przekazany do niej i przechodzi do nowej linii."
   ]
  },
  {
   "cell_type": "markdown",
   "id": "7eabd3f7-0ee9-44a7-90e9-901e13bea860",
   "metadata": {},
   "source": [
    "## Typy danych\n",
    "\n",
    "Java jest językiem o silnej typizacji, czyli każda zmienna, wyrażenie itp. posiada typ znany kompilatorowi. To sprawia że kompilator jest w stanie wykryć błędy związane z typami na poziomie kompilacji. Java posiada typy prymitywne, definiowane przez użytkownika i zmienne tablicowe."
   ]
  },
  {
   "cell_type": "code",
   "execution_count": 13,
   "id": "f26cc01f-469d-44ec-86a5-8fb6ebf3df93",
   "metadata": {},
   "outputs": [
    {
     "name": "stdout",
     "output_type": "stream",
     "text": [
      "Integer Minimum Value = -2147483648\n",
      "Integer Maximum Value = 2147483647\n",
      "Byte Minimum Value = -128\n",
      "Byte Maximum Value = 127\n",
      "Short Minimum Value = -32768\n",
      "Short Maximum Value = 32767\n",
      "Long Minimum Value = -9223372036854775808\n",
      "Long Maximum Value = 9223372036854775807\n",
      "Float minimum value = 1.4E-45\n",
      "Float maximum value = 3.4028235E38\n",
      "Double minimum value = 4.9E-324\n",
      "Double maximum value = 1.7976931348623157E308\n",
      "D\n",
      "D\n",
      "©\n"
     ]
    }
   ],
   "source": [
    "int myMinIntValue = Integer.MIN_VALUE;\n",
    "int myMaxIntValue = Integer.MAX_VALUE;\n",
    "System.out.println(\"Integer Minimum Value = \" + myMinIntValue);\n",
    "System.out.println(\"Integer Maximum Value = \" + myMaxIntValue);\n",
    "\n",
    "byte myMinByteValue = Byte.MIN_VALUE;\n",
    "byte myMaxByteValue = Byte.MAX_VALUE;\n",
    "System.out.println(\"Byte Minimum Value = \" + myMinByteValue);\n",
    "System.out.println(\"Byte Maximum Value = \" + myMaxByteValue);\n",
    "\n",
    "short myMinShortValue = Short.MIN_VALUE;\n",
    "short myMaxShortValue = Short.MAX_VALUE;\n",
    "System.out.println(\"Short Minimum Value = \" + myMinShortValue);\n",
    "System.out.println(\"Short Maximum Value = \" + myMaxShortValue);\n",
    "        \n",
    "long myMinLongValue = Long.MIN_VALUE;\n",
    "long myMaxLongValue = Long.MAX_VALUE;\n",
    "System.out.println(\"Long Minimum Value = \" + myMinLongValue);\n",
    "System.out.println(\"Long Maximum Value = \" + myMaxLongValue);\n",
    "\n",
    "float myMinFloatValue = Float.MIN_VALUE;\n",
    "float myMaxFloatValue = Float.MAX_VALUE;\n",
    "System.out.println(\"Float minimum value = \" + myMinFloatValue);\n",
    "System.out.println(\"Float maximum value = \" + myMaxFloatValue);\n",
    "\n",
    "double myMinDoubleValue = Double.MIN_VALUE;\n",
    "double myMaxDoubleValue = Double.MAX_VALUE;\n",
    "System.out.println(\"Double minimum value = \" + myMinDoubleValue);\n",
    "System.out.println(\"Double maximum value = \" + myMaxDoubleValue);\n",
    "\n",
    "char myChar = 'D';\n",
    "char myUnicodeChar = '\\u0044';\n",
    "System.out.println(myChar);\n",
    "System.out.println(myUnicodeChar);\n",
    "\n",
    "char myCopyrightChar = '\\u00A9';\n",
    "System.out.println(myCopyrightChar);\n",
    "\n",
    "boolean myTrueBooleanValue = true;\n",
    "boolean myFalseBooleanValue = false;"
   ]
  },
  {
   "cell_type": "markdown",
   "id": "6529a6a2-b34f-4e14-b612-0977be867a4d",
   "metadata": {},
   "source": [
    "Rzutowanie można przeprowadzić podając docelowy typ w nawiasie przed typem rzutowanym"
   ]
  },
  {
   "cell_type": "code",
   "execution_count": 18,
   "id": "5bc0022f-4b99-40b8-a09b-ebc4be713a3c",
   "metadata": {},
   "outputs": [
    {
     "name": "stdout",
     "output_type": "stream",
     "text": [
      "100\n"
     ]
    }
   ],
   "source": [
    "int num = 100;\n",
    "byte secondNum = 0;\n",
    "secondNum = (byte) num;\n",
    "System.out.println(secondNum);"
   ]
  },
  {
   "cell_type": "markdown",
   "id": "6f1b31ba-65f0-4ed0-a886-0d37542ecf79",
   "metadata": {
    "tags": []
   },
   "source": [
    "## 1.3 Instrukcje warunkowe i pętle\n",
    "\n",
    "Instrukcje warunkowe i pętle w Javie są niemal identyczne jak w ``C/C++``, pewną nowość może stanowić tutaj pętla foreach, przykłady poniżej\n",
    "\n",
    "### Instrukcja warunkowa ``if``"
   ]
  },
  {
   "cell_type": "code",
   "execution_count": 22,
   "id": "f9149caa-53b5-4465-b141-79a0c5194b84",
   "metadata": {},
   "outputs": [
    {
     "name": "stdout",
     "output_type": "stream",
     "text": [
      "PUM\n"
     ]
    }
   ],
   "source": [
    "boolean b = true;\n",
    "if ( !b )\n",
    "    System.out.println(\"Hello\");\n",
    "else\n",
    "    System.out.println(\"PUM\");"
   ]
  },
  {
   "cell_type": "code",
   "execution_count": 1,
   "id": "020bf2b2-0f66-49b6-81e3-1cb9ee394362",
   "metadata": {},
   "outputs": [
    {
     "name": "stdout",
     "output_type": "stream",
     "text": [
      "Programmer!\n",
      "Not programmer\n"
     ]
    }
   ],
   "source": [
    "boolean isProgrammer = false;\n",
    "if (isProgrammer == false) {\n",
    "    System.out.println(\"Programmer!\");\n",
    "    System.out.println(\"Not programmer\");\n",
    "}"
   ]
  },
  {
   "cell_type": "code",
   "execution_count": 4,
   "id": "1ef0ba67-01b5-444f-bbe6-f152ca2f99de",
   "metadata": {},
   "outputs": [
    {
     "name": "stdout",
     "output_type": "stream",
     "text": [
      "Greater than second top score and less than 100\n"
     ]
    }
   ],
   "source": [
    "int topScore = 99;\n",
    "int secondTopScore = 95;\n",
    "if ((topScore > secondTopScore) && (topScore < 100)) {\n",
    "    System.out.println(\"Greater than second top score and less than 100\");\n",
    "}"
   ]
  },
  {
   "cell_type": "code",
   "execution_count": 5,
   "id": "24b04930-5bef-464a-908a-dd4a249150c3",
   "metadata": {},
   "outputs": [
    {
     "name": "stdout",
     "output_type": "stream",
     "text": [
      "Either or both of the conditions are true\n"
     ]
    }
   ],
   "source": [
    "if ((topScore > 90) || (secondTopScore <= 90)) {\n",
    "    System.out.println(\"Either or both of the conditions are true\");\n",
    "}"
   ]
  },
  {
   "cell_type": "code",
   "execution_count": 6,
   "id": "b6da8a7a-20bf-4d91-9567-7c40642946f7",
   "metadata": {},
   "outputs": [
    {
     "name": "stdout",
     "output_type": "stream",
     "text": [
      "This is true\n"
     ]
    }
   ],
   "source": [
    "int newValue = 50;\n",
    "if (newValue == 50) {\n",
    "    System.out.println(\"This is true\");\n",
    "}"
   ]
  },
  {
   "cell_type": "code",
   "execution_count": 7,
   "id": "06e2801c-8e03-414f-99ba-76c8d2c7508f",
   "metadata": {},
   "outputs": [],
   "source": [
    "boolean isCar = false;\n",
    "if (isCar) {\n",
    "    System.out.println(\"This is not supposed to happen\");\n",
    "}"
   ]
  },
  {
   "cell_type": "code",
   "execution_count": 10,
   "id": "37ed5fee-829d-4903-870f-49503623b022",
   "metadata": {},
   "outputs": [
    {
     "name": "stdout",
     "output_type": "stream",
     "text": [
      "isCar == true\n"
     ]
    }
   ],
   "source": [
    "isCar = true;\n",
    "String car = isCar ? \"isCar == true\" : \"isCar == false\";\n",
    "System.out.println(car);"
   ]
  },
  {
   "cell_type": "markdown",
   "id": "f36a8965-cba3-489a-a278-4cd2c841c061",
   "metadata": {},
   "source": [
    "### Instrukcja warunkowa ``switch``"
   ]
  },
  {
   "cell_type": "code",
   "execution_count": 11,
   "id": "860e6417-a367-408f-8ea8-9eb624303bd8",
   "metadata": {},
   "outputs": [
    {
     "name": "stdout",
     "output_type": "stream",
     "text": [
      "Was not 1,2,3, 4 or 5\n"
     ]
    }
   ],
   "source": [
    "int switchValue = 6;\n",
    "\n",
    "switch(switchValue) {\n",
    "    case 1:\n",
    "        System.out.println(\"Value was 1\");\n",
    "        break;\n",
    "\n",
    "    case 2:\n",
    "        System.out.println(\"Value was 2\");\n",
    "        break;\n",
    "\n",
    "    case 3:case 4:case 5:\n",
    "        System.out.println(\"was a 3 or a 4, or a 5\");\n",
    "        System.out.println(\"Actually it was a \" + switchValue);\n",
    "        break;\n",
    "\n",
    "    default:\n",
    "        System.out.println(\"Was not 1,2,3, 4 or 5\");\n",
    "    break;\n",
    "}"
   ]
  },
  {
   "cell_type": "code",
   "execution_count": 13,
   "id": "d209612f-599b-40fb-b849-eae6ef336602",
   "metadata": {},
   "outputs": [
    {
     "name": "stdout",
     "output_type": "stream",
     "text": [
      "A was found\n"
     ]
    }
   ],
   "source": [
    "char charValue = 'A';\n",
    "switch(charValue) {\n",
    "    case 'A':\n",
    "        System.out.println(\"A was found\");\n",
    "        break;\n",
    "    case 'B':\n",
    "        System.out.println(\"B was found\");\n",
    "        break;\n",
    "    case 'C': case 'D' : case 'E':\n",
    "        System.out.println(charValue + \" was found\");\n",
    "        break;\n",
    "\n",
    "    default:\n",
    "        System.out.println(\"Could not find A, B, C, D or E\");\n",
    "        break;\n",
    "}"
   ]
  },
  {
   "cell_type": "code",
   "execution_count": 14,
   "id": "d004f109-ea45-4e20-97d8-1c504beac617",
   "metadata": {},
   "outputs": [
    {
     "name": "stdout",
     "output_type": "stream",
     "text": [
      "Jun\n"
     ]
    }
   ],
   "source": [
    "String month = \"JUNE\";\n",
    "switch(month.toUpperCase()) {\n",
    "    case \"JANUARY\":\n",
    "        System.out.println(\"Jan\");\n",
    "        break;\n",
    "    case \"JUNE\":\n",
    "        System.out.println(\"Jun\");\n",
    "        break;\n",
    "    default:\n",
    "        System.out.println(\"Not sure\");\n",
    "}"
   ]
  },
  {
   "cell_type": "markdown",
   "id": "cafdba41-cf74-4743-800a-3d3c8acf2665",
   "metadata": {},
   "source": [
    "### Pętla ``for`` i ``foreach``"
   ]
  },
  {
   "cell_type": "code",
   "execution_count": 27,
   "id": "da05eff6-8b49-4c52-a8e6-643271741123",
   "metadata": {},
   "outputs": [
    {
     "name": "stdout",
     "output_type": "stream",
     "text": [
      "0\n",
      "2\n",
      "4\n",
      "6\n",
      "8\n",
      "10\n"
     ]
    }
   ],
   "source": [
    "for (int i = 0; i <= 10; i = i + 2) {\n",
    "  System.out.println(i);\n",
    "}"
   ]
  },
  {
   "cell_type": "code",
   "execution_count": 28,
   "id": "f6d82198-347e-485d-9b74-cc1876e13609",
   "metadata": {},
   "outputs": [
    {
     "name": "stdout",
     "output_type": "stream",
     "text": [
      "A\n",
      "B\n",
      "F\n",
      "M\n"
     ]
    }
   ],
   "source": [
    "char[] letters = {'A', 'B', 'F', 'M'};\n",
    "for (char i : letters) {\n",
    "  System.out.println(i);\n",
    "}"
   ]
  },
  {
   "cell_type": "markdown",
   "id": "af4cba8c-826a-492b-bc84-0ccc3401407b",
   "metadata": {},
   "source": [
    "### Pętla ``while`` i ``do while``"
   ]
  },
  {
   "cell_type": "code",
   "execution_count": 29,
   "id": "3b09a6fb-09be-41f3-af53-f32cfc01173d",
   "metadata": {},
   "outputs": [
    {
     "name": "stdout",
     "output_type": "stream",
     "text": [
      "0\n",
      "1\n",
      "2\n",
      "3\n",
      "4\n"
     ]
    }
   ],
   "source": [
    "int i = 0;\n",
    "while (i < 5) {\n",
    "  System.out.println(i);\n",
    "  i++;\n",
    "}"
   ]
  },
  {
   "cell_type": "code",
   "execution_count": 30,
   "id": "3833556b-6bbf-455b-9990-ce3201cb5b6b",
   "metadata": {},
   "outputs": [
    {
     "name": "stdout",
     "output_type": "stream",
     "text": [
      "0\n",
      "1\n",
      "2\n",
      "3\n",
      "4\n"
     ]
    }
   ],
   "source": [
    "int i = 0;\n",
    "do {\n",
    "  System.out.println(i);\n",
    "  i++;\n",
    "}\n",
    "while (i < 5);"
   ]
  },
  {
   "cell_type": "markdown",
   "id": "d867cbe9-e156-4859-955b-26a5bb566cc9",
   "metadata": {},
   "source": [
    "### Instrukcje ``break`` i ``continue``"
   ]
  },
  {
   "cell_type": "code",
   "execution_count": 31,
   "id": "4d666ca5-9175-4e26-b624-93983f546df3",
   "metadata": {},
   "outputs": [
    {
     "name": "stdout",
     "output_type": "stream",
     "text": [
      "0\n",
      "1\n",
      "2\n",
      "3\n"
     ]
    }
   ],
   "source": [
    "for (int i = 0; i < 10; i++) {\n",
    "  if (i == 4) {\n",
    "    break;\n",
    "  }\n",
    "  System.out.println(i);\n",
    "}"
   ]
  },
  {
   "cell_type": "code",
   "execution_count": 32,
   "id": "11c854df-42e3-45da-9a30-21ffff450d7b",
   "metadata": {},
   "outputs": [
    {
     "name": "stdout",
     "output_type": "stream",
     "text": [
      "0\n",
      "1\n",
      "2\n",
      "3\n",
      "5\n",
      "6\n",
      "7\n",
      "8\n",
      "9\n"
     ]
    }
   ],
   "source": [
    "for (int i = 0; i < 10; i++) {\n",
    "  if (i == 4) {\n",
    "    continue;\n",
    "  }\n",
    "  System.out.println(i);\n",
    "}"
   ]
  },
  {
   "cell_type": "markdown",
   "id": "36842953-e259-4b82-b34d-d104150e7f48",
   "metadata": {},
   "source": [
    "## Metody\n",
    "Podstawowa składnia metod w Javie wygląda następująco\n",
    "``return_type name (parameter_list) {\n",
    "// statements to execute\n",
    "}``\n",
    "czyli jako pierwszy podajemy typ zwracany, następnie podajemy nazwę metody\n",
    "i w nawiasie listę argumentów"
   ]
  },
  {
   "cell_type": "code",
   "execution_count": 21,
   "id": "da7e484a-4628-4bb4-bf2d-23debcd6dbc5",
   "metadata": {},
   "outputs": [
    {
     "name": "stdout",
     "output_type": "stream",
     "text": [
      "Your final score is 145\n"
     ]
    }
   ],
   "source": [
    "public int calculate(int score, int levels, int extra) {\n",
    "    int finalScore = (score * levels) + bonus;\n",
    "    return finalScore;\n",
    "}\n",
    "\n",
    "int score = 10;\n",
    "int levelCompleted = 12;\n",
    "int bonus = 25;\n",
    "\n",
    "System.out.println(\"Your final score is \" + calculate(score, levelCompleted, bonus));"
   ]
  },
  {
   "cell_type": "code",
   "execution_count": null,
   "id": "5255e312-7ced-4898-b02b-4ea92710020e",
   "metadata": {},
   "outputs": [],
   "source": []
  }
 ],
 "metadata": {
  "kernelspec": {
   "display_name": "Java",
   "language": "java",
   "name": "java"
  },
  "language_info": {
   "codemirror_mode": "java",
   "file_extension": ".jshell",
   "mimetype": "text/x-java-source",
   "name": "Java",
   "pygments_lexer": "java",
   "version": "17+35-2724"
  }
 },
 "nbformat": 4,
 "nbformat_minor": 5
}
