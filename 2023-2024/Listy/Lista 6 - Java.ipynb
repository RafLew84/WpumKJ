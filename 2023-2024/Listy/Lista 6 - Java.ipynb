{
 "cells": [
  {
   "cell_type": "markdown",
   "id": "7bc260dc-e481-4b54-9b5f-82e38bbfe727",
   "metadata": {
    "tags": []
   },
   "source": [
    "# Lista 6\n",
    "\n",
    "## Zad 1 - **2 pkt**\n",
    "\n",
    "Zaimplementuj funkcje:<br>\n",
    "- `List<T> getTail(List<T> list)` zwracającą listę wszystkich elementów listy oprócz pierwszego\n",
    "- `T getHead(List<T> list)` zwracającą pierwszy element listy\n",
    "\n",
    "## Zad 2 - **2 pkt**\n",
    "\n",
    "Zaimplementuj funkcję `boolean isSorted(List<T> aa, BiPredicate<T, T> ordered)` sprawdzającą czy lista `List<T>` jest posortowana zgodnie z funkcją porównawczą (`BiPredicat`).\n",
    "\n",
    "```verbatim\n",
    "Przykładowo:\n",
    "\n",
    ">> List<Integer> numbers = Arrays.asList(1, 2, 3, 4, 5);\n",
    "\n",
    ">> BiPredicate<Integer, Integer> isAscending = (a, b) -> a <= b;\n",
    "\n",
    ">> System.out.println(isSorted(numbers, isAscending));\n",
    "\n",
    "Output: \n",
    ">> true\n",
    "\n",
    "input:\n",
    ">> List<String> words = Arrays.asList(\"apple\", \"banana\", \"cherry\");\n",
    "\n",
    ">> BiPredicate<String, String> isLexicographic = (a, b) -> a.compareTo(b) <= 0;\n",
    ">> System.out.println(isSorted(words, isLexicographic));\n",
    "\n",
    "Output: \n",
    ">> true\n",
    "\n",
    "input:\n",
    ">> List<Person> people = Arrays.asList(\n",
    "    new Person(\"Alice\", 25),\n",
    "    new Person(\"Bob\", 30),\n",
    "    new Person(\"Charlie\", 35)\n",
    "   );\n",
    "\n",
    "\n",
    ">> BiPredicate<Person, Person> isDescendingByAge = (p1, p2) -> p1.getAge() >= p2.getAge();\n",
    ">> System.out.println(isSorted(people, isDescendingByAge)); \n",
    "\n",
    "Output: \n",
    ">> true\n",
    "```"
   ]
  },
  {
   "cell_type": "markdown",
   "id": "e7619d77-cf70-4d4f-ac4a-54640875ceaa",
   "metadata": {},
   "source": [
    "## Zad 3 - **1 pkt**\n",
    "\n",
    "Napisz funkcję `List<Number> square(List<Number> numbers)` przyjmującą listę liczb i zwracającą listę wszystkich dodatnich liczb o indeksach nieparzystych podniesionych do kwadratu.\n",
    "\n",
    "```verbatim\n",
    "input:\n",
    ">> square(Arrays.asList(1, 2, 3.5, 5, -6, 1, 1))\n",
    "\n",
    "output:\n",
    ">> [4, 25, 1]\n",
    "```"
   ]
  },
  {
   "cell_type": "markdown",
   "id": "e9daf0d1-2efa-4f77-9724-94beb6da28a3",
   "metadata": {},
   "source": [
    "## Zad 4 - **2 pkt**\n",
    "    \n",
    "Napisz funkcję `<T> List<T> tailToHead(List<T> list)` przestawiającą ostatni element listy na jej początek. W przypadku podania jako argument pustej listy funkcja powinna rzucać wyjątek `IllegalStateException(\"Empty list\")`. Funkcja zwraca zmodyfikowaną listę.\n",
    "\n",
    "```verbatim\n",
    "input:\n",
    ">> tailToHead(Arrays.asList(1, 2, 3))\n",
    "\n",
    "output:\n",
    ">> [3, 1, 2]\n",
    "```"
   ]
  },
  {
   "cell_type": "markdown",
   "id": "4d347482-4dea-4568-bbab-daadff6bcb58",
   "metadata": {},
   "source": [
    "## Zad 5 - **1 pkt**\n",
    "    \n",
    "Napisz funkcję `<T> List<T> setHead(List<T> list, T newHead)` zamieniającą pierwszy element listy na podany w argumencie metody (`item`).\n",
    "\n",
    "```verbatim\n",
    "input:\n",
    ">> setHead(Arrays.asList(1, 2, 3), 5)\n",
    "\n",
    "output:\n",
    ">> [5, 2, 3]\n",
    "```"
   ]
  },
  {
   "cell_type": "markdown",
   "id": "4a7845b0-7ce2-4827-a4ab-b48fd4ea82ff",
   "metadata": {},
   "source": [
    "## Zad 6 - **2 pkt**\n",
    "    \n",
    "Napisz funkcję `<T> List<T> dropWhile(List<T> list, Predicate<T> predicate)` usuwającą elementy listy (rozpoczynając od pierwszego) dopóki spełniony jest predykat.\n",
    "\n",
    "```verbatim\n",
    "input:\n",
    ">> List<Integer> list = Arrays.asList(1, 2, 3, 4, 3, 2, 1, 9);\n",
    ">> Predicate<Integer> lessThanThree = (i) -> i < 3;\n",
    ">> List<Integer> result = dropWhile(list, lessThanThree);\n",
    "\n",
    "output:\n",
    ">> [3, 4, 3, 2, 1, 9]\n",
    "```"
   ]
  },
  {
   "cell_type": "markdown",
   "id": "6d4d7d01-0936-4d75-85b3-23c81cc343d4",
   "metadata": {},
   "source": [
    "### Oceny\n",
    "\n",
    "|**ocena**|**punkty**|\n",
    "|:---:|:---:|\n",
    "|3,0 | 6 pkt|\n",
    "|3,5 | 7 pkt|\n",
    "|4,0 | 8 pkt|\n",
    "|4,5 | 9 pkt|\n",
    "|5,0 | 10 pkt|"
   ]
  }
 ],
 "metadata": {
  "kernelspec": {
   "display_name": "Java",
   "language": "java",
   "name": "java"
  },
  "language_info": {
   "codemirror_mode": "java",
   "file_extension": ".jshell",
   "mimetype": "text/x-java-source",
   "name": "Java",
   "pygments_lexer": "java",
   "version": "17+35-2724"
  }
 },
 "nbformat": 4,
 "nbformat_minor": 5
}
