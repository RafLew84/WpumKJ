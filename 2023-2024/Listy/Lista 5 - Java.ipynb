{
 "cells": [
  {
   "cell_type": "markdown",
   "id": "3249ea59-8bab-48b4-a32e-754e995a2f87",
   "metadata": {
    "tags": []
   },
   "source": [
    "# Lista 5"
   ]
  },
  {
   "cell_type": "markdown",
   "id": "3284c506-fe5c-4c60-91c9-ee6bea46a64e",
   "metadata": {},
   "source": [
    "Przygotujmy dane dla aplikacji zarządzającej kosztami posiadanych samochodów. Dla uproszczenia zakładamy koszty tylko z roku 2022.\n",
    "\n",
    "Typ kosztu zdefiniujemy jako `enum`."
   ]
  },
  {
   "cell_type": "code",
   "execution_count": 1,
   "id": "4e7f1005-7c16-4069-956d-b040100ddf8e",
   "metadata": {},
   "outputs": [],
   "source": [
    "public enum CostType {\n",
    "    REFUELING(\"Tankowanie\"),\n",
    "    SERVICE(\"Serwis\"),\n",
    "    PARKING(\"Parking\"),\n",
    "    INSURANCE(\"Ubezpieczenie\"),\n",
    "    TICKET(\"Mandat\");\n",
    "\n",
    "    private final String costType;\n",
    "\n",
    "    CostType(String costType) {\n",
    "        this.costType = costType;\n",
    "    }\n",
    "\n",
    "    public String getCostType() {\n",
    "        return costType;\n",
    "    }\n",
    "}"
   ]
  },
  {
   "cell_type": "markdown",
   "id": "fd40af9c-8fcf-4104-bd24-acc88b0d98de",
   "metadata": {},
   "source": [
    "Model danych zawiera typ kosztu, datę oraz kwotę."
   ]
  },
  {
   "cell_type": "code",
   "execution_count": 4,
   "id": "37534ede-f813-4910-a99c-6fc699d28835",
   "metadata": {},
   "outputs": [],
   "source": [
    "import java.time.LocalDate;\n",
    "\n",
    "public class Cost {\n",
    "    private final CostType type;\n",
    "    private final LocalDate date;\n",
    "    private final int amount;\n",
    "\n",
    "    public Cost(CostType type, LocalDate date, int amount){\n",
    "        this.type = type;\n",
    "        this.date = date;\n",
    "        this.amount = amount;\n",
    "    }\n",
    "\n",
    "    public CostType getType() {\n",
    "        return type;\n",
    "    }\n",
    "\n",
    "    public LocalDate getDate() {\n",
    "        return date;\n",
    "    }\n",
    "\n",
    "    public int getAmount() {\n",
    "        return amount;\n",
    "    }\n",
    "}"
   ]
  },
  {
   "cell_type": "markdown",
   "id": "986a90a6-6522-43b4-a272-8b821c10b772",
   "metadata": {},
   "source": [
    "W klasie `DataProvider` znajduje się wygenerowana lista kosztów."
   ]
  },
  {
   "cell_type": "code",
   "execution_count": 5,
   "id": "a1327e94-0b6c-4445-a616-1c84f0943ec9",
   "metadata": {},
   "outputs": [],
   "source": [
    "public final class DataProvider {\n",
    "    private DataProvider() {\n",
    "    }\n",
    "\n",
    "    public static ArrayList<Cost> getGeneralCosts() {\n",
    "        ArrayList<Cost> items = new ArrayList<>();\n",
    "        for (int i = 0; i < 100; i++) {\n",
    "            items.add(new Cost(\n",
    "                    CostType.values()[new Random().nextInt(CostType.values().length)],\n",
    "                    LocalDate.of(\n",
    "                        2022, \n",
    "                        new Random().nextInt(12) + 1, \n",
    "                        new Random().nextInt(28) + 1),\n",
    "                    new Random().nextInt(5000)));\n",
    "        }\n",
    "        return items;\n",
    "    }\n",
    "}"
   ]
  },
  {
   "cell_type": "markdown",
   "id": "f60694c5-fc13-4f9f-ac8b-08e7ad925554",
   "metadata": {},
   "source": [
    "## Zad 1 - **2 pkt**\n",
    "\n",
    "Napisz funkcję `groupedCostMap(ArrayList<Cost>)` przyjmującą listę kosztów, która zwróci mapę kosztów pogrupowaną według miesiąców i posortowaną rosnąco.\n",
    "\n",
    "```verbatim\n",
    "input:\n",
    ">> groupedCostMap(DataProvider.getGeneralCosts())\n",
    "\n",
    "generując 5 elementów\n",
    "output:\n",
    ">> {JANUARY=[Cost(type=INSURANCE, date=2022-01-15, amount=2263)], APRIL=[Cost(type=SERVICE, date=2022-04-20, amount=1933)], AUGUST=[Cost(type=INSURANCE, date=2022-08-24, amount=1524), Cost(type=PARKING, date=2022-08-13, amount=2350)], DECEMBER=[Cost(type=PARKING, date=2022-12-15, amount=529)]}\n",
    "```"
   ]
  },
  {
   "cell_type": "markdown",
   "id": "a78a88fc-64e4-4905-808c-1c4fde7afa99",
   "metadata": {},
   "source": [
    "## Zad 2 - **4 pkt**\n",
    "\n",
    "Napisz funkcję drukującą wszystkie koszty.\n",
    "- koszty powinny być pogrupowane według miesięcy\n",
    "- koszty powinny być posortowane według dat\n",
    "\n",
    "```verbatim\n",
    "format:\n",
    "<miesiąc>\n",
    "<dzień> <koszt> <kwota>\n",
    "<dzień> <koszt> <kwota>\n",
    "...\n",
    "<miesiąc>\n",
    "<dzień> <koszt> <kwota>\n",
    "<dzień> <koszt> <kwota>\n",
    "    \n",
    "    \n",
    "output:\n",
    "JANUARY\n",
    "01 INSURANCE 2012 zł\n",
    "15 PARKING 300 zł\n",
    "APRIL\n",
    "04 SERVICE 1933 zł\n",
    "DECEMBER\n",
    "24 TICKET 2500 zł\n",
    "```"
   ]
  },
  {
   "cell_type": "markdown",
   "id": "fdb28931-fc84-4ff7-b647-0068a36d763e",
   "metadata": {},
   "source": [
    "Przygotujmy prosty model danych opisujący samochód"
   ]
  },
  {
   "cell_type": "code",
   "execution_count": 6,
   "id": "b55800bd-6b88-4224-92e6-35fa24caf0a9",
   "metadata": {},
   "outputs": [],
   "source": [
    "public class Car {\n",
    "    private final String name;\n",
    "    private final String brand;\n",
    "    private final String model;\n",
    "    private final int yearOfProduction;\n",
    "    private ArrayList<Cost> costs;\n",
    "\n",
    "    public Car(\n",
    "        String name, \n",
    "        String brand, \n",
    "        String model, \n",
    "        int yearOfProduction, \n",
    "        ArrayList<Cost> costs\n",
    "    ) {\n",
    "        this.name = name;\n",
    "        this.brand = brand;\n",
    "        this.model = model;\n",
    "        this.yearOfProduction = yearOfProduction;\n",
    "        this.costs = costs;\n",
    "    }\n",
    "\n",
    "    public void setCosts(ArrayList<Cost> costs) {\n",
    "        this.costs = costs;\n",
    "    }\n",
    "\n",
    "    public String getName() {\n",
    "        return name;\n",
    "    }\n",
    "\n",
    "    public String getBrand() {\n",
    "        return brand;\n",
    "    }\n",
    "\n",
    "    public String getModel() {\n",
    "        return model;\n",
    "    }\n",
    "\n",
    "    public int getYearOfProduction() {\n",
    "        return yearOfProduction;\n",
    "    }\n",
    "\n",
    "    public ArrayList<Cost> getCosts() {\n",
    "        return costs;\n",
    "    }\n",
    "}\n",
    "\n"
   ]
  },
  {
   "cell_type": "markdown",
   "id": "49f61957-05c6-4d37-8428-b2d6f3ef0aec",
   "metadata": {},
   "source": [
    "Poza standardowymi polami umieścimy również listę wszystkich kosztów. Musimy wprowadzić niewielkie zmiany w `DataProvider` i wystawić liste wszystkich samochodów. Zmienimy stałą `generalCosts` na funkcję przyjmującą rozmiar listy."
   ]
  },
  {
   "cell_type": "code",
   "execution_count": 12,
   "id": "00b6ad60-fc6a-4a72-bd9a-84f98bc9a43b",
   "metadata": {},
   "outputs": [],
   "source": [
    "public final class DataProvider {\n",
    "    private DataProvider() {\n",
    "    }\n",
    "    \n",
    "    private static ArrayList<Cost> getGeneralCosts(int size) {\n",
    "        ArrayList<Cost> items = new ArrayList<>();\n",
    "        for (int i = 0; i < size; i++) {\n",
    "            items.add(new Cost(\n",
    "                    CostType\n",
    "                .values()[new Random()\n",
    "                          .nextInt(CostType.values().length)],\n",
    "                    LocalDate.of(\n",
    "                        2022, \n",
    "                        new Random().nextInt(12) + 1, \n",
    "                        new Random().nextInt(28) + 1),\n",
    "                    new Random().nextInt(5000)));\n",
    "        }\n",
    "        return items;\n",
    "    }\n",
    "\n",
    "    static ArrayList<Car> getCars(){\n",
    "        ArrayList<Car> items = new ArrayList<>();\n",
    "        items.add(new Car(\n",
    "            \"Domowy\", \n",
    "            \"Skoda\", \n",
    "            \"Fabia\", \n",
    "            2002, \n",
    "            getGeneralCosts(100)));\n",
    "        items.add(new Car(\n",
    "            \"Służbowy\", \n",
    "            \"BMW\", \n",
    "            \"Coupe\", \n",
    "            2015, \n",
    "            getGeneralCosts(50)));\n",
    "        items.add(new Car(\n",
    "            \"Kolekcjonerski\", \n",
    "            \"Fiat\", \n",
    "            \"125p\", \n",
    "            1985, \n",
    "            getGeneralCosts(10)));\n",
    "        return items;\n",
    "    }\n",
    "\n",
    "}"
   ]
  },
  {
   "cell_type": "markdown",
   "id": "dda23fff-5a82-49d7-8506-8dec2ed18f35",
   "metadata": {},
   "source": [
    "## Zad 3 - **2 pkt**\n",
    "\n",
    "Napisz funkcję `getCarCosts(String)` podsumowującą wszystkie wydatki danego auta. Funkcja przyjmuje nazwę samochodu i zwraca listę par (`Pair`) wszystkich typów kosztów wraz z sumą wydatków dla tego auta - lista jest posortowana malejąco względem kosztów. Napisz funkcję `printCarCosts(ArrayList<Pair<CostType, Int>>)` drukującą listę kosztów.\n",
    "\n",
    "```verbatim\n",
    "input:\n",
    "printCarCosts(getCarCosts(\"Domowy\"))\n",
    "\n",
    "output:\n",
    "FUEL 12459 zł\n",
    "SERVICE 9000 zł\n",
    "INSURANCE 3000 zł\n",
    "PARKING 1200 zł\n",
    "TICKET 0 zł\n",
    "```"
   ]
  },
  {
   "cell_type": "markdown",
   "id": "719b9830-5880-4e90-ae12-ea7de48f07e8",
   "metadata": {},
   "source": [
    "## Zad 4 - **2 pkt**\n",
    "\n",
    "Napisz funkcję `getFullCosts(ArrayList<Car>)` podsumowującą wszystkie poniesione koszta (dla wszystkich samochodów). Funkcja oblicza sumę kosztów każdego typu. Funkcja zwraca mapę (typ kosztu, suma). Napisz funkcję `printFullCost(HashMap<CostType, Integer>)` drukującą mapę wszystkich kosztów.\n",
    "\n",
    "```verbatim\n",
    "input:\n",
    "printFullCost(getFullCosts(DataProvider.getCars()))\n",
    "\n",
    "output:\n",
    "TICKET 0\n",
    "INSURANCE 3000\n",
    "PARKING 9660\n",
    "FUEL 42459\n",
    "SERVICE 67000\n",
    "```"
   ]
  },
  {
   "cell_type": "markdown",
   "id": "2a73cda7-411d-4d52-8657-a7c7622ef998",
   "metadata": {},
   "source": [
    "### Oceny\n",
    "\n",
    "|**ocena**|**punkty**|\n",
    "|:---:|:---:|\n",
    "|3,0 | 6 pkt|\n",
    "|3,5 | 7 pkt|\n",
    "|4,0 | 8 pkt|\n",
    "|4,5 | 9 pkt|\n",
    "|5,0 | 10 pkt|"
   ]
  }
 ],
 "metadata": {
  "kernelspec": {
   "display_name": "Java",
   "language": "java",
   "name": "java"
  },
  "language_info": {
   "codemirror_mode": "java",
   "file_extension": ".jshell",
   "mimetype": "text/x-java-source",
   "name": "Java",
   "pygments_lexer": "java",
   "version": "17+35-2724"
  }
 },
 "nbformat": 4,
 "nbformat_minor": 5
}
