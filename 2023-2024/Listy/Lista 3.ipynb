{
 "cells": [
  {
   "cell_type": "markdown",
   "id": "602563bd-0b2a-4542-95ca-002c5169598a",
   "metadata": {},
   "source": [
    "# Lista 3"
   ]
  },
  {
   "cell_type": "markdown",
   "id": "14e2920e-bd62-4f5f-b09d-826b73d20cf6",
   "metadata": {},
   "source": [
    "## Zad 1 - **4 pkt**\n",
    "\n",
    "Napisz funkcję, która przyjmie zdanie, a następnie policzy ilość wystąpień poszczególnych słów. Wynikiem powinna być mapa (`Map<String, Int>`), gdzie klucze to unikalne słowa, a wartości to liczba ich wystąpień w tekście."
   ]
  },
  {
   "cell_type": "markdown",
   "id": "387e8bce-1b28-490e-9a0a-dad21907233f",
   "metadata": {},
   "source": [
    "```kotlin\n",
    "\n",
    "val input: String = \"To jest przykładowe zdanie. To zdanie jest tylko przykładowe.\"\n",
    "println(numberOfOccurrences(input))\n",
    "```\n",
    "```verbatim\n",
    ">> Word: 'to' occurs 2 times.\n",
    ">> Word: 'jest' occurs 2 times.\n",
    ">> Word: 'przykładowe' occurs 2 times.\n",
    ">> Word: 'zdanie' occurs 2 times.\n",
    ">> Word: 'tylko' occurs 1 time.\n",
    "```"
   ]
  },
  {
   "cell_type": "markdown",
   "id": "3f74c871-46a0-4b11-a9de-3dba7f0636a0",
   "metadata": {},
   "source": [
    "## Zad 2 - **4 pkt**\n",
    "\n",
    "Wykorzystując właściwości zbiorów (`Set`) napisz funkcję `findDuplicates` przyjmującą listę liczb całkowitych jako argument i zwracającą posortowaną rosnąco listę wszystkich duplikatów."
   ]
  },
  {
   "cell_type": "markdown",
   "id": "3fb7e4ac-271f-4466-8350-574552089ec4",
   "metadata": {},
   "source": [
    "```kotlin\n",
    "val tab: lst = listOf(0, 1, 1, 1, 4, 4, 4, 9, 3, 3, 3, 3, 3, 3)\n",
    "println(findDuplicates(lst))\n",
    "```\n",
    "```verbatim\n",
    ">> (1, 3, 4)\n",
    "```"
   ]
  },
  {
   "cell_type": "markdown",
   "id": "642621aa-c46b-4f9b-9f0f-6ff1107fd385",
   "metadata": {},
   "source": [
    "```java\n",
    "List<Integer> lst = list.Of(0, 1, 1, 1, 4, 4, 4, 9, 3, 3, 3, 3, 3, 3) // Java 9\n",
    "System.out.println(findDuplicates(lst));\n",
    "```\n",
    "```verbatim\n",
    ">> (1, 3, 4)\n",
    "```"
   ]
  },
  {
   "cell_type": "markdown",
   "id": "1dc4f66e-907d-469c-91e4-4a94edef2efa",
   "metadata": {},
   "source": [
    "## Zad 3 - **2 pkt**\n",
    "\n",
    "Napisz funkcję `addToBoolean` zwracającą mapę `Map<Integer, Boolean>` (Kotlin - `Map<Int, Boolean>`). Funkcja dodaje do mapy 20 elementów, kluczami są liczby 1-20. \n",
    "- Jeżeli klucz jest parzysty, wartość ustawiamy na `true`\n",
    "- Jeżeli klucz jest nieparzysty - wartość jest `false`."
   ]
  },
  {
   "cell_type": "markdown",
   "id": "7d3251d8-2b97-4439-a320-0a0e7cf3adb4",
   "metadata": {},
   "source": [
    "```kotlin\n",
    "println(addToBoolean())\n",
    "```\n",
    "```verbatim\n",
    ">> {1=false, 2=true, 3=false, 4=true ...}\n",
    "```"
   ]
  },
  {
   "cell_type": "markdown",
   "id": "a40ea21e-72c6-4134-a16f-328d7482e677",
   "metadata": {},
   "source": [
    "```java\n",
    "System.out.println(addToBoolean())\n",
    "```\n",
    "```verbatim\n",
    ">> {1=false, 2=true, 3=false, 4=true ...}\n",
    "```"
   ]
  },
  {
   "cell_type": "markdown",
   "id": "e79732af-8a82-4368-a033-3b538f151c8e",
   "metadata": {},
   "source": [
    "### Oceny\n",
    "\n",
    "|**ocena**|**punkty**|\n",
    "|:---:|:---:|\n",
    "|3,0 | 6 pkt|\n",
    "|3,5 | 7 pkt|\n",
    "|4,0 | 8 pkt|\n",
    "|4,5 | 9 pkt|\n",
    "|5,0 | 10 pkt|"
   ]
  }
 ],
 "metadata": {
  "kernelspec": {
   "display_name": "Kotlin",
   "language": "kotlin",
   "name": "kotlin"
  },
  "language_info": {
   "codemirror_mode": "text/x-kotlin",
   "file_extension": ".kt",
   "mimetype": "text/x-kotlin",
   "name": "kotlin",
   "nbconvert_exporter": "",
   "pygments_lexer": "kotlin",
   "version": "1.8.0-RC"
  }
 },
 "nbformat": 4,
 "nbformat_minor": 5
}
