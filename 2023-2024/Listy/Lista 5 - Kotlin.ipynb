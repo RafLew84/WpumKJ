{
 "cells": [
  {
   "cell_type": "markdown",
   "id": "049d40bd-2181-4864-8c6f-f93505f3a722",
   "metadata": {
    "tags": []
   },
   "source": [
    "# Lista 5"
   ]
  },
  {
   "cell_type": "markdown",
   "id": "7a89d18e-043a-453d-ad30-ba5057697e9c",
   "metadata": {},
   "source": [
    "Przygotujmy dane dla aplikacji zarządzającej kosztami posiadanych samochodów. Dla uproszczenia zakładamy koszty tylko z roku 2022.\n",
    "\n",
    "Typ kosztu zdefiniujemy jako `enum class`."
   ]
  },
  {
   "cell_type": "code",
   "execution_count": null,
   "id": "92e34d6a-d98d-4012-a805-11e359c6f342",
   "metadata": {},
   "outputs": [],
   "source": [
    "enum class CostType(val costType: String) {\n",
    "    REFUELING(\"Tankowanie\"),\n",
    "    SERVICE(\"Serwis\"),\n",
    "    PARKING(\"Parking\"),\n",
    "    INSURANCE(\"Ubezpieczenie\"),\n",
    "    TICKET(\"Mandat\")\n",
    "}"
   ]
  },
  {
   "cell_type": "markdown",
   "id": "75b387c3-7ce6-4e86-b0ad-c15ceb958ff7",
   "metadata": {},
   "source": [
    "Model danych zawiera typ kosztu, datę oraz kwotę."
   ]
  },
  {
   "cell_type": "code",
   "execution_count": null,
   "id": "1a826f52-3d54-4845-a7e6-25056ae142c5",
   "metadata": {},
   "outputs": [],
   "source": [
    "data class Cost (\n",
    "    val type: CostType,\n",
    "    val date: LocalDate,\n",
    "    val amount: Int\n",
    ")"
   ]
  },
  {
   "cell_type": "markdown",
   "id": "a410e055-43d6-4ac1-9656-a3df2f45cfa9",
   "metadata": {},
   "source": [
    "W objekcie `DataProvider` znajduje się wygenerowana lista kosztów."
   ]
  },
  {
   "cell_type": "code",
   "execution_count": null,
   "id": "1370477d-c8c8-40dc-a6e1-28b8628c365b",
   "metadata": {},
   "outputs": [],
   "source": [
    "import kotlin.random.*\n",
    "\n",
    "object DataProvider {\n",
    "    val generalCosts = List(5) {\n",
    "        Cost(\n",
    "            CostType\n",
    "                .values()[Random.nextInt(CostType.values().size)],\n",
    "            LocalDate.of(\n",
    "                2022, \n",
    "                Random.nextInt(1,13), \n",
    "                Random.nextInt(1,28)),\n",
    "            Random.nextInt(5000)\n",
    "        )\n",
    "    }\n",
    "}"
   ]
  },
  {
   "cell_type": "markdown",
   "id": "55e158a2-2949-435c-8ae8-f7018ac42119",
   "metadata": {},
   "source": [
    "## Zad 1 - **2 pkt**\n",
    "\n",
    "Napisz funkcję `groupedCostMap` przyjmującą listę kosztów `List<Cost>`, która zwróci mapę kosztów pogrupowaną według miesiąców i posortowaną rosnąco.\n",
    "\n",
    "```verbatim\n",
    "input:\n",
    ">> groupedCostMap(DataProvider.generalCosts)\n",
    "\n",
    "generując 5 elementów\n",
    "output:\n",
    ">> {JANUARY=[Cost(type=INSURANCE, date=2022-01-15, amount=2263)], APRIL=[Cost(type=SERVICE, date=2022-04-20, amount=1933)], AUGUST=[Cost(type=INSURANCE, date=2022-08-24, amount=1524), Cost(type=PARKING, date=2022-08-13, amount=2350)], DECEMBER=[Cost(type=PARKING, date=2022-12-15, amount=529)]}\n",
    "```"
   ]
  },
  {
   "cell_type": "markdown",
   "id": "aba972b4-450e-441c-834b-31716f500c1a",
   "metadata": {},
   "source": [
    "## Zad 2 - **4 pkt**\n",
    "\n",
    "Napisz funkcję drukującą wszystkie koszty.\n",
    "- koszty powinny być pogrupowane według miesięcy\n",
    "- koszty powinny być posortowane według dat\n",
    "\n",
    "```verbatim\n",
    "format:\n",
    "<miesiąc>\n",
    "<dzień> <koszt> <kwota>\n",
    "<dzień> <koszt> <kwota>\n",
    "...\n",
    "<miesiąc>\n",
    "<dzień> <koszt> <kwota>\n",
    "<dzień> <koszt> <kwota>\n",
    "    \n",
    "    \n",
    "output:\n",
    "JANUARY\n",
    "01 INSURANCE 2012 zł\n",
    "15 PARKING 300 zł\n",
    "APRIL\n",
    "04 SERVICE 1933 zł\n",
    "DECEMBER\n",
    "24 TICKET 2500 zł\n",
    "```"
   ]
  },
  {
   "cell_type": "markdown",
   "id": "ed6aad6c-5aec-4b01-b094-caea4d4428f9",
   "metadata": {},
   "source": [
    "Przygotujmy prosty model danych opisujący samochód"
   ]
  },
  {
   "cell_type": "code",
   "execution_count": null,
   "id": "098206cd-b442-471f-8f9d-89415c2cc865",
   "metadata": {},
   "outputs": [],
   "source": [
    "data class Car (\n",
    "    val name: String,\n",
    "    val brand: String,\n",
    "    val model: String,\n",
    "    val yearOfProduction: Int,\n",
    "    val costs: List<Cost>\n",
    ")"
   ]
  },
  {
   "cell_type": "markdown",
   "id": "fa6879a1-2da8-4226-9ac6-1329922e63ea",
   "metadata": {},
   "source": [
    "Poza standardowymi polami umieścimy również listę wszystkich kosztów. Musimy wprowadzić niewielkie zmiany w `DataProvider` i wystawić liste wszystkich samochodów. Zmienimy stałą `generalCosts` na funkcję przyjmującą rozmiar listy."
   ]
  },
  {
   "cell_type": "code",
   "execution_count": null,
   "id": "53863281-d759-4eac-aa8e-daf938081c57",
   "metadata": {},
   "outputs": [],
   "source": [
    "import kotlin.random.*\n",
    "\n",
    "object DataProvider {\n",
    "    \n",
    "    private fun  generalCosts(size: Int) = List(size) {\n",
    "    Cost(\n",
    "        CostType.values()[Random.nextInt(CostType.values().size)],\n",
    "        LocalDate.of(\n",
    "            2022, \n",
    "            Random.nextInt(1,13), \n",
    "            Random.nextInt(1,28)),\n",
    "        Random.nextInt(5000)\n",
    "        )\n",
    "    }\n",
    "\n",
    "    val cars = listOf(\n",
    "        Car(\"Domowy\", \"Skoda\", \"Fabia\", 2002, generalCosts(100)),\n",
    "        Car(\"Służbowy\", \"BMW\", \"Coupe\", 2015, generalCosts(50)),\n",
    "        Car(\"Kolekcjonerski\", \"Fiat\", \"125p\", 1985, generalCosts(10))\n",
    "    )\n",
    "\n",
    "}"
   ]
  },
  {
   "cell_type": "markdown",
   "id": "73e53557-c305-4e57-a7ca-b34b6cc337fd",
   "metadata": {},
   "source": [
    "## Zad 3 - **2 pkt**\n",
    "\n",
    "Napisz funkcję `getCarCosts(String)` podsumowującą wszystkie wydatki danego auta. Funkcja przyjmuje nazwę samochodu i zwraca listę par (`Pair`) wszystkich typów kosztów wraz z sumą wydatków dla tego auta - lista jest posortowana malejąco względem kosztów. Napisz funkcję `printCarCosts(List<Pair<CostType, Int>>)` drukującą listę kosztów.\n",
    "\n",
    "```verbatim\n",
    "input:\n",
    "printCarCosts(getCarCosts(\"Domowy\"))\n",
    "\n",
    "output:\n",
    "FUEL 12459 zł,\n",
    "SERVICE 9000 zł,\n",
    "INSURANCE 3000 zł,\n",
    "PARKING 1200 zł,\n",
    "TICKET 0 zł\n",
    "```"
   ]
  },
  {
   "cell_type": "markdown",
   "id": "d06d8d5d-2395-424d-b042-00320350942d",
   "metadata": {},
   "source": [
    "## Zad 4 - **2 pkt**\n",
    "\n",
    "Napisz funkcję `getFullCosts(List<Car>)` podsumowującą wszystkie poniesione koszta (dla wszystkich samochodów). Funkcja oblicza sumę kosztów każdego typu. Funkcja zwraca mapę (typ kosztu, suma). Napisz funkcję `printFullCost(Map<CostType, Int>)` drukującą mapę wszystkich kosztów.\n",
    "\n",
    "```verbatim\n",
    "input:\n",
    "printFullCost(getFullCosts(DataProvider.cars))\n",
    "\n",
    "output:\n",
    "TICKET 0\n",
    "INSURANCE 3000\n",
    "PARKING 9660\n",
    "FUEL 42459\n",
    "SERVICE 67000\n",
    "```"
   ]
  },
  {
   "cell_type": "markdown",
   "id": "bf7dc4a0-5a00-4def-8203-5f7a75b2de4e",
   "metadata": {},
   "source": [
    "### Oceny\n",
    "\n",
    "|**ocena**|**punkty**|\n",
    "|:---:|:---:|\n",
    "|3,0 | 6 pkt|\n",
    "|3,5 | 7 pkt|\n",
    "|4,0 | 8 pkt|\n",
    "|4,5 | 9 pkt|\n",
    "|5,0 | 10 pkt|"
   ]
  }
 ],
 "metadata": {
  "kernelspec": {
   "display_name": "Kotlin",
   "language": "kotlin",
   "name": "kotlin"
  },
  "language_info": {
   "codemirror_mode": "text/x-kotlin",
   "file_extension": ".kt",
   "mimetype": "text/x-kotlin",
   "name": "kotlin",
   "nbconvert_exporter": "",
   "pygments_lexer": "kotlin",
   "version": "1.6.20-dev-6372"
  }
 },
 "nbformat": 4,
 "nbformat_minor": 5
}
