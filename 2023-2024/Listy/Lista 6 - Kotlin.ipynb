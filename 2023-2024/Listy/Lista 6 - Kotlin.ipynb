{
 "cells": [
  {
   "cell_type": "markdown",
   "id": "6bbb7559-6edd-4566-bf48-5a11a59c6a8b",
   "metadata": {
    "tags": []
   },
   "source": [
    "# Lista 6\n",
    "\n",
    "## Zad 1 - **2 pkt**\n",
    "\n",
    "Zaimplementuj właściwości rozszerzające:<br>\n",
    "- `val <T> List<T>.tail: List<T>` zwracającą listę wszystkich elementów listy oprócz pierwszego\n",
    "- `val <T> List<T>.head: T` zwracającą pierwszy element listy\n",
    "\n",
    "## Zad 2 - **2 pkt**\n",
    "\n",
    "Zaimplementuj funkcję `isSorted(aa: List<A>, order: (A, A) -> Boolean): Boolean` sprawdzającą czy lista `List<A>` jest posortowana zgodnie z funkcją porównawczą.\n",
    "\n",
    "```verbatim\n",
    "Przykładowo:\n",
    "\n",
    "input:\n",
    ">> isSorted(listOf(1, 2, 3, 4), {i: Int, j: Int -> i < j})\n",
    "\n",
    "output:\n",
    ">> true\n",
    "\n",
    "input:\n",
    ">> isSorted(listOf(1, 1, 1, 1), {i: Int, j: Int -> i==j})\n",
    "\n",
    "output:\n",
    ">> true\n",
    "\n",
    "input: \n",
    ">> isSorted(listOf(\"ahyyhh\", \"bkjn\", \"cnn\", \"duu\"), {i: String, j: String -> i.first() < j.first()})\n",
    "\n",
    "output:\n",
    ">> true\n",
    "```"
   ]
  },
  {
   "cell_type": "markdown",
   "id": "19457c41-4ef2-4238-b001-25c88fb001d0",
   "metadata": {},
   "source": [
    "## Zad 3 - **1 pkt**\n",
    "\n",
    "Napisz funkcję `fun square(numbers: List<Number>): List<Number>` przyjmującą listę liczb (`Number`) i zwracającą listę wszystkich dodatnich liczb o indeksach nieparzystych podniesionych do kwadratu.\n",
    "\n",
    "```verbatim\n",
    "input:\n",
    ">> square(listOf(1, 2, 3.5, 5, -6, 1, 1))\n",
    "\n",
    "output:\n",
    ">> [4, 25, 1]\n",
    "```"
   ]
  },
  {
   "cell_type": "markdown",
   "id": "9e5c6d51-4895-4ff6-a1ae-efb5889b1572",
   "metadata": {},
   "source": [
    "## Zad 4 - **2 pkt**\n",
    "    \n",
    "Napisz funkcję `fun <A> tailToHead(lst: List<A>): List<A>` przestawiającą ostatni element listy na jej początek. W przypadku podania jako argument pustej listy funkcja powinna rzucać wyjątek `IllegalStateException(\"Empty list\")`. Funkcja zwraca zmodyfikowaną listę.\n",
    "\n",
    "```verbatim\n",
    "input:\n",
    ">> tailToHead(listOf(1, 2, 3))\n",
    "\n",
    "output:\n",
    ">> [3, 1, 2]\n",
    "```"
   ]
  },
  {
   "cell_type": "markdown",
   "id": "098ad001-6cdf-4f83-a55a-280b931700d2",
   "metadata": {},
   "source": [
    "## Zad 5 - **1 pkt**\n",
    "    \n",
    "Napisz funkcję `fun <A> setHead(lst: List<A>, item: A): List<A>` zamieniającą pierwszy element listy na podany w argumencie metody (`item`).\n",
    "\n",
    "```verbatim\n",
    "input:\n",
    ">> setHead(listOf(1, 2, 3), 5)\n",
    "\n",
    "output:\n",
    ">> [5, 2, 3]\n",
    "```"
   ]
  },
  {
   "cell_type": "markdown",
   "id": "002c815a-a9c0-4546-8697-e5a66dd31bd4",
   "metadata": {},
   "source": [
    "## Zad 6 - **2 pkt**\n",
    "    \n",
    "Napisz funkcję `fun <A> dropWhile(l: List<A>, f: (A) -> Boolean): List<A>` usuwającą elementy listy (rozpoczynając od pierwszego) dopóki spełniony jest predykat.\n",
    "\n",
    "```verbatim\n",
    "input:\n",
    ">> dropWhile(listOf(1, 2, 3, 4, 3, 2, 1, 9)){it < 3}\n",
    "\n",
    "output:\n",
    ">> [3, 4, 3, 2, 1, 9]\n",
    "```"
   ]
  },
  {
   "cell_type": "markdown",
   "id": "7e4aaeb4-5aa1-4822-88fc-041345b6038a",
   "metadata": {},
   "source": [
    "### Oceny\n",
    "\n",
    "|**ocena**|**punkty**|\n",
    "|:---:|:---:|\n",
    "|3,0 | 6 pkt|\n",
    "|3,5 | 7 pkt|\n",
    "|4,0 | 8 pkt|\n",
    "|4,5 | 9 pkt|\n",
    "|5,0 | 10 pkt|"
   ]
  }
 ],
 "metadata": {
  "kernelspec": {
   "display_name": "Kotlin",
   "language": "kotlin",
   "name": "kotlin"
  },
  "language_info": {
   "codemirror_mode": "text/x-kotlin",
   "file_extension": ".kt",
   "mimetype": "text/x-kotlin",
   "name": "kotlin",
   "nbconvert_exporter": "",
   "pygments_lexer": "kotlin",
   "version": "1.6.20-dev-6372"
  }
 },
 "nbformat": 4,
 "nbformat_minor": 5
}
