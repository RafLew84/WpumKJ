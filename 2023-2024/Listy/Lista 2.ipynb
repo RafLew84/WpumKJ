{
 "cells": [
  {
   "cell_type": "markdown",
   "id": "53ef2fe5-f599-422a-a174-f453415e5e0a",
   "metadata": {},
   "source": [
    "# Lista 2"
   ]
  },
  {
   "cell_type": "markdown",
   "id": "d1694d2c-600b-4736-9f6c-80e689dc3093",
   "metadata": {},
   "source": [
    "## Zad 1 - **4 pkt**\n",
    "\n",
    "Napisz funkcję `missingNumber`, która jako argument przyjmuje tablicę/listę `N` liczb naturalnych. W tablicy wszystkie elementy są unikalne. Tablica ma długość `N`. W tablicy brakuje jednego elementu z zakresu. \n",
    "- funkcja `missingNumber` powinna zwrócić brakujący element\n",
    "- zaimplementuj weryfikację wejścia\n",
    "    - sprawdzenie czy wszystkie elementy są unikalne\n",
    "    - sprawdzenie czy lista/tablica nie zawiera liczb ujemnych\n",
    "    - spradzenie czy brakuje tylko jednego elementu"
   ]
  },
  {
   "cell_type": "markdown",
   "id": "41460e25-807e-48d9-810d-926a66d1272e",
   "metadata": {},
   "source": [
    "```kotlin\n",
    "// kotlin\n",
    "val tab: intArray = intArrayOf(0, 1, 2, 3) // N = 4\n",
    "println(missingNumber(tab))\n",
    "```\n",
    "```verbatim\n",
    ">> 4\n",
    "```"
   ]
  },
  {
   "cell_type": "markdown",
   "id": "f3ad735c-da10-4c59-a076-27da318acbf9",
   "metadata": {},
   "source": [
    "```java\n",
    "// java\n",
    "int[] tab = new int[]{2, 4, 5, 3, 0, 6}; // N = 6\n",
    "System.out.println(missingNumber(tab));\n",
    "```\n",
    "```verbatim\n",
    ">> 1\n",
    "```"
   ]
  },
  {
   "cell_type": "markdown",
   "id": "2b1bc910-d3ad-4d84-97cd-25325ef6beae",
   "metadata": {},
   "source": [
    "## Zad 2 - **2 pkt**\n",
    "\n",
    "Stwórz program, który sprawdzi, czy podane przez użytkownika słowo jest palindromem (czytane tak samo od lewej do prawej, jak i od prawej do lewej)."
   ]
  },
  {
   "cell_type": "markdown",
   "id": "20ef5142-7044-46b8-b832-4cc2a996ba6e",
   "metadata": {},
   "source": [
    "```kotlin\n",
    "val word: String = \"abba\"\n",
    "println(isPalindrome(word))\n",
    "```\n",
    "```verbatim\n",
    ">> true\n",
    "```"
   ]
  },
  {
   "cell_type": "markdown",
   "id": "2342a65a-0945-48a6-ab16-01197738be71",
   "metadata": {},
   "source": [
    "## Zad 3 - **4 pkt**\n",
    "\n",
    "Napisz program, który wygeneruje trójkąt Pascala o zadanej wysokości. Trójkąt Pascala to struktura liczbowa, w której każda liczba to suma dwóch liczb znajdujących się bezpośrednio nad nią w poprzednim rzędzie."
   ]
  },
  {
   "cell_type": "markdown",
   "id": "a881e91d-7e45-4ed7-9b38-5697fca39360",
   "metadata": {},
   "source": [
    "```kotlin\n",
    "val height: Int = 4\n",
    "println(printPascal(height))\n",
    "```\n",
    "```verbatim\n",
    ">>       1\n",
    ">>      1 1\n",
    ">>     1 2 1\n",
    ">>    1 3 3 1\n",
    "```"
   ]
  },
  {
   "cell_type": "markdown",
   "id": "3951c0f1-6639-4a6c-a114-4a14ade3e399",
   "metadata": {},
   "source": [
    "### Oceny\n",
    "\n",
    "|**ocena**|**punkty**|\n",
    "|:---:|:---:|\n",
    "|3,0 | 6 pkt|\n",
    "|3,5 | 7 pkt|\n",
    "|4,0 | 8 pkt|\n",
    "|4,5 | 9 pkt|\n",
    "|5,0 | 10 pkt|"
   ]
  },
  {
   "cell_type": "code",
   "execution_count": null,
   "id": "cb22fe79-499c-444f-8e10-98e97c7f0893",
   "metadata": {},
   "outputs": [],
   "source": []
  }
 ],
 "metadata": {
  "kernelspec": {
   "display_name": "Kotlin",
   "language": "kotlin",
   "name": "kotlin"
  },
  "language_info": {
   "codemirror_mode": "text/x-kotlin",
   "file_extension": ".kt",
   "mimetype": "text/x-kotlin",
   "name": "kotlin",
   "nbconvert_exporter": "",
   "pygments_lexer": "kotlin",
   "version": "1.8.0-RC"
  }
 },
 "nbformat": 4,
 "nbformat_minor": 5
}
