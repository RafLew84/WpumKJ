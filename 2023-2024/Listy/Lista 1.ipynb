{
 "cells": [
  {
   "cell_type": "markdown",
   "id": "95d8bb51-567d-42dd-834c-9dff17bf4752",
   "metadata": {},
   "source": [
    "# Lista 1\n",
    "\n",
    "## Zad 1 - **2 pkt**\n",
    "\n",
    "Wypisz wszystkie liczby od 1 do N, jednak jeżeli liczba jest podzielna przez:\n",
    "- 3 - wypisz \"trzy\"\n",
    "- 5 - wypisz \"piec\"\n",
    "- 3 i 5 - wypisz \"trzypiec\"\n",
    "\n",
    "`\n",
    "1\n",
    "2\n",
    "trzy\n",
    "4\n",
    "piec\n",
    "trzy\n",
    "7\n",
    "8\n",
    "trzy\n",
    "piec\n",
    "11\n",
    "trzy\n",
    "13\n",
    "14\n",
    "trzypiec\n",
    "`"
   ]
  },
  {
   "cell_type": "markdown",
   "id": "9a166857-e084-4b9c-a120-da90c3042121",
   "metadata": {
    "jp-MarkdownHeadingCollapsed": true,
    "tags": []
   },
   "source": [
    "## Zad 2 - **3 pkt**\n",
    "\n",
    "Rozszerz Zad 1 o liczbę 7.\n",
    "Jeżeli liczba jest podzielna przez:\n",
    "- 7 - wypisz \"siedem\"\n",
    "- 3 i 7 - wypisz \"trzysiedem\"\n",
    "- 5 i 7 - wypisz \"piecsiedem\"\n",
    "- 3, 5 i 7 - wypisz \"trzypiecsiedem\""
   ]
  },
  {
   "cell_type": "markdown",
   "id": "9743eee1-980b-4116-bb29-da3604364878",
   "metadata": {},
   "source": [
    "## Zad 3 - **3 pkt**\n",
    "\n",
    "Rozszerz Zad 2 o liczby 11 i 13.\n",
    "Jeżeli liczba jest podzielna przez:\n",
    "- 11 - wypisz \"jedenascie\"\n",
    "- 3 i 11 - wypisz \"trzyjedenascie\"\n",
    "- 3, 5, 7 i 11 - wypisz \"trzypiecsiedemjedenascie\"\n",
    "- itd..."
   ]
  },
  {
   "cell_type": "markdown",
   "id": "ab8b9b1b-cd65-4fc3-aef1-b7c4672b8c8c",
   "metadata": {},
   "source": [
    "## Zad 4 - **2 pkt**\n",
    "\n",
    "Rozszerz Zad 3 o liczby 17 i 21.\n",
    "Jeżeli liczba jest podzielna przez:\n",
    "- 11 - wypisz \"jedenascie\"\n",
    "- 3 i 11 - wypisz \"trzyjedenascie\"\n",
    "- 3, 5, 7 i 11 - wypisz \"trzypiecsiedemjedenascie\"\n",
    "- 17 - wypisz siedemnascie\n",
    "- 3 i 17 - wypisz trzysiedemnascie\n",
    "- 3, 5, 7, 11, 13, 17, 21 - trzypiecsiedemjedenascietrzynasciesiedemnasciedwadziesciajeden\n",
    "- itd..."
   ]
  },
  {
   "cell_type": "markdown",
   "id": "57ef76ca-b00e-46d9-9b38-de209d979564",
   "metadata": {},
   "source": [
    "### Oceny\n",
    "\n",
    "|**ocena**|**punkty**|\n",
    "|:---:|:---:|\n",
    "|3,0 | 6 pkt|\n",
    "|3,5 | 7 pkt|\n",
    "|4,0 | 8 pkt|\n",
    "|4,5 | 9 pkt|\n",
    "|5,0 | 10 pkt|"
   ]
  }
 ],
 "metadata": {
  "kernelspec": {
   "display_name": "Java",
   "language": "java",
   "name": "java"
  },
  "language_info": {
   "codemirror_mode": "java",
   "file_extension": ".jshell",
   "mimetype": "text/x-java-source",
   "name": "Java",
   "pygments_lexer": "java",
   "version": "17+35-2724"
  }
 },
 "nbformat": 4,
 "nbformat_minor": 5
}
