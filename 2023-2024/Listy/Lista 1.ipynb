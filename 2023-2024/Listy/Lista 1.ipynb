{
 "cells": [
  {
   "cell_type": "markdown",
   "id": "95d8bb51-567d-42dd-834c-9dff17bf4752",
   "metadata": {},
   "source": [
    "# Lista 1\n",
    "\n",
    "## Zad 1 - **2 pkt**\n",
    "\n",
    "Zaimplementuj funkcję przyjmującą jeden argument typu `Int` i zwracającą `String`. Jeżeli liczba jest podzielna przez:\n",
    "- 3 - funkcja zwraca \"trzy\"\n",
    "- 5 - funkcja zwraca \"piec\"\n",
    "- 3 i 5 - funkcja zwraca \"trzypiec\""
   ]
  },
  {
   "cell_type": "markdown",
   "id": "9a166857-e084-4b9c-a120-da90c3042121",
   "metadata": {
    "jp-MarkdownHeadingCollapsed": true,
    "tags": []
   },
   "source": [
    "## Zad 2 - **3 pkt**\n",
    "\n",
    "Rozszerz Zad 1 o liczbę 7.\n",
    "Jeżeli liczba jest podzielna przez:\n",
    "- 7 - funkcja zwraca \"siedem\"\n",
    "- 3 i 7 - funkcja zwraca \"trzysiedem\"\n",
    "- 5 i 7 - funkcja zwraca \"piecsiedem\"\n",
    "- 3, 5 i 7 - funkcja zwraca \"trzypiecsiedem\""
   ]
  },
  {
   "cell_type": "markdown",
   "id": "9743eee1-980b-4116-bb29-da3604364878",
   "metadata": {},
   "source": [
    "## Zad 3 - **3 pkt**\n",
    "\n",
    "Rozszerz Zad 2 o liczby 11 i 13.\n",
    "Jeżeli liczba jest podzielna przez:\n",
    "- 11 - funkcja zwraca \"jedenascie\"\n",
    "- 3 i 11 - funkcja zwraca \"trzyjedenascie\"\n",
    "- 3, 5, 7 i 11 - funkcja zwraca \"trzypiecsiedemjedenascie\"\n",
    "- itd..."
   ]
  },
  {
   "cell_type": "markdown",
   "id": "ab8b9b1b-cd65-4fc3-aef1-b7c4672b8c8c",
   "metadata": {},
   "source": [
    "## Zad 4 - **2 pkt**\n",
    "\n",
    "Rozszerz Zad 3 o liczby 15 i 21.\n",
    "Jeżeli liczba jest podzielna przez:\n",
    "- 11 - funkcja zwraca \"jedenascie\"\n",
    "- 3 i 11 - funkcja zwraca \"trzyjedenascie\"\n",
    "- 3, 5, 7 i 11 - funkcja zwraca \"trzypiecsiedemjedenascie\"\n",
    "- 15 - funkcja zwraca pietnascie\n",
    "- 3 i 15 - funkcja zwraca trzypietnascie\n",
    "- 3, 5, 7, 11, 13, 15, 21 - funkcja zwraca trzypiecsiedemjedenascietrzynasciepietnasciedwadziesciajeden\n",
    "- itd..."
   ]
  },
  {
   "cell_type": "markdown",
   "id": "60bff49a-42df-49a2-9aed-76885a2e1a8d",
   "metadata": {},
   "source": [
    "UWAGA\n",
    "\n",
    "Do testowania można przykładowo wykorzystać liczby:\n",
    "\n",
    "15015 - podzielna przez 3, 5, 7, 11, 13, 15, 21\n",
    "\n",
    "1155 - podzielna przez 3, 5, 7, 11\n",
    "\n",
    "585 - podzielna przez 3, 5, 13, 15\n",
    "\n",
    "3465 - podzielna przez 3, 5, 7, 11, 15, 21"
   ]
  },
  {
   "cell_type": "markdown",
   "id": "57ef76ca-b00e-46d9-9b38-de209d979564",
   "metadata": {},
   "source": [
    "### Oceny\n",
    "\n",
    "|**ocena**|**punkty**|\n",
    "|:---:|:---:|\n",
    "|3,0 | 6 pkt|\n",
    "|3,5 | 7 pkt|\n",
    "|4,0 | 8 pkt|\n",
    "|4,5 | 9 pkt|\n",
    "|5,0 | 10 pkt|"
   ]
  }
 ],
 "metadata": {
  "kernelspec": {
   "display_name": "Java",
   "language": "java",
   "name": "java"
  },
  "language_info": {
   "codemirror_mode": "java",
   "file_extension": ".jshell",
   "mimetype": "text/x-java-source",
   "name": "Java",
   "pygments_lexer": "java",
   "version": "17+35-2724"
  }
 },
 "nbformat": 4,
 "nbformat_minor": 5
}
