{
 "cells": [
  {
   "cell_type": "markdown",
   "id": "27c444e3-884f-4f10-a2fa-eaf78785be63",
   "metadata": {
    "tags": []
   },
   "source": [
    "# Lista 4"
   ]
  },
  {
   "cell_type": "markdown",
   "id": "f36a6528-9751-41d0-a739-17e3bce865da",
   "metadata": {},
   "source": [
    "## Zad 1 - **1 pkt**\n",
    "\n",
    "Napisz funcję lambda przyjmującą dwa argumenty `s: String` i `i: Int` i zwracającą `String` zawierający `i` kopii `s`\n",
    "\n",
    "```verbatim\n",
    "input:\n",
    ">> (a, 3)\n",
    "\n",
    "output: \n",
    ">> aaa\n",
    "```\n"
   ]
  },
  {
   "cell_type": "markdown",
   "id": "75a015af-f64b-41da-8dfd-b7860b9f6aaa",
   "metadata": {},
   "source": [
    "## Zad 2 - **1 pkt**\n",
    "\n",
    "Napisz funkcję `suma(a: List<Int>): Int` zwracającą sumę wszystkich dodatnich liczb w liście (wykorzystaj funkcje `map`, `filter`, `reduce` ...)\n",
    "\n",
    "```verbatim\n",
    "input:\n",
    ">> suma(listOf( 1, -4, 12, 0, -3, 29, -150))\n",
    "\n",
    "output: \n",
    ">> 42\n",
    "```"
   ]
  },
  {
   "cell_type": "markdown",
   "id": "26736901-610c-4a7d-b0bc-38058e65d55d",
   "metadata": {},
   "source": [
    "## Zad 3 - **1 pkt**\n",
    "\n",
    "Napisz funkcję `countElements` przyjmującą listę `String` i zwracającą mapę zawierającą liczbę wystąpień każdego elemetu. Funkcja powinna działać z zagnieżdżonymi listami.\n",
    "\n",
    "```verbatim\n",
    "input:  \n",
    "  countElements(listOf(listOf(\"a\", \"b\", \"c\"), listOf(\"c\", \"d\", \"f\"), listOf(\"d\", \"f\", \"g\")))\n",
    "\n",
    "output:   \n",
    "  { a: 1, b: 1, c: 2, d: 2, f: 2, g: 1 }\n",
    "```"
   ]
  },
  {
   "cell_type": "markdown",
   "id": "86f1f945-0f15-4dfd-9c3a-b7f3db168bc3",
   "metadata": {},
   "source": [
    "## Zad 4 - **1 pkt**\n",
    "\n",
    "Napisz funkcję `evenPositiveSquare` przyjmującą listę liczb `int` i zwracającą listę wszystkich dodatnich liczb o indeksach nieparzystych podniesionych do kwadratu.\n",
    "\n",
    "```verbatim\n",
    "input:\n",
    "    evenPositiveSquare(listOf(1, 2, 3, 5, -6, -1, -1, 2, 3))\n",
    "\n",
    "output:\n",
    "    [4, 25, 4]\n",
    "```"
   ]
  },
  {
   "cell_type": "markdown",
   "id": "7768f2dd-c2c1-44f2-b4ed-d22c8d96f9ca",
   "metadata": {},
   "source": [
    "## Zad 5 - **2 pkt**\n",
    "\n",
    "Napisz funkcję `srt` przyjmującą listę `String`. Funkcja zwraca posortowaną względem pierwszej litery listę pogupowanych list, zawierających tylko `String` o parzystej długości.\n",
    "\n",
    "```verbatim\n",
    "input:\n",
    "    srt(listOf(\n",
    "        \"cherry\", \n",
    "        \"blueberry\", \n",
    "        \"citrus\", \n",
    "        \"apple\", \n",
    "        \"apricot\", \n",
    "        \"banana\", \n",
    "        \"coconut\")\n",
    "    )\n",
    "\n",
    "output:\n",
    "    [ [a, []], [ b, [banana] ], [ c, [cherry, citrus] ] ]\n",
    "```"
   ]
  },
  {
   "cell_type": "markdown",
   "id": "39d19a30-a8fd-46a9-a5ae-3bb109d0cc55",
   "metadata": {},
   "source": [
    "## Zad 6 - **2 pkt**\n",
    "\n",
    "Napisz funkcję `perm` przyjmującą `List<Int>` zwracającą listę list wszystkich możliwych permutacji\n",
    "\n",
    "```verbatim\n",
    "input\n",
    "    perm(listOf(1, 2, 3))\n",
    "\n",
    "output\n",
    "    [[1, 2, 3], [1, 3, 2], [2, 1, 3], [2, 3, 1], [3, 1, 2], [3, 2, 1]]\n",
    "```"
   ]
  },
  {
   "cell_type": "markdown",
   "id": "fafff29c-09dc-4f87-ab2f-22a198acd383",
   "metadata": {},
   "source": [
    "## Zad 7 - **2 pkt**\n",
    "Napisz funkcję `check` zwracającą liczbę `Int`. Funkcja przyjmuje długość preambuły w formie `N: Int` oraz listę `List: List<Int>`.\n",
    "- Preambuła zawiera unikalne liczby\n",
    "- Lista zawiera tylko liczby dodatnie\n",
    "- Każda liczba musi być sumą dwóch różnych liczb z preambuły\n",
    "- Jeżeli waruunek jest spełniony, przesuwamy preambułę o jeden i sprawdzamy ponownie\n",
    "- Jeżeli nie znajdziemy elementu niepasującego, funkcja zwraca `-1`\n",
    "\n",
    "Załóżmy że wywołujemy `check(3, listOf(1, 2, 3, 5, 7, 12, 30))`, poniżej wszystkie kroki :\n",
    "\n",
    "<img src=\"https://i.ibb.co/jVj9HYC/l3z7a.png\" width=\"300\" />\n",
    "\n",
    "<img src=\"https://i.ibb.co/R980TJg/down.png\" width=\"300\" />\n",
    "\n",
    "Funkcja zwraca pierwszą liczbę na liście, która nie spełnia tego warunku. Zakładamy że taka istnieje.\n",
    "\n",
    "```verbatim\n",
    "input:\n",
    ">> check(2, listOf(1, 2, 3, 4, 5, 6))\n",
    "\n",
    "output:\n",
    ">> 4\n",
    "\n",
    "\n",
    "input:\n",
    "check(5, listOf(35, 25, 15, 25, 47, 40, 62, 55, 65, 95, 102, 117, 150, 182, 127, 219, 299, 277, 309, 576))\n",
    "\n",
    "output:\n",
    "127\n",
    "```\n",
    "\n",
    "sugerowane funkcje mogące pomóc w rozwiązaniu problemu: `any()`, `firstOrNull()`, `firstNotNullOfOrNull()`, `windowed()`, `takeIf()`, `scan()`, `find()`"
   ]
  },
  {
   "cell_type": "markdown",
   "id": "406caf04-aa98-4ac5-93c4-2050fa87f874",
   "metadata": {},
   "source": [
    "### Oceny\n",
    "\n",
    "|**ocena**|**punkty**|\n",
    "|:---:|:---:|\n",
    "|3,0 | 6 pkt|\n",
    "|3,5 | 7 pkt|\n",
    "|4,0 | 8 pkt|\n",
    "|4,5 | 9 pkt|\n",
    "|5,0 | 10 pkt|"
   ]
  }
 ],
 "metadata": {
  "kernelspec": {
   "display_name": "Kotlin",
   "language": "kotlin",
   "name": "kotlin"
  },
  "language_info": {
   "codemirror_mode": "text/x-kotlin",
   "file_extension": ".kt",
   "mimetype": "text/x-kotlin",
   "name": "kotlin",
   "nbconvert_exporter": "",
   "pygments_lexer": "kotlin",
   "version": "1.6.20-dev-6372"
  }
 },
 "nbformat": 4,
 "nbformat_minor": 5
}
