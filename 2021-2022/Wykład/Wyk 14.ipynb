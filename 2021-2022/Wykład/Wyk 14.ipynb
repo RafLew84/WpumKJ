{
 "cells": [
  {
   "cell_type": "markdown",
   "id": "cd272d52-a145-4eba-9805-9f88a4e53177",
   "metadata": {},
   "source": [
    "# Wykład 14 - Wielowątkowość - `Coroutines`"
   ]
  },
  {
   "cell_type": "code",
   "execution_count": 4,
   "id": "08f76268-2a98-4959-a33d-1bcda533e984",
   "metadata": {},
   "outputs": [
    {
     "name": "stdout",
     "output_type": "stream",
     "text": [
      "waiting\n",
      "waiting\n",
      "3.954743986657038\n"
     ]
    }
   ],
   "source": [
    "import java.util.concurrent.Callable\n",
    "import java.util.concurrent.ExecutionException\n",
    "import java.util.concurrent.ExecutorService\n",
    "import java.util.concurrent.Executors\n",
    "import java.util.concurrent.Future\n",
    "\n",
    "val executor = Executors.newFixedThreadPool(4)\n",
    "val future: Future<Double> = executor.submit(Callable<Double> {\n",
    "    Math.sqrt(15.64)\n",
    "})\n",
    "\n",
    "try {\n",
    "    while (!future.isDone) println(\"waiting\")\n",
    "    println(future.get())\n",
    "} catch (ee: ExecutionException) {\n",
    "    System.err.println(\"task threw an exception\")\n",
    "    ee.printStackTrace()\n",
    "} catch (ie: InterruptedException) {\n",
    "    System.err.println(\"interrupted while waiting\")\n",
    "}\n",
    "executor.shutdown()"
   ]
  },
  {
   "cell_type": "code",
   "execution_count": 9,
   "id": "70658089-b83b-457f-9dc9-c23879d069a2",
   "metadata": {},
   "outputs": [
    {
     "name": "stdout",
     "output_type": "stream",
     "text": [
      "3.954743986657038\n"
     ]
    }
   ],
   "source": [
    "import java.util.concurrent.CompletableFuture\n",
    "import java.util.function.Supplier // interfejs funkcyjny\n",
    "\n",
    "val executor = Executors.newFixedThreadPool(4)\n",
    "val future = CompletableFuture\n",
    "    .supplyAsync(Supplier { Math.sqrt(15.64)}, executor)\n",
    "    .thenApply { // callback\n",
    "        println(\"$it\")}"
   ]
  },
  {
   "cell_type": "markdown",
   "id": "4e8e57a6-908d-45d1-9ff3-5e9f291288af",
   "metadata": {},
   "source": [
    "Funkcja `thenApply` zostanie wywołana po zakończeniu obliczeń. Występuje jednak kilka ograniczeń\n",
    "- jeżeli konieczna jest implementacja komunikacji między wykonywanymi zadaniami konieczna jest synchronizacja\n",
    "- jeżeli jeden `callback` potrzebuje innego wymagane jest zagnieżdżenie co prowadzi do sytuacji znanej jako **callback hell**."
   ]
  },
  {
   "cell_type": "markdown",
   "id": "1d8bddbb-73c8-4e03-be33-e3adf72042ff",
   "metadata": {},
   "source": [
    "Kotlin wprowadza rozwiązanie powyższych problemów, jednocześnie zachowując imperatywny styl programowania - **Coroutines**. Jest to koncepcja (**continuasions**) - abstrakcja opisująca aktualny stan programu (wątku) w sposób umożliwiający znowienie działania po zawieszeniu."
   ]
  },
  {
   "cell_type": "markdown",
   "id": "d3e84d44-51a6-45a5-a3e1-0093b82d7505",
   "metadata": {},
   "source": [
    "## 14.1 Funkcje zawieszenia - `suspend fun`"
   ]
  },
  {
   "cell_type": "markdown",
   "id": "e8a01a58-dee2-4ae7-8831-ad2981cae896",
   "metadata": {},
   "source": [
    "Zawieszenie jest zdolnością funkcji do zawieszenia wykonania i wznowienia w późniejszym czasie.\n",
    "\n",
    "Gdy wykonanie jest zawieszone, kompilator zapisuje stan wraz ze wszystkimi niezbędnymi informacjami (przykładowo lokalne zmienne) - powstały obiekt jest niewielki. Jeżeli funkcja jest zawieszona, inna funkcja może zostać wykonana na danym wątku.\n",
    "\n",
    "Nie występuje sytuacja zablokowania wątku\n",
    "\n",
    "```kotlin\n",
    "suspend fun delay(timeMillis: Long) { ... }\n",
    "```"
   ]
  },
  {
   "cell_type": "markdown",
   "id": "a748d491-13c3-4932-aad5-688445da2618",
   "metadata": {},
   "source": [
    "## 14.2 Budowniczy - `Coroutine.Builder`"
   ]
  },
  {
   "cell_type": "markdown",
   "id": "55127dd1-7eb5-49df-a3b7-2ef72c56979f",
   "metadata": {},
   "source": [
    "Aby wykonać funkcje zawieszoną musi ona zostać umieszczona w odpowiednim kontenerze - tym kontenerem jest `Coroutine`. Każda `Coroutine` musi zostać wykonana na wątku - ale nie musi to być jeden określony wątek. Przykłady:\n",
    "- `launch` - gdy nie interesuje nas wartość zwracana\n",
    "- `async`\n",
    "- `runBlocking` - gdy chcemy zablokować wykonanie wątku"
   ]
  },
  {
   "cell_type": "code",
   "execution_count": null,
   "id": "fbfba47c-8fe4-4e26-a074-f38decc049c3",
   "metadata": {},
   "outputs": [],
   "source": [
    "import kotlinx.coroutines.*\n",
    "\n",
    "fun main(){\n",
    "    GlobalScope.launch { \n",
    "        delay(1000L)\n",
    "        println(\"World!\")\n",
    "    }\n",
    "    println(\"Hello\")\n",
    "    Thread.sleep(2000)\n",
    "}"
   ]
  },
  {
   "cell_type": "markdown",
   "id": "fdca4226-34ea-4e42-a6db-a57d5bc8f7e6",
   "metadata": {},
   "source": [
    "`launch` tworzy `Coroutine` i rozpoczyna wykonanie wyrażenia lambda. Wpierw wykonujemy `delay` aby zawiesić wykonanie. W tym samym czasie kod poza `Coroutine` zostaje wykonany bez blokowania. Gdy nie użyjemy `Thread.sleep` funkcja `main`, a tym samym JVM, zakończy działanie.\n",
    "\n",
    "Kolejną opcją jest `runBlocking`, który tworzy `Coroutine` i blokuje aktualny wątek dopóki utworzona `Coroutine` nie zakończy działania"
   ]
  },
  {
   "cell_type": "code",
   "execution_count": null,
   "id": "4c653b4b-9827-43fb-8e9f-f7b57e31ef6e",
   "metadata": {},
   "outputs": [],
   "source": [
    "fun main() {\n",
    "    runBlocking {\n",
    "        delay(1000)\n",
    "        println(\"Hello World\")\n",
    "    }\n",
    "    println(\"Done\")\n",
    "}"
   ]
  },
  {
   "cell_type": "code",
   "execution_count": null,
   "id": "5599639f-e69a-4b15-b82e-fb5cf9fbfaf2",
   "metadata": {},
   "outputs": [],
   "source": [
    "fun main() {\n",
    "    suspend fun a() {\n",
    "        delay(100)\n",
    "        println(\"a\")\n",
    "    }\n",
    "    suspend fun b() {\n",
    "        delay(100)\n",
    "        println(\"b\")\n",
    "    }\n",
    "    runBlocking {\n",
    "        a()\n",
    "        b()\n",
    "        println(\"Done\")\n",
    "    }\n",
    "}\n"
   ]
  },
  {
   "cell_type": "code",
   "execution_count": null,
   "id": "fdd5ff2e-5e3c-4939-b476-c7464f362c7e",
   "metadata": {},
   "outputs": [],
   "source": [
    "fun main() {\n",
    "    suspend fun a(): Int = {\n",
    "        delay(100)\n",
    "        Random.nextInt()\n",
    "    }\n",
    "    suspend fun b(a: Int) {\n",
    "        println(\"Using $a\")\n",
    "    }\n",
    "    runBlocking {\n",
    "        val a = a()\n",
    "        b(a)\n",
    "    }\n",
    "}\n"
   ]
  },
  {
   "cell_type": "code",
   "execution_count": null,
   "id": "09cd7744-8b0f-4a33-9975-6ad355b4e055",
   "metadata": {},
   "outputs": [],
   "source": [
    "fun main() {\n",
    "    runBlocking {\n",
    "        println(\"Parent starting\")\n",
    "        launch {\n",
    "            println(\"Child a starting\")\n",
    "            delay(100)\n",
    "            println(\"Child a complete\")\n",
    "        }\n",
    "        launch {\n",
    "            println(\"Child b starting\")\n",
    "            delay(100)\n",
    "            println(\"Child b complete\")\n",
    "        }\n",
    "        println(\"Parent complete\")\n",
    "    }\n",
    "    println(\"Parent returned\")\n",
    "}"
   ]
  },
  {
   "cell_type": "markdown",
   "id": "ccfa9b91-9796-44b4-a226-16966bde34f2",
   "metadata": {},
   "source": [
    "## 14.3 `Job`"
   ]
  },
  {
   "cell_type": "markdown",
   "id": "5e68d830-cac7-45ae-b5fc-7c8f54c6204b",
   "metadata": {},
   "source": [
    "Gdy `Coroutine` jest utworzony przy wykorzystaniu `launch`, zwracana jest wartość typu `Job`. Jedną z głównych funkcji `Job` jest możliwość zakończenia wykonania."
   ]
  },
  {
   "cell_type": "code",
   "execution_count": null,
   "id": "c7920a36-cfea-48f7-b762-413556c8f4b6",
   "metadata": {},
   "outputs": [],
   "source": [
    "fun main() {\n",
    "    var x = 0\n",
    "    val job = GlobalScope.launch {\n",
    "        while (true) {\n",
    "            x += 1\n",
    "            delay(10)\n",
    "            println(x)\n",
    "        }\n",
    "    }\n",
    "    runBlocking {\n",
    "        delay(100)\n",
    "        job.cancel()\n",
    "    }\n",
    "}"
   ]
  },
  {
   "cell_type": "markdown",
   "id": "50b2bd96-1fe7-470c-b056-651766814398",
   "metadata": {},
   "source": [
    "Następną jest możliwość oczekiwania na zakończenie działania za pomocą metody `join`."
   ]
  },
  {
   "cell_type": "code",
   "execution_count": null,
   "id": "fce6442b-f656-4461-a05a-4d0f1e552fb5",
   "metadata": {},
   "outputs": [],
   "source": [
    "fun main() {\n",
    "    val job = GlobalScope.launch {\n",
    "        delay(1000L)\n",
    "        println(\"Hello\")\n",
    "    }\n",
    "    runBlocking {\n",
    "        job.join()\n",
    "        println(\"World\")\n",
    "    }\n",
    "}"
   ]
  },
  {
   "cell_type": "code",
   "execution_count": null,
   "id": "f2a060fa-9f71-44b1-ba59-ba583f145520",
   "metadata": {},
   "outputs": [],
   "source": [
    "fun main() = runBlocking {\n",
    "    repeat(100) { // launch a lot of coroutines\n",
    "        launch {\n",
    "            delay(5000L)\n",
    "            print(\".\")\n",
    "        }\n",
    "    }\n",
    "}"
   ]
  },
  {
   "cell_type": "markdown",
   "id": "b5bc569c-b29f-4e4a-a473-dcdd0ba027b1",
   "metadata": {},
   "source": [
    "## 14.4 `Context`"
   ]
  },
  {
   "cell_type": "markdown",
   "id": "7b5d8531-2a96-4377-9a21-c9429b93ed8d",
   "metadata": {},
   "source": [
    "Każda `Coroutine` posiada powiązany `Context` - jest to niemutowalna kolekcja kluczy i wartości - dzięki temu możemy nadać nazwę każdej `Coroutine` lub określić który wątek z powiązanego `ThreadPool` powinien wykonać zadanie."
   ]
  },
  {
   "cell_type": "markdown",
   "id": "1c093934-1486-48d2-940d-f4f9a07514cd",
   "metadata": {},
   "source": [
    "## 14.5 `Async`"
   ]
  },
  {
   "cell_type": "code",
   "execution_count": null,
   "id": "77d457f9-b215-4d16-aef6-49c44cca73fd",
   "metadata": {},
   "outputs": [],
   "source": [
    "fun main() {\n",
    "    runBlocking {\n",
    "        val deferred = async {\n",
    "            println(\"Computing value...\")\n",
    "            delay(1000)\n",
    "            10\n",
    "        }\n",
    "        val result = deferred.await()\n",
    "        println(\"The result is $result\")\n",
    "    }\n",
    "}"
   ]
  },
  {
   "cell_type": "code",
   "execution_count": null,
   "id": "cb684a2a-d98a-4ef9-935f-59fb88869cbc",
   "metadata": {},
   "outputs": [],
   "source": [
    "import kotlinx.coroutines.*\n",
    "import kotlin.system.measureTimeMillis\n",
    "\n",
    "fun main() {\n",
    "    suspend fun fetchOrder(): String {\n",
    "        delay(3000)\n",
    "        return \"Order 123\"\n",
    "    }\n",
    "    suspend fun fetchAddress(): String {\n",
    "        delay(2000)\n",
    "        return \"10 Downing Street\"\n",
    "    }\n",
    "    suspend fun fetchUsername(): String {\n",
    "        delay(1000)\n",
    "        return \"Prime Minister\"\n",
    "    }\n",
    "    println(\"Starting\")\n",
    "    val time = measureTimeMillis {\n",
    "        runBlocking {\n",
    "            val order = async {\n",
    "                fetchOrder()\n",
    "            }\n",
    "            val address = async {\n",
    "                fetchAddress()\n",
    "            }\n",
    "            val username = async {\n",
    "                fetchUsername()\n",
    "            }\n",
    "            println(\"Shipping ${order.await()} to ${username.await()}at ${address.await()}\")\n",
    "        }\n",
    "    }\n",
    "    println(\"Completed in $time ms\")\n",
    "}\n"
   ]
  },
  {
   "cell_type": "markdown",
   "id": "9fe3e1e5-a9c5-4ec9-a72e-9cceed665d39",
   "metadata": {},
   "source": [
    "## 14.6 `Dispatcher`"
   ]
  },
  {
   "cell_type": "markdown",
   "id": "056691c0-593f-4ad3-aabb-cf441aa0c9b8",
   "metadata": {},
   "source": [
    "Jeżeli chcemy mieć kontrolę nad tym który wątek z puli dana `Coroutine` jest wykonana możemy wykorzystać `Dispatcher`\n",
    "- `Dispatcher.Default` - domyślny wykorzystuje `ThreadPool`, którego wielkość jest równa liczbie rdzeni CPU\n",
    "- `Dispatcher.IO` - rekomendowany do operacji IO, wykorzystuje `ThreadPool` który oże zostać rozszerzony\n",
    "- `Dispatcher.Main` - wykorzystuje wątek główny UI."
   ]
  },
  {
   "cell_type": "code",
   "execution_count": null,
   "id": "54878618-34c7-4df5-bbff-dcaf2b5d2fa7",
   "metadata": {},
   "outputs": [],
   "source": [
    "fun main() {\n",
    "    runBlocking(Dispatchers.IO) {\n",
    "        println(Thread.currentThread().name)\n",
    "    }\n",
    "}"
   ]
  }
 ],
 "metadata": {
  "kernelspec": {
   "display_name": "Kotlin",
   "language": "kotlin",
   "name": "kotlin"
  },
  "language_info": {
   "codemirror_mode": "text/x-kotlin",
   "file_extension": ".kt",
   "mimetype": "text/x-kotlin",
   "name": "kotlin",
   "nbconvert_exporter": "",
   "pygments_lexer": "kotlin",
   "version": "1.6.20-dev-6372"
  }
 },
 "nbformat": 4,
 "nbformat_minor": 5
}
