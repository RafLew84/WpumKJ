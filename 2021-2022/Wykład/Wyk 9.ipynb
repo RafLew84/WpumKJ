{
 "cells": [
  {
   "cell_type": "markdown",
   "id": "dcaa3667-3884-4736-8fa2-d3507d31f8a1",
   "metadata": {},
   "source": [
    "# Wykład 9 - Klasy"
   ]
  },
  {
   "cell_type": "markdown",
   "id": "6fbd69e2-c240-4ba5-83e7-f3c1e3956a85",
   "metadata": {},
   "source": [
    "## 9.1 Modyfikatory"
   ]
  },
  {
   "cell_type": "markdown",
   "id": "74b23b32-bbd5-4ddc-b66b-743cd8697cbc",
   "metadata": {},
   "source": [
    "W Javie można tworzyć klasy pochodne od dowolnej klasy i nadpisywać wszystkie metody (oprócz oznaczonych jako `final`) - prowadzi to do problemu **kruchej klasy bazowej**. Modyfikacja kodu klasy bazowej powoduje nieprowidłowe działanie klas pochodnych."
   ]
  },
  {
   "cell_type": "markdown",
   "id": "eca908cd-e72a-49ad-ac51-6cce01f88938",
   "metadata": {},
   "source": [
    "W Javie przyjęte jest że wszystkie klasy i metody które nie są przeznaczone do dziedziczenia należy oznaczyć jako `final`."
   ]
  },
  {
   "cell_type": "markdown",
   "id": "d750e9bc-c432-4f9f-8bad-785c47d42ef5",
   "metadata": {},
   "source": [
    "W Kotlinie jeżeli chcemy umożlić tworzenie klas pochodnych, klasę bazową oznaczamy jako `open`. Analogicznie postępujemy z metodami i właściwościami."
   ]
  },
  {
   "cell_type": "code",
   "execution_count": 1,
   "id": "328b24a9-f111-49d7-86f1-a6fe14484fe0",
   "metadata": {},
   "outputs": [],
   "source": [
    "open class Animal(val name: String, val body: Int, val size: Int, val weight: Int) {\n",
    "\n",
    "    open fun eat() {\n",
    "        println(\"Animal.eat() called\")\n",
    "    }\n",
    "\n",
    "    open fun move(speed: Int) {\n",
    "        println(\"Animal.move() called.  Animal is moving at $speed\")\n",
    "    }\n",
    "}\n",
    "\n",
    "open class Dog(\n",
    "    name: String,\n",
    "    size: Int,\n",
    "    weight: Int,\n",
    "    private val eyes: Int,\n",
    "    private val legs: Int,\n",
    "    private val tail: Int,\n",
    "    private val teeth: Int,\n",
    "    private val coat: String\n",
    ") : Animal(name, 1, size, weight) {\n",
    "\n",
    "    override fun eat() { // element nadpisujący jest domyślnie otwarty\n",
    "        println(\"Dog.eat() called\")\n",
    "        super.eat()\n",
    "    }\n",
    "\n",
    "    fun run() {\n",
    "        println(\"Dog.run() called\")\n",
    "        move(10)\n",
    "    }\n",
    "\n",
    "    private fun moveLegs(speed: Int) {\n",
    "        println(\"Dog.moveLegs() called\")\n",
    "    }\n",
    "\n",
    "    final override fun move(speed: Int) { // jeżeli nie chcemy aby był otwarty \n",
    "                                          // określamy jako final\n",
    "        println(\"Dog.move() called\")\n",
    "        moveLegs(speed)\n",
    "        super.move(speed)\n",
    "    }\n",
    "}"
   ]
  },
  {
   "cell_type": "code",
   "execution_count": 2,
   "id": "55795646-7c5b-4b6b-992a-ca1516765335",
   "metadata": {},
   "outputs": [
    {
     "name": "stdout",
     "output_type": "stream",
     "text": [
      "Chihuahua.move() called\n",
      "Dog.move() called\n",
      "Dog.moveLegs() called\n",
      "Animal.move() called.  Animal is moving at 19\n"
     ]
    }
   ],
   "source": [
    "class Chihuahua(name: String,\n",
    "    size: Int,\n",
    "    weight: Int,\n",
    "    private val eyes: Int,\n",
    "    private val legs: Int,\n",
    "    private val tail: Int,\n",
    "    private val teeth: Int,\n",
    "    private val coat: String\n",
    ") : Dog (name, size, weight, eyes, legs, tail, teeth, coat){\n",
    "    override fun eat() {\n",
    "        println(\"Chihuahua.eat() called\")\n",
    "        super.eat()\n",
    "    }\n",
    "    \n",
    "    // override fun run(){ // niedozwolone\n",
    "    //     println(\"Chihuahua.run() called\")\n",
    "    // }\n",
    "    \n",
    "    \n",
    "    override fun move(speed: Int) { // niedozwolone\n",
    "        println(\"Chihuahua.move() called\")\n",
    "        super.move(speed)\n",
    "    }\n",
    "}\n",
    "\n",
    "val c = Chihuahua(\"mag\", 20, 10, 1, 4, 1, 12, \"coat\")\n",
    "c.move(19)"
   ]
  },
  {
   "cell_type": "code",
   "execution_count": null,
   "id": "71c9ad92-edfb-4045-8fdb-74d9b998c903",
   "metadata": {},
   "outputs": [],
   "source": [
    "public val z1 = 0 // widoczna wszędzie (domyślny)\n",
    "private val z2 = 0 // widoczna w pliku\n",
    "protected val z3 = 0 // niedozwolone\n",
    "internal val z4 = 0 // widoczna wewnątrz modułu"
   ]
  },
  {
   "cell_type": "code",
   "execution_count": null,
   "id": "7690d22f-4661-468c-996b-c23af2f7fb0b",
   "metadata": {},
   "outputs": [],
   "source": [
    "class A(){\n",
    "    public val m1 = 0 // widoczna wszędzie (domyślny)\n",
    "    private val m2 = 0 // widoczna w obrębie klasy\n",
    "    protected val m3 = 0 // widoczna z klas pochodnych\n",
    "    internal val m4 = 0 // widoczna wewnątrz modułu\n",
    "}"
   ]
  },
  {
   "cell_type": "markdown",
   "id": "83706d74-ce90-45a8-8744-7144d9aebd75",
   "metadata": {},
   "source": [
    "## 8.2 Klasy abstrakcyjne"
   ]
  },
  {
   "cell_type": "code",
   "execution_count": 30,
   "id": "fc9e686e-b779-459f-ad23-bee43701f833",
   "metadata": {},
   "outputs": [
    {
     "name": "stdout",
     "output_type": "stream",
     "text": [
      "Dog.eat() called\n",
      "Animal.move() called\n"
     ]
    }
   ],
   "source": [
    "abstract class Animal {\n",
    "    \n",
    "    abstract fun eat() // wymagana implementacja przez klasy pochodne\n",
    "    \n",
    "    open fun move(){ // możliwość nadpisania przez klasy pochodne\n",
    "        println(\"Animal.move() called\")\n",
    "    }\n",
    "}\n",
    "\n",
    "class Dog (): Animal(){ // konstruktor\n",
    "    final override fun eat(){ // wymagana implementacja\n",
    "        println(\"Dog.eat() called\")\n",
    "    }\n",
    "}\n",
    "\n",
    "val dog = Dog()\n",
    "dog.eat()\n",
    "dog.move()"
   ]
  },
  {
   "cell_type": "markdown",
   "id": "d9f89242-67bb-413b-93dd-3d5abf1d7468",
   "metadata": {},
   "source": [
    "- `final` - domyślny modyfikator elementu klasy (Kotlin)\n",
    "- `open` - **można** nadpisać\n",
    "- `abstract` - **wymagane** nadpisanie\n",
    "- `override` - nadpisuje element klasy nadrzędnej (lub interfejsu)"
   ]
  },
  {
   "cell_type": "code",
   "execution_count": 1,
   "id": "270aafed-b164-4328-8b54-9521dd89256c",
   "metadata": {},
   "outputs": [
    {
     "data": {
      "text/plain": [
       "RRRaaafffaaałłł"
      ]
     },
     "execution_count": 1,
     "metadata": {},
     "output_type": "execute_result"
    }
   ],
   "source": [
    "abstract class Multiply {\n",
    "    String s;\n",
    "    public Multiply(String s){\n",
    "        this.s = s;\n",
    "    }\n",
    "    abstract String multiply(int s);\n",
    "}\n",
    " \n",
    "class MyString extends Multiply {\n",
    "    MyString(){\n",
    "        super(\"Rafał\");\n",
    "    }\n",
    "    @Override\n",
    "    public String multiply(int m)\n",
    "    {\n",
    "        String myString = \"\";\n",
    "        for(char c: this.s.toCharArray())\n",
    "            for(int i = 0; i < m; i++)\n",
    "                myString += c;\n",
    "        return myString;\n",
    "    }\n",
    "}\n",
    "\n",
    "MyString myString = new MyString();\n",
    "myString.multiply(3);"
   ]
  },
  {
   "cell_type": "code",
   "execution_count": 8,
   "id": "23df7fe5-5cf4-49fb-bee2-318065f37e19",
   "metadata": {},
   "outputs": [
    {
     "data": {
      "text/plain": [
       "RRRRaaaaffffaaaałłłł"
      ]
     },
     "execution_count": 8,
     "metadata": {},
     "output_type": "execute_result"
    }
   ],
   "source": [
    "abstract class Multiply(val s: String) {\n",
    "    abstract fun multiply(s: Int): String\n",
    "}\n",
    " \n",
    "class MyString : Multiply (\"Rafał\") {\n",
    "    override fun multiply(m: Int): String {\n",
    "        var myString = \"\"\n",
    "        for(c: Char in s)\n",
    "            for(i in 0..m)\n",
    "                myString += c;\n",
    "        return myString\n",
    "    }\n",
    "}\n",
    "\n",
    "var myString = MyString()\n",
    "myString.multiply(3)"
   ]
  },
  {
   "cell_type": "code",
   "execution_count": 13,
   "id": "4d05deda-2e73-421e-b6c2-37d7c2cf15cb",
   "metadata": {},
   "outputs": [
    {
     "data": {
      "text/plain": [
       "RRRRaaaaffffaaaałłłł"
      ]
     },
     "execution_count": 13,
     "metadata": {},
     "output_type": "execute_result"
    }
   ],
   "source": [
    "abstract class Multiply2(val s: String) {\n",
    "    abstract fun multiply(s: Int): String\n",
    "}\n",
    " \n",
    "class MyString2 (val a: String) : Multiply2 (a) {\n",
    "    override fun multiply(m: Int): String {\n",
    "        var myString = \"\"\n",
    "        for(c: Char in s)\n",
    "            for(i in 0..m)\n",
    "                myString += c;\n",
    "        return myString\n",
    "    }\n",
    "}\n",
    "\n",
    "var myString2 = MyString2(\"Rafał\")\n",
    "myString2.multiply(3)"
   ]
  },
  {
   "cell_type": "markdown",
   "id": "b279d750-0de8-44bf-aad1-7ba77dd9e7bd",
   "metadata": {},
   "source": [
    "## 8.3 Klasy zagnieżdżone i wewnętrzne"
   ]
  },
  {
   "cell_type": "markdown",
   "id": "ec6c5dae-2eae-424d-aafe-0ef8c7053f47",
   "metadata": {},
   "source": [
    "Java:"
   ]
  },
  {
   "cell_type": "code",
   "execution_count": 1,
   "id": "9ebd2ff8-f004-4b94-993b-eeae6e549b64",
   "metadata": {},
   "outputs": [],
   "source": [
    "public class Zewnetrzna{\n",
    "    static class Zagniezdzona{}\n",
    "}"
   ]
  },
  {
   "cell_type": "code",
   "execution_count": 2,
   "id": "1c800d8b-4ee4-450b-b6e2-7f310c0ad052",
   "metadata": {},
   "outputs": [],
   "source": [
    "public class Zewnetrzna{\n",
    "    class Wewnetrzna{}\n",
    "}"
   ]
  },
  {
   "cell_type": "markdown",
   "id": "4f5b4325-9cf4-4a8f-85a7-d8c3a5ef8b56",
   "metadata": {},
   "source": [
    "Kotlin:"
   ]
  },
  {
   "cell_type": "code",
   "execution_count": 1,
   "id": "7f1f166e-d4d3-4ba8-b9ac-d4f7ddc7c43d",
   "metadata": {},
   "outputs": [],
   "source": [
    "class Zewnetrzna{\n",
    "    class Zagniezdzona{}\n",
    "}"
   ]
  },
  {
   "cell_type": "code",
   "execution_count": 2,
   "id": "4d2bc358-45c9-4254-a950-c8391e3149d0",
   "metadata": {},
   "outputs": [],
   "source": [
    "class Zewnetrzna{\n",
    "    inner class Wewnetrzna{}\n",
    "}"
   ]
  },
  {
   "cell_type": "markdown",
   "id": "86ffce94-7490-4021-b208-284cbbc5358a",
   "metadata": {},
   "source": [
    "- klasa **wewnętrzna** zawiera odwołanie do klasy zewnętrznej\n",
    "- klasa **zagnieżdżona** nie zawiera odwołania do klasy zewnętrznej"
   ]
  },
  {
   "cell_type": "code",
   "execution_count": 13,
   "id": "98a3bf64-2520-41e4-b50f-75e4a1036a65",
   "metadata": {},
   "outputs": [
    {
     "name": "stdout",
     "output_type": "stream",
     "text": [
      "Line_12$Zewnetrzna@4bfda6d\n",
      "Line_12$Zewnetrzna$Wewnetrzna@33c599e1\n"
     ]
    }
   ],
   "source": [
    "class Zewnetrzna{\n",
    "    inner class Wewnetrzna{\n",
    "        fun reference(){\n",
    "            println(this@Zewnetrzna)\n",
    "        }\n",
    "    }\n",
    "}\n",
    "\n",
    "val w = Zewnetrzna().Wewnetrzna()\n",
    "w.reference()\n",
    "println(w)"
   ]
  },
  {
   "cell_type": "code",
   "execution_count": 88,
   "id": "b935e368-6c45-4367-aebd-4a699108eb3d",
   "metadata": {},
   "outputs": [
    {
     "name": "stdout",
     "output_type": "stream",
     "text": [
      "Hello"
     ]
    }
   ],
   "source": [
    "class Zewnetrzna2{\n",
    "    private fun p(){\n",
    "        print(\"Hello\")\n",
    "    }\n",
    "    inner class Wewnetrzna2{\n",
    "        fun reference(){\n",
    "            p()\n",
    "        }\n",
    "    }\n",
    "}\n",
    "\n",
    "val w2 = Zewnetrzna2().Wewnetrzna2()\n",
    "w2.reference()"
   ]
  },
  {
   "cell_type": "code",
   "execution_count": 91,
   "id": "64b82562-7676-4c03-a7fc-01aa5fbabffa",
   "metadata": {},
   "outputs": [
    {
     "name": "stdout",
     "output_type": "stream",
     "text": [
      "Hello"
     ]
    }
   ],
   "source": [
    "class Zewnetrzna3{\n",
    "    private fun p(){\n",
    "        print(\"Hello\")\n",
    "    }\n",
    "    inner class Zagniezdzona2{\n",
    "        fun reference(){\n",
    "            p()\n",
    "        }\n",
    "    }\n",
    "}\n",
    "\n",
    "val z2 = Zewnetrzna3().Zagniezdzona2()\n",
    "z2.reference()"
   ]
  },
  {
   "cell_type": "code",
   "execution_count": 92,
   "id": "9ab233f8-a54a-41eb-9b07-7f385404c9f5",
   "metadata": {},
   "outputs": [
    {
     "name": "stderr",
     "output_type": "stream",
     "text": [
      "Line_91.jupyter-kts (5:24 - 27) Unresolved reference: zew"
     ]
    }
   ],
   "source": [
    "class Outer {\n",
    "    val zew = \"Zewnetrzna\"\n",
    "\n",
    "    class Nested {\n",
    "        fun callMe() = zew\n",
    "    }\n",
    "}"
   ]
  },
  {
   "cell_type": "code",
   "execution_count": 95,
   "id": "c4c48ef6-03a3-4458-8bd3-bfd81bc61739",
   "metadata": {},
   "outputs": [],
   "source": [
    "class Outer {\n",
    "    val zew = \"Zewnetrzna\"\n",
    "\n",
    "    inner class Inner {\n",
    "        fun callMe() = zew\n",
    "    }\n",
    "}"
   ]
  },
  {
   "cell_type": "markdown",
   "id": "ab1490ce-e4a3-410c-8e60-10e082e00c6a",
   "metadata": {},
   "source": [
    "## 8.4 Klasy zapieczętowane"
   ]
  },
  {
   "cell_type": "code",
   "execution_count": 49,
   "id": "33bb48be-9461-4c95-a3e4-2857354085d6",
   "metadata": {},
   "outputs": [
    {
     "data": {
      "text/plain": [
       "9"
      ]
     },
     "execution_count": 72,
     "metadata": {},
     "output_type": "execute_result"
    }
   ],
   "source": [
    "interface Expr\n",
    "class Num(val v: Int) : Expr\n",
    "class Sum(val left: Expr, val right: Expr) : Expr\n",
    "fun eval(e: Expr): Int = when (e) {\n",
    "        is Num -> e.v\n",
    "        is Sum -> eval(e.right) + eval(e.left)\n",
    "        else ->\n",
    "        throw IllegalArgumentException(\" Nieznane wyrażenie\") // wymagana opcja domyślna\n",
    "}\n",
    "    \n",
    "eval(Num(9))"
   ]
  },
  {
   "cell_type": "code",
   "execution_count": 30,
   "id": "a2dc8790-a684-44c7-b645-7bb7e5de8675",
   "metadata": {},
   "outputs": [
    {
     "data": {
      "text/plain": [
       "5"
      ]
     },
     "execution_count": 30,
     "metadata": {},
     "output_type": "execute_result"
    }
   ],
   "source": [
    "eval(Sum(Num(2), Num(3)))"
   ]
  },
  {
   "cell_type": "markdown",
   "id": "5c80cd6d-fc0b-469f-a7a9-9dcf5081fe1f",
   "metadata": {},
   "source": [
    "Tworzymy lokalną hierarchię klas"
   ]
  },
  {
   "cell_type": "code",
   "execution_count": 69,
   "id": "e99bac7a-cce3-4cca-88fd-af91bca992b2",
   "metadata": {},
   "outputs": [],
   "source": [
    "sealed class Expr2 {\n",
    "    class Num2(val v: Int) : Expr2()\n",
    "    class Sum2(val left: Expr2, val right: Expr2) : Expr2()\n",
    "}\n",
    "fun sealedEval(e: Expr2): Int = when (e) {\n",
    "    is Expr2.Num2 -> e.v\n",
    "    is Expr2.Sum2 -> sealedEval(e.right) + sealedEval(e.left)\n",
    "}\n"
   ]
  },
  {
   "cell_type": "code",
   "execution_count": 66,
   "id": "50e85a65-6e5b-4f13-b85f-c09841c12922",
   "metadata": {},
   "outputs": [
    {
     "data": {
      "text/plain": [
       "9"
      ]
     },
     "execution_count": 66,
     "metadata": {},
     "output_type": "execute_result"
    }
   ],
   "source": [
    "sealedEval(Expr2.Num2(9))"
   ]
  },
  {
   "cell_type": "code",
   "execution_count": 68,
   "id": "18957906-b40a-4975-af7f-c3e0a2ea7151",
   "metadata": {},
   "outputs": [
    {
     "data": {
      "text/plain": [
       "5"
      ]
     },
     "execution_count": 68,
     "metadata": {},
     "output_type": "execute_result"
    }
   ],
   "source": [
    "sealedEval(Expr2.Sum2(Expr2.Num2(2), Expr2.Num2(3)))"
   ]
  },
  {
   "cell_type": "markdown",
   "id": "69aa0448-73a8-42d9-af68-854e47d30dad",
   "metadata": {},
   "source": [
    "## 8.5 enum class vs sealed class"
   ]
  },
  {
   "cell_type": "markdown",
   "id": "e6b01425-35f1-461b-b853-a4a7fbd9759f",
   "metadata": {},
   "source": [
    "- `enum class` - `enum` może posiadać tylko jedną instancję\n",
    "- `sealed class` - klasy pochodne mogą posiadać wiele instancji\n",
    "- `enum class` - częściej używane dla prostych wartości\n",
    "- `enum class` - nie posiadają naturalnego porządku - utrudniona iteracja\n",
    "- `sealed class` - gdy potrzebujemy przechować większą ilość danych\n",
    "- `enum class` - lepszy do reprezentowania stałego zbioru możliwych wartości\n",
    "- `sealed class` - reprezentuje stały zbiór klas"
   ]
  },
  {
   "cell_type": "code",
   "execution_count": null,
   "id": "7644a8db-085c-4547-8635-3a090cc879c3",
   "metadata": {},
   "outputs": [],
   "source": []
  }
 ],
 "metadata": {
  "kernelspec": {
   "display_name": "Kotlin",
   "language": "kotlin",
   "name": "kotlin"
  },
  "language_info": {
   "codemirror_mode": "text/x-kotlin",
   "file_extension": ".kt",
   "mimetype": "text/x-kotlin",
   "name": "kotlin",
   "nbconvert_exporter": "",
   "pygments_lexer": "kotlin",
   "version": "1.6.20-dev-6372"
  }
 },
 "nbformat": 4,
 "nbformat_minor": 5
}
