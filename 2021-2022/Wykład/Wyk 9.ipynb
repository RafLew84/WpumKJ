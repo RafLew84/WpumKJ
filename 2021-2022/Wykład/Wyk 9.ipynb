{
 "cells": [
  {
   "cell_type": "markdown",
   "id": "dcaa3667-3884-4736-8fa2-d3507d31f8a1",
   "metadata": {},
   "source": [
    "# Wykład 9 - Klasy"
   ]
  },
  {
   "cell_type": "markdown",
   "id": "6fbd69e2-c240-4ba5-83e7-f3c1e3956a85",
   "metadata": {},
   "source": [
    "## 9.1 Modyfikatory"
   ]
  },
  {
   "cell_type": "markdown",
   "id": "74b23b32-bbd5-4ddc-b66b-743cd8697cbc",
   "metadata": {},
   "source": [
    "W Javie można tworzyć klasy pochodne od dowolnej klasy i nadpisywać wszystkie metody (oprócz oznaczonych jako `final`) - prowadzi to do problemu **kruchej klasy bazowej**. Modyfikacja kodu klasy bazowej powoduje nieprowidłowe działanie klas pochodnych."
   ]
  },
  {
   "cell_type": "markdown",
   "id": "eca908cd-e72a-49ad-ac51-6cce01f88938",
   "metadata": {},
   "source": [
    "W Javie przyjęte jest że wszystkie klasy i metody które nie są przeznaczone do dziedziczenia należy oznaczyć jako `final`."
   ]
  },
  {
   "cell_type": "markdown",
   "id": "d750e9bc-c432-4f9f-8bad-785c47d42ef5",
   "metadata": {},
   "source": [
    "W Kotlinie jeżeli chcemy umożlić tworzenie klas pochodnych, klasę bazową oznaczamy jako `open`. Analogicznie postępujemy z metodami i właściwościami."
   ]
  },
  {
   "cell_type": "code",
   "execution_count": 4,
   "id": "328b24a9-f111-49d7-86f1-a6fe14484fe0",
   "metadata": {},
   "outputs": [],
   "source": [
    "open class Animal(val name: String, val body: Int, val size: Int, val weight: Int) {\n",
    "\n",
    "    open fun eat() {\n",
    "        println(\"Animal.eat() called\")\n",
    "    }\n",
    "\n",
    "    open fun move(speed: Int) {\n",
    "        println(\"Animal.move() called.  Animal is moving at $speed\")\n",
    "    }\n",
    "}\n",
    "\n",
    "open class Dog(\n",
    "    name: String,\n",
    "    size: Int,\n",
    "    weight: Int,\n",
    "    private val eyes: Int,\n",
    "    private val legs: Int,\n",
    "    private val tail: Int,\n",
    "    private val teeth: Int,\n",
    "    private val coat: String\n",
    ") : Animal(name, 1, size, weight) {\n",
    "\n",
    "    override fun eat() { // element nadpisujący jest domyślnie otwarty\n",
    "        println(\"Dog.eat() called\")\n",
    "        super.eat()\n",
    "    }\n",
    "\n",
    "    fun run() {\n",
    "        println(\"Dog.run() called\")\n",
    "        move(10)\n",
    "    }\n",
    "\n",
    "    private fun moveLegs(speed: Int) {\n",
    "        println(\"Dog.moveLegs() called\")\n",
    "    }\n",
    "\n",
    "    override fun move(speed: Int) { // element nadpisujący jest domyślnie otwarty\n",
    "        println(\"Dog.move() called\")\n",
    "        moveLegs(speed)\n",
    "        super.move(speed)\n",
    "    }\n",
    "}"
   ]
  },
  {
   "cell_type": "code",
   "execution_count": 7,
   "id": "55795646-7c5b-4b6b-992a-ca1516765335",
   "metadata": {},
   "outputs": [],
   "source": [
    "class Chihuahua(name: String,\n",
    "    size: Int,\n",
    "    weight: Int,\n",
    "    private val eyes: Int,\n",
    "    private val legs: Int,\n",
    "    private val tail: Int,\n",
    "    private val teeth: Int,\n",
    "    private val coat: String\n",
    ") : Dog (name, size, weight, eyes, legs, tail, teeth, coat){\n",
    "    override fun eat() {\n",
    "        println(\"Chihuahua.eat() called\")\n",
    "        super.eat()\n",
    "    }\n",
    "    \n",
    "    // override fun run(){ // niedozwolone\n",
    "    //     println(\"Chihuahua.run() called\")\n",
    "    // }\n",
    "}"
   ]
  },
  {
   "cell_type": "code",
   "execution_count": null,
   "id": "cce717de-d156-459c-9257-39daed09a8fd",
   "metadata": {},
   "outputs": [],
   "source": []
  }
 ],
 "metadata": {
  "kernelspec": {
   "display_name": "Kotlin",
   "language": "kotlin",
   "name": "kotlin"
  },
  "language_info": {
   "codemirror_mode": "text/x-kotlin",
   "file_extension": ".kt",
   "mimetype": "text/x-kotlin",
   "name": "kotlin",
   "nbconvert_exporter": "",
   "pygments_lexer": "kotlin",
   "version": "1.6.20-dev-6372"
  }
 },
 "nbformat": 4,
 "nbformat_minor": 5
}
