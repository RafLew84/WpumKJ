{
 "cells": [
  {
   "cell_type": "markdown",
   "id": "19e37a55-6395-453d-8201-d09733e5b2ee",
   "metadata": {},
   "source": [
    "# Wykład 7 - Elementy Programowania Funkcyjnego"
   ]
  },
  {
   "cell_type": "markdown",
   "id": "29e3219f-ea69-4569-813d-59519c6bb789",
   "metadata": {},
   "source": [
    "## 7.1 val vs fun"
   ]
  },
  {
   "cell_type": "code",
   "execution_count": 20,
   "id": "1ef42936-49cc-4580-9d45-b00c32089c6f",
   "metadata": {},
   "outputs": [],
   "source": [
    "val <T> List<T>.head: List<T>\n",
    "    get() = take(2)"
   ]
  },
  {
   "cell_type": "code",
   "execution_count": 21,
   "id": "5b738094-2f86-476e-84ec-10ca75efc401",
   "metadata": {},
   "outputs": [],
   "source": [
    "fun <T> List<T>.head2(): List<T> = take(2)"
   ]
  },
  {
   "cell_type": "code",
   "execution_count": 27,
   "id": "7bf7148c-0a49-4104-9c35-38a3cce667c4",
   "metadata": {},
   "outputs": [
    {
     "data": {
      "text/plain": [
       "[1, 2]"
      ]
     },
     "execution_count": 27,
     "metadata": {},
     "output_type": "execute_result"
    }
   ],
   "source": [
    "listOf(1, 2, 3, 4).head"
   ]
  },
  {
   "cell_type": "code",
   "execution_count": 23,
   "id": "c62c5406-c647-4a42-8e19-6e3d3b24df65",
   "metadata": {},
   "outputs": [
    {
     "data": {
      "text/plain": [
       "[1, 2]"
      ]
     },
     "execution_count": 23,
     "metadata": {},
     "output_type": "execute_result"
    }
   ],
   "source": [
    "listOf(1, 2, 3, 4).head2()"
   ]
  },
  {
   "cell_type": "markdown",
   "id": "7dbc2cb8-6031-4551-bdf0-0803192009a5",
   "metadata": {},
   "source": [
    "- **`val`** - opisuje stan\n",
    "- **`fun`** - opisuje zachowanie"
   ]
  },
  {
   "cell_type": "code",
   "execution_count": 10,
   "id": "53ead36c-ced3-4744-a453-a6ae11db6fe5",
   "metadata": {},
   "outputs": [],
   "source": [
    "class Student (var firstName:String, var lastName:String, var avg:Double){\n",
    "    fun fullName() = \"$firstName $lastName\"\n",
    "}"
   ]
  },
  {
   "cell_type": "code",
   "execution_count": 28,
   "id": "5eb8f536-bb7e-4bce-9aa1-d1a4b488b2eb",
   "metadata": {},
   "outputs": [
    {
     "name": "stdout",
     "output_type": "stream",
     "text": [
      "Rafał Lewandków\n"
     ]
    }
   ],
   "source": [
    "class Student2 (var firstName:String, var lastName:String, var avg:Double){\n",
    "    val fullName = \"$firstName $lastName\"\n",
    "}\n",
    "\n",
    "val s = Student2(\"Rafał\", \"Lewandków\", 3.3)\n",
    "println(s.fullName)"
   ]
  },
  {
   "cell_type": "code",
   "execution_count": 29,
   "id": "588cac07-a205-4a77-b012-71a4dd1ea135",
   "metadata": {},
   "outputs": [
    {
     "name": "stdout",
     "output_type": "stream",
     "text": [
      "Rafał Lewandków\n"
     ]
    }
   ],
   "source": [
    "s.firstName = \"Paweł\"\n",
    "println(s.fullName)"
   ]
  },
  {
   "cell_type": "code",
   "execution_count": 31,
   "id": "1f98ef1b-0359-48d6-8a45-fe3f0f22ced5",
   "metadata": {},
   "outputs": [
    {
     "data": {
      "text/plain": [
       "Paweł"
      ]
     },
     "execution_count": 31,
     "metadata": {},
     "output_type": "execute_result"
    }
   ],
   "source": [
    "s.firstName"
   ]
  },
  {
   "cell_type": "markdown",
   "id": "b968dafe-ea3d-4cd6-9a97-2ecac25db309",
   "metadata": {},
   "source": [
    "W klasie `Student2` właściwość jest obliczone dokładnie jeden raz - przy tworzeniu obiektu."
   ]
  },
  {
   "cell_type": "code",
   "execution_count": 12,
   "id": "44434f96-3a85-4821-99cf-787ffc832375",
   "metadata": {},
   "outputs": [],
   "source": [
    "class Student3 (var firstName:String, var lastName:String, var avg:Double){\n",
    "    val fullName\n",
    "        get() = \"$firstName $lastName\"\n",
    "}"
   ]
  },
  {
   "cell_type": "code",
   "execution_count": 33,
   "id": "1a93c2f0-310d-4b7b-8494-1f29db968e9e",
   "metadata": {},
   "outputs": [
    {
     "name": "stdout",
     "output_type": "stream",
     "text": [
      "Rafał Lewandków\n"
     ]
    }
   ],
   "source": [
    "val student = Student3(\"Rafał\", \"Lewandków\", 3.3)\n",
    "println(s.fullName)"
   ]
  },
  {
   "cell_type": "code",
   "execution_count": 34,
   "id": "6d2a47b2-6e03-4457-a158-83ef0d21d629",
   "metadata": {},
   "outputs": [
    {
     "name": "stdout",
     "output_type": "stream",
     "text": [
      "Paweł Lewandków\n"
     ]
    }
   ],
   "source": [
    "student.firstName = \"Paweł\"\n",
    "println(student.fullName)"
   ]
  },
  {
   "cell_type": "code",
   "execution_count": 35,
   "id": "cf8d9ad9-adff-4bb7-9d95-2aa94caa5954",
   "metadata": {},
   "outputs": [],
   "source": [
    "class Student4 (var firstName:String, var lastName:String, var avg:Double){\n",
    "    val fullName\n",
    "        get() = \"$firstName $lastName\"\n",
    "    \n",
    "    fun exam(): Double {\n",
    "        val grade = 3.5\n",
    "        avg = grade\n",
    "        return grade\n",
    "    }\n",
    "}"
   ]
  },
  {
   "cell_type": "markdown",
   "id": "dfd2f37f-134a-4471-8cfd-6387f360d1e5",
   "metadata": {},
   "source": [
    "Wskazówki - Kiedy używać `val`:\n",
    "- gdy nie rzucamy wyjątku\n",
    "- tani obliczeniowo\n",
    "- jeżeli stan obiektu się nie zmienił, zawsze zwraca tą samą wartość"
   ]
  },
  {
   "cell_type": "code",
   "execution_count": 36,
   "id": "839aa749-74e4-4d2d-a88f-cbb1ef9038a6",
   "metadata": {},
   "outputs": [],
   "source": [
    "class Student5 (var firstName:String, var lastName:String, var avg:Double){\n",
    "    val fullName\n",
    "        get() = \"$firstName $lastName\"\n",
    "    \n",
    "    fun exam(): Double {\n",
    "        val grade = 3.5\n",
    "        avg = grade\n",
    "        return grade\n",
    "    }\n",
    "}"
   ]
  },
  {
   "cell_type": "markdown",
   "id": "7a8ad681-dd61-4117-b880-899d10b8ab95",
   "metadata": {},
   "source": [
    "## 7.2 Pętle vs Rekurencja"
   ]
  },
  {
   "cell_type": "markdown",
   "id": "e3f52da8-4db4-47c8-9d59-444a87979e1c",
   "metadata": {},
   "source": [
    "Wykorzystanie funkcji aby pozbyć się mutowalności iteracyjnej"
   ]
  },
  {
   "cell_type": "markdown",
   "id": "e8ba4bb1-13b2-4019-bda9-18fcc5f16762",
   "metadata": {},
   "source": [
    "Pętle wykorzystują efekty uboczne"
   ]
  },
  {
   "cell_type": "code",
   "execution_count": 40,
   "id": "751a6cea-52b7-4f27-8170-d3fe2f39ea8e",
   "metadata": {},
   "outputs": [
    {
     "name": "stdout",
     "output_type": "stream",
     "text": [
      "10\n"
     ]
    }
   ],
   "source": [
    "val a = listOf(1, 2, 3, 4)\n",
    "\n",
    "fun suma(l: List<Int>): Int{ // czysta funkcja\n",
    "    var sum = 0\n",
    "    for (i in l){\n",
    "        sum += i // efekt uboczny - modyfikacja stanu\n",
    "    }\n",
    "    return sum\n",
    "}\n",
    "println(suma(a))"
   ]
  },
  {
   "cell_type": "markdown",
   "id": "bbc87ed9-3031-45f1-a824-f01b52c675d3",
   "metadata": {},
   "source": [
    "## 7.3 Inline fun"
   ]
  },
  {
   "cell_type": "code",
   "execution_count": 1,
   "id": "faab71ce-fa68-4c9b-8833-c791286ef210",
   "metadata": {},
   "outputs": [],
   "source": [
    "class A {\n",
    "    fun function1(i:Int, f:(Int) -> String): String {\n",
    "        return f(i)\n",
    "    }\n",
    "    \n",
    "    fun function2() {\n",
    "        val a = 7\n",
    "        val s = function1(8) {\n",
    "            i -> \"8 + a = \" + (i+a) \n",
    "        }\n",
    "    }\n",
    "}"
   ]
  },
  {
   "cell_type": "markdown",
   "id": "323c5191-3dd9-46c6-8837-c938d4b67b82",
   "metadata": {},
   "source": [
    "W wywołaniu `function1` przekazujemy funkcje w postaci lambdy, jest to obiekt który musi zostać utworzony w czasie wykonania. Dodatkowo właściwość `a` musi zostać przekazana do tego obiektu."
   ]
  },
  {
   "cell_type": "code",
   "execution_count": 2,
   "id": "f8fa5a99-92ab-494d-ab51-352e291977f4",
   "metadata": {},
   "outputs": [],
   "source": [
    "class A {\n",
    "    inline fun function1(i:Int, f:(Int) -> String): String\n",
    "    {\n",
    "        return f(i)\n",
    "    }\n",
    "    fun function2() {\n",
    "        val a = 7\n",
    "        val s = function1(8) {\n",
    "            i -> \"8 + a = \" + (i+a) }\n",
    "    }\n",
    "}"
   ]
  },
  {
   "cell_type": "markdown",
   "id": "f1bddc44-128d-46e6-8d6a-ac37d93fa951",
   "metadata": {},
   "source": [
    "Gdy funkcja `inline` zostaje wykorzystana, cały kod funkcji zostaje skopiowany w miejsce wywołania"
   ]
  },
  {
   "cell_type": "markdown",
   "id": "7c0508ea-6878-421d-9554-18396b023c2d",
   "metadata": {},
   "source": [
    "Prawie wszystkie funkcje wyższego rzędu w `stdlib` są `inline`"
   ]
  },
  {
   "cell_type": "code",
   "execution_count": 3,
   "id": "4d1bb772-559a-4bf3-b59d-47257d80889a",
   "metadata": {},
   "outputs": [],
   "source": [
    "inline fun repeat(times: Int, action: (Int) -> Unit) {\n",
    "    for (index in 0 until times) {\n",
    "        action(index)\n",
    "    }\n",
    "}"
   ]
  },
  {
   "cell_type": "code",
   "execution_count": 4,
   "id": "e8f552d4-3b93-474c-bf43-69af7c40bf0f",
   "metadata": {},
   "outputs": [
    {
     "name": "stdout",
     "output_type": "stream",
     "text": [
      "0123456789"
     ]
    }
   ],
   "source": [
    "repeat(10) {\n",
    "    print(it)\n",
    "}"
   ]
  },
  {
   "cell_type": "markdown",
   "id": "ff91d56e-1879-4a8b-a7eb-ca7f0ac30f37",
   "metadata": {},
   "source": [
    "Powyższe wywołanie zostanie zastąpione przez"
   ]
  },
  {
   "cell_type": "code",
   "execution_count": 5,
   "id": "32ffae4a-3225-47fb-8677-38365e830287",
   "metadata": {},
   "outputs": [
    {
     "name": "stdout",
     "output_type": "stream",
     "text": [
      "0123456789"
     ]
    }
   ],
   "source": [
    "for (index in 0 until 10) {\n",
    "    print(index)\n",
    "}"
   ]
  },
  {
   "cell_type": "markdown",
   "id": "03e2a819-964d-4700-8c19-e3bdfe072d57",
   "metadata": {},
   "source": [
    "Wykonanie funkcji przyjmujące funkcję jako parametr są szybsze gdy są `inline`."
   ]
  },
  {
   "cell_type": "markdown",
   "id": "d368210e-eda8-42c6-be7d-396ab0fa3019",
   "metadata": {},
   "source": [
    "## 7.4 Funkcja przyjmująca jako parametr funkcję - Java"
   ]
  },
  {
   "cell_type": "code",
   "execution_count": 3,
   "id": "f6299247-5b53-4472-9d1c-ba1b39148595",
   "metadata": {},
   "outputs": [
    {
     "name": "stdout",
     "output_type": "stream",
     "text": [
      "Called with 100\n",
      "Called with 100\n"
     ]
    }
   ],
   "source": [
    "interface Callable {\n",
    "    public void call(int param);\n",
    "}\n",
    "    \n",
    "class Test implements Callable {\n",
    "    public void call(int param) {\n",
    "        System.out.println(\"Called with \" + param );\n",
    "    }\n",
    "}\n",
    "    \n",
    "public class HelloWorld{\n",
    "    public static void invoke(Callable callable, int param){\n",
    "        callable.call(param);\n",
    "    }\n",
    "    \n",
    "     public static void main(){\n",
    "        Callable cmd = new Test();\n",
    "        invoke(cmd, 100);\n",
    "         \n",
    "         // klasa anonimowa\n",
    "        // invoke(new Callable(){\n",
    "        //     public void call(int param){\n",
    "        //         System.out.println(\"Called with \" + param );\n",
    "        //     }\n",
    "        // }, 100);\n",
    "         \n",
    "        // invoke((param -> System.out.println(\"Called with \" + param )), 100);\n",
    "\n",
    "    }\n",
    "}\n",
    "HelloWorld.main()"
   ]
  },
  {
   "cell_type": "code",
   "execution_count": 6,
   "id": "7cf5fc53-6539-4d1b-8f56-355cecef9582",
   "metadata": {},
   "outputs": [
    {
     "name": "stdout",
     "output_type": "stream",
     "text": [
      "6\n"
     ]
    }
   ],
   "source": [
    "import java.util.function.Function;\n",
    "\n",
    "public class HigherOrderFunc {\n",
    "\n",
    "    public static void main() {\n",
    "\n",
    "        //Function <Integer, Integer> inc = e -> e + 1;\n",
    "        doSum(5, e -> e + 1);\n",
    "\n",
    "    }\n",
    "\n",
    "    public static void doSum(int value, Function <Integer, Integer> func) {\n",
    "        System.out.println(func.apply(value));\n",
    "    }\n",
    "}\n",
    "\n",
    "HigherOrderFunc.main()"
   ]
  },
  {
   "cell_type": "markdown",
   "id": "44b37a7f-5f21-4c39-872b-c70b0173bfb9",
   "metadata": {},
   "source": [
    "## 7.5 Operator * i varargs"
   ]
  },
  {
   "cell_type": "code",
   "execution_count": 2,
   "id": "031d07ee-a948-4b8a-a900-dcac5d2c2cdd",
   "metadata": {},
   "outputs": [],
   "source": [
    "fun format(format: String, vararg params: String){}"
   ]
  },
  {
   "cell_type": "markdown",
   "id": "f45c3544-dcc8-42a4-ae1b-de7fa67fcbdc",
   "metadata": {},
   "source": [
    "Jeżeli `varargs` jest podany jako ostatni parametr, jego odpowiednikiem w Javie jest"
   ]
  },
  {
   "cell_type": "code",
   "execution_count": null,
   "id": "b4c3694c-d6bf-4471-8c63-7a3fcd11fbf1",
   "metadata": {},
   "outputs": [],
   "source": [
    "void format(@NotNull String format, @NotNull String... params)"
   ]
  },
  {
   "cell_type": "code",
   "execution_count": 5,
   "id": "6865416f-d730-4d72-83fb-df221a36bc23",
   "metadata": {},
   "outputs": [],
   "source": [
    "fun format2(format: String, vararg params: String, encoding: String){}"
   ]
  },
  {
   "cell_type": "markdown",
   "id": "6cbdec9a-1f93-4d62-917b-4fa6fe17c920",
   "metadata": {},
   "source": [
    "Jeżeli `varargs` nie jest ostatnim paramtrem, odpowiednikiem w Javie jest"
   ]
  },
  {
   "cell_type": "code",
   "execution_count": null,
   "id": "c9a9c39b-8dda-42f4-97f6-90c802c46917",
   "metadata": {},
   "outputs": [],
   "source": [
    "void format2(String format, String[] params, String encoding)"
   ]
  },
  {
   "cell_type": "code",
   "execution_count": 7,
   "id": "216422a3-7469-4cf4-8490-53a4084a5c35",
   "metadata": {},
   "outputs": [],
   "source": [
    "fun <T> printAll(vararg ts: T) {\n",
    "    ts.forEach { println(it) }\n",
    "}"
   ]
  },
  {
   "cell_type": "code",
   "execution_count": 11,
   "id": "06cb941f-2a39-4351-9676-1ea9fcd22f04",
   "metadata": {},
   "outputs": [
    {
     "name": "stdout",
     "output_type": "stream",
     "text": [
      "1\n",
      "2\n",
      "3\n",
      "4\n"
     ]
    }
   ],
   "source": [
    "val numbers = arrayOf(1, 2, 3, 4)\n",
    "printAll(*numbers)"
   ]
  },
  {
   "cell_type": "code",
   "execution_count": 13,
   "id": "b6530a96-fa00-4a0d-a36b-bce5804b3cd1",
   "metadata": {},
   "outputs": [
    {
     "name": "stdout",
     "output_type": "stream",
     "text": [
      "param1\n",
      "param2\n",
      "extra\n",
      "opts1\n",
      "opts2\n",
      "opts3\n"
     ]
    }
   ],
   "source": [
    "val params = arrayOf(\"param1\", \"param2\")\n",
    "val opts = arrayOf(\"opts1\", \"opts2\", \"opts3\")\n",
    "\n",
    "val allParams = arrayOf(*params, \"extra\", *opts)\n",
    "printAll(*allParams)"
   ]
  },
  {
   "cell_type": "markdown",
   "id": "7696d320-3cbc-42ac-b746-cfecd40caf52",
   "metadata": {},
   "source": [
    "## 7.6 Scope functions"
   ]
  },
  {
   "cell_type": "markdown",
   "id": "bc76f0b0-7b9c-4668-8d5c-a9c68e069e84",
   "metadata": {},
   "source": [
    "### `let`"
   ]
  },
  {
   "cell_type": "code",
   "execution_count": 15,
   "id": "a9387127-4575-407d-9b1c-8b0d5253ce5e",
   "metadata": {},
   "outputs": [
    {
     "name": "stderr",
     "output_type": "stream",
     "text": [
      "Line_14.jupyter-kts (4:9 - 12) Variable 'num' is never used\n",
      "Line_14.jupyter-kts (4:15 - 21) Smart cast to 'Int' is impossible, because 'number' is a mutable property that could have been changed by this time"
     ]
    }
   ],
   "source": [
    "var number: Int? = null\n",
    "\n",
    "if (number != null){\n",
    "    var num = number + 2\n",
    "}\n"
   ]
  },
  {
   "cell_type": "code",
   "execution_count": 21,
   "id": "ee6686b7-ef41-4ccf-89ff-79f2c9b5197a",
   "metadata": {},
   "outputs": [],
   "source": [
    "var number: Int? = null\n",
    "\n",
    "// niebezpieczne ze względu na wielowątkowość\n",
    "if (number != null){\n",
    "    var num = number!! + 2\n",
    "    println(num)\n",
    "}"
   ]
  },
  {
   "cell_type": "code",
   "execution_count": 24,
   "id": "5d352618-486d-400c-a4e1-898f03f878b7",
   "metadata": {},
   "outputs": [
    {
     "data": {
      "text/plain": [
       "null"
      ]
     },
     "execution_count": 24,
     "metadata": {},
     "output_type": "execute_result"
    }
   ],
   "source": [
    "var number: Int? = null\n",
    "\n",
    "// bezpieczne ze względu na wielowątkowość\n",
    "// let jest wykonywany tylko gdy number? nie jest null\n",
    "number?.let{ // it zachowuje stan number\n",
    "    var num = it + 2 // it == number\n",
    "    println(num)\n",
    "}"
   ]
  },
  {
   "cell_type": "code",
   "execution_count": 31,
   "id": "d812e881-1763-4128-a0cc-5251cdbcfe64",
   "metadata": {},
   "outputs": [
    {
     "name": "stdout",
     "output_type": "stream",
     "text": [
      "2\n"
     ]
    }
   ],
   "source": [
    "var number: Int? = 0\n",
    "// zwracana wartość ostatniej linii\n",
    "val v = number?.let{\n",
    "    var num = it + 2 \n",
    "    num\n",
    "}\n",
    "\n",
    "println(v)"
   ]
  },
  {
   "cell_type": "code",
   "execution_count": 2,
   "id": "20897ed2-fd86-4e30-a944-0f377bb26752",
   "metadata": {},
   "outputs": [
    {
     "name": "stdout",
     "output_type": "stream",
     "text": [
      "null\n"
     ]
    }
   ],
   "source": [
    "var numberx: Int? = null\n",
    "// zwracana wartość ostatniej linii\n",
    "val va = numberx?.let{it + 2}\n",
    "println(va)"
   ]
  },
  {
   "cell_type": "code",
   "execution_count": 3,
   "id": "3e753754-dda6-4005-832f-5a3c8252eaeb",
   "metadata": {},
   "outputs": [
    {
     "name": "stdout",
     "output_type": "stream",
     "text": [
      "3\n"
     ]
    }
   ],
   "source": [
    "var numberx: Int? = null\n",
    "// zwracana wartość ostatniej linii\n",
    "val va = numberx?.let{it + 2}?:3\n",
    "println(va)"
   ]
  },
  {
   "cell_type": "code",
   "execution_count": 20,
   "id": "9704d67e-39a3-4393-ab15-92867d313fb2",
   "metadata": {},
   "outputs": [
    {
     "name": "stdout",
     "output_type": "stream",
     "text": [
      "5\n"
     ]
    }
   ],
   "source": [
    "var a = 1\n",
    "var b= 2\n",
    "\n",
    "a = a\n",
    "    .let { it + 2 }\n",
    "    .let { \n",
    "    val i = it + b\n",
    "    i\n",
    "}\n",
    "println(a)"
   ]
  },
  {
   "cell_type": "markdown",
   "id": "1d5ee776-4e99-4413-91d2-e04bb7e28520",
   "metadata": {},
   "source": [
    "### `also`"
   ]
  },
  {
   "cell_type": "markdown",
   "id": "700388a6-d304-4421-86c9-bdcefb243e7e",
   "metadata": {},
   "source": [
    "`also` nie zwraca ostatniej linii jak `let`. Zwraca obiekt na którym został wywołany."
   ]
  },
  {
   "cell_type": "code",
   "execution_count": 11,
   "id": "122efbcf-8e2b-49e0-8b0a-dcce95db7d36",
   "metadata": {},
   "outputs": [
    {
     "name": "stdout",
     "output_type": "stream",
     "text": [
      "The list elements before adding new one: [one, two, three]\n",
      "The list elements after adding new one: true\n"
     ]
    },
    {
     "data": {
      "text/plain": [
       "true"
      ]
     },
     "execution_count": 11,
     "metadata": {},
     "output_type": "execute_result"
    }
   ],
   "source": [
    "val numbers = mutableListOf(\"one\", \"two\", \"three\")\n",
    "numbers\n",
    "    .also { println(\"The list elements before adding new one: $it\") }\n",
    "    .add(\"four\")\n",
    "    .also { println(\"The list elements after adding new one: $it\") }"
   ]
  },
  {
   "cell_type": "markdown",
   "id": "208b947a-10e9-41b2-8b31-63888c1681c7",
   "metadata": {},
   "source": [
    "### `apply`"
   ]
  },
  {
   "cell_type": "code",
   "execution_count": 17,
   "id": "f01e26c4-38fb-439a-850e-aef808dd373c",
   "metadata": {},
   "outputs": [
    {
     "name": "stdout",
     "output_type": "stream",
     "text": [
      "Person(name=Adam, age=32, city=London)\n"
     ]
    }
   ],
   "source": [
    "data class Person(var name: String, var age: Int=0, var city: String=\"\")\n",
    "val adam = Person(\"Adam\").apply {\n",
    "    age = 32\n",
    "    city = \"London\"        \n",
    "}\n",
    "println(adam)"
   ]
  },
  {
   "cell_type": "markdown",
   "id": "390c9959-64bb-4953-bffe-35606fd3e8b6",
   "metadata": {},
   "source": [
    "### `run`"
   ]
  },
  {
   "cell_type": "code",
   "execution_count": null,
   "id": "29e21998-40d7-420c-bef9-66e0f70b5b2a",
   "metadata": {},
   "outputs": [],
   "source": [
    "val service = MultiportService(\"https://example.kotlinlang.org\", 80)\n",
    "\n",
    "val result = service.run {\n",
    "    port = 8080\n",
    "    query(prepareRequest() + \" to port $port\")\n",
    "}\n",
    "\n",
    "// the same with let()\n",
    "val letResult = service.let {\n",
    "    it.port = 8080\n",
    "    it.query(it.prepareRequest() + \" to port ${it.port}\")\n",
    "}"
   ]
  },
  {
   "cell_type": "code",
   "execution_count": 25,
   "id": "09e1bb61-4823-427c-b89e-c75e035cfe57",
   "metadata": {},
   "outputs": [
    {
     "name": "stdout",
     "output_type": "stream",
     "text": [
      "Rafał\n",
      "Paweł\n",
      "Gadek\n"
     ]
    }
   ],
   "source": [
    "var imie = \"Rafał\"\n",
    "println(imie)\n",
    "    \n",
    "imie = run {\n",
    "    val tutorial = \"Paweł\"\n",
    "    tutorial\n",
    "}\n",
    "println(imie)\n",
    "    \n",
    "tutorial = run {\n",
    "    val imie = \"Paweł\"\n",
    "    tutorial\n",
    "}\n",
    "\n",
    "imie = run {\n",
    "    \"Radek\"\n",
    "    \"Gadek\"\n",
    "}\n",
    "println(imie)"
   ]
  },
  {
   "cell_type": "code",
   "execution_count": 31,
   "id": "574bc276-cd23-4627-bfda-dbddc8b142b0",
   "metadata": {},
   "outputs": [
    {
     "name": "stdout",
     "output_type": "stream",
     "text": [
      "default value: Kotlin\n"
     ]
    }
   ],
   "source": [
    "var p : String? = null\n",
    "p?.let { \n",
    "    println(\"p is $p\") } ?: run { \n",
    "    print(\"default value: \")\n",
    "        p = \"Kotlin\"\n",
    "}\n",
    "\n",
    "println(p)"
   ]
  },
  {
   "cell_type": "code",
   "execution_count": 33,
   "id": "4ae05bf1-22d1-4f50-aa36-8e4954f4ffc7",
   "metadata": {},
   "outputs": [
    {
     "name": "stdout",
     "output_type": "stream",
     "text": [
      "kotlin.Unit\n",
      "Person(name=Rafał, lastName=Lewandkowski)\n",
      "Person(name=Rafał, lastName=Lewandkowski)\n"
     ]
    }
   ],
   "source": [
    "data class Person(var name: String, var lastName : String)\n",
    "var person = Person(\"Rafał\", \"Lewandków\")\n",
    "\n",
    "var r = person.let { it.lastName = \"Lewandkowski\" }\n",
    "var rl = person.also { it.lastName = \"Lewandkowski\" }\n",
    "    \n",
    "println(r)\n",
    "println(rl)\n",
    "println(person)"
   ]
  },
  {
   "cell_type": "code",
   "execution_count": 34,
   "id": "263f5ee9-1068-4083-a23f-aa4e2df5c44b",
   "metadata": {},
   "outputs": [
    {
     "name": "stdout",
     "output_type": "stream",
     "text": [
      "Person(n=Rafał, l=Lewandkowski)\n",
      "Person(n=Rafał, l=Lewandkowski)\n"
     ]
    }
   ],
   "source": [
    "data class Person(var n: String, var l : String)\n",
    "var person = Person(\"Rafał\", \"Lewandków\")\n",
    "\n",
    "person.apply { l = \"Lewandkowski\" }\n",
    "println(person)\n",
    "\n",
    "person.also { it.l = \"Lewandkowski\" }\n",
    "println(person)"
   ]
  },
  {
   "cell_type": "markdown",
   "id": "26b60a8b-ce86-4fff-b9ac-0fc10c56aab8",
   "metadata": {},
   "source": [
    "### `with`"
   ]
  },
  {
   "cell_type": "code",
   "execution_count": 36,
   "id": "bd07607c-7f3c-45ed-85c5-d37e5453f658",
   "metadata": {},
   "outputs": [
    {
     "name": "stdout",
     "output_type": "stream",
     "text": [
      "Person(name=No Name, lastName=No Name)\n"
     ]
    }
   ],
   "source": [
    "data class Person(var name: String, var lastName : String)\n",
    "var person = Person(\"Rafał\", \"Lewandków\")\n",
    "\n",
    "with(person)\n",
    "    {\n",
    "        name = \"No Name\"\n",
    "        lastName = \"No Name\"\n",
    "    }\n",
    "\n",
    "println(person)"
   ]
  },
  {
   "cell_type": "markdown",
   "id": "1adabd5c-5620-4314-a983-d9a71a24c169",
   "metadata": {},
   "source": [
    "### `with` vs `apply`"
   ]
  },
  {
   "cell_type": "markdown",
   "id": "f0a0398b-9f5a-47d3-8285-ec4ccc050df4",
   "metadata": {},
   "source": [
    "- `apply` działa na instancji obiektu, `with` dostaje obiekt jako argument\n",
    "- `with` zwraca ostatnią linię"
   ]
  },
  {
   "cell_type": "code",
   "execution_count": null,
   "id": "752d5a9a-7346-4537-85e5-e855cadd4836",
   "metadata": {},
   "outputs": [],
   "source": []
  }
 ],
 "metadata": {
  "kernelspec": {
   "display_name": "Kotlin",
   "language": "kotlin",
   "name": "kotlin"
  },
  "language_info": {
   "codemirror_mode": "text/x-kotlin",
   "file_extension": ".kt",
   "mimetype": "text/x-kotlin",
   "name": "kotlin",
   "nbconvert_exporter": "",
   "pygments_lexer": "kotlin",
   "version": "1.6.20-dev-6372"
  }
 },
 "nbformat": 4,
 "nbformat_minor": 5
}
