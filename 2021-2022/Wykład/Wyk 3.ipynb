{
 "cells": [
  {
   "cell_type": "markdown",
   "id": "cce6c20d-68f0-45ab-8382-358d10af585f",
   "metadata": {},
   "source": [
    "# Wykład 3 - Typy zerowalne"
   ]
  },
  {
   "cell_type": "markdown",
   "id": "310f1235-2d6a-4156-9fc9-3f715e910315",
   "metadata": {},
   "source": [
    "Java zezwala na przpisanie zmiennej wartości lub `null`. Traktuje `null` w ten sam sposób jak każdą inną wartość. Prowadzi to występowania niechcianych efektów, np. gdy chcemy dostać się do pola instancji klasy. Jeżeli instancja będzie wskazywać na `null` otrzymamy `NullPointerException` - jest to błąd czasu wykonania."
   ]
  },
  {
   "cell_type": "code",
   "execution_count": 8,
   "id": "d00b7047-2342-42fc-8c4a-37921f40983d",
   "metadata": {},
   "outputs": [
    {
     "name": "stdout",
     "output_type": "stream",
     "text": [
      "Rafał\n"
     ]
    },
    {
     "ename": "EvalException",
     "evalue": "Cannot invoke \"REPL.$JShell$13$Student.getName()\" because \"REPL.$JShell$15.studentb\" is null",
     "output_type": "error",
     "traceback": [
      "\u001b[1m\u001b[31m---------------------------------------------------------------------------\u001b[0m",
      "\u001b[1m\u001b[31mjava.lang.NullPointerException: Cannot invoke \"REPL.$JShell$13$Student.getName()\" because \"REPL.$JShell$15.studentb\" is null\u001b[0m",
      "\u001b[1m\u001b[31m\tat .(#19:1)\u001b[0m"
     ]
    }
   ],
   "source": [
    "public class Student{\n",
    "    private String name;\n",
    "    \n",
    "    public Student(String name){\n",
    "        this.name = name;\n",
    "    }\n",
    "    \n",
    "    public String getName(){return name;}\n",
    "    public void setName(String value){this.name = value;}\n",
    "}\n",
    "\n",
    "Student studenta = new Student(\"Rafał\");\n",
    "Student studentb = null;\n",
    "System.out.println(studenta.getName());\n",
    "System.out.println(studentb.getName());"
   ]
  },
  {
   "cell_type": "markdown",
   "id": "2aa91342-7f48-4409-942c-a558005ecea9",
   "metadata": {},
   "source": [
    "Jednym z rozwiązań jest stosowanie prostego sprawdzenia."
   ]
  },
  {
   "cell_type": "code",
   "execution_count": 9,
   "id": "ed19c7e6-c18b-4d6a-857e-e784c7aa4683",
   "metadata": {},
   "outputs": [
    {
     "name": "stdout",
     "output_type": "stream",
     "text": [
      "Rafał\n",
      "Obsługa błędu\n"
     ]
    }
   ],
   "source": [
    "public class Student{\n",
    "    private String name;\n",
    "    \n",
    "    public Student(String name){\n",
    "        this.name = name;\n",
    "    }\n",
    "    \n",
    "    public String getName(){return name;}\n",
    "    public void setName(String value){this.name = value;}\n",
    "}\n",
    "\n",
    "Student studenta = new Student(\"Rafał\");\n",
    "Student studentb = null;\n",
    "System.out.println(studenta.getName());\n",
    "\n",
    "if (studentb != null){\n",
    "    System.out.println(studentb.getName());\n",
    "} else{\n",
    "    System.out.println(\"Obsługa błędu\");\n",
    "}"
   ]
  },
  {
   "cell_type": "markdown",
   "id": "baafcb1b-78d6-4244-9dff-cd050fcec463",
   "metadata": {},
   "source": [
    "Jednym z rozwiązań jest brak zezwolenia na wartość `null` - alternatywą może być `no-value`. Kotlin jest językiem interoperacyjnym z Javą - takie było założenie, więc konieczne było wprowadzenie odpowiedniego rozwiązania."
   ]
  },
  {
   "cell_type": "markdown",
   "id": "dc69df4e-abee-49ea-87f1-4a81cd1b7b97",
   "metadata": {},
   "source": [
    "Domyślnie typy nie dopuszczają możliwości przypsania wartości `null`, ale istnieją ypy zerowalne (`nullable types`)."
   ]
  },
  {
   "cell_type": "code",
   "execution_count": 26,
   "id": "41dbcf87-eb57-4db6-9cfe-cb1ead591948",
   "metadata": {},
   "outputs": [
    {
     "name": "stderr",
     "output_type": "stream",
     "text": [
      "Line_33.jupyter-kts (8:9 - 10) Expression in a class literal has a nullable type 'String?', use !! to make the type non-nullable\n",
      "Line_33.jupyter-kts (9:9 - 10) Expression in a class literal has a nullable type 'Int?', use !! to make the type non-nullable"
     ]
    }
   ],
   "source": [
    "//val a: String = null\n",
    "val b: String? = null\n",
    "val c: Int? = null\n",
    "\n",
    "println(b)\n",
    "println(c)\n",
    "\n",
    "println(b::class.simpleName)\n",
    "println(c::class.simpleName)\n",
    "\n",
    "// println(b!!::class.simpleName)\n",
    "// println(c!!::class.simpleName)"
   ]
  },
  {
   "cell_type": "code",
   "execution_count": 21,
   "id": "78563757-f629-4edc-9dd5-08cb7b545ab5",
   "metadata": {},
   "outputs": [
    {
     "name": "stderr",
     "output_type": "stream",
     "text": [
      "Line_24.jupyter-kts (6:14 - 15) Only safe (?.) or non-null asserted (!!.) calls are allowed on a nullable receiver of type String?"
     ]
    }
   ],
   "source": [
    "val s: String? = \"Rafał\"\n",
    "println(s)\n",
    "//println(s.length)\n",
    "if (s != null)\n",
    "    println(s)\n",
    "    println(s.length)"
   ]
  },
  {
   "cell_type": "code",
   "execution_count": 24,
   "id": "b4872632-e1f5-4706-a1c8-8a7d1197c8c0",
   "metadata": {},
   "outputs": [
    {
     "name": "stdout",
     "output_type": "stream",
     "text": [
      "Rafał\n",
      "5\n"
     ]
    }
   ],
   "source": [
    "val s: String? = \"Rafał\"\n",
    "println(s)\n",
    "println(s?.length)"
   ]
  },
  {
   "cell_type": "code",
   "execution_count": 25,
   "id": "12ec132f-0bb4-4882-81eb-3ac27641417c",
   "metadata": {},
   "outputs": [
    {
     "name": "stdout",
     "output_type": "stream",
     "text": [
      "null\n",
      "null\n"
     ]
    }
   ],
   "source": [
    "val s: String? = null\n",
    "println(s)\n",
    "println(s?.length)"
   ]
  },
  {
   "cell_type": "code",
   "execution_count": 27,
   "id": "dd0d6e8e-0ada-4fe6-a6f0-5e235bcb6ae1",
   "metadata": {},
   "outputs": [
    {
     "name": "stderr",
     "output_type": "stream",
     "text": [
      "Line_34.jupyter-kts (2:18 - 19) Type mismatch: inferred type is String? but String was expected"
     ]
    }
   ],
   "source": [
    "val s: String? = \"Rafał\"\n",
    "var s1: String = s"
   ]
  },
  {
   "cell_type": "code",
   "execution_count": 33,
   "id": "eed3a688-ee0c-4178-adbc-702a39382c17",
   "metadata": {},
   "outputs": [
    {
     "name": "stderr",
     "output_type": "stream",
     "text": [
      "Line_44.jupyter-kts (8:3 - 4) Type mismatch: inferred type is String? but String was expected"
     ]
    }
   ],
   "source": [
    "val a: String? = \"Rafał\"\n",
    "var b: String = \"Rafał\"\n",
    "\n",
    "fun p(s: String){\n",
    "    println(s.length)\n",
    "}\n",
    "\n",
    "p(a)\n",
    "p(b)"
   ]
  },
  {
   "cell_type": "code",
   "execution_count": 45,
   "id": "df9f215a-b6c0-43b7-a442-cd0482f081f3",
   "metadata": {},
   "outputs": [
    {
     "name": "stdout",
     "output_type": "stream",
     "text": [
      "5\n",
      "5\n"
     ]
    }
   ],
   "source": [
    "val a: String? = \"Rafał\"\n",
    "var b: String = \"Rafał\"\n",
    "\n",
    "fun p(s: String){\n",
    "    println(s.length)\n",
    "}\n",
    "\n",
    "p(a!!)\n",
    "p(b)"
   ]
  },
  {
   "cell_type": "code",
   "execution_count": 48,
   "id": "4b9ac242-6146-42e7-9004-05b2bc330440",
   "metadata": {},
   "outputs": [
    {
     "name": "stdout",
     "output_type": "stream",
     "text": [
      "5\n",
      "5\n"
     ]
    }
   ],
   "source": [
    "val c: String? = \"Rafał\"\n",
    "val d: String = \"Rafał\"\n",
    "\n",
    "fun p2(s: String?){\n",
    "    println(s?.length)\n",
    "}\n",
    "\n",
    "p2(c)\n",
    "p2(d)"
   ]
  },
  {
   "cell_type": "code",
   "execution_count": 49,
   "id": "1ad32596-a530-48b0-b31b-3e5cfc1a1fd0",
   "metadata": {},
   "outputs": [
    {
     "name": "stderr",
     "output_type": "stream",
     "text": [
      "Line_80.jupyter-kts (2:17 - 18) Type mismatch: inferred type is String? but String was expected"
     ]
    }
   ],
   "source": [
    "val c: String? = \"Rafał\"\n",
    "val d: String = c"
   ]
  },
  {
   "cell_type": "code",
   "execution_count": 51,
   "id": "7b23f45e-5e73-4862-b7f6-0c3c37502337",
   "metadata": {},
   "outputs": [
    {
     "name": "stdout",
     "output_type": "stream",
     "text": [
      "Rafał\n"
     ]
    }
   ],
   "source": [
    "val e: String = \"Rafał\"\n",
    "val f: String? = e\n",
    "\n",
    "println(f)"
   ]
  },
  {
   "cell_type": "code",
   "execution_count": 53,
   "id": "62aa1729-768f-45a0-b872-569bec3c4a39",
   "metadata": {},
   "outputs": [
    {
     "name": "stdout",
     "output_type": "stream",
     "text": [
      "Rafał\n"
     ]
    }
   ],
   "source": [
    "val g: String? = \"Rafał\"\n",
    "val h: String = g!!\n",
    "    \n",
    "println(h)"
   ]
  },
  {
   "cell_type": "code",
   "execution_count": 62,
   "id": "f76b4d96-8915-4fae-b1c6-167bf38429df",
   "metadata": {},
   "outputs": [
    {
     "name": "stdout",
     "output_type": "stream",
     "text": [
      "null\n",
      "Robert\n"
     ]
    },
    {
     "data": {
      "text/plain": [
       "Unknown"
      ]
     },
     "execution_count": 62,
     "metadata": {},
     "output_type": "execute_result"
    }
   ],
   "source": [
    "class Person(\n",
    "    val name: String,\n",
    "    var friend: Person? = null\n",
    ")\n",
    "\n",
    "val rafal = Person(\"Rafał\")\n",
    "val robert = Person(\"Robert\", rafal)\n",
    "\n",
    "println(rafal.friend?.name)\n",
    "\n",
    "rafal.friend = robert\n",
    "println(rafal.friend?.name)\n",
    "\n",
    "rafal.friend?.friend?.name == \"Rafał\"\n",
    "\n",
    "val alicja = Person(\"Alicja\")\n",
    "\n",
    "alicja.friend?.friend?.name\n",
    "alicja.friend?.friend?.name?: \"Unknown\""
   ]
  },
  {
   "cell_type": "code",
   "execution_count": 64,
   "id": "fc81e285-3f66-405b-8460-ad0af1221c61",
   "metadata": {},
   "outputs": [],
   "source": [
    "class Person(\n",
    "    val name: String,\n",
    "    var age: Int?\n",
    ")"
   ]
  },
  {
   "cell_type": "code",
   "execution_count": 75,
   "id": "d05a8ded-682a-4a78-b0af-a71f7bba40cb",
   "metadata": {},
   "outputs": [
    {
     "name": "stderr",
     "output_type": "stream",
     "text": [
      "Line_120.jupyter-kts (4:21 - 22) Operator call corresponds to a dot-qualified call 'age.plus(1)' which is not allowed on a nullable receiver 'age'."
     ]
    }
   ],
   "source": [
    "val john : Person? = Person(\"Rafał\", 38)\n",
    "\n",
    "val age = john?.age\n",
    "val offsetAge = age + 1\n",
    "\n",
    "println(offsetAge)\n",
    "\n",
    "// val age = john?.age ?: 25\n",
    "// val offsetAge = age + 1 "
   ]
  },
  {
   "cell_type": "code",
   "execution_count": 76,
   "id": "dc8656a8-ce10-43f3-b523-a58a8de657aa",
   "metadata": {},
   "outputs": [
    {
     "name": "stdout",
     "output_type": "stream",
     "text": [
      "39\n"
     ]
    }
   ],
   "source": [
    "val john : Person? = Person(\"Rafał\", 38)\n",
    "\n",
    "val age = john?.age!!\n",
    "val offsetAge = age + 1\n",
    "\n",
    "println(offsetAge)"
   ]
  },
  {
   "cell_type": "code",
   "execution_count": 77,
   "id": "2e6df037-7679-4c79-afb0-432a007310a3",
   "metadata": {},
   "outputs": [
    {
     "name": "stdout",
     "output_type": "stream",
     "text": [
      "39\n"
     ]
    }
   ],
   "source": [
    "val john : Person? = Person(\"Rafał\", 38)\n",
    "\n",
    "val age = john?.age ?: 0\n",
    "val offsetAge = age + 1\n",
    "\n",
    "println(offsetAge)"
   ]
  },
  {
   "cell_type": "code",
   "execution_count": 79,
   "id": "d7544073-9c0e-4dde-a2ae-0f4593fd3331",
   "metadata": {},
   "outputs": [
    {
     "name": "stdout",
     "output_type": "stream",
     "text": [
      "1\n"
     ]
    }
   ],
   "source": [
    "val john : Person? = Person(\"Rafał\", null)\n",
    "\n",
    "val age = john?.age ?: 0\n",
    "val offsetAge = age + 1\n",
    "\n",
    "println(offsetAge)"
   ]
  },
  {
   "cell_type": "code",
   "execution_count": 89,
   "id": "2bc0649e-1e1e-485d-b920-e02c417788c2",
   "metadata": {},
   "outputs": [
    {
     "name": "stdout",
     "output_type": "stream",
     "text": [
      "noname\n"
     ]
    }
   ],
   "source": [
    "class Person2(\n",
    "    val name: String?,\n",
    "    var age: Int?\n",
    ")\n",
    "\n",
    "val person : Person2? = Person2(null, null)\n",
    "\n",
    "val name = person?.name ?: \"noname\"\n",
    "\n",
    "println(name)\n",
    "//val age = person?.age ?: throw IllegalArgumentException(\"Age is null\")"
   ]
  },
  {
   "cell_type": "code",
   "execution_count": 96,
   "id": "21e88f4c-89bb-4ee0-a321-9e10d778d994",
   "metadata": {},
   "outputs": [
    {
     "name": "stdout",
     "output_type": "stream",
     "text": [
      "true\n",
      "true\n",
      "\n",
      "true\n",
      "true\n",
      "\n",
      "false\n",
      "true\n"
     ]
    }
   ],
   "source": [
    "val s1: String? = null\n",
    "println(s1.isNullOrEmpty())\n",
    "println(s1.isNullOrBlank())\n",
    "println()\n",
    "\n",
    "val s2 = \"\"\n",
    "println(s2.isNullOrEmpty())\n",
    "println(s2.isNullOrBlank())\n",
    "println()\n",
    "\n",
    "val s3: String = \" \\t\\n\"\n",
    "println(s3.isNullOrEmpty())\n",
    "println(s3.isNullOrBlank())"
   ]
  },
  {
   "cell_type": "code",
   "execution_count": 100,
   "id": "46bc3cdb-b6d4-4f9c-8cfc-6638bab521e7",
   "metadata": {},
   "outputs": [
    {
     "name": "stdout",
     "output_type": "stream",
     "text": [
      "true\n",
      "true\n",
      "\n"
     ]
    }
   ],
   "source": [
    "val s1: String = \"\"\n",
    "println(s1.isNullOrEmpty())\n",
    "println(s1.isNullOrBlank())\n",
    "println()"
   ]
  },
  {
   "cell_type": "code",
   "execution_count": 101,
   "id": "3d5e3752-9b65-4ecb-94d0-556d9aae52da",
   "metadata": {},
   "outputs": [
    {
     "name": "stdout",
     "output_type": "stream",
     "text": [
      "true\n"
     ]
    }
   ],
   "source": [
    "println(\"\".isNullOrEmpty())"
   ]
  },
  {
   "cell_type": "code",
   "execution_count": null,
   "id": "4a4cd9e2-21b1-4d91-8357-ff74ee6fa4a5",
   "metadata": {},
   "outputs": [],
   "source": []
  }
 ],
 "metadata": {
  "kernelspec": {
   "display_name": "Kotlin",
   "language": "kotlin",
   "name": "kotlin"
  },
  "language_info": {
   "codemirror_mode": "text/x-kotlin",
   "file_extension": ".kt",
   "mimetype": "text/x-kotlin",
   "name": "kotlin",
   "nbconvert_exporter": "",
   "pygments_lexer": "kotlin",
   "version": "1.6.20-dev-6372"
  }
 },
 "nbformat": 4,
 "nbformat_minor": 5
}
