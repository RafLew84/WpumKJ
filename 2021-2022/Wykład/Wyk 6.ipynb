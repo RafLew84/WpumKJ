{
 "cells": [
  {
   "cell_type": "markdown",
   "id": "cef9caa3-3129-4d84-a46c-b7609e10934e",
   "metadata": {},
   "source": [
    "# Wykład 6 - Programowanie Funkcyjne"
   ]
  },
  {
   "cell_type": "markdown",
   "id": "b233fcee-d4af-4c9b-968a-d9837fbbdb41",
   "metadata": {},
   "source": [
    "## 6.1 Podstawy"
   ]
  },
  {
   "cell_type": "markdown",
   "id": "d126a388-ef57-4494-bc8a-3bdb523ac119",
   "metadata": {},
   "source": [
    "Program składa się z **czystych funkcji**, czyli funkcji bez **efektów ubocznych**."
   ]
  },
  {
   "cell_type": "markdown",
   "id": "8791d97b-c661-4291-8498-f46a3999007b",
   "metadata": {},
   "source": [
    "- Konstrukty odnoszą się do pojedynczych obiektów lub pojedynczej kolekcji obiektów\n",
    "- Wykorzystywanie funkcji jako parametrów funkcji\n",
    "- Rzadkie wykorzysywanie pętli\n",
    "- Wykorzystanie `filter`, `map`, `reduce`\n",
    "- Lambdy"
   ]
  },
  {
   "cell_type": "code",
   "execution_count": 13,
   "id": "9ef1f2a2-0a71-4042-af59-4079406109ff",
   "metadata": {},
   "outputs": [],
   "source": [
    "class Coffee {val price: Float = 0.0f}\n",
    "class CreditCard {\n",
    "    fun charge (price: Float) {\n",
    "        // system płatności\n",
    "    }\n",
    "}\n",
    "\n",
    "class Cafe {\n",
    "    fun buyCoffee (cc: CreditCard): Coffee {\n",
    "        val cup = Coffee()\n",
    "        \n",
    "        cc.charge(cup.price) // efekt uboczny\n",
    "        \n",
    "        return cup\n",
    "    }\n",
    "}"
   ]
  },
  {
   "cell_type": "markdown",
   "id": "3ca1ee3a-c32e-4489-bd3a-b843724d992f",
   "metadata": {},
   "source": [
    "![](coffee.png)"
   ]
  },
  {
   "cell_type": "code",
   "execution_count": 16,
   "id": "bf4f7f54-d632-44b8-b901-c119b3e1dc58",
   "metadata": {},
   "outputs": [],
   "source": [
    "class Cafe {\n",
    "    \n",
    "    fun buyCoffee(cc: CreditCard): Pair<Coffee, Charge> {\n",
    "        val cup = Coffee()\n",
    "        return Pair(cup, Charge(cc, cup.price))\n",
    "    }\n",
    "    \n",
    "    fun buyCoffees(\n",
    "        cc: CreditCard,\n",
    "        n: Int\n",
    "    ): Pair<List<Coffee>, Charge> {\n",
    "        val purchases: List<Pair<Coffee, Charge>> = \n",
    "            List(n) { buyCoffee(cc) }\n",
    "            \n",
    "        val (coffees, charges) = purchases.unzip()\n",
    "        \n",
    "        return Pair(\n",
    "            coffees,\n",
    "            charges.reduce { c1, c2 -> c1.combine(c2) }\n",
    "        )\n",
    "    }\n",
    "}\n",
    "\n",
    "data class Charge(val cc: CreditCard, val amount: Float) {\n",
    "    fun combine(other: Charge): Charge =\n",
    "        if (cc == other.cc)\n",
    "            Charge(cc, amount + other.amount)\n",
    "        else throw Exception(\"Cannot combine charges to different cards\")\n",
    "}"
   ]
  },
  {
   "cell_type": "code",
   "execution_count": 18,
   "id": "2396280a-b843-483a-bae1-32dfdf3c88df",
   "metadata": {},
   "outputs": [],
   "source": [
    "fun List<Charge>.coalesce(): List<Charge> =\n",
    "    this.groupBy { it.cc }.values\n",
    "    .map { it.reduce { a, b -> a.combine(b) } }"
   ]
  },
  {
   "cell_type": "markdown",
   "id": "2796d604-7489-4263-99a6-dc5543a5fb5f",
   "metadata": {},
   "source": [
    "### Podstawowe cechy"
   ]
  },
  {
   "cell_type": "markdown",
   "id": "763ca48d-3155-4add-a23f-827c30f2c3c4",
   "metadata": {},
   "source": [
    "- podstawowa składnia funkcji `([parameters]) -> [result-type]`"
   ]
  },
  {
   "cell_type": "markdown",
   "id": "1aba5e13-84eb-4e19-ad48-4626a85588af",
   "metadata": {},
   "source": [
    "- funkcja jest typem pierwszoklasowym - jest konstruktem służącym do przechowywania danych, na którym możemy wykonywać takie same operacje, jak na innych, wbudowanych typach"
   ]
  },
  {
   "cell_type": "code",
   "execution_count": 3,
   "id": "5c65f8c6-4d82-413b-b37f-6e1b20d49e1d",
   "metadata": {},
   "outputs": [
    {
     "data": {
      "text/plain": [
       "7: Hello"
      ]
     },
     "execution_count": 3,
     "metadata": {},
     "output_type": "execute_result"
    }
   ],
   "source": [
    "val f: (Int, String) -> String = { i:Int, s:String -> \"${i}: ${s}\" } // function literal\n",
    "val f2 = { i:Int, s:String -> \"${i}: ${s}\" } // anonymous lambda\n",
    "\n",
    "fun ff(fun1: (Int,String) -> String):String {\n",
    " return fun1(7, \"Hello\")\n",
    "}\n",
    "ff(f)"
   ]
  },
  {
   "cell_type": "code",
   "execution_count": 25,
   "id": "c379b8d2-66a3-46a7-83f5-b75de4abc2dc",
   "metadata": {},
   "outputs": [
    {
     "data": {
      "text/plain": [
       "7- Hello"
      ]
     },
     "execution_count": 25,
     "metadata": {},
     "output_type": "execute_result"
    }
   ],
   "source": [
    "ff( { i:Int,s:String -> \"${i}- ${s}\" } )"
   ]
  },
  {
   "cell_type": "markdown",
   "id": "0d8f86aa-0a01-4ec0-b673-150d9be3c137",
   "metadata": {},
   "source": [
    "- wywołanie ` function({ [lambda-function] })` może zostać skócone do `function { [lambda-function] }`"
   ]
  },
  {
   "cell_type": "code",
   "execution_count": 59,
   "id": "4f5b070f-ef3c-40e0-b660-34ffb2c2d806",
   "metadata": {},
   "outputs": [
    {
     "data": {
      "text/plain": [
       "7- Hello"
      ]
     },
     "execution_count": 59,
     "metadata": {},
     "output_type": "execute_result"
    }
   ],
   "source": [
    "ff { i:Int,s:String -> \"${i}- ${s}\" }"
   ]
  },
  {
   "cell_type": "markdown",
   "id": "ae03c2dd-b267-4f90-aab5-97ddce13fd2c",
   "metadata": {},
   "source": [
    "- odniesienie do funkcji z obiektów przez `::`"
   ]
  },
  {
   "cell_type": "code",
   "execution_count": 25,
   "id": "ba0474d5-ad7e-4e14-8721-77b12dbbcb7f",
   "metadata": {},
   "outputs": [],
   "source": [
    "object X {\n",
    " fun add(a:Int, b:Int): Int = a + b\n",
    "}\n",
    "\n",
    "//val f : (Int,Int) -> Int = X.add"
   ]
  },
  {
   "cell_type": "code",
   "execution_count": 16,
   "id": "2009f9ca-63e0-456b-8c1e-d26052a5a3bf",
   "metadata": {},
   "outputs": [
    {
     "data": {
      "text/plain": [
       "4"
      ]
     },
     "execution_count": 16,
     "metadata": {},
     "output_type": "execute_result"
    }
   ],
   "source": [
    "X.add(2, 2)"
   ]
  },
  {
   "cell_type": "markdown",
   "id": "f74a98cb-9b07-4ef1-a076-c6271ab9f4b6",
   "metadata": {},
   "source": [
    "- odniesienie do funkcji z klas przez `::`"
   ]
  },
  {
   "cell_type": "code",
   "execution_count": 26,
   "id": "ee8c561e-c6e7-4a42-af9a-065fdccff791",
   "metadata": {},
   "outputs": [
    {
     "data": {
      "text/plain": [
       "4"
      ]
     },
     "execution_count": 26,
     "metadata": {},
     "output_type": "execute_result"
    }
   ],
   "source": [
    "class X2 {\n",
    " fun add(a:Int, b:Int): Int = a + b\n",
    "}\n",
    "\n",
    "val f : X2.(Int,Int) -> Int = X2::add\n",
    "f(2, 2)"
   ]
  },
  {
   "cell_type": "markdown",
   "id": "cdae235b-1b91-4a8c-8067-420f03523912",
   "metadata": {},
   "source": [
    "- odniesienie do metod instancji przez `::`"
   ]
  },
  {
   "cell_type": "code",
   "execution_count": 31,
   "id": "762c1015-8687-4001-b845-58a6678b7943",
   "metadata": {},
   "outputs": [
    {
     "data": {
      "text/plain": [
       "4"
      ]
     },
     "execution_count": 31,
     "metadata": {},
     "output_type": "execute_result"
    }
   ],
   "source": [
    "class X3 {\n",
    " fun add(a:Int, b:Int): Int = a + b\n",
    "}\n",
    "\n",
    "val x3 = X3()\n",
    "val f : (Int,Int) -> Int = x3::add\n",
    "f(2, 2)"
   ]
  },
  {
   "cell_type": "code",
   "execution_count": 32,
   "id": "bbf0de81-9ce5-4ffc-995e-eace81b48c93",
   "metadata": {},
   "outputs": [
    {
     "name": "stderr",
     "output_type": "stream",
     "text": [
      "Line_31.jupyter-kts (1:28 - 35) Type mismatch: inferred type is KFunction3<Line_30.X3, Int, Int, Int> but (Int, Int) -> Int was expected\n",
      "Line_31.jupyter-kts (1:32 - 35) Type mismatch: inferred type is (Int, Int) -> Int but KFunction3<Line_30.X3, Int, Int, Int> was expected"
     ]
    }
   ],
   "source": [
    "val f : (Int,Int) -> Int = X3::add"
   ]
  },
  {
   "cell_type": "code",
   "execution_count": 33,
   "id": "ba52b73e-2ec8-4588-b652-bdf0675eba46",
   "metadata": {},
   "outputs": [
    {
     "name": "stderr",
     "output_type": "stream",
     "text": [
      "Line_32.jupyter-kts (1:4 - 7) Unresolved reference: add"
     ]
    }
   ],
   "source": [
    "X3.add(2, 2)"
   ]
  },
  {
   "cell_type": "code",
   "execution_count": 34,
   "id": "61b247d1-b464-4723-b41f-892d3487dd84",
   "metadata": {},
   "outputs": [
    {
     "data": {
      "text/plain": [
       "4"
      ]
     },
     "execution_count": 34,
     "metadata": {},
     "output_type": "execute_result"
    }
   ],
   "source": [
    "x3.add(2, 2)"
   ]
  },
  {
   "cell_type": "markdown",
   "id": "41564889-fe92-46e5-be93-b8154a488819",
   "metadata": {},
   "source": [
    "## 6.2 Pętle"
   ]
  },
  {
   "cell_type": "markdown",
   "id": "ad2a6cdb-c2b8-4db7-967b-39fdf307c3f4",
   "metadata": {},
   "source": [
    "Pętle można zrealizować przez zastosowanie rekursji z funkcją pomocniczą. Typowo nazywa się `go` lub `loop`. Definicja `factorial` zawiera tylko wywołanie `go` z początkowymi warunkami pętli."
   ]
  },
  {
   "cell_type": "code",
   "execution_count": 87,
   "id": "04d72f0b-da7e-4a72-aa7d-ab20c1f38704",
   "metadata": {},
   "outputs": [
    {
     "data": {
      "text/plain": [
       "362880"
      ]
     },
     "execution_count": 87,
     "metadata": {},
     "output_type": "execute_result"
    }
   ],
   "source": [
    "fun factorial(i: Int): Int {\n",
    "    fun go(n: Int, acc: Int): Int =\n",
    "        if (n <= 0) acc\n",
    "        else go(n - 1, n * acc)\n",
    "    return go(i, 1)\n",
    "}\n",
    "\n",
    "factorial(9)"
   ]
  },
  {
   "cell_type": "code",
   "execution_count": 88,
   "id": "889d6614-4e8e-4413-9c42-f0d802f87d26",
   "metadata": {},
   "outputs": [
    {
     "data": {
      "text/plain": [
       "362880"
      ]
     },
     "execution_count": 88,
     "metadata": {},
     "output_type": "execute_result"
    }
   ],
   "source": [
    "fun factorial2(i: Int): Int {\n",
    "    tailrec fun go(n: Int, acc: Int): Int =\n",
    "        if (n <= 0) acc\n",
    "        else go(n - 1, n * acc)\n",
    "    return go(i, 1)\n",
    "}\n",
    "\n",
    "factorial2(9)"
   ]
  },
  {
   "cell_type": "markdown",
   "id": "588b378a-191a-4b1d-bd05-3a52ca6c09e5",
   "metadata": {},
   "source": [
    "Przyjmuje się, że wywołanie znajduje się na `tail`, jeśli wywołujący nie robi nic poza zwrotem wartości rekurencyjnego wywołania.<br>\n",
    "Przykładowo:<br>\n",
    "- `go(n-1, n*acc)` jest w pozycji `tail` ponieważ metoda zwraca wartość wywołania i nic z nim więcej nie robi\n",
    "- `1 + go(n-1, n*acc)` nie jest w pozycji `tail` ponieważ po zwróceniu `go` dalej wykonywana jest operacja dodawania<br>\n",
    "Jeżeli wszystkie wywołania rekursywne są w pozycji `tail` zastosowanie modyfikatora `tailrec` powoduje zastąpienie rekursji wywołaniami iteratywnymi przez kompilator. Dzięki temu unikamy `StackOverflowError`."
   ]
  },
  {
   "cell_type": "markdown",
   "id": "9c208212-e024-4dfb-abb4-f07ca1a991e9",
   "metadata": {},
   "source": [
    "## 6.3 Funkcje wyższego rzędu"
   ]
  },
  {
   "cell_type": "code",
   "execution_count": 96,
   "id": "fbde8741-49a7-4f03-908e-aa90d83e4eb1",
   "metadata": {},
   "outputs": [
    {
     "name": "stdout",
     "output_type": "stream",
     "text": [
      "The absolute value of -42 is 42\n",
      "The factorial of 7 is 5040\n"
     ]
    }
   ],
   "source": [
    "object Example {\n",
    "    private fun abs(n: Int): Int =\n",
    "        if (n < 0) -n\n",
    "        else n\n",
    "    \n",
    "    private fun factorial(i: Int): Int {\n",
    "        fun go(n: Int, acc: Int): Int =\n",
    "            if (n <= 0) acc\n",
    "            else go(n - 1, n * acc)\n",
    "        return go(i, 1)\n",
    "}\n",
    "    \n",
    "    fun formatAbs(x: Int): String {\n",
    "        val msg = \"The absolute value of %d is %d\"\n",
    "        return msg.format(x, abs(x))\n",
    "    }\n",
    "\n",
    "    fun formatFactorial(x: Int): String {\n",
    "        val msg = \"The factorial of %d is %d\"\n",
    "        return msg.format(x, factorial(x))\n",
    "    }\n",
    "}\n",
    "\n",
    "fun main() {\n",
    "    println(Example.formatAbs(-42))\n",
    "    println(Example.formatFactorial(7))\n",
    "}\n",
    "\n",
    "main()"
   ]
  },
  {
   "cell_type": "markdown",
   "id": "fdf55a1f-141d-4781-bbc2-6d00a76618fb",
   "metadata": {},
   "source": [
    "wprowadzamy funkcję wyższego rzędu"
   ]
  },
  {
   "cell_type": "code",
   "execution_count": 38,
   "id": "adeea080-e867-4484-ad1b-b8fa5259cd30",
   "metadata": {},
   "outputs": [],
   "source": [
    "fun formatResult(name: String, n: Int, f: (Int) -> Int): String {\n",
    "    val msg = \"The %s of %d is %d.\"\n",
    "    return msg.format(name, n, f(n))\n",
    "}"
   ]
  },
  {
   "cell_type": "code",
   "execution_count": 98,
   "id": "3fd6b275-f145-4f1a-90ac-de5c01036ab7",
   "metadata": {},
   "outputs": [
    {
     "name": "stdout",
     "output_type": "stream",
     "text": [
      "The factorial of 7 is 5040.\n",
      "The absolute value of -42 is 42.\n"
     ]
    }
   ],
   "source": [
    "fun main() {\n",
    "    println(formatResult(\"factorial\", 7, ::factorial))\n",
    "    println(formatResult(\"absolute value\", -42, ::abs))\n",
    "}\n",
    "main()"
   ]
  },
  {
   "cell_type": "code",
   "execution_count": 104,
   "id": "c5c03150-d993-43f1-a00f-1c74410f4104",
   "metadata": {},
   "outputs": [
    {
     "data": {
      "text/plain": [
       "The absolute of -42 is 42."
      ]
     },
     "execution_count": 104,
     "metadata": {},
     "output_type": "execute_result"
    }
   ],
   "source": [
    "formatResult(\"absolute\", -42,\n",
    "    fun(n: Int): Int { return if (n < 0) -n else n }\n",
    ")"
   ]
  },
  {
   "cell_type": "code",
   "execution_count": 105,
   "id": "35866844-dbbc-467a-a894-00805c38b74f",
   "metadata": {},
   "outputs": [
    {
     "data": {
      "text/plain": [
       "The absolute of -42 is 42."
      ]
     },
     "execution_count": 105,
     "metadata": {},
     "output_type": "execute_result"
    }
   ],
   "source": [
    "formatResult(\"absolute\", -42, { n -> if (n < 0) -n else n })"
   ]
  },
  {
   "cell_type": "code",
   "execution_count": 106,
   "id": "00d16260-5043-4a0c-a554-41b30d5fe0c9",
   "metadata": {},
   "outputs": [
    {
     "data": {
      "text/plain": [
       "The absolute of -42 is 42."
      ]
     },
     "execution_count": 106,
     "metadata": {},
     "output_type": "execute_result"
    }
   ],
   "source": [
    "formatResult(\"absolute\", -42, { if (it < 0) -it else it })"
   ]
  },
  {
   "cell_type": "markdown",
   "id": "9d58aa74-2705-4cf4-a781-6ea8c4989617",
   "metadata": {},
   "source": [
    "## 6.4 Funkcje Monomorficzne i Polimorficzne"
   ]
  },
  {
   "cell_type": "markdown",
   "id": "343eb7f2-4d04-4af7-b9f4-29898793aace",
   "metadata": {},
   "source": [
    "Funkcja `factorial` jest funkcją monomorficzną, przyjmuje tylko jeden typ argumentu."
   ]
  },
  {
   "cell_type": "markdown",
   "id": "aecf67f2-7fc5-4212-b1db-076c8259e5e6",
   "metadata": {},
   "source": [
    "Poniżej funkcja **monomorficzna** `findFirst` zwracająca indeks pierwszego wystąpienia elementu w tabeli `String`."
   ]
  },
  {
   "cell_type": "code",
   "execution_count": 39,
   "id": "c06f4340-d240-4395-b71c-7f166c53e10b",
   "metadata": {},
   "outputs": [
    {
     "data": {
      "text/plain": [
       "1"
      ]
     },
     "execution_count": 39,
     "metadata": {},
     "output_type": "execute_result"
    }
   ],
   "source": [
    "fun findFirstMonomorphic(ss: Array<String>, key: String): Int {\n",
    "    tailrec fun loop(n: Int): Int =\n",
    "        when {\n",
    "            n >= ss.size -> -1\n",
    "            ss[n] == key -> n\n",
    "            else -> loop(n + 1)\n",
    "        }\n",
    "    return loop(0)\n",
    "}\n",
    "\n",
    "val a = arrayOf(\"Rafał\", \"Robert\", \"Robert\")\n",
    "val s = \"Robert\"\n",
    "findFirstMonomorphic(a, s)"
   ]
  },
  {
   "cell_type": "code",
   "execution_count": 40,
   "id": "e0abbdc2-ccd6-440c-8b6b-f9233977c27b",
   "metadata": {},
   "outputs": [
    {
     "name": "stderr",
     "output_type": "stream",
     "text": [
      "Line_39.jupyter-kts (3:22 - 23) Type mismatch: inferred type is Array<Int> but Array<String> was expected\n",
      "Line_39.jupyter-kts (3:25 - 26) Type mismatch: inferred type is Int but String was expected"
     ]
    }
   ],
   "source": [
    "val a = arrayOf(1, 2, 3, 4)\n",
    "val s = 2\n",
    "findFirstMonomorphic(a, s)"
   ]
  },
  {
   "cell_type": "markdown",
   "id": "8c8db398-64a5-4fd4-924f-3906a72c31de",
   "metadata": {},
   "source": [
    "Taką funkcję możemy zmienić na funkcję **polimorficzną** pracującą na dowolnym typie."
   ]
  },
  {
   "cell_type": "code",
   "execution_count": 37,
   "id": "c222368b-08fd-456b-a712-3a4c36e83bd2",
   "metadata": {},
   "outputs": [
    {
     "data": {
      "text/plain": [
       "1"
      ]
     },
     "execution_count": 37,
     "metadata": {},
     "output_type": "execute_result"
    }
   ],
   "source": [
    "fun <A> findFirstPolimorphic(xs: Array<A>, p: (A) -> Boolean): Int {\n",
    "    tailrec fun loop(n: Int): Int =\n",
    "        when {\n",
    "            n >= xs.size -> -1\n",
    "            p(xs[n]) -> n\n",
    "            else -> loop(n + 1)\n",
    "    }\n",
    "        \n",
    "    return loop(0)\n",
    "}\n",
    "\n",
    "val a = arrayOf(\"Rafał\", \"Robert\", \"Robert\")\n",
    "findFirstPolimorphic(a, { it == \"Robert\"})"
   ]
  },
  {
   "cell_type": "code",
   "execution_count": 38,
   "id": "61b63eae-7cea-4212-89b7-010596733ab4",
   "metadata": {},
   "outputs": [
    {
     "data": {
      "text/plain": [
       "3"
      ]
     },
     "execution_count": 38,
     "metadata": {},
     "output_type": "execute_result"
    }
   ],
   "source": [
    "findFirstPolimorphic(arrayOf(1, 2, 3, 4), {it == 4})"
   ]
  },
  {
   "cell_type": "markdown",
   "id": "9b1f71ee-02d6-45eb-aba4-f213ca0a801f",
   "metadata": {},
   "source": [
    "Funkcja **polimorficzna** jest funkcją **generyczną**."
   ]
  }
 ],
 "metadata": {
  "kernelspec": {
   "display_name": "Kotlin",
   "language": "kotlin",
   "name": "kotlin"
  },
  "language_info": {
   "codemirror_mode": "text/x-kotlin",
   "file_extension": ".kt",
   "mimetype": "text/x-kotlin",
   "name": "kotlin",
   "nbconvert_exporter": "",
   "pygments_lexer": "kotlin",
   "version": "1.6.20-dev-6372"
  }
 },
 "nbformat": 4,
 "nbformat_minor": 5
}
