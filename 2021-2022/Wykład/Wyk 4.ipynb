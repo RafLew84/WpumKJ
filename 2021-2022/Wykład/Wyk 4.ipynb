{
 "cells": [
  {
   "cell_type": "markdown",
   "id": "3d358e90-bdfe-47f2-93dd-71795fed9244",
   "metadata": {},
   "source": [
    "# Wykład 4 - Wstęp do programowania funkcyjnego"
   ]
  },
  {
   "cell_type": "markdown",
   "id": "bf309e55-0ec5-42cf-8cbd-a4b9544939cd",
   "metadata": {},
   "source": [
    "Kotlin w pełni wspiera programowanie funkcjonalne. \n",
    "\n",
    "Sam paradygmat programowania funkcyjnego można podsumować jednym zdaniem. \n",
    "\n",
    "Programy są konstruowane wykorzystując tylko **czyste funkcje** nie posiadające **efektów ubocznych**."
   ]
  },
  {
   "cell_type": "markdown",
   "id": "4bd28fbb-2023-4f4f-acd1-9f6c50046707",
   "metadata": {},
   "source": [
    "Funkcja posiada efekty uboczne jeżeli:\n",
    "- modyfikuje zmienną poza blokiem w którym występuje\n",
    "- modyfikuje strukturę w miejscu\n",
    "- ustawia pole w obiekcie\n",
    "- rzuca wyjątek\n",
    "- drukuje na konsolę\n",
    "- czyta lub zapisuje do pliku"
   ]
  },
  {
   "cell_type": "code",
   "execution_count": null,
   "id": "eb51536e-7600-4c2c-9886-49e26af2eb61",
   "metadata": {},
   "outputs": [],
   "source": [
    "class Coffee(val price: Float = 45.0f)\n",
    "class CreditCard{\n",
    "    fun charge(price: Float){\n",
    "        // płatność kartą kredytową\n",
    "    }\n",
    "}\n",
    "\n",
    "class Restaurant{\n",
    "    fun buyCoffee(cc: CreditCard): Coffee{\n",
    "        val cup = Coffee()\n",
    "        cc.charge(cup.price) // efekt uboczny\n",
    "        return cup\n",
    "    }\n",
    "}"
   ]
  },
  {
   "cell_type": "markdown",
   "id": "e819a574-2aae-476e-89cc-16889531d238",
   "metadata": {},
   "source": [
    "`cc.charge(cup.price)` wymaga interakcji ze światem zewnętrznym. Funkcja zwraca `Coffee`, więc wykonanie płatności (wymagający połączenia z serwisem zewnętrznym) jest tutaj dodatkiem (instrukcją wykonaną na uboczu - efekt uboczny)."
   ]
  },
  {
   "cell_type": "markdown",
   "id": "eb21efe6-f766-4319-badc-11d91e9afa02",
   "metadata": {},
   "source": [
    "![alt text](coffee.png \"Title\")"
   ]
  },
  {
   "cell_type": "code",
   "execution_count": null,
   "id": "b3dc6fba-5204-4dc8-97eb-f2eb1375493c",
   "metadata": {},
   "outputs": [],
   "source": []
  }
 ],
 "metadata": {
  "kernelspec": {
   "display_name": "Kotlin",
   "language": "kotlin",
   "name": "kotlin"
  },
  "language_info": {
   "codemirror_mode": "text/x-kotlin",
   "file_extension": ".kt",
   "mimetype": "text/x-kotlin",
   "name": "kotlin",
   "nbconvert_exporter": "",
   "pygments_lexer": "kotlin",
   "version": "1.6.20-dev-6372"
  }
 },
 "nbformat": 4,
 "nbformat_minor": 5
}
