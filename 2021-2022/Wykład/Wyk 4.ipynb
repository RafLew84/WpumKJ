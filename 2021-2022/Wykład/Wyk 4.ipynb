{
 "cells": [
  {
   "cell_type": "markdown",
   "id": "3d358e90-bdfe-47f2-93dd-71795fed9244",
   "metadata": {},
   "source": [
    "# Wykład 4 - Elementy użyteczne"
   ]
  },
  {
   "cell_type": "markdown",
   "id": "1f2ef3ed-c2a4-48c4-a3ce-1a76a13f7c8b",
   "metadata": {
    "jp-MarkdownHeadingCollapsed": true,
    "tags": []
   },
   "source": [
    "## 4.1 Funkcje Rozszerzające\n",
    "\n",
    "Umożliwiają dodanie metod do istniejących klas - `String`, `Int`\n",
    "\n",
    "Podstawowa składnia\n",
    "\n",
    "`fun ReceiverType.extensionFunction() { ... }`"
   ]
  },
  {
   "cell_type": "code",
   "execution_count": 14,
   "id": "9d40632d-f8a3-4bb9-b149-d6a206c86d5e",
   "metadata": {},
   "outputs": [
    {
     "name": "stdout",
     "output_type": "stream",
     "text": [
      "'Hello World'\n",
      "\"Hello World\"\n"
     ]
    }
   ],
   "source": [
    "fun String.singleQuote() = \"'$this'\"\n",
    "fun String.doubleQuote() = \"\\\"$this\\\"\"\n",
    "\n",
    "println(\"Hello World\".singleQuote())\n",
    "println(\"Hello World\".doubleQuote())"
   ]
  },
  {
   "cell_type": "markdown",
   "id": "983dafd2-8d03-4ebe-b194-15ee3c4878e3",
   "metadata": {},
   "source": [
    "Funkcje rozszerzające są wywoływane tak jakby znajdowały się w ciele klasy rozszerzanej."
   ]
  },
  {
   "cell_type": "code",
   "execution_count": 15,
   "id": "a63590df-4cad-4f5a-bbd1-e4dc14678a59",
   "metadata": {},
   "outputs": [
    {
     "name": "stdout",
     "output_type": "stream",
     "text": [
      "''Hello World''\n",
      "\"\"Hello World\"\"\n"
     ]
    }
   ],
   "source": [
    "fun String.strangeQuote() = this.singleQuote().singleQuote()\n",
    "fun String.tooManyQuotes() = doubleQuote().doubleQuote()\n",
    "\n",
    "println(\"Hello World\".strangeQuote())\n",
    "println(\"Hello World\".tooManyQuotes())"
   ]
  },
  {
   "cell_type": "code",
   "execution_count": 16,
   "id": "e197d971-5467-4d74-b1ce-9ff0735a582c",
   "metadata": {},
   "outputs": [
    {
     "name": "stdout",
     "output_type": "stream",
     "text": [
      "title: \"Dracula\", category: Vampire\n"
     ]
    }
   ],
   "source": [
    "class Book(val title: String)\n",
    "\n",
    "fun Book.categorize(category: String) = \"\"\"title: \"$title\", category: $category\"\"\"\n",
    "\n",
    "println(Book(\"Dracula\").categorize(\"Vampire\"))"
   ]
  },
  {
   "cell_type": "markdown",
   "id": "d7c401cb-7ed6-44fd-afcf-b944a66c70fa",
   "metadata": {},
   "source": [
    "Funkcje rozszerzające mają dostęp tylko do publicznych właściwości klas rozszerzanych."
   ]
  },
  {
   "cell_type": "markdown",
   "id": "5455e636-bcd3-4209-b5ab-e51d628d2476",
   "metadata": {
    "jp-MarkdownHeadingCollapsed": true,
    "tags": []
   },
   "source": [
    "## 4.2 Argumenty z nazwą"
   ]
  },
  {
   "cell_type": "code",
   "execution_count": 18,
   "id": "77c35359-b2c0-40c6-9fb4-96b0febc7a6f",
   "metadata": {},
   "outputs": [
    {
     "name": "stdout",
     "output_type": "stream",
     "text": [
      "(1, 2, 3)\n",
      "(76, 89, 0)\n",
      "(52, 34, 0)\n"
     ]
    }
   ],
   "source": [
    "fun color(red: Int, green: Int, blue: Int) = \"($red, $green, $blue)\"\n",
    "\n",
    "println(color(1, 2, 3))\n",
    "\n",
    "val c = color(\n",
    "    red = 76,\n",
    "    green = 89,\n",
    "    blue = 0\n",
    ") \n",
    "\n",
    "println(c)\n",
    "\n",
    "println(color(52, 34, blue = 0))"
   ]
  },
  {
   "cell_type": "code",
   "execution_count": 19,
   "id": "58219a32-0007-4063-8d97-36ea69d08c58",
   "metadata": {},
   "outputs": [
    {
     "name": "stdout",
     "output_type": "stream",
     "text": [
      "(139, 0, 0)\n",
      "(0, 0, 139)\n",
      "(255, 165, 0)\n",
      "(128, 0, 128)\n"
     ]
    }
   ],
   "source": [
    "fun color(\n",
    "    red: Int = 0,\n",
    "    green: Int = 0,\n",
    "    blue: Int = 0,\n",
    ") = \"($red, $green, $blue)\"\n",
    "\n",
    "println(color(139))\n",
    "println(color(blue = 139))\n",
    "println(color(255, 165))\n",
    "println(color(red = 128, blue = 128))"
   ]
  },
  {
   "cell_type": "code",
   "execution_count": 20,
   "id": "1d02a53d-61ee-4dc1-a1e0-e601b2e3cc4e",
   "metadata": {},
   "outputs": [
    {
     "name": "stdout",
     "output_type": "stream",
     "text": [
      "[1, 2, 3]\n",
      "1, 2, 3\n",
      "(1, 2, 3)\n",
      "1:2:3\n"
     ]
    }
   ],
   "source": [
    "val list = listOf(1, 2, 3,)\n",
    "println(list.toString())\n",
    "println(list.joinToString())\n",
    "println(list.joinToString(prefix = \"(\", postfix = \")\"))\n",
    "println(list.joinToString(separator = \":\"))"
   ]
  },
  {
   "cell_type": "code",
   "execution_count": 21,
   "id": "992b8ae3-05e6-41a4-812a-6f64e13629b9",
   "metadata": {},
   "outputs": [
    {
     "name": "stdout",
     "output_type": "stream",
     "text": [
      "1. 2. 3!\n",
      "1. 2. 3!\n"
     ]
    }
   ],
   "source": [
    "println(list.joinToString(\". \", \"\", \"!\"))\n",
    "println(list.joinToString(separator = \". \", postfix = \"!\"))"
   ]
  },
  {
   "cell_type": "markdown",
   "id": "cdd40f59-cf99-43db-8e74-6a195aae637a",
   "metadata": {
    "jp-MarkdownHeadingCollapsed": true,
    "tags": []
   },
   "source": [
    "## 4.3 Enumerate"
   ]
  },
  {
   "cell_type": "code",
   "execution_count": 28,
   "id": "baf25da8-9705-48aa-846c-c425557c0ecf",
   "metadata": {},
   "outputs": [
    {
     "name": "stdout",
     "output_type": "stream",
     "text": [
      "Medium\n"
     ]
    }
   ],
   "source": [
    "enum class Level {\n",
    "    Overflow, High, Medium, Low, Empty\n",
    "}\n",
    "\n",
    "println(Level.Medium) // niejawnie wywołana metoda toString()"
   ]
  },
  {
   "cell_type": "code",
   "execution_count": 33,
   "id": "2cb8dee0-0b29-43c4-b910-c2ea828c8d6b",
   "metadata": {},
   "outputs": [
    {
     "name": "stdout",
     "output_type": "stream",
     "text": [
      "N\n",
      "South\n",
      "West\n"
     ]
    }
   ],
   "source": [
    "enum class Direction(val notation: String) {\n",
    "    North(\"N\"), South(\"S\"), East(\"E\"), West(\"W\"); // średnik\n",
    "    \n",
    "    val opposite: Direction\n",
    "        get() = when (this) {\n",
    "                North -> South\n",
    "                South -> North\n",
    "                West -> East\n",
    "                East -> West\n",
    "        }\n",
    "}\n",
    "\n",
    "println(Direction.North.notation)\n",
    "println(Direction.North.opposite)\n",
    "println(Direction.West.opposite.opposite)"
   ]
  },
  {
   "cell_type": "markdown",
   "id": "4bf4b684-3322-48e8-b009-1219ddc28dbe",
   "metadata": {
    "jp-MarkdownHeadingCollapsed": true,
    "tags": []
   },
   "source": [
    "## 4.4 Deklaracja destrukturyzująca"
   ]
  },
  {
   "cell_type": "code",
   "execution_count": 34,
   "id": "f014b35c-6407-4a91-80f3-fe6f2407ac9a",
   "metadata": {},
   "outputs": [
    {
     "name": "stdout",
     "output_type": "stream",
     "text": [
      "(14, High)\n",
      "(8, Low)\n",
      "10\n",
      "Low\n"
     ]
    }
   ],
   "source": [
    "fun compute(input: Int): Pair<Int, String> =\n",
    "    if (input > 5)\n",
    "        Pair(input * 2, \"High\")\n",
    "    else\n",
    "        Pair(input * 2, \"Low\")\n",
    "        \n",
    "println(compute(7))\n",
    "println(compute(4))\n",
    "val result = compute(5)\n",
    "println(result.first)\n",
    "println(result.second)"
   ]
  },
  {
   "cell_type": "code",
   "execution_count": 36,
   "id": "7350cb24-5540-4a21-9f04-93686d8c570d",
   "metadata": {},
   "outputs": [
    {
     "name": "stdout",
     "output_type": "stream",
     "text": [
      "14\n",
      "High\n"
     ]
    }
   ],
   "source": [
    "val (v, d) = compute(7)\n",
    "\n",
    "println(v)\n",
    "println(d)"
   ]
  },
  {
   "cell_type": "markdown",
   "id": "dd802dca-ed44-44b8-9c24-768f598ccaf0",
   "metadata": {},
   "source": [
    "`data class` domyślnie zezwalają na deklaracje destrukturyzujące"
   ]
  },
  {
   "cell_type": "code",
   "execution_count": 39,
   "id": "22c8ed43-22de-475c-b747-861dc8d6b892",
   "metadata": {},
   "outputs": [
    {
     "name": "stdout",
     "output_type": "stream",
     "text": [
      "14\n",
      "High\n"
     ]
    }
   ],
   "source": [
    "data class Computation(\n",
    "    val number: Int,\n",
    "    val info: String\n",
    ")\n",
    "fun evaluate(input: Int) =\n",
    "    if (input > 5)\n",
    "        Computation(input * 2, \"High\")\n",
    "    else\n",
    "        Computation(input * 2, \"Low\")\n",
    "\n",
    "val (v, d) = evaluate(7)\n",
    "println(v)\n",
    "println(d)"
   ]
  },
  {
   "cell_type": "code",
   "execution_count": 44,
   "id": "1241d763-908b-4d98-a586-c3044c40a375",
   "metadata": {},
   "outputs": [
    {
     "name": "stdout",
     "output_type": "stream",
     "text": [
      "1\n",
      "3.14\n",
      "Mouse\n",
      "false\n",
      "[]\n"
     ]
    }
   ],
   "source": [
    "data class Tuple(\n",
    "    val i: Int,\n",
    "    val d: Double,\n",
    "    val s: String,\n",
    "    val b: Boolean,\n",
    "    val l: List<Int>\n",
    ")\n",
    "\n",
    "val tuple = Tuple(1, 3.14, \"Mouse\", false, listOf())\n",
    "val (i, d, s, b, l) = tuple\n",
    "println(i)\n",
    "println(d)\n",
    "println(s)\n",
    "println(b)\n",
    "println(l)"
   ]
  },
  {
   "cell_type": "code",
   "execution_count": 43,
   "id": "f8ee787d-d202-4885-9cb6-12188a02bb08",
   "metadata": {},
   "outputs": [
    {
     "name": "stdout",
     "output_type": "stream",
     "text": [
      "Mouse\n"
     ]
    }
   ],
   "source": [
    "val (_, _, animal) = tuple\n",
    "println(animal)"
   ]
  },
  {
   "cell_type": "code",
   "execution_count": 45,
   "id": "b45bff18-1436-4253-a40b-b639fd38412a",
   "metadata": {},
   "outputs": [
    {
     "name": "stdout",
     "output_type": "stream",
     "text": [
      "2\n",
      "x\n",
      "[1, 2, 3, 4]\n"
     ]
    }
   ],
   "source": [
    "val (a, b, c) = Triple(2, \"x\", listOf(1, 2, 3, 4))\n",
    "println(a)\n",
    "println(b)\n",
    "println(c)"
   ]
  },
  {
   "cell_type": "code",
   "execution_count": 46,
   "id": "347c1caf-4a8f-48f3-9cea-c6a5d8ada075",
   "metadata": {},
   "outputs": [
    {
     "name": "stdout",
     "output_type": "stream",
     "text": [
      "{1=Rafał, 2=Robert, 3=Ania, 4=Michał, 5=Radek, 6=Roman, 7=Renata, 8=Kamila, 9=Tomasz, 10=Jeremiasz}\n"
     ]
    }
   ],
   "source": [
    "val map = mutableMapOf<Int,String>()\n",
    "map.put(1,\"Rafał\")\n",
    "map.put(2,\"Robert\")\n",
    "map.put(3,\"Ania\")\n",
    "map.put(4,\"Michał\")\n",
    "map.put(5,\"Radek\")\n",
    "map.put(6,\"Roman\")\n",
    "map.put(7,\"Renata\")\n",
    "map.put(8,\"Kamila\")\n",
    "map.put(9,\"Tomasz\")\n",
    "map.put(10,\"Jeremiasz\")\n",
    "\n",
    "println(map)"
   ]
  },
  {
   "cell_type": "code",
   "execution_count": 47,
   "id": "e8c0adaf-1231-46fd-976f-f921d39a898c",
   "metadata": {},
   "outputs": [
    {
     "name": "stdout",
     "output_type": "stream",
     "text": [
      "{1=Hello Rafał, 2=Hello Robert, 3=Hello Ania, 4=Hello Michał, 5=Hello Radek, 6=Hello Roman, 7=Hello Renata, 8=Hello Kamila, 9=Hello Tomasz, 10=Hello Jeremiasz}\n"
     ]
    }
   ],
   "source": [
    "val newmap = map.mapValues { (key,value) -> \"Hello ${value}\" }\n",
    "println(newmap)"
   ]
  },
  {
   "cell_type": "code",
   "execution_count": 53,
   "id": "fef54273-4375-4fff-b8ad-7bf615ed3b45",
   "metadata": {},
   "outputs": [
    {
     "name": "stdout",
     "output_type": "stream",
     "text": [
      "2\n",
      "x\n"
     ]
    }
   ],
   "source": [
    "val (a, b) = Triple(2, \"x\", listOf(1, 2, 3, 4))\n",
    "println(a)\n",
    "println(b)"
   ]
  },
  {
   "cell_type": "code",
   "execution_count": 58,
   "id": "08ca7a53-843e-489d-b455-ec69cd7817ef",
   "metadata": {},
   "outputs": [
    {
     "name": "stdout",
     "output_type": "stream",
     "text": [
      "[one]\n",
      "[two, three]\n"
     ]
    }
   ],
   "source": [
    "fun <T> List<T>.destruct() = Pair(take(1), drop(1))\n",
    "val (first, rest) = listOf(\"one\", \"two\", \"three\").destruct()\n",
    "\n",
    "println(first)\n",
    "println(rest)"
   ]
  },
  {
   "cell_type": "code",
   "execution_count": 63,
   "id": "2b0db877-2679-4f8d-bc3b-357d983f917e",
   "metadata": {},
   "outputs": [
    {
     "name": "stdout",
     "output_type": "stream",
     "text": [
      "name :Rafał\n",
      "emailId :rafal.lewandkow@uwredu.pl\n",
      "comments :komentarz\n",
      "\n",
      "name :Rafał\n",
      "emailId :rafal.lewandkow2@uwredu.pl\n",
      "comments :drugie konto\n",
      "\n"
     ]
    }
   ],
   "source": [
    "data class UserFeedback(\n",
    "    val name: String,\n",
    "    val email: String,\n",
    "    val comments: String\n",
    ")\n",
    "\n",
    "val user1 = UserFeedback(\"Rafał\", \"rafal.lewandkow@uwredu.pl\", \"komentarz\")\n",
    "val user2 = UserFeedback(\"Rafał\", \"rafal.lewandkow2@uwredu.pl\", \"drugie konto\")\n",
    "val list = arrayOf(user1, user2)\n",
    "for ((name, emailId, comments) in list) {\n",
    "    println(\"name :\" + name)\n",
    "    println(\"emailId :\" + emailId)\n",
    "    println(\"comments :\" + comments)\n",
    "    println()\n",
    "}"
   ]
  },
  {
   "cell_type": "code",
   "execution_count": 65,
   "id": "b6aa4779-4eb0-462c-a37c-5600e49ab90b",
   "metadata": {},
   "outputs": [
    {
     "name": "stdout",
     "output_type": "stream",
     "text": [
      "key :one\n",
      "value :1\n",
      "\n",
      "key :two\n",
      "value :2\n",
      "\n",
      "key :three\n",
      "value :3\n",
      "\n"
     ]
    }
   ],
   "source": [
    "val numbersMap = mapOf(\"one\" to 1, \"two\" to 2, \"three\" to 3)\n",
    "for ((key, value) in numbersMap) {\n",
    "    println(\"key :\" + key)\n",
    "    println(\"value :\" + value)\n",
    "    println()\n",
    "}  "
   ]
  },
  {
   "cell_type": "code",
   "execution_count": 67,
   "id": "3d97e4fc-168c-41a2-b970-9b068086d830",
   "metadata": {},
   "outputs": [
    {
     "name": "stdout",
     "output_type": "stream",
     "text": [
      "name :Rafał\n",
      "emailId :rafal.lewandkow@uwredu.pl\n",
      "comments :komentarz\n"
     ]
    }
   ],
   "source": [
    "fun getFeedback() : UserFeedback {\n",
    "    val userFeedback = UserFeedback(\"Rafał\", \"rafal.lewandkow@uwredu.pl\", \"komentarz\")\n",
    "    return userFeedback;\n",
    "}\n",
    "\n",
    "val userFeedback = getFeedback();\n",
    "println(\"name :\" + userFeedback.name)\n",
    "println(\"emailId :\" + userFeedback.email)\n",
    "println(\"comments :\" + userFeedback.comments)"
   ]
  },
  {
   "cell_type": "markdown",
   "id": "35491157-b4d4-475a-b9a3-57ddcf859afe",
   "metadata": {
    "tags": []
   },
   "source": [
    "## 4.5 Wstęp do Generyków"
   ]
  },
  {
   "cell_type": "code",
   "execution_count": 71,
   "id": "3fddbba1-92e3-414c-9940-33aeb59c05af",
   "metadata": {},
   "outputs": [
    {
     "name": "stdout",
     "output_type": "stream",
     "text": [
      "Student(name=Rafał, index=210472)\n",
      "Student\n",
      "GenericHolder\n",
      "1\n",
      "Rafał\n"
     ]
    }
   ],
   "source": [
    "class GenericHolder<T>(\n",
    "    private val value: T\n",
    ") {\n",
    "    fun getValue(): T = value\n",
    "}\n",
    "\n",
    "data class Student(\n",
    "    val name: String,\n",
    "    val index: Int\n",
    ")\n",
    "\n",
    "val g1 = GenericHolder(Student(\"Rafał\", 210472))\n",
    "val a: Student = g1.getValue()\n",
    "println(a)\n",
    "println(a::class.simpleName)\n",
    "println(g1::class.simpleName)\n",
    "\n",
    "val g2 = GenericHolder(1)\n",
    "val i: Int = g2.getValue()\n",
    "println(i)\n",
    "\n",
    "val g3 = GenericHolder(\"Rafał\")\n",
    "val s: String = g3.getValue()\n",
    "println(s)\n"
   ]
  },
  {
   "cell_type": "code",
   "execution_count": 72,
   "id": "b6d37c2b-e88e-4391-85c8-1b86ad4259b0",
   "metadata": {},
   "outputs": [
    {
     "name": "stdout",
     "output_type": "stream",
     "text": [
      "Yellow\n",
      "1\n",
      "Student(name=Rafał, index=210472)\n"
     ]
    }
   ],
   "source": [
    "fun <T> identity(arg: T): T = arg\n",
    "\n",
    "println(identity(\"Yellow\"))\n",
    "println(identity(1))\n",
    "val d: Student = identity(Student(\"Rafał\", 210472))\n",
    "println(d)\n"
   ]
  },
  {
   "cell_type": "code",
   "execution_count": 76,
   "id": "a9695bf7-aaa8-4ad0-b625-1621db235829",
   "metadata": {},
   "outputs": [
    {
     "name": "stdout",
     "output_type": "stream",
     "text": [
      "9\n",
      "1\n",
      "null\n"
     ]
    }
   ],
   "source": [
    "fun <T> List<T>.first(): T {\n",
    "    if (isEmpty())\n",
    "        throw NoSuchElementException(\"Empty List\")\n",
    "    return this[0]\n",
    "}\n",
    "\n",
    "fun <T> List<T>.firstOrNull(): T? =\n",
    "    if (isEmpty()) null else this[0]\n",
    "\n",
    "val j = listOf(9, 2, 3).first()\n",
    "val i: Int? = listOf(1, 2, 3).firstOrNull()\n",
    "\n",
    "val s: String? = listOf<String>().firstOrNull()\n",
    "\n",
    "println(j)\n",
    "println(i)\n",
    "println(s)"
   ]
  },
  {
   "cell_type": "markdown",
   "id": "4911cefb-eb7f-4370-8681-bc02017c7907",
   "metadata": {
    "tags": []
   },
   "source": [
    "## 4.6 Czytanie plików"
   ]
  },
  {
   "cell_type": "markdown",
   "id": "838aa0dd-a940-4b9a-bfbd-24685b1ce2aa",
   "metadata": {},
   "source": [
    "- `forEachLine` - czyta plik linia po linii (domyślnie UTF-8) i wykonuje akcję na każdym elemencie"
   ]
  },
  {
   "cell_type": "code",
   "execution_count": 83,
   "id": "60ffc634-9afb-45ff-83b9-2eab3805b698",
   "metadata": {},
   "outputs": [
    {
     "name": "stdout",
     "output_type": "stream",
     "text": [
      "test\n",
      "1\n",
      "2\n",
      "3\n",
      "3\n",
      "4\n",
      "5\n",
      "6\n",
      "6\n",
      "Rafał\n"
     ]
    }
   ],
   "source": [
    "import java.io.File\n",
    "File(\"example.txt\").forEachLine { println(it) }"
   ]
  },
  {
   "cell_type": "markdown",
   "id": "2214862d-76ff-46e6-9b3e-dae0d928a14a",
   "metadata": {},
   "source": [
    " - `useLines` - podstawowa składnia `inline fun <T> File.useLines(\n",
    "    charset: Charset = Charsets.UTF_8,\n",
    "    block: (Sequence<String>) -> T\n",
    "): T` przekazuje sekwencję wszystkich linii do wywołania `block`"
   ]
  },
  {
   "cell_type": "code",
   "execution_count": 95,
   "id": "d9b2bc46-0973-41ec-8e97-8170620fff1a",
   "metadata": {},
   "outputs": [
    {
     "name": "stdout",
     "output_type": "stream",
     "text": [
      "[test, 1, 2, 3, 3, 4, 5, 6, 6, Rafał]"
     ]
    }
   ],
   "source": [
    "val a = File(\"example.txt\").useLines { it.toList() }\n",
    "print(a)"
   ]
  },
  {
   "cell_type": "markdown",
   "id": "6b1f39aa-4caf-4034-aab5-e4d62eb50ccf",
   "metadata": {},
   "source": [
    "- `bufferedReader` - wykorzystuje bufor do efektywnego odczytywania strumienia symboli"
   ]
  },
  {
   "cell_type": "code",
   "execution_count": 96,
   "id": "d138a84e-f2e0-478a-9e9b-7635ae2385e3",
   "metadata": {},
   "outputs": [
    {
     "name": "stdout",
     "output_type": "stream",
     "text": [
      "[test, 1, 2, 3, 3, 4, 5, 6, 6, Rafał]\n",
      "ArrayList\n"
     ]
    }
   ],
   "source": [
    "val c = File(\"example.txt\").bufferedReader().readLines()\n",
    "println(c)\n",
    "println(c::class.simpleName)"
   ]
  },
  {
   "cell_type": "code",
   "execution_count": 90,
   "id": "73c0e0ed-fb15-4c2c-9a23-aa48162d29d3",
   "metadata": {},
   "outputs": [
    {
     "data": {
      "text/plain": [
       "[test, 1, 2, 3, 3, 4, 5, 6, 6, Rafał]"
      ]
     },
     "execution_count": 90,
     "metadata": {},
     "output_type": "execute_result"
    }
   ],
   "source": [
    "File(\"example.txt\").readLines()"
   ]
  },
  {
   "cell_type": "code",
   "execution_count": 92,
   "id": "8712b904-b604-4d46-a8d9-be1600a16d81",
   "metadata": {},
   "outputs": [
    {
     "data": {
      "text/plain": [
       "test\n",
       "1\n",
       "2\n",
       "3\n",
       "3\n",
       "4\n",
       "5\n",
       "6\n",
       "6\n",
       "Rafał"
      ]
     },
     "execution_count": 92,
     "metadata": {},
     "output_type": "execute_result"
    }
   ],
   "source": [
    "File(\"example.txt\").readText(Charsets.UTF_8)"
   ]
  },
  {
   "cell_type": "markdown",
   "id": "b98c50fa-b1a6-4156-bf76-f1f781b4e7b6",
   "metadata": {},
   "source": [
    "## 4.7 lateinit, lazy init"
   ]
  },
  {
   "cell_type": "code",
   "execution_count": 3,
   "id": "a12f12a9-b153-4d0f-87e7-1574b5cc1b4c",
   "metadata": {},
   "outputs": [],
   "source": [
    "data class Student (val index : Int,\n",
    "                 val name : String)"
   ]
  },
  {
   "cell_type": "code",
   "execution_count": 10,
   "id": "a44e3fe1-08f9-4e3a-ae74-e97ec4e13db4",
   "metadata": {},
   "outputs": [
    {
     "name": "stderr",
     "output_type": "stream",
     "text": [
      "Line_9.jupyter-kts (1:1 - 21) Property must be initialized or be abstract"
     ]
    }
   ],
   "source": [
    "var student: Student"
   ]
  },
  {
   "cell_type": "code",
   "execution_count": 11,
   "id": "4b7dc0af-0e22-40ff-9292-572e8f3d62b4",
   "metadata": {},
   "outputs": [],
   "source": [
    "lateinit var lateinitStudent : Student"
   ]
  },
  {
   "cell_type": "code",
   "execution_count": 12,
   "id": "647c51b8-509b-47c4-9406-bc5cda8f357c",
   "metadata": {},
   "outputs": [
    {
     "name": "stdout",
     "output_type": "stream",
     "text": [
      "Student(index=210472, name=Rafał)\n"
     ]
    }
   ],
   "source": [
    "lateinitStudent = Student(210472, \"Rafał\")\n",
    "println(lateinitStudent)"
   ]
  },
  {
   "cell_type": "code",
   "execution_count": 13,
   "id": "e8e50b24-fc34-4658-8f31-ddc69876119e",
   "metadata": {},
   "outputs": [
    {
     "name": "stderr",
     "output_type": "stream",
     "text": [
      "Line_12.jupyter-kts (1:1 - 24) Property must be initialized or be abstract"
     ]
    }
   ],
   "source": [
    "val valStudent: Student"
   ]
  },
  {
   "cell_type": "code",
   "execution_count": 14,
   "id": "2dd11d24-c75d-4989-b802-94beba2ae6d9",
   "metadata": {},
   "outputs": [
    {
     "name": "stderr",
     "output_type": "stream",
     "text": [
      "Line_13.jupyter-kts (1:1 - 9) 'lateinit' modifier is allowed only on mutable properties"
     ]
    }
   ],
   "source": [
    "lateinit val valStudent: Student"
   ]
  },
  {
   "cell_type": "code",
   "execution_count": 16,
   "id": "0d2ae0fa-9f5e-444a-a184-2e7a6443f42e",
   "metadata": {},
   "outputs": [
    {
     "name": "stdout",
     "output_type": "stream",
     "text": [
      "Student(index=210472, name=Rafał)\n"
     ]
    }
   ],
   "source": [
    "val valStudent: Student by lazy{\n",
    "    Student(210472, \"Rafał\")\n",
    "}\n",
    "println(valStudent)"
   ]
  },
  {
   "cell_type": "code",
   "execution_count": 23,
   "id": "295f2b63-8426-465c-9dcb-f29982d89d1b",
   "metadata": {},
   "outputs": [
    {
     "name": "stdout",
     "output_type": "stream",
     "text": [
      "Student(index=210472, name=Rafał)\n",
      "SynchronizedLazyImpl\n"
     ]
    }
   ],
   "source": [
    "val lazyStudentDelegate = lazy { \n",
    "    Student(index = 210472, \n",
    "    name = \"Rafał\") }\n",
    "\n",
    "val lazyStudent by lazyStudentDelegate\n",
    "\n",
    "println(lazyStudent)\n",
    "println(lazyStudentDelegate::class.simpleName)"
   ]
  },
  {
   "cell_type": "code",
   "execution_count": 25,
   "id": "62a9adf0-fec7-4f99-9987-91b6782f9d87",
   "metadata": {},
   "outputs": [],
   "source": [
    "// lateinit var lateinitStudent : Student? \n",
    "val lazyStudent : Student? by lazy {\n",
    "        Student(index = 210472, name = \"Rafał\")\n",
    "    }"
   ]
  }
 ],
 "metadata": {
  "kernelspec": {
   "display_name": "Kotlin",
   "language": "kotlin",
   "name": "kotlin"
  },
  "language_info": {
   "codemirror_mode": "text/x-kotlin",
   "file_extension": ".kt",
   "mimetype": "text/x-kotlin",
   "name": "kotlin",
   "nbconvert_exporter": "",
   "pygments_lexer": "kotlin",
   "version": "1.6.20-dev-6372"
  }
 },
 "nbformat": 4,
 "nbformat_minor": 5
}
