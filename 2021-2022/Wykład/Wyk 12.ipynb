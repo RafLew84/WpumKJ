{
 "cells": [
  {
   "cell_type": "markdown",
   "id": "93a71401-e332-4240-b8e5-43682649a67c",
   "metadata": {},
   "source": [
    "# Wykład 12 - Wielowątkowość - Podstawy"
   ]
  },
  {
   "cell_type": "markdown",
   "id": "8d5b106e-12cc-4e58-8528-ab712fd61b48",
   "metadata": {},
   "source": [
    "## 12.0 Model pamięci - podstawy"
   ]
  },
  {
   "cell_type": "markdown",
   "id": "078fa44d-38ca-47ba-8db9-555d652988f1",
   "metadata": {},
   "source": [
    "<img src=\"mem.png\" width=\"450\"/>"
   ]
  },
  {
   "cell_type": "markdown",
   "id": "f208cb85-f6eb-438b-9bed-4d908b8e6334",
   "metadata": {},
   "source": [
    "<img src=\"mem2.png\" width=\"450\"/>"
   ]
  },
  {
   "cell_type": "code",
   "execution_count": null,
   "id": "1281e745-a178-452f-938f-a545da70439f",
   "metadata": {},
   "outputs": [],
   "source": [
    "package Memory;\n",
    "\n",
    "public class MyRunnable implements Runnable {\n",
    "\n",
    "    private int count = 0;\n",
    "\n",
    "    @Override\n",
    "    public void run() {\n",
    "        for(int i = 0; i < 10000; i++)\n",
    "            this.count++;\n",
    "        System.out.println(Thread.currentThread().getName() + \" : \" + this.count);\n",
    "    }\n",
    "}\n"
   ]
  },
  {
   "cell_type": "code",
   "execution_count": null,
   "id": "9fb5c001-8adc-426a-befb-1953969abaca",
   "metadata": {},
   "outputs": [],
   "source": [
    "package Memory;\n",
    "\n",
    "public class TwoSeparateObjects {\n",
    "\n",
    "    public static void main(String[] args) {\n",
    "        Runnable runnable1 = new MyRunnable();\n",
    "        Runnable runnable2 = new MyRunnable();\n",
    "\n",
    "        Thread thread1 = new Thread(runnable1, \"Thread1\");\n",
    "        Thread thread2 = new Thread(runnable2, \"Thread2\");\n",
    "\n",
    "        thread1.start();\n",
    "        thread2.start();\n",
    "\n",
    "    }\n",
    "}\n"
   ]
  },
  {
   "cell_type": "code",
   "execution_count": null,
   "id": "1e582d11-58b9-47b0-92f7-a2dec2df8ea6",
   "metadata": {},
   "outputs": [],
   "source": [
    "package Memory;\n",
    "\n",
    "public class SharedObject {\n",
    "    public static void main(String[] args) {\n",
    "        Runnable runnable = new MyRunnable();\n",
    "\n",
    "        Thread thread1 = new Thread(runnable, \"Thread1\");\n",
    "        Thread thread2 = new Thread(runnable, \"Thread2\");\n",
    "\n",
    "        thread1.start();\n",
    "        thread2.start();\n",
    "    }\n",
    "}\n"
   ]
  },
  {
   "cell_type": "markdown",
   "id": "b6da7325-5fda-42a1-89cc-2ac6e8970fa6",
   "metadata": {},
   "source": [
    "<img src=\"cpu.png\" width=\"450\"/>"
   ]
  },
  {
   "cell_type": "markdown",
   "id": "c4776249-f7c3-4b98-90e3-6fb95f2e57c9",
   "metadata": {},
   "source": [
    "## 12.1 `synchronized`"
   ]
  },
  {
   "cell_type": "code",
   "execution_count": null,
   "id": "a6ab8880-ee4b-492b-9341-69c97bea0650",
   "metadata": {},
   "outputs": [],
   "source": [
    "public class SynchronizedClass {\n",
    "    protected Object object = null;\n",
    "    \n",
    "    // tylko jeden wątek może wykonać metodę synchronized na raz\n",
    "    // na instancji klasy\n",
    "    public synchronized void setObject(Object o){\n",
    "        this.object = o;\n",
    "    }\n",
    "    \n",
    "    public synchronized Object getObject(){\n",
    "        return this.object;\n",
    "    }\n",
    "    \n",
    "    public void setObj(Object o){\n",
    "        // tylko jeden wątek może wykonać blok synchronized na raz\n",
    "        // na instancji klasy\n",
    "        synchronized(this){\n",
    "            this.object = o;\n",
    "        }\n",
    "    }\n",
    "    \n",
    "    public Object getObj(){\n",
    "        synchronized(this){\n",
    "            return this.object;\n",
    "        }\n",
    "    }\n",
    "}"
   ]
  },
  {
   "cell_type": "markdown",
   "id": "99a4dcfd-08e9-434a-8ea6-b6c145cfe7f4",
   "metadata": {},
   "source": [
    "![Synchronized](synchClass.png)"
   ]
  },
  {
   "cell_type": "markdown",
   "id": "c05aad68-2e25-4d0a-99b1-86544035ab8e",
   "metadata": {},
   "source": [
    "Jeżeli `Thread1` aktualnie wykonuje metodę `setObject`, `Thread2` nie może wykonać `getObject`."
   ]
  },
  {
   "cell_type": "markdown",
   "id": "72f8b92b-5304-4276-896c-53d031510e00",
   "metadata": {},
   "source": [
    "![Synchronized](synchClassinstances.png)"
   ]
  },
  {
   "cell_type": "code",
   "execution_count": null,
   "id": "b895a4d6-08b1-4d17-82d4-e2d94abd2b19",
   "metadata": {},
   "outputs": [],
   "source": [
    "public class StaticSynchronizedClass {\n",
    "    protected static Object object = null;\n",
    "\n",
    "    // tylko jeden wątek może wykonać metodę synchronized na raz\n",
    "    public static synchronized void setObject(Object o){\n",
    "        object = o;\n",
    "    }\n",
    "\n",
    "    public static synchronized Object getObject(){\n",
    "        return object;\n",
    "    }\n",
    "\n",
    "    public static void setObj(Object o){\n",
    "        // tylko jeden wątek może wykonać blok synchronized na raz\n",
    "        synchronized(StaticSynchronizedClass.class){\n",
    "            this.object = o;\n",
    "        }\n",
    "    }\n",
    "\n",
    "    public static Object getObj(){\n",
    "        synchronized(StaticSynchronizedClass.class){\n",
    "            return this.object;\n",
    "        }\n",
    "    }\n",
    "}"
   ]
  },
  {
   "cell_type": "markdown",
   "id": "1bd92fcf-7760-47e1-86b3-46a6fa5fc61d",
   "metadata": {},
   "source": [
    "![Synchronized](staticSynchClass.png)"
   ]
  },
  {
   "cell_type": "markdown",
   "id": "52281a8e-b1f0-48a4-94d0-add7c298c37d",
   "metadata": {},
   "source": [
    "Ograniczenia\n",
    "- tylko jeden wątek może wykonywać metodę lub blok `synchronized`\n",
    "- brak kontroli nad wątkami oczekującymi"
   ]
  },
  {
   "cell_type": "markdown",
   "id": "7e7b692a-50df-48ac-a43a-7e8c367df157",
   "metadata": {},
   "source": [
    "## 12.2 Concurrency vs Parallelism"
   ]
  },
  {
   "cell_type": "markdown",
   "id": "c42c9d14-7a3f-46cd-b0f8-32d0ced4c5e2",
   "metadata": {},
   "source": [
    "- Concurrency\n",
    "- Parallel Execution\n",
    "- Parallel Concurrent Execution\n",
    "- Parallelism"
   ]
  },
  {
   "cell_type": "markdown",
   "id": "b2510c89-d8c6-4a20-a32b-64dfafa89cfd",
   "metadata": {},
   "source": [
    "### Concurency"
   ]
  },
  {
   "cell_type": "markdown",
   "id": "9d6b1168-b6af-48b5-b707-50df013acf56",
   "metadata": {},
   "source": [
    "![Synchronized](conc.png)"
   ]
  },
  {
   "cell_type": "markdown",
   "id": "6ac03cd7-fb95-495d-a8d2-f846c66fc1f2",
   "metadata": {},
   "source": [
    "### Parallel Execution"
   ]
  },
  {
   "cell_type": "markdown",
   "id": "a660e749-1612-46b2-98bb-e1f2b158df1c",
   "metadata": {},
   "source": [
    "![Synchronized](parExec.png)"
   ]
  },
  {
   "cell_type": "markdown",
   "id": "9afcddba-e8e2-4efc-aa1b-8853388d5e3e",
   "metadata": {},
   "source": [
    "### Parallel Concurrent Execution"
   ]
  },
  {
   "cell_type": "markdown",
   "id": "8d1def22-2744-4493-b6bb-6a10db4c5ead",
   "metadata": {},
   "source": [
    "![Synchronized](parConcExec.png)"
   ]
  },
  {
   "cell_type": "markdown",
   "id": "cf1d1296-3d9d-4f8a-b7e9-4609032042d4",
   "metadata": {},
   "source": [
    "### Parallelism"
   ]
  },
  {
   "cell_type": "markdown",
   "id": "3a282f80-6060-4a3a-8477-eee808028acb",
   "metadata": {},
   "source": [
    "![Synchronized](par.png)"
   ]
  },
  {
   "cell_type": "markdown",
   "id": "c8504de6-8a06-4924-b6bb-2959d7704961",
   "metadata": {},
   "source": [
    "### AsyncTask"
   ]
  },
  {
   "cell_type": "markdown",
   "id": "8d952849-a715-4fb9-98c4-8bfdfe5e0f89",
   "metadata": {},
   "source": [
    "![Synchronized](async.png)"
   ]
  },
  {
   "cell_type": "markdown",
   "id": "fb591659-2177-4fe2-a1a6-424b8f2a1d4d",
   "metadata": {},
   "source": [
    "## 12.3 `ThreadPool`"
   ]
  },
  {
   "cell_type": "markdown",
   "id": "c3c27e7a-ff98-43a7-8fec-930c23a388fc",
   "metadata": {},
   "source": [
    "![threadPool](threadPool.png)"
   ]
  },
  {
   "cell_type": "code",
   "execution_count": null,
   "id": "c6f1fa86-8d8c-42d6-b7c3-ec8bd4a4bc17",
   "metadata": {},
   "outputs": [],
   "source": [
    "[Źródło](https://jenkov.com/tutorials/java-concurrency/thread-pools.html)\n",
    "\n",
    "import java.util.ArrayList;\n",
    "import java.util.List;\n",
    "import java.util.concurrent.ArrayBlockingQueue;\n",
    "import java.util.concurrent.BlockingQueue;\n",
    "\n",
    "public class MyThreadPool {\n",
    "\n",
    "    private final BlockingQueue<Runnable> taskQueue;\n",
    "    private final List<PoolThreadRunnable> runnables = new ArrayList<>();\n",
    "    private boolean isStopped = false;\n",
    "\n",
    "    public MyThreadPool(int noOfThreads, int maxNoOfTasks) {\n",
    "        taskQueue = new ArrayBlockingQueue<>(maxNoOfTasks);\n",
    "\n",
    "        for (int i = 0; i < noOfThreads; i++)\n",
    "            runnables.add(new PoolThreadRunnable(taskQueue));\n",
    "\n",
    "        for (PoolThreadRunnable runnable : runnables)\n",
    "            new Thread(runnable).start();\n",
    "    }\n",
    "\n",
    "    public synchronized void execute(Runnable task) throws Exception {\n",
    "        if (this.isStopped || !taskQueue.offer(task)) throw\n",
    "                new IllegalStateException(\"ThreadPool is stopped\");\n",
    "    }\n",
    "\n",
    "    public synchronized void stop() {\n",
    "        this.isStopped = true;\n",
    "        for (PoolThreadRunnable runnable : runnables) {\n",
    "            runnable.doStop();\n",
    "        }\n",
    "    }\n",
    "\n",
    "    public synchronized void waitUntilAllTasksFinished() {\n",
    "        while (this.taskQueue.size() > 0) {\n",
    "            try {\n",
    "                Thread.sleep(1);\n",
    "            } catch (InterruptedException e) {\n",
    "                e.printStackTrace();\n",
    "            }\n",
    "        }\n",
    "    }\n",
    "\n",
    "}"
   ]
  },
  {
   "cell_type": "code",
   "execution_count": null,
   "id": "7e47d69c-0b88-41e4-a186-8fd6491ad20a",
   "metadata": {},
   "outputs": [],
   "source": [
    "\n",
    "import java.util.concurrent.BlockingQueue;\n",
    "\n",
    "public class PoolThreadRunnable implements Runnable {\n",
    "\n",
    "    private Thread thread = null;\n",
    "    private BlockingQueue<Runnable> taskQueue;\n",
    "    private boolean isStopped = false;\n",
    "\n",
    "    public PoolThreadRunnable(BlockingQueue<Runnable> queue) {\n",
    "        taskQueue = queue;\n",
    "    }\n",
    "\n",
    "    public void run() {\n",
    "        this.thread = Thread.currentThread();\n",
    "        while (!isStopped()) {\n",
    "            try {\n",
    "                Thread.sleep(1000);\n",
    "                Runnable runnable = taskQueue.take();\n",
    "                runnable.run();\n",
    "            } catch (Exception ignored) {}\n",
    "        }\n",
    "    }\n",
    "\n",
    "    public synchronized void doStop() {\n",
    "        isStopped = true;\n",
    "        this.thread.interrupt();\n",
    "    }\n",
    "\n",
    "    public synchronized boolean isStopped() {\n",
    "        return isStopped;\n",
    "    }\n",
    "}\n"
   ]
  },
  {
   "cell_type": "code",
   "execution_count": null,
   "id": "0635c9f6-d321-4ed5-8988-4651d61e64fd",
   "metadata": {},
   "outputs": [],
   "source": [
    "public class Main {\n",
    "    public static void main() throws Exception {\n",
    "\n",
    "        MyThreadPool threadPool = new MyThreadPool(3, 20);\n",
    "\n",
    "        for (int i = 0; i < 20; i++) {\n",
    "\n",
    "            int taskNumber = i;\n",
    "            threadPool.execute(() -> {\n",
    "                String message =\n",
    "                        Thread.currentThread().getName()\n",
    "                                + \": Task \" + taskNumber;\n",
    "                System.out.println(message);\n",
    "            });\n",
    "        }\n",
    "\n",
    "        threadPool.waitUntilAllTasksFinished();\n",
    "        threadPool.stop();\n",
    "\n",
    "    }\n",
    "}"
   ]
  },
  {
   "cell_type": "markdown",
   "id": "f3d5828e-fb9d-446e-aa85-866e23022496",
   "metadata": {},
   "source": [
    "## 12.4 `BlockingQueue`"
   ]
  },
  {
   "cell_type": "markdown",
   "id": "5bac8c4b-df87-4ec4-9d4b-c09ab25bd929",
   "metadata": {},
   "source": [
    "![bq](bq.png)"
   ]
  },
  {
   "cell_type": "markdown",
   "id": "604675e4-8644-4507-bdb6-00b35f7cf53f",
   "metadata": {},
   "source": [
    "## 12.5 `Lock`"
   ]
  },
  {
   "cell_type": "markdown",
   "id": "fc3f2448-e79e-4494-bcbf-58a18aac7734",
   "metadata": {},
   "source": [
    "![lock](lock.png)"
   ]
  },
  {
   "cell_type": "code",
   "execution_count": null,
   "id": "62bca38f-ff35-42ec-95ce-c3ec4fc3e987",
   "metadata": {},
   "outputs": [],
   "source": [
    "import java.util.concurrent.locks.Lock;\n",
    "import java.util.concurrent.locks.ReentrantLock;\n",
    "\n",
    "public class MyLock {\n",
    "    private static final int COUNT_UP_TO = 1000;\n",
    "    private static final int NUM_OF_THREADS = 100;\n",
    "\n",
    "    private static final Lock lock = new ReentrantLock();\n",
    "\n",
    "    private static int mCount = 0;\n",
    "\n",
    "    public static void main(String[] args) throws InterruptedException {\n",
    "\n",
    "        for(int i = 0; i < NUM_OF_THREADS; i++){\n",
    "            startThread();\n",
    "        }\n",
    "        Thread.sleep(1000);\n",
    "        System.out.println(mCount);\n",
    "    }\n",
    "\n",
    "    private static void startThread() {\n",
    "        new Thread(() ->{\n",
    "            for(int i = 0; i < COUNT_UP_TO; i++){\n",
    "                lock.lock();\n",
    "                mCount++;\n",
    "                lock.unlock();\n",
    "            }\n",
    "        }).start();\n",
    "    }\n",
    "}"
   ]
  },
  {
   "cell_type": "markdown",
   "id": "b60a18e0-841b-46e7-8f8e-bd55df2f3187",
   "metadata": {},
   "source": [
    "## 12.6 `Synchronized` vs `Lock`"
   ]
  },
  {
   "cell_type": "markdown",
   "id": "ab8fc382-b7dc-4774-974c-031e2eeeb4ea",
   "metadata": {},
   "source": [
    "- `synchronized` jest ograniczony do jednej metody\n",
    "- `lock` i `unlock` mogą być wywołane w różnych metodach\n",
    "- `synchronized` nie wspiera bezstronności\n",
    "- `Lock` posiada właściwość `fairness` - sprawia że dostęp otrzymuje najdłużej oczekujący wątek\n",
    "- `Lock` posiada metodę `tryLock`\n",
    "- wątek oczekujący na dostęp do bloku `synchronized` nie może zostać przerwany"
   ]
  }
 ],
 "metadata": {
  "kernelspec": {
   "display_name": "Java",
   "language": "java",
   "name": "java"
  },
  "language_info": {
   "codemirror_mode": "java",
   "file_extension": ".jshell",
   "mimetype": "text/x-java-source",
   "name": "Java",
   "pygments_lexer": "java",
   "version": "17+35-2724"
  }
 },
 "nbformat": 4,
 "nbformat_minor": 5
}
