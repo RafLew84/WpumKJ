{
 "cells": [
  {
   "cell_type": "markdown",
   "id": "bddfe5b2-f747-447d-a4e1-f39a40a0dade",
   "metadata": {},
   "source": [
    "# Wykład 10 - Interfejsy"
   ]
  },
  {
   "cell_type": "markdown",
   "id": "a833479c-cc75-4069-bea8-1874bb82565f",
   "metadata": {},
   "source": [
    "Interfejs zawiera zestaw metod bez ich implementacji. Może zawierać:\n",
    "- metody domyślne\n",
    "- metody prywatne\n",
    "- metody statyczne"
   ]
  },
  {
   "cell_type": "markdown",
   "id": "0a53a8b6-9c4e-491e-99b6-c35f5666c8a8",
   "metadata": {},
   "source": [
    "## 10.1 Metody interejsów"
   ]
  },
  {
   "cell_type": "markdown",
   "id": "f8ba196e-ee7f-42d3-8a40-0231e4e5ef0d",
   "metadata": {},
   "source": [
    "Interjfejs może dostarcyć domyślną implementację metody"
   ]
  },
  {
   "cell_type": "code",
   "execution_count": 3,
   "id": "d80592fd-4ecc-41d4-8eca-e847f8e0a480",
   "metadata": {},
   "outputs": [],
   "source": [
    "// java\n",
    "public interface AddNumer{\n",
    "    default int addNumber(int a, int b){\n",
    "        return a + b;\n",
    "    }\n",
    "}"
   ]
  },
  {
   "cell_type": "code",
   "execution_count": 1,
   "id": "9f533bc0-efe6-41a0-947c-19df24cbff0b",
   "metadata": {},
   "outputs": [],
   "source": [
    "// kotlin\n",
    "interface AddNumber{\n",
    "    fun addNumber (a: Int, b: Int): Int{\n",
    "        return a + b\n",
    "    }\n",
    "}"
   ]
  },
  {
   "cell_type": "markdown",
   "id": "5e46386f-8fa5-43a2-b2d4-b6dddb1976bd",
   "metadata": {},
   "source": [
    "W interfejsach można wykorzystywać metody prywatne"
   ]
  },
  {
   "cell_type": "code",
   "execution_count": 1,
   "id": "85b8375b-5b7c-41cd-8a5e-354fd6d311f3",
   "metadata": {},
   "outputs": [],
   "source": [
    "// java\n",
    "public interface AddNumers{\n",
    "    \n",
    "    default int addThreeNumbers(int a, int b, int c){\n",
    "        return addTwoNumbers(a, b) + c;\n",
    "    }\n",
    "    \n",
    "    private int addTwoNumbers(int a, int b){\n",
    "        return a + b;\n",
    "    }\n",
    "}"
   ]
  },
  {
   "cell_type": "code",
   "execution_count": 5,
   "id": "6c237d50-c171-4f44-9767-105702162104",
   "metadata": {},
   "outputs": [],
   "source": [
    "// kotlin\n",
    "public interface AddNumers{\n",
    "    \n",
    "    fun addThreeNumbers(a: Int, b: Int, c: Int): Int{\n",
    "        return addTwoNumbers(a, b) + c\n",
    "    }\n",
    "    \n",
    "    private fun addTwoNumbers(a: Int, b: Int): Int{\n",
    "        return a + b\n",
    "    }\n",
    "}"
   ]
  },
  {
   "cell_type": "markdown",
   "id": "55c25dc5-2918-40f9-81d9-f630a5462e8f",
   "metadata": {},
   "source": [
    "Metody statyczne (tylko Java)"
   ]
  },
  {
   "cell_type": "code",
   "execution_count": 12,
   "id": "a0de576f-90a7-452c-87ff-172dc2ebf074",
   "metadata": {},
   "outputs": [
    {
     "name": "stdout",
     "output_type": "stream",
     "text": [
      "6\n",
      "AddNumber Interface\n"
     ]
    }
   ],
   "source": [
    "// java\n",
    "public interface AddNumbers{\n",
    "    \n",
    "    default int addThreeNumbers(int a, int b, int c){\n",
    "        return addTwoNumbers(a, b) + c;\n",
    "    }\n",
    "    \n",
    "    private int addTwoNumbers(int a, int b){\n",
    "        return a + b;\n",
    "    }\n",
    "    \n",
    "    static void printMe(){\n",
    "        System.out.println(\"AddNumber Interface\");\n",
    "    }\n",
    "}\n",
    "\n",
    "public class A implements AddNumbers{\n",
    "    public A(){\n",
    "        System.out.println(addThreeNumbers(1, 2, 3));\n",
    "        AddNumbers.printMe();\n",
    "    }\n",
    "}\n",
    "\n",
    "A a = new A();"
   ]
  },
  {
   "cell_type": "code",
   "execution_count": 13,
   "id": "25176578-64f8-4084-9227-22236e736149",
   "metadata": {},
   "outputs": [
    {
     "name": "stdout",
     "output_type": "stream",
     "text": [
      "AddNumber Interface\n"
     ]
    }
   ],
   "source": [
    "AddNumbers.printMe();"
   ]
  },
  {
   "cell_type": "markdown",
   "id": "c1740ad8-35f3-47f9-8099-a626071bd8ae",
   "metadata": {},
   "source": [
    "Interfejsy mogą zawierać pola (statyczne) - tylko Java"
   ]
  },
  {
   "cell_type": "code",
   "execution_count": 1,
   "id": "f3eb4609-4db1-48a2-af4b-95f2fe36b2a1",
   "metadata": {},
   "outputs": [
    {
     "data": {
      "text/plain": [
       "4"
      ]
     },
     "execution_count": 1,
     "metadata": {},
     "output_type": "execute_result"
    }
   ],
   "source": [
    "// java\n",
    "public interface Numbers{\n",
    "    int num = 4; // public static final\n",
    "}\n",
    "\n",
    "Numbers.num"
   ]
  },
  {
   "cell_type": "code",
   "execution_count": 2,
   "id": "f09fbd4b-51a7-4202-a9bc-09374ab95b1d",
   "metadata": {},
   "outputs": [
    {
     "name": "stderr",
     "output_type": "stream",
     "text": [
      "Line_1.jupyter-kts (2:15 - 16) Property initializers are not allowed in interfaces"
     ]
    }
   ],
   "source": [
    "// kotlin\n",
    "interface Numbers{\n",
    "    val num = 4\n",
    "}"
   ]
  },
  {
   "cell_type": "markdown",
   "id": "29a850c5-95ae-48d2-a5f2-04f76942197e",
   "metadata": {},
   "source": [
    "## 10.2 Dziedziczenie interfejsów"
   ]
  },
  {
   "cell_type": "code",
   "execution_count": 7,
   "id": "6c6235e7-7c7f-4dd9-b98a-6d8fdfeec499",
   "metadata": {},
   "outputs": [
    {
     "name": "stdout",
     "output_type": "stream",
     "text": [
      "Rafał\n",
      "4.5\n",
      "123456\n"
     ]
    }
   ],
   "source": [
    "// java\n",
    "public interface Student {\n",
    "    int getIndexNumber();\n",
    "}\n",
    "\n",
    "public interface Human {\n",
    "    String getName();\n",
    "}\n",
    "\n",
    "public interface WFiAStudent extends Student, Human { // nie używamy implements implements\n",
    "    double getGrade();\n",
    "}\n",
    "\n",
    "public class ISSPStudent implements WFiAStudent{\n",
    "    @Override\n",
    "    public int getIndexNumber(){\n",
    "        return 123456;\n",
    "    }\n",
    "    \n",
    "    @Override\n",
    "    public String getName(){\n",
    "        return \"Rafał\";\n",
    "    }\n",
    "    \n",
    "    @Override\n",
    "    public double getGrade(){\n",
    "        return 4.5;\n",
    "    }\n",
    "}\n",
    "\n",
    "ISSPStudent me = new ISSPStudent();\n",
    "System.out.println(me.getName());\n",
    "System.out.println(me.getGrade());\n",
    "System.out.println(me.getIndexNumber());"
   ]
  },
  {
   "cell_type": "code",
   "execution_count": 1,
   "id": "d868d637-6d86-422f-9a8e-b4186c193175",
   "metadata": {},
   "outputs": [
    {
     "name": "stdout",
     "output_type": "stream",
     "text": [
      "Rafał\n",
      "4.5\n",
      "123456\n"
     ]
    }
   ],
   "source": [
    "// kotlin\n",
    "interface Student {\n",
    "    fun getIndexNumber(): Int\n",
    "}\n",
    "\n",
    "interface Human {\n",
    "    fun getName(): String\n",
    "}\n",
    "\n",
    "interface WFiAStudent : Student, Human {\n",
    "    fun getGrade(): Double\n",
    "}\n",
    "\n",
    " class ISSPStudent : WFiAStudent{\n",
    "    \n",
    "    override fun getIndexNumber(): Int{\n",
    "        return 123456\n",
    "    }\n",
    "    \n",
    "    override fun getName(): String{\n",
    "        return \"Rafał\"\n",
    "    }\n",
    "    \n",
    "    override fun getGrade(): Double{\n",
    "        return 4.5\n",
    "    }\n",
    "}\n",
    "\n",
    "val me = ISSPStudent();\n",
    "println(me.getName());\n",
    "println(me.getGrade());\n",
    "println(me.getIndexNumber());"
   ]
  },
  {
   "cell_type": "markdown",
   "id": "33d45ddb-3968-435e-810e-b8f2fd0fb201",
   "metadata": {},
   "source": [
    "## 10.3 Zastosowania"
   ]
  },
  {
   "cell_type": "markdown",
   "id": "c2d148a8-faaf-4189-aef2-391cbb80dea5",
   "metadata": {},
   "source": [
    "- Nie dozwolone wielokrotne dziedziczenie\n",
    "- Dozwolona implementacja dowolnej ilości interfejsów\n",
    "- Ustalenie sygnatury metod\n",
    "- Klasa implementująca interfejs **musi** implementować wszystkie jego metody (poza domyślnymi i statycznymi)\n",
    "- Metody statyczne i prywatne dostępny od Javy 9\n",
    "- Pozwala na określenie cech które posiadać będzie każda klasa implementujące dany interfejs\n",
    "- Udostępnie mechanizm kategoryzowania działań na obiektch"
   ]
  },
  {
   "cell_type": "markdown",
   "id": "9242c479-4790-47de-915f-7e9e24c6c7da",
   "metadata": {},
   "source": [
    "### Przykłady interfejsów"
   ]
  },
  {
   "cell_type": "code",
   "execution_count": 1,
   "id": "c46fb2e6-184f-40c5-be44-1a46fe674a40",
   "metadata": {},
   "outputs": [],
   "source": [
    "public interface Serializable{}"
   ]
  },
  {
   "cell_type": "code",
   "execution_count": 2,
   "id": "d0ec6359-eeae-481c-b9b4-f9a14305a954",
   "metadata": {},
   "outputs": [],
   "source": [
    "public interface Comparable<T> {\n",
    "    public int compareTo(T o);\n",
    "}"
   ]
  },
  {
   "cell_type": "code",
   "execution_count": 3,
   "id": "2501dd94-58b6-4989-b7c1-bddcf11a70e4",
   "metadata": {},
   "outputs": [],
   "source": [
    "public interface Collection<E> extends Iterable<E> {\n",
    "\n",
    "    int size();\n",
    "\n",
    "    boolean isEmpty();\n",
    "\n",
    "    boolean contains(Object o);\n",
    "\n",
    "    boolean add(E e);\n",
    "\n",
    "    boolean remove(Object o);\n",
    "\n",
    "    boolean containsAll(Collection<?> c);\n",
    "\n",
    "    boolean addAll(Collection<? extends E> c);\n",
    "\n",
    "    boolean removeAll(Collection<?> c);\n",
    "\n",
    "    boolean retainAll(Collection<?> c);\n",
    "\n",
    "    void clear();\n",
    "\n",
    "    boolean equals(Object o);\n",
    "\n",
    "    int hashCode();\n",
    " \n",
    "\t//...\n",
    "}"
   ]
  },
  {
   "cell_type": "code",
   "execution_count": 20,
   "id": "82d366b3-4244-4761-9328-3b86495ef255",
   "metadata": {},
   "outputs": [
    {
     "data": {
      "text/plain": [
       "5"
      ]
     },
     "execution_count": 20,
     "metadata": {},
     "output_type": "execute_result"
    }
   ],
   "source": [
    "// java\n",
    "public interface Expr{}\n",
    "public class Num implements Expr {\n",
    "    private int v;\n",
    "    \n",
    "    public Num(int v){\n",
    "        this.v = v;\n",
    "    }\n",
    "    \n",
    "    public void setV (int v){\n",
    "        this.v = v;\n",
    "    }\n",
    "    \n",
    "    public int getV (){\n",
    "        return this.v;\n",
    "    }\n",
    "}\n",
    "\n",
    "public class Sum implements Expr {\n",
    "    private Expr left, right;\n",
    "    \n",
    "    public Sum(Expr left, Expr right){\n",
    "        this.left = left;\n",
    "        this.right = right;\n",
    "    }\n",
    "    \n",
    "    public void setLeft(Expr left){\n",
    "        this.left = left;\n",
    "    }\n",
    "    \n",
    "    public void setRight(Expr right){\n",
    "        this.right = right;\n",
    "    }\n",
    "    \n",
    "    public Expr getLeft(){\n",
    "        return this.left;\n",
    "    }\n",
    "    \n",
    "    public Expr getRight(){\n",
    "        return this.right;\n",
    "    }\n",
    "}\n",
    "\n",
    "int eval(Expr e){\n",
    "    if (e instanceof Num)\n",
    "        return ((Num)e).getV();\n",
    "    if (e instanceof Sum)\n",
    "        return eval(((Sum)e).getRight()) + eval(((Sum)e).getLeft());\n",
    "    return 0;\n",
    "}\n",
    "\n",
    "eval(new Sum(new Num(2), new Num(3)));"
   ]
  },
  {
   "cell_type": "code",
   "execution_count": 1,
   "id": "59b85eaf-6f7d-4eb7-89b5-3872339b3f74",
   "metadata": {},
   "outputs": [
    {
     "data": {
      "text/plain": [
       "5"
      ]
     },
     "execution_count": 1,
     "metadata": {},
     "output_type": "execute_result"
    }
   ],
   "source": [
    "// kotlin\n",
    "interface Expr\n",
    "class Num(val v: Int) : Expr\n",
    "class Sum(val left: Expr, val right: Expr) : Expr\n",
    "fun eval(e: Expr): Int = when (e) {\n",
    "        is Num -> e.v\n",
    "        is Sum -> eval(e.right) + eval(e.left)\n",
    "        else ->\n",
    "        throw IllegalArgumentException(\" Nieznane wyrażenie\") // wymagana opcja domyślna\n",
    "}\n",
    "    \n",
    "eval(Sum(Num(2), Num(3)))"
   ]
  },
  {
   "cell_type": "markdown",
   "id": "eb719ad1-57cc-4933-b99e-dc040b816c76",
   "metadata": {},
   "source": [
    "### Interfejs Funkcyjny"
   ]
  },
  {
   "cell_type": "markdown",
   "id": "6fc93706-e0ba-4421-8583-18939938cac5",
   "metadata": {},
   "source": [
    "Posiada tylko jedną metodę - pozwala na wykorzystanie wyrażeń lambda jako typu danych. W Javie można wykorzystać adnotację `@FunctionalInterface`."
   ]
  },
  {
   "cell_type": "code",
   "execution_count": 8,
   "id": "fa862b43-ebf7-4277-8d27-f497e0db774a",
   "metadata": {},
   "outputs": [
    {
     "name": "stdout",
     "output_type": "stream",
     "text": [
      "true\n"
     ]
    }
   ],
   "source": [
    "@FunctionalInterface\n",
    "interface IntPredicate {\n",
    "    public boolean accept(int param);\n",
    "}\n",
    "    \n",
    "class Test implements IntPredicate {\n",
    "    public boolean accept(int param) {\n",
    "        return param % 2 == 0; \n",
    "    }\n",
    "}\n",
    "    \n",
    "public class A{\n",
    "    public static boolean invoke(IntPredicate predicate, int param){\n",
    "        return predicate.accept(param);\n",
    "    }\n",
    "    \n",
    "     public static void main(){\n",
    "        IntPredicate pred = new Test();\n",
    "        System.out.println(invoke(pred, 4));\n",
    "    }\n",
    "}\n",
    "A.main()"
   ]
  },
  {
   "cell_type": "code",
   "execution_count": 15,
   "id": "35777649-3f23-498e-9607-f5446617f0d7",
   "metadata": {},
   "outputs": [
    {
     "name": "stdout",
     "output_type": "stream",
     "text": [
      "false\n"
     ]
    }
   ],
   "source": [
    "@FunctionalInterface\n",
    "interface IntPredicate {\n",
    "    public boolean accept(int param);\n",
    "}\n",
    "    \n",
    "public class A{\n",
    "    public static boolean invoke(IntPredicate predicate, int param){\n",
    "        return predicate.accept(param);\n",
    "    }\n",
    "    \n",
    "     public static void main(){\n",
    "         \n",
    "         // klasa anonimowa\n",
    "        System.out.println(\n",
    "            invoke(new IntPredicate(){\n",
    "                public boolean accept(int param) {return param % 2 == 0; }\n",
    "            }, 5)\n",
    "        );\n",
    "         \n",
    "        //invoke((param -> System.out.println(\"Called with \" + param )), 100);\n",
    "\n",
    "    }\n",
    "}\n",
    "A.main()"
   ]
  },
  {
   "cell_type": "code",
   "execution_count": 18,
   "id": "131bf137-e683-40d8-8679-60ed53622a5a",
   "metadata": {},
   "outputs": [
    {
     "name": "stdout",
     "output_type": "stream",
     "text": [
      "false\n"
     ]
    }
   ],
   "source": [
    "@FunctionalInterface\n",
    "interface IntPredicate {\n",
    "    public boolean accept(int param);\n",
    "}\n",
    "    \n",
    "public class A{\n",
    "    public static boolean invoke(IntPredicate predicate, int param){\n",
    "        return predicate.accept(param);\n",
    "    }\n",
    "    \n",
    "     public static void main(){\n",
    "        System.out.println(\n",
    "            invoke((param -> param % 2 == 0), 5)\n",
    "        );\n",
    "\n",
    "    }\n",
    "}\n",
    "A.main()"
   ]
  },
  {
   "cell_type": "code",
   "execution_count": 19,
   "id": "ffb2f9fc-e43a-4fda-8b5e-e28f39a1d738",
   "metadata": {},
   "outputs": [
    {
     "name": "stdout",
     "output_type": "stream",
     "text": [
      "6\n"
     ]
    }
   ],
   "source": [
    "import java.util.function.Function; // interfejs funkcyjny\n",
    "\n",
    "public class HigherOrderFunc {\n",
    "\n",
    "    public static void main() {\n",
    "        doSum(5, e -> e + 1);\n",
    "    }\n",
    "\n",
    "    public static void doSum(int value, Function <Integer, Integer> func) {\n",
    "        System.out.println(func.apply(value));\n",
    "    }\n",
    "}\n",
    "\n",
    "HigherOrderFunc.main()"
   ]
  },
  {
   "cell_type": "code",
   "execution_count": 25,
   "id": "f2b9e8e2-0dac-4fa4-b6c1-fb6c24b9d0ee",
   "metadata": {},
   "outputs": [
    {
     "name": "stdout",
     "output_type": "stream",
     "text": [
      "Kasia\n",
      "Ania\n",
      "Zosia\n",
      "Bartek\n"
     ]
    }
   ],
   "source": [
    "// https://javastart.pl/baza-wiedzy/slownik/interfejs-funkcyjny\n",
    "import java.util.Arrays;\n",
    "import java.util.List;\n",
    "import java.util.function.Consumer; // interfejs funkcyjny\n",
    " \n",
    "public class StringConsumerExample {\n",
    "    public static void main() {\n",
    " \t\tList<String> names = Arrays.asList(\"Kasia\", \"Ania\", \"Zosia\", \"Bartek\");\n",
    " \t\tprintList(names, str -> System.out.println(str));\n",
    " \t}\n",
    " \n",
    " \tpublic static void printList(List<String> list, Consumer<String> consumer) {\n",
    " \t\tfor (String str : list) {\n",
    " \t\t\tconsumer.accept(str);\n",
    " \t\t}\n",
    " \t}\n",
    "}\n",
    "StringConsumerExample.main()"
   ]
  },
  {
   "cell_type": "code",
   "execution_count": 5,
   "id": "dfb087f8-727d-459e-9e47-c5d52cde566e",
   "metadata": {},
   "outputs": [
    {
     "data": {
      "text/plain": [
       "false"
      ]
     },
     "execution_count": 5,
     "metadata": {},
     "output_type": "execute_result"
    }
   ],
   "source": [
    "fun interface IntPredicate { // interfejs funkcyjny\n",
    "   fun accept(i: Int): Boolean\n",
    "}\n",
    "\n",
    "val isEven = object : IntPredicate {\n",
    "   override fun accept(i: Int): Boolean {\n",
    "       return i % 2 == 0\n",
    "   }\n",
    "}\n",
    "\n",
    "isEven.accept(5)"
   ]
  },
  {
   "cell_type": "code",
   "execution_count": 6,
   "id": "a3f8f04e-a2c0-4543-8277-e7d136c445f4",
   "metadata": {},
   "outputs": [
    {
     "data": {
      "text/plain": [
       "false"
      ]
     },
     "execution_count": 6,
     "metadata": {},
     "output_type": "execute_result"
    }
   ],
   "source": [
    "fun interface IntPredicate {\n",
    "   fun accept(i: Int): Boolean\n",
    "}\n",
    "\n",
    "val isEven = IntPredicate { it % 2 == 0 }\n",
    "\n",
    "isEven.accept(5)"
   ]
  },
  {
   "cell_type": "markdown",
   "id": "9e386782-cef7-4df2-a8cb-d91776e5cb9f",
   "metadata": {},
   "source": [
    "### Konstruktor SAM (Kotlin) - Single Abstract Method"
   ]
  },
  {
   "cell_type": "markdown",
   "id": "75c12534-1895-460f-889a-0a8a1cb4b813",
   "metadata": {},
   "source": [
    "Generowana przez kompilator funkcja pozwalająca konwertować wyrażenie lambda na instancję interfejsu funkcyjnego."
   ]
  },
  {
   "cell_type": "code",
   "execution_count": 25,
   "id": "fe0c57e9-7f93-439d-921e-779d61a4d6bf",
   "metadata": {},
   "outputs": [
    {
     "data": {
      "text/plain": [
       "false"
      ]
     },
     "execution_count": 25,
     "metadata": {},
     "output_type": "execute_result"
    }
   ],
   "source": [
    "fun interface IntPredicate {\n",
    "   fun accept(i: Int): Boolean\n",
    "}\n",
    "\n",
    "fun isEven(): IntPredicate{\n",
    "    return IntPredicate{it % 2 == 0}\n",
    "}\n",
    "\n",
    "isEven().accept(5)"
   ]
  },
  {
   "cell_type": "code",
   "execution_count": null,
   "id": "4ee7a88a-d468-41e4-8619-006ec7192841",
   "metadata": {},
   "outputs": [],
   "source": []
  }
 ],
 "metadata": {
  "kernelspec": {
   "display_name": "Kotlin",
   "language": "kotlin",
   "name": "kotlin"
  },
  "language_info": {
   "codemirror_mode": "text/x-kotlin",
   "file_extension": ".kt",
   "mimetype": "text/x-kotlin",
   "name": "kotlin",
   "nbconvert_exporter": "",
   "pygments_lexer": "kotlin",
   "version": "1.6.20-dev-6372"
  }
 },
 "nbformat": 4,
 "nbformat_minor": 5
}
