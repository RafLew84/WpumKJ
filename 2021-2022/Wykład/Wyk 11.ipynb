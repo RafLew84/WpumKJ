{
 "cells": [
  {
   "cell_type": "markdown",
   "id": "9a1e22eb-d2da-4f6c-aecb-350ea6220a90",
   "metadata": {},
   "source": [
    "# Wykład 11 - Wielowątkowość - Wstęp"
   ]
  },
  {
   "cell_type": "markdown",
   "id": "a671f78a-0d18-48ab-83cc-9de3cb66d68c",
   "metadata": {},
   "source": [
    "## 11.1 Klasa `Thread` i interfejs `Runnable`"
   ]
  },
  {
   "cell_type": "code",
   "execution_count": 5,
   "id": "c1b35846-614f-46a3-a9df-532ec8c7f729",
   "metadata": {},
   "outputs": [
    {
     "name": "stdout",
     "output_type": "stream",
     "text": [
      "poza wątkiem\n",
      "wewnątrz wątku\n"
     ]
    }
   ],
   "source": [
    "// java\n",
    "public class A extends Thread {\n",
    "  public static void main() {\n",
    "    A thread = new A();\n",
    "    thread.start();\n",
    "    System.out.println(\"poza wątkiem\");\n",
    "  }\n",
    "  public void run() {\n",
    "    System.out.println(\"wewnątrz wątku\");\n",
    "  }\n",
    "}\n",
    "A.main();"
   ]
  },
  {
   "cell_type": "code",
   "execution_count": 7,
   "id": "c8aec98c-57be-4f8d-a02d-1b12048eceb6",
   "metadata": {},
   "outputs": [
    {
     "name": "stdout",
     "output_type": "stream",
     "text": [
      "poza wątkiem\n",
      "wewnątrz wątku\n"
     ]
    }
   ],
   "source": [
    "// java\n",
    "public class B implements Runnable {\n",
    "  public static void main() {\n",
    "    B b = new B();\n",
    "    Thread thread = new Thread(b);\n",
    "    thread.start();\n",
    "    System.out.println(\"poza wątkiem\");\n",
    "  }\n",
    "  public void run() {\n",
    "    System.out.println(\"wewnątrz wątku\");\n",
    "  }\n",
    "}\n",
    "B.main();"
   ]
  },
  {
   "cell_type": "code",
   "execution_count": 6,
   "id": "ecf83e46-3e1e-42cd-80be-eb39d41ad8f2",
   "metadata": {},
   "outputs": [
    {
     "name": "stdout",
     "output_type": "stream",
     "text": [
      "poza wątkiem\n",
      "wewnątrz wątki\n"
     ]
    }
   ],
   "source": [
    "// kotlin\n",
    "class C : Thread(){\n",
    "    override fun run(){\n",
    "        println(\"wewnątrz wątki\")\n",
    "    }\n",
    "}\n",
    "\n",
    "fun main(){\n",
    "    val thread = C()\n",
    "    thread.start()\n",
    "    println(\"poza wątkiem\")\n",
    "}\n",
    "\n",
    "main()"
   ]
  },
  {
   "cell_type": "code",
   "execution_count": 11,
   "id": "bd2ca7a7-9ac0-4618-94be-1f611320be71",
   "metadata": {},
   "outputs": [
    {
     "name": "stdout",
     "output_type": "stream",
     "text": [
      "poza wątkiem\n",
      "wewnątrz wątki\n"
     ]
    }
   ],
   "source": [
    "// kotlin\n",
    "class D: Runnable{\n",
    "    override fun run(){\n",
    "        println(\"wewnątrz wątki\")\n",
    "    }\n",
    "}\n",
    "\n",
    "fun main(){\n",
    "    val d = D()\n",
    "    val thread = Thread(d)\n",
    "    thread.start()\n",
    "    println(\"poza wątkiem\")\n",
    "}\n",
    "\n",
    "main()"
   ]
  },
  {
   "cell_type": "markdown",
   "id": "381494c7-68a1-4694-811e-86372df39033",
   "metadata": {},
   "source": [
    "## 11.2 Współbieżność"
   ]
  },
  {
   "cell_type": "code",
   "execution_count": 18,
   "id": "22d7054c-32ca-4677-a1f9-c5eb605e2dbc",
   "metadata": {},
   "outputs": [
    {
     "name": "stdout",
     "output_type": "stream",
     "text": [
      "0\n",
      "2\n"
     ]
    }
   ],
   "source": [
    "// java\n",
    "public class E extends Thread {\n",
    "  public static int counter = 0;\n",
    "\n",
    "  public static void main() {\n",
    "    E thread = new E();\n",
    "    thread.start();\n",
    "    // try{\n",
    "    //     Thread.sleep(2000);\n",
    "    // } catch (InterruptedException e){}\n",
    "    System.out.println(counter);\n",
    "    counter++;\n",
    "    System.out.println(counter);\n",
    "  }\n",
    "\n",
    "  public void run() {\n",
    "    counter++;\n",
    "  }\n",
    "}\n",
    "E.main();"
   ]
  },
  {
   "cell_type": "markdown",
   "id": "08679809-3b9a-4b67-9715-19881220fe5a",
   "metadata": {},
   "source": [
    "## 11.3 Widoczność"
   ]
  },
  {
   "cell_type": "code",
   "execution_count": 21,
   "id": "e069b00d-6df6-41a4-ac05-6b4a434ff6b2",
   "metadata": {},
   "outputs": [
    {
     "name": "stdout",
     "output_type": "stream",
     "text": [
      "Consumer: 7\n",
      "Consumer is terminated\n",
      "Producer is terminated\n"
     ]
    }
   ],
   "source": [
    "public class VisibilityDemoMain {\n",
    "    private static int sCounter = 0;\n",
    "    //private static volaile int sCounter = 0;\n",
    "\n",
    "    public static void main(){\n",
    "        new Consumer().start();\n",
    "        try {\n",
    "            Thread.sleep(500);\n",
    "        } catch (InterruptedException e) {\n",
    "            return;\n",
    "        }\n",
    "        new Producer().start();\n",
    "    }\n",
    "\n",
    "    static class Consumer extends Thread {\n",
    "        @Override\n",
    "        public void run() {\n",
    "            int localCounter = -1;\n",
    "            while (true){\n",
    "                if(localCounter != sCounter){\n",
    "                    System.out.println(\"Consumer: \" + sCounter);\n",
    "                    localCounter = sCounter;\n",
    "                }\n",
    "                if(sCounter >= 7)\n",
    "                    break;\n",
    "            }\n",
    "            System.out.println(\"Consumer is terminated\");\n",
    "        }\n",
    "    }\n",
    "\n",
    "    static class Producer extends Thread{\n",
    "        @Override\n",
    "        public void run() {\n",
    "            while(sCounter < 7){\n",
    "                int localValue = sCounter;\n",
    "                localValue++;\n",
    "                System.out.println(\"Producer: \" + localValue);\n",
    "                sCounter = localValue;\n",
    "                try {\n",
    "                    Thread.sleep(1000);\n",
    "                } catch (InterruptedException e) {\n",
    "                    return;\n",
    "                }\n",
    "            }\n",
    "            System.out.println(\"Producer is terminated\");\n",
    "        }\n",
    "    }\n",
    "}\n",
    "\n",
    "VisibilityDemoMain.main();"
   ]
  },
  {
   "cell_type": "markdown",
   "id": "3466c84a-e5a9-42c5-95a4-a20cfb3cef37",
   "metadata": {},
   "source": [
    "Wątek `Consumer` wykrywa pierwszą zmianę i drukuje wiadomość. Następnie pracę rozpoczyna `Producer` i drukuje kolejne wiadomości. Tutaj nie widzimy dalszych wiadomości od `Consumer`, dzieje się tak ponieważ wątek ten nie wykrywa zmian wartości `sCounter`.\n",
    "\n",
    "Problem powoduje model pamięci zastosowany w **JVM** - wartość `sCounter` jest przechowywana w pamięci podręcznej, więc pomimo tego że `Producer` modyfikuje jego wartość, `Consumer` nie jest w stanie się do tego elementu pamięci dostać. Zastosowana optymalizacja powoduje utworzenie kopii w pamięci podręcznej która cały czas ma wartość 0.\n",
    "\n",
    "Taki stan możemy rozwiązać wprowadzając **zmienną ulotną** z modyfikatorem `volatile` (w Kotlinie `@Volatile`). Powoduje on że wartość zmiennej zawsze jest odczytywany z pamięci i nigdy nie jest przechowywana w pamięci podręcznej."
   ]
  },
  {
   "cell_type": "code",
   "execution_count": null,
   "id": "037a280c-ae65-4a84-bffd-e8ad174fd33d",
   "metadata": {},
   "outputs": [],
   "source": [
    "fun main() {\n",
    "    Consumer().start()\n",
    "    try {\n",
    "        Thread.sleep(500)\n",
    "    } catch (e: InterruptedException) {\n",
    "        return\n",
    "    }\n",
    "    Producer().start()\n",
    "}\n",
    "\n",
    "private var sCounter = 0\n",
    "// @Volatile private var sCounter = 0\n",
    "\n",
    "class Producer : Thread() {\n",
    "    override fun run() {\n",
    "        while (sCounter < 7) {\n",
    "            var localValue = sCounter\n",
    "            localValue++\n",
    "            println(\"Producer: $localValue\")\n",
    "            sCounter = localValue\n",
    "            try {\n",
    "                sleep(1000)\n",
    "            } catch (e: InterruptedException) {\n",
    "                return\n",
    "            }\n",
    "        }\n",
    "        println(\"Producer is terminated\")\n",
    "    }\n",
    "}\n",
    "\n",
    "class Consumer : Thread() {\n",
    "    override fun run() {\n",
    "        var localCounter = -1\n",
    "        while (true) {\n",
    "            if (localCounter != sCounter) {\n",
    "                println(\"Consumer: $sCounter\")\n",
    "                localCounter = sCounter\n",
    "            }\n",
    "            if (sCounter >= 7) break\n",
    "        }\n",
    "        println(\"Consumer is terminated\")\n",
    "    }\n",
    "}\n"
   ]
  },
  {
   "cell_type": "markdown",
   "id": "eed577cd-1038-4153-8af0-4e5932da80bb",
   "metadata": {},
   "source": [
    "## 11.4 Klasy atomowe"
   ]
  },
  {
   "cell_type": "code",
   "execution_count": null,
   "id": "9bbdbe37-fc23-43a8-bb24-fc7919d86287",
   "metadata": {},
   "outputs": [],
   "source": [
    "// java\n",
    "public class Main {\n",
    "    private static final int COUNT_UP_TO = 1000;\n",
    "    private static final int NUM_OF_THREADS = 100;\n",
    "\n",
    "    private static volatile int mCount;\n",
    "\n",
    "    public static void main(String[] args) throws InterruptedException {\n",
    "        mCount.set(0);\n",
    "\n",
    "        for(int i = 0; i < NUM_OF_THREADS; i++){\n",
    "            startThread();\n",
    "        }\n",
    "        Thread.sleep(2000);\n",
    "        System.out.println(mCount.get());\n",
    "    }\n",
    "\n",
    "    private static void startThread() {\n",
    "        new Thread(() ->{\n",
    "            for(int i = 0; i < COUNT_UP_TO; i++){\n",
    "                mCount++;\n",
    "            }\n",
    "        }).start();\n",
    "    }\n",
    "}"
   ]
  },
  {
   "cell_type": "code",
   "execution_count": null,
   "id": "5b1e72ae-e6ee-4acd-b331-afc9803759b4",
   "metadata": {},
   "outputs": [],
   "source": [
    "// kotlin\n",
    "private const val COUNT_UP_TO = 1000\n",
    "private const val NUM_OF_THREADS = 100\n",
    "\n",
    "@Volatile\n",
    "private var mCount = 0\n",
    "\n",
    "fun main() {\n",
    "    mCount = 0\n",
    "    for (i in 0 until NUM_OF_THREADS) {\n",
    "        startThread()\n",
    "    }\n",
    "    Thread.sleep(2000)\n",
    "    println(mCount)\n",
    "}\n",
    "\n",
    "private fun startThread() {\n",
    "    Thread {\n",
    "        for (i in 0 until COUNT_UP_TO) {\n",
    "            mCount++\n",
    "        }\n",
    "    }.start()\n",
    "}"
   ]
  },
  {
   "cell_type": "markdown",
   "id": "50b97f87-c683-4c14-b44c-d7be94ed5f55",
   "metadata": {},
   "source": [
    "Mamy 100 wątków liczących do 1000, więc spodziewamy się że wartość `mCount` będzie wynosić 100000 po wykonaniu programu. Jednak jak widzimy wartość często jest mniejsza. Umieszczając powyższy kod w IDE powinniśmy dostać ostrzeżenie **Non-atomic operation on volatile field**.\n",
    "\n",
    "Operacją nie-atomową jest przykładowo inkrementacja `mCount++`. Inkrementacja w rzeczwistości jest wykonywana w trzech krokach."
   ]
  },
  {
   "cell_type": "markdown",
   "id": "6486634c-812d-4f9a-b9ae-3905be8339a8",
   "metadata": {},
   "source": [
    "```java\n",
    "int localCopy = mCount;\n",
    "mCount = localCopy + 1;\n",
    "```"
   ]
  },
  {
   "cell_type": "markdown",
   "id": "b1d22579-d797-4eec-9cd5-604fe1fecc11",
   "metadata": {},
   "source": [
    "- tworzona jest kopia `mCount`\n",
    "- wykonywana jest operacja dodawania `localCopy + 1`\n",
    "- wykonywany jest zapis do zmiennej `mCount`"
   ]
  },
  {
   "cell_type": "markdown",
   "id": "5783823a-699c-4438-bcea-8b8e3aad9e05",
   "metadata": {},
   "source": [
    "Gdy wiele wątków zaczyna przeprowadzać tę operację współbieżnie istnieje możliwość odczytania wartości `mCount` zanim zostanie wykonana operacja dodawania i powrotnego przypisania wartości."
   ]
  },
  {
   "cell_type": "markdown",
   "id": "f515383c-33bf-4db6-baf3-310b1f91e1f7",
   "metadata": {},
   "source": [
    "Chcąc zapewnić bezpieczeństwo podczas inkrementacji zmiennej `mCount` przez wiele wątków musimy zastosować zmienną typu atomowego."
   ]
  },
  {
   "cell_type": "code",
   "execution_count": null,
   "id": "526c93dc-c138-44b5-bd7e-6dfb1b079453",
   "metadata": {},
   "outputs": [],
   "source": [
    "//java\n",
    "import java.util.concurrent.atomic.AtomicInteger;\n",
    "\n",
    "public class Main {\n",
    "    private static final int COUNT_UP_TO = 1000;\n",
    "    private static final int NUM_OF_THREADS = 100;\n",
    "\n",
    "    private static final AtomicInteger mCount = new AtomicInteger(0);\n",
    "    //private static int mCount = 0;\n",
    "\n",
    "    public static void main(String[] args) throws InterruptedException {\n",
    "        //mCount=0;\n",
    "        mCount.set(0);\n",
    "\n",
    "        for(int i = 0; i < NUM_OF_THREADS; i++){\n",
    "            startThread();\n",
    "        }\n",
    "        Thread.sleep(2000);\n",
    "        //System.out.println(mCount);\n",
    "        System.out.println(mCount.get());\n",
    "    }\n",
    "\n",
    "    private static void startThread() {\n",
    "        new Thread(() ->{\n",
    "            for(int i = 0; i < COUNT_UP_TO; i++){\n",
    "                //mCount++;\n",
    "                mCount.incrementAndGet();\n",
    "            }\n",
    "        }).start();\n",
    "    }\n",
    "}"
   ]
  },
  {
   "cell_type": "code",
   "execution_count": null,
   "id": "268083b3-fb82-483c-a388-7703f24dcffb",
   "metadata": {},
   "outputs": [],
   "source": [
    "//kotlin\n",
    "import java.util.concurrent.atomic.AtomicInteger\n",
    "\n",
    "private const val COUNT_UP_TO = 1000\n",
    "private const val NUM_OF_THREADS = 100\n",
    "\n",
    "//@Volatile\n",
    "//private var mCount = 0\n",
    "\n",
    "private val mCount = AtomicInteger(0)\n",
    "\n",
    "fun main() {\n",
    "    //mCount = 0\n",
    "    mCount.set(0)\n",
    "    for (i in 0 until NUM_OF_THREADS) {\n",
    "        startThread()\n",
    "    }\n",
    "    Thread.sleep(2000)\n",
    "    //println(mCount)\n",
    "    println(mCount.get())\n",
    "}\n",
    "\n",
    "private fun startThread() {\n",
    "    Thread {\n",
    "        for (i in 0 until COUNT_UP_TO) {\n",
    "            //mCount++\n",
    "            mCount.incrementAndGet()\n",
    "        }\n",
    "    }.start()\n",
    "}"
   ]
  },
  {
   "cell_type": "markdown",
   "id": "4bfe05f1-afca-402a-b401-ee9f6e59c7b1",
   "metadata": {},
   "source": [
    "## 11.5 Synchronizacja"
   ]
  },
  {
   "cell_type": "markdown",
   "id": "4d57886b-3172-4fc3-ab6f-1e11b8d5cf14",
   "metadata": {},
   "source": [
    "```java\n",
    "static class Producer extends Thread {\n",
    "        @Override\n",
    "        public void run() {\n",
    "            while (true) {\n",
    "\n",
    "                    if(sCounter >= 7)\n",
    "                        break;\n",
    "                    int localValue = sCounter;\n",
    "                    localValue++;\n",
    "                    System.out.println(\"Producer: \" + localValue);\n",
    "                    sCounter = localValue;\n",
    "                \n",
    "\n",
    "                // try {\n",
    "                //     Thread.sleep(1000);\n",
    "                // } catch (InterruptedException e) {\n",
    "                //     return;\n",
    "                // }\n",
    "            }\n",
    "            System.out.println(\"Producer is terminated\");\n",
    "        }\n",
    "    }\n",
    "```"
   ]
  },
  {
   "cell_type": "markdown",
   "id": "abed5723-e2e9-403f-8bfa-e68327a0287a",
   "metadata": {},
   "source": [
    "Jeżeli pozbędziemy się wywołania `Thread.sleep` z klasy `Producer` wystąpi **race condition**. Dwa lub więcej wątków w sposób niekontrolowany uzyskują dostęp do tej samej informacji.\n",
    "\n",
    "Aby rozwiązać ten problem musimy zapewnić atomowość dostępu do danych. Gdy któryś z wątków wchodzi w pętle `while` chcemy zapewnić bezpieczeństwo wykonania - czyli uniemożliwić innemu wątkowi pracę na współdzielonych danych. Osiągamy to przez **synchronizację** pracy wątków."
   ]
  },
  {
   "cell_type": "code",
   "execution_count": null,
   "id": "7a990e9f-4eb2-4e10-b720-21d0b82f7f09",
   "metadata": {},
   "outputs": [],
   "source": [
    "public class Main {\n",
    "    private static volatile int sCounter = 0;\n",
    "\n",
    "    private static final Object LOCK = new Object();\n",
    "\n",
    "    public static void main(String[] args) {\n",
    "        new Consumer().start();\n",
    "        try {\n",
    "            Thread.sleep(500);\n",
    "        } catch (InterruptedException e) {\n",
    "            return;\n",
    "        }\n",
    "        new Producer().start();\n",
    "    }\n",
    "\n",
    "    static class Consumer extends Thread {\n",
    "        @Override\n",
    "        public void run() {\n",
    "            int localCounter = -1;\n",
    "            while (true) {\n",
    "                synchronized (LOCK) {\n",
    "                    if (localCounter != sCounter) {\n",
    "                        System.out.println(\"Consumer: \" + sCounter);\n",
    "                        localCounter = sCounter;\n",
    "                    }\n",
    "                    if (sCounter >= 7)\n",
    "                        break;\n",
    "                }\n",
    "            }\n",
    "            System.out.println(\"Consumer is terminated\");\n",
    "        }\n",
    "    }\n",
    "\n",
    "    static class Producer extends Thread {\n",
    "        @Override\n",
    "        public void run() {\n",
    "            while (true) {\n",
    "                synchronized (LOCK) {\n",
    "                    if(sCounter >= 7)\n",
    "                        break;\n",
    "                    int localValue = sCounter;\n",
    "                    localValue++;\n",
    "                    System.out.println(\"Producer: \" + localValue);\n",
    "                    sCounter = localValue;\n",
    "                }\n",
    "            }\n",
    "            System.out.println(\"Producer is terminated\");\n",
    "        }\n",
    "    }\n",
    "}\n"
   ]
  },
  {
   "cell_type": "code",
   "execution_count": null,
   "id": "5fb0f6e2-8f0a-4fc5-b919-3fefd6b64f0f",
   "metadata": {},
   "outputs": [],
   "source": [
    "public class Main {\n",
    "    private static int sCounter = 0;\n",
    "\n",
    "    private static final Object LOCK = new Object();\n",
    "\n",
    "    public static void main(String[] args) {\n",
    "        new Consumer().start();\n",
    "        try {\n",
    "            Thread.sleep(500);\n",
    "        } catch (InterruptedException e) {\n",
    "            return;\n",
    "        }\n",
    "        new Producer().start();\n",
    "    }\n",
    "\n",
    "    static class Consumer extends Thread {\n",
    "        @Override\n",
    "        public void run() {\n",
    "            int localCounter = -1;\n",
    "            while (true) {\n",
    "                synchronized (LOCK) {\n",
    "                    if (localCounter != sCounter) {\n",
    "                        System.out.println(\"Consumer: \" + sCounter);\n",
    "                        localCounter = sCounter;\n",
    "                    }\n",
    "                    if (sCounter >= 7)\n",
    "                        break;\n",
    "                    \n",
    "                    LOCK.notifyAll();\n",
    "                    \n",
    "                    try {\n",
    "                        LOCK.wait();\n",
    "                    } catch (InterruptedException e) {\n",
    "                        return;\n",
    "                    }\n",
    "                }\n",
    "\n",
    "            }\n",
    "            System.out.println(\"Consumer is terminated\");\n",
    "        }\n",
    "    }\n",
    "\n",
    "    static class Producer extends Thread {\n",
    "        @Override\n",
    "        public void run() {\n",
    "            while (true) {\n",
    "                synchronized (LOCK) {\n",
    "                    if(sCounter >= 7)\n",
    "                        break;\n",
    "                    int localValue = sCounter;\n",
    "                    localValue++;\n",
    "                    System.out.println(\"Producer: \" + localValue);\n",
    "                    sCounter = localValue;\n",
    "                    \n",
    "                    LOCK.notifyAll();\n",
    "                    \n",
    "                    try {\n",
    "                        LOCK.wait();\n",
    "                    } catch (InterruptedException e) {\n",
    "                        return;\n",
    "                    }\n",
    "\n",
    "                }\n",
    "            }\n",
    "            System.out.println(\"Producer is terminated\");\n",
    "        }\n",
    "    }\n",
    "}\n"
   ]
  }
 ],
 "metadata": {
  "kernelspec": {
   "display_name": "Java",
   "language": "java",
   "name": "java"
  },
  "language_info": {
   "codemirror_mode": "java",
   "file_extension": ".jshell",
   "mimetype": "text/x-java-source",
   "name": "Java",
   "pygments_lexer": "java",
   "version": "17+35-2724"
  }
 },
 "nbformat": 4,
 "nbformat_minor": 5
}
