{
 "cells": [
  {
   "cell_type": "markdown",
   "id": "d37f2844-8dc0-45a1-a732-15cad744eff2",
   "metadata": {},
   "source": [
    "# Wykład 13 - Wielowątkowość - `Executor`"
   ]
  },
  {
   "cell_type": "markdown",
   "id": "5ddf32aa-9446-4732-8cc1-971dfb68e011",
   "metadata": {},
   "source": [
    "- Niskopoziomowe elementy jak `synchronized`, `wait()`, `notify()` są skomplikowane w zastosowaniu\n",
    "- Duże poleganie na `synchronized` może doprowadzić do zbytniego obciążenia\n",
    "- Zazwyczaj niezbędne są wysokopoziomowe konstrukty"
   ]
  },
  {
   "cell_type": "markdown",
   "id": "3cbd3408-8854-48a4-bed4-8e6bf6abbb16",
   "metadata": {},
   "source": [
    "Do Javy wprowadzono framework `java.util.concurent`:\n",
    "- `Executor`\n",
    "- `atomic` - klasy zapewniające wsparcie dla programowania **lock-free** na pojedynczych zmiennych\n",
    "- `locks` - typ dostarczający funkcjonalność **lock-and-wait**"
   ]
  },
  {
   "cell_type": "markdown",
   "id": "3dd76ec9-ec14-4226-9a8f-ecac80baf5d3",
   "metadata": {},
   "source": [
    "<img src=\"https://dz2cdn1.dzone.com/storage/temp/13048369-1581789944647.png\" width=\"650\"/>"
   ]
  },
  {
   "cell_type": "markdown",
   "id": "299fdb97-f0e1-46a1-bc51-f20c86e02f59",
   "metadata": {},
   "source": [
    "## 13.1 `Executor`"
   ]
  },
  {
   "cell_type": "markdown",
   "id": "48a20065-25f0-468a-a49b-faadbd17272c",
   "metadata": {},
   "source": [
    "Pozwala na wykonanie `Runnable` przez wyrażenie. Wykonanie odbywa się na\n",
    "- aktualnym wątku\n",
    "- nowym wątku\n",
    "- na wątku z puli (`ThreadPool`)"
   ]
  },
  {
   "cell_type": "code",
   "execution_count": null,
   "id": "8c58d4de-b32f-42fe-b977-8c6729986412",
   "metadata": {},
   "outputs": [],
   "source": [
    "public interface Executor {\n",
    "  void execute(Runnable);\n",
    "}"
   ]
  },
  {
   "cell_type": "code",
   "execution_count": null,
   "id": "105ac4fe-02e6-49c8-9410-dc8d75cc0ba0",
   "metadata": {},
   "outputs": [],
   "source": [
    "Executor executor = ...; \n",
    "executor.execute(new RunnableTask());"
   ]
  },
  {
   "cell_type": "markdown",
   "id": "ff63664a-2603-4c5f-a938-1c61b5fd1a64",
   "metadata": {},
   "source": [
    "Ograniczenia:\n",
    "- Działa tylko z obiektami `Runnable` - metoda `run` nie zwraca wartości, więc nie ma łatwej możliwości dostarczenia wartości zwrócionej do obiektu wywołującego\n",
    "- Nie dostarcza metod śledzenia postępów wykonania\n",
    "- Nie dostarcza metod anulowania zadania\n",
    "- Nie dostarcza metod służących ustaleniu czy `Runnable` zakończył działania\n",
    "- Nie dostarcza metod umożliwiających obsługę kolekcji `Runnable`\n",
    "- Nie dostarcza metod umożliwiających przerwanie wykonania"
   ]
  },
  {
   "cell_type": "markdown",
   "id": "08fd5e8b-bdb6-4538-9663-efd3b0775734",
   "metadata": {},
   "source": [
    "## 13.2 `ExecutorService`"
   ]
  },
  {
   "cell_type": "markdown",
   "id": "9a22f7e0-ff30-4547-82d1-594ff6c81e52",
   "metadata": {},
   "source": [
    "`ExecutorService` dostarcza odpowiednie metody do wykonania powyższych działań\n",
    "- `boolean awaitTermination(long timeout, TimeUnit unit)` - oczekuj zakończenia wszystkich zadań, przekroczenia czasu oczekiwania lub przerwania\n",
    "- `<T> List<Future<T>> invokeAll(Collection<? extends Callable<T>> tasks)` - wykonaj wszystkie `Callable` w kolekcji i zwróć `Future` (przechowuje status i rezultat)\n",
    "- `<T> T invokeAny(Collection<? extends Callable<T>> tasks)` - wykonaj i zwróć rezultat dowolnego zakończonego sukcesem (nie rzucającego wyjątku) zadania\n",
    "- `boolean isShutdown()` - zwróć `true` gdy `Executor` został zamknięty\n",
    "- `boolean isTerminated()` - zwróć `true` gdy wszystkie zadania zostały wykonane\n",
    "- `void shutdown()` - zainicjuj uporządkowane zamknięcie, w którym wcześniej przesłane zadania są wykonywane - żadne nowe zadanie nie zostanie zaakceptowane\n",
    "- `<T> Future<T> submit(Callable<T> task)` - zgłoś `Callable` do wykonania i wróć `Future`\n",
    "- `Future<?> submit(Runnabletask)` - zgłoś `Runnable` do wykonania i wróć `Future`\n",
    "- `<T> Future<T> submit(Runnable task, T result)` - zgłoś `Runnable` do wykonania i wróć `Future` oraz wynik"
   ]
  },
  {
   "cell_type": "markdown",
   "id": "4b0ad63d-afb0-476f-b19d-1663d2a71c84",
   "metadata": {},
   "source": [
    "`TimeUnit` - granulacja czasu:\n",
    "- `TimeUnit.SECONDS`\n",
    "- `TimeUnit.MICROSECONDS`\n",
    "- `TimeUnit.MILLISECONDS`\n",
    "- `TimeUnit.NANOSECONDS`\n",
    "- `TimeUnit.DAYS`\n",
    "- `TimeUnit.HOURS`"
   ]
  },
  {
   "cell_type": "markdown",
   "id": "74972751-90fb-4007-b27e-5cf2aa20331a",
   "metadata": {},
   "source": [
    "## 13.3 `Callable`"
   ]
  },
  {
   "cell_type": "code",
   "execution_count": null,
   "id": "d17d8a91-8127-46c0-9442-c396bac109c8",
   "metadata": {},
   "outputs": [],
   "source": [
    "public interface Runnable {\n",
    "    public void run();\n",
    "}\n",
    "\n",
    "public interface Callable<V> {\n",
    "    V call() throws Exception;\n",
    "}"
   ]
  },
  {
   "cell_type": "markdown",
   "id": "7cbd412a-3c7a-404f-8e50-d23128fca448",
   "metadata": {},
   "source": [
    "`Callable` - interfejs generyczny z pojedynczą metodą zwracającą wartość `V`."
   ]
  },
  {
   "cell_type": "markdown",
   "id": "8f16ad3f-c92b-4717-9389-07614e0fee9e",
   "metadata": {},
   "source": [
    "## 13.4 `Future`"
   ]
  },
  {
   "cell_type": "markdown",
   "id": "c407ef05-eea5-4961-9092-38313f51fefb",
   "metadata": {},
   "source": [
    "`Future` - interfejs reprezentujący wynik asynchronicznego wykonania."
   ]
  },
  {
   "cell_type": "markdown",
   "id": "9fcd73ad-0978-418c-a1ba-b83732fc8e4e",
   "metadata": {},
   "source": [
    "Metody:\n",
    "- `boolean cancel(boolean mayInterruptIfRunning)` - spróbuj przerwać wykonanie zadania\n",
    "- `V get()` - Czekaj (jeżeli to konieczne) na zakończenie zadania i zwróć wartość\n",
    "- `V get(long timeout, TimeUnit unit)` - Czekaj przez określony czas na zakończenie zadania i zwróć wartość jeżeli jest dostępna\n",
    "- `boolean isCancelled()` - sprawdź czy zadanie zostało przerwane przed zakończeniem\n",
    "- `boolean isDone()` - sprawdź czy zadanie zostało zakończone"
   ]
  },
  {
   "cell_type": "code",
   "execution_count": 2,
   "id": "5e76e77e-5eb5-476d-a1a0-0f95dbaa2d19",
   "metadata": {},
   "outputs": [
    {
     "name": "stdout",
     "output_type": "stream",
     "text": [
      "waiting\n",
      "306\n"
     ]
    }
   ],
   "source": [
    "// java\n",
    "import java.math.BigInteger;\n",
    "import java.util.concurrent.Callable;\n",
    "import java.util.concurrent.ExecutionException;\n",
    "import java.util.concurrent.ExecutorService;\n",
    "import java.util.concurrent.Executors;\n",
    "import java.util.concurrent.Future;\n",
    "\n",
    "public class Main {\n",
    "    final static int sum = 17;\n",
    "\n",
    "    public static void main() {\n",
    "        ExecutorService executor = Executors.newSingleThreadExecutor();\n",
    "        Callable<BigInteger> callable;\n",
    "        callable = new Callable<BigInteger>() {\n",
    "            @Override\n",
    "            public BigInteger call() {\n",
    "                BigInteger result = BigInteger.ZERO;\n",
    "                for (int i = 0; i <= sum; i++) {\n",
    "                    result = result.add(BigInteger.valueOf(sum));\n",
    "                }\n",
    "                return result;\n",
    "            }\n",
    "        };\n",
    "\n",
    "        Future<BigInteger> taskFuture = executor.submit(callable);\n",
    "        try {\n",
    "            while (!taskFuture.isDone())\n",
    "                System.out.println(\"waiting\");\n",
    "            System.out.println(taskFuture.get());\n",
    "        } catch (\n",
    "                ExecutionException ee) {\n",
    "            System.err.println(\"task threw an exception\");\n",
    "            ee.printStackTrace();\n",
    "        } catch (\n",
    "                InterruptedException ie) {\n",
    "            System.err.println(\"interrupted while waiting\");\n",
    "        }\n",
    "        executor.shutdown();\n",
    "    }\n",
    "}\n",
    "Main.main()"
   ]
  },
  {
   "cell_type": "code",
   "execution_count": 6,
   "id": "7bf87811-36bb-4a6c-9b2e-83b459b282a6",
   "metadata": {},
   "outputs": [
    {
     "name": "stdout",
     "output_type": "stream",
     "text": [
      "waiting\n",
      "waiting\n",
      "waiting\n",
      "306\n"
     ]
    }
   ],
   "source": [
    "// kotlin\n",
    "import java.math.BigInteger\n",
    "import java.util.concurrent.Callable\n",
    "import java.util.concurrent.ExecutionException\n",
    "import java.util.concurrent.ExecutorService\n",
    "import java.util.concurrent.Executors\n",
    "import java.util.concurrent.Future\n",
    "\n",
    "\n",
    "val sum = 17\n",
    "fun main() {\n",
    "    val executor = Executors.newSingleThreadExecutor()\n",
    "    val callable: Callable<BigInteger> = Callable {\n",
    "        var result = BigInteger.ZERO\n",
    "        for (i in 0..sum) {\n",
    "            result = result.add(BigInteger.valueOf(sum.toLong()))\n",
    "        }\n",
    "        result\n",
    "    }\n",
    "    val taskFuture = executor.submit(callable)\n",
    "    try {\n",
    "        while (!taskFuture.isDone) println(\"waiting\")\n",
    "        println(taskFuture.get())\n",
    "    } catch (ee: ExecutionException) {\n",
    "        System.err.println(\"task threw an exception\")\n",
    "        ee.printStackTrace()\n",
    "    } catch (ie: InterruptedException) {\n",
    "        System.err.println(\"interrupted while waiting\")\n",
    "    }\n",
    "    executor.shutdown()\n",
    "}\n",
    "main()"
   ]
  },
  {
   "cell_type": "markdown",
   "id": "56c3069f-5148-491d-a9a7-9fa81ceb974c",
   "metadata": {},
   "source": [
    "## 13.5 `Executors`"
   ]
  },
  {
   "cell_type": "markdown",
   "id": "3a573bd3-c701-4e8c-8619-e7602217f8d2",
   "metadata": {},
   "source": [
    "- `newFixedThreadPool` - tworzy `ThreadPool` który wielokrotnie wykorzystuje określoną liczbę wątków z nieograniczonej współdzielonej kolejki.\n",
    "\n",
    "```java\n",
    "public static ExecutorService newFixedThreadPool(int nThreads) {\n",
    "    return new ThreadPoolExecutor(nThreads, nThreads,\n",
    "                                  0L, TimeUnit.MILLISECONDS,\n",
    "                                  new LinkedBlockingQueue<Runnable>());\n",
    "}\n",
    "\n",
    "public static ExecutorService newFixedThreadPool(int nThreads, ThreadFactory threadFactory) {\n",
    "    return new ThreadPoolExecutor(nThreads, nThreads,\n",
    "                                  0L, TimeUnit.MILLISECONDS,\n",
    "                                  new LinkedBlockingQueue<Runnable>(),\n",
    "                                  threadFactory);\n",
    "}\n",
    "```\n",
    "\n",
    "- `newSingleThreadExecutor` - tworzy `Executor` wykorzystujący pojedynczy wątek roboczy operujący na nieograniczonej kolejce\n",
    "\n",
    "```java\n",
    "public static ExecutorService newSingleThreadExecutor() {\n",
    "    return new DelegatedExecutorService\n",
    "        (new ThreadPoolExecutor(1, 1,\n",
    "                                0L, TimeUnit.MILLISECONDS,\n",
    "                                new LinkedBlockingQueue<Runnable>()));\n",
    "}\n",
    "\n",
    "public static ExecutorService newSingleThreadExecutor(ThreadFactory threadFactory) {\n",
    "    return new DelegatedExecutorService\n",
    "        (new ThreadPoolExecutor(1, 1,\n",
    "                                0L, TimeUnit.MILLISECONDS,\n",
    "                                new LinkedBlockingQueue<Runnable>(),\n",
    "                                threadFactory));\n",
    "}\n",
    "```\n",
    "\n",
    "- `newCachedThreadPool` - tworzy `ThreadPool` tworzący nowe wątki gdy są potrzebne, używający już utworzonych wątków gdy są dostępne\n",
    "\n",
    "```java\n",
    "public static ExecutorService newCachedThreadPool() {\n",
    "    return new ThreadPoolExecutor(0, Integer.MAX_VALUE,\n",
    "                                  60L, TimeUnit.SECONDS,\n",
    "                                  new SynchronousQueue<Runnable>());\n",
    "}\n",
    "\n",
    "public static ExecutorService newCachedThreadPool(ThreadFactory threadFactory) {\n",
    "    return new ThreadPoolExecutor(0, Integer.MAX_VALUE,\n",
    "                                  60L, TimeUnit.SECONDS,\n",
    "                                  new SynchronousQueue<Runnable>(),\n",
    "                                  threadFactory);\n",
    "```\n",
    "\n",
    "- `newSingleThreadScheduledExecutor` - tworzy `Executor` który może zaplanować wykonanie zadań po określonym opóźnieniu lub periodycznie\n",
    "\n",
    "```java\n",
    "public static ScheduledExecutorService newSingleThreadScheduledExecutor()\n",
    "public static ScheduledExecutorService newSingleThreadScheduledExecutor(ThreadFactory threadFactory)\n",
    "```\n",
    "\n",
    "- `newScheduledThreadPool` - tworzy `ThreadPool` mogący zaplanować wykonanie zadań po określonym opóźnieniu lub periodycznie\n",
    "\n",
    "```java\n",
    "public static ScheduledExecutorService newScheduledThreadPool(int corePoolSize)\n",
    "public static ScheduledExecutorService newScheduledThreadPool(int corePoolSize,\n",
    "                                              ThreadFactory threadFactory)\n",
    "```"
   ]
  },
  {
   "cell_type": "code",
   "execution_count": 6,
   "id": "dc3b4053-7800-426b-b8ac-de6a19cd8024",
   "metadata": {},
   "outputs": [
    {
     "name": "stdout",
     "output_type": "stream",
     "text": [
      "Wątek dla sumy w zakresie 1 - 100000 \n",
      "Wątek dla sumy w zakresie 100001 - 200000 \n",
      "Wątek dla sumy w zakresie 200001 - 300000 \n",
      "Wątek dla sumy w zakresie 300001 - 400000 \n",
      "Wątek dla sumy w zakresie 400001 - 500000 \n",
      "Wątek dla sumy w zakresie 500001 - 600000 \n",
      "Wątek dla sumy w zakresie 600001 - 700000 \n",
      "Wątek dla sumy w zakresie 700001 - 800000 \n",
      "Wątek dla sumy w zakresie 800001 - 900000 \n",
      "Wątek dla sumy w zakresie 900001 - 1000000 \n",
      "Suma = 1000001000000"
     ]
    }
   ],
   "source": [
    "// java\n",
    "\n",
    "import java.math.BigInteger;\n",
    "import java.util.ArrayList;\n",
    "import java.util.List;\n",
    "import java.util.concurrent.*;\n",
    "\n",
    "public class Main {\n",
    "    private static BigInteger calculatedSum = BigInteger.ZERO;\n",
    "    private static final int NUM_THREADS = 10;\n",
    "\n",
    "    static class Sum implements Callable<BigInteger> {\n",
    "        long from, to;\n",
    "        BigInteger localSum = BigInteger.ZERO;\n",
    "\n",
    "        public Sum(long from, long to) {\n",
    "            this.from = from;\n",
    "            this.to = to;\n",
    "        }\n",
    "\n",
    "        @Override\n",
    "        public BigInteger call() {\n",
    "            for (long i = from; i <= to; i++)\n",
    "                localSum = localSum.add(BigInteger.valueOf(i));\n",
    "            return localSum;\n",
    "        }\n",
    "    }\n",
    "\n",
    "    public static void main() {\n",
    "        ExecutorService executorService = Executors.newFixedThreadPool(NUM_THREADS);\n",
    "        List<Future<BigInteger>> summationTasks = new ArrayList<>();\n",
    "\n",
    "        long n = 1000000L;\n",
    "        long taskNum = n / 10; // 10 tasks\n",
    "\n",
    "        for (int i = 0; i < NUM_THREADS; i++) {\n",
    "            long fromInInnerRange = (taskNum * i) + 1;\n",
    "            long toInInnerRange = taskNum * (i + 1);\n",
    "\n",
    "            System.out.printf(\"Wątek dla sumy w zakresie %d - %d %n\", fromInInnerRange, toInInnerRange);\n",
    "            Callable<BigInteger> summationTask = new Sum(fromInInnerRange, toInInnerRange);\n",
    "            Future<BigInteger> futureSum = executorService.submit(summationTask);\n",
    "            summationTasks.add(futureSum);\n",
    "        }\n",
    "\n",
    "        for (Future<BigInteger> partialSum : summationTasks) {\n",
    "            try {\n",
    "                calculatedSum = calculatedSum.add(partialSum.get());\n",
    "            } catch (CancellationException | ExecutionException | InterruptedException exception) {\n",
    "                exception.printStackTrace();\n",
    "            }\n",
    "        }\n",
    "        System.out.printf(\"Suma = %d\", calculatedSum);\n",
    "        executorService.shutdown();\n",
    "    }\n",
    "}\n",
    "\n",
    "Main.main()"
   ]
  },
  {
   "cell_type": "code",
   "execution_count": 3,
   "id": "72a234bb-6d11-4dd1-821f-ca405017ded8",
   "metadata": {},
   "outputs": [
    {
     "name": "stdout",
     "output_type": "stream",
     "text": [
      "Wątek dla sumy w zakresie 1 - 100000 \n",
      "Wątek dla sumy w zakresie 100001 - 200000 \n",
      "Wątek dla sumy w zakresie 200001 - 300000 \n",
      "Wątek dla sumy w zakresie 300001 - 400000 \n",
      "Wątek dla sumy w zakresie 400001 - 500000 \n",
      "Wątek dla sumy w zakresie 500001 - 600000 \n",
      "Wątek dla sumy w zakresie 600001 - 700000 \n",
      "Wątek dla sumy w zakresie 700001 - 800000 \n",
      "Wątek dla sumy w zakresie 800001 - 900000 \n",
      "Wątek dla sumy w zakresie 900001 - 1000000 \n",
      "Suma = 500000500000"
     ]
    }
   ],
   "source": [
    "// kotlin\n",
    "\n",
    "import java.math.BigInteger\n",
    "import java.util.concurrent.*\n",
    "\n",
    "\n",
    "var calculatedSum = BigInteger.ZERO\n",
    "val NUM_THREADS = 10\n",
    "fun main() {\n",
    "    val executorService = Executors.newFixedThreadPool(NUM_THREADS)\n",
    "    val summationTasks: MutableList<Future<BigInteger>> = ArrayList()\n",
    "    val n = 1000000L\n",
    "    val taskNum = n / 10 // 10 tasks\n",
    "        \n",
    "    for (i in 0 until NUM_THREADS) {\n",
    "        val fromInInnerRange = taskNum * i + 1\n",
    "        val toInInnerRange = taskNum * (i + 1)\n",
    "        System.out.printf(\"Wątek dla sumy w zakresie %d - %d %n\", fromInInnerRange, toInInnerRange)\n",
    "        val summationTask: Callable<BigInteger> = Sum(fromInInnerRange, toInInnerRange)\n",
    "        val futureSum = executorService.submit(summationTask)\n",
    "        summationTasks.add(futureSum)\n",
    "    }\n",
    "    \n",
    "    for (partialSum in summationTasks) {\n",
    "        try {\n",
    "            calculatedSum = calculatedSum.add(partialSum.get())\n",
    "        } catch (exception: CancellationException) {\n",
    "            exception.printStackTrace()\n",
    "        } catch (exception: ExecutionException) {\n",
    "            exception.printStackTrace()\n",
    "        } catch (exception: InterruptedException) {\n",
    "            exception.printStackTrace()\n",
    "        }\n",
    "    }\n",
    "    \n",
    "    System.out.printf(\"Suma = %d\", calculatedSum)\n",
    "    executorService.shutdown()\n",
    "}\n",
    "\n",
    "internal class Sum(var from: Long, var to: Long) : Callable<BigInteger> {\n",
    "    var localSum: BigInteger = BigInteger.ZERO\n",
    "    override fun call(): BigInteger {\n",
    "        for (i in from..to) localSum = localSum.add(BigInteger.valueOf(i))\n",
    "        return localSum\n",
    "    }\n",
    "}\n",
    "main()"
   ]
  },
  {
   "cell_type": "code",
   "execution_count": null,
   "id": "0817eacf-fce4-4316-84f7-7c8c5eb56b94",
   "metadata": {},
   "outputs": [],
   "source": []
  }
 ],
 "metadata": {
  "kernelspec": {
   "display_name": "Kotlin",
   "language": "kotlin",
   "name": "kotlin"
  },
  "language_info": {
   "codemirror_mode": "text/x-kotlin",
   "file_extension": ".kt",
   "mimetype": "text/x-kotlin",
   "name": "kotlin",
   "nbconvert_exporter": "",
   "pygments_lexer": "kotlin",
   "version": "1.6.20-dev-6372"
  }
 },
 "nbformat": 4,
 "nbformat_minor": 5
}
