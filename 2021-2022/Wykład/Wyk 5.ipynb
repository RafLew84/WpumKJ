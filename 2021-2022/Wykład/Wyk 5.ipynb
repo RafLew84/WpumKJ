{
 "cells": [
  {
   "cell_type": "markdown",
   "id": "9f9ef697-ed9d-4448-9b49-868499abf020",
   "metadata": {},
   "source": [
    "# Wykład 5 - Generyki"
   ]
  },
  {
   "cell_type": "markdown",
   "id": "e90ea52f-5f21-49fa-9c27-10d59ef53422",
   "metadata": {},
   "source": [
    "## 5.1 Generyczne argumenty typowane"
   ]
  },
  {
   "cell_type": "code",
   "execution_count": 10,
   "id": "6b04d6c3-3586-4785-9775-1ae128403f1e",
   "metadata": {},
   "outputs": [],
   "source": [
    "val lecturers = listOf(\"Rafał\", \"Robert\") // domniemanie argumentów typowanych\n",
    "val lecturersList: List<String> = listOf(\"Rafał\", \"Robert\")"
   ]
  },
  {
   "cell_type": "code",
   "execution_count": 8,
   "id": "8dd7d114-bd40-4b2d-8308-9c25d554520f",
   "metadata": {},
   "outputs": [],
   "source": [
    "List<String> lecturers = new ArrayList<String>();\n",
    "lecturers.add(\"Rafał\");\n",
    "lecturers.add(\"Robert\");\n",
    "\n",
    "List<String> list = Arrays.asList(\"Rafał\", \"Robert\");\n",
    "List list = Arrays.asList(\"Rafał\", \"Robert\"); // typ surowy"
   ]
  },
  {
   "cell_type": "markdown",
   "id": "1cddc785-e190-4b82-8552-9ec8b0f2becf",
   "metadata": {},
   "source": [
    "## 5.2 Funkcje gerenyczne\n",
    "\n",
    "Jeżeli potrzebujemy funkcję przetwarzającą dowolną listę, a nie listę elementów o określonym typie, możemy wykorzystać funkcję generyczną"
   ]
  },
  {
   "cell_type": "code",
   "execution_count": 37,
   "id": "ac4aec23-a6fd-429e-ac50-dcffa3d4b6b3",
   "metadata": {},
   "outputs": [],
   "source": [
    "fun <T> List<T>.destruct(ind: Int):Pair<List<T>, List<T>> = Pair(take(ind), drop(ind))"
   ]
  },
  {
   "cell_type": "markdown",
   "id": "87437893-529c-4b01-a259-b001e961b25c",
   "metadata": {},
   "source": [
    "- `fun<T>` - deklaracja argumentu typowanego\n",
    "- `List<T>` - typ odbiornika funkcji\n",
    "- `Pair<List<T>, List<T>>` - typ zwracanego wyniku"
   ]
  },
  {
   "cell_type": "code",
   "execution_count": 38,
   "id": "7402ecd5-4bfd-4df3-9759-3b5c65ad84ee",
   "metadata": {},
   "outputs": [
    {
     "name": "stdout",
     "output_type": "stream",
     "text": [
      "([1], [2, 3, 4, 5])\n"
     ]
    }
   ],
   "source": [
    "val lista = listOf(1, 2, 3, 4, 5)\n",
    "println(lista.destruct(1))"
   ]
  },
  {
   "cell_type": "code",
   "execution_count": 39,
   "id": "558ffdf2-ec6d-41f3-9832-993d42181c2b",
   "metadata": {},
   "outputs": [
    {
     "name": "stdout",
     "output_type": "stream",
     "text": [
      "([a], [b, c, d, e])\n"
     ]
    }
   ],
   "source": [
    "val listb = listOf('a', 'b', 'c', 'd', 'e')\n",
    "println(listb.destruct(1))"
   ]
  },
  {
   "cell_type": "code",
   "execution_count": 46,
   "id": "bc50576d-dd00-4dc4-941d-998a1cbcb0f7",
   "metadata": {},
   "outputs": [
    {
     "name": "stdout",
     "output_type": "stream",
     "text": [
      "4\n",
      "Robert\n"
     ]
    }
   ],
   "source": [
    "val <T> List<T>.przedostatni: T\n",
    "    get() = this[size - 2]\n",
    "\n",
    "println(listOf(1, 2, 3, 4, 5).przedostatni)\n",
    "println(listOf(\"Rafał\", \"Robert\", \"Ania\").przedostatni)"
   ]
  },
  {
   "cell_type": "markdown",
   "id": "c376b714-d4f9-426c-9811-7372cf6a7b2e",
   "metadata": {},
   "source": [
    "## 5.3 Klasy generyczne"
   ]
  },
  {
   "cell_type": "code",
   "execution_count": 53,
   "id": "844db1f2-cd42-4bf1-8147-8242ed5f4773",
   "metadata": {},
   "outputs": [
    {
     "name": "stdout",
     "output_type": "stream",
     "text": [
      "1\n"
     ]
    }
   ],
   "source": [
    "class Store<T>(t: T) {\n",
    "    var a = t\n",
    "}\n",
    "\n",
    "val store: Store<Int> = Store<Int>(1)\n",
    "println(store.a)"
   ]
  },
  {
   "cell_type": "code",
   "execution_count": 54,
   "id": "e7976df1-73c7-4b63-84d7-b08168c30b7b",
   "metadata": {},
   "outputs": [
    {
     "name": "stdout",
     "output_type": "stream",
     "text": [
      "1\n"
     ]
    }
   ],
   "source": [
    "val store2 = Store(1)\n",
    "println(store2.a)"
   ]
  },
  {
   "cell_type": "code",
   "execution_count": 55,
   "id": "ba0e1bc3-de15-40bb-9dd9-c68d67bdb58c",
   "metadata": {},
   "outputs": [
    {
     "name": "stdout",
     "output_type": "stream",
     "text": [
      "Rafał\n"
     ]
    }
   ],
   "source": [
    "val store3 = Store(\"Rafał\")\n",
    "println(store3.a)"
   ]
  },
  {
   "cell_type": "markdown",
   "id": "01b326ff-4366-4ac2-861a-e296a530a2eb",
   "metadata": {},
   "source": [
    "## 5.4 Interfejsy generyczne"
   ]
  },
  {
   "cell_type": "code",
   "execution_count": 68,
   "id": "df75c540-e5b8-4ed3-a077-670290cb232f",
   "metadata": {},
   "outputs": [],
   "source": [
    "interface Porownaj<T> {\n",
    "    fun porownajDo(other: T): String\n",
    "}\n",
    "\n",
    "class Student(name: String): Porownaj<Student> {\n",
    "    val name: String = name\n",
    "    \n",
    "    override fun porownajDo(other: Student): String = \n",
    "        if (this.name.first() > other.name.first())\n",
    "            this.name else other.name\n",
    "}"
   ]
  },
  {
   "cell_type": "code",
   "execution_count": 72,
   "id": "d2fa9460-bb04-42b7-a04a-9244be27770e",
   "metadata": {},
   "outputs": [
    {
     "name": "stdout",
     "output_type": "stream",
     "text": [
      "Rafał\n"
     ]
    }
   ],
   "source": [
    "val rafal = Student(\"Rafał\")\n",
    "val ania = Student(\"Ania\")\n",
    "\n",
    "println(rafal.porownajDo(ania))"
   ]
  },
  {
   "cell_type": "code",
   "execution_count": 73,
   "id": "562090ae-a492-407b-8e4f-dc7a03a02c3b",
   "metadata": {},
   "outputs": [
    {
     "name": "stdout",
     "output_type": "stream",
     "text": [
      "Rafał\n"
     ]
    }
   ],
   "source": [
    "println(ania.porownajDo(rafal))"
   ]
  },
  {
   "cell_type": "markdown",
   "id": "33522122-3f4c-443d-b010-60495d416c08",
   "metadata": {},
   "source": [
    "## 5.5 Granice"
   ]
  },
  {
   "cell_type": "markdown",
   "id": "aa4331cd-b972-49c1-84f8-0ed5c55f63b5",
   "metadata": {},
   "source": [
    "Jeżeli chcemy ograniczyć listę typów, przykładowo chcemy obliczyć sumę, możemy zastosować granice typów."
   ]
  },
  {
   "cell_type": "code",
   "execution_count": 76,
   "id": "b84ad911-91a9-4f7c-b35a-18bed8fb3667",
   "metadata": {},
   "outputs": [
    {
     "name": "stdout",
     "output_type": "stream",
     "text": [
      "1.5\n"
     ]
    }
   ],
   "source": [
    "fun <T: Number> half(value: T): Double {\n",
    "    return value.toDouble() / 2.0\n",
    "}\n",
    "\n",
    "println(half(3.0))"
   ]
  },
  {
   "cell_type": "markdown",
   "id": "de6f6c3e-155d-4519-908c-94314cd0aa98",
   "metadata": {},
   "source": [
    "- klasa `Number` (superklasa wszyskich klas reprezentujących wartości liczbowe) jest **górną** granicą argumentu typowanego"
   ]
  },
  {
   "cell_type": "code",
   "execution_count": 77,
   "id": "600d3ec6-bedc-45e6-b138-203aca6c481d",
   "metadata": {},
   "outputs": [
    {
     "name": "stderr",
     "output_type": "stream",
     "text": [
      "Line_76.jupyter-kts (1:14 - 17) Type mismatch: inferred type is String but Number was expected"
     ]
    }
   ],
   "source": [
    "println(half(\"a\"))"
   ]
  },
  {
   "cell_type": "code",
   "execution_count": 78,
   "id": "4d081619-737b-4fce-9cdc-a54106cf8b8e",
   "metadata": {},
   "outputs": [
    {
     "name": "stdout",
     "output_type": "stream",
     "text": [
      "Rafał\n"
     ]
    }
   ],
   "source": [
    "fun <T: Comparable<T>> max (first: T, second: T): T {\n",
    "    return if (first > second) first else second\n",
    "}\n",
    "\n",
    "println(max(\"Rafał\", \"Ania\"))"
   ]
  },
  {
   "cell_type": "code",
   "execution_count": 79,
   "id": "5eba3ee7-0bc6-4ca8-9e65-3b54cd4f30ec",
   "metadata": {},
   "outputs": [
    {
     "name": "stdout",
     "output_type": "stream",
     "text": [
      "2\n"
     ]
    }
   ],
   "source": [
    "println(max(1, 2))"
   ]
  },
  {
   "cell_type": "code",
   "execution_count": 82,
   "id": "5c12780b-651a-41d7-88dc-7bcae61afbed",
   "metadata": {},
   "outputs": [],
   "source": [
    "class Student(name: String): Comparable<Student> {\n",
    "    val name: String = name\n",
    "    \n",
    "    override fun compareTo(other: Student): Int = \n",
    "        if (this.name.first() > other.name.first())\n",
    "            1 else 2\n",
    "}"
   ]
  },
  {
   "cell_type": "code",
   "execution_count": 84,
   "id": "a1f052e8-c3ef-4347-ac1e-b54dadad8fca",
   "metadata": {},
   "outputs": [
    {
     "name": "stdout",
     "output_type": "stream",
     "text": [
      "1\n"
     ]
    }
   ],
   "source": [
    "val rafal = Student(\"Rafał\")\n",
    "val ania = Student(\"Ania\")\n",
    "\n",
    "println(rafal.compareTo(ania))"
   ]
  },
  {
   "cell_type": "code",
   "execution_count": 88,
   "id": "1c276916-5e18-42eb-a5c8-42ffb9fe13bf",
   "metadata": {},
   "outputs": [
    {
     "name": "stdout",
     "output_type": "stream",
     "text": [
      "Hello WpumKJ.\n"
     ]
    }
   ],
   "source": [
    "fun <T> ensureTrailingPeriod(seq: T)\n",
    "    where T: CharSequence, T: Appendable {\n",
    "    \n",
    "    if (!seq.endsWith('.'))\n",
    "        seq.append('.')\n",
    "}\n",
    "    \n",
    "val hello = StringBuilder(\"Hello WpumKJ\")\n",
    "ensureTrailingPeriod(hello)\n",
    "println(hello)"
   ]
  },
  {
   "cell_type": "markdown",
   "id": "840dcf22-e77b-4e33-961d-6268ba42177a",
   "metadata": {},
   "source": [
    "## 5.6 Klasy kowariantne, kontrawariantne i inwariantne\n",
    "\n",
    "Mamy klasę `X<T>`. Jeżeli `A` jest podtypem `B`, czyli `B: A`, to `X<A>` jest podtypem `X<B>`\n",
    "\n",
    "Innymi słowy, klasa kowariantna to klasa generyczna zachowująca zależność między podtypami"
   ]
  },
  {
   "cell_type": "code",
   "execution_count": 116,
   "id": "26f0d012-b807-4d29-8e48-7791752dd87d",
   "metadata": {},
   "outputs": [],
   "source": [
    "open class University\n",
    "open class Department : University()\n",
    "class ISSP : Department()"
   ]
  },
  {
   "cell_type": "code",
   "execution_count": 117,
   "id": "e6b81c1f-9fdc-4b47-b038-8632e42d4e88",
   "metadata": {},
   "outputs": [],
   "source": [
    "class Lectures<out T> {\n",
    "    private val contents = mutableListOf<T>()\n",
    "    fun produce(): T = contents.last()\n",
    "    //fun consume(item: T) = contents.add(item)\n",
    "}"
   ]
  },
  {
   "cell_type": "code",
   "execution_count": 118,
   "id": "b1034e22-804a-4509-96b5-5f6bbdb99586",
   "metadata": {},
   "outputs": [],
   "source": [
    "fun useProducer(l: Lectures<Department>) {\n",
    "    val lecture = l.produce()\n",
    "}"
   ]
  },
  {
   "cell_type": "code",
   "execution_count": 124,
   "id": "38288875-c94f-4f0e-9a41-173bee70b23c",
   "metadata": {},
   "outputs": [
    {
     "name": "stderr",
     "output_type": "stream",
     "text": [
      "Line_123.jupyter-kts (3:13 - 35) Type mismatch: inferred type is Line_116.Lectures<Line_115.University> but Line_116.Lectures<Line_115.Department> was expected"
     ]
    }
   ],
   "source": [
    "//useProducer(Lectures<ISSP>())\n",
    "//useProducer(Lectures<Department>())\n",
    "//useProducer(Lectures<University>())"
   ]
  },
  {
   "cell_type": "code",
   "execution_count": 135,
   "id": "ff8a7f54-0698-4ecc-ad63-a0f847b07c0c",
   "metadata": {},
   "outputs": [],
   "source": [
    "class Lectures<in T> {\n",
    "    private val contents = mutableListOf<T>()\n",
    "    //fun produce(): T = contents.last()\n",
    "    fun consume(item: T) = contents.add(item)\n",
    "}"
   ]
  },
  {
   "cell_type": "code",
   "execution_count": 139,
   "id": "3f97c8de-d266-4bea-9faa-98405404365e",
   "metadata": {},
   "outputs": [],
   "source": [
    "fun useConsumer(l: Lectures<Department>) {\n",
    "    l.consume(ISSP())\n",
    "}"
   ]
  },
  {
   "cell_type": "markdown",
   "id": "daa560bf-32cf-4067-88f9-c77b40b75367",
   "metadata": {},
   "source": [
    "`open class A`\n",
    "`class B: A`\n",
    "\n",
    "- klasa kowariantna `Class<out T>` - zależność pomiędzy podtypami jest zachowana (`class<B> jest podtypem class<A>`), typ `T` można stosować tylko w pozycji wyjściowej\n",
    "- klasa kontrawariantna `Class<in T>` - zależność pomiędzy podtypami jest odwrócona (`class<A>` jest podtypem `class<B>`), typ `T` można stosować tylko w pozycji wejściowej\n",
    "- klasa inwariantna `Class<T>` - brak zależności pomiędzy podtypami, typ `T` może być w dowolnej pozycji"
   ]
  },
  {
   "cell_type": "markdown",
   "id": "5cff0273-6087-4095-b509-9a0d6ee41b67",
   "metadata": {},
   "source": [
    "## 5.7 Projekcja `*` (typ projektowany)"
   ]
  },
  {
   "cell_type": "markdown",
   "id": "3db661e5-45e5-4ad3-9448-bd922459d134",
   "metadata": {},
   "source": [
    "Typ `MutableList<Any?>` może zawierać obiekty **dowolnego** typu<br>\n",
    "Typ `MutableList<*>` może zawierać obiekty **jednego** typu, ale nie wiadomo jakiego"
   ]
  },
  {
   "cell_type": "code",
   "execution_count": 143,
   "id": "13ba8ede-1d6d-4f5f-8c19-ace41cf993d4",
   "metadata": {},
   "outputs": [],
   "source": [
    "val l: MutableList<Any?> = mutableListOf('a', 1, \"Rafał\", null)\n",
    "val star: MutableList<*> = mutableListOf('a', 'b', 'c')\n",
    "\n",
    "//stars.add(4)"
   ]
  },
  {
   "cell_type": "code",
   "execution_count": null,
   "id": "ae25ad4b-e360-4cca-88a7-7e0606d16175",
   "metadata": {},
   "outputs": [],
   "source": []
  }
 ],
 "metadata": {
  "kernelspec": {
   "display_name": "Kotlin",
   "language": "kotlin",
   "name": "kotlin"
  },
  "language_info": {
   "codemirror_mode": "text/x-kotlin",
   "file_extension": ".kt",
   "mimetype": "text/x-kotlin",
   "name": "kotlin",
   "nbconvert_exporter": "",
   "pygments_lexer": "kotlin",
   "version": "1.6.20-dev-6372"
  }
 },
 "nbformat": 4,
 "nbformat_minor": 5
}
