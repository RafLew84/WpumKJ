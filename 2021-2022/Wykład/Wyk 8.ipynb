{
 "cells": [
  {
   "cell_type": "markdown",
   "id": "c45c9634-2d50-4ed4-b8f4-c76977352b29",
   "metadata": {},
   "source": [
    "# Wykład 8 - Programowanie Orientowane Obiektowo"
   ]
  },
  {
   "cell_type": "markdown",
   "id": "a131e8ba-0473-49c8-8841-92a2890b0b4b",
   "metadata": {},
   "source": [
    "## 8.1 Konstruktor"
   ]
  },
  {
   "cell_type": "code",
   "execution_count": null,
   "id": "2de810f9-2ca0-422d-9876-1f0352c1297b",
   "metadata": {},
   "outputs": [],
   "source": [
    "public class Student\n",
    "{\n",
    "    public Student(String name)\n",
    "    {\n",
    "        this (name, null);\n",
    "        System.out.println(\"Student(String name) called\");\n",
    "        System.out.println();\n",
    "    }\n",
    "\n",
    "    public Student(String name, String grade)\n",
    "    {\n",
    "        System.out.println(\"Student(String name, String grade) called\");\n",
    "        if (name != null)\n",
    "        {\n",
    "            System.out.println(\"reading \" + name);\n",
    "\n",
    "            if (grade != null)\n",
    "                System.out.println(\"Student \" + name + \" grade \" + grade);\n",
    "        }\n",
    "    }\n",
    "}\n"
   ]
  },
  {
   "cell_type": "markdown",
   "id": "66248fd1-d4bb-441e-b116-0752dec29a14",
   "metadata": {},
   "source": [
    "## 8.2 static vs companion object"
   ]
  },
  {
   "cell_type": "code",
   "execution_count": 6,
   "id": "afd487ea-8fc4-43e0-8a62-0562601cd45e",
   "metadata": {},
   "outputs": [
    {
     "name": "stdout",
     "output_type": "stream",
     "text": [
      "static counter: 9\n",
      "static counter: 10\n",
      "static counter: 11\n",
      "\n",
      "=================\n",
      "\n",
      "counter 1: 1\n",
      "static counter: 11\n",
      "counter 2: 1\n",
      "counter 1: 2\n",
      "static counter: 12\n",
      "counter 2: 1\n",
      "static counter: 12\n",
      "static counter: 12\n"
     ]
    }
   ],
   "source": [
    "public class Counter {\n",
    "\n",
    "    public static int staticCounter = 0;\n",
    "    private int counter = 0;\n",
    "\n",
    "    public static int getStaticCounter() {\n",
    "        return staticCounter;\n",
    "    }\n",
    "\n",
    "    public int getCounter() {\n",
    "        return counter;\n",
    "    }\n",
    "\n",
    "    public Counter()\n",
    "    {\n",
    "        staticCounter++;\n",
    "        counter++;\n",
    "    }\n",
    "\n",
    "    public void increaseCounter(){\n",
    "        this.counter++;\n",
    "    }\n",
    "\n",
    "    public void increaseStaticCounter(){\n",
    "        staticCounter++;\n",
    "    }\n",
    "}\n",
    "\n",
    "public class Main {\n",
    "\n",
    "    public static void main (){\n",
    "        System.out.println(\"static counter: \" + Counter.staticCounter);\n",
    "\n",
    "        Counter counter1 = new Counter();\n",
    "        System.out.println(\"static counter: \" + Counter.staticCounter);\n",
    "\n",
    "        Counter counter2 = new Counter();\n",
    "        System.out.println(\"static counter: \" + Counter.staticCounter);\n",
    "\n",
    "        System.out.println();\n",
    "        System.out.println(\"=================\");\n",
    "        System.out.println();\n",
    "        \n",
    "        System.out.println(\"counter 1: \" + counter1.getCounter());\n",
    "        System.out.println(\"static counter: \" + counter1.getStaticCounter());\n",
    "        System.out.println(\"counter 2: \" + counter2.getCounter());\n",
    "        \n",
    "        counter1.increaseCounter();\n",
    "        counter1.increaseStaticCounter();\n",
    "\n",
    "        System.out.println(\"counter 1: \" + counter1.getCounter());\n",
    "        System.out.println(\"static counter: \" + counter1.getStaticCounter());\n",
    "        System.out.println(\"counter 2: \" + counter2.getCounter());\n",
    "        System.out.println(\"static counter: \" + counter2.getStaticCounter());\n",
    "\n",
    "\n",
    "        System.out.println(\"static counter: \" + Counter.getStaticCounter());\n",
    "    }\n",
    "}\n",
    "\n",
    "Main.main()"
   ]
  },
  {
   "cell_type": "code",
   "execution_count": 7,
   "id": "5891a7fa-393b-48be-a3bf-439390e04541",
   "metadata": {},
   "outputs": [
    {
     "name": "stderr",
     "output_type": "stream",
     "text": [
      "Line_6.jupyter-kts (19:10 - 34) Unresolved reference: increaseCompanionCounter"
     ]
    }
   ],
   "source": [
    "class Counter(var counter: Int = 0){\n",
    "    \n",
    "    fun increaseCounter(){\n",
    "        counter++\n",
    "    }\n",
    "    \n",
    "    companion object{\n",
    "        var companionCounter = 0\n",
    "        fun increaseCompanionCounter(){\n",
    "            companionCounter++\n",
    "        }\n",
    "    }\n",
    "}\n",
    "\n",
    "val counter1 = Counter()\n",
    "val counter2 = Counter()\n",
    "\n",
    "counter1.increaseCounter()\n",
    "//counter1.increaseCompanionCounter()\n",
    "\n",
    "counter2.increaseCounter()\n",
    "//counter2.increaseCompanionCounter()\n",
    "\n",
    "println(\"Counter 1 instance counter: \" + counter1.counter)\n",
    "println(\"Counter 2 instance counter: \" + counter2.counter)\n",
    "//println(counter1.companionCounter)\n",
    "\n",
    "Counter.increaseCompanionCounter()\n",
    "println(\"Companion counter: \" + Counter.companionCounter)"
   ]
  },
  {
   "cell_type": "markdown",
   "id": "a350df69-67f4-4e26-b40b-7cb4fd4ff035",
   "metadata": {},
   "source": [
    "## 8.3 Dziedziczenie"
   ]
  },
  {
   "cell_type": "code",
   "execution_count": 1,
   "id": "9b556718-7c44-4c8c-830c-ddef4f92886c",
   "metadata": {},
   "outputs": [
    {
     "name": "stdout",
     "output_type": "stream",
     "text": [
      "Dog.eat() called\n",
      "Dog.chew() called\n",
      "Animal.eat() called\n",
      "Dog.walk() called\n",
      "Animal.move() called.  Animal is moving at 5\n"
     ]
    }
   ],
   "source": [
    "public class Animal {\n",
    "\n",
    "    private String name;\n",
    "    private int body;\n",
    "    private int size;\n",
    "    private int weight;\n",
    "\n",
    "    public Animal(String name, int body, int size, int weight) {\n",
    "        this.name = name;\n",
    "        this.body = body;\n",
    "        this.size = size;\n",
    "        this.weight = weight;\n",
    "    }\n",
    "\n",
    "    public void eat() {\n",
    "        System.out.println(\"Animal.eat() called\");\n",
    "    }\n",
    "\n",
    "    public void move(int speed) {\n",
    "        System.out.println(\"Animal.move() called.  Animal is moving at \" + speed);\n",
    "    }\n",
    "\n",
    "    public String getName() {\n",
    "        return name;\n",
    "    }\n",
    "\n",
    "    public int getBody() {\n",
    "        return body;\n",
    "    }\n",
    "\n",
    "    public int getSize() {\n",
    "        return size;\n",
    "    }\n",
    "\n",
    "    public int getWeight() {\n",
    "        return weight;\n",
    "    }\n",
    "}\n",
    "\n",
    "public class Dog extends Animal {\n",
    "\n",
    "    private int eyes;\n",
    "    private int legs;\n",
    "    private int tail;\n",
    "    private int teeth;\n",
    "    private String coat;\n",
    "\n",
    "    public Dog(String name, int size, int weight,\n",
    "               int eyes, int legs, int tail, int teeth, String coat) {\n",
    "        super(name, 1, size, weight);\n",
    "        this.eyes = eyes;\n",
    "        this.legs = legs;\n",
    "        this.tail = tail;\n",
    "        this.teeth = teeth;\n",
    "        this.coat = coat;\n",
    "    }\n",
    "\n",
    "    private void chew() {\n",
    "        System.out.println(\"Dog.chew() called\");\n",
    "    }\n",
    "\n",
    "    @Override\n",
    "    public void eat() {\n",
    "        System.out.println(\"Dog.eat() called\");\n",
    "        chew();\n",
    "        super.eat();\n",
    "    }\n",
    "\n",
    "    public void walk() {\n",
    "        System.out.println(\"Dog.walk() called\");\n",
    "        super.move(5);\n",
    "    }\n",
    "\n",
    "    public void run() {\n",
    "        System.out.println(\"Dog.run() called\");\n",
    "        move(10);\n",
    "    }\n",
    "\n",
    "    private void moveLegs(int speed) {\n",
    "        System.out.println(\"Dog.moveLegs() called\");\n",
    "    }\n",
    "\n",
    "    @Override\n",
    "    public void move(int speed) {\n",
    "        System.out.println(\"Dog.move() called\");\n",
    "        moveLegs(speed);\n",
    "        super.move(speed);\n",
    "    }\n",
    "}\n",
    "\n",
    "public class Main {\n",
    "    public static void main() {\n",
    "        Dog dog = new Dog(\"Yorkie\",\n",
    "                8,\n",
    "                20,\n",
    "                2,\n",
    "                4,\n",
    "                1,\n",
    "                20,\n",
    "                \"long silky\");\n",
    "        dog.eat();\n",
    "        dog.walk();\n",
    "    }\n",
    "}\n",
    "\n",
    "Main.main()"
   ]
  },
  {
   "cell_type": "code",
   "execution_count": 8,
   "id": "7d85acc9-daad-42ad-8fcf-be2f2a59c91c",
   "metadata": {},
   "outputs": [
    {
     "name": "stdout",
     "output_type": "stream",
     "text": [
      "Dog.eat() called\n",
      "Dog.chew() called\n",
      "Animal.eat() called\n",
      "Dog.walk() called\n",
      "Animal.move() called.  Animal is moving at 5\n"
     ]
    }
   ],
   "source": [
    "open class Animal(val name: String, val body: Int, val size: Int, val weight: Int) {\n",
    "\n",
    "    open fun eat() {\n",
    "        println(\"Animal.eat() called\")\n",
    "    }\n",
    "\n",
    "    open fun move(speed: Int) {\n",
    "        println(\"Animal.move() called.  Animal is moving at $speed\")\n",
    "    }\n",
    "}\n",
    "\n",
    "class Dog(\n",
    "    name: String,\n",
    "    size: Int,\n",
    "    weight: Int,\n",
    "    private val eyes: Int,\n",
    "    private val legs: Int,\n",
    "    private val tail: Int,\n",
    "    private val teeth: Int,\n",
    "    private val coat: String\n",
    ") : Animal(name, 1, size, weight) {\n",
    "\n",
    "    private fun chew() {\n",
    "        println(\"Dog.chew() called\")\n",
    "    }\n",
    "\n",
    "    override fun eat() {\n",
    "        println(\"Dog.eat() called\")\n",
    "        chew()\n",
    "        super.eat()\n",
    "    }\n",
    "\n",
    "    fun walk() {\n",
    "        println(\"Dog.walk() called\")\n",
    "        super.move(5)\n",
    "    }\n",
    "\n",
    "    fun run() {\n",
    "        println(\"Dog.run() called\")\n",
    "        move(10)\n",
    "    }\n",
    "\n",
    "    private fun moveLegs(speed: Int) {\n",
    "        println(\"Dog.moveLegs() called\")\n",
    "    }\n",
    "\n",
    "    override fun move(speed: Int) {\n",
    "        println(\"Dog.move() called\")\n",
    "        moveLegs(speed)\n",
    "        super.move(speed)\n",
    "    }\n",
    "}\n",
    "\n",
    "fun main() {\n",
    "    val dog = Dog(\n",
    "        \"Yorkie\",\n",
    "        8,\n",
    "        20,\n",
    "        2,\n",
    "        4,\n",
    "        1,\n",
    "        20,\n",
    "        \"long silky\"\n",
    "    )\n",
    "    dog.eat()\n",
    "    dog.walk()\n",
    "}\n",
    "main()"
   ]
  },
  {
   "cell_type": "markdown",
   "id": "a2d5f6af-a908-4f6c-a91b-01e2641e1537",
   "metadata": {},
   "source": [
    "## 8.4 lateinit vs lazy"
   ]
  },
  {
   "cell_type": "code",
   "execution_count": 11,
   "id": "2e1b0c9e-eae5-490d-8b4b-66816554af91",
   "metadata": {},
   "outputs": [],
   "source": [
    "lateinit var s: String"
   ]
  },
  {
   "cell_type": "code",
   "execution_count": 9,
   "id": "ba53c20c-ddd9-4691-a7d5-04e49d3e618a",
   "metadata": {},
   "outputs": [
    {
     "name": "stderr",
     "output_type": "stream",
     "text": [
      "Line_8.jupyter-kts (1:1 - 9) 'lateinit' modifier is not allowed on properties of primitive types"
     ]
    }
   ],
   "source": [
    "lateinit var x: Int"
   ]
  },
  {
   "cell_type": "code",
   "execution_count": 16,
   "id": "9f53a6f8-45da-48b1-89d9-b2ee81e95a2f",
   "metadata": {},
   "outputs": [
    {
     "name": "stdout",
     "output_type": "stream",
     "text": [
      "false\n"
     ]
    }
   ],
   "source": [
    "data class User (val id : Long, val username : String)\n",
    "\n",
    "lateinit var lateinitUser : User\n",
    "\n",
    "println(::lateinitUser.isInitialized)"
   ]
  },
  {
   "cell_type": "code",
   "execution_count": 17,
   "id": "68425c62-084b-4fac-911f-bee9d84f9014",
   "metadata": {},
   "outputs": [
    {
     "name": "stdout",
     "output_type": "stream",
     "text": [
      "User(id=1, username=Rafał)\n"
     ]
    }
   ],
   "source": [
    "lateinitUser = User(1, \"Rafał\")\n",
    "println(lateinitUser)"
   ]
  },
  {
   "cell_type": "code",
   "execution_count": 18,
   "id": "f48ba5d4-e46c-4166-96b2-ab826186b66c",
   "metadata": {},
   "outputs": [
    {
     "name": "stdout",
     "output_type": "stream",
     "text": [
      "User(id=1, username=rafał)\n"
     ]
    }
   ],
   "source": [
    "val lazyUser : User by lazy {\n",
    "        User(id = 1, username = \"rafał\")\n",
    "    }\n",
    "\n",
    "println(lazyUser)"
   ]
  },
  {
   "cell_type": "code",
   "execution_count": 25,
   "id": "80d3fd8c-20c2-4bc3-aa67-905690ce2e8b",
   "metadata": {},
   "outputs": [
    {
     "name": "stdout",
     "output_type": "stream",
     "text": [
      "10\n"
     ]
    }
   ],
   "source": [
    "val lazyInt by lazy {\n",
    "    10\n",
    "}\n",
    "\n",
    "println(lazyInt)"
   ]
  },
  {
   "cell_type": "code",
   "execution_count": 43,
   "id": "ee9a5057-0862-418a-a3c5-9cfc54b80f66",
   "metadata": {},
   "outputs": [
    {
     "name": "stdout",
     "output_type": "stream",
     "text": [
      "computed!\n",
      "Hello\n",
      "Hello\n"
     ]
    }
   ],
   "source": [
    "val lazyValue: String by lazy {\n",
    "    println(\"computed!\")\n",
    "    \"Hello\"\n",
    "}\n",
    "\n",
    "\n",
    "println(lazyValue)\n",
    "println(lazyValue)"
   ]
  },
  {
   "cell_type": "markdown",
   "id": "558a5f4f-f94f-4400-a6c3-c7aa556a15ef",
   "metadata": {},
   "source": [
    "## 8.5 Delegaty"
   ]
  },
  {
   "cell_type": "code",
   "execution_count": 35,
   "id": "14a42630-dd17-4884-bf77-5a94d704b6e7",
   "metadata": {},
   "outputs": [],
   "source": [
    "import kotlin.reflect.KProperty\n",
    "\n",
    "class A {\n",
    "    var s: String by Delegate()\n",
    "}\n",
    "\n",
    "class Delegate {\n",
    "    operator fun getValue(thisRef: Any?, property: KProperty<*>): String {\n",
    "        return \"$thisRef, thank you for delegating '${property.name}' to me!\"\n",
    "    }\n",
    "\n",
    "    operator fun setValue(thisRef: Any?, property: KProperty<*>, value: String) {\n",
    "        println(\"$value has been assigned to '${property.name}' in $thisRef.\")\n",
    "    }\n",
    "    \n",
    "    // KProperty - reprezentuje właściwość (val lub var)\n",
    "}"
   ]
  },
  {
   "cell_type": "code",
   "execution_count": 36,
   "id": "8ac49b7e-f86d-4dcd-b2c5-d5a3a2fac098",
   "metadata": {},
   "outputs": [
    {
     "name": "stdout",
     "output_type": "stream",
     "text": [
      "Line_34$A@5b5e42df, thank you for delegating 's' to me!\n"
     ]
    }
   ],
   "source": [
    "val a = A()\n",
    "println(a.s)"
   ]
  },
  {
   "cell_type": "code",
   "execution_count": 37,
   "id": "43ee64bf-fd4a-4be7-9183-d2e2fbb86195",
   "metadata": {},
   "outputs": [
    {
     "name": "stdout",
     "output_type": "stream",
     "text": [
      "Line_34$A@5b5e42df\n"
     ]
    }
   ],
   "source": [
    "println(a)"
   ]
  },
  {
   "cell_type": "code",
   "execution_count": 38,
   "id": "e8d7e766-487d-4e02-ab22-edde855783cf",
   "metadata": {},
   "outputs": [
    {
     "name": "stdout",
     "output_type": "stream",
     "text": [
      "ZMIANA has been assigned to 's' in Line_34$A@5b5e42df.\n"
     ]
    }
   ],
   "source": [
    "a.s = \"ZMIANA\""
   ]
  },
  {
   "cell_type": "code",
   "execution_count": 39,
   "id": "61f9cc42-7d19-4f64-8642-7ba5562e26c3",
   "metadata": {},
   "outputs": [
    {
     "name": "stdout",
     "output_type": "stream",
     "text": [
      "Line_38$B@682edc3b, thank you for delegating 'w' to me!\n"
     ]
    }
   ],
   "source": [
    "class B {\n",
    "    var w: String by Delegate()\n",
    "}\n",
    "\n",
    "val b = B()\n",
    "println(b.w)"
   ]
  },
  {
   "cell_type": "code",
   "execution_count": 40,
   "id": "4e50d8e9-345f-4212-b5b2-4524036ecb5f",
   "metadata": {},
   "outputs": [
    {
     "name": "stdout",
     "output_type": "stream",
     "text": [
      "Line_38$B@682edc3b\n"
     ]
    }
   ],
   "source": [
    "println(b)"
   ]
  },
  {
   "cell_type": "code",
   "execution_count": 42,
   "id": "f9b9bbaf-4b81-423e-9132-703ea3fa30ad",
   "metadata": {},
   "outputs": [
    {
     "name": "stdout",
     "output_type": "stream",
     "text": [
      "computed!\n",
      "Hello\n",
      "Hello\n"
     ]
    }
   ],
   "source": []
  },
  {
   "cell_type": "markdown",
   "id": "e74955aa-1e76-47dc-ba22-c424dc919398",
   "metadata": {},
   "source": [
    "## 8.6 Przeciążanie operatorów"
   ]
  },
  {
   "cell_type": "code",
   "execution_count": 47,
   "id": "32dd4caa-559e-44d2-81a0-dc624618ea5f",
   "metadata": {},
   "outputs": [
    {
     "name": "stdout",
     "output_type": "stream",
     "text": [
      "Point(x=-10, y=-20)\n"
     ]
    }
   ],
   "source": [
    "data class Point(val x: Int, val y: Int)\n",
    "\n",
    "operator fun Point.unaryMinus() = Point(-x, -y)\n",
    "\n",
    "val point = Point(10, 20)\n",
    "\n",
    "\n",
    "println(-point)\n"
   ]
  },
  {
   "cell_type": "code",
   "execution_count": 49,
   "id": "89a27bab-8453-4979-bcf5-a12a8ed90f70",
   "metadata": {},
   "outputs": [
    {
     "name": "stderr",
     "output_type": "stream",
     "text": [
      "Line_48.jupyter-kts (1:1 - 9) 'operator' modifier is inapplicable on this function: receiver must be a supertype of the return type"
     ]
    }
   ],
   "source": [
    "operator fun Point.inc() = Point(x + 1, y + 1)"
   ]
  },
  {
   "cell_type": "code",
   "execution_count": 57,
   "id": "63328ea6-6ed5-40ea-8eaa-f413f049d56a",
   "metadata": {},
   "outputs": [],
   "source": [
    "data class Point2(val x: Int, val y: Int){\n",
    "    operator fun inc() = Point2(x + 1, y + 1)\n",
    "    operator fun dec() = Point2(x - 1, y - 1)\n",
    "}"
   ]
  },
  {
   "cell_type": "code",
   "execution_count": 58,
   "id": "002d5970-417c-40de-ad63-f2b1d0b0633b",
   "metadata": {},
   "outputs": [
    {
     "name": "stdout",
     "output_type": "stream",
     "text": [
      "Point2(x=2, y=2)\n"
     ]
    }
   ],
   "source": [
    "var point2 = Point2(1, 1)\n",
    "point2++\n",
    "println(point2)"
   ]
  },
  {
   "cell_type": "code",
   "execution_count": 59,
   "id": "ca5b3099-e43c-4110-a9c1-bb7a54d61867",
   "metadata": {},
   "outputs": [
    {
     "name": "stdout",
     "output_type": "stream",
     "text": [
      "Point2(x=1, y=1)\n"
     ]
    }
   ],
   "source": [
    "point2--\n",
    "println(point2)"
   ]
  },
  {
   "cell_type": "code",
   "execution_count": 96,
   "id": "80b84c34-7530-49f7-b0b3-15d7c3691e74",
   "metadata": {},
   "outputs": [],
   "source": [
    "operator fun Point.plus(other: Point) = Point(x + other.x, y + other.y)"
   ]
  },
  {
   "cell_type": "code",
   "execution_count": 95,
   "id": "cca0eab1-bb25-4384-b01b-3a62ad7e40f8",
   "metadata": {},
   "outputs": [
    {
     "name": "stdout",
     "output_type": "stream",
     "text": [
      "Point(x=3, y=10)\n"
     ]
    }
   ],
   "source": [
    "val p1 = Point(1, 1)\n",
    "val p2 = Point(2, 9)\n",
    "val p3 = p1 + p2\n",
    "println(p3)"
   ]
  },
  {
   "cell_type": "markdown",
   "id": "dc8719ad-eb38-4b26-b829-3599c05cbe14",
   "metadata": {},
   "source": [
    "## 8.7 Delegat z obserwatorem"
   ]
  },
  {
   "cell_type": "code",
   "execution_count": 69,
   "id": "8dad4ca3-67ae-4b8e-a6a8-53e257a10808",
   "metadata": {},
   "outputs": [
    {
     "name": "stdout",
     "output_type": "stream",
     "text": [
      "<no name>\n",
      "<no name> -> first\n",
      "first -> second\n",
      "second -> third\n"
     ]
    }
   ],
   "source": [
    "import kotlin.properties.Delegates\n",
    "\n",
    "class User {\n",
    "    var name: String by Delegates.observable(\"<no name>\") {\n",
    "        prop, old, new -> println(\"$old -> $new\")\n",
    "    }\n",
    "}\n",
    "\n",
    "val user = User()\n",
    "println(user.name)\n",
    "user.name = \"first\"\n",
    "user.name = \"second\"\n",
    "user.name = \"third\""
   ]
  },
  {
   "cell_type": "markdown",
   "id": "5211949d-d8ef-41aa-91a4-e30802ae0b67",
   "metadata": {},
   "source": [
    "## 8.8 Delegat wetowalny"
   ]
  },
  {
   "cell_type": "code",
   "execution_count": 70,
   "id": "11986d51-6069-43ab-8499-7ccfe50cb499",
   "metadata": {},
   "outputs": [
    {
     "name": "stdout",
     "output_type": "stream",
     "text": [
      "0\n",
      "10\n",
      "10\n"
     ]
    }
   ],
   "source": [
    "var max: Int by Delegates.vetoable(0) { property, oldValue, newValue ->\n",
    "    newValue > oldValue\n",
    "}\n",
    "\n",
    "println(max)\n",
    "\n",
    "max = 10\n",
    "println(max)\n",
    "\n",
    "max = 5\n",
    "println(max)"
   ]
  },
  {
   "cell_type": "code",
   "execution_count": 80,
   "id": "2ec85fec-193d-441d-b9f0-f8a3fa5cb710",
   "metadata": {},
   "outputs": [
    {
     "name": "stdout",
     "output_type": "stream",
     "text": [
      "0\n",
      "10\n"
     ]
    },
    {
     "data": {
      "text/plain": [
       "java.lang.IllegalArgumentException: New value must be larger than old value."
      ]
     },
     "execution_count": 80,
     "metadata": {},
     "output_type": "execute_result"
    }
   ],
   "source": [
    "var max: Int by Delegates.vetoable(0) { _, oldValue, newValue ->\n",
    "    if (newValue > oldValue) true else throw IllegalArgumentException(\"New value must be larger than old value.\")\n",
    "}\n",
    "\n",
    "println(max)\n",
    "\n",
    "max = 10\n",
    "println(max)\n",
    "\n",
    "try{\n",
    "    max = 5\n",
    "}\n",
    "catch (e: IllegalArgumentException) {e}"
   ]
  },
  {
   "cell_type": "code",
   "execution_count": 84,
   "id": "90c272b3-f9f1-4d95-93a5-370d24f16d2f",
   "metadata": {},
   "outputs": [
    {
     "name": "stdout",
     "output_type": "stream",
     "text": [
      "42\n"
     ]
    }
   ],
   "source": [
    "class MyClass {\n",
    "   var newName: Int = 0\n",
    "   var oldName: Int by this::newName\n",
    "}\n",
    "\n",
    "val myClass = MyClass()\n",
    "myClass.oldName = 42\n",
    "println(myClass.newName)\n"
   ]
  },
  {
   "cell_type": "markdown",
   "id": "d13e320a-5dd1-436f-bb2e-943c44de3389",
   "metadata": {},
   "source": [
    "## 8.9 Delegat do konstruktora"
   ]
  },
  {
   "cell_type": "code",
   "execution_count": 91,
   "id": "e4d2d8f1-3f85-4883-a77d-10f2d73bcc26",
   "metadata": {},
   "outputs": [
    {
     "data": {
      "text/plain": [
       "User(map={name=Rafał Lewandków, age=30})"
      ]
     },
     "execution_count": 91,
     "metadata": {},
     "output_type": "execute_result"
    }
   ],
   "source": [
    "data class User(val map: Map<String, Any?>) {\n",
    "    val name: String by map\n",
    "    val age: Int     by map\n",
    "}\n",
    "\n",
    "val user = User(mapOf(\n",
    "    \"name\" to \"Rafał Lewandków\",\n",
    "    \"age\"  to 30\n",
    "))\n",
    "\n",
    "user"
   ]
  },
  {
   "cell_type": "code",
   "execution_count": 87,
   "id": "bd6c53c2-cd34-4434-a35d-2fe643035dc2",
   "metadata": {},
   "outputs": [
    {
     "data": {
      "text/plain": [
       "Rafał Lewandków"
      ]
     },
     "execution_count": 87,
     "metadata": {},
     "output_type": "execute_result"
    }
   ],
   "source": [
    "user.name"
   ]
  },
  {
   "cell_type": "code",
   "execution_count": 88,
   "id": "3935dddf-159e-4aa4-a39c-a67747f05a3d",
   "metadata": {},
   "outputs": [
    {
     "data": {
      "text/plain": [
       "30"
      ]
     },
     "execution_count": 88,
     "metadata": {},
     "output_type": "execute_result"
    }
   ],
   "source": [
    "user.age"
   ]
  },
  {
   "cell_type": "markdown",
   "id": "abbd9c72-6bf9-4ca6-b952-ea1a6afdabb4",
   "metadata": {},
   "source": [
    "## 8.10 Funkcje infix"
   ]
  },
  {
   "cell_type": "markdown",
   "id": "908fd91d-a852-46ab-8f82-9d31989aeccb",
   "metadata": {},
   "source": [
    "- muszą być składowymi klasy lub funkcjami rozszerzającymi\n",
    "- muszą posiadać jeden parametr\n",
    "- parametr nie może posiadać wartości domyślnej\n",
    "- parametr nie może mieć akceptować `varargs`"
   ]
  },
  {
   "cell_type": "code",
   "execution_count": 102,
   "id": "262cf6d3-62ba-47f4-9e53-c3c38ce6cd4b",
   "metadata": {},
   "outputs": [],
   "source": [
    "class MyString(val str: String) {\n",
    "    infix fun ad(s: String): String { return str + s }\n",
    "}"
   ]
  },
  {
   "cell_type": "code",
   "execution_count": 103,
   "id": "399948ed-16d7-4b32-8021-a277eeba5a74",
   "metadata": {},
   "outputs": [],
   "source": [
    "val myStr = MyString(\"Rafał\")"
   ]
  },
  {
   "cell_type": "code",
   "execution_count": 105,
   "id": "d38b8699-4601-444d-908b-0a5b4021be83",
   "metadata": {},
   "outputs": [
    {
     "data": {
      "text/plain": [
       "Rafał Lewandków"
      ]
     },
     "execution_count": 105,
     "metadata": {},
     "output_type": "execute_result"
    }
   ],
   "source": [
    "myStr ad \" Lewandków\""
   ]
  }
 ],
 "metadata": {
  "kernelspec": {
   "display_name": "Java",
   "language": "java",
   "name": "java"
  },
  "language_info": {
   "codemirror_mode": "java",
   "file_extension": ".jshell",
   "mimetype": "text/x-java-source",
   "name": "Java",
   "pygments_lexer": "java",
   "version": "17+35-2724"
  }
 },
 "nbformat": 4,
 "nbformat_minor": 5
}
