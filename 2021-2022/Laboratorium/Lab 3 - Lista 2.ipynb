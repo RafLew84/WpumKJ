{
 "cells": [
  {
   "cell_type": "markdown",
   "id": "c0437298-e708-4baf-a5a6-193a7d6ac119",
   "metadata": {
    "tags": []
   },
   "source": [
    "# Lista 2\n",
    "\n",
    "## Zad 1 - **4 pkt**\n",
    "\n",
    "Zaimplementuj funkcję `convertToRoman(n: Int): String` - konwerter liczb naturalnych na liczby rzymskie.\n",
    "\n",
    "I = 1.\n",
    "V = 5.\n",
    "X = 10.\n",
    "L = 50.\n",
    "C = 100.\n",
    "D = 500.\n",
    "M = 1 000.\n",
    "\n",
    "I = 1\n",
    "IX = 9\n",
    "LXXX = 80\n",
    "DCC = 700\n",
    "\n",
    "## Zad 2 - **3 pkt**\n",
    "\n",
    "Zaimplementuj funkcję `convertFromRoman(s: String): Int` konwerter liczb rzymskich na liczby naturalne.\n",
    "\n",
    "## Zad 3 - **3 pkt**\n",
    "\n",
    "Zaimplementuj funkcję `isCyclic(i: String): Boolean` sprawdzającą czy podana liczba jest liczbą cykliczną.\n",
    "\n",
    "[Liczba cykliczna](https://en.wikipedia.org/wiki/Cyclic_number) jest to liczba naturalna, której wielokrotności awierają tylko cyfry występujące również w liczbie pierwotnej\n",
    "\n",
    "Przykład: 142857\n",
    "\n",
    "   142857 × 1 = 142857<br>\n",
    "   142857 × 2 = 285714<br>\n",
    "   142857 × 3 = 428571<br>\n",
    "   142857 × 4 = 571428<br>\n",
    "   142857 × 5 = 714285<br>\n",
    "   142857 × 6 = 857142\n"
   ]
  },
  {
   "cell_type": "markdown",
   "id": "546abfff-aa82-4e67-a4e0-5a8ee5a6e787",
   "metadata": {},
   "source": [
    "### Oceny\n",
    "\n",
    "|**ocena**|**punkty**|\n",
    "|:---:|:---:|\n",
    "|3,0 | 6 pkt|\n",
    "|3,5 | 7 pkt|\n",
    "|4,0 | 8 pkt|\n",
    "|4,5 | 9 pkt|\n",
    "|5,0 | 10 pkt|"
   ]
  },
  {
   "cell_type": "code",
   "execution_count": null,
   "id": "73a8c26e-15e0-4717-b61e-f3c6d9aa7b6e",
   "metadata": {},
   "outputs": [],
   "source": []
  }
 ],
 "metadata": {
  "kernelspec": {
   "display_name": "Kotlin",
   "language": "kotlin",
   "name": "kotlin"
  },
  "language_info": {
   "codemirror_mode": "text/x-kotlin",
   "file_extension": ".kt",
   "mimetype": "text/x-kotlin",
   "name": "kotlin",
   "nbconvert_exporter": "",
   "pygments_lexer": "kotlin",
   "version": "1.6.20-dev-6372"
  }
 },
 "nbformat": 4,
 "nbformat_minor": 5
}
