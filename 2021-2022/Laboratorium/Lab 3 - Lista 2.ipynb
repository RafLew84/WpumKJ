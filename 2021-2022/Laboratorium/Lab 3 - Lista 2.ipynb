{
 "cells": [
  {
   "cell_type": "markdown",
   "id": "c0437298-e708-4baf-a5a6-193a7d6ac119",
   "metadata": {},
   "source": [
    "# Lista 1\n",
    "\n",
    "## Zad 1 - **2 pkt**\n",
    "\n",
    "Zaimplementuj funkcję `convertToRoman(n: Int): String` - konwerter liczb naturalnych na liczby rzymskie.\n",
    "\n",
    "I = 1.\n",
    "V = 5.\n",
    "X = 10.\n",
    "L = 50.\n",
    "C = 100.\n",
    "D = 500.\n",
    "M = 1 000.\n",
    "\n",
    "I = 1\n",
    "IX = 9\n",
    "LXXX = 80\n",
    "DCC = 700\n",
    "\n",
    "## Zad 2 - **2 pkt**\n",
    "\n",
    "Zaimplementuj funkcję `convertFromRoman(s: String): Int` konwerter liczb rzymskich na liczby naturalne."
   ]
  },
  {
   "cell_type": "code",
   "execution_count": null,
   "id": "a6ea78a0-12cb-4734-92e8-f4cbd07842b0",
   "metadata": {},
   "outputs": [],
   "source": []
  }
 ],
 "metadata": {
  "kernelspec": {
   "display_name": "Kotlin",
   "language": "kotlin",
   "name": "kotlin"
  },
  "language_info": {
   "codemirror_mode": "text/x-kotlin",
   "file_extension": ".kt",
   "mimetype": "text/x-kotlin",
   "name": "kotlin",
   "nbconvert_exporter": "",
   "pygments_lexer": "kotlin",
   "version": "1.6.20-dev-6372"
  }
 },
 "nbformat": 4,
 "nbformat_minor": 5
}
