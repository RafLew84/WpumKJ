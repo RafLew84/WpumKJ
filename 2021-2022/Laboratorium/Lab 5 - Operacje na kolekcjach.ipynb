{
 "cells": [
  {
   "cell_type": "markdown",
   "id": "8b83974c-2cad-453d-a7b0-43b3b5414c6b",
   "metadata": {},
   "source": [
    "# 5. Operacje na kolekcjach"
   ]
  },
  {
   "cell_type": "code",
   "execution_count": null,
   "id": "d2b35aa5-72d9-4abf-af5c-109783eddfd5",
   "metadata": {},
   "outputs": [],
   "source": []
  }
 ],
 "metadata": {
  "kernelspec": {
   "display_name": "Kotlin",
   "language": "kotlin",
   "name": "kotlin"
  },
  "language_info": {
   "codemirror_mode": "text/x-kotlin",
   "file_extension": ".kt",
   "mimetype": "text/x-kotlin",
   "name": "kotlin",
   "nbconvert_exporter": "",
   "pygments_lexer": "kotlin",
   "version": "1.6.20-dev-6372"
  }
 },
 "nbformat": 4,
 "nbformat_minor": 5
}
