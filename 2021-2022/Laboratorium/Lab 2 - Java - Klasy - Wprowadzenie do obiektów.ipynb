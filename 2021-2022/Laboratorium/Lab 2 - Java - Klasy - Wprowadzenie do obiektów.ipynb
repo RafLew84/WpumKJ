{
 "cells": [
  {
   "cell_type": "markdown",
   "id": "c4f30bde-794a-4d9d-8fde-eadecbea3429",
   "metadata": {},
   "source": [
    "# 2. Java - Klasy - Wprowadzenie do obiektów\n",
    "\n",
    "Klasa służy jako szablon do wytwarzania obiektów oraz jako kontener dla aplikacji.\n",
    "\n",
    "## 2.1 Definiowanie klas\n",
    "\n",
    "W najprostszym przykładzie używamy słowa kluczowego class i podajemy nazwę klasy."
   ]
  },
  {
   "cell_type": "code",
   "execution_count": 1,
   "id": "9deba358-6037-471b-9714-8f5fa2df5841",
   "metadata": {},
   "outputs": [],
   "source": [
    "class A{\n",
    "    // ciało klasy\n",
    "}\n",
    "\n",
    "class B{\n",
    "    // ciało klasy\n",
    "}\n",
    "class C{\n",
    "    // ciało klasy\n",
    "}"
   ]
  },
  {
   "cell_type": "markdown",
   "id": "423ff673-e23e-4616-9021-65ce13cda52e",
   "metadata": {},
   "source": [
    "## 2.2 Atrybuty (pola) klas\n",
    "\n",
    "Java reprezentuje stan obiektu poprzez właściwości, które są zmiennymi lub wartościami zdefiniowanymi wewnątrz klasy."
   ]
  },
  {
   "cell_type": "code",
   "execution_count": 2,
   "id": "90bd4b02-9ade-4967-be8b-a70c2794e475",
   "metadata": {},
   "outputs": [],
   "source": [
    "class Student {\n",
    "  int indexNum = 5;\n",
    "  int year = 3;\n",
    "}"
   ]
  },
  {
   "cell_type": "markdown",
   "id": "0e21b114-d068-4dce-a62c-7f9ecf7caba1",
   "metadata": {},
   "source": [
    "## 2.3 Metody\n",
    "\n",
    "Java reprezentuje zachowanie klasy poprzez zastosowanie metod."
   ]
  },
  {
   "cell_type": "code",
   "execution_count": 6,
   "id": "b4669d1a-0f02-4956-9ec2-fcb0419d1bf9",
   "metadata": {},
   "outputs": [],
   "source": [
    "class Points {\n",
    "    int points = 0;\n",
    "    final int max = 10;\n",
    "        \n",
    "    public int add (int increase) {\n",
    "        points += increase;\n",
    "        if (points > max)\n",
    "            points = max;\n",
    "        return points;\n",
    "    }\n",
    "}"
   ]
  },
  {
   "cell_type": "markdown",
   "id": "2ef7f57f-8a8a-40ea-9d82-b41cd4646a1f",
   "metadata": {},
   "source": [
    "## 2.4 Konstruktor"
   ]
  },
  {
   "cell_type": "markdown",
   "id": "8af2c723-80d5-4637-8e9e-3f68c493790a",
   "metadata": {},
   "source": [
    "Słowo kluczowe `new` przydziela pamięć do przechowywania obiektu, którego typ jest określony przez konstruktor. Następnie ten konstruktor jest wywoływany aby zainicjować obiekt. Po zakończeniu pracy konstruktora `new` zwraca referencję do obiektu aby można było uzyskać do niego dostęp w innym miejscu aplikacji. Konstruktor nie ma nazwy, zamiast tego musi podać nazwę deklarującej klasy. Po tej nazwie znajduje się lista parametrów.\n",
    "Gdy klasa nie deklaruje konstruktora, Java niejawnie tworzy konstruktor dla tej klasy - ten konstruktor jest nazywany konstruktorem domyślnym."
   ]
  },
  {
   "cell_type": "code",
   "execution_count": 8,
   "id": "1a903a03-ad17-42b7-93bd-e8a44bad60c3",
   "metadata": {},
   "outputs": [
    {
     "name": "stdout",
     "output_type": "stream",
     "text": [
      " Student ( String name , String grade ) called \n",
      " reading Rafal\n",
      " Student ( String name ) called \n"
     ]
    }
   ],
   "source": [
    "class Student {\n",
    "    \n",
    "    Student ( String name ){\n",
    "        this (name , null );\n",
    "        System.out.println (\" Student ( String name ) called \");\n",
    "    }\n",
    "\n",
    "     Student ( String name , String grade )\n",
    "    {\n",
    "        System.out.println (\" Student ( String name , String grade ) called \");\n",
    "        if ( name != null ) {\n",
    "            System.out.println (\" reading \" + name );\n",
    "            if ( grade != null )\n",
    "            System.out.println (\" interpreting \" + name + \" as storing a \" + grade + \" student \");\n",
    "        }\n",
    "    }\n",
    "}\n",
    "\n",
    "Student student = new Student(\"Rafal\")"
   ]
  },
  {
   "cell_type": "markdown",
   "id": "961b2ba3-fbd9-4bd5-b805-8668e34138b5",
   "metadata": {},
   "source": [
    "Klasa `Student` najpierw deklaruje konstruktor z jednym parametrem `name`. Niektóre konstruktory wywołują inne konstruktory w celu inicjacji obiektów. Odbywa się to w celu uniknięcia nadmiarowego kodu, który zwiększa rozmiar pliku i niepotrzebnie zabiera pamięć ze sterty, którą można wykorzystać do innych celów. Konstruktor wywołuje inny konstruktor za pomocą słowa kluczowego `this` oraz podając listę parametrów. Wywołanie konstruktora poprzez słowo kluczowe `this` zawsze jest wykonywane jako pierwsze.\n",
    "W ramach metody lub konstruktora, słowo kluczowe `this`, służy jako odwołanie do bieżącego obiektu, którego metoda lub konstruktor jest wywoływany. Korzystając z niego możesz odwołać się do dowolnego elementu bieżącego obiektu."
   ]
  },
  {
   "cell_type": "markdown",
   "id": "0cc7e63e-3135-4289-b1c0-f522a077185c",
   "metadata": {},
   "source": [
    "## 2.5 Modyfikatory dostępu\n",
    "\n",
    "Każda klasa wystawia interfejs (konstruktory, metody, pola) który jest dostępny z zewnątrz klasy. Projektując klasę jednym z głównych zadań jest stworzenie użytecznego interfejsu jednocześnie ukrywając detale implementacji, które są bez znaczenia dla klientów. Java wspiera ukrywanie implementacji przez udostępnienie czterech poziomów kontroli dostępu (modyfikatorów dostępu).\n",
    "- **public** - pole, metoda lub konstruktor z modyfikatorem publicznym, jest dostępne z każdego miejsca. Klasy również mogą być publiczne, najczęściej są to klasy które powinny być widoczne poza swoim pakietem. Publiczne klasy muszą być zadeklarowane w plikach o takiej samej nazwie.\n",
    "- **protected** - pola, metody i konstruktory klasy oznaczone w ten sposób są dostępne w obrębie pakietu oraz we wszystkich podklasach.\n",
    "- **private** - do pól, metod i konstruktorów prywatnych nie można uzyskać dostępu spoza klasy w której się znajdują\n",
    "- **package-private** - w przypadku braku modyfikatora pola, metody i konstruktory są dostępne dla klas z tego samego pakietu\n",
    "\n",
    "Zazwyczaj deklarujemy pola instancji jako prywatne i dostarczamy odpowiednie metody do zapisywania i odczytywania ich wartości."
   ]
  },
  {
   "cell_type": "code",
   "execution_count": null,
   "id": "679e27da-6fa5-4450-a36e-df6c96b9d96a",
   "metadata": {},
   "outputs": [
    {
     "name": "stdout",
     "output_type": "stream",
     "text": [
      "Rafal\n"
     ]
    }
   ],
   "source": [
    "public class Student {\n",
    "    private String name;\n",
    "    \n",
    "    public Student (String name) {\n",
    "        setName (name);\n",
    "    }\n",
    "\n",
    "    public void setName (String name) {\n",
    "        this.name = name;\n",
    "    }\n",
    "\n",
    "    public String getName () {\n",
    "        return name;\n",
    "    }\n",
    "}"
   ]
  },
  {
   "cell_type": "markdown",
   "id": "b1ea2088-685e-4289-9ae1-af01dcafad34",
   "metadata": {},
   "source": [
    "Takie podejście może wydawać się bezzasadne. Rozważmy poniższy przykład. Załóżmy że musimy dodać do poprzedniego przykładu konstruktor w który będzie przyjmował imię i nazwisko studenta. Jednocześnie wiemy że nowy konstruktor będzie wywoływany znacznie częściej."
   ]
  },
  {
   "cell_type": "code",
   "execution_count": null,
   "id": "850d14b5-4769-4804-806d-e94a49d5a7f0",
   "metadata": {},
   "outputs": [],
   "source": [
    "public class Student {\n",
    "    private String firstName;\n",
    "    private String lastName;\n",
    "\n",
    "    public Student (String name) {\n",
    "        setName (name);\n",
    "    }\n",
    "\n",
    "    public Student (String firstName, String lastName){\n",
    "        setName ( firstName + \" \" + lastName);\n",
    "    }\n",
    "\n",
    "    public void setName (String name) {\n",
    "        setFirstName(name.substring(0, name.indexOf (\" \")));\n",
    "        setLastName(name.substring(name.indexOf(\" \") + 1));\n",
    "    }\n",
    "\n",
    "    public String getName() {\n",
    "        return getFirstName () + \" \" + getLastName ();\n",
    "    }\n",
    "\n",
    "    public void setFirstName (String firstName){\n",
    "        this.firstName = firstName;\n",
    "    }\n",
    "\n",
    "    public String getFirstName() {\n",
    "        return firstName;\n",
    "    }\n",
    "\n",
    "    public void setLastName (String lastName) {\n",
    "        this.lastName = lastName;\n",
    "    }\n",
    "\n",
    "    public String getLastName (){\n",
    "        return lastName;\n",
    "    }\n",
    "}"
   ]
  },
  {
   "cell_type": "markdown",
   "id": "b15fc925-4281-43cd-8e82-a3a3d02d02ce",
   "metadata": {},
   "source": [
    "Zmiany w powyższym przykładzie nie wymagają żadnych zmian w kodzie klientów (innych klas korzystających z instancji tej klasy), ponieważ interfejs nie uległ zmianie."
   ]
  },
  {
   "cell_type": "markdown",
   "id": "8840d2af-0b81-4854-8f83-c00468324ff7",
   "metadata": {},
   "source": [
    "## 2.6 `String` vs `StringBuilder` vs `StringBuffer`"
   ]
  },
  {
   "cell_type": "markdown",
   "id": "a7257068-b853-4707-a563-76d022cc51f7",
   "metadata": {},
   "source": [
    "String jest typem przechowującym łańcuch znaków. W Javie (od wersji 12) występują dwa rodzaje `String`\n",
    "- **Escaped String** - rozpoczyna się i kończy symbolem `\"`, może zawierać znaki ucieczki\n",
    "- **Raw String** - (od Javy 12) rozpoczyna się i kończy symbolami `, może zawierać wiele linii bez znaków ucieczki"
   ]
  },
  {
   "cell_type": "markdown",
   "id": "b1332528-3963-493c-8751-2aeb73069ba4",
   "metadata": {},
   "source": [
    "Formatowanie łańcuchów znaków"
   ]
  },
  {
   "cell_type": "code",
   "execution_count": 1,
   "id": "85d26d0e-e3ba-43ad-b0a2-599d71e4a889",
   "metadata": {},
   "outputs": [
    {
     "name": "stdout",
     "output_type": "stream",
     "text": [
      "Rafał = 40\n"
     ]
    }
   ],
   "source": [
    "String output = String.format(\"%s = %d\", \"Rafał\", 40);\n",
    "System.out.println(output);"
   ]
  },
  {
   "cell_type": "code",
   "execution_count": 4,
   "id": "fbe538a0-36ba-4403-98cc-84ff006df280",
   "metadata": {},
   "outputs": [
    {
     "name": "stdout",
     "output_type": "stream",
     "text": [
      "The value of the float variable is 23,300000, while the value of the integer variable is 2, and the string is string"
     ]
    },
    {
     "data": {
      "text/plain": [
       "java.io.PrintStream@799ac02e"
      ]
     },
     "execution_count": 4,
     "metadata": {},
     "output_type": "execute_result"
    }
   ],
   "source": [
    "double f = 23.3;\n",
    "int i = 2;\n",
    "String s = \"string\";\n",
    "System.out.printf(\"The value of the float variable is \" +\n",
    "                  \"%f, while the value of the integer \" +\n",
    "                  \"variable is %d, and the string \" +\n",
    "                  \"is %s\", f, i, s);"
   ]
  },
  {
   "cell_type": "markdown",
   "id": "a9ba2b4a-3f85-4114-bc45-6af3fa12ae61",
   "metadata": {},
   "source": [
    "`String` jest **niemutowalny** - nie ma możliwości modyfikacji"
   ]
  },
  {
   "cell_type": "code",
   "execution_count": 6,
   "id": "e7974f0b-6315-46b6-b4c4-3615d87ce83b",
   "metadata": {},
   "outputs": [
    {
     "ename": "CompilationException",
     "evalue": "",
     "output_type": "error",
     "traceback": [
      "\u001b[1m\u001b[30m|   \u001b[1m\u001b[30m\u001b[0m\u001b[1m\u001b[30m\u001b[41ms[0]\u001b[0m\u001b[1m\u001b[30m = 'a';\u001b[0m",
      "\u001b[1m\u001b[31marray required, but java.lang.String found\u001b[0m",
      ""
     ]
    }
   ],
   "source": [
    "String s = \"Rafał\";\n",
    "s[0] = 'a';\n",
    "System.out.println(s)"
   ]
  },
  {
   "cell_type": "code",
   "execution_count": 8,
   "id": "0beaadd7-ba91-4256-b857-bc966b3787e2",
   "metadata": {},
   "outputs": [
    {
     "name": "stdout",
     "output_type": "stream",
     "text": [
      "Qafał\n"
     ]
    }
   ],
   "source": [
    "String s = \"Rafał\";\n",
    "char[] sChars = s.toCharArray();\n",
    "sChars[0] = 'Q';\n",
    "s = String.valueOf(sChars);\n",
    "System.out.println(s)"
   ]
  },
  {
   "cell_type": "markdown",
   "id": "133ddd0c-325b-4b95-aa37-490bcf2bf9f2",
   "metadata": {},
   "source": [
    "Kiedy obiekt `String` zostaje utworzony, jest on dodany do wspólnej puli i dodany do stosu."
   ]
  },
  {
   "cell_type": "code",
   "execution_count": 10,
   "id": "33c06a2c-64e9-40df-88dc-74b6fb800ecc",
   "metadata": {},
   "outputs": [
    {
     "name": "stdout",
     "output_type": "stream",
     "text": [
      "true\n",
      "true\n"
     ]
    }
   ],
   "source": [
    "String a = \"Rafał\";\n",
    "String b = \"Rafał\";\n",
    "\n",
    "System.out.println(a == b); // porównanie referencji\n",
    "System.out.println(a.equals(b)); // porównanie obiektów"
   ]
  },
  {
   "cell_type": "markdown",
   "id": "2c9410a1-f5db-4aa4-bcc2-5c2e6b9b9752",
   "metadata": {},
   "source": [
    "Gdy chcemy wykonać operację konkatenacji dwóch lub więcej `String`, tworzony jest nowy obiekt `StringBuilder`, który po zakończeniu operacji jest rzutowany na obiekt `String`. Są to obiekty które muszą zostać zebrane przez `Garbage Collector`."
   ]
  },
  {
   "cell_type": "code",
   "execution_count": 11,
   "id": "35ab6b6c-2750-4147-ac73-286de51f62f4",
   "metadata": {},
   "outputs": [
    {
     "name": "stdout",
     "output_type": "stream",
     "text": [
      "Rafał Lewandków\n",
      "Rafał Lewandków\n"
     ]
    }
   ],
   "source": [
    "String s = \"Rafał\";\n",
    "s = s + \" Lewandków\";\n",
    "System.out.println(s);\n",
    "\n",
    "// niejawnie tworzone są obiekty StringBuilder\n",
    "String s = \"Rafał\";\n",
    "s = new StringBuilder(s).append(\" Lewandków\").toString();\n",
    "System.out.println(s);"
   ]
  },
  {
   "cell_type": "markdown",
   "id": "c1c0d7dc-052e-45b5-a481-224c1e50b95f",
   "metadata": {},
   "source": [
    "Klasa `String` zawiera również metodę `concat()`"
   ]
  },
  {
   "cell_type": "code",
   "execution_count": 15,
   "id": "6160e2b3-cb4b-4f1c-8197-25a74a88da51",
   "metadata": {},
   "outputs": [
    {
     "name": "stdout",
     "output_type": "stream",
     "text": [
      "nullb\n"
     ]
    },
    {
     "ename": "EvalException",
     "evalue": "Cannot invoke \"String.concat(String)\" because \"REPL.$JShell$25C.a\" is null",
     "output_type": "error",
     "traceback": [
      "\u001b[1m\u001b[31m---------------------------------------------------------------------------\u001b[0m",
      "\u001b[1m\u001b[31mjava.lang.NullPointerException: Cannot invoke \"String.concat(String)\" because \"REPL.$JShell$25C.a\" is null\u001b[0m",
      "\u001b[1m\u001b[31m\tat .(#41:1)\u001b[0m"
     ]
    }
   ],
   "source": [
    "String a = null;\n",
    "String b = \"b\";\n",
    "System.out.println(a + b);\n",
    "System.out.println(a.concat(b));"
   ]
  },
  {
   "cell_type": "markdown",
   "id": "d2100198-93bb-491b-88cb-c349a628aa47",
   "metadata": {},
   "source": [
    "Przy zastosowaniu operatora `+` tworzony jest obiekt `StringBuilder`, jeżeli `a = null` zostaje on potraktowany jak literał. Przy wywołaniu metody `concat()` rzucony zostaje wyjątek `NullPointerException`. Można znaleźć informacje o przewadze metody `concat()` pod względem szybkości wykonania. Jednak w ostatnich latach zaszły zmiany i świeższe testy wykazują przewagę operatora `+`."
   ]
  },
  {
   "cell_type": "markdown",
   "id": "64064b38-56f3-4b21-bd6f-8ed80ae890e2",
   "metadata": {},
   "source": [
    "W celu uniknięcia tworzenia wielu niepotrzebnych obiektów możemy wykorzystać klasę `StringBuilder`, jest to **mutowalny** obiekt przeznaczony do operacji na łaćuchach znaków. Tworzy on pojedynczy bufor zawierający końcowy łańcuch znaków."
   ]
  },
  {
   "cell_type": "code",
   "execution_count": 18,
   "id": "6304b713-a9dd-4843-9f9e-f58779a82e8f",
   "metadata": {},
   "outputs": [
    {
     "name": "stdout",
     "output_type": "stream",
     "text": [
      "Hello World\n"
     ]
    }
   ],
   "source": [
    "StringBuilder builder = new StringBuilder();\n",
    "builder.append(\"Hello\")\n",
    "    .append(\" \")\n",
    "    .append(\"World\");\n",
    "       \n",
    "System.out.println(builder);"
   ]
  },
  {
   "cell_type": "markdown",
   "id": "b92b1839-4eac-4169-a428-f3d09e2df861",
   "metadata": {},
   "source": [
    "Mamy jeszcze jedną opcję do manipulacji łańcuchami znaków - `StringBuffer`. Jest to klasa niemal identyczna jak `StringBuilder` - zawierająca takie same metody. Różnicą jest bezpieczeństwo ze względu na wątki (**Thread Safe**, **Synchronized**). `StringBuilder` jest **co najmniej** tak szybki jak `StringBuffer` - z reguły `StringBuilder` jest szybszy."
   ]
  },
  {
   "cell_type": "markdown",
   "id": "c9118fd2-5faa-4136-b157-17508e2a5d48",
   "metadata": {},
   "source": [
    "## 2.7 CharSequence vs String\n",
    "\n",
    "`CharSequence` jest interfejsem reprezentującym sekwencję znaków, nie narzuca **mutowalności** - klasy mutowalne i niemutowalne mogą implementować ten interfejs.\n",
    "\n"
   ]
  },
  {
   "cell_type": "code",
   "execution_count": 24,
   "id": "fe373d4e-9977-47a1-904a-2c20c3ec9220",
   "metadata": {},
   "outputs": [
    {
     "name": "stdout",
     "output_type": "stream",
     "text": [
      "class java.lang.String\n",
      "class java.lang.StringBuffer\n",
      "class java.lang.StringBuilder\n"
     ]
    }
   ],
   "source": [
    "CharSequence charSequence1 = \"Rafał\";\n",
    "System.out.println(charSequence1.getClass());\n",
    "\n",
    "CharSequence charSequence2 = new StringBuffer(\"Rafał\");\n",
    "System.out.println(charSequence2.getClass());\n",
    "\n",
    "CharSequence charSequence3 = new StringBuilder(\"Rafał\");\n",
    "System.out.println(charSequence3.getClass());"
   ]
  }
 ],
 "metadata": {
  "kernelspec": {
   "display_name": "Java",
   "language": "java",
   "name": "java"
  },
  "language_info": {
   "codemirror_mode": "java",
   "file_extension": ".jshell",
   "mimetype": "text/x-java-source",
   "name": "Java",
   "pygments_lexer": "java",
   "version": "17+35-2724"
  }
 },
 "nbformat": 4,
 "nbformat_minor": 5
}
