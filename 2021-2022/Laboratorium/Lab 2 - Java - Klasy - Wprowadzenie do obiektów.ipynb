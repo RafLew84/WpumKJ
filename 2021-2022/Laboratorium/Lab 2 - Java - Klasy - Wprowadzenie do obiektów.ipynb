{
 "cells": [
  {
   "cell_type": "markdown",
   "id": "c4f30bde-794a-4d9d-8fde-eadecbea3429",
   "metadata": {},
   "source": [
    "# 2. Java - Klasy - Wprowadzenie do obiektów\n",
    "\n",
    "Klasa służy jako szablon do wytwarzania obiektów oraz jako kontener dla aplikacji.\n",
    "\n",
    "## 2.1 Definiowanie klas\n",
    "\n",
    "W najprostszym przykładzie używamy słowa kluczowego class i podajemy nazwę klasy."
   ]
  },
  {
   "cell_type": "code",
   "execution_count": 1,
   "id": "9deba358-6037-471b-9714-8f5fa2df5841",
   "metadata": {},
   "outputs": [],
   "source": [
    "class A{\n",
    "    // ciało klasy\n",
    "}\n",
    "\n",
    "class B{\n",
    "    // ciało klasy\n",
    "}\n",
    "class C{\n",
    "    // ciało klasy\n",
    "}"
   ]
  },
  {
   "cell_type": "markdown",
   "id": "423ff673-e23e-4616-9021-65ce13cda52e",
   "metadata": {},
   "source": [
    "## 2.2 Atrybuty (pola) klas\n",
    "\n",
    "Java reprezentuje stan obiektu poprzez właściwości, które są zmiennymi lub wartościami zdefiniowanymi wewnątrz klasy."
   ]
  },
  {
   "cell_type": "code",
   "execution_count": 2,
   "id": "90bd4b02-9ade-4967-be8b-a70c2794e475",
   "metadata": {},
   "outputs": [],
   "source": [
    "class Student {\n",
    "  int indexNum = 5;\n",
    "  int year = 3;\n",
    "}"
   ]
  },
  {
   "cell_type": "markdown",
   "id": "0e21b114-d068-4dce-a62c-7f9ecf7caba1",
   "metadata": {},
   "source": [
    "## 2.3 Metody\n",
    "\n",
    "Java reprezentuje zachowanie klasy poprzez zastosowanie metod."
   ]
  },
  {
   "cell_type": "code",
   "execution_count": 6,
   "id": "b4669d1a-0f02-4956-9ec2-fcb0419d1bf9",
   "metadata": {},
   "outputs": [],
   "source": [
    "class Points {\n",
    "    int points = 0;\n",
    "    final int max = 10;\n",
    "        \n",
    "    public int add (int increase) {\n",
    "        points += increase;\n",
    "        if (points > max)\n",
    "            points = max;\n",
    "        return points;\n",
    "    }\n",
    "}"
   ]
  },
  {
   "cell_type": "markdown",
   "id": "2ef7f57f-8a8a-40ea-9d82-b41cd4646a1f",
   "metadata": {},
   "source": [
    "## 2.4 Konstruktor"
   ]
  },
  {
   "cell_type": "markdown",
   "id": "8af2c723-80d5-4637-8e9e-3f68c493790a",
   "metadata": {},
   "source": [
    "Słowo kluczowe `new` przydziela pamięć do przechowywania obiektu, którego typ jest określony przez konstruktor. Następnie ten konstruktor jest wywoływany aby zainicjować obiekt. Po zakończeniu pracy konstruktora `new` zwraca referencję do obiektu aby można było uzyskać do niego dostęp w innym miejscu aplikacji. Konstruktor nie ma nazwy, zamiast tego musi podać nazwę deklarującej klasy. Po tej nazwie znajduje się lista parametrów.\n",
    "Gdy klasa nie deklaruje konstruktora, Java niejawnie tworzy konstruktor dla tej klasy - ten konstruktor jest nazywany konstruktorem domyślnym."
   ]
  },
  {
   "cell_type": "code",
   "execution_count": 8,
   "id": "1a903a03-ad17-42b7-93bd-e8a44bad60c3",
   "metadata": {},
   "outputs": [
    {
     "name": "stdout",
     "output_type": "stream",
     "text": [
      " Student ( String name , String grade ) called \n",
      " reading Rafal\n",
      " Student ( String name ) called \n"
     ]
    }
   ],
   "source": [
    "class Student {\n",
    "    \n",
    "    Student ( String name ){\n",
    "        this (name , null );\n",
    "        System.out.println (\" Student ( String name ) called \");\n",
    "    }\n",
    "\n",
    "     Student ( String name , String grade )\n",
    "    {\n",
    "        System.out.println (\" Student ( String name , String grade ) called \");\n",
    "        if ( name != null ) {\n",
    "            System.out.println (\" reading \" + name );\n",
    "            if ( grade != null )\n",
    "            System.out.println (\" interpreting \" + name + \" as storing a \" + grade + \" student \");\n",
    "        }\n",
    "    }\n",
    "}\n",
    "\n",
    "Student student = new Student(\"Rafal\")"
   ]
  },
  {
   "cell_type": "markdown",
   "id": "961b2ba3-fbd9-4bd5-b805-8668e34138b5",
   "metadata": {},
   "source": [
    "Klasa `Student` najpierw deklaruje konstruktor z jednym parametrem `name`. Niektóre konstruktory wywołują inne konstruktory w celu inicjacji obiektów. Odbywa się to w celu uniknięcia nadmiarowego kodu, który zwiększa rozmiar pliku i niepotrzebnie zabiera pamięć ze sterty, którą można wykorzystać do innych celów. Konstruktor wywołuje inny konstruktor za pomocą słowa kluczowego `this` oraz podając listę parametrów. Wywołanie konstruktora poprzez słowo kluczowe `this` zawsze jest wykonywane jako pierwsze.\n",
    "W ramach metody lub konstruktora, słowo kluczowe `this`, służy jako odwołanie do bieżącego obiektu, którego metoda lub konstruktor jest wywoływany. Korzystając z niego możesz odwołać się do dowolnego elementu bieżącego obiektu."
   ]
  },
  {
   "cell_type": "markdown",
   "id": "0cc7e63e-3135-4289-b1c0-f522a077185c",
   "metadata": {},
   "source": [
    "## 2.5 Modyfikatory dostępu\n",
    "\n",
    "Każda klasa wystawia interfejs (konstruktory, metody, pola) który jest dostępny z zewnątrz klasy. Projektując klasę jednym z głównych zadań jest stworzenie użytecznego interfejsu jednocześnie ukrywając detale implementacji, które są bez znaczenia dla klientów. Java wspiera ukrywanie implementacji przez udostępnienie czterech poziomów kontroli dostępu (modyfikatorów dostępu).\n",
    "- **public** - pole, metoda lub konstruktor z modyfikatorem publicznym, jest dostępne z każdego miejsca. Klasy również mogą być publiczne, najczęściej są to klasy które powinny być widoczne poza swoim pakietem. Publiczne klasy muszą być zadeklarowane w plikach o takiej samej nazwie.\n",
    "- **protected** - pola, metody i konstruktory klasy oznaczone w ten sposób są dostępne w obrębie pakietu oraz we wszystkich podklasach.\n",
    "- **private** - do pól, metod i konstruktorów prywatnych nie można uzyskać dostępu spoza klasy w której się znajdują\n",
    "- **package-private** - w przypadku braku modyfikatora pola, metody i konstruktory są dostępne dla klas z tego samego pakietu\n",
    "\n",
    "Zazwyczaj deklarujemy pola instancji jako prywatne i dostarczamy odpowiednie metody do zapisywania i odczytywania ich wartości."
   ]
  },
  {
   "cell_type": "code",
   "execution_count": 13,
   "id": "679e27da-6fa5-4450-a36e-df6c96b9d96a",
   "metadata": {},
   "outputs": [],
   "source": [
    "public class Student {\n",
    "    private String name;\n",
    "    \n",
    "    public Student (String name) {\n",
    "        setName (name);\n",
    "    }\n",
    "\n",
    "    public void setName (String name) {\n",
    "        this.name = name;\n",
    "    }\n",
    "\n",
    "    public String getName () {\n",
    "        return name;\n",
    "    }\n",
    "}"
   ]
  },
  {
   "cell_type": "markdown",
   "id": "b1ea2088-685e-4289-9ae1-af01dcafad34",
   "metadata": {},
   "source": [
    "Takie podejście może wydawać się bezzasadne. Rozważmy poniższy przykład. Załóżmy że musimy dodać do poprzedniego przykładu konstruktor w który będzie przyjmował imię i nazwisko studenta. Jednocześnie wiemy że nowy konstruktor będzie wywoływany znacznie częściej."
   ]
  },
  {
   "cell_type": "code",
   "execution_count": 15,
   "id": "850d14b5-4769-4804-806d-e94a49d5a7f0",
   "metadata": {},
   "outputs": [],
   "source": [
    "public class Student {\n",
    "    private String firstName;\n",
    "    private String lastName;\n",
    "\n",
    "    public Student (String name) {\n",
    "        setName (name);\n",
    "    }\n",
    "\n",
    "    public Student (String firstName, String lastName){\n",
    "        setName ( firstName + \" \" + lastName);\n",
    "    }\n",
    "\n",
    "    public void setName (String name) {\n",
    "        setFirstName(name.substring(0, name.indexOf (\" \")));\n",
    "        setLastName(name.substring(name.indexOf(\" \") + 1));\n",
    "    }\n",
    "\n",
    "    public String getName() {\n",
    "        return getFirstName () + \" \" + getLastName ();\n",
    "    }\n",
    "\n",
    "    public void setFirstName (String firstName){\n",
    "        this.firstName = firstName;\n",
    "    }\n",
    "\n",
    "    public String getFirstName() {\n",
    "        return firstName;\n",
    "    }\n",
    "\n",
    "    public void setLastName (String lastName) {\n",
    "        this.lastName = lastName;\n",
    "    }\n",
    "\n",
    "    public String getLastName (){\n",
    "        return lastName;\n",
    "    }\n",
    "}"
   ]
  },
  {
   "cell_type": "markdown",
   "id": "b15fc925-4281-43cd-8e82-a3a3d02d02ce",
   "metadata": {},
   "source": [
    "Zmiany w powyższym przykładzie nie wymagają żadnych zmian w kodzie klientów (innych klas korzystających z instancji tej klasy), ponieważ interfejs nie uległ zmianie."
   ]
  }
 ],
 "metadata": {
  "kernelspec": {
   "display_name": "Java",
   "language": "java",
   "name": "java"
  },
  "language_info": {
   "codemirror_mode": "java",
   "file_extension": ".jshell",
   "mimetype": "text/x-java-source",
   "name": "Java",
   "pygments_lexer": "java",
   "version": "17+35-2724"
  }
 },
 "nbformat": 4,
 "nbformat_minor": 5
}
