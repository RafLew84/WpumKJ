{
 "cells": [
  {
   "cell_type": "markdown",
   "id": "1106cf5b-250f-413c-b8a5-1fb2d7a5e458",
   "metadata": {},
   "source": [
    "# Lista 3\n",
    "\n",
    "## Zad 1 - **5 pkt**\n",
    "\n",
    "\n",
    "## Zad 2 - **5 pkt**\n",
    "\n"
   ]
  },
  {
   "cell_type": "markdown",
   "id": "f04c4672-a82a-4a09-8f8c-eefa040f1510",
   "metadata": {},
   "source": [
    "### Oceny\n",
    "\n",
    "|**ocena**|**punkty**|\n",
    "|:---:|:---:|\n",
    "|3,0 | 6 pkt|\n",
    "|3,5 | 7 pkt|\n",
    "|4,0 | 8 pkt|\n",
    "|4,5 | 9 pkt|\n",
    "|5,0 | 10 pkt|"
   ]
  },
  {
   "cell_type": "code",
   "execution_count": null,
   "id": "96c73021-da21-4eec-9449-999dfea96a03",
   "metadata": {},
   "outputs": [],
   "source": []
  }
 ],
 "metadata": {
  "kernelspec": {
   "display_name": "Kotlin",
   "language": "kotlin",
   "name": "kotlin"
  },
  "language_info": {
   "codemirror_mode": "text/x-kotlin",
   "file_extension": ".kt",
   "mimetype": "text/x-kotlin",
   "name": "kotlin",
   "nbconvert_exporter": "",
   "pygments_lexer": "kotlin",
   "version": "1.6.20-dev-6372"
  }
 },
 "nbformat": 4,
 "nbformat_minor": 5
}
