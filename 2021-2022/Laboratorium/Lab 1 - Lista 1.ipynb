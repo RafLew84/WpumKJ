{
 "cells": [
  {
   "cell_type": "markdown",
   "id": "91aec4ac-4f96-4b7c-9316-a015261f1e1c",
   "metadata": {},
   "source": [
    "# Lista 1\n",
    "\n",
    "## Zad 1 - **2 pkt**\n",
    "\n",
    "Wypisz wszystkie liczby od 1 do 100, jednak jeżeli liczba jest podzielna przez:\n",
    "- 3 - wypisz \"trzy\"\n",
    "- 5 - wypisz \"piec\"\n",
    "- 3 i 5 - wypisz \"trzypiec\"\n",
    "\n",
    "## Zad 2 - **2 pkt**\n",
    "\n",
    "Rozszerz Zad 1 o liczbę 7.\n",
    "Jeżeli liczba jest podzielna przez:\n",
    "- 7 - wypisz \"siedem\"\n",
    "- 3 i 7 - wypisz \"trzysiedem\"\n",
    "- 5 i 7 - wypisz \"piecsiedem\"\n",
    "- 3, 5 i 7 - wypisz \"trzypiecsiedem\"\n",
    "\n",
    "## Zad 3 - **2 pkt**\n",
    "\n",
    "Rozszerz Zad 2 o liczby 11 i 13.\n",
    "Jeżeli liczba jest podzielna przez:\n",
    "- 11 - wypisz \"jedenascie\"\n",
    "- 3 i 11 - wypisz \"trzyjedenascie\"\n",
    "- 3, 5, 7 i 11 - wypisz \"trzypiecsiedemjedenascie\"\n",
    "- itd...\n",
    "\n",
    "## Zad 4 - **4 pkt**\n",
    "\n",
    "Napisz funkcję `missingNumber`, która jako argument przyjmuje tablicę `N` liczb naturalnych. W tablicy wszystkie elementy są unikalne. Tablica ma długość `N`. W tablicy brakuje jednego elementu z zakresu. Funkcja missingNumber powinna zwrócić brakujący element:\n"
   ]
  },
  {
   "cell_type": "code",
   "execution_count": null,
   "id": "d68d1493-061a-44a5-a791-8dad42ba70cf",
   "metadata": {},
   "outputs": [],
   "source": [
    "// Kotlin\n",
    "val tab: intArray = intArrayOf(2, 4, 5, 3, 0, 6) // N = 6\n",
    "println(missingNumber(tab))"
   ]
  },
  {
   "cell_type": "code",
   "execution_count": null,
   "id": "7b2e4ae1-1f54-42ff-ab15-1e37f5c6d1ed",
   "metadata": {},
   "outputs": [],
   "source": [
    "// Java\n",
    "int[] tab = new int[]{2, 4, 5, 3, 0, 6}; // N = 6\n",
    "System.out.println(missingNumber(tab));"
   ]
  },
  {
   "cell_type": "markdown",
   "id": "38bfeb2f-af35-4204-b81e-a6ef62bb2d5f",
   "metadata": {},
   "source": [
    "### Oceny\n",
    "\n",
    "|***ocena**|punkty|\n",
    "|:---:|:---:|\n",
    "|3,0 | 6 pkt|\n",
    "|3,5 | 7 pkt|\n",
    "|4,0 | 8 pkt|\n",
    "|4,5 | 9 pkt|\n",
    "|5,0 | 10 pkt|"
   ]
  },
  {
   "cell_type": "code",
   "execution_count": null,
   "id": "e06cd968-588a-440e-89e2-55ff6b034501",
   "metadata": {},
   "outputs": [],
   "source": []
  }
 ],
 "metadata": {
  "kernelspec": {
   "display_name": "Kotlin",
   "language": "kotlin",
   "name": "kotlin"
  },
  "language_info": {
   "codemirror_mode": "text/x-kotlin",
   "file_extension": ".kt",
   "mimetype": "text/x-kotlin",
   "name": "kotlin",
   "nbconvert_exporter": "",
   "pygments_lexer": "kotlin",
   "version": "1.6.20-dev-6372"
  }
 },
 "nbformat": 4,
 "nbformat_minor": 5
}
