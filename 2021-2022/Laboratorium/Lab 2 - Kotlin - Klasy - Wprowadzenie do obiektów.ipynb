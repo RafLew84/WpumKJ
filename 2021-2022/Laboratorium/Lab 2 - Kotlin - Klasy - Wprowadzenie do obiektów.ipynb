{
 "cells": [
  {
   "cell_type": "markdown",
   "id": "72f5dd3a-cbdd-4f64-97b7-3ff4011775d0",
   "metadata": {},
   "source": [
    "# 2. Kotlin - Klasy - Wprowadzenie do obiektów\n",
    "\n",
    "Klasa służy jako szablon do wytwarzania obiektów. \n",
    "\n",
    "## 2.1 Definiowanie klas\n",
    "\n",
    "W najprostszym przykładzie używamy słowa kluczowego class i podajemy nazwę klasy.\n"
   ]
  },
  {
   "cell_type": "code",
   "execution_count": 1,
   "id": "027bbf97-fe3c-4b7b-be50-c146dbe5bc89",
   "metadata": {},
   "outputs": [],
   "source": [
    "class A{\n",
    "    // ciało klasy\n",
    "}\n",
    "\n",
    "class B{\n",
    "    // ciało klasy\n",
    "}\n",
    "class C{\n",
    "    // ciało klasy\n",
    "}"
   ]
  },
  {
   "cell_type": "markdown",
   "id": "d68d8698-cdea-4df1-b928-4beb8c0601b8",
   "metadata": {},
   "source": [
    "## 2.2 Atrybuty (pola) klas\n",
    "\n",
    "Kotlin reprezentuje stan obiektu poprzez pola, które są zmiennymi lub wartościami zdefiniowanymi wewnątrz klasy."
   ]
  },
  {
   "cell_type": "code",
   "execution_count": 3,
   "id": "4efce8c1-1acd-4ba0-ad20-f702087f462b",
   "metadata": {},
   "outputs": [],
   "source": [
    "class Student {\n",
    "  val indexNum = 5;\n",
    "  var year = 3;\n",
    "}"
   ]
  },
  {
   "cell_type": "markdown",
   "id": "24c91bb5-676e-4619-b097-a2027e678b3f",
   "metadata": {},
   "source": [
    "## 2.3 Metody\n",
    "\n",
    "Kotlin reprezentuje zachowanie klasy poprzez zastosowanie metod."
   ]
  },
  {
   "cell_type": "code",
   "execution_count": 5,
   "id": "752460d7-d2e9-4cbb-8d65-a7442fae2e75",
   "metadata": {},
   "outputs": [],
   "source": [
    "class Points {\n",
    "    var points = 0\n",
    "    val max = 10\n",
    "    \n",
    "    fun add(increase: Int): Int {\n",
    "        points += increase\n",
    "        if (points > max)\n",
    "            points = max\n",
    "        return points\n",
    "    }\n",
    "}"
   ]
  },
  {
   "cell_type": "markdown",
   "id": "ea670718-675a-4a55-b5e3-4f0c6d0e62bc",
   "metadata": {},
   "source": [
    "- Klasa - definiuje właściwości (pola) i zachowanie (metody) typu zdefiniowanego przez użytkownika\n",
    "- Member - właściwość lub metoda klasy"
   ]
  },
  {
   "cell_type": "markdown",
   "id": "1e6d13d9-fd6e-413a-adf1-00d54795e29c",
   "metadata": {},
   "source": [
    "## 2.4 Konstruktor\n",
    "\n"
   ]
  },
  {
   "cell_type": "code",
   "execution_count": 1,
   "id": "34803239-7873-4cfa-9e9e-5f695df3c7a3",
   "metadata": {},
   "outputs": [
    {
     "name": "stdout",
     "output_type": "stream",
     "text": [
      "Line_0$WFiA@6de26a1f\n",
      "Line_0$WFiA@7f96954b\n",
      "Line_0$UWR@1442ec35\n",
      "Line_0$IFD@6f9b244e\n"
     ]
    }
   ],
   "source": [
    "class WFiA\n",
    "class UWR\n",
    "class IFD\n",
    "\n",
    "val w1 = WFiA()\n",
    "val w2 = WFiA()\n",
    "val u = UWR()\n",
    "val i = IFD()\n",
    "\n",
    "println(w1)\n",
    "println(w2)\n",
    "println(u)\n",
    "println(i)"
   ]
  },
  {
   "cell_type": "markdown",
   "id": "52ac887d-9e14-4125-ae11-d509ff753cf0",
   "metadata": {},
   "source": [
    "Każda klasa posiada konstruktur domyślny."
   ]
  },
  {
   "cell_type": "code",
   "execution_count": 4,
   "id": "0a049c7a-51bb-4c41-b17e-4da29c887a36",
   "metadata": {},
   "outputs": [
    {
     "name": "stdout",
     "output_type": "stream",
     "text": [
      "Imie - Rafał"
     ]
    }
   ],
   "source": [
    "class Student {\n",
    "   // Property (data member)\n",
    "   private var name: String = \"Rafał\"\n",
    "\n",
    "   // Member function\n",
    "   fun printMe() {\n",
    "      print(\"Imie - \" + name)\n",
    "   }\n",
    "}\n",
    "\n",
    "val student = Student()\n",
    "student.printMe()"
   ]
  },
  {
   "cell_type": "markdown",
   "id": "a53127e5-0f0f-44c1-9a5b-a478ffc26a06",
   "metadata": {},
   "source": [
    "Kotlin posiada dwa typy kontruktorów:\n",
    "- konstruktor główny - może posiadać jeden\n",
    "- konstruktory podrzędne - musi wywołać konstruktor główny"
   ]
  },
  {
   "cell_type": "markdown",
   "id": "ba43d8b6-551c-48e3-8451-14db82ae9f9d",
   "metadata": {},
   "source": [
    "### Konstruktor główny"
   ]
  },
  {
   "cell_type": "code",
   "execution_count": 7,
   "id": "c1688ac7-5c8c-4ae0-a1cf-cf65d58350c6",
   "metadata": {},
   "outputs": [],
   "source": [
    "class Student constructor(firstName: String, val index: Int) {}\n",
    "\n",
    "class Student (val firstName: String, val index: Int) {}"
   ]
  },
  {
   "cell_type": "markdown",
   "id": "1b5742ee-cd29-4b14-b047-304bf63e56d3",
   "metadata": {},
   "source": [
    "Główny konstrukto nie może zawierać kodu. Kod inicjacyjny może zostać umieszczony w bloku `init`."
   ]
  },
  {
   "cell_type": "code",
   "execution_count": 9,
   "id": "6e54b627-9371-4aff-b09b-ee738a389277",
   "metadata": {},
   "outputs": [
    {
     "name": "stdout",
     "output_type": "stream",
     "text": [
      "Name = Rafał\n",
      "Index number = 40\n"
     ]
    }
   ],
   "source": [
    "class Student (val _name: String, val _index: Int) {\n",
    "   var name: String\n",
    "   var index: Int\n",
    "\n",
    "   // Initializer Block\n",
    "   init {\n",
    "      this.name = _name\n",
    "      this.index = _index\n",
    "      println(\"Name = $name\")\n",
    "      println(\"Index number = $index\")\n",
    "   }\n",
    "}\n",
    "\n",
    "\n",
    "val student = Student(\"Rafał\", 40)"
   ]
  },
  {
   "cell_type": "markdown",
   "id": "708c86c3-578e-488f-8e55-8fe87cf6eac3",
   "metadata": {},
   "source": [
    "Klasa może posiadać wiele bloków `init`, są one wykonywane w kolejności umieszczenia w klasie."
   ]
  },
  {
   "cell_type": "markdown",
   "id": "984de1dd-3447-4994-b5b6-5e5f01d91d79",
   "metadata": {},
   "source": [
    "Mamy możliwość dodania wartości domyślnych do parametrów konstruktora."
   ]
  },
  {
   "cell_type": "code",
   "execution_count": 1,
   "id": "8f950e91-eb0c-43b7-b969-4ea12eebe4a0",
   "metadata": {},
   "outputs": [
    {
     "name": "stdout",
     "output_type": "stream",
     "text": [
      "Name = Rafał\n",
      "Index number = 20\n",
      "Name = Robert\n",
      "Index number = 11\n",
      "Name = none\n",
      "Index number = 20\n"
     ]
    }
   ],
   "source": [
    "class Student (name: String=\"none\", index: Int=20) {\n",
    "   // Member Variables\n",
    "   var name: String\n",
    "   var index: Int\n",
    "\n",
    "   // Initializer Block\n",
    "   init {\n",
    "      this.name = name\n",
    "      this.index = index\n",
    "      println(\"Name = $name\")\n",
    "      println(\"Index number = $index\")\n",
    "   }\n",
    "}\n",
    "\n",
    "\n",
    "val rafal = Student(\"Rafał\")\n",
    "val robert = Student(\"Robert\", 11)\n",
    "val none = Student()"
   ]
  },
  {
   "cell_type": "code",
   "execution_count": 8,
   "id": "b8318086-5869-406a-8578-c39dc8b856f6",
   "metadata": {},
   "outputs": [
    {
     "name": "stdout",
     "output_type": "stream",
     "text": [
      "Name = Rafał\n",
      "Index number = 20\n",
      "Name = Robert\n",
      "Index number = 11\n",
      "Name = none\n",
      "Index number = 20\n"
     ]
    }
   ],
   "source": [
    "//class Student (private val name: String=\"none\", index: Int=20) {\n",
    "class Student (val name: String=\"none\", index: Int=20) {\n",
    "   // Member Variables\n",
    "   //var name: String\n",
    "   var index: Int\n",
    "\n",
    "   // Initializer Block\n",
    "   init {\n",
    "      //this.name = name\n",
    "      this.index = index\n",
    "      println(\"Name = $name\")\n",
    "      println(\"Index number = $index\")\n",
    "   }\n",
    "}\n",
    "\n",
    "\n",
    "val rafal = Student(\"Rafał\")\n",
    "val robert = Student(\"Robert\", 11)\n",
    "val none = Student()"
   ]
  },
  {
   "cell_type": "markdown",
   "id": "59850bf7-30e5-48c4-acfe-3ff72b770fba",
   "metadata": {},
   "source": [
    "### Konstruktory drugorzędne"
   ]
  },
  {
   "cell_type": "markdown",
   "id": "94c556d9-1c17-4090-9a73-11af88e279c1",
   "metadata": {},
   "source": [
    "Przy tworzeniu drugorzędnych konstruktorów wymagane jest użycie słowa kluczowego `constructor`."
   ]
  },
  {
   "cell_type": "code",
   "execution_count": 25,
   "id": "6aae9fdf-d812-44df-94ad-2d1c943fe793",
   "metadata": {},
   "outputs": [
    {
     "name": "stdout",
     "output_type": "stream",
     "text": [
      "Initializer Block\n",
      "Name = Rafał\n",
      "Index number = 40\n"
     ]
    }
   ],
   "source": [
    "class Student{\n",
    "   // Member Variables\n",
    "   var name: String\n",
    "   var index: Int\n",
    "\n",
    "   // Initializer Block\n",
    "   init {\n",
    "       println(\"Initializer Block\")\n",
    "   }\n",
    "\n",
    "   // Secondary Constructor\n",
    "   constructor (_name: String, _index: Int) {\n",
    "      this.name = _name\n",
    "      this.index = _index\n",
    "      println(\"Name = $name\")\n",
    "      println(\"Index number = $index\")\n",
    "   }\n",
    "}\n",
    "\n",
    "\n",
    "val studeny = Student(\"Rafał\", 40)"
   ]
  },
  {
   "cell_type": "code",
   "execution_count": 10,
   "id": "65e502cb-3809-47bf-b975-4dacee736810",
   "metadata": {},
   "outputs": [
    {
     "name": "stderr",
     "output_type": "stream",
     "text": [
      "Line_9.jupyter-kts (12:17 - 20) 'val' on secondary constructor parameter is not allowed\n",
      "Line_9.jupyter-kts (12:35 - 38) 'var' on secondary constructor parameter is not allowed"
     ]
    }
   ],
   "source": [
    "class Student{\n",
    "   // Member Variables\n",
    "   //var name: String\n",
    "   //var index: Int\n",
    "\n",
    "   // Initializer Block\n",
    "   init {\n",
    "       println(\"Initializer Block\")\n",
    "   }\n",
    "\n",
    "   // Secondary Constructor\n",
    "   constructor (val name: String, var index: Int) {\n",
    "      //this.name = _name\n",
    "      //this.index = _index\n",
    "      println(\"Name = $name\")\n",
    "      println(\"Index number = $index\")\n",
    "   }\n",
    "}\n",
    "\n",
    "\n",
    "val studeny = Student(\"Rafał\", 40)"
   ]
  },
  {
   "cell_type": "code",
   "execution_count": 28,
   "id": "af15e770-667c-4c98-b6da-da53dec023f7",
   "metadata": {},
   "outputs": [
    {
     "name": "stdout",
     "output_type": "stream",
     "text": [
      "Initializer Block\n",
      "Name = Rafał\n",
      "Index number = 40\n",
      "\n",
      "Initializer Block\n",
      "Name = Robert\n",
      "Index number = 20\n",
      "Average = 5.0\n"
     ]
    }
   ],
   "source": [
    "class Student{\n",
    "   // Member Variables\n",
    "   var name: String\n",
    "   var index: Int\n",
    "   var avg: Double\n",
    "    \n",
    "   // Initializer Block\n",
    "   init {\n",
    "       println(\"Initializer Block\")\n",
    "   }\n",
    "\n",
    "\n",
    "   // First Secondary Constructor\n",
    "   constructor ( _name: String, _index: Int) {\n",
    "      this.name = _name\n",
    "      this.index = _index\n",
    "      this.avg = 0.0\n",
    "      println(\"Name = $name\")\n",
    "      println(\"Index number = $index\")\n",
    "   }\n",
    "\n",
    "   // Second Secondary Constructor\n",
    "   constructor ( _name: String, _index: Int, _avg: Double) {\n",
    "      this.name = _name\n",
    "      this.index = _index\n",
    "      this.avg = _avg\n",
    "      println(\"Name = $name\")\n",
    "      println(\"Index number = $index\")\n",
    "      println(\"Average = $avg\")\n",
    "   }\n",
    "}\n",
    "\n",
    "\n",
    "val rafa = Student(\"Rafał\", 40)\n",
    "println()\n",
    "val robert = Student(\"Robert\", 20, 5.0)\n"
   ]
  },
  {
   "cell_type": "code",
   "execution_count": 5,
   "id": "3803db2f-b571-4d8b-a4b9-c54cdf3acb70",
   "metadata": {},
   "outputs": [
    {
     "name": "stdout",
     "output_type": "stream",
     "text": [
      "Initializer Block\n",
      "Name = Rafał\n",
      "Index number = 0\n",
      "Name = Rafał\n",
      "Index number = 40\n",
      "\n",
      "Initializer Block\n",
      "Name = Robert\n",
      "Index number = 0\n",
      "Rafał\n"
     ]
    }
   ],
   "source": [
    "class Student (val _name: String){\n",
    "   // Member Variables\n",
    "   var name: String = \"\"\n",
    "   var index: Int = 0\n",
    "\n",
    "   // Initializer Block\n",
    "   init {\n",
    "       this.name = _name\n",
    "       println(\"Initializer Block\")\n",
    "       println(\"Name = $name\")\n",
    "       println(\"Index number = $index\")\n",
    "   }\n",
    "\n",
    "   // Secondary Constructor\n",
    "   constructor ( name: String, _index: Int) : this(name) {\n",
    "      this.index = _index\n",
    "      println(\"Name = $name\")\n",
    "      println(\"Index number = $index\")\n",
    "   }\n",
    "}\n",
    "\n",
    "val student = Student(\"Rafał\", 40)\n",
    "println()\n",
    "val student2 = Student(\"Robert\")\n",
    "println(student.name)"
   ]
  },
  {
   "cell_type": "markdown",
   "id": "9d32d9d5-8b69-4019-b5c6-c78423127a1d",
   "metadata": {},
   "source": [
    "## 2.5 Modyfikatory dostępu"
   ]
  },
  {
   "cell_type": "markdown",
   "id": "16c9b6b1-5dda-490b-a4aa-fd709a5c5a51",
   "metadata": {},
   "source": [
    "Każda klasa wystawia interfejs (konstruktory, metody, pola) który jest dostępny z zewnątrz klasy. Projektując klasę jednym z głównych zadań jest stworzenie użytecznego interfejsu jednocześnie ukrywając detale implementacji, które są bez znaczenia dla klientów. Java wspiera ukrywanie implementacji przez udostępnienie czterech poziomów kontroli dostępu (modyfikatorów dostępu).\n",
    "- **public** - pole, metoda lub konstruktor z modyfikatorem publicznym, jest dostępne z każdego miejsca - modyfikator domyślny\n",
    "- **protected** - pola, metody i konstruktory klasy oznaczone w ten sposób są dostępne w obrębie klasy oraz we wszystkich podklasach.\n",
    "- **private** - do pól, metod i konstruktorów prywatnych nie można uzyskać dostępu spoza klasy w której się znajdują\n",
    "- **internal** - obiekty widoczne w obrębie modułu lub pakietu"
   ]
  },
  {
   "cell_type": "markdown",
   "id": "f3cffc2c-07f6-4a06-952a-6dad1a531932",
   "metadata": {},
   "source": [
    "## 2.6 `String` vs `StringBuilder` vs `StringBuffer`"
   ]
  },
  {
   "cell_type": "markdown",
   "id": "4a8db75f-7e7b-4fcd-8211-16d54bd05d29",
   "metadata": {},
   "source": [
    "String jest typem przechowującym łańcuch znaków. W Kotlinie występują dwa rodzaje `String`\n",
    "- **Escaped String** - rozpoczyna się i kończy symbolem `\"`, może zawierać znaki ucieczki\n",
    "- **Raw String** - rozpoczyna się i kończy symbolami `\"\"\"`, może zawierać wiele linii bez znaków ucieczki"
   ]
  },
  {
   "cell_type": "code",
   "execution_count": 51,
   "id": "3ee4cb62-bac4-4bfe-84cb-23d45d4b1193",
   "metadata": {},
   "outputs": [
    {
     "name": "stdout",
     "output_type": "stream",
     "text": [
      "Escaped String!\n",
      "mutliline\n",
      "   raw\n",
      "           string\n"
     ]
    }
   ],
   "source": [
    "val escapedString : String  = \"Escaped String!\\n\"\n",
    "val rawString : String  = \"\"\"mutliline\n",
    "   raw\n",
    "           string\"\"\"\n",
    "\n",
    "print(escapedString)\n",
    "println(rawString)"
   ]
  },
  {
   "cell_type": "markdown",
   "id": "8abdcaa1-2b6e-4d11-8328-67fed24892a0",
   "metadata": {},
   "source": [
    "W Kotlinie można używać szablonów ciągów."
   ]
  },
  {
   "cell_type": "code",
   "execution_count": 53,
   "id": "89c55591-f207-478b-9fa9-c8c432a650e5",
   "metadata": {},
   "outputs": [
    {
     "name": "stdout",
     "output_type": "stream",
     "text": [
      "Name  - Rafał Lewandków\n",
      "Długość - 15\n"
     ]
    }
   ],
   "source": [
    "val name : String = \"Rafał Lewandków\"\n",
    "   \n",
    "println(\"Name  - $name\")\n",
    "   \n",
    "println(\"Długość - ${name.length}\") "
   ]
  },
  {
   "cell_type": "code",
   "execution_count": 75,
   "id": "53621572-e697-4dd8-80e0-84f11b698434",
   "metadata": {},
   "outputs": [
    {
     "name": "stdout",
     "output_type": "stream",
     "text": [
      "Większa liczba: 6 \n",
      "Większa liczba:  6 \n",
      "Większa liczba: 6\n"
     ]
    }
   ],
   "source": [
    "val a = 5 \n",
    "val b = 6 \n",
    "val myString = \"\"\" ${if (a > b) a else b} \"\"\"\n",
    "\n",
    "println(\"Większa liczba:\" + myString)\n",
    "\n",
    "println(\"Większa liczba: $myString\")\n",
    "\n",
    "println(\"Większa liczba: ${if (a> b) a else b}\")"
   ]
  },
  {
   "cell_type": "code",
   "execution_count": 7,
   "id": "ea50bda3-cf29-4c77-ac97-f6527e00ba5b",
   "metadata": {},
   "outputs": [
    {
     "name": "stdout",
     "output_type": "stream",
     "text": [
      "a\n",
      "w\n"
     ]
    }
   ],
   "source": [
    "val name : String = \"Rafał Lewandków\"\n",
    "\n",
    "println(name[3])\n",
    "println(name[8])\n",
    "//println(name[80])"
   ]
  },
  {
   "cell_type": "markdown",
   "id": "b9e443dc-b5be-4b47-90b4-9a631ccb1677",
   "metadata": {},
   "source": [
    "Podstawowe metody:"
   ]
  },
  {
   "cell_type": "code",
   "execution_count": 81,
   "id": "8d7b0926-efd8-487e-9cce-6491e8a45557",
   "metadata": {},
   "outputs": [
    {
     "name": "stdout",
     "output_type": "stream",
     "text": [
      "Długość : 15\n",
      "Długość : 15\n"
     ]
    }
   ],
   "source": [
    "val name : String = \"Rafał Lewandków\"\n",
    "\n",
    "println(\"Długość : \" + name.length)\n",
    "println(\"Długość : \" + name.count())"
   ]
  },
  {
   "cell_type": "code",
   "execution_count": 9,
   "id": "1491616d-bb3a-478c-b750-a47cc2b3c045",
   "metadata": {},
   "outputs": [
    {
     "name": "stdout",
     "output_type": "stream",
     "text": [
      "Ostatni znak : 14 \n",
      "w\n",
      "w\n"
     ]
    }
   ],
   "source": [
    "println(\"Ostatni znak : \" + name.lastIndex + \" \")\n",
    "println(name[name.lastIndex])\n",
    "println(name[name.length - 1])"
   ]
  },
  {
   "cell_type": "code",
   "execution_count": 87,
   "id": "583b6630-fd0b-453a-a5aa-4e5b6ad45876",
   "metadata": {},
   "outputs": [
    {
     "name": "stdout",
     "output_type": "stream",
     "text": [
      "WIELKIE LITERY : RAFAŁ LEWANDKÓW\n",
      "małe litery : rafał lewandków\n"
     ]
    }
   ],
   "source": [
    "println(\"WIELKIE LITERY : \" + name.toUpperCase())\n",
    "println(\"małe litery : \" + name.toLowerCase())"
   ]
  },
  {
   "cell_type": "code",
   "execution_count": 90,
   "id": "9e208279-6c52-413e-8c88-8c4be06d9f35",
   "metadata": {},
   "outputs": [
    {
     "name": "stdout",
     "output_type": "stream",
     "text": [
      "Imię i nazwisko : RafałLewandków\n",
      "Imię i nazwisko : RafałLewandków\n"
     ]
    }
   ],
   "source": [
    "val firstName = \"Rafał\"\n",
    "val lastName = \"Lewandków\"\n",
    "\n",
    "println(\"Imię i nazwisko : \" + firstName + lastName)\n",
    "   \n",
    "println(\"Imię i nazwisko : \" + firstName.plus(lastName))"
   ]
  },
  {
   "cell_type": "code",
   "execution_count": 91,
   "id": "465cfd67-ede1-47b6-9210-39d7607f80c5",
   "metadata": {},
   "outputs": [
    {
     "name": "stdout",
     "output_type": "stream",
     "text": [
      "Usuń pierwsze dwa znaki : fał Lewandków\n",
      "Usuń ostatnie dwa znaki : Rafał Lewandk\n"
     ]
    }
   ],
   "source": [
    "println(\"Usuń pierwsze dwa znaki : \" + name.drop(2))\n",
    "   \n",
    "println(\"Usuń ostatnie dwa znaki : \" + name.dropLast(2))"
   ]
  },
  {
   "cell_type": "code",
   "execution_count": 13,
   "id": "1fe71c45-aa08-49af-8390-ef475e717911",
   "metadata": {},
   "outputs": [
    {
     "name": "stdout",
     "output_type": "stream",
     "text": [
      "0\n"
     ]
    }
   ],
   "source": [
    "var str1 : String = \"Rafał\"\n",
    "var str2 : String = \"Rafał\"\n",
    "\n",
    "println(str1.compareTo(str2))"
   ]
  },
  {
   "cell_type": "code",
   "execution_count": 14,
   "id": "13a04d81-f771-41e6-ab09-d0075279bfc5",
   "metadata": {},
   "outputs": [
    {
     "name": "stdout",
     "output_type": "stream",
     "text": [
      "true\n",
      "true\n"
     ]
    }
   ],
   "source": [
    "var str1 : String = \"Rafał\"\n",
    "var str2 : String = \"Rafał\"\n",
    "\n",
    "println(str1 == str2)\n",
    "println(str1.equals(str2))"
   ]
  },
  {
   "cell_type": "markdown",
   "id": "e29fbeaf-c006-4132-b75f-235279a1d718",
   "metadata": {},
   "source": [
    "`String` jest **niemutowalny** - nie ma możliwości modyfikacji"
   ]
  },
  {
   "cell_type": "code",
   "execution_count": 16,
   "id": "c20ca026-1f23-4ac8-a310-4226d791a059",
   "metadata": {},
   "outputs": [
    {
     "name": "stdout",
     "output_type": "stream",
     "text": [
      "Rafał\n",
      "Robert\n"
     ]
    }
   ],
   "source": [
    "var str1 = \"Rafał\"\n",
    "println(str1)\n",
    "//str1[0] = 'r'\n",
    "str1 = \"Robert\"\n",
    "println(str1)"
   ]
  },
  {
   "cell_type": "code",
   "execution_count": 6,
   "id": "d065a69a-e1e3-4da5-901b-3af3c183ef3b",
   "metadata": {},
   "outputs": [
    {
     "name": "stdout",
     "output_type": "stream",
     "text": [
      "Rafał Lewandków\n"
     ]
    }
   ],
   "source": [
    "var string = \"RafałxLewandków\"\n",
    "val char = ' '\n",
    "val index = 5\n",
    " \n",
    "string = string.substring(0, index) + char + string.substring(index + 1)\n",
    "println(string)"
   ]
  },
  {
   "cell_type": "code",
   "execution_count": 7,
   "id": "f8f60fbe-2698-47a7-8b2d-95fd0ed29cc4",
   "metadata": {},
   "outputs": [
    {
     "name": "stdout",
     "output_type": "stream",
     "text": [
      "RafałxLewandków\n"
     ]
    }
   ],
   "source": [
    "val chars = string.toCharArray()\n",
    "val char = 'x'\n",
    "chars[index] = char\n",
    "string = String(chars)\n",
    " \n",
    "println(string) "
   ]
  },
  {
   "cell_type": "markdown",
   "id": "17d621cf-e1bf-4cf4-a5c2-1ed1aa3b7548",
   "metadata": {},
   "source": [
    "Kiedy obiekt `String` zostaje utworzony, jest on dodany do wspólnej puli i dodany do stosu."
   ]
  },
  {
   "cell_type": "code",
   "execution_count": 17,
   "id": "d50fdd61-b17a-4403-bba4-9d81a9ac31ee",
   "metadata": {},
   "outputs": [
    {
     "name": "stdout",
     "output_type": "stream",
     "text": [
      "true\n",
      "true\n"
     ]
    }
   ],
   "source": [
    "var stra = \"Rafa\"\n",
    "var strb = \"Rafa\"\n",
    "\n",
    "println(stra == strb)\n",
    "println(stra === strb)"
   ]
  },
  {
   "cell_type": "markdown",
   "id": "e472a1a5-8ce1-4a45-865e-812e4736564a",
   "metadata": {},
   "source": [
    "Ponieważ `String` jest niemutowalny, za każdym razem wykorzystując metodę `plus()` lub operator `+`, `substring()` - tworzymy nowy obiekt `String`, poprzedni jest porzucany i zbierany przez `Garbage Collector`."
   ]
  },
  {
   "cell_type": "code",
   "execution_count": 18,
   "id": "e4879d0d-bcd5-4c0a-8a93-3d03efefaf45",
   "metadata": {},
   "outputs": [
    {
     "name": "stdout",
     "output_type": "stream",
     "text": [
      "Hello World\n"
     ]
    }
   ],
   "source": [
    "println(\"Hello\" + \" \" + \"World\")"
   ]
  },
  {
   "cell_type": "markdown",
   "id": "94e33e25-f2b0-4977-9c2b-ac0ec1dbf3aa",
   "metadata": {},
   "source": [
    "W celu uniknięcia tworzenia wielu niepotrzebnych obiektów możemy wykorzystać klasę `StringBuilder`, jest to **mutowalny** obiekt przeznaczony do operacji na łaćuchach znaków. Tworzy on pojedynczy bufor zawierający końcowy łańcuch znaków."
   ]
  },
  {
   "cell_type": "code",
   "execution_count": 19,
   "id": "62e7eea9-0511-4d6a-b7cf-6448bc318365",
   "metadata": {},
   "outputs": [
    {
     "name": "stdout",
     "output_type": "stream",
     "text": [
      "Hello World\n"
     ]
    }
   ],
   "source": [
    "val builder = StringBuilder()\n",
    "builder.append(\"Hello\")\n",
    "       .append(\" \")\n",
    "       .append(\"World\")\n",
    "       \n",
    "println(builder)"
   ]
  },
  {
   "cell_type": "markdown",
   "id": "30654c5a-1086-43f2-9124-6c1b5c6f168e",
   "metadata": {},
   "source": [
    "Mamy jeszcze jedną opcję do manipulacji łańcuchami znaków - `StringBuffer`. Jest to klasa niemal identyczna jak `StringBuilder` - zawierająca takie same metody. Różnicą jest bezpieczeństwo ze względu na wątki (**Thread Safe**, **Synchronized**). `StringBuilder` jest **co najmniej** tak szybki jak `StringBuffer` - z reguły `StringBuilder` jest szybszy."
   ]
  },
  {
   "cell_type": "markdown",
   "id": "ae5785e8-218c-4008-9f43-f93d390f509e",
   "metadata": {},
   "source": [
    "## 2.7 CharSequence vs String"
   ]
  },
  {
   "cell_type": "markdown",
   "id": "ee36457f-5506-4667-8a5e-e263f5fa4172",
   "metadata": {},
   "source": [
    "`CharSequence` jest interfejsem reprezentującym sekwencję znaków, nie narzuca **mutowalności** - klasy mutowalne i niemutowalne mogą implementować ten interfejs"
   ]
  },
  {
   "cell_type": "code",
   "execution_count": 28,
   "id": "cbd21603-c3d0-4774-b7dd-7c7a3fb7d5d0",
   "metadata": {},
   "outputs": [
    {
     "name": "stdout",
     "output_type": "stream",
     "text": [
      "String\n",
      "StringBuffer\n",
      "StringBuilder\n"
     ]
    }
   ],
   "source": [
    "val charSequence1: CharSequence = \"Rafał\"\n",
    "println(charSequence1::class.simpleName)\n",
    "\n",
    "val charSequence2: CharSequence = StringBuffer(\"Rafał\")\n",
    "println(charSequence2::class.simpleName)\n",
    "\n",
    "val charSequence3: CharSequence = StringBuilder(\"Rafał\")\n",
    "println(charSequence3::class.simpleName)"
   ]
  }
 ],
 "metadata": {
  "kernelspec": {
   "display_name": "Kotlin",
   "language": "kotlin",
   "name": "kotlin"
  },
  "language_info": {
   "codemirror_mode": "text/x-kotlin",
   "file_extension": ".kt",
   "mimetype": "text/x-kotlin",
   "name": "kotlin",
   "nbconvert_exporter": "",
   "pygments_lexer": "kotlin",
   "version": "1.6.20-dev-6372"
  }
 },
 "nbformat": 4,
 "nbformat_minor": 5
}
