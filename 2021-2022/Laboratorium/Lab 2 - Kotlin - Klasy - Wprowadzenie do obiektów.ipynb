{
 "cells": [
  {
   "cell_type": "markdown",
   "id": "72f5dd3a-cbdd-4f64-97b7-3ff4011775d0",
   "metadata": {},
   "source": [
    "# 2. Kotlin - Klasy - Wprowadzenie do obiektów\n",
    "\n",
    "Klasa służy jako szablon do wytwarzania obiektów. \n",
    "\n",
    "## 2.1 Definiowanie klas\n",
    "\n",
    "W najprostszym przykładzie używamy słowa kluczowego class i podajemy nazwę klasy.\n"
   ]
  },
  {
   "cell_type": "code",
   "execution_count": 1,
   "id": "027bbf97-fe3c-4b7b-be50-c146dbe5bc89",
   "metadata": {},
   "outputs": [],
   "source": [
    "class A{\n",
    "    // ciało klasy\n",
    "}\n",
    "\n",
    "class B{\n",
    "    // ciało klasy\n",
    "}\n",
    "class C{\n",
    "    // ciało klasy\n",
    "}"
   ]
  },
  {
   "cell_type": "markdown",
   "id": "d68d8698-cdea-4df1-b928-4beb8c0601b8",
   "metadata": {},
   "source": [
    "## 2.2 Atrybuty (pola) klas\n",
    "\n",
    "Kotlin reprezentuje stan obiektu poprzez pola, które są zmiennymi lub wartościami zdefiniowanymi wewnątrz klasy."
   ]
  },
  {
   "cell_type": "code",
   "execution_count": 3,
   "id": "4efce8c1-1acd-4ba0-ad20-f702087f462b",
   "metadata": {},
   "outputs": [],
   "source": [
    "class Student {\n",
    "  val indexNum = 5;\n",
    "  var year = 3;\n",
    "}"
   ]
  },
  {
   "cell_type": "markdown",
   "id": "24c91bb5-676e-4619-b097-a2027e678b3f",
   "metadata": {},
   "source": [
    "## 2.3 Metody\n",
    "\n",
    "Kotlin reprezentuje zachowanie klasy poprzez zastosowanie metod."
   ]
  },
  {
   "cell_type": "code",
   "execution_count": 5,
   "id": "752460d7-d2e9-4cbb-8d65-a7442fae2e75",
   "metadata": {},
   "outputs": [],
   "source": [
    "class Points {\n",
    "    var points = 0\n",
    "    val max = 10\n",
    "    \n",
    "    fun add(increase: Int): Int {\n",
    "        points += increase\n",
    "        if (points > max)\n",
    "            points = max\n",
    "        return points\n",
    "    }\n",
    "}"
   ]
  },
  {
   "cell_type": "markdown",
   "id": "1e6d13d9-fd6e-413a-adf1-00d54795e29c",
   "metadata": {},
   "source": [
    "## 2.4 Konstruktor"
   ]
  },
  {
   "cell_type": "markdown",
   "id": "9d32d9d5-8b69-4019-b5c6-c78423127a1d",
   "metadata": {},
   "source": [
    "## 2.5 Modyfikatory dostępu"
   ]
  },
  {
   "cell_type": "markdown",
   "id": "22606f01-1135-427a-ba93-945b6be302b4",
   "metadata": {},
   "source": [
    "## 2.6 Pakiety"
   ]
  },
  {
   "cell_type": "code",
   "execution_count": null,
   "id": "9e8112e5-638e-4377-a837-2ff46dd1a2cc",
   "metadata": {},
   "outputs": [],
   "source": []
  }
 ],
 "metadata": {
  "kernelspec": {
   "display_name": "Kotlin",
   "language": "kotlin",
   "name": "kotlin"
  },
  "language_info": {
   "codemirror_mode": "text/x-kotlin",
   "file_extension": ".kt",
   "mimetype": "text/x-kotlin",
   "name": "kotlin",
   "nbconvert_exporter": "",
   "pygments_lexer": "kotlin",
   "version": "1.6.20-dev-6372"
  }
 },
 "nbformat": 4,
 "nbformat_minor": 5
}
