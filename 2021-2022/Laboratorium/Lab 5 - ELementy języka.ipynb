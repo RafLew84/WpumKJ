{
 "cells": [
  {
   "cell_type": "markdown",
   "id": "8b83974c-2cad-453d-a7b0-43b3b5414c6b",
   "metadata": {},
   "source": [
    "# 5. Elementy języka"
   ]
  },
  {
   "cell_type": "markdown",
   "id": "7ac4f55c-0854-4f52-a3a8-7a36447c6ad4",
   "metadata": {},
   "source": [
    "## 5.1 Operacje na kolekcjach"
   ]
  },
  {
   "cell_type": "code",
   "execution_count": 21,
   "id": "e6621255-da04-4c96-8319-9764d1612e6c",
   "metadata": {},
   "outputs": [
    {
     "name": "stdout",
     "output_type": "stream",
     "text": [
      "Robert Exercise 1\n"
     ]
    }
   ],
   "source": [
    "data class Student(\n",
    "    val name: String,\n",
    "    val indexNumber: Int\n",
    ")\n",
    "\n",
    "data class Exercise(\n",
    "    val student: Student,\n",
    "    val text: String,\n",
    "    val isRead: Boolean\n",
    ")\n",
    "\n",
    "val exercises = listOf(\n",
    "Exercise(Student(\"Rafał\", 210472), \"Rafał Exercise 1\", true),\n",
    "Exercise(Student(\"Robert\", 294862), \"Robert Exercise 1\", false))\n",
    "\n",
    "val unchecked = exercises.filterNot(Exercise::isRead)\n",
    "\n",
    "println(unchecked.single().text)"
   ]
  },
  {
   "cell_type": "code",
   "execution_count": 34,
   "id": "f2188758-c8c3-46d8-857e-e4ee8d04d84d",
   "metadata": {},
   "outputs": [
    {
     "name": "stdout",
     "output_type": "stream",
     "text": [
      "Robert Makowiecki - false\n",
      "Mirosław Makowiecki - false\n",
      "Anna Niezgoda - false\n",
      "Karol Nowak - false\n",
      "Radosław Amok - true\n",
      "Rafał Lewandkowski - true\n",
      "Rafał Lewandków - true\n"
     ]
    }
   ],
   "source": [
    "data class User(\n",
    "    val name: String,\n",
    "    val lastname: String,\n",
    "    val isActive: Boolean\n",
    ")\n",
    "val users = listOf(\n",
    "    User(\"Rafał\", \"Lewandków\", true),\n",
    "    User(\"Robert\", \"Makowiecki\", false),\n",
    "    User(\"Radosław\", \"Amok\", true),\n",
    "    User(\"Mirosław\", \"Makowiecki\", false),\n",
    "    User(\"Rafał\", \"Lewandkowski\", true),\n",
    "    User(\"Karol\", \"Nowak\", false),\n",
    "    User(\"Anna\", \"Niezgoda\", false))\n",
    "\n",
    "users.sortedWith(compareBy(User::isActive, User::lastname))\n",
    "    .forEach{println(\"${it.name} ${it.lastname} - ${it.isActive}\")}"
   ]
  },
  {
   "cell_type": "code",
   "execution_count": 56,
   "id": "ad00d6fa-d90c-4980-88b4-7c41a8f2c28d",
   "metadata": {},
   "outputs": [],
   "source": [
    "data class Lecture(\n",
    "val name: String,\n",
    "val description: String,\n",
    "val isActive: Boolean,\n",
    "val students: List<Student>\n",
    ")\n",
    "\n",
    "data class Student(\n",
    "val name: String,\n",
    "val indexNumber: Int\n",
    ")\n",
    "    \n",
    "val lectures = listOf(\n",
    "    Lecture(\n",
    "        \"Programowanie dla ISSP\",\n",
    "        \"Bardzo ważny przedmiot\", \n",
    "        false,\n",
    "        listOf(\n",
    "            Student(\"Rafał\", 210472),\n",
    "            Student(\"Robert\", 294853))))\n",
    "\n",
    "fun isImportant(l: Lecture): Boolean =\n",
    "    l.name.contains(\"ISSP\") ||\n",
    "    l.students.any { it.name.contains(\"Rafał\") }"
   ]
  },
  {
   "cell_type": "code",
   "execution_count": 57,
   "id": "5b0d4a1f-70f1-4fb1-80af-cb55ee97458d",
   "metadata": {},
   "outputs": [
    {
     "data": {
      "text/plain": [
       "true"
      ]
     },
     "execution_count": 57,
     "metadata": {},
     "output_type": "execute_result"
    }
   ],
   "source": [
    "lectures.any { isImportant(it) }"
   ]
  },
  {
   "cell_type": "code",
   "execution_count": 58,
   "id": "cbcc729c-ed9d-4b70-a755-4e91c428f0d3",
   "metadata": {},
   "outputs": [
    {
     "data": {
      "text/plain": [
       "true"
      ]
     },
     "execution_count": 58,
     "metadata": {},
     "output_type": "execute_result"
    }
   ],
   "source": [
    "lectures.any (::isImportant)"
   ]
  },
  {
   "cell_type": "code",
   "execution_count": 97,
   "id": "b96a8713-741a-44f1-99c5-d473909a082c",
   "metadata": {},
   "outputs": [],
   "source": [
    "fun ignore(l: Lecture) = !isImportant(l)\n",
    "\n",
    "val lec = listOf(\n",
    "    Lecture(\"Programowanie dla ISSP\", \"Wstęp do programowania\", false, listOf(\n",
    "        Student(\"Robert\", 293855),\n",
    "        Student(\"Anna\", 203945))),\n",
    "    Lecture(\"Programowanie w C++\", \"Wstęp do programowania\", false, listOf(\n",
    "        Student(\"Rafał\", 210472))),\n",
    "    Lecture(\"Analiza Matematyczna\", \"Wstęp do analizy\", true, listOf(\n",
    "        Student(\"Paweł\", 304857))))"
   ]
  },
  {
   "cell_type": "code",
   "execution_count": 102,
   "id": "65ca3f3e-4d67-4679-9362-f54a26ad9a01",
   "metadata": {},
   "outputs": [
    {
     "data": {
      "text/plain": [
       "[Lecture(name=Analiza Matematyczna, description=Wstęp do analizy, isActive=true, students=[Student(name=Paweł, indexNumber=304857)])]"
      ]
     },
     "execution_count": 102,
     "metadata": {},
     "output_type": "execute_result"
    }
   ],
   "source": [
    "lec.filter(::ignore)"
   ]
  },
  {
   "cell_type": "code",
   "execution_count": 103,
   "id": "34ced50c-a6d1-4279-816d-f26579149689",
   "metadata": {},
   "outputs": [
    {
     "name": "stdout",
     "output_type": "stream",
     "text": [
      "Programowanie dla ISSP Wstęp do programowania - false\n",
      "Lista studentów:\n",
      "\tRobert - 293855\n",
      "\tAnna - 203945\n",
      "Programowanie w C++ Wstęp do programowania - false\n",
      "Lista studentów:\n",
      "\tRafał - 210472\n"
     ]
    }
   ],
   "source": [
    "lec.filterNot(::ignore).forEach{\n",
    "    println(\"${it.name} ${it.description} - ${it.isActive}\")\n",
    "    println(\"Lista studentów:\")\n",
    "    it.students\n",
    "           .forEach{ println(\"\\t${it.name} - ${it.indexNumber}\") }}"
   ]
  },
  {
   "cell_type": "code",
   "execution_count": 127,
   "id": "949587f4-4bea-4992-b073-a9549c993786",
   "metadata": {},
   "outputs": [
    {
     "name": "stdout",
     "output_type": "stream",
     "text": [
      "0: Ania\n",
      "1: Rafał\n"
     ]
    }
   ],
   "source": [
    "data class User(\n",
    "    val id: Int,\n",
    "    val name: String\n",
    ")\n",
    "\n",
    "val names = listOf(\"Ania\", \"Rafał\")\n",
    "val users = names.mapIndexed { index, name -> User(index, name)} // wywołanie konstruktora\n",
    "users.forEach {println(\"${it.id}: ${it.name}\")}"
   ]
  },
  {
   "cell_type": "code",
   "execution_count": 129,
   "id": "99e2fbaf-3d0a-47e9-9ffe-357152732275",
   "metadata": {},
   "outputs": [
    {
     "name": "stdout",
     "output_type": "stream",
     "text": [
      "0: Ania\n",
      "1: Rafał\n"
     ]
    }
   ],
   "source": [
    "val userList = names.mapIndexed(::User) // wywołanie konstruktora\n",
    "userList.forEach {println(\"${it.id}: ${it.name}\")}"
   ]
  },
  {
   "cell_type": "markdown",
   "id": "179ee38b-af67-4cbc-a461-128993f51274",
   "metadata": {},
   "source": [
    "## 5.2 Funkcje wyższego rzędu\n",
    "\n",
    "- funkcje przyjmujące jako argument inną funkcję"
   ]
  },
  {
   "cell_type": "code",
   "execution_count": 3,
   "id": "575b0b7f-df30-458e-b06e-67cad54732a8",
   "metadata": {},
   "outputs": [
    {
     "name": "stdout",
     "output_type": "stream",
     "text": [
      "true\n"
     ]
    }
   ],
   "source": [
    "val isPositive: (Int) -> Boolean = { it > 0 }\n",
    "\n",
    "println(listOf(1, 2, -3).any(isPositive))"
   ]
  },
  {
   "cell_type": "code",
   "execution_count": 6,
   "id": "9e94471b-3ab0-4213-b353-1f1d20e84e07",
   "metadata": {},
   "outputs": [
    {
     "name": "stdout",
     "output_type": "stream",
     "text": [
      "Hello, world!\n",
      "3\n"
     ]
    }
   ],
   "source": [
    "val helloWorld: () -> String = { \"Hello, world!\" }\n",
    "val suma: (Int, Int) -> Int = { x, y -> x + y }\n",
    "\n",
    "println(helloWorld())\n",
    "println(suma(1, 2))\n"
   ]
  },
  {
   "cell_type": "code",
   "execution_count": 139,
   "id": "0e021e79-593f-4c4a-959c-0be17a57d582",
   "metadata": {},
   "outputs": [
    {
     "data": {
      "text/plain": [
       "true"
      ]
     },
     "execution_count": 139,
     "metadata": {},
     "output_type": "execute_result"
    }
   ],
   "source": [
    "val ints = listOf(1, 2, -3)\n",
    "ints.any { it > 0 }"
   ]
  },
  {
   "cell_type": "code",
   "execution_count": 140,
   "id": "797ac78d-107c-4f75-a438-dfa8e782ca8d",
   "metadata": {},
   "outputs": [
    {
     "data": {
      "text/plain": [
       "true"
      ]
     },
     "execution_count": 140,
     "metadata": {},
     "output_type": "execute_result"
    }
   ],
   "source": [
    "val strings = listOf(\"abc\", \" \")\n",
    "strings.any { it.isBlank() }"
   ]
  },
  {
   "cell_type": "code",
   "execution_count": 141,
   "id": "bfd3d04b-6089-4dba-91ba-868258c8a277",
   "metadata": {},
   "outputs": [
    {
     "data": {
      "text/plain": [
       "true"
      ]
     },
     "execution_count": 141,
     "metadata": {},
     "output_type": "execute_result"
    }
   ],
   "source": [
    "strings.any(String::isNotBlank)"
   ]
  },
  {
   "cell_type": "code",
   "execution_count": 29,
   "id": "fd2ab053-9ff8-4c5e-aabb-9c96308ab422",
   "metadata": {},
   "outputs": [
    {
     "name": "stderr",
     "output_type": "stream",
     "text": [
      "Line_28.jupyter-kts (12:26 - 32) 'times2' is a member and an extension at the same time. References to such elements are not allowed\n",
      "Line_28.jupyter-kts (13:41 - 46) 'speak' is a member and an extension at the same time. References to such elements are not allowed"
     ]
    }
   ],
   "source": [
    "fun Int.times2() = times(2)\n",
    "\n",
    "class Student\n",
    "\n",
    "fun Student.speak() = \"Nie chce mi się\"\n",
    "\n",
    "fun goInt(n: Int, g: (Int) -> Int) = g(n)\n",
    "\n",
    "fun goStudent(student: Student, g: (Student) -> String) = g(student)\n",
    "\n",
    "fun main(){\n",
    " \tprintln(goInt(12, Int::times2))\n",
    " \tprintln(goStudent(Student(), Student::speak))\n",
    "}"
   ]
  },
  {
   "cell_type": "markdown",
   "id": "951d232f-4523-4935-9f9d-bedb6992ca3c",
   "metadata": {},
   "source": [
    "## 5.3 Funkcje lokalne\n",
    "\n",
    "- funkcje zdefiniowane wewnątrz innych funkcji"
   ]
  },
  {
   "cell_type": "code",
   "execution_count": 146,
   "id": "fd2f961c-7811-4580-b9c2-6e1d6e4aa856",
   "metadata": {},
   "outputs": [
    {
     "name": "stdout",
     "output_type": "stream",
     "text": [
      "Starting computation\n",
      "Computation result: 42\n",
      "\n"
     ]
    }
   ],
   "source": [
    "fun main(){\n",
    "    val logMsg = StringBuilder()\n",
    "\n",
    "    fun log(message: String) = logMsg.appendLine(message)\n",
    "    log(\"Starting computation\")\n",
    "\n",
    "    val x = 42\n",
    "\n",
    "    log(\"Computation result: $x\")\n",
    "\n",
    "    println(logMsg.toString())\n",
    "}\n",
    "main()"
   ]
  },
  {
   "cell_type": "code",
   "execution_count": 16,
   "id": "7aa101e8-f60a-410b-a974-cc8e1dd1fb91",
   "metadata": {},
   "outputs": [
    {
     "name": "stdout",
     "output_type": "stream",
     "text": [
      "true\n"
     ]
    }
   ],
   "source": [
    "class Session(\n",
    "    val title: String,\n",
    "    val speaker: String\n",
    ")\n",
    "val sessions = listOf(Session(\n",
    "    \"Kotlin Coroutines\", \n",
    "        \"Roman Elizarov\"))\n",
    "\n",
    "val favoriteSpeakers = setOf(\"Roman Elizarov\")\n",
    "\n",
    "fun main() {\n",
    "    fun interesting(session: Session): Boolean {\n",
    "        if (session.title.contains(\"Kotlin\") &&\n",
    "        session.speaker in favoriteSpeakers)\n",
    "            return true\n",
    "        return false\n",
    "    }\n",
    "    println(sessions.any(::interesting))\n",
    "}\n",
    "\n",
    "main()"
   ]
  },
  {
   "cell_type": "markdown",
   "id": "4af27db8-b22c-4e99-ba5b-50b133a3fcd5",
   "metadata": {},
   "source": [
    "## 5.4 Funkcja anonimowa\n",
    "\n",
    "- funkcja zdefiniowana wewnątrz innej funkcji, nie posiadająca nazwy"
   ]
  },
  {
   "cell_type": "code",
   "execution_count": 150,
   "id": "b1cbd3f9-fd2e-4d96-b0e2-a410bdcc894e",
   "metadata": {},
   "outputs": [
    {
     "name": "stdout",
     "output_type": "stream",
     "text": [
      "true\n"
     ]
    }
   ],
   "source": [
    "fun main() {\n",
    "    println(sessions.any(\n",
    "        fun(session: Session): Boolean {\n",
    "            if (session.title.contains(\"Kotlin\") && session.speaker in favoriteSpeakers)\n",
    "                return true\n",
    "        return false\n",
    "}))\n",
    "}\n",
    "\n",
    "main()"
   ]
  },
  {
   "cell_type": "markdown",
   "id": "2431587b-15f8-4192-9c99-38695b391ffc",
   "metadata": {},
   "source": [
    "## 5.5 Labeled return"
   ]
  },
  {
   "cell_type": "code",
   "execution_count": 18,
   "id": "f8b874c3-01af-4f14-9493-7db3b6d37b86",
   "metadata": {},
   "outputs": [
    {
     "name": "stdout",
     "output_type": "stream",
     "text": [
      "Blok forEach 123\n"
     ]
    }
   ],
   "source": [
    "fun main() {\n",
    "    val list = listOf(1, 2, 3, 4, 5)\n",
    "    val value = 3\n",
    "    var result = \"\"\n",
    "    \n",
    "    list.forEach {\n",
    "        result += \"$it\"\n",
    "        if (it == value) {\n",
    "            println(\"Blok forEach \" + result)\n",
    "            return\n",
    "        }\n",
    "    }\n",
    "    \n",
    "    println(\"Funckja main() \" + result)\n",
    "}\n",
    "\n",
    "main()"
   ]
  },
  {
   "cell_type": "code",
   "execution_count": 19,
   "id": "78491e99-580b-4be8-90aa-54dc0dc380b1",
   "metadata": {},
   "outputs": [
    {
     "name": "stdout",
     "output_type": "stream",
     "text": [
      "Blok forEach 123\n",
      "12345\n"
     ]
    }
   ],
   "source": [
    "fun main() {\n",
    "    val list = listOf(1, 2, 3, 4, 5)\n",
    "    val value = 3\n",
    "    var result = \"\"\n",
    "    \n",
    "    list.forEach {\n",
    "        result += \"$it\"\n",
    "        if (it == value) {\n",
    "            println(\"Blok forEach \" + result)\n",
    "            return@forEach\n",
    "        }\n",
    "    }\n",
    "    \n",
    "    println(result)\n",
    "}\n",
    "\n",
    "main()"
   ]
  },
  {
   "cell_type": "code",
   "execution_count": 20,
   "id": "010cf781-a569-465d-95c1-563162f6d082",
   "metadata": {},
   "outputs": [
    {
     "name": "stdout",
     "output_type": "stream",
     "text": [
      "true\n",
      "in main\n"
     ]
    }
   ],
   "source": [
    "fun main() {\n",
    "    println(sessions.any { session ->\n",
    "        if (session.title.contains(\"Kotlin\") && session.speaker in favoriteSpeakers)\n",
    "            return@any true\n",
    "    false\n",
    "    })\n",
    "    \n",
    "    println(\"in main\")\n",
    "}\n",
    "\n",
    "main()"
   ]
  },
  {
   "cell_type": "code",
   "execution_count": 23,
   "id": "25c09aea-725f-4fa5-9783-62dee7140dcb",
   "metadata": {},
   "outputs": [
    {
     "name": "stdout",
     "output_type": "stream",
     "text": [
      "2\n",
      "43\n",
      "2\n",
      "43\n"
     ]
    }
   ],
   "source": [
    "fun first(): (Int) -> Int {\n",
    "    val func = fun(i: Int) = i + 1\n",
    "    println(func(1))\n",
    "    return func\n",
    "}\n",
    "\n",
    "val funRef1: (Int) -> Int = first()\n",
    "\n",
    "println(funRef1(42))\n",
    "println(first()(42))"
   ]
  },
  {
   "cell_type": "code",
   "execution_count": 25,
   "id": "edc1ae9e-6958-46a0-a6d2-a5e3d0ca1c0a",
   "metadata": {},
   "outputs": [
    {
     "name": "stdout",
     "output_type": "stream",
     "text": [
      "xyz!\n",
      "xyz!\n"
     ]
    }
   ],
   "source": [
    "fun second(): (String) -> String {\n",
    "    val func2 = { s: String -> \"$s!\" }\n",
    "    return func2\n",
    "}\n",
    "\n",
    "val funRef2: (String) -> String = second()\n",
    "\n",
    "println(funRef2(\"xyz\"))\n",
    "println(second()(\"xyz\"))"
   ]
  },
  {
   "cell_type": "code",
   "execution_count": 26,
   "id": "623c6176-378e-42ca-be85-e8ba3598dc64",
   "metadata": {},
   "outputs": [
    {
     "name": "stdout",
     "output_type": "stream",
     "text": [
      "Hi!\n",
      "Hi!\n"
     ]
    }
   ],
   "source": [
    "fun third(): () -> String {\n",
    "    fun greet() = \"Hi!\"\n",
    "    return ::greet\n",
    "}\n",
    "\n",
    "val funRef3: () -> String = third()\n",
    "\n",
    "println(funRef3())\n",
    "println(third()())"
   ]
  },
  {
   "cell_type": "code",
   "execution_count": 27,
   "id": "4256d0ac-d103-4cc0-b400-38fa37301e9d",
   "metadata": {},
   "outputs": [
    {
     "name": "stdout",
     "output_type": "stream",
     "text": [
      "Hi!\n",
      "Hi!\n"
     ]
    }
   ],
   "source": [
    "fun fourth() = fun() = \"Hi!\"\n",
    "val funRef4: () -> String = fourth()\n",
    "\n",
    "println(funRef4())\n",
    "println(fourth()())"
   ]
  },
  {
   "cell_type": "code",
   "execution_count": 28,
   "id": "b76f9224-d362-4c19-82d0-d6c99f67c565",
   "metadata": {},
   "outputs": [
    {
     "name": "stdout",
     "output_type": "stream",
     "text": [
      "Hi!\n",
      "Hi!\n"
     ]
    }
   ],
   "source": [
    "fun fifth() = { \"Hi!\" }\n",
    "val funRef5: () -> String = fifth()\n",
    "\n",
    "println(funRef5())\n",
    "println(fifth()())"
   ]
  }
 ],
 "metadata": {
  "kernelspec": {
   "display_name": "Kotlin",
   "language": "kotlin",
   "name": "kotlin"
  },
  "language_info": {
   "codemirror_mode": "text/x-kotlin",
   "file_extension": ".kt",
   "mimetype": "text/x-kotlin",
   "name": "kotlin",
   "nbconvert_exporter": "",
   "pygments_lexer": "kotlin",
   "version": "1.6.20-dev-6372"
  }
 },
 "nbformat": 4,
 "nbformat_minor": 5
}
