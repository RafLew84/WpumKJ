{
 "cells": [
  {
   "cell_type": "markdown",
   "id": "b1347522-0d75-4282-99a3-b8cf8f15067a",
   "metadata": {
    "tags": []
   },
   "source": [
    "# Kotlin - Fundamenty\n",
    "\n",
    "## 1.1 Struktura kodu\n",
    "\n",
    "Ta część opisuje podstawową składnię języka Kotlin."
   ]
  },
  {
   "cell_type": "code",
   "execution_count": 1,
   "id": "667e3862-028f-461b-bb75-c871124490b9",
   "metadata": {},
   "outputs": [],
   "source": [
    "fun main ( args : Array<String>) {\n",
    "    println( \" Hello , world ! \" )\n",
    "}"
   ]
  },
  {
   "cell_type": "markdown",
   "id": "9b009236-8081-4e0e-b41b-fdd4c49e6291",
   "metadata": {},
   "source": [
    "Słowo kluczowe ``fun`` służy do zadeklarowania funkcji, ``main()`` jest miejscem wejściowym aplikacji. Aplikacja musi posiadać co najmniej jedno miejsce wejściowe. Tutaj należy również zauważyć, że funkcje można deklarować na najwyższym poziomie kodu, czyli nie jest konieczne umieszczanie ich w klasach lub pakietach tak jak w Javie. Metoda ``println()`` jest opakowaną funkcją Java, tutaj oznacza to że możemy użyć bardziej zwięzłej nazwy (zamiast ``System.out.println()``). Kolejną istotną zmianą w stosunku do Javy jest **brak średnika** na końcu wiersza. Tablice w Kotlinie są klasą, w odróżnieniu od Javy, nie ma specjalnej składni deklarowania tablic."
   ]
  },
  {
   "cell_type": "markdown",
   "id": "818b8417-930c-417d-a58a-afca6039983e",
   "metadata": {},
   "source": [
    "W Kotlinie jest trzeci typ komentarzy (poza znanymi: jednoliniowym ``//`` oraz wieloliniowym ``/* */``) Javadoc. Jest on pomocny podczas przygotowywania dokumentacji projektu. Rozpoczyna się od ``/**`` i kończy ``*/``"
   ]
  },
  {
   "cell_type": "code",
   "execution_count": 2,
   "id": "5524bd83-7a6a-4b0a-be96-da0f0c0c15d0",
   "metadata": {},
   "outputs": [],
   "source": [
    "/**\n",
    "* Application entry point\n",
    "*\n",
    "* @param args aray of command - line arguments\n",
    "* passed to this method\n",
    "*/\n",
    "fun main ( args : Array<String>) {\n",
    "    // TODO code application logic here\n",
    "}"
   ]
  },
  {
   "cell_type": "markdown",
   "id": "bdaf083f-e89e-4b10-abce-754d5903c835",
   "metadata": {},
   "source": [
    "W tym przykładzie widzimy przykład komentarza Javadoc opisującego metodę ``main()``. ``@param`` jest adnotacją (tutaj tagiem Javadoc). Kilka przykładów adnotacji:\n",
    "- ``@param`` – identyfikuje parametr metody\n",
    "- ``@author`` – identyfikuje autora kodu\n",
    "- ``@deprecated`` – identyfikuje byt w kodzie źródłowym, który nie powinien być już używany\n",
    "- ``@throws`` – dokumentuje wyjątek rzucany przez metodę"
   ]
  },
  {
   "cell_type": "markdown",
   "id": "73f1e6de-4605-4510-b524-f135f19c2678",
   "metadata": {},
   "source": [
    "## 1.2 val vs var"
   ]
  },
  {
   "cell_type": "code",
   "execution_count": 12,
   "id": "88335d98-8d95-4b14-83e1-5307f4f9d12f",
   "metadata": {},
   "outputs": [
    {
     "name": "stderr",
     "output_type": "stream",
     "text": [
      "Line_11.jupyter-kts (2:1 - 2) Val cannot be reassigned"
     ]
    }
   ],
   "source": [
    "val s = \"string\"\n",
    "s = \"inyy\"\n",
    "val i = 44\n",
    "val j: Int = 44\n",
    "val d = 7.56e4"
   ]
  },
  {
   "cell_type": "markdown",
   "id": "145bad34-dcee-43ec-a535-feb6d0aeddfb",
   "metadata": {
    "tags": []
   },
   "source": [
    "Gdy identyfikator przechowuje dane, musisz zdecydować, czy można je ponownie przypisać.\n",
    "- `var` - *variable* oznacza że moża ponownie przypisać jej wartość\n",
    "- `val` - *value* może zostać tylko zainicjowana, nie można ponownie przypisać jej innej wartośći\n",
    "W trzeciej linii typ wpisany jest jawnie. Podobnie jak w argumentach funkcji i typie zwracanej wartości funkcji, typ zmiennej jest określany po następującym po nazwie dwukropku. Jeżeli tego nie zrobimy, kompilator przeanalizuje wyrażenie inicjujące zmienną i za typ zmiennej przyjmie typ wyrażenia. Jeżeli zainicjujemy zmienną wartością zmiennoprzecinkową, za typ zostanie przyjęty `Double`. Jeżeli nie inicjuje się zmiennej, jej typ należy określić jawnie. `val` jest *niemutowalny*, natomiast `var` oznacza zmienną *mutowalną*. Więc zmienna `val` może zostać zainicjowana tylko raz w bloku kodu w którym się znajduje."
   ]
  },
  {
   "cell_type": "code",
   "execution_count": 28,
   "id": "5d409a02-2bfe-4bb9-8f73-13afd4eea0d1",
   "metadata": {},
   "outputs": [
    {
     "name": "stderr",
     "output_type": "stream",
     "text": [
      "Line_27.jupyter-kts (2:1 - 6) Val cannot be reassigned"
     ]
    }
   ],
   "source": [
    "val napis: String = \"napis\"\n",
    "napis = \"inny napis\"\n",
    "\n",
    "println(napis)"
   ]
  },
  {
   "cell_type": "markdown",
   "id": "cd301eeb-2e39-4828-b0f4-2b1024e9cb14",
   "metadata": {},
   "source": [
    "Poniższy kod wygeneruje błąd."
   ]
  },
  {
   "cell_type": "code",
   "execution_count": 27,
   "id": "95968516-7373-4300-a189-aa870e14cad2",
   "metadata": {},
   "outputs": [
    {
     "name": "stderr",
     "output_type": "stream",
     "text": [
      "Line_26.jupyter-kts (3:5 - 6) Captured member values initialization is forbidden due to possible reassignment"
     ]
    }
   ],
   "source": [
    "val a: Int\n",
    "if(true) {\n",
    "    a = 5\n",
    "}\n",
    "else {\n",
    "    a = 6\n",
    "}"
   ]
  },
  {
   "cell_type": "markdown",
   "id": "b81bec56-42e3-42fa-8ede-7cad29322928",
   "metadata": {},
   "source": [
    "Zmienna ``val`` jest niemutowalna, jednak obiekt na który ona wskazuje może być mutowalny, przykładowo"
   ]
  },
  {
   "cell_type": "code",
   "execution_count": 2,
   "id": "608e3c56-8c45-4dc7-a480-90f2dfcef90e",
   "metadata": {},
   "outputs": [
    {
     "name": "stdout",
     "output_type": "stream",
     "text": [
      "[WpumKJ, Programming]\n",
      "[lista]\n",
      "[trzeci]\n",
      "[WpumKJ, Programming]\n"
     ]
    }
   ],
   "source": [
    "val lectures = arrayListOf(\"PUM\")\n",
    "lectures.add(\"Programming\")\n",
    "lectures[0] = \"WpumKJ\"\n",
    "println(lectures)\n",
    "\n",
    "val second = arrayListOf(\"lista\")\n",
    "println(second)\n",
    "\n",
    "// second = first\n",
    "\n",
    "var third = arrayListOf(\"trzeci\")\n",
    "println(third)\n",
    "third = lectures\n",
    "println(third)"
   ]
  },
  {
   "cell_type": "markdown",
   "id": "ddcb7fd8-bdd3-4dbd-9358-6f0f056de119",
   "metadata": {},
   "source": [
    "W powyższym przykładzie stała ``lectures`` jest niemutowalna, jednak obiekt na który wskazuje jest mutowalny, więc możemy wykonać operację dodania elementu."
   ]
  },
  {
   "cell_type": "markdown",
   "id": "04ba6748-c093-440d-b5d2-571600bceb2d",
   "metadata": {},
   "source": [
    "Słowo kluczowe ``var`` oznacza zmienną mutowalną, jednak nie oznacza to że można zmienić typ zmiennej, przykładowo"
   ]
  },
  {
   "cell_type": "code",
   "execution_count": 32,
   "id": "b08a4903-41d8-40f2-84e2-d38fb347f98c",
   "metadata": {},
   "outputs": [
    {
     "name": "stderr",
     "output_type": "stream",
     "text": [
      "Line_31.jupyter-kts (3:10 - 17) Type mismatch: inferred type is String but Int was expected"
     ]
    }
   ],
   "source": [
    "var liczba = 33\n",
    "liczba = 11 // ok\n",
    "liczba = \"napis\" // error"
   ]
  },
  {
   "cell_type": "markdown",
   "id": "b17f731e-0d5d-4020-82f5-5ed1aff01543",
   "metadata": {},
   "source": [
    "Powyższy przykład wygeneruje błąd, ponieważ domniemanie typu odbywa się tylko podczas jej inicjowania"
   ]
  },
  {
   "cell_type": "markdown",
   "id": "dfd8caaf-f1ce-47db-889f-823becbac394",
   "metadata": {},
   "source": [
    "## 1.3 Typy danych\n",
    "\n",
    "Kotlin jest językiem o silnej typizacji, czyli każda zmienna, wyrażenie itp. posiada typ znany kompilatorowi. To sprawia że kompilator jest w stanie wykryć błędy związane z typami na poziomie kompilacji. W Kotlinie każdy typ jest klasą (przykładowo ``Int``) - zauważmy że nazwy typów zaczynają się od wielkiej litery."
   ]
  },
  {
   "cell_type": "code",
   "execution_count": 34,
   "id": "accf6568-3ebc-4853-a146-165b6c785400",
   "metadata": {},
   "outputs": [
    {
     "name": "stdout",
     "output_type": "stream",
     "text": [
      "Integer Minimum Value = -2147483648\n",
      "Integer Maximum Value = 2147483647\n",
      "Byte Minimum Value = -128\n",
      "Byte Maximum Value = 127\n",
      "Short Minimum Value = -32768\n",
      "Short Maximum Value = 32767\n",
      "Long Minimum Value = -9223372036854775808\n",
      "Long Maximum Value = 9223372036854775807\n",
      "Float minimum value = 1.4E-45\n",
      "Float maximum value = 3.4028235E38\n",
      "Double minimum value = 4.9E-324\n",
      "Double maximum value = 1.7976931348623157E308\n",
      "D\n",
      "D\n",
      "©\n"
     ]
    }
   ],
   "source": [
    "val myMinIntValue = Integer.MIN_VALUE;\n",
    "val myMaxIntValue = Integer.MAX_VALUE;\n",
    "println(\"Integer Minimum Value = \" + myMinIntValue);\n",
    "println(\"Integer Maximum Value = \" + myMaxIntValue);\n",
    "\n",
    "val myMinByteValue = Byte.MIN_VALUE;\n",
    "val myMaxByteValue = Byte.MAX_VALUE;\n",
    "println(\"Byte Minimum Value = \" + myMinByteValue);\n",
    "println(\"Byte Maximum Value = \" + myMaxByteValue);\n",
    "\n",
    "val myMinShortValue = Short.MIN_VALUE;\n",
    "val myMaxShortValue = Short.MAX_VALUE;\n",
    "println(\"Short Minimum Value = \" + myMinShortValue);\n",
    "println(\"Short Maximum Value = \" + myMaxShortValue);\n",
    "        \n",
    "val myMinLongValue = Long.MIN_VALUE;\n",
    "val myMaxLongValue = Long.MAX_VALUE;\n",
    "println(\"Long Minimum Value = \" + myMinLongValue);\n",
    "println(\"Long Maximum Value = \" + myMaxLongValue);\n",
    "\n",
    "val myMinFloatValue = Float.MIN_VALUE;\n",
    "val myMaxFloatValue = Float.MAX_VALUE;\n",
    "println(\"Float minimum value = \" + myMinFloatValue);\n",
    "println(\"Float maximum value = \" + myMaxFloatValue);\n",
    "\n",
    "val myMinDoubleValue = Double.MIN_VALUE;\n",
    "val myMaxDoubleValue = Double.MAX_VALUE;\n",
    "println(\"Double minimum value = \" + myMinDoubleValue);\n",
    "println(\"Double maximum value = \" + myMaxDoubleValue);\n",
    "\n",
    "val myChar = 'D';\n",
    "val myUnicodeChar = '\\u0044';\n",
    "println(myChar);\n",
    "println(myUnicodeChar);\n",
    "\n",
    "val myCopyrightChar = '\\u00A9';\n",
    "println(myCopyrightChar);\n",
    "\n",
    "val myTrueBooleanValue = true;\n",
    "val myFalseBooleanValue = false;"
   ]
  },
  {
   "cell_type": "markdown",
   "id": "d7bf792c-30c4-40c7-a867-8c791f01006a",
   "metadata": {},
   "source": [
    "Rzutowanie w Kotlinie wykonujemy wywołując w tym celu odpowiednią metodę"
   ]
  },
  {
   "cell_type": "code",
   "execution_count": 36,
   "id": "27d01041-d545-450e-b0ea-4f76251b4bd6",
   "metadata": {},
   "outputs": [
    {
     "name": "stdout",
     "output_type": "stream",
     "text": [
      "50\n"
     ]
    }
   ],
   "source": [
    "val num = 100\n",
    "var secondNum : Byte = 0\n",
    "secondNum = ((num / 2 ).toByte())\n",
    "println(secondNum)"
   ]
  },
  {
   "cell_type": "markdown",
   "id": "cab8325a-86bb-4dcd-a678-b951147d2c35",
   "metadata": {},
   "source": [
    "## 1.4 Instrukcje warunkowe i pętle\n",
    "\n",
    "### Instrukcja warunkowa ``if``\n",
    "\n",
    "W Javie struktury sterujące są instrukcjami, oznacza to że są elementami kodu i nie posiadają wartości. Istotną różnicą między Kotlinem a Javą jest operator przypisania - w Javie jest on wyrażeniem, w Kotlinie - instrukcją."
   ]
  },
  {
   "cell_type": "code",
   "execution_count": 49,
   "id": "02f3e4df-d06d-4d6c-9985-64832ab0a150",
   "metadata": {},
   "outputs": [
    {
     "name": "stdout",
     "output_type": "stream",
     "text": [
      "50\n",
      "The result of the if expression is 50\n"
     ]
    }
   ],
   "source": [
    "var num: Int = 0\n",
    "val someCondition = 20 < 22\n",
    "if (someCondition) {\n",
    "    num = 50\n",
    "}\n",
    "else {\n",
    "    num = 592\n",
    "}\n",
    "\n",
    "val num2 = if (someCondition) 50 else 592\n",
    "println(num2)\n",
    "\n",
    "println(\"The result of the if expression is ${num2}\")"
   ]
  },
  {
   "cell_type": "markdown",
   "id": "0d8e6b77-2dcd-4812-8a23-ca11b2599440",
   "metadata": {},
   "source": [
    "### Wyrażenie ``when``\n",
    "\n",
    "W Kotlinie instrukcję ``switch`` zastąpiło wyrażenie ``when``"
   ]
  },
  {
   "cell_type": "code",
   "execution_count": 60,
   "id": "90eafdd9-938b-46b3-b267-6eb18c6a0835",
   "metadata": {},
   "outputs": [
    {
     "name": "stdout",
     "output_type": "stream",
     "text": [
      "x == 0 or x == 1\n",
      "element 0\n"
     ]
    }
   ],
   "source": [
    "fun element(i: Int) = when {\n",
    "    i == 0 -> \"element 0\"\n",
    "    i == 3 -> \"element 3\"\n",
    "    i == 5 -> \"element 5\"\n",
    "    else -> \"$i \"\n",
    "}\n",
    "\n",
    "val x = 0\n",
    "when (x) {\n",
    "    0, 1 -> println(\"x == 0 or x == 1\")\n",
    "    else -> println(\"otherwise\")\n",
    "}\n",
    "\n",
    "println(element(0))"
   ]
  },
  {
   "cell_type": "markdown",
   "id": "5a3d2d6c-4e62-4853-bed8-0324cc0b7529",
   "metadata": {},
   "source": [
    "### Pętla ``for`` i zakresy"
   ]
  },
  {
   "cell_type": "code",
   "execution_count": 57,
   "id": "dfbbebcb-1da7-4a87-a79c-929e86ca46d7",
   "metadata": {},
   "outputs": [
    {
     "name": "stdout",
     "output_type": "stream",
     "text": [
      "Digit\n",
      "Letter\n",
      "true\n",
      "false\n"
     ]
    }
   ],
   "source": [
    "fun isLetter(c: Char) = c in 'a'..'z' || c in 'A'..'Z'\n",
    "fun isNonDigit(c: Char) = c !in '0'..'9'\n",
    "\n",
    "fun recognize(c: Char) = when (c){\n",
    "    in '0'..'9' -> \"Digit\"\n",
    "    in 'a'..'z', in 'A'..'Z' -> \"Letter\"\n",
    "    else -> \"Different\"\n",
    "}\n",
    "\n",
    "println(recognize('3'))\n",
    "println(recognize('A'))\n",
    "println(isLetter('c'))\n",
    "println(isNonDigit('4'))"
   ]
  },
  {
   "cell_type": "code",
   "execution_count": 61,
   "id": "22585b9d-b939-42a1-8513-f3beb2856389",
   "metadata": {},
   "outputs": [
    {
     "name": "stdout",
     "output_type": "stream",
     "text": [
      "1\n",
      "2\n",
      "3\n",
      "6\n",
      "4\n",
      "2\n",
      "0\n"
     ]
    }
   ],
   "source": [
    "for (i in 1..3) {\n",
    "    println(i)\n",
    "}\n",
    "for (i in 6 downTo 0 step 2) {\n",
    "    println(i)\n",
    "}"
   ]
  },
  {
   "cell_type": "markdown",
   "id": "ec9fe0bc-d917-4d01-adb2-856cb2d4a8cc",
   "metadata": {},
   "source": [
    "Pętla ``for`` iteruje przez wszystkie kolekcje posiadające ``iterator``. Pętla ``or`` przechodziąca przez wszystkie elementy tablicy lub uporządkowanej kolekcji posiadającej ``index`` można to wykonać na dwa sposoby"
   ]
  },
  {
   "cell_type": "code",
   "execution_count": 1,
   "id": "76f8ba0f-3bed-4164-934b-268cc43268d9",
   "metadata": {},
   "outputs": [
    {
     "name": "stdout",
     "output_type": "stream",
     "text": [
      "a\n",
      "b\n",
      "c\n",
      "the element at 0 is a\n",
      "the element at 1 is b\n",
      "the element at 2 is c\n",
      "a\n",
      "b\n",
      "c\n"
     ]
    }
   ],
   "source": [
    "val array = arrayOf(\"a\", \"b\", \"c\")\n",
    "for (i in array.indices) {\n",
    "    println(array[i])\n",
    "}\n",
    "\n",
    "for ((index, value) in array.withIndex()) {\n",
    "    println(\"the element at $index is $value\")\n",
    "}\n",
    "\n",
    "for (i in array){\n",
    "    println(i)\n",
    "}"
   ]
  },
  {
   "cell_type": "markdown",
   "id": "effc25ab-7d63-4b97-811d-ade3a47b2ad4",
   "metadata": {},
   "source": [
    "### Pętla ``while`` i ``do while``"
   ]
  },
  {
   "cell_type": "code",
   "execution_count": 64,
   "id": "adcd3f7a-1bed-4c27-9b6c-50735977b40b",
   "metadata": {},
   "outputs": [
    {
     "name": "stdout",
     "output_type": "stream",
     "text": [
      "10\n",
      "9\n",
      "8\n",
      "7\n",
      "6\n",
      "5\n",
      "4\n",
      "3\n",
      "2\n",
      "1\n",
      "0\n",
      "1\n",
      "2\n",
      "3\n",
      "4\n",
      "5\n",
      "6\n",
      "7\n",
      "8\n",
      "9\n",
      "10\n"
     ]
    }
   ],
   "source": [
    "var x = 10\n",
    "\n",
    "while (x > 0) {\n",
    "    println(x)\n",
    "    x--\n",
    "}\n",
    "\n",
    "do {\n",
    "    println(x)\n",
    "    x++\n",
    "} while (x < 11)"
   ]
  },
  {
   "cell_type": "markdown",
   "id": "cceb74c6-59be-470d-b889-bad74f025706",
   "metadata": {},
   "source": [
    "## 1.5 Tablice - podstawy"
   ]
  },
  {
   "cell_type": "markdown",
   "id": "8066d240-32dc-46d1-8db8-8cbf0c489f84",
   "metadata": {},
   "source": [
    "Tablica jest typem zmiennej obiektowe służącej jako kontener dla danych zgrupowanych pod wspólną nazwą. \n",
    "poniżej kilka właściwości/cech tablic w ``Kotlinie``:\n",
    "- tablice są alokowane dynamicznie\n",
    "- tablice są typami obiektowymi\n",
    "- indeksy w tablicy rozpoczynają się od zera\n",
    "- rozmiar tablicy musi być określony przez ``int``\n",
    "- dziedziczy po klasie ``Any``\n",
    "\n",
    "Deklarując tablicę zostaje ona wypełniona wartościami domyślnymi (``0`` dla tablicy typu ``Int``)"
   ]
  },
  {
   "cell_type": "code",
   "execution_count": 3,
   "id": "0c62231d-e58b-4539-8611-5787824198c9",
   "metadata": {},
   "outputs": [
    {
     "name": "stdout",
     "output_type": "stream",
     "text": [
      "0\n",
      "0\n",
      "0\n",
      "0\n",
      "0\n"
     ]
    }
   ],
   "source": [
    "val arr = IntArray(5)\n",
    "for(i in arr)\n",
    "    println(i)"
   ]
  },
  {
   "cell_type": "markdown",
   "id": "31a5d7b2-9ddf-498a-af91-8c8540591fea",
   "metadata": {},
   "source": [
    "Wartość domyślną można zdefiniować przy deklaracji tablicy"
   ]
  },
  {
   "cell_type": "code",
   "execution_count": 4,
   "id": "c827653a-74f7-49ff-a691-ffd82b67a702",
   "metadata": {},
   "outputs": [
    {
     "name": "stdout",
     "output_type": "stream",
     "text": [
      "11\n",
      "11\n",
      "11\n",
      "11\n",
      "11\n"
     ]
    }
   ],
   "source": [
    "val arr = IntArray(5){11}\n",
    "for(i in arr)\n",
    "    println(i)"
   ]
  },
  {
   "cell_type": "markdown",
   "id": "3ae8507e-f8c2-4b8b-98b8-21141dcaf804",
   "metadata": {},
   "source": [
    "## 1.6 Metody i funkcje\n",
    "\n",
    "Podstawowa składnia metod w Kotlinie wygląda następująco\n",
    "`fun name (parameter_list): return_type {\n",
    "// statements to execute\n",
    "}`\n",
    "czyli zaczynamy od słowa kluczowego `fun` następnie podajemy nazwę metody, w nawiasie listę argumentów, na końcu po dwukropku podajemy typ zwracany przez funkcję"
   ]
  },
  {
   "cell_type": "code",
   "execution_count": 6,
   "id": "e06824de-f592-43d9-99da-0d277eac0fd9",
   "metadata": {},
   "outputs": [
    {
     "name": "stdout",
     "output_type": "stream",
     "text": [
      "4\n"
     ]
    }
   ],
   "source": [
    "fun double(x: Int): Int {\n",
    "    return 2 * x\n",
    "}\n",
    "\n",
    "val result = double(2)\n",
    "println(result)"
   ]
  },
  {
   "cell_type": "markdown",
   "id": "97b4218d-266a-4876-bd4f-cce8dbdb86c0",
   "metadata": {},
   "source": [
    "W Kotlinie funkcje mogą posiadać ciało blokowe lub ciało wyrażeniowe, rozpocznijmy od napisania funkcjji `max`, zwracającej większą z dwóch liczb, posiadającą ciało blokowe"
   ]
  },
  {
   "cell_type": "code",
   "execution_count": 5,
   "id": "aa4693f1-1c8c-4750-942a-8b1ad9ad26b1",
   "metadata": {},
   "outputs": [
    {
     "data": {
      "text/plain": [
       "4"
      ]
     },
     "execution_count": 5,
     "metadata": {},
     "output_type": "execute_result"
    }
   ],
   "source": [
    "fun max(a: Int, b: Int): Int{\n",
    "    return if(a > b) a else b\n",
    "}\n",
    "\n",
    "max(2, 4)"
   ]
  },
  {
   "cell_type": "markdown",
   "id": "bb01a513-3a08-4c76-a316-cfb96895e021",
   "metadata": {},
   "source": [
    "Tuutaj warto zwrócić uwagę na zastosowanie wyrażenia `if else`, które jest podobne do operatora elvisa znaneego z Javy.\n",
    "\n",
    "Napiszmy teraz tą samą funkcję z ciałem wyrażeniowym"
   ]
  },
  {
   "cell_type": "code",
   "execution_count": 2,
   "id": "db9f8d15-2a3b-4b66-986d-aac67cd8787c",
   "metadata": {},
   "outputs": [
    {
     "data": {
      "text/plain": [
       "4"
      ]
     },
     "execution_count": 2,
     "metadata": {},
     "output_type": "execute_result"
    }
   ],
   "source": [
    "fun max2(a: Int, b: Int): Int = if (a > b) a else b\n",
    "max2(2, 4)"
   ]
  },
  {
   "cell_type": "markdown",
   "id": "83221023-a985-4e6b-af76-f18cf5c39850",
   "metadata": {},
   "source": [
    "Funkcję tą można uprościć poprzez pominięcie typu zwracanego (tylko w funkcji z ciałem wyrażeniowym), można tak zrobić, ponieważ kompilator jako tyyp wyniku przyjmie typ wyrażenia"
   ]
  },
  {
   "cell_type": "code",
   "execution_count": 3,
   "id": "e0a2ae72-e596-4804-9a44-b82d456f9078",
   "metadata": {},
   "outputs": [
    {
     "data": {
      "text/plain": [
       "4"
      ]
     },
     "execution_count": 3,
     "metadata": {},
     "output_type": "execute_result"
    }
   ],
   "source": [
    "fun max3(a: Int, b: Int) = if (a > b) a else b\n",
    "max2(2, 4)"
   ]
  },
  {
   "cell_type": "markdown",
   "id": "401064dd-2565-424c-80f5-1dab2a468b05",
   "metadata": {},
   "source": [
    "# Lista 1\n",
    "\n",
    "## Zad 1 - **2 pkt**\n",
    "\n",
    "Wypisz wszystkie liczby od 1 do 100, jednak jeżeli liczba jest podzielna przez:\n",
    "- 3 - wypisz \"trzy\"\n",
    "- 5 - wypisz \"piec\"\n",
    "- 3 i 5 - wypisz \"trzypiec\"\n",
    "\n",
    "`\n",
    "1\n",
    "2\n",
    "trzy\n",
    "4\n",
    "piec\n",
    "trzy\n",
    "7\n",
    "8\n",
    "trzy\n",
    "piec\n",
    "11\n",
    "trzy\n",
    "13\n",
    "14\n",
    "trzypiec\n",
    "`"
   ]
  },
  {
   "cell_type": "markdown",
   "id": "ea34011a-85ee-454a-9f94-921468f71860",
   "metadata": {
    "jp-MarkdownHeadingCollapsed": true,
    "tags": []
   },
   "source": [
    "## Zad 2 - **2 pkt**\n",
    "\n",
    "Rozszerz Zad 1 o liczbę 7.\n",
    "Jeżeli liczba jest podzielna przez:\n",
    "- 7 - wypisz \"siedem\"\n",
    "- 3 i 7 - wypisz \"trzysiedem\"\n",
    "- 5 i 7 - wypisz \"piecsiedem\"\n",
    "- 3, 5 i 7 - wypisz \"trzypiecsiedem\""
   ]
  },
  {
   "cell_type": "markdown",
   "id": "06018ae9-988d-405a-8eb5-77d96b3b961b",
   "metadata": {},
   "source": [
    "## Zad 3 - **2 pkt**\n",
    "\n",
    "Rozszerz Zad 2 o liczby 11 i 13.\n",
    "Jeżeli liczba jest podzielna przez:\n",
    "- 11 - wypisz \"jedenascie\"\n",
    "- 3 i 11 - wypisz \"trzyjedenascie\"\n",
    "- 3, 5, 7 i 11 - wypisz \"trzypiecsiedemjedenascie\"\n",
    "- itd..."
   ]
  },
  {
   "cell_type": "markdown",
   "id": "22220904-6944-4518-b0e2-be72c7d04b90",
   "metadata": {},
   "source": [
    "## Zad 4 - **4 pkt**\n",
    "\n",
    "Napisz funkcję `missingNumber`, która jako argument przyjmuje tablicę `N` liczb naturalnych. W tablicy wszystkie elementy są unikalne. Tablica ma długość `N`. W tablicy brakuje jednego elementu z zakresu. Funkcja missingNumber powinna zwrócić brakujący element:\n"
   ]
  },
  {
   "cell_type": "code",
   "execution_count": null,
   "id": "0cc56909-f092-4678-a62d-c9450d796c87",
   "metadata": {},
   "outputs": [],
   "source": [
    "val tab: intArray = intArrayOf(2, 4, 5, 3, 0, 6) // N = 6\n",
    "println(missingNumber(tab))"
   ]
  },
  {
   "cell_type": "markdown",
   "id": "0ed9a484-9073-46f2-9301-afaf565aa258",
   "metadata": {},
   "source": [
    "``1``"
   ]
  },
  {
   "cell_type": "code",
   "execution_count": null,
   "id": "52fe2812-fdf1-4fea-b43f-4a684122f9b7",
   "metadata": {},
   "outputs": [],
   "source": [
    "val tab: intArray = intArrayOf(0, 1, 2, 3) // N = 4\n",
    "println(missingNumber(tab))"
   ]
  },
  {
   "cell_type": "markdown",
   "id": "73955a11-22ae-4684-98d8-1f0c7fd27638",
   "metadata": {},
   "source": [
    "``4``"
   ]
  },
  {
   "cell_type": "markdown",
   "id": "c60b89de-fc38-4a03-964a-6c76a1c6ab67",
   "metadata": {},
   "source": [
    "### Oceny\n",
    "\n",
    "|**ocena**|**punkty**|\n",
    "|:---:|:---:|\n",
    "|3,0 | 6 pkt|\n",
    "|3,5 | 7 pkt|\n",
    "|4,0 | 8 pkt|\n",
    "|4,5 | 9 pkt|\n",
    "|5,0 | 10 pkt|"
   ]
  }
 ],
 "metadata": {
  "kernelspec": {
   "display_name": "Kotlin",
   "language": "kotlin",
   "name": "kotlin"
  },
  "language_info": {
   "codemirror_mode": "text/x-kotlin",
   "file_extension": ".kt",
   "mimetype": "text/x-kotlin",
   "name": "kotlin",
   "nbconvert_exporter": "",
   "pygments_lexer": "kotlin",
   "version": "1.6.20-dev-6372"
  }
 },
 "nbformat": 4,
 "nbformat_minor": 5
}
