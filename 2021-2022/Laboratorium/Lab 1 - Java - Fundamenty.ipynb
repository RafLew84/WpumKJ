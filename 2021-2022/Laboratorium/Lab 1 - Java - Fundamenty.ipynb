{
 "cells": [
  {
   "cell_type": "markdown",
   "id": "15074daa-515c-4e7a-ad3d-cc79df23b6ea",
   "metadata": {},
   "source": [
    "# 1. Java - Fundamenty\n",
    "\n",
    "## 1.1 Struktura kodu\n",
    "\n",
    "Ta część opisuje składnię i podstawowe elementy języka Java."
   ]
  },
  {
   "cell_type": "code",
   "execution_count": 7,
   "id": "c3c5f6e9-cee1-4227-881b-d2e10490f57c",
   "metadata": {},
   "outputs": [
    {
     "ename": "CompilationException",
     "evalue": "",
     "output_type": "error",
     "traceback": [
      "\u001b[1m\u001b[30m|   \u001b[1m\u001b[30m\u001b[0m\u001b[1m\u001b[30m\u001b[41m\u001b[0m\u001b[1m\u001b[30mpackage pl.uwr.edu.pum\u001b[0m",
      "\u001b[1m\u001b[31millegal start of expression\u001b[0m",
      ""
     ]
    }
   ],
   "source": [
    "package pl.uwr.edu.pum\n",
    "\n",
    "public class JavaHelloPUM {\n",
    "    public static void main ( String ... args ) {}\n",
    "}"
   ]
  },
  {
   "cell_type": "markdown",
   "id": "95a3994b-71a0-42e8-90d8-4b7f70dbd084",
   "metadata": {},
   "source": [
    "Ponieważ Java działa w paradygmacie obiektowym (jedna klasa, interfejs – jeden plik) najczęściej mamy do czynienia z dużą ilością plików. Pakiet grupuje powiązane typy (klasy, interfejsy, typy wyliczeniowe itp.), ułatwia zarządzanie przestrzenią nazw i bezpieczeństwem/hermetyzacją. Biblioteki są podzielone na pakiety, w celu użycia klasy z innego pakietu należy ją zaimportować. Przyjętą konwencją jest nazywanie pakietów przy pomocy odwrotnej nazwy domeny (w naszym przypadku będzie to ``pl.edu.uwr`` i dla oznaczenia przedmiotu ``.pum``) małymi literami. Od wielkiej litery zaczynamy nazwy klas, interfejsów itd. Rozbijmy tę linię kodu na części pierwsze:"
   ]
  },
  {
   "cell_type": "markdown",
   "id": "ed83e52d-30ee-4da9-bc43-a4f59b1c3a2b",
   "metadata": {},
   "source": [
    "- ``package`` – to słowo kluczowe podobnie jak class czy if; informuje kompilator o tym w którym pakiecie znajduje się plik,\n",
    "- ``pl.uwr.edu.pum`` – właściwa nazwa pakietu. Dla uproszczenia możemy powiedzieć, że dozwolone są małe litery oraz znak kropki. Nazwa najczęściej jest odwrotną nazwą domeny."
   ]
  },
  {
   "cell_type": "markdown",
   "id": "4fed1060-6541-412d-b76e-de80708f273f",
   "metadata": {},
   "source": [
    "Metoda ``main()`` jest wywoływana z tablicą stringów args, które identyfikują argumenty wiersza poleceń. ``System`` określa standardową klasę narzędzi systemowych. ``out`` jest instancją klasy ``PrintStream`` która jest publiczną, statyczną zmienną klasy ``System``. Wszystkie instancje klasy ``PrintStream`` posiadają metodę ``println()``. Drukuje ona każdy argument przekazany do niej i przechodzi do nowej linii."
   ]
  },
  {
   "cell_type": "markdown",
   "id": "73efc41c-03a7-489d-8ed9-ae0bbec33e5f",
   "metadata": {},
   "source": [
    "W Javie jest trzeci typ komentarzy (poza znanymi: jednoliniowym ``//`` oraz wieloliniowym ``/* */``) Javadoc. Jest on pomocny podczas przygotowywania dokumentacji projektu. Rozpoczyna się od ``/**`` i kończy ``*/``."
   ]
  },
  {
   "cell_type": "code",
   "execution_count": 11,
   "id": "93a2185b-3281-4636-87f7-a1386f5368d4",
   "metadata": {},
   "outputs": [],
   "source": [
    "/**\n",
    "* Application entry point\n",
    "*\n",
    "* @param args aray of command - line arguments\n",
    "* passed to this method\n",
    "*/\n",
    "public static void main ( String [] args ) {\n",
    "    // TODO code application logic here\n",
    "}"
   ]
  },
  {
   "cell_type": "markdown",
   "id": "afd67d3d-87c7-468b-be6b-ad605e115bf6",
   "metadata": {},
   "source": [
    "W tym przykładzie widzimy przykład komentarza Javadoc opisującego metodę ``main()``. ``@param`` jest adnotacją (tutaj tagiem Javadoc). Kilka przykładów adnotacji:\n",
    "- ``@param`` – identyfikuje parametr metody\n",
    "- ``@author`` – identyfikuje autora kodu\n",
    "- ``@deprecated`` – identyfikuje byt w kodzie źródłowym, który nie powinien być już używany\n",
    "- ``@throws`` – dokumentuje wyjątek rzucany przez metodę"
   ]
  },
  {
   "cell_type": "markdown",
   "id": "c8d76948-e0d7-4ed2-88b6-6c74b5fa69e8",
   "metadata": {},
   "source": [
    "## 1.2 Typy danych\n",
    "\n",
    "Java jest językiem o silnej typizacji, czyli każda zmienna, wyrażenie itp. posiada typ znany kompilatorowi. To sprawia że kompilator jest w stanie wykryć błędy związane z typami na poziomie kompilacji. Java posiada typy prymitywne, definiowane przez użytkownika i zmienne tablicowe."
   ]
  },
  {
   "cell_type": "code",
   "execution_count": 13,
   "id": "e08e1d6e-49c1-4513-85ce-f32dbc4dae83",
   "metadata": {},
   "outputs": [
    {
     "name": "stdout",
     "output_type": "stream",
     "text": [
      "Integer Minimum Value = -2147483648\n",
      "Integer Maximum Value = 2147483647\n",
      "Byte Minimum Value = -128\n",
      "Byte Maximum Value = 127\n",
      "Short Minimum Value = -32768\n",
      "Short Maximum Value = 32767\n",
      "Long Minimum Value = -9223372036854775808\n",
      "Long Maximum Value = 9223372036854775807\n",
      "Float minimum value = 1.4E-45\n",
      "Float maximum value = 3.4028235E38\n",
      "Double minimum value = 4.9E-324\n",
      "Double maximum value = 1.7976931348623157E308\n",
      "D\n",
      "D\n",
      "©\n"
     ]
    }
   ],
   "source": [
    "int myMinIntValue = Integer.MIN_VALUE;\n",
    "int myMaxIntValue = Integer.MAX_VALUE;\n",
    "System.out.println(\"Integer Minimum Value = \" + myMinIntValue);\n",
    "System.out.println(\"Integer Maximum Value = \" + myMaxIntValue);\n",
    "\n",
    "byte myMinByteValue = Byte.MIN_VALUE;\n",
    "byte myMaxByteValue = Byte.MAX_VALUE;\n",
    "System.out.println(\"Byte Minimum Value = \" + myMinByteValue);\n",
    "System.out.println(\"Byte Maximum Value = \" + myMaxByteValue);\n",
    "\n",
    "short myMinShortValue = Short.MIN_VALUE;\n",
    "short myMaxShortValue = Short.MAX_VALUE;\n",
    "System.out.println(\"Short Minimum Value = \" + myMinShortValue);\n",
    "System.out.println(\"Short Maximum Value = \" + myMaxShortValue);\n",
    "        \n",
    "long myMinLongValue = Long.MIN_VALUE;\n",
    "long myMaxLongValue = Long.MAX_VALUE;\n",
    "System.out.println(\"Long Minimum Value = \" + myMinLongValue);\n",
    "System.out.println(\"Long Maximum Value = \" + myMaxLongValue);\n",
    "\n",
    "float myMinFloatValue = Float.MIN_VALUE;\n",
    "float myMaxFloatValue = Float.MAX_VALUE;\n",
    "System.out.println(\"Float minimum value = \" + myMinFloatValue);\n",
    "System.out.println(\"Float maximum value = \" + myMaxFloatValue);\n",
    "\n",
    "double myMinDoubleValue = Double.MIN_VALUE;\n",
    "double myMaxDoubleValue = Double.MAX_VALUE;\n",
    "System.out.println(\"Double minimum value = \" + myMinDoubleValue);\n",
    "System.out.println(\"Double maximum value = \" + myMaxDoubleValue);\n",
    "\n",
    "char myChar = 'D';\n",
    "char myUnicodeChar = '\\u0044';\n",
    "System.out.println(myChar);\n",
    "System.out.println(myUnicodeChar);\n",
    "\n",
    "char myCopyrightChar = '\\u00A9';\n",
    "System.out.println(myCopyrightChar);\n",
    "\n",
    "boolean myTrueBooleanValue = true;\n",
    "boolean myFalseBooleanValue = false;"
   ]
  },
  {
   "cell_type": "markdown",
   "id": "a01cd170-0cbd-46b9-b291-338e1447cca9",
   "metadata": {},
   "source": [
    "Rzutowanie można przeprowadzić podając docelowy typ w nawiasie przed typem rzutowanym"
   ]
  },
  {
   "cell_type": "code",
   "execution_count": 18,
   "id": "f4a26e41-8350-431d-8dc9-a7785145bf33",
   "metadata": {},
   "outputs": [
    {
     "name": "stdout",
     "output_type": "stream",
     "text": [
      "100\n"
     ]
    }
   ],
   "source": [
    "int num = 100;\n",
    "byte secondNum = 0;\n",
    "secondNum = (byte) num;\n",
    "System.out.println(secondNum);"
   ]
  },
  {
   "cell_type": "markdown",
   "id": "bba0042d-ae64-45cf-b140-c99e8cd974ed",
   "metadata": {
    "tags": []
   },
   "source": [
    "## 1.3 Instrukcje warunkowe i pętle\n",
    "\n",
    "Instrukcje warunkowe i pętle w Javie są niemal identyczne jak w ``C/C++``, pewną nowość może stanowić tutaj pętla foreach, przykłady poniżej\n",
    "\n",
    "### Instrukcja warunkowa ``if``"
   ]
  },
  {
   "cell_type": "code",
   "execution_count": 22,
   "id": "675405d4-dcf9-42fa-99ac-d7a2233cdc4d",
   "metadata": {},
   "outputs": [
    {
     "name": "stdout",
     "output_type": "stream",
     "text": [
      "PUM\n"
     ]
    }
   ],
   "source": [
    "boolean b = true;\n",
    "if ( !b )\n",
    "    System.out.println(\"Hello\");\n",
    "else\n",
    "    System.out.println(\"PUM\");"
   ]
  },
  {
   "cell_type": "code",
   "execution_count": 24,
   "id": "1b825ee1-904f-4b06-88c2-35a527f2ddcd",
   "metadata": {},
   "outputs": [
    {
     "name": "stdout",
     "output_type": "stream",
     "text": [
      "Programmer!\n",
      "Not programmer\n",
      "This is true\n",
      "wasCar is true\n"
     ]
    }
   ],
   "source": [
    "boolean isProgrammer = false;\n",
    "if (isProgrammer == false) {\n",
    "    System.out.println(\"Programmer!\");\n",
    "    System.out.println(\"Not programmer\");\n",
    "}\n",
    "\n",
    "int topScore = 80;\n",
    "int secondTopScore = 95;\n",
    "if ((topScore > secondTopScore) && (topScore < 100)) {\n",
    "    System.out.println(\"Greater than second top score and less than 100\");\n",
    "}\n",
    "\n",
    "if ((topScore > 90) || (secondTopScore <= 90)) {\n",
    "    System.out.println(\"Either or both of the conditions are true\");\n",
    "}\n",
    "\n",
    "int newValue = 50;\n",
    "if (newValue == 50) {\n",
    "    System.out.println(\"This is true\");\n",
    "}\n",
    "\n",
    "boolean isCar = false;\n",
    "if (isCar) {\n",
    "    System.out.println(\"This is not supposed to happen\");\n",
    "}\n",
    "\n",
    "isCar = true;\n",
    "boolean wasCar = isCar ? true : false;\n",
    "if (wasCar) {\n",
    "    System.out.println(\"wasCar is true\");\n",
    "}"
   ]
  },
  {
   "cell_type": "markdown",
   "id": "d1684d62-772f-4595-b768-85f464f9974c",
   "metadata": {},
   "source": [
    "### Instrukcja warunkowa ``switch``"
   ]
  },
  {
   "cell_type": "code",
   "execution_count": 26,
   "id": "7c828197-b2ed-4965-bd3b-c05751160ab8",
   "metadata": {},
   "outputs": [
    {
     "name": "stdout",
     "output_type": "stream",
     "text": [
      "Was not 1,2,3, 4 or 5\n",
      "Could not find A, B, C, D or E\n",
      "Jun\n"
     ]
    }
   ],
   "source": [
    "int switchValue = 6;\n",
    "\n",
    "switch(switchValue) {\n",
    "    case 1:\n",
    "        System.out.println(\"Value was 1\");\n",
    "        break;\n",
    "\n",
    "    case 2:\n",
    "        System.out.println(\"Value was 2\");\n",
    "        break;\n",
    "\n",
    "    case 3:case 4:case 5:\n",
    "        System.out.println(\"was a 3 or a 4, or a 5\");\n",
    "        System.out.println(\"Actually it was a \" + switchValue);\n",
    "        break;\n",
    "\n",
    "    default:\n",
    "        System.out.println(\"Was not 1,2,3, 4 or 5\");\n",
    "    break;\n",
    "}\n",
    "\n",
    "char charValue = 'G';\n",
    "switch(charValue) {\n",
    "    case 'A':\n",
    "        System.out.println(\"A was found\");\n",
    "        break;\n",
    "    case 'B':\n",
    "        System.out.println(\"B was found\");\n",
    "        break;\n",
    "    case 'C': case 'D' : case 'E':\n",
    "        System.out.println(charValue + \" was found\");\n",
    "        break;\n",
    "\n",
    "    default:\n",
    "        System.out.println(\"Could not find A, B, C, D or E\");\n",
    "        break;\n",
    "}\n",
    "\n",
    "String month = \"JUNE\";\n",
    "switch(month.toUpperCase()) {\n",
    "    case \"JANUARY\":\n",
    "        System.out.println(\"Jan\");\n",
    "        break;\n",
    "    case \"JUNE\":\n",
    "        System.out.println(\"Jun\");\n",
    "        break;\n",
    "    default:\n",
    "        System.out.println(\"Not sure\");\n",
    "}"
   ]
  },
  {
   "cell_type": "markdown",
   "id": "f1095916-958e-44f8-8a18-608a5bb371cc",
   "metadata": {},
   "source": [
    "### Pętla ``for`` i ``foreach``"
   ]
  },
  {
   "cell_type": "code",
   "execution_count": 27,
   "id": "184fe0ad-a8ed-43cc-b770-9ed0644a941e",
   "metadata": {},
   "outputs": [
    {
     "name": "stdout",
     "output_type": "stream",
     "text": [
      "0\n",
      "2\n",
      "4\n",
      "6\n",
      "8\n",
      "10\n"
     ]
    }
   ],
   "source": [
    "for (int i = 0; i <= 10; i = i + 2) {\n",
    "  System.out.println(i);\n",
    "}"
   ]
  },
  {
   "cell_type": "code",
   "execution_count": 28,
   "id": "d8fe0a34-d517-45d4-9fb0-2ce5f49666ab",
   "metadata": {},
   "outputs": [
    {
     "name": "stdout",
     "output_type": "stream",
     "text": [
      "A\n",
      "B\n",
      "F\n",
      "M\n"
     ]
    }
   ],
   "source": [
    "char[] letters = {'A', 'B', 'F', 'M'};\n",
    "for (char i : letters) {\n",
    "  System.out.println(i);\n",
    "}"
   ]
  },
  {
   "cell_type": "markdown",
   "id": "7485585e-1f5b-43d9-b04a-5f50a5128f0d",
   "metadata": {},
   "source": [
    "### Pętla ``while`` i ``do while``"
   ]
  },
  {
   "cell_type": "code",
   "execution_count": 29,
   "id": "7d113dda-b945-48e9-912b-f9ed8aa5e241",
   "metadata": {},
   "outputs": [
    {
     "name": "stdout",
     "output_type": "stream",
     "text": [
      "0\n",
      "1\n",
      "2\n",
      "3\n",
      "4\n"
     ]
    }
   ],
   "source": [
    "int i = 0;\n",
    "while (i < 5) {\n",
    "  System.out.println(i);\n",
    "  i++;\n",
    "}"
   ]
  },
  {
   "cell_type": "code",
   "execution_count": 30,
   "id": "171d4461-e224-4168-97f5-b2cd98660fc1",
   "metadata": {},
   "outputs": [
    {
     "name": "stdout",
     "output_type": "stream",
     "text": [
      "0\n",
      "1\n",
      "2\n",
      "3\n",
      "4\n"
     ]
    }
   ],
   "source": [
    "int i = 0;\n",
    "do {\n",
    "  System.out.println(i);\n",
    "  i++;\n",
    "}\n",
    "while (i < 5);"
   ]
  },
  {
   "cell_type": "markdown",
   "id": "f1705ac9-6050-4091-8786-2686f5d072fa",
   "metadata": {},
   "source": [
    "### Instrukcje ``break`` i ``continue``"
   ]
  },
  {
   "cell_type": "code",
   "execution_count": 31,
   "id": "15302e62-b7b1-4a77-929c-d57fbfcdaed3",
   "metadata": {},
   "outputs": [
    {
     "name": "stdout",
     "output_type": "stream",
     "text": [
      "0\n",
      "1\n",
      "2\n",
      "3\n"
     ]
    }
   ],
   "source": [
    "for (int i = 0; i < 10; i++) {\n",
    "  if (i == 4) {\n",
    "    break;\n",
    "  }\n",
    "  System.out.println(i);\n",
    "}"
   ]
  },
  {
   "cell_type": "code",
   "execution_count": 32,
   "id": "5fbf1009-9e8b-4894-b640-6b45c172b38a",
   "metadata": {},
   "outputs": [
    {
     "name": "stdout",
     "output_type": "stream",
     "text": [
      "0\n",
      "1\n",
      "2\n",
      "3\n",
      "5\n",
      "6\n",
      "7\n",
      "8\n",
      "9\n"
     ]
    }
   ],
   "source": [
    "for (int i = 0; i < 10; i++) {\n",
    "  if (i == 4) {\n",
    "    continue;\n",
    "  }\n",
    "  System.out.println(i);\n",
    "}"
   ]
  },
  {
   "cell_type": "markdown",
   "id": "a4e14095-7645-434d-98e5-ad49464c284c",
   "metadata": {},
   "source": [
    "## 1.4 Tablice - podstawy"
   ]
  },
  {
   "cell_type": "markdown",
   "id": "559b9447-384b-4998-84f2-568e1483a015",
   "metadata": {},
   "source": [
    "Tablica jest typem zmiennej obiektowe służącej jako kontener dla danych zgrupowanych pod wspólną nazwą. Tablice w ``Javie`` działają inaczej niż w ``C/C++``,\n",
    "poniżej kilka właściwości/cech tablic w ``Javie``:\n",
    "- w Javie tablice są alokowane dynamicznie\n",
    "- tablice są typami obiektowymi\n",
    "- indeksy w tablicy rozpoczynają się od zera\n",
    "- rozmiar tablicy musi być określony przez ``int``\n",
    "- dziedziczy po klasie ``Object``"
   ]
  },
  {
   "cell_type": "code",
   "execution_count": 33,
   "id": "1a9bbc7f-02ed-45c7-b62d-c2c74bb78382",
   "metadata": {},
   "outputs": [],
   "source": [
    "// deklaracja tablicy przechowujacej 10 liczb typu int\n",
    "int [] array1 = new int [10];\n",
    "\n",
    "// deklaracja tablicy 0- elementowej16 ROZDZIAŁ 2. FUNDAMENTY\n",
    "long [] array2 = new long [0];\n",
    "\n",
    "// deklaracja tablicy w stylu C\n",
    "double array3 [] = new double [2];\n",
    "\n",
    "// deklaracja i inicjacja tablicy\n",
    "// tutaj nie podajemy rozmiaru tablicy\n",
    "int [] array4 = new int []{1 , 2, 3, 4};"
   ]
  },
  {
   "cell_type": "markdown",
   "id": "94eb6db9-20f9-4d36-9b24-62ee0898a37e",
   "metadata": {},
   "source": [
    "Deklarując tablicę zostaje ona wypełniona wartościami domyślnymi (``0`` - dla tablicy typu ``int`` i ``null`` dla zmiennych referencyjnych (np. ``String``))."
   ]
  },
  {
   "cell_type": "markdown",
   "id": "05f385cf-1701-4dad-9d84-bb42859c3141",
   "metadata": {},
   "source": [
    "Ponieważ sama tablica jest obiektem i może przechowywać inne obiekty, więc może również przechowywać inne tablice (o różnych rozmiarach - **tablice niesymetryczne**)."
   ]
  },
  {
   "cell_type": "code",
   "execution_count": 34,
   "id": "79b7c12e-e2ae-41a9-8a74-1c5038935fde",
   "metadata": {},
   "outputs": [
    {
     "name": "stdout",
     "output_type": "stream",
     "text": [
      "[[1, 2], [0, 0, 0, 0], []]\n"
     ]
    }
   ],
   "source": [
    "int [] array1 = new int []{1 , 2};\n",
    "int [] array2 = new int [4];\n",
    "int [][] array = new int [][]{ array1 , array2 , new int [0]};\n",
    "\n",
    "System.out.println ( Arrays . deepToString ( array ));"
   ]
  },
  {
   "cell_type": "markdown",
   "id": "05f97bd8-604b-4498-816a-3440e9c4551a",
   "metadata": {},
   "source": [
    "## 1.5 Metody\n",
    "Podstawowa składnia metod w Javie wygląda następująco\n",
    "``return_type name (parameter_list) {\n",
    "// statements to execute\n",
    "}``\n",
    "czyli jako pierwszy podajemy typ zwracany, następnie podajemy nazwę metody\n",
    "i w nawiasie listę argumentów"
   ]
  },
  {
   "cell_type": "code",
   "execution_count": 3,
   "id": "228325bf-af6e-4140-989a-40bb5ca73108",
   "metadata": {},
   "outputs": [
    {
     "name": "stdout",
     "output_type": "stream",
     "text": [
      "Your final score was 2310\n"
     ]
    },
    {
     "data": {
      "text/plain": [
       "2310"
      ]
     },
     "execution_count": 3,
     "metadata": {},
     "output_type": "execute_result"
    }
   ],
   "source": [
    "public static int calculate(int score, int levels, int extra) {\n",
    "    int finalScore = (score * levels) + bonus;\n",
    "    System.out.println(\"Your final score is \" + finalScore);\n",
    "    return finalScore;\n",
    "}\n",
    "\n",
    "int score = 10;\n",
    "int levelCompleted = 12;\n",
    "int bonus = 25;\n",
    "\n",
    "calculateScore(gameOver, score, levelCompleted, bonus);"
   ]
  },
  {
   "cell_type": "markdown",
   "id": "90420768-8d9d-4262-86ac-d52e272805b9",
   "metadata": {},
   "source": [
    "# Lista 1\n",
    "\n",
    "## Zad 1 - **2 pkt**\n",
    "\n",
    "Wypisz wszystkie liczby od 1 do 100, jednak jeżeli liczba jest podzielna przez:\n",
    "- 3 - wypisz \"trzy\"\n",
    "- 5 - wypisz \"piec\"\n",
    "- 3 i 5 - wypisz \"trzypiec\"\n",
    "\n",
    "`\n",
    "1\n",
    "2\n",
    "trzy\n",
    "4\n",
    "piec\n",
    "6\n",
    "7\n",
    "8\n",
    "9\n",
    "10\n",
    "11\n",
    "12\n",
    "13\n",
    "14\n",
    "trzypiec\n",
    "`"
   ]
  },
  {
   "cell_type": "markdown",
   "id": "cd5ee6b5-fbcd-4746-8f41-735deae94b79",
   "metadata": {},
   "source": [
    "## Zad 2 - **2 pkt**\n",
    "\n",
    "Rozszerz Zad 1 o liczbę 7.\n",
    "Jeżeli liczba jest podzielna przez:\n",
    "- 7 - wypisz \"siedem\"\n",
    "- 3 i 7 - wypisz \"trzysiedem\"\n",
    "- 5 i 7 - wypisz \"piecsiedem\"\n",
    "- 3, 5 i 7 - wypisz \"trzypiecsiedem\""
   ]
  },
  {
   "cell_type": "markdown",
   "id": "77a78eeb-68c6-45f8-9afe-26dac96f864d",
   "metadata": {},
   "source": [
    "## Zad 3 - **2 pkt**\n",
    "\n",
    "Rozszerz Zad 2 o liczby 11 i 13.\n",
    "Jeżeli liczba jest podzielna przez:\n",
    "- 11 - wypisz \"jedenascie\"\n",
    "- 3 i 11 - wypisz \"trzyjedenascie\"\n",
    "- 3, 5, 7 i 11 - wypisz \"trzypiecsiedemjedenascie\"\n",
    "- itd..."
   ]
  },
  {
   "cell_type": "markdown",
   "id": "1a39605c-2a99-43e5-bc32-c7f23348e842",
   "metadata": {},
   "source": [
    "## Zad 4 - **4 pkt**\n",
    "\n",
    "Napisz funkcję ``missingNumber``, która jako argument przyjmuje tablicę ``N`` liczb naturalnych. W tablicy wszystkie elementy są unikalne. Tablica ma długość ``N``. W tablicy brakuje jednego elementu z zakresu. Funkcja missingNumber powinna zwrócić brakujący element:\n"
   ]
  },
  {
   "cell_type": "code",
   "execution_count": null,
   "id": "f1587aea-92f7-493b-b57f-355bdb513c65",
   "metadata": {},
   "outputs": [],
   "source": [
    "int[] tab = new int[]{2, 4, 5, 3, 0, 6}; // N = 6\n",
    "System.out.println(missingNumber(tab));"
   ]
  },
  {
   "cell_type": "markdown",
   "id": "5d74dfc8-e2e3-43f7-89c2-4b32fe31666a",
   "metadata": {},
   "source": [
    "``1``"
   ]
  },
  {
   "cell_type": "code",
   "execution_count": null,
   "id": "7be34f4f-a354-4f81-a7e3-0aca0b5d8565",
   "metadata": {},
   "outputs": [],
   "source": [
    "int[] tab = new int[]{0, 1, 2, 3}; // N = 4\n",
    "System.out.println(missingNumber(tab));"
   ]
  },
  {
   "cell_type": "markdown",
   "id": "698e8c0c-fdae-42a6-b225-daf39bc82dac",
   "metadata": {},
   "source": [
    "``4``"
   ]
  },
  {
   "cell_type": "markdown",
   "id": "cac71dbf-d7b5-4725-b36d-20a58b3e2fba",
   "metadata": {},
   "source": [
    "### Oceny\n",
    "\n",
    "|**ocena**|**punkty**|\n",
    "|:---:|:---:|\n",
    "|3,0 | 6 pkt|\n",
    "|3,5 | 7 pkt|\n",
    "|4,0 | 8 pkt|\n",
    "|4,5 | 9 pkt|\n",
    "|5,0 | 10 pkt|"
   ]
  }
 ],
 "metadata": {
  "kernelspec": {
   "display_name": "Java",
   "language": "java",
   "name": "java"
  },
  "language_info": {
   "codemirror_mode": "java",
   "file_extension": ".jshell",
   "mimetype": "text/x-java-source",
   "name": "Java",
   "pygments_lexer": "java",
   "version": "17+35-2724"
  }
 },
 "nbformat": 4,
 "nbformat_minor": 5
}
