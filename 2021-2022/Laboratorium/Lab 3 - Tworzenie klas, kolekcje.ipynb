{
 "cells": [
  {
   "cell_type": "markdown",
   "id": "86652e8c-4d3b-4edf-9aff-921a1c76d8b8",
   "metadata": {},
   "source": [
    "# 3. Java, Kotlin - Tworzenie klas, kotlekcje"
   ]
  },
  {
   "cell_type": "markdown",
   "id": "db3e7c08-a620-4f19-b5ad-a36e058934bb",
   "metadata": {},
   "source": [
    "## 3.1 Zasięg parametrów"
   ]
  },
  {
   "cell_type": "code",
   "execution_count": 2,
   "id": "ae44e53b-d51a-4214-b279-e31ec9b95f85",
   "metadata": {},
   "outputs": [
    {
     "name": "stdout",
     "output_type": "stream",
     "text": [
      "Rafał\n"
     ]
    }
   ],
   "source": [
    "class Student (val firstName: String, val index: Int)\n",
    "\n",
    "val student = Student(\"Rafał\", 210472)\n",
    "\n",
    "println(student.firstName)"
   ]
  },
  {
   "cell_type": "code",
   "execution_count": 4,
   "id": "0342f2f3-df2c-42c4-881d-72242b4d0562",
   "metadata": {},
   "outputs": [
    {
     "name": "stderr",
     "output_type": "stream",
     "text": [
      "Line_3.jupyter-kts (5:17 - 26) Cannot access 'firstName': it is private in 'Student'"
     ]
    }
   ],
   "source": [
    "class Student (private val firstName: String, private val index: Int)\n",
    "\n",
    "val student = Student(\"Rafał\", 210472)\n",
    "\n",
    "println(student.firstName)"
   ]
  },
  {
   "cell_type": "code",
   "execution_count": 3,
   "id": "9a7a816c-1caf-4aaf-9ffc-231fdad09c2f",
   "metadata": {},
   "outputs": [
    {
     "name": "stderr",
     "output_type": "stream",
     "text": [
      "Line_2.jupyter-kts (1:16 - 25) Parameter 'firstName' is never used\n",
      "Line_2.jupyter-kts (1:35 - 40) Parameter 'index' is never used\n",
      "Line_2.jupyter-kts (5:17 - 26) Unresolved reference: firstName"
     ]
    }
   ],
   "source": [
    "class Student (firstName: String, index: Int)\n",
    "\n",
    "val student = Student(\"Rafał\", 210472)\n",
    "\n",
    "println(student.firstName)"
   ]
  },
  {
   "cell_type": "code",
   "execution_count": 5,
   "id": "ec4384ff-be67-4fbe-8991-9252388ab2eb",
   "metadata": {},
   "outputs": [
    {
     "name": "stdout",
     "output_type": "stream",
     "text": [
      "Rafał\n"
     ]
    }
   ],
   "source": [
    "class Student (firstName: String, index: Int){\n",
    "    val firstName: String\n",
    "    val index: Int\n",
    "    \n",
    "    init{\n",
    "        this.firstName = firstName\n",
    "        this.index = index\n",
    "    }\n",
    "}\n",
    "\n",
    "val student = Student(\"Rafał\", 210472)\n",
    "\n",
    "println(student.firstName)"
   ]
  },
  {
   "cell_type": "code",
   "execution_count": 6,
   "id": "90796974-dd60-4da3-a8d9-eb965ec242e8",
   "metadata": {},
   "outputs": [
    {
     "name": "stderr",
     "output_type": "stream",
     "text": [
      "Line_5.jupyter-kts (13:17 - 26) Cannot access 'firstName': it is private in 'Student'"
     ]
    }
   ],
   "source": [
    "class Student (firstName: String, index: Int){\n",
    "    private val firstName: String\n",
    "    val index: Int\n",
    "    \n",
    "    init{\n",
    "        this.firstName = firstName\n",
    "        this.index = index\n",
    "    }\n",
    "}\n",
    "\n",
    "val student = Student(\"Rafał\", 210472)\n",
    "\n",
    "println(student.firstName)"
   ]
  },
  {
   "cell_type": "code",
   "execution_count": 7,
   "id": "26279a3c-1f32-4db5-a5a2-7496abc3d2a1",
   "metadata": {},
   "outputs": [
    {
     "name": "stdout",
     "output_type": "stream",
     "text": [
      "Rafał\n"
     ]
    }
   ],
   "source": [
    "class Student{\n",
    "    val firstName: String\n",
    "    val index: Int\n",
    "    \n",
    "    init{\n",
    "        this.firstName = \"Rafał\"\n",
    "        this.index = 210472\n",
    "    }\n",
    "}\n",
    "\n",
    "val student = Student()\n",
    "\n",
    "println(student.firstName)"
   ]
  },
  {
   "cell_type": "code",
   "execution_count": 8,
   "id": "165a2dab-1648-42b8-a695-f89997d63b41",
   "metadata": {},
   "outputs": [
    {
     "name": "stdout",
     "output_type": "stream",
     "text": [
      "Rafał\n"
     ]
    }
   ],
   "source": [
    "class Student{\n",
    "    val firstName: String = \"Rafał\"\n",
    "    val index: Int = 210472\n",
    "}\n",
    "\n",
    "val student = Student()\n",
    "\n",
    "println(student.firstName)"
   ]
  },
  {
   "cell_type": "code",
   "execution_count": 16,
   "id": "3cfe347a-8d09-414a-98a3-e3ece418cd78",
   "metadata": {},
   "outputs": [
    {
     "name": "stderr",
     "output_type": "stream",
     "text": [
      "Line_15.jupyter-kts (17:17 - 21) Cannot access 'name': it is private in 'Student'\n",
      "Line_15.jupyter-kts (18:9 - 13) Cannot access 'name': it is private in 'Student'\n",
      "Line_15.jupyter-kts (19:17 - 21) Cannot access 'name': it is private in 'Student'"
     ]
    }
   ],
   "source": [
    "class Student{\n",
    "    var name: String = \"Rafał\"\n",
    "        get(){\n",
    "            return field\n",
    "        }\n",
    "        set(value){\n",
    "            field = value + \" Lewandków\"\n",
    "        }\n",
    "    \n",
    "    var index: Int = 0\n",
    "        get(){return field}\n",
    "        set(value){field = value}\n",
    "}\n",
    "\n",
    "val student = Student()\n",
    "\n",
    "println(student.name)\n",
    "student.name = \"Rafał\"\n",
    "println(student.name)\n",
    "student.index = 210472\n",
    "println(student.index)"
   ]
  },
  {
   "cell_type": "code",
   "execution_count": 20,
   "id": "6c5b3bb5-7ebe-464c-9ce7-209fcbe945c5",
   "metadata": {},
   "outputs": [
    {
     "name": "stdout",
     "output_type": "stream",
     "text": [
      "Rafał\n",
      "Rafał Lewandków\n",
      "210472\n"
     ]
    }
   ],
   "source": [
    "class Student{\n",
    "    var name: String = \"Rafał\"\n",
    "        get(){\n",
    "            return field\n",
    "        }\n",
    "        private set(value){\n",
    "            field = value + \" Lewandków\"\n",
    "        }\n",
    "    \n",
    "    var index: Int = 0\n",
    "        get(){return field}\n",
    "        set(value){field = value}\n",
    "    \n",
    "    fun setName(){\n",
    "        this.name = \"Rafał\"\n",
    "    }\n",
    "}\n",
    "\n",
    "val student = Student()\n",
    "\n",
    "println(student.name)\n",
    "//student.name = \"Rafał\"\n",
    "student.setName()\n",
    "println(student.name)\n",
    "student.index = 210472\n",
    "println(student.index)"
   ]
  },
  {
   "cell_type": "code",
   "execution_count": 31,
   "id": "d697d4e7-b78d-4c0e-b968-e7c20d6bdf65",
   "metadata": {},
   "outputs": [
    {
     "name": "stdout",
     "output_type": "stream",
     "text": [
      "Rafał\n",
      "Robert Lewandków\n",
      "210472\n"
     ]
    }
   ],
   "source": [
    "class Student(name: String = \"Rafał\"){\n",
    "    var name: String = name\n",
    "        get() = field\n",
    "        set(value) {\n",
    "            field = value + \" Lewandków\"\n",
    "        }\n",
    "    \n",
    "    var index: Int = 0\n",
    "        get(){return field}\n",
    "        set(value){field = value}\n",
    "}\n",
    "\n",
    "val student = Student()\n",
    "\n",
    "println(student.name)\n",
    "student.name = \"Robert\"\n",
    "println(student.name)\n",
    "student.index = 210472\n",
    "println(student.index)"
   ]
  },
  {
   "cell_type": "code",
   "execution_count": 4,
   "id": "af2dc4e1-deb6-4d9d-b0cd-37715697fa7f",
   "metadata": {},
   "outputs": [
    {
     "name": "stdout",
     "output_type": "stream",
     "text": [
      "Rafał\n"
     ]
    }
   ],
   "source": [
    "public class Student{\n",
    "    \n",
    "    private String name;\n",
    "    \n",
    "    public Student(String name){\n",
    "        this.name = name;\n",
    "    }\n",
    "    \n",
    "    public String getName() {\n",
    "            return name;\n",
    "        }\n",
    "    \n",
    "    public void setName(String name) {\n",
    "            this.name = name;\n",
    "        }\n",
    "}\n",
    "\n",
    "Student student = new Student(\"Rafał\");\n",
    "System.out.println(student.getName());"
   ]
  },
  {
   "cell_type": "code",
   "execution_count": 22,
   "id": "55838545-8a8d-4ad1-bc13-a654309ba5c0",
   "metadata": {},
   "outputs": [
    {
     "name": "stdout",
     "output_type": "stream",
     "text": [
      "Rafał Lewandków\n",
      "Robert Lewandków\n",
      "210472\n"
     ]
    }
   ],
   "source": [
    "class Student{\n",
    "    //var name: String = name\n",
    "    var name: String = \"\"\n",
    "        get() = field\n",
    "        set(value) {\n",
    "            field = value + \" Lewandków\"\n",
    "        }\n",
    "    \n",
    "    var index: Int = 0\n",
    "        get(){return field}\n",
    "        set(value){field = value}\n",
    "        \n",
    "    constructor (name: String, index: Int){\n",
    "        this.name = name\n",
    "        this.index = index\n",
    "    }\n",
    "}\n",
    "\n",
    "val student = Student(\"Rafał\", 210400)\n",
    "\n",
    "println(student.name)\n",
    "student.name = \"Robert\"\n",
    "println(student.name)\n",
    "student.index = 210472\n",
    "println(student.index)"
   ]
  },
  {
   "cell_type": "code",
   "execution_count": 33,
   "id": "85e15252-a973-4e09-ba3a-b81f81e527f5",
   "metadata": {},
   "outputs": [
    {
     "name": "stdout",
     "output_type": "stream",
     "text": [
      "init\n",
      "Rafał Lewandków\n",
      "210400\n",
      "Robert Lewandków\n",
      "210472\n"
     ]
    }
   ],
   "source": [
    "class Student{\n",
    "    //var name: String = name\n",
    "    var name: String = \"\"\n",
    "        get() = field\n",
    "        set(value) {\n",
    "            field = value + \" Lewandków\"\n",
    "        }\n",
    "    \n",
    "    var index: Int = 0\n",
    "        get(){return field}\n",
    "        set(value){field = value}\n",
    "        \n",
    "    // constructor (name: String, index: Int){\n",
    "    //     this.name = name\n",
    "    //     this.index = index\n",
    "    // }\n",
    "        \n",
    "    init{\n",
    "        //this.name = name\n",
    "        //this.index = index\n",
    "        println(\"init\")\n",
    "    }\n",
    "    \n",
    "    // constructor (name2: String, index2: Int){\n",
    "    //     this.name = name2\n",
    "    //     this.index = index2\n",
    "    // }\n",
    "    \n",
    "}\n",
    "\n",
    "val student = Student(\"Rafał\", 210400)\n",
    "\n",
    "println(student.name)\n",
    "println(student.index)\n",
    "student.name = \"Robert\"\n",
    "println(student.name)\n",
    "student.index = 210472\n",
    "println(student.index)"
   ]
  },
  {
   "cell_type": "code",
   "execution_count": 32,
   "id": "994610bc-8e9b-470e-854c-44d76b714f1c",
   "metadata": {},
   "outputs": [
    {
     "name": "stdout",
     "output_type": "stream",
     "text": [
      "Speak! Speak! string\n"
     ]
    }
   ],
   "source": [
    "class Student {\n",
    "    fun speak() = \"Speak! \"\n",
    "    fun exercise() = this.speak() + speak() + \"string\"\n",
    "}\n",
    "\n",
    "val student = Student()\n",
    "println(student.exercise())"
   ]
  },
  {
   "cell_type": "code",
   "execution_count": null,
   "id": "f6b473ed-2e3f-4b25-9430-2a3095c12b0c",
   "metadata": {},
   "outputs": [],
   "source": [
    "## 3.2 "
   ]
  }
 ],
 "metadata": {
  "kernelspec": {
   "display_name": "Kotlin",
   "language": "kotlin",
   "name": "kotlin"
  },
  "language_info": {
   "codemirror_mode": "text/x-kotlin",
   "file_extension": ".kt",
   "mimetype": "text/x-kotlin",
   "name": "kotlin",
   "nbconvert_exporter": "",
   "pygments_lexer": "kotlin",
   "version": "1.6.20-dev-6372"
  }
 },
 "nbformat": 4,
 "nbformat_minor": 5
}
