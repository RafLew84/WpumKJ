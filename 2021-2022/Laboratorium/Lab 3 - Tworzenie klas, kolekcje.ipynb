{
 "cells": [
  {
   "cell_type": "markdown",
   "id": "86652e8c-4d3b-4edf-9aff-921a1c76d8b8",
   "metadata": {},
   "source": [
    "# 3. Java, Kotlin - Tworzenie klas - równość obiektów"
   ]
  },
  {
   "cell_type": "markdown",
   "id": "db3e7c08-a620-4f19-b5ad-a36e058934bb",
   "metadata": {},
   "source": [
    "## 3.1 Zasięg parametrów"
   ]
  },
  {
   "cell_type": "code",
   "execution_count": 2,
   "id": "ae44e53b-d51a-4214-b279-e31ec9b95f85",
   "metadata": {},
   "outputs": [
    {
     "name": "stdout",
     "output_type": "stream",
     "text": [
      "Rafał\n"
     ]
    }
   ],
   "source": [
    "class Student (val firstName: String, val index: Int)\n",
    "\n",
    "val student = Student(\"Rafał\", 210472)\n",
    "\n",
    "println(student.firstName)"
   ]
  },
  {
   "cell_type": "code",
   "execution_count": 41,
   "id": "0342f2f3-df2c-42c4-881d-72242b4d0562",
   "metadata": {},
   "outputs": [
    {
     "name": "stderr",
     "output_type": "stream",
     "text": [
      "Line_40.jupyter-kts (5:17 - 26) Cannot access 'firstName': it is private in 'Student2'"
     ]
    }
   ],
   "source": [
    "class Student2 (private val firstName: String, private val index: Int)\n",
    "\n",
    "val student = Student2(\"Rafał\", 210472)\n",
    "\n",
    "println(student.firstName)"
   ]
  },
  {
   "cell_type": "code",
   "execution_count": 42,
   "id": "9a7a816c-1caf-4aaf-9ffc-231fdad09c2f",
   "metadata": {},
   "outputs": [
    {
     "name": "stderr",
     "output_type": "stream",
     "text": [
      "Line_41.jupyter-kts (1:17 - 26) Parameter 'firstName' is never used\n",
      "Line_41.jupyter-kts (1:36 - 41) Parameter 'index' is never used\n",
      "Line_41.jupyter-kts (5:17 - 26) Unresolved reference: firstName"
     ]
    }
   ],
   "source": [
    "class Student3 (firstName: String, index: Int)\n",
    "\n",
    "val student = Student3(\"Rafał\", 210472)\n",
    "\n",
    "println(student.firstName)"
   ]
  },
  {
   "cell_type": "code",
   "execution_count": 43,
   "id": "ec4384ff-be67-4fbe-8991-9252388ab2eb",
   "metadata": {},
   "outputs": [
    {
     "name": "stdout",
     "output_type": "stream",
     "text": [
      "Rafał\n"
     ]
    }
   ],
   "source": [
    "class Student4 (firstName: String, index: Int){\n",
    "    val firstName: String\n",
    "    val index: Int\n",
    "    \n",
    "    init{\n",
    "        this.firstName = firstName\n",
    "        this.index = index\n",
    "    }\n",
    "}\n",
    "\n",
    "val student = Student4(\"Rafał\", 210472)\n",
    "\n",
    "println(student.firstName)"
   ]
  },
  {
   "cell_type": "code",
   "execution_count": 44,
   "id": "90796974-dd60-4da3-a8d9-eb965ec242e8",
   "metadata": {},
   "outputs": [
    {
     "name": "stderr",
     "output_type": "stream",
     "text": [
      "Line_43.jupyter-kts (13:17 - 26) Cannot access 'firstName': it is private in 'Student5'"
     ]
    }
   ],
   "source": [
    "class Student5 (firstName: String, index: Int){\n",
    "    private val firstName: String\n",
    "    val index: Int\n",
    "    \n",
    "    init{\n",
    "        this.firstName = firstName\n",
    "        this.index = index\n",
    "    }\n",
    "}\n",
    "\n",
    "val student = Student5(\"Rafał\", 210472)\n",
    "\n",
    "println(student.firstName)"
   ]
  },
  {
   "cell_type": "code",
   "execution_count": 45,
   "id": "26279a3c-1f32-4db5-a5a2-7496abc3d2a1",
   "metadata": {},
   "outputs": [
    {
     "name": "stdout",
     "output_type": "stream",
     "text": [
      "Rafał\n"
     ]
    }
   ],
   "source": [
    "class Student6{\n",
    "    val firstName: String\n",
    "    val index: Int\n",
    "    \n",
    "    init{\n",
    "        this.firstName = \"Rafał\"\n",
    "        this.index = 210472\n",
    "    }\n",
    "}\n",
    "\n",
    "val student = Student6()\n",
    "\n",
    "println(student.firstName)"
   ]
  },
  {
   "cell_type": "code",
   "execution_count": 46,
   "id": "165a2dab-1648-42b8-a695-f89997d63b41",
   "metadata": {},
   "outputs": [
    {
     "name": "stdout",
     "output_type": "stream",
     "text": [
      "Rafał\n"
     ]
    }
   ],
   "source": [
    "class Student7{\n",
    "    val firstName: String = \"Rafał\"\n",
    "    val index: Int = 210472\n",
    "}\n",
    "\n",
    "val student = Student7()\n",
    "\n",
    "println(student.firstName)"
   ]
  },
  {
   "cell_type": "code",
   "execution_count": 47,
   "id": "3cfe347a-8d09-414a-98a3-e3ece418cd78",
   "metadata": {},
   "outputs": [
    {
     "name": "stdout",
     "output_type": "stream",
     "text": [
      "Rafał\n",
      "Rafał Lewandków\n",
      "210472\n"
     ]
    }
   ],
   "source": [
    "class Student8{\n",
    "    var name: String = \"Rafał\"\n",
    "        get(){\n",
    "            return field\n",
    "        }\n",
    "        set(value){\n",
    "            field = value + \" Lewandków\"\n",
    "        }\n",
    "    \n",
    "    var index: Int = 0\n",
    "        get(){return field}\n",
    "        set(value){field = value}\n",
    "}\n",
    "\n",
    "val student = Student8()\n",
    "\n",
    "println(student.name)\n",
    "student.name = \"Rafał\"\n",
    "println(student.name)\n",
    "student.index = 210472\n",
    "println(student.index)"
   ]
  },
  {
   "cell_type": "code",
   "execution_count": 10,
   "id": "6c5b3bb5-7ebe-464c-9ce7-209fcbe945c5",
   "metadata": {},
   "outputs": [
    {
     "name": "stdout",
     "output_type": "stream",
     "text": [
      "Rafał\n",
      "Rafał Lewandków\n",
      "210472\n"
     ]
    }
   ],
   "source": [
    "class Student9{\n",
    "    var name: String = \"Rafał\"\n",
    "        get(){\n",
    "            return field\n",
    "        }\n",
    "        private set(value){\n",
    "            field = value + \" Lewandków\"\n",
    "        }\n",
    "    \n",
    "    var index: Int = 0\n",
    "        get(){return field}\n",
    "        set(value){field = value}\n",
    "    \n",
    "        fun setName(){\n",
    "        this.name = \"Rafał\"\n",
    "    }\n",
    "}\n",
    "\n",
    "val student = Student9()\n",
    "\n",
    "println(student.name)\n",
    "//student.name = \"Rafał\"\n",
    "student.setName()\n",
    "println(student.name)\n",
    "student.index = 210472\n",
    "println(student.index)"
   ]
  },
  {
   "cell_type": "code",
   "execution_count": 14,
   "id": "db49107f-daad-45ca-bed8-4eb652b1db06",
   "metadata": {},
   "outputs": [
    {
     "name": "stdout",
     "output_type": "stream",
     "text": [
      "Rafał\n",
      "Robert Lewandków\n"
     ]
    }
   ],
   "source": [
    "open class Student9{\n",
    "    var name: String = \"Rafał\"\n",
    "        get(){\n",
    "            return field\n",
    "        }\n",
    "        protected set(value){\n",
    "            field = value + \" Lewandków\"\n",
    "        }\n",
    "    \n",
    "    var index: Int = 0\n",
    "        get(){return field}\n",
    "        set(value){field = value}\n",
    "}\n",
    "\n",
    "class WFiAStudent(): Student9(){\n",
    "    fun setStudentName(name: String){\n",
    "        super.name = name\n",
    "    }\n",
    "}\n",
    "\n",
    "val student = WFiAStudent()\n",
    "\n",
    "println(student.name)\n",
    "//student.name = \"Robert\"\n",
    "student.setStudentName(\"Robert\")\n",
    "println(student.name)"
   ]
  },
  {
   "cell_type": "code",
   "execution_count": 1,
   "id": "d697d4e7-b78d-4c0e-b968-e7c20d6bdf65",
   "metadata": {},
   "outputs": [
    {
     "name": "stdout",
     "output_type": "stream",
     "text": [
      "Rafał\n",
      "Robert Lewandków\n",
      "210472\n"
     ]
    }
   ],
   "source": [
    "class Student10(name: String = \"Rafał\"){\n",
    "    var name: String = name\n",
    "        get() = field\n",
    "        set(value) {\n",
    "            field = value + \" Lewandków\"\n",
    "        }\n",
    "    \n",
    "    var index: Int = 0\n",
    "        get(){return field}\n",
    "        set(value){field = value}\n",
    "}\n",
    "\n",
    "val student = Student10()\n",
    "\n",
    "println(student.name)\n",
    "student.name = \"Robert\"\n",
    "println(student.name)\n",
    "student.index = 210472\n",
    "println(student.index)"
   ]
  },
  {
   "cell_type": "code",
   "execution_count": 2,
   "id": "af2dc4e1-deb6-4d9d-b0cd-37715697fa7f",
   "metadata": {},
   "outputs": [
    {
     "name": "stdout",
     "output_type": "stream",
     "text": [
      "Rafał\n"
     ]
    }
   ],
   "source": [
    "public class Student11{\n",
    "    \n",
    "    private String name;\n",
    "    \n",
    "    public Student11(String name){\n",
    "        this.name = name;\n",
    "    }\n",
    "    \n",
    "    public String getName() {\n",
    "            return name;\n",
    "        }\n",
    "    \n",
    "    public void setName(String name) {\n",
    "            this.name = name;\n",
    "        }\n",
    "}\n",
    "\n",
    "Student11 student = new Student11(\"Rafał\");\n",
    "System.out.println(student.getName());"
   ]
  },
  {
   "cell_type": "code",
   "execution_count": 1,
   "id": "55838545-8a8d-4ad1-bc13-a654309ba5c0",
   "metadata": {},
   "outputs": [
    {
     "name": "stdout",
     "output_type": "stream",
     "text": [
      "Rafał Lewandków\n",
      "Robert Lewandków\n",
      "210472\n"
     ]
    }
   ],
   "source": [
    "class Student12{\n",
    "    //var name: String = name\n",
    "    var name: String = \"\"\n",
    "        get() = field\n",
    "        set(value) {\n",
    "            field = value + \" Lewandków\"\n",
    "        }\n",
    "    \n",
    "    var index: Int = 0\n",
    "        get(){return field}\n",
    "        set(value){field = value}\n",
    "        \n",
    "    constructor (name: String, index: Int){\n",
    "        this.name = name\n",
    "        this.index = index\n",
    "    }\n",
    "}\n",
    "\n",
    "val student = Student12(\"Rafał\", 210400)\n",
    "\n",
    "println(student.name)\n",
    "student.name = \"Robert\"\n",
    "println(student.name)\n",
    "student.index = 210472\n",
    "println(student.index)"
   ]
  },
  {
   "cell_type": "code",
   "execution_count": 2,
   "id": "85e15252-a973-4e09-ba3a-b81f81e527f5",
   "metadata": {},
   "outputs": [
    {
     "name": "stderr",
     "output_type": "stream",
     "text": [
      "Line_1.jupyter-kts (31:25 - 32) Too many arguments for public constructor Student13() defined in Line_1.Student13\n",
      "Line_1.jupyter-kts (31:34 - 40) Too many arguments for public constructor Student13() defined in Line_1.Student13"
     ]
    }
   ],
   "source": [
    "class Student13{\n",
    "    //var name: String = name\n",
    "    var name: String = \"\"\n",
    "        get() = field\n",
    "        set(value) {\n",
    "            field = value + \" Lewandków\"\n",
    "        }\n",
    "    \n",
    "    var index: Int = 0\n",
    "        get(){return field}\n",
    "        set(value){field = value}\n",
    "        \n",
    "    // constructor (name: String, index: Int){\n",
    "    //     this.name = name\n",
    "    //     this.index = index\n",
    "    // }\n",
    "        \n",
    "    init{\n",
    "        //this.name = name\n",
    "        //this.index = index\n",
    "        println(\"init\")\n",
    "    }\n",
    "    \n",
    "    // constructor (name2: String, index2: Int){\n",
    "    //     this.name = name2\n",
    "    //     this.index = index2\n",
    "    // }\n",
    "    \n",
    "}\n",
    "\n",
    "val student = Student13(\"Rafał\", 210472)\n",
    "\n",
    "println(student.name)\n",
    "println(student.index)\n",
    "student.name = \"Robert\"\n",
    "println(student.name)\n",
    "student.index = 210472\n",
    "println(student.index)"
   ]
  },
  {
   "cell_type": "code",
   "execution_count": 6,
   "id": "994610bc-8e9b-470e-854c-44d76b714f1c",
   "metadata": {},
   "outputs": [
    {
     "name": "stdout",
     "output_type": "stream",
     "text": [
      "Speak! Speak! string\n"
     ]
    }
   ],
   "source": [
    "class Student14 {\n",
    "    fun speak() = \"Speak! \"\n",
    "    fun exercise() = this.speak() + speak() + \"string\"\n",
    "}\n",
    "\n",
    "val student = Student14()\n",
    "println(student.exercise())"
   ]
  },
  {
   "cell_type": "markdown",
   "id": "9251f986-d5c1-43f1-a001-270150943d46",
   "metadata": {},
   "source": [
    "## 3.2 Porównywanie obiektów"
   ]
  },
  {
   "cell_type": "markdown",
   "id": "cd4fd760-311f-4771-9b17-3e7bb75299d5",
   "metadata": {},
   "source": [
    "Równość typów prymitywnych w Javie sprawdzamy operatorami `==` i `!=`,dla typów zmiennoprzecinkowych istnieją odpowiednie metody `compare()`"
   ]
  },
  {
   "cell_type": "code",
   "execution_count": 1,
   "id": "8f44fff8-e079-4ad4-ab28-0908e791a234",
   "metadata": {},
   "outputs": [
    {
     "name": "stdout",
     "output_type": "stream",
     "text": [
      "1 == 1 true\n",
      "1 != 1 false\n",
      "'a' == 'a' true\n",
      "'a' != 'a' false\n",
      "5.0 == 5.0: true\n",
      "5.0 != 5.0: false\n"
     ]
    }
   ],
   "source": [
    "System.out.println(\"1 == 1 \" + (1 == 1));\n",
    "System.out.println(\"1 != 1 \" + (1 != 1));\n",
    "System.out.println(\"'a' == 'a' \" + ('a' == 'a'));\n",
    "System.out.println(\"'a' != 'a' \" + ('a' != 'a'));\n",
    "System.out.println(\"5.0 == 5.0 \" + (5.0 == 5.0));\n",
    "System.out.println(\"5.0 != 5.0 \" + (5.0 != 5.0));"
   ]
  },
  {
   "cell_type": "code",
   "execution_count": 12,
   "id": "2146d398-4880-4734-9344-c796ba519e72",
   "metadata": {},
   "outputs": [
    {
     "name": "stdout",
     "output_type": "stream",
     "text": [
      "5.0f == 5.0f 0\n",
      "5.0000f != 5.0001f -1\n",
      "5.0002f != 5.0001f 1\n"
     ]
    }
   ],
   "source": [
    "System.out.println(\"5.0f == 5.0f \" + Float.compare(5.0f, 5.0f));\n",
    "System.out.println(\"5.0000f != 5.0001f \" + Float.compare(5.0000f, 5.0001f));\n",
    "System.out.println(\"5.0002f != 5.0001f \" + Float.compare(5.0002f, 5.0001f));"
   ]
  },
  {
   "cell_type": "code",
   "execution_count": 13,
   "id": "043697e9-56d8-44ec-8e40-c8593ffd6e9a",
   "metadata": {},
   "outputs": [
    {
     "name": "stdout",
     "output_type": "stream",
     "text": [
      "5.0 == 5.0 0\n",
      "5.0000 != 5.0001 -1\n",
      "5.0002 != 5.0001 1\n"
     ]
    }
   ],
   "source": [
    "System.out.println(\"5.0 == 5.0 \" + Double.compare(5.0, 5.0));\n",
    "System.out.println(\"5.0000 != 5.0001 \" + Double.compare(5.0000, 5.0001));\n",
    "System.out.println(\"5.0002 != 5.0001 \" + Double.compare(5.0002, 5.0001));"
   ]
  },
  {
   "cell_type": "code",
   "execution_count": 1,
   "id": "0a91d2c4-eb64-420e-8da7-973de39de5ca",
   "metadata": {},
   "outputs": [
    {
     "name": "stdout",
     "output_type": "stream",
     "text": [
      "1 == 1 true\n",
      "1 != 1 false\n",
      "'a' == 'a' true\n",
      "'a' != 'a' false\n",
      "5.0 == 5.0 true\n",
      "5.0 != 5.0 false\n"
     ]
    }
   ],
   "source": [
    "println(\"1 == 1 \" + (1 == 1))\n",
    "println(\"1 != 1 \" + (1 != 1))\n",
    "println(\"'a' == 'a' \" + ('a' == 'a'))\n",
    "println(\"'a' != 'a' \" + ('a' != 'a'))\n",
    "println(\"5.0 == 5.0 \" + (5.0 == 5.0))\n",
    "println(\"5.0 != 5.0 \" + (5.0 != 5.0))"
   ]
  },
  {
   "cell_type": "code",
   "execution_count": 5,
   "id": "2c6abd18-2053-4590-afbf-896a95de399c",
   "metadata": {},
   "outputs": [
    {
     "name": "stdout",
     "output_type": "stream",
     "text": [
      "5.0f == 5.0f 0\n",
      "5.0000f != 5.0001f -1\n",
      "5.0002f != 5.0001f 1\n"
     ]
    }
   ],
   "source": [
    "println(\"5.0f == 5.0f \" + 5.0f.compareTo(5.0f))\n",
    "println(\"5.0000f != 5.0001f \" + 5.0000f.compareTo(5.0001f));\n",
    "println(\"5.0002f != 5.0001f \" + 5.0002f.compareTo(5.0001f));"
   ]
  },
  {
   "cell_type": "code",
   "execution_count": 6,
   "id": "efd21036-79ec-4cd3-baa8-267fe6a21cc7",
   "metadata": {},
   "outputs": [
    {
     "name": "stdout",
     "output_type": "stream",
     "text": [
      "5.0 == 5.0 0\n",
      "5.0000 != 5.0001 -1\n",
      "5.0002 != 5.0001 1\n"
     ]
    }
   ],
   "source": [
    "println(\"5.0 == 5.0 \" + 5.0.compareTo(5.0))\n",
    "println(\"5.0000 != 5.0001 \" + 5.0000.compareTo(5.0001));\n",
    "println(\"5.0002 != 5.0001 \" + 5.0002.compareTo(5.0001));"
   ]
  },
  {
   "cell_type": "markdown",
   "id": "633236fb-fc02-4342-a2d9-95d21ebbe2d7",
   "metadata": {},
   "source": [
    "operator fun compareTo(other: Byte): Int\n",
    "\n",
    "operator fun compareTo(other: Short): Int\n",
    "\n",
    "operator fun compareTo(other: Int): Int\n",
    "\n",
    "operator fun compareTo(other: Long): Int\n",
    "\n",
    "operator fun compareTo(other: Float): Int\n",
    "\n",
    "operator fun compareTo(other: Double): Int"
   ]
  },
  {
   "cell_type": "code",
   "execution_count": 4,
   "id": "c82da687-5c69-486a-984a-1f9a7c2d68a9",
   "metadata": {},
   "outputs": [
    {
     "name": "stdout",
     "output_type": "stream",
     "text": [
      "false\n",
      "true\n"
     ]
    }
   ],
   "source": [
    "System.out.println(new String(\"Rafał\") == new String(\"Rafał\"));\n",
    "System.out.println(new String(\"Rafał\").equals(new String(\"Rafał\")));"
   ]
  },
  {
   "cell_type": "code",
   "execution_count": 8,
   "id": "b6ed4630-74b3-47c5-a810-3a5d04a7c1ab",
   "metadata": {},
   "outputs": [
    {
     "name": "stdout",
     "output_type": "stream",
     "text": [
      "true\n",
      "true\n"
     ]
    }
   ],
   "source": [
    "String stra = \"Rafał\";\n",
    "String strb = \"Rafał\";\n",
    "System.out.println(stra == strb);\n",
    "System.out.println(stra.equals(strb));"
   ]
  },
  {
   "cell_type": "code",
   "execution_count": 9,
   "id": "9d1e5edf-4054-4acb-bf96-7c1299b51a05",
   "metadata": {},
   "outputs": [
    {
     "name": "stdout",
     "output_type": "stream",
     "text": [
      "false\n",
      "true\n"
     ]
    }
   ],
   "source": [
    "String stra = new String(\"Rafał\");\n",
    "String strb = new String(\"Rafał\");\n",
    "System.out.println(stra == strb);\n",
    "System.out.println(stra.equals(strb));"
   ]
  },
  {
   "cell_type": "code",
   "execution_count": 1,
   "id": "eb623c7a-eb60-4049-8524-2c0138369331",
   "metadata": {},
   "outputs": [
    {
     "name": "stdout",
     "output_type": "stream",
     "text": [
      "true\n",
      "true\n"
     ]
    }
   ],
   "source": [
    "var stra = \"Rafa\"\n",
    "var strb = \"Rafa\"\n",
    "\n",
    "println(stra == strb)\n",
    "println(stra === strb)"
   ]
  },
  {
   "cell_type": "code",
   "execution_count": 14,
   "id": "e1f88d9a-9948-4252-8488-d92b822d0fc2",
   "metadata": {},
   "outputs": [
    {
     "name": "stdout",
     "output_type": "stream",
     "text": [
      "true\n",
      "true\n"
     ]
    }
   ],
   "source": [
    "//var strc = String(\"Rafa\")\n",
    "var stra = String()\n",
    "var strb = String()\n",
    "\n",
    "stra = \"Rafa\"\n",
    "strb = \"Rafa\"\n",
    "\n",
    "println(stra == strb)\n",
    "println(stra === strb)"
   ]
  },
  {
   "cell_type": "markdown",
   "id": "b6dffb98-8c63-4a88-a9a8-0c4634cb576d",
   "metadata": {},
   "source": [
    "## 3.3 Porównanie strukturalne vs porównanie referencyjne"
   ]
  },
  {
   "cell_type": "markdown",
   "id": "10ba6566-7acd-42df-8116-e21cd579b29f",
   "metadata": {},
   "source": [
    "Obiekty możemy porównywać za pomocą metody `equals()`, w Kotlinie metoda ta jest niejawnie wywoływana przy użyciu operatora `==`.\n",
    "\n",
    "|    |    |    |\n",
    "|----|----|----|\n",
    "|Java|Kotlin| Porównanie |\n",
    "|`equals()`|`equals()`, `==`| strukturalne |\n",
    "|`==`|`===`| referencyjne |"
   ]
  },
  {
   "cell_type": "markdown",
   "id": "76bd6b46-d1a0-4b4a-b98b-80650ba2b538",
   "metadata": {},
   "source": [
    "Metoda `equals()` jest dostępna w klasie `Object` (Java) `Any` (Kotlin). Gdy tworzymy własną klasę możemy tą metodę nadpisać. Jeżeli chcemy posiadać możliwość sprawdzenia równości instancji naszej klasy powinniśmy dostarczyć implementację metody `equals()`. Kotlin dostarcza domyślną implementację.\n",
    "\n",
    "Wymagane cechy:\n",
    "- zwrotność - porównanie obiektu z samym sobą zwraca `true`\n",
    "- symetryczność - jeżeli X jest równy Y to Y jest równy X\n",
    "`X.equals(Y) == Y.equals(X)`\n",
    "- przechodność - jeżeli X jest równy Z i Y jest równy Z, to X jest równy Y\n",
    "`X.equals(Z) == Y.equals(Z) => X.equals(Y)`\n",
    "- spójność - wielokrotne wywołanie metody na tych samych obiektach powinno zwracać ten sam wynik za każdym razem\n",
    "- `null` - porównując obiekt z `null` metoda powinna zwrócić `false`"
   ]
  },
  {
   "cell_type": "code",
   "execution_count": 4,
   "id": "ef9c3551-928d-4e03-a274-0828302e931f",
   "metadata": {},
   "outputs": [],
   "source": [
    "public class Student15 {\n",
    "    private long studentId;\n",
    "    private String firstName;\n",
    "    private String lastName;\n",
    "    \n",
    "    @Override\n",
    "    public boolean equals(Object o){\n",
    "        if(o == null) \n",
    "            return false;\n",
    "        if(!(o instanceof Student15))\n",
    "            return false;\n",
    "\n",
    "        Student15 other = (Student15) o;\n",
    "        return this.studentId == other.studentId;\n",
    "  }\n",
    "}"
   ]
  },
  {
   "cell_type": "code",
   "execution_count": 9,
   "id": "4679c6ee-e124-43be-b924-e82b942a2665",
   "metadata": {},
   "outputs": [],
   "source": [
    "public class Student16 {\n",
    "    private long studentId;\n",
    "    private String firstName;\n",
    "    private String lastName;\n",
    "    \n",
    "    public Student16(long studentId, String firstName, String lastName){\n",
    "        this.studentId = studentId;\n",
    "        this.firstName = firstName;\n",
    "        this.lastName = lastName;\n",
    "    }\n",
    "    \n",
    "    @Override\n",
    "    public boolean equals(Object o){\n",
    "        if(o == null) \n",
    "            return false;\n",
    "        if(!(o instanceof Student16))\n",
    "            return false;\n",
    "\n",
    "        Student16 other = (Student16) o;\n",
    "        if(this.studentId != other.studentId) \n",
    "            return false;\n",
    "        \n",
    "        if(! this.firstName.equals(other.firstName)) \n",
    "            return false;\n",
    "        \n",
    "        if(! this.lastName.equals(other.lastName)) \n",
    "            return false;\n",
    "\n",
    "        return true;\n",
    "  }\n",
    "}"
   ]
  },
  {
   "cell_type": "code",
   "execution_count": 16,
   "id": "be8aa142-5e64-4210-8741-558ac97b6c6e",
   "metadata": {},
   "outputs": [
    {
     "name": "stdout",
     "output_type": "stream",
     "text": [
      "true\n"
     ]
    }
   ],
   "source": [
    "Student16 studenta = new Student16(1, \"Rafał\", \"Lewandków\");\n",
    "Student16 studentb = new Student16(1, \"Rafał\", \"Lewandków\");\n",
    "System.out.println(studenta.equals(studentb));"
   ]
  },
  {
   "cell_type": "markdown",
   "id": "1b23d1b3-d7a5-42b2-ae24-8fa05808d8ec",
   "metadata": {},
   "source": [
    "Poza metodą `equals()` drugą metodą pozwalającą porównywać i grupować obiekty jest `hashcode()`. Jeżeli dwa obiekty są równe (`equals` zwraca `true`), to posiadają takie same kody. Jeżeli kody są takie same, obiekty nie zawsze są równe."
   ]
  },
  {
   "cell_type": "code",
   "execution_count": 18,
   "id": "dd0cedb0-a3b9-4ef6-b6bd-edb4f4a92356",
   "metadata": {},
   "outputs": [],
   "source": [
    "public class Student17 {\n",
    "    private long studentId;\n",
    "    private String firstName;\n",
    "    private String lastName;\n",
    "    \n",
    "    public Student17(long studentId, String firstName, String lastName){\n",
    "        this.studentId = studentId;\n",
    "        this.firstName = firstName;\n",
    "        this.lastName = lastName;\n",
    "    }\n",
    "    \n",
    "    @Override\n",
    "    public boolean equals(Object o){\n",
    "        if(o == null) \n",
    "            return false;\n",
    "        if(!(o instanceof Student17))\n",
    "            return false;\n",
    "\n",
    "        Student17 other = (Student17) o;\n",
    "        if(this.studentId != other.studentId) \n",
    "            return false;\n",
    "        \n",
    "        if(! this.firstName.equals(other.firstName)) \n",
    "            return false;\n",
    "        \n",
    "        if(! this.lastName.equals(other.lastName)) \n",
    "            return false;\n",
    "\n",
    "        return true;\n",
    "    }\n",
    "    \n",
    "    @Override\n",
    "    public int hashCode(){\n",
    "        return (int) employeeId *\n",
    "                firstName.hashCode() *\n",
    "                lastName.hashCode();\n",
    "  }\n",
    "}"
   ]
  },
  {
   "cell_type": "markdown",
   "id": "dfc5eceb-5e33-4fb4-ab34-239173c80a31",
   "metadata": {},
   "source": [
    "Domyślna implementacja `hashCode()` nie uwzględnia pól klasy."
   ]
  },
  {
   "cell_type": "markdown",
   "id": "d25a59c2-59e2-458a-9e26-d1dafc9b4a9a",
   "metadata": {},
   "source": [
    "Domyślna implementacja metody `equals()` klasy `Any` sprawdza czy inny obiekt jest dokładnie tą samą instancją co obiekt sprawdzający. Domyślnie każdy obiekt jest unikalny"
   ]
  },
  {
   "cell_type": "code",
   "execution_count": 2,
   "id": "aaf8e027-51e6-47cb-9ffb-c3270415ea8c",
   "metadata": {},
   "outputs": [
    {
     "name": "stdout",
     "output_type": "stream",
     "text": [
      "true\n",
      "false\n",
      "true\n",
      "true\n",
      "false\n",
      "true\n"
     ]
    }
   ],
   "source": [
    "class Name(val name: String)\n",
    "val name1 = Name(\"Rafał\")\n",
    "val name2 = Name(\"Rafał\")\n",
    "val name1Ref = name1\n",
    "\n",
    "println(name1 == name1) // true\n",
    "println(name1 == name2) // false\n",
    "println(name1 == name1Ref) // true\n",
    "\n",
    "println(name1 === name1) // true\n",
    "println(name1 === name2) // false\n",
    "println(name1 === name1Ref) // true"
   ]
  },
  {
   "cell_type": "markdown",
   "id": "36bca11a-c177-4cea-817a-6ad82bd0478f",
   "metadata": {},
   "source": [
    "Jeżeli chcemy reprezentować równość obiektów przez ich zawartość, nie przez referencje, alternatywą są `data class`."
   ]
  },
  {
   "cell_type": "code",
   "execution_count": 4,
   "id": "c570a04f-1661-41ed-8b5b-6025a1f137e0",
   "metadata": {},
   "outputs": [
    {
     "name": "stdout",
     "output_type": "stream",
     "text": [
      "true\n",
      "true\n",
      "true\n",
      "true\n",
      "false\n",
      "true\n"
     ]
    }
   ],
   "source": [
    "data class Name(val name: String)\n",
    "val name1 = Name(\"Rafał\")\n",
    "val name2 = Name(\"Rafał\")\n",
    "val name1Ref = name1\n",
    "\n",
    "println(name1 == name1) // true\n",
    "println(name1 == name2) // true\n",
    "println(name1 == name1Ref) // true\n",
    "\n",
    "println(name1 === name1) // true\n",
    "println(name1 === name2) // false\n",
    "println(name1 === name1Ref) // true"
   ]
  },
  {
   "cell_type": "markdown",
   "id": "fbd0b3d3-ed9c-4bdd-817e-373325306f6b",
   "metadata": {},
   "source": [
    "Jeżeli nie chcemy porównywać wszystkich właściwości klas, możemy to osiągnąć poprzez zastosowanie `data class` i właściwości konstruktora głównego."
   ]
  },
  {
   "cell_type": "code",
   "execution_count": 9,
   "id": "a69a56aa-3c55-4016-9652-8555e96e45d0",
   "metadata": {},
   "outputs": [
    {
     "name": "stdout",
     "output_type": "stream",
     "text": [
      "false\n",
      "false\n",
      "OK\n",
      "FAIL\n",
      "false\n",
      "false\n"
     ]
    }
   ],
   "source": [
    "class Employee(\n",
    "    val name: String, \n",
    "    private val id: Int\n",
    "){\n",
    "    var contractStatus: String = \"FAIL\"\n",
    "}\n",
    "\n",
    "var em1 = Employee(\"Rafał\", 0)\n",
    "var em2 = Employee(\"Rafał\", 0)\n",
    "\n",
    "println(em1 == em2)\n",
    "println(em1 === em2)\n",
    "\n",
    "em1.contractStatus = \"OK\"\n",
    "\n",
    "println(em1.contractStatus)\n",
    "println(em2.contractStatus)\n",
    "\n",
    "println(em1 == em2)\n",
    "println(em1 === em2)"
   ]
  },
  {
   "cell_type": "code",
   "execution_count": 11,
   "id": "13fc0a15-3b2b-411a-ae7b-76073cc3038e",
   "metadata": {},
   "outputs": [
    {
     "name": "stdout",
     "output_type": "stream",
     "text": [
      "true\n",
      "false\n",
      "OK\n",
      "FAIL\n",
      "true\n",
      "false\n"
     ]
    }
   ],
   "source": [
    "data class Employee(\n",
    "    val name: String, \n",
    "    private val id: Int\n",
    "){\n",
    "    var contractStatus: String = \"FAIL\"\n",
    "}\n",
    "\n",
    "var em1 = Employee(\"Rafał\", 0)\n",
    "var em2 = Employee(\"Rafał\", 0)\n",
    "\n",
    "println(em1 == em2) // true\n",
    "println(em1 === em2) // false\n",
    "\n",
    "em1.contractStatus = \"OK\"\n",
    "\n",
    "println(em1.contractStatus)\n",
    "println(em2.contractStatus)\n",
    "\n",
    "println(em1 == em2) // true\n",
    "println(em1 === em2) // false"
   ]
  },
  {
   "cell_type": "markdown",
   "id": "f8b2e88a-2062-446a-97a8-8110be7c42bf",
   "metadata": {},
   "source": [
    "Porównywane są pola zawarte w konstruktorze głównym."
   ]
  },
  {
   "cell_type": "code",
   "execution_count": 13,
   "id": "0adbc7e0-f624-48d3-96e6-a6cd702aff0d",
   "metadata": {},
   "outputs": [
    {
     "name": "stdout",
     "output_type": "stream",
     "text": [
      "true\n",
      "false\n",
      "OK\n",
      "FAIL\n",
      "true\n",
      "false\n"
     ]
    }
   ],
   "source": [
    "class Employee(\n",
    "    val name: String, \n",
    "    private val id: Int\n",
    "){\n",
    "    var contractStatus: String = \"FAIL\"\n",
    "    \n",
    "    override fun equals(other: Any?): Boolean =\n",
    "                    other is Employee &&\n",
    "                    other.name == name &&\n",
    "                    other.id == id\n",
    "\n",
    "}\n",
    "\n",
    "var em1 = Employee(\"Rafał\", 0)\n",
    "var em2 = Employee(\"Rafał\", 0)\n",
    "\n",
    "println(em1 == em2) // true\n",
    "println(em1 === em2) // false\n",
    "\n",
    "em1.contractStatus = \"OK\"\n",
    "\n",
    "println(em1.contractStatus)\n",
    "println(em2.contractStatus)\n",
    "\n",
    "println(em1 == em2) // true\n",
    "println(em1 === em2) // false"
   ]
  },
  {
   "cell_type": "markdown",
   "id": "dca92e14-ee0a-48f6-8414-e86dc6d1e8e4",
   "metadata": {},
   "source": [
    "Dzięki posiadaniu `class` i `data class` prze Kotlin, konieczność dostarczenia własnej implementacji metody `equals()` występuje bardzo rzadko."
   ]
  },
  {
   "cell_type": "code",
   "execution_count": 14,
   "id": "bf829b8c-fc7a-4682-a43b-a1dee4102a94",
   "metadata": {},
   "outputs": [],
   "source": [
    "class User(\n",
    "    val id: Int,\n",
    "    val name: String,\n",
    "    val nickName: String\n",
    ") {\n",
    "    override fun equals(other: Any?): Boolean =\n",
    "        other is User && other.id == id\n",
    "\n",
    "    override fun hashCode(): Int = id\n",
    "}"
   ]
  },
  {
   "cell_type": "markdown",
   "id": "a7918878-33be-4039-b382-93405a329415",
   "metadata": {},
   "source": [
    "Implementacja metody `equals()` jest niezbędna gdy:\n",
    "- porównania obiektów dokonujemy na podstawie podzbioru właściwości\n",
    "- właściwości wykorzystywane do porównania nie są zawarte w konstruktorze głównym"
   ]
  },
  {
   "cell_type": "code",
   "execution_count": 20,
   "id": "9e97a653-8b91-4de7-b465-e41742d8b182",
   "metadata": {},
   "outputs": [
    {
     "name": "stdout",
     "output_type": "stream",
     "text": [
      "FullName(firstName=Rafał, lastName=Lewandków)\n",
      "false\n",
      "true\n"
     ]
    }
   ],
   "source": [
    "data class FullName(\n",
    "    var firstName: String,\n",
    "    var lastName: String\n",
    ")\n",
    "\n",
    "val person = FullName(\"Rafał\", \"Lewa\")\n",
    "val s = mutableSetOf<FullName>()\n",
    "s.add(person)\n",
    "person.lastName = \"Lewandków\"\n",
    "println(person)\n",
    "println(person in s) // false\n",
    "println(s.first() == person) // true\n"
   ]
  },
  {
   "cell_type": "markdown",
   "id": "eef94a7a-7171-42f1-b9af-ca70af89fb94",
   "metadata": {},
   "source": [
    "Stosowanie mutowalnych obiektów w strukturach danych bazujących na funkcjach hashujących lub organizowanych na podstawie właściwości, jest **niezalecane**."
   ]
  },
  {
   "cell_type": "code",
   "execution_count": 24,
   "id": "f03f96ff-e01c-4f38-b333-4b456003a8b5",
   "metadata": {},
   "outputs": [
    {
     "name": "stdout",
     "output_type": "stream",
     "text": [
      "false\n",
      "true\n"
     ]
    }
   ],
   "source": [
    "class FullName(\n",
    "    var firstName: String,\n",
    "    var lastName: String\n",
    ") {\n",
    "    \n",
    "    // warning: Class has equals() defined but not define hashCode()\n",
    "    override fun equals(other: Any?): Boolean =\n",
    "                other is FullName\n",
    "                && other.firstName == firstName\n",
    "                && other.lastName == lastName\n",
    "    \n",
    "    // override fun hashCode(): Int {\n",
    "    //     return firstName.hashCode() + lastName.hashCode()\n",
    "    // }\n",
    "\n",
    "}\n",
    "\n",
    "val s = mutableSetOf<FullName>()\n",
    "s.add(FullName(\"Rafał\", \"Lewandków\"))\n",
    "val p = FullName(\"Rafał\", \"Lewandków\")\n",
    "println(p in s) // false\n",
    "println(p == s.first()) // true\n"
   ]
  },
  {
   "cell_type": "markdown",
   "id": "4c2f8061-81fb-4872-b479-7e1c6a8d1343",
   "metadata": {},
   "source": [
    "## 3.4 `compareTo()`"
   ]
  },
  {
   "cell_type": "markdown",
   "id": "6559e7ef-055e-4021-9e1c-2d4cd7c87733",
   "metadata": {},
   "source": [
    "Operator `compareTo` jest zlokalizowany w interfejsie `Comparable<T>` - jeżeli klasa implementuje ten interfejs oznacza to że posiada naturalny porządek.\n",
    "\n",
    "Podstawowe cechy:\n",
    "- antysymetryczność - jeżeli `a>=b` i `b>=a` to `a==b`\n",
    "- przechodność - jeżeli `a>=b` i `b>=c` to `a>=c`\n",
    "- connex - musi istnieć relacja większościowa pomiędzy dowolnymi dwoma elementami.\n",
    "\n",
    "Konieczność dostarczenia własnej implementacji tej metody występuje bardzo rzadko. Zazwyczaj ustalamy hierarchię porządku."
   ]
  },
  {
   "cell_type": "code",
   "execution_count": 44,
   "id": "5db7383d-da86-41ce-8662-daf45cc8b2cf",
   "metadata": {},
   "outputs": [
    {
     "name": "stdout",
     "output_type": "stream",
     "text": [
      "Tadeusz Alinowski\n",
      "Rafał Baranowski\n",
      "Rafał Lewandków\n",
      "\n",
      "Rafał Lewandków\n",
      "Rafał Baranowski\n",
      "Tadeusz Alinowski\n",
      "\n",
      "Tadeusz Alinowski\n",
      "Rafał Baranowski\n",
      "Rafał Lewandków\n"
     ]
    }
   ],
   "source": [
    "class User(val firstName: String, val lastName: String)\n",
    "val names = listOf<User>(\n",
    "    User(\"Rafał\", \"Lewandków\"), \n",
    "    User(\"Tadeusz\", \"Alinowski\"),\n",
    "    User(\"Rafał\", \"Baranowski\"))\n",
    "\n",
    "var sorted = names.sortedBy { it.lastName }\n",
    "for(i in sorted)\n",
    "    println(i.firstName + \" \" + i.lastName)\n",
    "\n",
    "println()\n",
    "    \n",
    "sorted = names.sortedBy { it.firstName }\n",
    "for(i in sorted)\n",
    "    println(i.firstName + \" \" + i.lastName)\n",
    "  \n",
    "println()\n",
    "\n",
    "sorted = names.sortedWith(compareBy({ it.lastName }, { it.firstName }))\n",
    "for(i in sorted)\n",
    "    println(i.firstName + \" \" + i.lastName)"
   ]
  },
  {
   "cell_type": "code",
   "execution_count": null,
   "id": "e48c1ea3-56fa-48f6-9596-6b5c968d72a8",
   "metadata": {},
   "outputs": [],
   "source": []
  }
 ],
 "metadata": {
  "kernelspec": {
   "display_name": "Kotlin",
   "language": "kotlin",
   "name": "kotlin"
  },
  "language_info": {
   "codemirror_mode": "text/x-kotlin",
   "file_extension": ".kt",
   "mimetype": "text/x-kotlin",
   "name": "kotlin",
   "nbconvert_exporter": "",
   "pygments_lexer": "kotlin",
   "version": "1.6.20-dev-6372"
  }
 },
 "nbformat": 4,
 "nbformat_minor": 5
}
