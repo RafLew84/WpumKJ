{
 "cells": [
  {
   "cell_type": "markdown",
   "id": "9e6621b7-2b8e-4f7f-adcd-b8cbd06b61d1",
   "metadata": {},
   "source": [
    "# Lista 7\n",
    "\n",
    "**Rozwiąż zadania korzystając z `java.util.concurent.*` lub `kotlin.coroutines`**\n",
    "\n",
    "### Oceny\n",
    "\n",
    "|**ocena**|**punkty**|\n",
    "|:---:|:---:|\n",
    "|3,0 | 6 pkt|\n",
    "|3,5 | 7 pkt|\n",
    "|4,0 | 8 pkt|\n",
    "|4,5 | 9 pkt|\n",
    "|5,0 | 10 pkt|\n",
    "\n",
    "## Zad 1 - **3 pkt**\n",
    "\n",
    "Napisz program obliczający silnię z zadanej liczby. Wykorzystaj klasę `BigInteger` do przechowywania wyniku. Zadnie wykonaj z wykorzystaniem `N` wątków dzięląc zadanie na `N` podzadań.\n",
    "\n",
    "## Zad 2 - **3 pkt**\n",
    "\n",
    "Napisz program obliczający liczbę Eulera ze wzoru $$\\sum_{n=0}^{+\\infty} \\frac{1}{n!}$$\n",
    "\n",
    "dla n = 17\n",
    "\n",
    "e = 2.718281828459045070516047795848605061178979635251032698900735004065225042504843314055887974344245741730039454062711\n",
    "\n",
    "Możesz wykorzystać klasy `BigDecimal`, `MathContext`, `RoundingMode`.\n",
    "\n",
    "## Zad 3 - **4 pkt**\n",
    "Napisz program (wielowątkowo) znajdujący liczbę całkowitą z zakresu 1 - 100000 o największej liczbie dzielników.\n",
    "\n",
    "output:\n",
    "```java\n",
    "liczba = 83160\n",
    "liczba dzielników = 128\n",
    "```"
   ]
  },
  {
   "cell_type": "code",
   "execution_count": null,
   "id": "f0669466-287b-4f53-91d4-ce642969dc9d",
   "metadata": {},
   "outputs": [],
   "source": []
  }
 ],
 "metadata": {
  "kernelspec": {
   "display_name": "Java",
   "language": "java",
   "name": "java"
  },
  "language_info": {
   "codemirror_mode": "java",
   "file_extension": ".jshell",
   "mimetype": "text/x-java-source",
   "name": "Java",
   "pygments_lexer": "java",
   "version": "17+35-2724"
  }
 },
 "nbformat": 4,
 "nbformat_minor": 5
}
