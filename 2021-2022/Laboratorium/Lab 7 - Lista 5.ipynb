{
 "cells": [
  {
   "cell_type": "markdown",
   "id": "d4012e6b-1ed6-44fa-909b-f6cdadf536f7",
   "metadata": {
    "tags": []
   },
   "source": [
    "# Lista 5\n",
    "\n",
    "\n",
    "## Zad 1 - **1 pkt**\n",
    "\n",
    "Napisz funkcję przyjmującą listę liczb (`Int`, `Double`, `Float`) i zwracającą listę wszystkich dodatnich liczb o indeksach nieparzystych podniesionych do kwadratu.\n",
    "\n",
    "input\n",
    "<code>\n",
    "listOf(1, 2, 3.5, 5, -6, 1, 1)\n",
    "</code>\n",
    "\n",
    "output\n",
    "<code>\n",
    "[4, 25, 1]\n",
    "</code>\n",
    "\n",
    "## Zad 2 - **3 pkt**\n",
    "\n",
    "Napisz funkcję przyjmującą listę `String`. Funkcja zwraca posortowaną względem pierwszej litery listę pogupowanych list, zawierających tylko `String` o parzystej długości.\n",
    "\n",
    "input\n",
    "<code>\n",
    "listOf(\"cherry\", \"blueberry\", \"citrus\", \"apple\", \"apricot\", \"banana\", \"coconut\")\n",
    "</code>\n",
    "\n",
    "output\n",
    "<code>\n",
    "[(a, []), (b, [banana]), (c, [cherry, citrus])]\n",
    "</code>\n",
    "\n",
    "## Zad 3 - **2 pkt**\n",
    "\n",
    "Napisz funkcję przyjmującą `varargs: Int` zwracającą listę list wszystkich możliwych permutacji\n",
    "\n",
    "imput\n",
    "<code>\n",
    "permutations(1, 2, 3)\n",
    "</code>\n",
    "\n",
    "output\n",
    "<code>\n",
    "[[1, 2, 3], [1, 3, 2], [2, 1, 3], [2, 3, 1], [3, 1, 2], [3, 2, 1]]\n",
    "</code>\n",
    "## Zad 4 - **4 pkt**\n",
    "Napisz funkcję zwracającą liczbę. Funkcja przyjmuje długość preambuły w formie `N` oraz listę `List: Int`.\n",
    "- Preambuła zawiera unikalne liczby\n",
    "Załóżmy że mamy zadaną preambułę zawierającą liczby od 1 do 25 w przypadkowej kolejności. \n",
    "- Każda kolejna liczba musi być sumą dwóch różnych liczb znajdujących się w preambule. \n",
    "- Długość preambuły pozostaje zawsze niezmienna.\n",
    "- Kolejną liczbą może być 26 (suma 1 + 25 lub 2 + 24 itd) - liczba podana przez użytkownika\n",
    "- Teraz lista zawiera liczby od 1 do 26\n",
    "- Preambuła zawiera liczby od 2 do 26 - długość pozostaje niezmienna\n",
    "- Kolejną liczbą może być 51 (25 + 26)\n",
    "- Teraz preambuła zawiera liczby 3-26 oraz 51\n",
    "- Każda liczba musi być sumą dwóch różnych liczb z preambuły\n",
    "\n",
    "Funkcja zwraca pierwszą liczbę na liście, która nie spełnia tego warunku. Zakładamy że taka istnieje.\n",
    "\n",
    "input\n",
    "<code>\n",
    "check(5, listOf(35, 25, 15, 25, 47, 40, 62, 55, 65, 95, 102, 117, 150, 182, 127, 219, 299, 277, 309, 576))\n",
    "</code>\n",
    "\n",
    "output\n",
    "<code>\n",
    "127\n",
    "</code>\n",
    "\n",
    "sugerowane funkcje mogące pomóc w rozwiązaniu problemu: `any()`, `firstOrNull()`, `firstNotNullOfOrNull()`, `windowed()`, `takeIf()`, `scan()`"
   ]
  },
  {
   "cell_type": "markdown",
   "id": "523e1c66-c1cb-4635-b340-9bbd10e9bc89",
   "metadata": {},
   "source": [
    "### Oceny\n",
    "\n",
    "|**ocena**|**punkty**|\n",
    "|:---:|:---:|\n",
    "|3,0 | 6 pkt|\n",
    "|3,5 | 7 pkt|\n",
    "|4,0 | 8 pkt|\n",
    "|4,5 | 9 pkt|\n",
    "|5,0 | 10 pkt|"
   ]
  },
  {
   "cell_type": "code",
   "execution_count": null,
   "id": "8ee608c9-2df2-4a68-abcd-64e90bfce2ee",
   "metadata": {},
   "outputs": [],
   "source": []
  }
 ],
 "metadata": {
  "kernelspec": {
   "display_name": "Python 3 (ipykernel)",
   "language": "python",
   "name": "python3"
  },
  "language_info": {
   "codemirror_mode": {
    "name": "ipython",
    "version": 3
   },
   "file_extension": ".py",
   "mimetype": "text/x-python",
   "name": "python",
   "nbconvert_exporter": "python",
   "pygments_lexer": "ipython3",
   "version": "3.9.7"
  }
 },
 "nbformat": 4,
 "nbformat_minor": 5
}
